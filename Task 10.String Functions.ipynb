{
    "metadata": {
        "kernelspec": {
            "name": "SQL",
            "display_name": "SQL",
            "language": "sql"
        },
        "language_info": {
            "name": "sql",
            "version": ""
        }
    },
    "nbformat_minor": 2,
    "nbformat": 4,
    "cells": [
        {
            "cell_type": "code",
            "source": [
                "SELECT top 5 \r\n",
                "    reverse(EmployeeLastName)\r\n",
                "from DimEmployee"
            ],
            "metadata": {
                "azdata_cell_guid": "20dab0e0-6d99-415d-9947-d205209fc8cb",
                "language": "sql"
            },
            "outputs": [
                {
                    "output_type": "display_data",
                    "data": {
                        "text/html": "(5 rows affected)"
                    },
                    "metadata": {}
                },
                {
                    "output_type": "display_data",
                    "data": {
                        "text/html": "Total execution time: 00:00:00.019"
                    },
                    "metadata": {}
                },
                {
                    "output_type": "execute_result",
                    "metadata": {},
                    "execution_count": 5,
                    "data": {
                        "application/vnd.dataresource+json": {
                            "schema": {
                                "fields": [
                                    {
                                        "name": "(No column name)"
                                    }
                                ]
                            },
                            "data": [
                                {
                                    "(No column name)": "uopilihP"
                                },
                                {
                                    "(No column name)": "itteP"
                                },
                                {
                                    "(No column name)": "evolalluF"
                                },
                                {
                                    "(No column name)": "snossuB"
                                },
                                {
                                    "(No column name)": "irarreF eD"
                                }
                            ]
                        },
                        "text/html": [
                            "<table>",
                            "<tr><th>(No column name)</th></tr>",
                            "<tr><td>uopilihP</td></tr>",
                            "<tr><td>itteP</td></tr>",
                            "<tr><td>evolalluF</td></tr>",
                            "<tr><td>snossuB</td></tr>",
                            "<tr><td>irarreF eD</td></tr>",
                            "</table>"
                        ]
                    }
                }
            ],
            "execution_count": 5
        },
        {
            "cell_type": "markdown",
            "source": [
                "<span style=\"font-size: 11pt; font-family: Arial, sans-serif; color: rgb(0, 0, 0); background-color: transparent; font-variant-numeric: normal; font-variant-east-asian: normal; font-variant-alternates: normal; font-variant-position: normal; vertical-align: baseline; white-space-collapse: preserve;\">Concatenate the product name and product type in 1 column and name it CompleteProduct.</span>"
            ],
            "metadata": {
                "azdata_cell_guid": "6023d281-dd3a-4f0d-be0d-7c8252c10cb6"
            },
            "attachments": {}
        },
        {
            "cell_type": "code",
            "source": [
                "SELECT top 5\r\n",
                "    CONCAT(DP.ProductName,' ', DP.ProductName, '',  DC.CategoryRange) as productDescription\r\n",
                "from DimProduct DP \r\n",
                "join FactSales FS on FS.ProductCode = DP.ProductCode\r\n",
                "JOIN DimPromotion DPRO on DPRO.PromotionID = FS.PromotionID\r\n",
                "JOIN DimCategory DC on DC.CategoryID = DP.CategoryID\r\n",
                ""
            ],
            "metadata": {
                "azdata_cell_guid": "b429e5ae-ad69-4e65-8994-50b89f164975",
                "language": "sql"
            },
            "outputs": [
{
    "output_type": "display_data",
    "data": {
        "text/html": "(5 rows affected)"
    },
    "metadata": {}
}, {
    "output_type": "display_data",
    "data": {
        "text/html": "Total execution time: 00:00:00.018"
    },
    "metadata": {}
}, {
    "output_type": "execute_result",
    "metadata": {},
    "execution_count": 10,
    "data": {
        "application/vnd.dataresource+json": {
            "schema": {
                "fields": [
                    {
                        "name": "fullProduct"
                    }
                ]
            },
            "data": [
                {
                    "fullProduct": "Chocolate iced with sprinkles Chocolate iced with sprinklesDoughnuts"
                },
                {
                    "fullProduct": "Glazed lemon filled Glazed lemon filledDoughnuts"
                },
                {
                    "fullProduct": "Barm cake Barm cakeBreads"
                },
                {
                    "fullProduct": "Poppyseed PoppyseedBagels"
                },
                {
                    "fullProduct": "Barley bread Barley breadBreads"
                }
            ]
        },
        "text/html": [
            "<table>",
            "<tr><th>fullProduct</th></tr>",
            "<tr><td>Chocolate iced with sprinkles Chocolate iced with sprinklesDoughnuts</td></tr>",
            "<tr><td>Glazed lemon filled Glazed lemon filledDoughnuts</td></tr>",
            "<tr><td>Barm cake Barm cakeBreads</td></tr>",
            "<tr><td>Poppyseed PoppyseedBagels</td></tr>",
            "<tr><td>Barley bread Barley breadBreads</td></tr>",
            "</table>"
        ]
    }
}
],
            "execution_count": 10
        }
    ]
}