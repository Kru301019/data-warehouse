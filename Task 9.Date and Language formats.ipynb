{
    "metadata": {
        "kernelspec": {
            "name": "SQL",
            "display_name": "SQL",
            "language": "sql"
        },
        "language_info": {
            "name": "sql",
            "version": ""
        }
    },
    "nbformat_minor": 2,
    "nbformat": 4,
    "cells": [
        {
            "cell_type": "code",
            "source": [
                "DECLARE @yourDateString NVARCHAR(10) = '12-09-2018';\r\n",
                "SELECT @yourDateString + '  = the input.';\r\n",
                "\r\n",
                "SET DATEFORMAT dmy;\r\n",
                "SELECT CONVERT(date, @yourDateString) as DMY\r\n",
                "\r\n",
                "SET DATEFORMAT ymd;\r\n",
                "SELECT CONVERT(date, @yourDateString) as ymd"
            ],
            "metadata": {
                "azdata_cell_guid": "ca73502d-2f43-4676-8107-4854b1302e1e",
                "language": "sql"
            },
            "outputs": [
                {
                    "output_type": "display_data",
                    "data": {
                        "text/html": "(1 row affected)"
                    },
                    "metadata": {}
                },
                {
                    "output_type": "display_data",
                    "data": {
                        "text/html": "(1 row affected)"
                    },
                    "metadata": {}
                },
                {
                    "output_type": "display_data",
                    "data": {
                        "text/html": "(1 row affected)"
                    },
                    "metadata": {}
                },
                {
                    "output_type": "display_data",
                    "data": {
                        "text/html": "Total execution time: 00:00:00.023"
                    },
                    "metadata": {}
                },
                {
                    "output_type": "execute_result",
                    "execution_count": 13,
                    "data": {
                        "application/vnd.dataresource+json": {
                            "schema": {
                                "fields": [
                                    {
                                        "name": "(No column name)"
                                    }
                                ]
                            },
                            "data": [
                                {
                                    "(No column name)": "12-09-2018  = the input."
                                }
                            ]
                        },
                        "text/html": "<table><tr><th>(No column name)</th></tr><tr><td>12-09-2018  = the input.</td></tr></table>"
                    },
                    "metadata": {}
                },
                {
                    "output_type": "execute_result",
                    "execution_count": 13,
                    "data": {
                        "application/vnd.dataresource+json": {
                            "schema": {
                                "fields": [
                                    {
                                        "name": "DMY"
                                    }
                                ]
                            },
                            "data": [
                                {
                                    "DMY": "2018-09-12"
                                }
                            ]
                        },
                        "text/html": "<table><tr><th>DMY</th></tr><tr><td>2018-09-12</td></tr></table>"
                    },
                    "metadata": {}
                },
                {
                    "output_type": "execute_result",
                    "execution_count": 13,
                    "data": {
                        "application/vnd.dataresource+json": {
                            "schema": {
                                "fields": [
                                    {
                                        "name": "ymd"
                                    }
                                ]
                            },
                            "data": [
                                {
                                    "ymd": "2018-12-09"
                                }
                            ]
                        },
                        "text/html": "<table><tr><th>ymd</th></tr><tr><td>2018-12-09</td></tr></table>"
                    },
                    "metadata": {}
                }
            ],
            "execution_count": 13
        },
        {
            "cell_type": "code",
            "source": [
                "SET LANGUAGE Greek;  \r\n",
                "SELECT DATENAME(month, GETDATE()) AS 'Month Name';  \r\n",
                "\r\n",
                "\r\n",
                "SET LANGUAGE us_english;  \r\n",
                "SELECT DATENAME(month, GETDATE()) AS 'Month Name' ;"
            ],
            "metadata": {
                "language": "sql",
                "azdata_cell_guid": "5e8b1b63-6c25-4ba0-92b3-2fedc8bd1ecb"
            },
            "outputs": [
                {
                    "output_type": "display_data",
                    "data": {
                        "text/html": "Η ρύθμιση γλώσσας άλλαξε σε ελληνικά."
                    },
                    "metadata": {}
                },
                {
                    "output_type": "display_data",
                    "data": {
                        "text/html": "(1 row affected)"
                    },
                    "metadata": {}
                },
                {
                    "output_type": "display_data",
                    "data": {
                        "text/html": "Changed language setting to us_english."
                    },
                    "metadata": {}
                },
                {
                    "output_type": "display_data",
                    "data": {
                        "text/html": "(1 row affected)"
                    },
                    "metadata": {}
                },
                {
                    "output_type": "display_data",
                    "data": {
                        "text/html": "Total execution time: 00:00:00.033"
                    },
                    "metadata": {}
                },
                {
                    "output_type": "execute_result",
                    "execution_count": 14,
                    "data": {
                        "application/vnd.dataresource+json": {
                            "schema": {
                                "fields": [
                                    {
                                        "name": "Month Name"
                                    }
                                ]
                            },
                            "data": [
                                {
                                    "Month Name": "Φεβρουαρίου"
                                }
                            ]
                        },
                        "text/html": "<table><tr><th>Month Name</th></tr><tr><td>Φεβρουαρίου</td></tr></table>"
                    },
                    "metadata": {}
                },
                {
                    "output_type": "execute_result",
                    "execution_count": 14,
                    "data": {
                        "application/vnd.dataresource+json": {
                            "schema": {
                                "fields": [
                                    {
                                        "name": "Month Name"
                                    }
                                ]
                            },
                            "data": [
                                {
                                    "Month Name": "February"
                                }
                            ]
                        },
                        "text/html": "<table><tr><th>Month Name</th></tr><tr><td>February</td></tr></table>"
                    },
                    "metadata": {}
                }
            ],
            "execution_count": 14
        },
        {
            "cell_type": "markdown",
            "source": [
                "<span style=\"font-size: 11pt; font-family: Arial, sans-serif; color: rgb(0, 0, 0); background-color: transparent; font-variant-numeric: normal; font-variant-east-asian: normal; font-variant-alternates: normal; font-variant-position: normal; vertical-align: baseline; white-space-collapse: preserve;\">List the date of birth of all the employees in dmy and mdy formats.</span>"
            ],
            "metadata": {
                "azdata_cell_guid": "0189532e-a84b-435d-8b37-d0ce379d3f37"
            },
            "attachments": {}
        },
        {
            "cell_type": "code",
            "source": [
                "\r\n",
                "SELECT TOP 5 \r\n",
                "    FORMAT(CONVERT(date, EmployeeDOB), 'dd MMMM yyyy') AS FormattedDOB\r\n",
                "FROM DimEmployee;\r\n",
                ""
            ],
            "metadata": {
                "azdata_cell_guid": "c3a8bcd9-2c65-46cd-876c-3332e34ab4da",
                "language": "sql"
            },
            "outputs": [
                {
                    "output_type": "display_data",
                    "data": {
                        "text/html": "(5 rows affected)"
                    },
                    "metadata": {}
                },
                {
                    "output_type": "display_data",
                    "data": {
                        "text/html": "Total execution time: 00:00:00.014"
                    },
                    "metadata": {}
                },
                {
                    "output_type": "execute_result",
                    "execution_count": 23,
                    "data": {
                        "application/vnd.dataresource+json": {
                            "schema": {
                                "fields": [
                                    {
                                        "name": "FormattedDOB"
                                    }
                                ]
                            },
                            "data": [
                                {
                                    "FormattedDOB": "31 July 1981"
                                },
                                {
                                    "FormattedDOB": "24 February 1982"
                                },
                                {
                                    "FormattedDOB": "19 January 1983"
                                },
                                {
                                    "FormattedDOB": "16 March 1992"
                                },
                                {
                                    "FormattedDOB": "12 January 1995"
                                }
                            ]
                        },
                        "text/html": "<table><tr><th>FormattedDOB</th></tr><tr><td>31 July 1981</td></tr><tr><td>24 February 1982</td></tr><tr><td>19 January 1983</td></tr><tr><td>16 March 1992</td></tr><tr><td>12 January 1995</td></tr></table>"
                    },
                    "metadata": {}
                }
            ],
            "execution_count": 23
        },
        {
            "cell_type": "code",
            "source": [
                "\r\n",
                "SELECT TOP 5 \r\n",
                "    FORMAT(CONVERT(date, EmployeeDOB), 'MM/dd/yyyy') AS FormattedDOB\r\n",
                "FROM DimEmployee;\r\n",
                ""
            ],
            "metadata": {
                "azdata_cell_guid": "e90e0b87-bfdd-4354-9bac-4d142752200e",
                "language": "sql"
            },
            "outputs": [
                {
                    "output_type": "display_data",
                    "data": {
                        "text/html": "(5 rows affected)"
                    },
                    "metadata": {}
                },
                {
                    "output_type": "display_data",
                    "data": {
                        "text/html": "Total execution time: 00:00:00.022"
                    },
                    "metadata": {}
                },
                {
                    "output_type": "execute_result",
                    "execution_count": 34,
                    "data": {
                        "application/vnd.dataresource+json": {
                            "schema": {
                                "fields": [
                                    {
                                        "name": "FormattedDOB"
                                    }
                                ]
                            },
                            "data": [
                                {
                                    "FormattedDOB": "07/31/1981"
                                },
                                {
                                    "FormattedDOB": "02/24/1982"
                                },
                                {
                                    "FormattedDOB": "01/19/1983"
                                },
                                {
                                    "FormattedDOB": "03/16/1992"
                                },
                                {
                                    "FormattedDOB": "01/12/1995"
                                }
                            ]
                        },
                        "text/html": "<table><tr><th>FormattedDOB</th></tr><tr><td>07/31/1981</td></tr><tr><td>02/24/1982</td></tr><tr><td>01/19/1983</td></tr><tr><td>03/16/1992</td></tr><tr><td>01/12/1995</td></tr></table>"
                    },
                    "metadata": {}
                }
            ],
            "execution_count": 34
        },
        {
            "cell_type": "markdown",
            "source": [
                "<span style=\"font-size: 11pt; font-family: Arial, sans-serif; color: rgb(0, 0, 0); background-color: transparent; font-variant-numeric: normal; font-variant-east-asian: normal; font-variant-alternates: normal; font-variant-position: normal; vertical-align: baseline; white-space-collapse: preserve;\">List the month of birth of the top 3 employees, order ascending on their last name.</span>"
            ],
            "metadata": {
                "azdata_cell_guid": "f67f634b-1a46-4508-aed1-67b6a9bcca87"
            },
            "attachments": {}
        },
        {
            "cell_type": "code",
            "source": [
                "SELECT top 5 \r\n",
                "    EmployeeLastName + ' ' + FORMAT(EmployeeDOB, 'MMMM') as employeeWithBirthMonth\r\n",
                "from DimEmployee\r\n",
                "ORDER by EmployeeLastName ASC;"
            ],
            "metadata": {
                "azdata_cell_guid": "c616037b-03c2-4ae8-b5d8-19764fd9cf47",
                "language": "sql"
            },
            "outputs": [
                {
                    "output_type": "display_data",
                    "data": {
                        "text/html": "(5 rows affected)"
                    },
                    "metadata": {}
                },
                {
                    "output_type": "display_data",
                    "data": {
                        "text/html": "Total execution time: 00:00:00.030"
                    },
                    "metadata": {}
                },
                {
                    "output_type": "execute_result",
                    "execution_count": 43,
                    "data": {
                        "application/vnd.dataresource+json": {
                            "schema": {
                                "fields": [
                                    {
                                        "name": "employeeWithBirthMonth"
                                    }
                                ]
                            },
                            "data": [
                                {
                                    "employeeWithBirthMonth": "Birch September"
                                },
                                {
                                    "employeeWithBirthMonth": "Bonevant June"
                                },
                                {
                                    "employeeWithBirthMonth": "Burrell July"
                                },
                                {
                                    "employeeWithBirthMonth": "Bussons March"
                                },
                                {
                                    "employeeWithBirthMonth": "Cakebread September"
                                }
                            ]
                        },
                        "text/html": "<table><tr><th>employeeWithBirthMonth</th></tr><tr><td>Birch September</td></tr><tr><td>Bonevant June</td></tr><tr><td>Burrell July</td></tr><tr><td>Bussons March</td></tr><tr><td>Cakebread September</td></tr></table>"
                    },
                    "metadata": {}
                }
            ],
            "execution_count": 43
        },
        {
            "cell_type": "markdown",
            "source": [
                "1. <span style=\"background-color: transparent; font-size: 11pt; text-wrap: wrap;\">List the month of birth of the top 3 employees in any language that you like, ordering ascending on their last name.</span>"
            ],
            "metadata": {
                "azdata_cell_guid": "db4914b4-6874-4b28-85a5-ca623f1a274c"
            }
        },
        {
            "cell_type": "code",
            "source": [
                ""
            ],
            "metadata": {
                "azdata_cell_guid": "be42141c-04b1-4490-b4da-ebb4e33e6165",
                "language": "sql"
            },
            "outputs": [],
            "execution_count": null
        },
        {
            "cell_type": "markdown",
            "source": [
                ""
            ],
            "metadata": {
                "azdata_cell_guid": "942643d1-310b-41f6-a11b-de5fed55ea46"
            }
        }
    ]
}