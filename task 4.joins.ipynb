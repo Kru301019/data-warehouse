{
    "metadata": {
        "kernelspec": {
            "name": "SQL",
            "display_name": "SQL",
            "language": "sql"
        },
        "language_info": {
            "name": "sql",
            "version": ""
        }
    },
    "nbformat_minor": 2,
    "nbformat": 4,
    "cells": [
        {
            "cell_type": "code",
            "source": [
                "SELECT E.employeeFirstName, DATEDIFF(YEAR,E.EmployeeDOB,GETDATE()) As EmployeeAge, E.EmployeeActive\r\n",
                "from DimEmployee E\r\n",
                "where E.EmployeeActive = 'NO';\r\n",
                ""
            ],
            "metadata": {
                "azdata_cell_guid": "ba225838-99a2-42e0-8ce5-6fcf34006d4b",
                "language": "sql",
                "tags": [
                    "hide_input"
                ]
            },
            "outputs": [],
            "execution_count": null
        },
        {
            "cell_type": "code",
            "source": [
                "SELECT top 5\r\n",
                "    P.promotionType, S.SalesAmount, DT.DTYear\r\n",
                "from DimPromotion P\r\n",
                "    JOIN FactSales S ON p.PromotionID = S.PromotionID\r\n",
                "    JOIN DimDateTime as DT on DT.FullDateTime = S.FullDateTime\r\n",
                "where DT.DTYear > '2019';"
            ],
            "metadata": {
                "azdata_cell_guid": "a5c87c2a-d702-46f5-aa3d-9c8505704a9f",
                "language": "sql",
                "tags": [
                    "hide_input"
                ]
            },
            "outputs": [],
            "execution_count": null
        },
        {
            "cell_type": "code",
            "source": [
                "SELECT S.SalesAmount, DT.DTHour, DT.DTYear, DT.DTMonth\r\n",
                "from DimPromotion P\r\n",
                "    RIGHT JOIN FactSales S on P.PromotionID = S.PromotionID\r\n",
                "    JOIN DimDateTime DT ON DT.FullDateTime = S.FullDateTime\r\n",
                "where DT.DTYear = '2019' AND\r\n",
                "    P.PromotionID is null AND\r\n",
                "    DT.DTHour = '12' AND\r\n",
                "    DT.DTMonth BETWEEN 10 AND 11;"
            ],
            "metadata": {
                "azdata_cell_guid": "3a7cabb9-1556-4ea1-919f-33815430d76b",
                "language": "sql"
            },
            "outputs": [],
            "execution_count": null
        },
        {
            "cell_type": "code",
            "source": [
                "SELECT S.SalesAmount, S.Quantity, DT.DTTheDayOfWeek\r\n",
                "from DimPromotion P\r\n",
                "    RIGHT JOIN FactSales S ON P.PromotionID = S.ProductCode\r\n",
                "    JOIN DimDateTime DT ON DT.FullDateTime = S.FullDateTime\r\n",
                "where P.PromotionID is null AND\r\n",
                "    S.Quantity <20 and\r\n",
                "    DT.DTTheDayOfWeek = '1';"
            ],
            "metadata": {
                "azdata_cell_guid": "be3353b5-0764-4209-b575-2420ba3d3185",
                "language": "sql",
                "tags": []
            },
            "outputs": [],
            "execution_count": null
        },
        {
            "cell_type": "markdown",
            "source": [
                "List the date, category range, product name and employee first name and last name of every sale occurred in december in descending date order."
            ],
            "metadata": {
                "azdata_cell_guid": "b996be9b-4354-4366-9bad-b922fdf56b2d"
            },
            "attachments": {}
        },
        {
            "cell_type": "code",
            "source": [
                "SELECT \r\n",
                "    CONCAT(DDT.DTDay ,'/', DDT.DTMonth, '/', DDT.DTYear) as date, CONCAT(DE.EmployeeFirstName ,' ' ,DE.EmployeeLastName) as employeeName,\r\n",
                "    DDT.DTMonthName\r\n",
                "from DimDateTime DDT\r\n",
                "    JOIN FactSales FS on DDT.FullDateTime = FS.FullDateTime\r\n",
                "    JOIN DimProduct DP ON DP.ProductCode = FS.ProductCode\r\n",
                "    JOIN DimCategory DC ON DC.CategoryID = DP.CategoryID\r\n",
                "    JOIN DimEmployee DE ON DE.EmployeeID = FS.EmployeeID\r\n",
                "where DDT.DTMonthName = 'december';"
            ],
            "metadata": {
                "azdata_cell_guid": "a0d0a660-1dc6-479e-a6e1-18d52cb7409c",
                "language": "sql",
                "tags": []
            },
            "outputs": [],
            "execution_count": 59
        }
    ]
}