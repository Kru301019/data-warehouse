{
    "metadata": {
        "kernelspec": {
            "name": "SQL",
            "display_name": "SQL",
            "language": "sql"
        },
        "language_info": {
            "name": "sql",
            "version": ""
        }
    },
    "nbformat_minor": 2,
    "nbformat": 4,
    "cells": [
        {
            "cell_type": "code",
            "source": [
                "SELECT \r\n",
                "    CONVERT(char, EmployeeID) + EmployeeFirstName\r\n",
                "FROM DimEmployee"
            ],
            "metadata": {
                "azdata_cell_guid": "5beba1b1-60ff-4f33-83ed-a7241b173a28",
                "language": "sql"
            },
            "outputs": [
                {
                    "output_type": "display_data",
                    "data": {
                        "text/html": "(35 rows affected)"
                    },
                    "metadata": {}
                },
                {
                    "output_type": "display_data",
                    "data": {
                        "text/html": "Total execution time: 00:00:00.023"
                    },
                    "metadata": {}
                },
                {
                    "output_type": "execute_result",
                    "metadata": {},
                    "execution_count": 5,
                    "data": {
                        "application/vnd.dataresource+json": {
                            "schema": {
                                "fields": [
                                    {
                                        "name": "(No column name)"
                                    }
                                ]
                            },
                            "data": [
                                {
                                    "(No column name)": "1                             Konstantin"
                                },
                                {
                                    "(No column name)": "2                             Stearne"
                                },
                                {
                                    "(No column name)": "3                             Oby"
                                },
                                {
                                    "(No column name)": "4                             Meggie"
                                },
                                {
                                    "(No column name)": "5                             Cary"
                                },
                                {
                                    "(No column name)": "6                             Glory"
                                },
                                {
                                    "(No column name)": "7                             Layne"
                                },
                                {
                                    "(No column name)": "8                             Myriam"
                                },
                                {
                                    "(No column name)": "9                             Jeniffer"
                                },
                                {
                                    "(No column name)": "10                            Chelsie"
                                },
                                {
                                    "(No column name)": "11                            Tristam"
                                },
                                {
                                    "(No column name)": "12                            Berta"
                                },
                                {
                                    "(No column name)": "13                            David"
                                },
                                {
                                    "(No column name)": "14                            Kirsti"
                                },
                                {
                                    "(No column name)": "15                            See"
                                },
                                {
                                    "(No column name)": "16                            Celine"
                                },
                                {
                                    "(No column name)": "17                            Ignacius"
                                },
                                {
                                    "(No column name)": "18                            Klara"
                                },
                                {
                                    "(No column name)": "19                            Storm"
                                },
                                {
                                    "(No column name)": "20                            Rachel"
                                },
                                {
                                    "(No column name)": "21                            Elwyn"
                                },
                                {
                                    "(No column name)": "22                            Anabel"
                                },
                                {
                                    "(No column name)": "23                            Barret"
                                },
                                {
                                    "(No column name)": "24                            Germain"
                                },
                                {
                                    "(No column name)": "25                            Garnet"
                                },
                                {
                                    "(No column name)": "26                            Jessika"
                                },
                                {
                                    "(No column name)": "27                            Carlina"
                                },
                                {
                                    "(No column name)": "28                            Berty"
                                },
                                {
                                    "(No column name)": "29                            Baryram"
                                },
                                {
                                    "(No column name)": "30                            Claudina"
                                },
                                {
                                    "(No column name)": "31                            Gerrie"
                                },
                                {
                                    "(No column name)": "32                            Eileen"
                                },
                                {
                                    "(No column name)": "33                            Biddie"
                                },
                                {
                                    "(No column name)": "34                            Lesly"
                                },
                                {
                                    "(No column name)": "35                            Bernadene"
                                }
                            ]
                        },
                        "text/html": [
                            "<table>",
                            "<tr><th>(No column name)</th></tr>",
                            "<tr><td>1                             Konstantin</td></tr>",
                            "<tr><td>2                             Stearne</td></tr>",
                            "<tr><td>3                             Oby</td></tr>",
                            "<tr><td>4                             Meggie</td></tr>",
                            "<tr><td>5                             Cary</td></tr>",
                            "<tr><td>6                             Glory</td></tr>",
                            "<tr><td>7                             Layne</td></tr>",
                            "<tr><td>8                             Myriam</td></tr>",
                            "<tr><td>9                             Jeniffer</td></tr>",
                            "<tr><td>10                            Chelsie</td></tr>",
                            "<tr><td>11                            Tristam</td></tr>",
                            "<tr><td>12                            Berta</td></tr>",
                            "<tr><td>13                            David</td></tr>",
                            "<tr><td>14                            Kirsti</td></tr>",
                            "<tr><td>15                            See</td></tr>",
                            "<tr><td>16                            Celine</td></tr>",
                            "<tr><td>17                            Ignacius</td></tr>",
                            "<tr><td>18                            Klara</td></tr>",
                            "<tr><td>19                            Storm</td></tr>",
                            "<tr><td>20                            Rachel</td></tr>",
                            "<tr><td>21                            Elwyn</td></tr>",
                            "<tr><td>22                            Anabel</td></tr>",
                            "<tr><td>23                            Barret</td></tr>",
                            "<tr><td>24                            Germain</td></tr>",
                            "<tr><td>25                            Garnet</td></tr>",
                            "<tr><td>26                            Jessika</td></tr>",
                            "<tr><td>27                            Carlina</td></tr>",
                            "<tr><td>28                            Berty</td></tr>",
                            "<tr><td>29                            Baryram</td></tr>",
                            "<tr><td>30                            Claudina</td></tr>",
                            "<tr><td>31                            Gerrie</td></tr>",
                            "<tr><td>32                            Eileen</td></tr>",
                            "<tr><td>33                            Biddie</td></tr>",
                            "<tr><td>34                            Lesly</td></tr>",
                            "<tr><td>35                            Bernadene</td></tr>",
                            "</table>"
                        ]
                    }
                }
            ],
            "execution_count": 5
        },
        {
            "cell_type": "code",
            "source": [
                "SELECT \r\n",
                "    CAST(EmployeeID as char(1)) + EmployeeFirstName\r\n",
                "FROM DimEmployee"
            ],
            "metadata": {
                "azdata_cell_guid": "f7792943-c0ec-46c0-b740-7500f22dde60",
                "language": "sql"
            },
            "outputs": [
                {
                    "output_type": "display_data",
                    "data": {
                        "text/html": "(35 rows affected)"
                    },
                    "metadata": {}
                },
                {
                    "output_type": "display_data",
                    "data": {
                        "text/html": "Total execution time: 00:00:00.030"
                    },
                    "metadata": {}
                },
                {
                    "output_type": "execute_result",
                    "metadata": {},
                    "execution_count": 7,
                    "data": {
                        "application/vnd.dataresource+json": {
                            "schema": {
                                "fields": [
                                    {
                                        "name": "(No column name)"
                                    }
                                ]
                            },
                            "data": [
                                {
                                    "(No column name)": "1Konstantin"
                                },
                                {
                                    "(No column name)": "2Stearne"
                                },
                                {
                                    "(No column name)": "3Oby"
                                },
                                {
                                    "(No column name)": "4Meggie"
                                },
                                {
                                    "(No column name)": "5Cary"
                                },
                                {
                                    "(No column name)": "6Glory"
                                },
                                {
                                    "(No column name)": "7Layne"
                                },
                                {
                                    "(No column name)": "8Myriam"
                                },
                                {
                                    "(No column name)": "9Jeniffer"
                                },
                                {
                                    "(No column name)": "*Chelsie"
                                },
                                {
                                    "(No column name)": "*Tristam"
                                },
                                {
                                    "(No column name)": "*Berta"
                                },
                                {
                                    "(No column name)": "*David"
                                },
                                {
                                    "(No column name)": "*Kirsti"
                                },
                                {
                                    "(No column name)": "*See"
                                },
                                {
                                    "(No column name)": "*Celine"
                                },
                                {
                                    "(No column name)": "*Ignacius"
                                },
                                {
                                    "(No column name)": "*Klara"
                                },
                                {
                                    "(No column name)": "*Storm"
                                },
                                {
                                    "(No column name)": "*Rachel"
                                },
                                {
                                    "(No column name)": "*Elwyn"
                                },
                                {
                                    "(No column name)": "*Anabel"
                                },
                                {
                                    "(No column name)": "*Barret"
                                },
                                {
                                    "(No column name)": "*Germain"
                                },
                                {
                                    "(No column name)": "*Garnet"
                                },
                                {
                                    "(No column name)": "*Jessika"
                                },
                                {
                                    "(No column name)": "*Carlina"
                                },
                                {
                                    "(No column name)": "*Berty"
                                },
                                {
                                    "(No column name)": "*Baryram"
                                },
                                {
                                    "(No column name)": "*Claudina"
                                },
                                {
                                    "(No column name)": "*Gerrie"
                                },
                                {
                                    "(No column name)": "*Eileen"
                                },
                                {
                                    "(No column name)": "*Biddie"
                                },
                                {
                                    "(No column name)": "*Lesly"
                                },
                                {
                                    "(No column name)": "*Bernadene"
                                }
                            ]
                        },
                        "text/html": [
                            "<table>",
                            "<tr><th>(No column name)</th></tr>",
                            "<tr><td>1Konstantin</td></tr>",
                            "<tr><td>2Stearne</td></tr>",
                            "<tr><td>3Oby</td></tr>",
                            "<tr><td>4Meggie</td></tr>",
                            "<tr><td>5Cary</td></tr>",
                            "<tr><td>6Glory</td></tr>",
                            "<tr><td>7Layne</td></tr>",
                            "<tr><td>8Myriam</td></tr>",
                            "<tr><td>9Jeniffer</td></tr>",
                            "<tr><td>*Chelsie</td></tr>",
                            "<tr><td>*Tristam</td></tr>",
                            "<tr><td>*Berta</td></tr>",
                            "<tr><td>*David</td></tr>",
                            "<tr><td>*Kirsti</td></tr>",
                            "<tr><td>*See</td></tr>",
                            "<tr><td>*Celine</td></tr>",
                            "<tr><td>*Ignacius</td></tr>",
                            "<tr><td>*Klara</td></tr>",
                            "<tr><td>*Storm</td></tr>",
                            "<tr><td>*Rachel</td></tr>",
                            "<tr><td>*Elwyn</td></tr>",
                            "<tr><td>*Anabel</td></tr>",
                            "<tr><td>*Barret</td></tr>",
                            "<tr><td>*Germain</td></tr>",
                            "<tr><td>*Garnet</td></tr>",
                            "<tr><td>*Jessika</td></tr>",
                            "<tr><td>*Carlina</td></tr>",
                            "<tr><td>*Berty</td></tr>",
                            "<tr><td>*Baryram</td></tr>",
                            "<tr><td>*Claudina</td></tr>",
                            "<tr><td>*Gerrie</td></tr>",
                            "<tr><td>*Eileen</td></tr>",
                            "<tr><td>*Biddie</td></tr>",
                            "<tr><td>*Lesly</td></tr>",
                            "<tr><td>*Bernadene</td></tr>",
                            "</table>"
                        ]
                    }
                }
            ],
            "execution_count": 7
        },
        {
            "cell_type": "markdown",
            "source": [
                "<span style=\"font-size: 11pt; font-family: Arial, sans-serif; color: rgb(0, 0, 0); background-color: transparent; font-variant-numeric: normal; font-variant-east-asian: normal; font-variant-alternates: normal; font-variant-position: normal; vertical-align: baseline; white-space-collapse: preserve;\">List each employee’s first name with the year of their birth in one column</span>"
            ],
            "metadata": {
                "azdata_cell_guid": "fac65a11-be0b-4db3-b833-5651ce1f944e"
            },
            "attachments": {}
        },
        {
            "cell_type": "code",
            "source": [
                "SELECT top 5\r\n",
                "    EmployeeFirstName + ' ' + cast(EmployeeDOB as char) as employeeWthDob\r\n",
                "FROM DimEmployee"
            ],
            "metadata": {
                "azdata_cell_guid": "5a30c2d7-3bea-4817-91f2-226aaf8dbba5",
                "language": "sql"
            },
            "outputs": [
                {
                    "output_type": "display_data",
                    "data": {
                        "text/html": "(5 rows affected)"
                    },
                    "metadata": {}
                },
                {
                    "output_type": "display_data",
                    "data": {
                        "text/html": "Total execution time: 00:00:00.018"
                    },
                    "metadata": {}
                },
                {
                    "output_type": "execute_result",
                    "metadata": {},
                    "execution_count": 16,
                    "data": {
                        "application/vnd.dataresource+json": {
                            "schema": {
                                "fields": [
                                    {
                                        "name": "employeeWthDob"
                                    }
                                ]
                            },
                            "data": [
                                {
                                    "employeeWthDob": "Konstantin 1981-07-31                    "
                                },
                                {
                                    "employeeWthDob": "Stearne 1982-02-24                    "
                                },
                                {
                                    "employeeWthDob": "Oby 1983-01-19                    "
                                },
                                {
                                    "employeeWthDob": "Meggie 1992-03-16                    "
                                },
                                {
                                    "employeeWthDob": "Cary 1995-01-12                    "
                                }
                            ]
                        },
                        "text/html": [
                            "<table>",
                            "<tr><th>employeeWthDob</th></tr>",
                            "<tr><td>Konstantin 1981-07-31                    </td></tr>",
                            "<tr><td>Stearne 1982-02-24                    </td></tr>",
                            "<tr><td>Oby 1983-01-19                    </td></tr>",
                            "<tr><td>Meggie 1992-03-16                    </td></tr>",
                            "<tr><td>Cary 1995-01-12                    </td></tr>",
                            "</table>"
                        ]
                    }
                }
            ],
            "execution_count": 16
        },
        {
            "cell_type": "markdown",
            "source": [
                "<span style=\"font-size: 11pt; font-family: Arial, sans-serif; color: rgb(0, 0, 0); background-color: transparent; font-variant-numeric: normal; font-variant-east-asian: normal; font-variant-alternates: normal; font-variant-position: normal; vertical-align: baseline; white-space-collapse: preserve;\">List each employee’s first name with the day and month of their employment’s start date in one column</span>"
            ],
            "metadata": {
                "azdata_cell_guid": "7f1be636-6579-468a-8f06-fc853d80fcf4"
            },
            "attachments": {}
        },
        {
            "cell_type": "code",
            "source": [
                "SELECT top 5 \r\n",
                "    DE.EmployeeFirstName + ' ' + SUBSTRING(CAST(DE.EmployeeStartDate as char), 6, 8) as empWithMonthDate\r\n",
                "from DimEmployee DE"
            ],
            "metadata": {
                "azdata_cell_guid": "ac1bc056-4e23-4de9-b80a-5fd673ddc21a",
                "language": "sql"
            },
            "outputs": [
                {
                    "output_type": "display_data",
                    "data": {
                        "text/html": "(5 rows affected)"
                    },
                    "metadata": {}
                },
                {
                    "output_type": "display_data",
                    "data": {
                        "text/html": "Total execution time: 00:00:00.013"
                    },
                    "metadata": {}
                },
                {
                    "output_type": "execute_result",
                    "metadata": {},
                    "execution_count": 33,
                    "data": {
                        "application/vnd.dataresource+json": {
                            "schema": {
                                "fields": [
                                    {
                                        "name": "empWithMonthDate"
                                    }
                                ]
                            },
                            "data": [
                                {
                                    "empWithMonthDate": "Konstantin 02-15   "
                                },
                                {
                                    "empWithMonthDate": "Stearne 06-26   "
                                },
                                {
                                    "empWithMonthDate": "Oby 05-22   "
                                },
                                {
                                    "empWithMonthDate": "Meggie 02-07   "
                                },
                                {
                                    "empWithMonthDate": "Cary 04-08   "
                                }
                            ]
                        },
                        "text/html": [
                            "<table>",
                            "<tr><th>empWithMonthDate</th></tr>",
                            "<tr><td>Konstantin 02-15   </td></tr>",
                            "<tr><td>Stearne 06-26   </td></tr>",
                            "<tr><td>Oby 05-22   </td></tr>",
                            "<tr><td>Meggie 02-07   </td></tr>",
                            "<tr><td>Cary 04-08   </td></tr>",
                            "</table>"
                        ]
                    }
                }
            ],
            "execution_count": 33
        },
        {
            "cell_type": "code",
            "source": [
                "DECLARE @string VARCHAR(10);\r\n",
                "SET @string = 1;\r\n",
                "SELECT @string + ' is a string.'"
            ],
            "metadata": {
                "azdata_cell_guid": "e5b00bcf-8802-46af-950a-fd9038573e41",
                "language": "sql"
            },
            "outputs": [
                {
                    "output_type": "display_data",
                    "data": {
                        "text/html": "(1 row affected)"
                    },
                    "metadata": {}
                },
                {
                    "output_type": "display_data",
                    "data": {
                        "text/html": "Total execution time: 00:00:00.025"
                    },
                    "metadata": {}
                },
                {
                    "output_type": "execute_result",
                    "metadata": {},
                    "execution_count": 34,
                    "data": {
                        "application/vnd.dataresource+json": {
                            "schema": {
                                "fields": [
                                    {
                                        "name": "(No column name)"
                                    }
                                ]
                            },
                            "data": [
                                {
                                    "(No column name)": "1 is a string."
                                }
                            ]
                        },
                        "text/html": [
                            "<table>",
                            "<tr><th>(No column name)</th></tr>",
                            "<tr><td>1 is a string.</td></tr>",
                            "</table>"
                        ]
                    }
                }
            ],
            "execution_count": 34
        },
        {
            "cell_type": "code",
            "source": [
                "DECLARE @notastring INT; -- Declare an integer variable\r\n",
                "SET @notastring = 1; -- Set the value to 1\r\n",
                "SELECT CAST(@notastring AS VARCHAR(10)) + ' is not a string.'; -- Corrected concatenation\r\n",
                ""
            ],
            "metadata": {
                "azdata_cell_guid": "fa767992-4163-446e-8a83-3d5be11a9339",
                "language": "sql"
            },
            "outputs": [
                {
                    "output_type": "display_data",
                    "data": {
                        "text/html": "(1 row affected)"
                    },
                    "metadata": {}
                },
                {
                    "output_type": "display_data",
                    "data": {
                        "text/html": "Total execution time: 00:00:00.019"
                    },
                    "metadata": {}
                },
                {
                    "output_type": "execute_result",
                    "metadata": {},
                    "execution_count": 37,
                    "data": {
                        "application/vnd.dataresource+json": {
                            "schema": {
                                "fields": [
                                    {
                                        "name": "(No column name)"
                                    }
                                ]
                            },
                            "data": [
                                {
                                    "(No column name)": "1 is not a string."
                                }
                            ]
                        },
                        "text/html": [
                            "<table>",
                            "<tr><th>(No column name)</th></tr>",
                            "<tr><td>1 is not a string.</td></tr>",
                            "</table>"
                        ]
                    }
                }
            ],
            "execution_count": 37
        }
    ]
}