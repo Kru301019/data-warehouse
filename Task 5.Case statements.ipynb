{
    "metadata": {
        "kernelspec": {
            "name": "SQL",
            "display_name": "SQL",
            "language": "sql"
        },
        "language_info": {
            "name": "sql",
            "version": ""
        }
    },
    "nbformat_minor": 2,
    "nbformat": 4,
    "cells": [
        {
            "cell_type": "markdown",
            "source": [
                "<span style=\"font-size: 11pt; font-family: Arial, sans-serif; color: rgb(0, 0, 0); background-color: transparent; font-variant-numeric: normal; font-variant-east-asian: normal; font-variant-alternates: normal; font-variant-position: normal; vertical-align: baseline; white-space-collapse: preserve;\">Now your turn.&nbsp;</span> \n",
                "\n",
                "<span style=\"font-size: 11pt; font-family: Arial, sans-serif; color: rgb(0, 0, 0); background-color: transparent; font-variant-numeric: normal; font-variant-east-asian: normal; font-variant-alternates: normal; font-variant-position: normal; vertical-align: baseline; white-space-collapse: preserve;\">Create a case statement that returns a list of all the bakery’s products and their range, as well as the word “sweet” if the product is sweet and “savoury” if the product is savoury.&nbsp; (</span><span style=\"font-size: 11pt; font-family: Arial, sans-serif; color: rgb(0, 0, 0); background-color: transparent; font-style: italic; font-variant-numeric: normal; font-variant-east-asian: normal; font-variant-alternates: normal; font-variant-position: normal; vertical-align: baseline; white-space-collapse: preserve;\">Tip: Run a query that returns all the products and categories first, so as you know how to group the sweet and savoury products.&nbsp;</span> <span style=\"font-size: 11pt; font-family: Arial, sans-serif; color: rgb(0, 0, 0); background-color: transparent; font-variant-numeric: normal; font-variant-east-asian: normal; font-variant-alternates: normal; font-variant-position: normal; vertical-align: baseline; white-space-collapse: preserve;\">)</span>"
            ],
            "metadata": {
                "azdata_cell_guid": "5755a664-31ef-42a3-a633-0db432939c8a"
            },
            "attachments": {}
        },
        {
            "cell_type": "code",
            "source": [
                "SELECT DP.ProductName, DP.ProductType, DC.CategoryRange,\r\n",
                "    case \r\n",
                "    when DC.CategoryRange IN('breads', 'Pastries', 'Pies') then 'savoury'\r\n",
                "    WHEN productType in ('Croissant', 'Danish', 'Filled') THEN 'Sweet'\r\n",
                "    else 'N/A'\r\n",
                "end as product_sat_sweet\r\n",
                "from DimProduct DP\r\n",
                "    JOIN DimCategory DC on DP.CategoryID = DC.CategoryID"
            ],
            "metadata": {
                "azdata_cell_guid": "0ee3dc41-5de4-48c5-9945-a0df63af1343",
                "language": "sql"
            },
            "outputs": [
{
    "output_type": "display_data",
    "data": {
        "text/html": "(51 rows affected)"
    },
    "metadata": {}
}, {
    "output_type": "display_data",
    "data": {
        "text/html": "Total execution time: 00:00:00.026"
    },
    "metadata": {}
}, {
    "output_type": "execute_result",
    "metadata": {},
    "execution_count": 16,
    "data": {
        "application/vnd.dataresource+json": {
            "schema": {
                "fields": [
                    {
                        "name": "ProductName"
                    },
                    {
                        "name": "ProductType"
                    },
                    {
                        "name": "CategoryRange"
                    },
                    {
                        "name": "product_sat_sweet"
                    }
                ]
            },
            "data": [
                {
                    "ProductName": "Griddle scone",
                    "ProductType": "Pancake",
                    "CategoryRange": "Breads",
                    "product_sat_sweet": "savoury"
                },
                {
                    "ProductName": "Crumpet",
                    "ProductType": "Pancake",
                    "CategoryRange": "Breads",
                    "product_sat_sweet": "savoury"
                },
                {
                    "ProductName": "Staffordshire oatcake",
                    "ProductType": "Pancake",
                    "CategoryRange": "Breads",
                    "product_sat_sweet": "savoury"
                },
                {
                    "ProductName": "Barley bread",
                    "ProductType": "Bread",
                    "CategoryRange": "Breads",
                    "product_sat_sweet": "savoury"
                },
                {
                    "ProductName": "Rowie",
                    "ProductType": "Bread",
                    "CategoryRange": "Breads",
                    "product_sat_sweet": "savoury"
                },
                {
                    "ProductName": "Cockle bread",
                    "ProductType": "Bread",
                    "CategoryRange": "Breads",
                    "product_sat_sweet": "savoury"
                },
                {
                    "ProductName": "Cottage loaf",
                    "ProductType": "Loaf",
                    "CategoryRange": "Breads",
                    "product_sat_sweet": "savoury"
                },
                {
                    "ProductName": "Manchet",
                    "ProductType": "Loaf",
                    "CategoryRange": "Breads",
                    "product_sat_sweet": "savoury"
                },
                {
                    "ProductName": "Milk roll",
                    "ProductType": "Loaf",
                    "CategoryRange": "Breads",
                    "product_sat_sweet": "savoury"
                },
                {
                    "ProductName": "Pan loaf",
                    "ProductType": "Loaf",
                    "CategoryRange": "Breads",
                    "product_sat_sweet": "savoury"
                },
                {
                    "ProductName": "Plain loaf",
                    "ProductType": "Loaf",
                    "CategoryRange": "Breads",
                    "product_sat_sweet": "savoury"
                },
                {
                    "ProductName": "Barm cake",
                    "ProductType": "Bun",
                    "CategoryRange": "Breads",
                    "product_sat_sweet": "savoury"
                },
                {
                    "ProductName": "Bannock",
                    "ProductType": "Flatbread",
                    "CategoryRange": "Breads",
                    "product_sat_sweet": "savoury"
                },
                {
                    "ProductName": "Breakfast muffin",
                    "ProductType": "Flatbread",
                    "CategoryRange": "Breads",
                    "product_sat_sweet": "savoury"
                },
                {
                    "ProductName": "Bread cake",
                    "ProductType": "Flatbread",
                    "CategoryRange": "Breads",
                    "product_sat_sweet": "savoury"
                },
                {
                    "ProductName": "Oat cake",
                    "ProductType": "Flatbread",
                    "CategoryRange": "Breads",
                    "product_sat_sweet": "savoury"
                },
                {
                    "ProductName": "Stottie cake",
                    "ProductType": "Flatbread",
                    "CategoryRange": "Breads",
                    "product_sat_sweet": "savoury"
                },
                {
                    "ProductName": "Tattie scone",
                    "ProductType": "Bread",
                    "CategoryRange": "Breads",
                    "product_sat_sweet": "savoury"
                },
                {
                    "ProductName": "Chocolate chip",
                    "ProductType": "Sweet Bagel",
                    "CategoryRange": "Bagels",
                    "product_sat_sweet": "N/A"
                },
                {
                    "ProductName": "Cinnamon Raisin",
                    "ProductType": "Sweet Bagel",
                    "CategoryRange": "Bagels",
                    "product_sat_sweet": "N/A"
                },
                {
                    "ProductName": "Plain",
                    "ProductType": "Savoury Bagel",
                    "CategoryRange": "Bagels",
                    "product_sat_sweet": "N/A"
                },
                {
                    "ProductName": "Blueberry",
                    "ProductType": "Sweet Bagel",
                    "CategoryRange": "Bagels",
                    "product_sat_sweet": "N/A"
                },
                {
                    "ProductName": "Onion",
                    "ProductType": "Savoury Bagel",
                    "CategoryRange": "Bagels",
                    "product_sat_sweet": "N/A"
                },
                {
                    "ProductName": "Salt",
                    "ProductType": "Savoury Bagel",
                    "CategoryRange": "Bagels",
                    "product_sat_sweet": "N/A"
                },
                {
                    "ProductName": "Poppyseed",
                    "ProductType": "Savoury Bagel",
                    "CategoryRange": "Bagels",
                    "product_sat_sweet": "N/A"
                },
                {
                    "ProductName": "Chocolate iced",
                    "ProductType": "Iced",
                    "CategoryRange": "Doughnuts",
                    "product_sat_sweet": "N/A"
                },
                {
                    "ProductName": "Strawberry iced",
                    "ProductType": "Iced",
                    "CategoryRange": "Doughnuts",
                    "product_sat_sweet": "N/A"
                },
                {
                    "ProductName": "Maple iced glazed",
                    "ProductType": "Iced",
                    "CategoryRange": "Doughnuts",
                    "product_sat_sweet": "N/A"
                },
                {
                    "ProductName": "Chocolate iced with sprinkles",
                    "ProductType": "Iced",
                    "CategoryRange": "Doughnuts",
                    "product_sat_sweet": "N/A"
                },
                {
                    "ProductName": "Cake batter",
                    "ProductType": "Filled",
                    "CategoryRange": "Doughnuts",
                    "product_sat_sweet": "Sweet"
                },
                {
                    "ProductName": "Oreo cookies and creme",
                    "ProductType": "Filled",
                    "CategoryRange": "Doughnuts",
                    "product_sat_sweet": "Sweet"
                },
                {
                    "ProductName": "Glazed lemon filled",
                    "ProductType": "Filled",
                    "CategoryRange": "Doughnuts",
                    "product_sat_sweet": "Sweet"
                },
                {
                    "ProductName": "Chocolate iced custard filled",
                    "ProductType": "Filled",
                    "CategoryRange": "Doughnuts",
                    "product_sat_sweet": "Sweet"
                },
                {
                    "ProductName": "Chocolate iced",
                    "ProductType": "Iced",
                    "CategoryRange": "Doughnuts",
                    "product_sat_sweet": "N/A"
                },
                {
                    "ProductName": "Pork",
                    "ProductType": "Savoury pie",
                    "CategoryRange": "Pies",
                    "product_sat_sweet": "savoury"
                },
                {
                    "ProductName": "Steak and kidney",
                    "ProductType": "Savoury pie",
                    "CategoryRange": "Pies",
                    "product_sat_sweet": "savoury"
                },
                {
                    "ProductName": "Steak and ale",
                    "ProductType": "Savoury pie",
                    "CategoryRange": "Pies",
                    "product_sat_sweet": "savoury"
                },
                {
                    "ProductName": "Chicken and mushroom",
                    "ProductType": "Savoury pie",
                    "CategoryRange": "Pies",
                    "product_sat_sweet": "savoury"
                },
                {
                    "ProductName": "Bramley apple",
                    "ProductType": "Sweet pie",
                    "CategoryRange": "Pies",
                    "product_sat_sweet": "savoury"
                },
                {
                    "ProductName": "Cherry",
                    "ProductType": "Sweet pie",
                    "CategoryRange": "Pies",
                    "product_sat_sweet": "savoury"
                },
                {
                    "ProductName": "Lemon Meringue",
                    "ProductType": "Sweet pie",
                    "CategoryRange": "Pies",
                    "product_sat_sweet": "savoury"
                },
                {
                    "ProductName": "Chocolate",
                    "ProductType": "Croissant",
                    "CategoryRange": "Pastries",
                    "product_sat_sweet": "savoury"
                },
                {
                    "ProductName": "Blueberry",
                    "ProductType": "Croissant",
                    "CategoryRange": "Pastries",
                    "product_sat_sweet": "savoury"
                },
                {
                    "ProductName": "Butter",
                    "ProductType": "Croissant",
                    "CategoryRange": "Pastries",
                    "product_sat_sweet": "savoury"
                },
                {
                    "ProductName": "Ham and cheese",
                    "ProductType": "Croissant",
                    "CategoryRange": "Pastries",
                    "product_sat_sweet": "savoury"
                },
                {
                    "ProductName": "Cinnamon and raisin",
                    "ProductType": "Danish",
                    "CategoryRange": "Pastries",
                    "product_sat_sweet": "savoury"
                },
                {
                    "ProductName": "Custard cream",
                    "ProductType": "Danish",
                    "CategoryRange": "Pastries",
                    "product_sat_sweet": "savoury"
                },
                {
                    "ProductName": "Sweet apple and chocolate",
                    "ProductType": "Danish",
                    "CategoryRange": "Pastries",
                    "product_sat_sweet": "savoury"
                },
                {
                    "ProductName": "Bakewell",
                    "ProductType": "Tart",
                    "CategoryRange": "Pastries",
                    "product_sat_sweet": "savoury"
                },
                {
                    "ProductName": "Treacle",
                    "ProductType": "Tart",
                    "CategoryRange": "Pastries",
                    "product_sat_sweet": "savoury"
                },
                {
                    "ProductName": "Custard",
                    "ProductType": "Tart",
                    "CategoryRange": "Pastries",
                    "product_sat_sweet": "savoury"
                }
            ]
        },
        "text/html": [
            "<table>",
            "<tr><th>ProductName</th><th>ProductType</th><th>CategoryRange</th><th>product_sat_sweet</th></tr>",
            "<tr><td>Griddle scone</td><td>Pancake</td><td>Breads</td><td>savoury</td></tr>",
            "<tr><td>Crumpet</td><td>Pancake</td><td>Breads</td><td>savoury</td></tr>",
            "<tr><td>Staffordshire oatcake</td><td>Pancake</td><td>Breads</td><td>savoury</td></tr>",
            "<tr><td>Barley bread</td><td>Bread</td><td>Breads</td><td>savoury</td></tr>",
            "<tr><td>Rowie</td><td>Bread</td><td>Breads</td><td>savoury</td></tr>",
            "<tr><td>Cockle bread</td><td>Bread</td><td>Breads</td><td>savoury</td></tr>",
            "<tr><td>Cottage loaf</td><td>Loaf</td><td>Breads</td><td>savoury</td></tr>",
            "<tr><td>Manchet</td><td>Loaf</td><td>Breads</td><td>savoury</td></tr>",
            "<tr><td>Milk roll</td><td>Loaf</td><td>Breads</td><td>savoury</td></tr>",
            "<tr><td>Pan loaf</td><td>Loaf</td><td>Breads</td><td>savoury</td></tr>",
            "<tr><td>Plain loaf</td><td>Loaf</td><td>Breads</td><td>savoury</td></tr>",
            "<tr><td>Barm cake</td><td>Bun</td><td>Breads</td><td>savoury</td></tr>",
            "<tr><td>Bannock</td><td>Flatbread</td><td>Breads</td><td>savoury</td></tr>",
            "<tr><td>Breakfast muffin</td><td>Flatbread</td><td>Breads</td><td>savoury</td></tr>",
            "<tr><td>Bread cake</td><td>Flatbread</td><td>Breads</td><td>savoury</td></tr>",
            "<tr><td>Oat cake</td><td>Flatbread</td><td>Breads</td><td>savoury</td></tr>",
            "<tr><td>Stottie cake</td><td>Flatbread</td><td>Breads</td><td>savoury</td></tr>",
            "<tr><td>Tattie scone</td><td>Bread</td><td>Breads</td><td>savoury</td></tr>",
            "<tr><td>Chocolate chip</td><td>Sweet Bagel</td><td>Bagels</td><td>N/A</td></tr>",
            "<tr><td>Cinnamon Raisin</td><td>Sweet Bagel</td><td>Bagels</td><td>N/A</td></tr>",
            "<tr><td>Plain</td><td>Savoury Bagel</td><td>Bagels</td><td>N/A</td></tr>",
            "<tr><td>Blueberry</td><td>Sweet Bagel</td><td>Bagels</td><td>N/A</td></tr>",
            "<tr><td>Onion</td><td>Savoury Bagel</td><td>Bagels</td><td>N/A</td></tr>",
            "<tr><td>Salt</td><td>Savoury Bagel</td><td>Bagels</td><td>N/A</td></tr>",
            "<tr><td>Poppyseed</td><td>Savoury Bagel</td><td>Bagels</td><td>N/A</td></tr>",
            "<tr><td>Chocolate iced</td><td>Iced</td><td>Doughnuts</td><td>N/A</td></tr>",
            "<tr><td>Strawberry iced</td><td>Iced</td><td>Doughnuts</td><td>N/A</td></tr>",
            "<tr><td>Maple iced glazed</td><td>Iced</td><td>Doughnuts</td><td>N/A</td></tr>",
            "<tr><td>Chocolate iced with sprinkles</td><td>Iced</td><td>Doughnuts</td><td>N/A</td></tr>",
            "<tr><td>Cake batter</td><td>Filled</td><td>Doughnuts</td><td>Sweet</td></tr>",
            "<tr><td>Oreo cookies and creme</td><td>Filled</td><td>Doughnuts</td><td>Sweet</td></tr>",
            "<tr><td>Glazed lemon filled</td><td>Filled</td><td>Doughnuts</td><td>Sweet</td></tr>",
            "<tr><td>Chocolate iced custard filled</td><td>Filled</td><td>Doughnuts</td><td>Sweet</td></tr>",
            "<tr><td>Chocolate iced</td><td>Iced</td><td>Doughnuts</td><td>N/A</td></tr>",
            "<tr><td>Pork</td><td>Savoury pie</td><td>Pies</td><td>savoury</td></tr>",
            "<tr><td>Steak and kidney</td><td>Savoury pie</td><td>Pies</td><td>savoury</td></tr>",
            "<tr><td>Steak and ale</td><td>Savoury pie</td><td>Pies</td><td>savoury</td></tr>",
            "<tr><td>Chicken and mushroom</td><td>Savoury pie</td><td>Pies</td><td>savoury</td></tr>",
            "<tr><td>Bramley apple</td><td>Sweet pie</td><td>Pies</td><td>savoury</td></tr>",
            "<tr><td>Cherry</td><td>Sweet pie</td><td>Pies</td><td>savoury</td></tr>",
            "<tr><td>Lemon Meringue</td><td>Sweet pie</td><td>Pies</td><td>savoury</td></tr>",
            "<tr><td>Chocolate</td><td>Croissant</td><td>Pastries</td><td>savoury</td></tr>",
            "<tr><td>Blueberry</td><td>Croissant</td><td>Pastries</td><td>savoury</td></tr>",
            "<tr><td>Butter</td><td>Croissant</td><td>Pastries</td><td>savoury</td></tr>",
            "<tr><td>Ham and cheese</td><td>Croissant</td><td>Pastries</td><td>savoury</td></tr>",
            "<tr><td>Cinnamon and raisin</td><td>Danish</td><td>Pastries</td><td>savoury</td></tr>",
            "<tr><td>Custard cream</td><td>Danish</td><td>Pastries</td><td>savoury</td></tr>",
            "<tr><td>Sweet apple and chocolate</td><td>Danish</td><td>Pastries</td><td>savoury</td></tr>",
            "<tr><td>Bakewell</td><td>Tart</td><td>Pastries</td><td>savoury</td></tr>",
            "<tr><td>Treacle</td><td>Tart</td><td>Pastries</td><td>savoury</td></tr>",
            "<tr><td>Custard</td><td>Tart</td><td>Pastries</td><td>savoury</td></tr>",
            "</table>"
        ]
    }
}
],
            "execution_count": 16
        }
    ]
}