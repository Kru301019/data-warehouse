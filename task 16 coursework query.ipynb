{
    "metadata": {
        "kernelspec": {
            "name": "SQL",
            "display_name": "SQL",
            "language": "sql"
        },
        "language_info": {
            "name": "sql",
            "version": ""
        }
    },
    "nbformat_minor": 2,
    "nbformat": 4,
    "cells": [
        {
            "cell_type": "markdown",
            "source": [
                "1.Merchandise monthly sales and total salves in given month for each <span style=\"color: rgb(33, 33, 33); font-family: Consolas, &quot;Courier New&quot;, monospace; font-size: 12px; white-space: pre;\">Merchandise type for the </span>   <span style=\"color: var(--vscode-foreground);\">&nbsp;year 2016</span>"
            ],
            "metadata": {
                "azdata_cell_guid": "7eb8cc87-5271-4672-aa3b-520951c094ff"
            },
            "attachments": {}
        },
        {
            "cell_type": "code",
            "source": [
                "SELECT \r\n",
                "    DD.DateMonth,\r\n",
                "    MD.MerchandiseType,\r\n",
                "    SUM(OS.MerchandiseSold) AS MonthlySales,\r\n",
                "    SUM(SUM(OS.MerchandiseSold)) OVER (\r\n",
                "        PARTITION BY  DD.DateMonth\r\n",
                "    ) AS MonthlyTotalSales\r\n",
                "FROM OnlineSalesFact OS \r\n",
                "JOIN DateDim DD ON DD.DateID = OS.DateID\r\n",
                "JOIN MerchandiseDim MD ON OS.MerchandiseID = MD.MerchandiseID\r\n",
                "JOIN ProviderDim PD ON PD.ProviderID = MD.MerchandiseProviderID\r\n",
                "WHERE DD.DateYear = '2016'\r\n",
                "GROUP BY  DD.DateMonth, MD.MerchandiseType\r\n",
                "ORDER BY DD.DateMonth;"
            ],
            "metadata": {
                "azdata_cell_guid": "b65b372a-ef2f-4949-af18-3e275f300f3f",
                "language": "sql"
            },
            "outputs": [
                {
                    "output_type": "display_data",
                    "data": {
                        "text/html": "(29 rows affected)"
                    },
                    "metadata": {}
                },
                {
                    "output_type": "display_data",
                    "data": {
                        "text/html": "Total execution time: 00:00:00.034"
                    },
                    "metadata": {}
                },
                {
                    "output_type": "execute_result",
                    "execution_count": 64,
                    "data": {
                        "application/vnd.dataresource+json": {
                            "schema": {
                                "fields": [
                                    {
                                        "name": "DateMonth"
                                    },
                                    {
                                        "name": "MerchandiseType"
                                    },
                                    {
                                        "name": "MonthlySales"
                                    },
                                    {
                                        "name": "MonthlyTotalSales"
                                    }
                                ]
                            },
                            "data": [
                                {
                                    "DateMonth": "5",
                                    "MerchandiseType": "accessories",
                                    "MonthlySales": "13803",
                                    "MonthlyTotalSales": "126939"
                                },
                                {
                                    "DateMonth": "5",
                                    "MerchandiseType": "art and book",
                                    "MonthlySales": "15036",
                                    "MonthlyTotalSales": "126939"
                                },
                                {
                                    "DateMonth": "5",
                                    "MerchandiseType": "board games",
                                    "MonthlySales": "9411",
                                    "MonthlyTotalSales": "126939"
                                },
                                {
                                    "DateMonth": "5",
                                    "MerchandiseType": "clothing",
                                    "MonthlySales": "22704",
                                    "MonthlyTotalSales": "126939"
                                },
                                {
                                    "DateMonth": "5",
                                    "MerchandiseType": "figures",
                                    "MonthlySales": "16851",
                                    "MonthlyTotalSales": "126939"
                                },
                                {
                                    "DateMonth": "5",
                                    "MerchandiseType": "pins",
                                    "MonthlySales": "24624",
                                    "MonthlyTotalSales": "126939"
                                },
                                {
                                    "DateMonth": "5",
                                    "MerchandiseType": "plush",
                                    "MonthlySales": "11648",
                                    "MonthlyTotalSales": "126939"
                                },
                                {
                                    "DateMonth": "5",
                                    "MerchandiseType": "statues",
                                    "MonthlySales": "12862",
                                    "MonthlyTotalSales": "126939"
                                },
                                {
                                    "DateMonth": "6",
                                    "MerchandiseType": "accessories",
                                    "MonthlySales": "1415",
                                    "MonthlyTotalSales": "16253"
                                },
                                {
                                    "DateMonth": "6",
                                    "MerchandiseType": "board games",
                                    "MonthlySales": "2760",
                                    "MonthlyTotalSales": "16253"
                                },
                                {
                                    "DateMonth": "6",
                                    "MerchandiseType": "clothing",
                                    "MonthlySales": "5763",
                                    "MonthlyTotalSales": "16253"
                                },
                                {
                                    "DateMonth": "6",
                                    "MerchandiseType": "figures",
                                    "MonthlySales": "3247",
                                    "MonthlyTotalSales": "16253"
                                },
                                {
                                    "DateMonth": "6",
                                    "MerchandiseType": "pins",
                                    "MonthlySales": "168",
                                    "MonthlyTotalSales": "16253"
                                },
                                {
                                    "DateMonth": "6",
                                    "MerchandiseType": "plush",
                                    "MonthlySales": "2900",
                                    "MonthlyTotalSales": "16253"
                                },
                                {
                                    "DateMonth": "9",
                                    "MerchandiseType": "accessories",
                                    "MonthlySales": "416",
                                    "MonthlyTotalSales": "8303"
                                },
                                {
                                    "DateMonth": "9",
                                    "MerchandiseType": "art and book",
                                    "MonthlySales": "2771",
                                    "MonthlyTotalSales": "8303"
                                },
                                {
                                    "DateMonth": "9",
                                    "MerchandiseType": "clothing",
                                    "MonthlySales": "198",
                                    "MonthlyTotalSales": "8303"
                                },
                                {
                                    "DateMonth": "9",
                                    "MerchandiseType": "figures",
                                    "MonthlySales": "1686",
                                    "MonthlyTotalSales": "8303"
                                },
                                {
                                    "DateMonth": "9",
                                    "MerchandiseType": "pins",
                                    "MonthlySales": "488",
                                    "MonthlyTotalSales": "8303"
                                },
                                {
                                    "DateMonth": "9",
                                    "MerchandiseType": "plush",
                                    "MonthlySales": "1381",
                                    "MonthlyTotalSales": "8303"
                                },
                                {
                                    "DateMonth": "9",
                                    "MerchandiseType": "statues",
                                    "MonthlySales": "1363",
                                    "MonthlyTotalSales": "8303"
                                },
                                {
                                    "DateMonth": "10",
                                    "MerchandiseType": "accessories",
                                    "MonthlySales": "12719",
                                    "MonthlyTotalSales": "105123"
                                },
                                {
                                    "DateMonth": "10",
                                    "MerchandiseType": "art and book",
                                    "MonthlySales": "17631",
                                    "MonthlyTotalSales": "105123"
                                },
                                {
                                    "DateMonth": "10",
                                    "MerchandiseType": "board games",
                                    "MonthlySales": "2934",
                                    "MonthlyTotalSales": "105123"
                                },
                                {
                                    "DateMonth": "10",
                                    "MerchandiseType": "clothing",
                                    "MonthlySales": "10007",
                                    "MonthlyTotalSales": "105123"
                                },
                                {
                                    "DateMonth": "10",
                                    "MerchandiseType": "figures",
                                    "MonthlySales": "18693",
                                    "MonthlyTotalSales": "105123"
                                },
                                {
                                    "DateMonth": "10",
                                    "MerchandiseType": "pins",
                                    "MonthlySales": "21376",
                                    "MonthlyTotalSales": "105123"
                                },
                                {
                                    "DateMonth": "10",
                                    "MerchandiseType": "plush",
                                    "MonthlySales": "7088",
                                    "MonthlyTotalSales": "105123"
                                },
                                {
                                    "DateMonth": "10",
                                    "MerchandiseType": "statues",
                                    "MonthlySales": "14675",
                                    "MonthlyTotalSales": "105123"
                                }
                            ]
                        },
                        "text/html": "<table><tr><th>DateMonth</th><th>MerchandiseType</th><th>MonthlySales</th><th>MonthlyTotalSales</th></tr><tr><td>5</td><td>accessories</td><td>13803</td><td>126939</td></tr><tr><td>5</td><td>art and book</td><td>15036</td><td>126939</td></tr><tr><td>5</td><td>board games</td><td>9411</td><td>126939</td></tr><tr><td>5</td><td>clothing</td><td>22704</td><td>126939</td></tr><tr><td>5</td><td>figures</td><td>16851</td><td>126939</td></tr><tr><td>5</td><td>pins</td><td>24624</td><td>126939</td></tr><tr><td>5</td><td>plush</td><td>11648</td><td>126939</td></tr><tr><td>5</td><td>statues</td><td>12862</td><td>126939</td></tr><tr><td>6</td><td>accessories</td><td>1415</td><td>16253</td></tr><tr><td>6</td><td>board games</td><td>2760</td><td>16253</td></tr><tr><td>6</td><td>clothing</td><td>5763</td><td>16253</td></tr><tr><td>6</td><td>figures</td><td>3247</td><td>16253</td></tr><tr><td>6</td><td>pins</td><td>168</td><td>16253</td></tr><tr><td>6</td><td>plush</td><td>2900</td><td>16253</td></tr><tr><td>9</td><td>accessories</td><td>416</td><td>8303</td></tr><tr><td>9</td><td>art and book</td><td>2771</td><td>8303</td></tr><tr><td>9</td><td>clothing</td><td>198</td><td>8303</td></tr><tr><td>9</td><td>figures</td><td>1686</td><td>8303</td></tr><tr><td>9</td><td>pins</td><td>488</td><td>8303</td></tr><tr><td>9</td><td>plush</td><td>1381</td><td>8303</td></tr><tr><td>9</td><td>statues</td><td>1363</td><td>8303</td></tr><tr><td>10</td><td>accessories</td><td>12719</td><td>105123</td></tr><tr><td>10</td><td>art and book</td><td>17631</td><td>105123</td></tr><tr><td>10</td><td>board games</td><td>2934</td><td>105123</td></tr><tr><td>10</td><td>clothing</td><td>10007</td><td>105123</td></tr><tr><td>10</td><td>figures</td><td>18693</td><td>105123</td></tr><tr><td>10</td><td>pins</td><td>21376</td><td>105123</td></tr><tr><td>10</td><td>plush</td><td>7088</td><td>105123</td></tr><tr><td>10</td><td>statues</td><td>14675</td><td>105123</td></tr></table>"
                    },
                    "metadata": {}
                }
            ],
            "execution_count": 64
        },
        {
            "cell_type": "markdown",
            "source": [
                "2\\. total tickets sold of event and their incremental total for each distinct year"
            ],
            "metadata": {
                "azdata_cell_guid": "426c2fbc-0ee0-4eac-8f14-c1f8aa470015"
            },
            "attachments": {}
        },
        {
            "cell_type": "code",
            "source": [
                "SELECT \r\n",
                "       DD.DateYear,\r\n",
                "       DD.DateMonth,\r\n",
                "       SUM(EF.TicketsSold) AS TotalTicketsSold\r\n",
                "FROM \r\n",
                "    eventfact EF\r\n",
                "JOIN \r\n",
                "    EventDim ED ON EF.EventID = ED.EventID\r\n",
                "JOIN \r\n",
                "    DateDim  DD ON ED.EventStartDateID = DD.DateID\r\n",
                "GROUP BY  \r\n",
                "   ROLLUP(DD.DateYear, DD.DateMonth) "
            ],
            "metadata": {
                "azdata_cell_guid": "60b4538e-aa09-4ca8-981b-e44628fa6f81",
                "language": "sql"
            },
            "outputs": [
                {
                    "output_type": "display_data",
                    "data": {
                        "text/html": "(17 rows affected)"
                    },
                    "metadata": {}
                },
                {
                    "output_type": "display_data",
                    "data": {
                        "text/html": "Total execution time: 00:00:00.031"
                    },
                    "metadata": {}
                },
                {
                    "output_type": "execute_result",
                    "execution_count": 22,
                    "data": {
                        "application/vnd.dataresource+json": {
                            "schema": {
                                "fields": [
                                    {
                                        "name": "DateYear"
                                    },
                                    {
                                        "name": "DateMonth"
                                    },
                                    {
                                        "name": "TotalTicketsSold"
                                    }
                                ]
                            },
                            "data": [
                                {
                                    "DateYear": "2016",
                                    "DateMonth": "5",
                                    "TotalTicketsSold": "206613"
                                },
                                {
                                    "DateYear": "2016",
                                    "DateMonth": "9",
                                    "TotalTicketsSold": "178176"
                                },
                                {
                                    "DateYear": "2016",
                                    "DateMonth": "NULL",
                                    "TotalTicketsSold": "384789"
                                },
                                {
                                    "DateYear": "2017",
                                    "DateMonth": "4",
                                    "TotalTicketsSold": "172900"
                                },
                                {
                                    "DateYear": "2017",
                                    "DateMonth": "9",
                                    "TotalTicketsSold": "172557"
                                },
                                {
                                    "DateYear": "2017",
                                    "DateMonth": "NULL",
                                    "TotalTicketsSold": "345457"
                                },
                                {
                                    "DateYear": "2018",
                                    "DateMonth": "5",
                                    "TotalTicketsSold": "183600"
                                },
                                {
                                    "DateYear": "2018",
                                    "DateMonth": "10",
                                    "TotalTicketsSold": "140880"
                                },
                                {
                                    "DateYear": "2018",
                                    "DateMonth": "NULL",
                                    "TotalTicketsSold": "324480"
                                },
                                {
                                    "DateYear": "2019",
                                    "DateMonth": "5",
                                    "TotalTicketsSold": "158004"
                                },
                                {
                                    "DateYear": "2019",
                                    "DateMonth": "10",
                                    "TotalTicketsSold": "191008"
                                },
                                {
                                    "DateYear": "2019",
                                    "DateMonth": "NULL",
                                    "TotalTicketsSold": "349012"
                                },
                                {
                                    "DateYear": "2020",
                                    "DateMonth": "9",
                                    "TotalTicketsSold": "147574"
                                },
                                {
                                    "DateYear": "2020",
                                    "DateMonth": "NULL",
                                    "TotalTicketsSold": "147574"
                                },
                                {
                                    "DateYear": "2021",
                                    "DateMonth": "5",
                                    "TotalTicketsSold": "200596"
                                },
                                {
                                    "DateYear": "2021",
                                    "DateMonth": "NULL",
                                    "TotalTicketsSold": "200596"
                                },
                                {
                                    "DateYear": "NULL",
                                    "DateMonth": "NULL",
                                    "TotalTicketsSold": "1751908"
                                }
                            ]
                        },
                        "text/html": "<table><tr><th>DateYear</th><th>DateMonth</th><th>TotalTicketsSold</th></tr><tr><td>2016</td><td>5</td><td>206613</td></tr><tr><td>2016</td><td>9</td><td>178176</td></tr><tr><td>2016</td><td>NULL</td><td>384789</td></tr><tr><td>2017</td><td>4</td><td>172900</td></tr><tr><td>2017</td><td>9</td><td>172557</td></tr><tr><td>2017</td><td>NULL</td><td>345457</td></tr><tr><td>2018</td><td>5</td><td>183600</td></tr><tr><td>2018</td><td>10</td><td>140880</td></tr><tr><td>2018</td><td>NULL</td><td>324480</td></tr><tr><td>2019</td><td>5</td><td>158004</td></tr><tr><td>2019</td><td>10</td><td>191008</td></tr><tr><td>2019</td><td>NULL</td><td>349012</td></tr><tr><td>2020</td><td>9</td><td>147574</td></tr><tr><td>2020</td><td>NULL</td><td>147574</td></tr><tr><td>2021</td><td>5</td><td>200596</td></tr><tr><td>2021</td><td>NULL</td><td>200596</td></tr><tr><td>NULL</td><td>NULL</td><td>1751908</td></tr></table>"
                    },
                    "metadata": {}
                }
            ],
            "execution_count": 22
        },
        {
            "cell_type": "markdown",
            "source": [
                "3\\. pvt table of number of games each referee has been included in each table"
            ],
            "metadata": {
                "azdata_cell_guid": "963709b6-31bb-4077-9885-fb5f6ef5e45d"
            }
        },
        {
            "cell_type": "code",
            "source": [
                "SELECT \r\n",
                "    RefereeName,\r\n",
                "   [Copper Box Arena],\r\n",
                "   [KeyArena],\r\n",
                "   [Staples Centre],\r\n",
                "   [Wembley Arena],\r\n",
                "   [Commerzbank Arena],\r\n",
                "   [San Jose SAP Centre],\r\n",
                "   [Sang-am World Cup Stadium],\r\n",
                "   [Spodek Arena],\r\n",
                "   [CSKA Arena],\r\n",
                "   [Royal Arena]\r\n",
                "FROM (\r\n",
                "    SELECT \r\n",
                "        RD.RefereeName,\r\n",
                "        SD.StadiumName\r\n",
                "    FROM GameFact GF\r\n",
                "    JOIN RefereeDim RD ON GF.RefereeID = RD.RefereeID\r\n",
                "    JOIN StadiumDim SD ON GF.StadiumID = SD.StadiumID\r\n",
                "\r\n",
                ") AS UP\r\n",
                "PIVOT (\r\n",
                "    COUNT(StadiumName)\r\n",
                "    FOR StadiumName IN (\r\n",
                "        [Copper Box Arena], \r\n",
                "        [KeyArena], \r\n",
                "        [Staples Centre], \r\n",
                "        [Wembley Arena], \r\n",
                "        [Commerzbank Arena], \r\n",
                "        [San Jose SAP Centre], \r\n",
                "        [Sang-am World Cup Stadium], \r\n",
                "        [Spodek Arena], \r\n",
                "        [CSKA Arena], \r\n",
                "        [Royal Arena]\r\n",
                "    )\r\n",
                ") AS PVT;\r\n",
                ""
            ],
            "metadata": {
                "azdata_cell_guid": "7df2c480-350e-400e-8375-60fc31a0c72a",
                "language": "sql"
            },
            "outputs": [
                {
                    "output_type": "display_data",
                    "data": {
                        "text/html": "(27 rows affected)"
                    },
                    "metadata": {}
                },
                {
                    "output_type": "display_data",
                    "data": {
                        "text/html": "Total execution time: 00:00:00.047"
                    },
                    "metadata": {}
                },
                {
                    "output_type": "execute_result",
                    "execution_count": 38,
                    "data": {
                        "application/vnd.dataresource+json": {
                            "schema": {
                                "fields": [
                                    {
                                        "name": "RefereeName"
                                    },
                                    {
                                        "name": "Copper Box Arena"
                                    },
                                    {
                                        "name": "KeyArena"
                                    },
                                    {
                                        "name": "Staples Centre"
                                    },
                                    {
                                        "name": "Wembley Arena"
                                    },
                                    {
                                        "name": "Commerzbank Arena"
                                    },
                                    {
                                        "name": "San Jose SAP Centre"
                                    },
                                    {
                                        "name": "Sang-am World Cup Stadium"
                                    },
                                    {
                                        "name": "Spodek Arena"
                                    },
                                    {
                                        "name": "CSKA Arena"
                                    },
                                    {
                                        "name": "Royal Arena"
                                    }
                                ]
                            },
                            "data": [
                                {
                                    "RefereeName": "Ainslee Feben",
                                    "Copper Box Arena": "0",
                                    "KeyArena": "0",
                                    "Staples Centre": "0",
                                    "Wembley Arena": "1",
                                    "Commerzbank Arena": "0",
                                    "San Jose SAP Centre": "0",
                                    "Sang-am World Cup Stadium": "1",
                                    "Spodek Arena": "0",
                                    "CSKA Arena": "1",
                                    "Royal Arena": "0"
                                },
                                {
                                    "RefereeName": "Ches Breadon",
                                    "Copper Box Arena": "0",
                                    "KeyArena": "0",
                                    "Staples Centre": "1",
                                    "Wembley Arena": "0",
                                    "Commerzbank Arena": "1",
                                    "San Jose SAP Centre": "0",
                                    "Sang-am World Cup Stadium": "0",
                                    "Spodek Arena": "0",
                                    "CSKA Arena": "1",
                                    "Royal Arena": "0"
                                },
                                {
                                    "RefereeName": "Clarinda Bannon",
                                    "Copper Box Arena": "0",
                                    "KeyArena": "1",
                                    "Staples Centre": "0",
                                    "Wembley Arena": "0",
                                    "Commerzbank Arena": "0",
                                    "San Jose SAP Centre": "0",
                                    "Sang-am World Cup Stadium": "0",
                                    "Spodek Arena": "0",
                                    "CSKA Arena": "0",
                                    "Royal Arena": "1"
                                },
                                {
                                    "RefereeName": "Claudianus Witterick",
                                    "Copper Box Arena": "2",
                                    "KeyArena": "0",
                                    "Staples Centre": "0",
                                    "Wembley Arena": "0",
                                    "Commerzbank Arena": "0",
                                    "San Jose SAP Centre": "0",
                                    "Sang-am World Cup Stadium": "0",
                                    "Spodek Arena": "1",
                                    "CSKA Arena": "0",
                                    "Royal Arena": "0"
                                },
                                {
                                    "RefereeName": "Corny Jobbins",
                                    "Copper Box Arena": "1",
                                    "KeyArena": "0",
                                    "Staples Centre": "0",
                                    "Wembley Arena": "0",
                                    "Commerzbank Arena": "0",
                                    "San Jose SAP Centre": "0",
                                    "Sang-am World Cup Stadium": "0",
                                    "Spodek Arena": "2",
                                    "CSKA Arena": "0",
                                    "Royal Arena": "0"
                                },
                                {
                                    "RefereeName": "Drucie McTrustrie",
                                    "Copper Box Arena": "0",
                                    "KeyArena": "0",
                                    "Staples Centre": "0",
                                    "Wembley Arena": "0",
                                    "Commerzbank Arena": "0",
                                    "San Jose SAP Centre": "0",
                                    "Sang-am World Cup Stadium": "1",
                                    "Spodek Arena": "1",
                                    "CSKA Arena": "0",
                                    "Royal Arena": "0"
                                },
                                {
                                    "RefereeName": "Eamon Sessuns",
                                    "Copper Box Arena": "0",
                                    "KeyArena": "1",
                                    "Staples Centre": "1",
                                    "Wembley Arena": "0",
                                    "Commerzbank Arena": "0",
                                    "San Jose SAP Centre": "1",
                                    "Sang-am World Cup Stadium": "0",
                                    "Spodek Arena": "3",
                                    "CSKA Arena": "0",
                                    "Royal Arena": "0"
                                },
                                {
                                    "RefereeName": "Englebert Loughlin",
                                    "Copper Box Arena": "0",
                                    "KeyArena": "0",
                                    "Staples Centre": "0",
                                    "Wembley Arena": "1",
                                    "Commerzbank Arena": "1",
                                    "San Jose SAP Centre": "0",
                                    "Sang-am World Cup Stadium": "1",
                                    "Spodek Arena": "0",
                                    "CSKA Arena": "0",
                                    "Royal Arena": "0"
                                },
                                {
                                    "RefereeName": "Felix Odell",
                                    "Copper Box Arena": "0",
                                    "KeyArena": "0",
                                    "Staples Centre": "1",
                                    "Wembley Arena": "1",
                                    "Commerzbank Arena": "0",
                                    "San Jose SAP Centre": "0",
                                    "Sang-am World Cup Stadium": "0",
                                    "Spodek Arena": "0",
                                    "CSKA Arena": "0",
                                    "Royal Arena": "0"
                                },
                                {
                                    "RefereeName": "Gibby Wherrett",
                                    "Copper Box Arena": "1",
                                    "KeyArena": "2",
                                    "Staples Centre": "0",
                                    "Wembley Arena": "0",
                                    "Commerzbank Arena": "0",
                                    "San Jose SAP Centre": "1",
                                    "Sang-am World Cup Stadium": "0",
                                    "Spodek Arena": "0",
                                    "CSKA Arena": "1",
                                    "Royal Arena": "0"
                                },
                                {
                                    "RefereeName": "Guthrey Lavery",
                                    "Copper Box Arena": "0",
                                    "KeyArena": "1",
                                    "Staples Centre": "0",
                                    "Wembley Arena": "0",
                                    "Commerzbank Arena": "0",
                                    "San Jose SAP Centre": "1",
                                    "Sang-am World Cup Stadium": "0",
                                    "Spodek Arena": "0",
                                    "CSKA Arena": "0",
                                    "Royal Arena": "0"
                                },
                                {
                                    "RefereeName": "Haven Henden",
                                    "Copper Box Arena": "1",
                                    "KeyArena": "0",
                                    "Staples Centre": "0",
                                    "Wembley Arena": "2",
                                    "Commerzbank Arena": "1",
                                    "San Jose SAP Centre": "2",
                                    "Sang-am World Cup Stadium": "0",
                                    "Spodek Arena": "1",
                                    "CSKA Arena": "0",
                                    "Royal Arena": "0"
                                },
                                {
                                    "RefereeName": "Jameson Lamden",
                                    "Copper Box Arena": "1",
                                    "KeyArena": "1",
                                    "Staples Centre": "0",
                                    "Wembley Arena": "1",
                                    "Commerzbank Arena": "0",
                                    "San Jose SAP Centre": "0",
                                    "Sang-am World Cup Stadium": "0",
                                    "Spodek Arena": "1",
                                    "CSKA Arena": "1",
                                    "Royal Arena": "0"
                                },
                                {
                                    "RefereeName": "Kamilah Witter",
                                    "Copper Box Arena": "0",
                                    "KeyArena": "0",
                                    "Staples Centre": "1",
                                    "Wembley Arena": "0",
                                    "Commerzbank Arena": "0",
                                    "San Jose SAP Centre": "0",
                                    "Sang-am World Cup Stadium": "0",
                                    "Spodek Arena": "0",
                                    "CSKA Arena": "0",
                                    "Royal Arena": "0"
                                },
                                {
                                    "RefereeName": "Manon Tredget",
                                    "Copper Box Arena": "0",
                                    "KeyArena": "1",
                                    "Staples Centre": "1",
                                    "Wembley Arena": "0",
                                    "Commerzbank Arena": "0",
                                    "San Jose SAP Centre": "0",
                                    "Sang-am World Cup Stadium": "0",
                                    "Spodek Arena": "0",
                                    "CSKA Arena": "0",
                                    "Royal Arena": "1"
                                },
                                {
                                    "RefereeName": "Mariam McEttigen",
                                    "Copper Box Arena": "1",
                                    "KeyArena": "0",
                                    "Staples Centre": "1",
                                    "Wembley Arena": "1",
                                    "Commerzbank Arena": "0",
                                    "San Jose SAP Centre": "0",
                                    "Sang-am World Cup Stadium": "1",
                                    "Spodek Arena": "0",
                                    "CSKA Arena": "2",
                                    "Royal Arena": "1"
                                },
                                {
                                    "RefereeName": "Rice Schollick",
                                    "Copper Box Arena": "0",
                                    "KeyArena": "0",
                                    "Staples Centre": "1",
                                    "Wembley Arena": "0",
                                    "Commerzbank Arena": "0",
                                    "San Jose SAP Centre": "1",
                                    "Sang-am World Cup Stadium": "2",
                                    "Spodek Arena": "0",
                                    "CSKA Arena": "0",
                                    "Royal Arena": "1"
                                },
                                {
                                    "RefereeName": "Rollie Heasly",
                                    "Copper Box Arena": "1",
                                    "KeyArena": "0",
                                    "Staples Centre": "1",
                                    "Wembley Arena": "0",
                                    "Commerzbank Arena": "0",
                                    "San Jose SAP Centre": "0",
                                    "Sang-am World Cup Stadium": "0",
                                    "Spodek Arena": "0",
                                    "CSKA Arena": "0",
                                    "Royal Arena": "0"
                                },
                                {
                                    "RefereeName": "Ronalda Tallon",
                                    "Copper Box Arena": "1",
                                    "KeyArena": "0",
                                    "Staples Centre": "0",
                                    "Wembley Arena": "0",
                                    "Commerzbank Arena": "0",
                                    "San Jose SAP Centre": "1",
                                    "Sang-am World Cup Stadium": "0",
                                    "Spodek Arena": "0",
                                    "CSKA Arena": "1",
                                    "Royal Arena": "0"
                                },
                                {
                                    "RefereeName": "Shermie Halegarth",
                                    "Copper Box Arena": "1",
                                    "KeyArena": "1",
                                    "Staples Centre": "0",
                                    "Wembley Arena": "0",
                                    "Commerzbank Arena": "0",
                                    "San Jose SAP Centre": "0",
                                    "Sang-am World Cup Stadium": "0",
                                    "Spodek Arena": "0",
                                    "CSKA Arena": "0",
                                    "Royal Arena": "0"
                                },
                                {
                                    "RefereeName": "Silas Shekle",
                                    "Copper Box Arena": "0",
                                    "KeyArena": "1",
                                    "Staples Centre": "0",
                                    "Wembley Arena": "0",
                                    "Commerzbank Arena": "1",
                                    "San Jose SAP Centre": "0",
                                    "Sang-am World Cup Stadium": "1",
                                    "Spodek Arena": "0",
                                    "CSKA Arena": "0",
                                    "Royal Arena": "0"
                                },
                                {
                                    "RefereeName": "Stephani Cansfield",
                                    "Copper Box Arena": "1",
                                    "KeyArena": "0",
                                    "Staples Centre": "0",
                                    "Wembley Arena": "0",
                                    "Commerzbank Arena": "1",
                                    "San Jose SAP Centre": "2",
                                    "Sang-am World Cup Stadium": "0",
                                    "Spodek Arena": "0",
                                    "CSKA Arena": "0",
                                    "Royal Arena": "0"
                                },
                                {
                                    "RefereeName": "Tatiania Syseland",
                                    "Copper Box Arena": "0",
                                    "KeyArena": "1",
                                    "Staples Centre": "0",
                                    "Wembley Arena": "0",
                                    "Commerzbank Arena": "1",
                                    "San Jose SAP Centre": "1",
                                    "Sang-am World Cup Stadium": "0",
                                    "Spodek Arena": "0",
                                    "CSKA Arena": "0",
                                    "Royal Arena": "1"
                                },
                                {
                                    "RefereeName": "Tessa Rolfo",
                                    "Copper Box Arena": "0",
                                    "KeyArena": "0",
                                    "Staples Centre": "0",
                                    "Wembley Arena": "2",
                                    "Commerzbank Arena": "2",
                                    "San Jose SAP Centre": "0",
                                    "Sang-am World Cup Stadium": "0",
                                    "Spodek Arena": "0",
                                    "CSKA Arena": "0",
                                    "Royal Arena": "0"
                                },
                                {
                                    "RefereeName": "Theodoric Croshaw",
                                    "Copper Box Arena": "1",
                                    "KeyArena": "0",
                                    "Staples Centre": "0",
                                    "Wembley Arena": "0",
                                    "Commerzbank Arena": "1",
                                    "San Jose SAP Centre": "1",
                                    "Sang-am World Cup Stadium": "0",
                                    "Spodek Arena": "1",
                                    "CSKA Arena": "0",
                                    "Royal Arena": "0"
                                },
                                {
                                    "RefereeName": "Vickie Gallaway",
                                    "Copper Box Arena": "0",
                                    "KeyArena": "0",
                                    "Staples Centre": "0",
                                    "Wembley Arena": "1",
                                    "Commerzbank Arena": "0",
                                    "San Jose SAP Centre": "0",
                                    "Sang-am World Cup Stadium": "0",
                                    "Spodek Arena": "0",
                                    "CSKA Arena": "0",
                                    "Royal Arena": "0"
                                },
                                {
                                    "RefereeName": "Zoe Aberkirder",
                                    "Copper Box Arena": "0",
                                    "KeyArena": "1",
                                    "Staples Centre": "0",
                                    "Wembley Arena": "1",
                                    "Commerzbank Arena": "1",
                                    "San Jose SAP Centre": "0",
                                    "Sang-am World Cup Stadium": "0",
                                    "Spodek Arena": "0",
                                    "CSKA Arena": "0",
                                    "Royal Arena": "0"
                                }
                            ]
                        },
                        "text/html": "<table><tr><th>RefereeName</th><th>Copper Box Arena</th><th>KeyArena</th><th>Staples Centre</th><th>Wembley Arena</th><th>Commerzbank Arena</th><th>San Jose SAP Centre</th><th>Sang-am World Cup Stadium</th><th>Spodek Arena</th><th>CSKA Arena</th><th>Royal Arena</th></tr><tr><td>Ainslee Feben</td><td>0</td><td>0</td><td>0</td><td>1</td><td>0</td><td>0</td><td>1</td><td>0</td><td>1</td><td>0</td></tr><tr><td>Ches Breadon</td><td>0</td><td>0</td><td>1</td><td>0</td><td>1</td><td>0</td><td>0</td><td>0</td><td>1</td><td>0</td></tr><tr><td>Clarinda Bannon</td><td>0</td><td>1</td><td>0</td><td>0</td><td>0</td><td>0</td><td>0</td><td>0</td><td>0</td><td>1</td></tr><tr><td>Claudianus Witterick</td><td>2</td><td>0</td><td>0</td><td>0</td><td>0</td><td>0</td><td>0</td><td>1</td><td>0</td><td>0</td></tr><tr><td>Corny Jobbins</td><td>1</td><td>0</td><td>0</td><td>0</td><td>0</td><td>0</td><td>0</td><td>2</td><td>0</td><td>0</td></tr><tr><td>Drucie McTrustrie</td><td>0</td><td>0</td><td>0</td><td>0</td><td>0</td><td>0</td><td>1</td><td>1</td><td>0</td><td>0</td></tr><tr><td>Eamon Sessuns</td><td>0</td><td>1</td><td>1</td><td>0</td><td>0</td><td>1</td><td>0</td><td>3</td><td>0</td><td>0</td></tr><tr><td>Englebert Loughlin</td><td>0</td><td>0</td><td>0</td><td>1</td><td>1</td><td>0</td><td>1</td><td>0</td><td>0</td><td>0</td></tr><tr><td>Felix Odell</td><td>0</td><td>0</td><td>1</td><td>1</td><td>0</td><td>0</td><td>0</td><td>0</td><td>0</td><td>0</td></tr><tr><td>Gibby Wherrett</td><td>1</td><td>2</td><td>0</td><td>0</td><td>0</td><td>1</td><td>0</td><td>0</td><td>1</td><td>0</td></tr><tr><td>Guthrey Lavery</td><td>0</td><td>1</td><td>0</td><td>0</td><td>0</td><td>1</td><td>0</td><td>0</td><td>0</td><td>0</td></tr><tr><td>Haven Henden</td><td>1</td><td>0</td><td>0</td><td>2</td><td>1</td><td>2</td><td>0</td><td>1</td><td>0</td><td>0</td></tr><tr><td>Jameson Lamden</td><td>1</td><td>1</td><td>0</td><td>1</td><td>0</td><td>0</td><td>0</td><td>1</td><td>1</td><td>0</td></tr><tr><td>Kamilah Witter</td><td>0</td><td>0</td><td>1</td><td>0</td><td>0</td><td>0</td><td>0</td><td>0</td><td>0</td><td>0</td></tr><tr><td>Manon Tredget</td><td>0</td><td>1</td><td>1</td><td>0</td><td>0</td><td>0</td><td>0</td><td>0</td><td>0</td><td>1</td></tr><tr><td>Mariam McEttigen</td><td>1</td><td>0</td><td>1</td><td>1</td><td>0</td><td>0</td><td>1</td><td>0</td><td>2</td><td>1</td></tr><tr><td>Rice Schollick</td><td>0</td><td>0</td><td>1</td><td>0</td><td>0</td><td>1</td><td>2</td><td>0</td><td>0</td><td>1</td></tr><tr><td>Rollie Heasly</td><td>1</td><td>0</td><td>1</td><td>0</td><td>0</td><td>0</td><td>0</td><td>0</td><td>0</td><td>0</td></tr><tr><td>Ronalda Tallon</td><td>1</td><td>0</td><td>0</td><td>0</td><td>0</td><td>1</td><td>0</td><td>0</td><td>1</td><td>0</td></tr><tr><td>Shermie Halegarth</td><td>1</td><td>1</td><td>0</td><td>0</td><td>0</td><td>0</td><td>0</td><td>0</td><td>0</td><td>0</td></tr><tr><td>Silas Shekle</td><td>0</td><td>1</td><td>0</td><td>0</td><td>1</td><td>0</td><td>1</td><td>0</td><td>0</td><td>0</td></tr><tr><td>Stephani Cansfield</td><td>1</td><td>0</td><td>0</td><td>0</td><td>1</td><td>2</td><td>0</td><td>0</td><td>0</td><td>0</td></tr><tr><td>Tatiania Syseland</td><td>0</td><td>1</td><td>0</td><td>0</td><td>1</td><td>1</td><td>0</td><td>0</td><td>0</td><td>1</td></tr><tr><td>Tessa Rolfo</td><td>0</td><td>0</td><td>0</td><td>2</td><td>2</td><td>0</td><td>0</td><td>0</td><td>0</td><td>0</td></tr><tr><td>Theodoric Croshaw</td><td>1</td><td>0</td><td>0</td><td>0</td><td>1</td><td>1</td><td>0</td><td>1</td><td>0</td><td>0</td></tr><tr><td>Vickie Gallaway</td><td>0</td><td>0</td><td>0</td><td>1</td><td>0</td><td>0</td><td>0</td><td>0</td><td>0</td><td>0</td></tr><tr><td>Zoe Aberkirder</td><td>0</td><td>1</td><td>0</td><td>1</td><td>1</td><td>0</td><td>0</td><td>0</td><td>0</td><td>0</td></tr></table>"
                    },
                    "metadata": {}
                }
            ],
            "execution_count": 38
        },
        {
            "cell_type": "markdown",
            "source": [
                "how many players postioningame which is support and age abobe and below 25"
            ],
            "metadata": {
                "azdata_cell_guid": "67e06627-2bd1-4625-b98f-0c916fbacee3"
            },
            "attachments": {}
        },
        {
            "cell_type": "code",
            "source": [
                "    SELECT \r\n",
                "        COUNT(DISTINCT  PD.PlayerRealName) AS players,'at most 25' as Age\r\n",
                "    FROM \r\n",
                "        PlayerDim PD \r\n",
                "    JOIN \r\n",
                "        PlayerInGameDim PIG ON PD.PlayerID = PIG.PlayerID\r\n",
                "WHERE \r\n",
                "    DATEDIFF(YEAR, PD.PlayerDoB, GETDATE()) <= 25 AND \r\n",
                "    PIG.PlayerInGamePositionInGame = 'Support'\r\n",
                "UNION\r\n",
                "    SELECT \r\n",
                "        COUNT(DISTINCT  PD.PlayerRealName) AS players,'at least 25' as Age\r\n",
                "    FROM \r\n",
                "        PlayerDim PD \r\n",
                "    JOIN \r\n",
                "        PlayerInGameDim PIG ON PD.PlayerID = PIG.PlayerID\r\n",
                "    WHERE \r\n",
                "        DATEDIFF(YEAR, PD.PlayerDoB, GETDATE()) > 25 AND \r\n",
                "        PIG.PlayerInGamePositionInGame = 'Support'"
            ],
            "metadata": {
                "azdata_cell_guid": "2944d055-b18d-482a-a354-f698ce59c39c",
                "language": "sql"
            },
            "outputs": [
                {
                    "output_type": "display_data",
                    "data": {
                        "text/html": "(2 rows affected)"
                    },
                    "metadata": {}
                },
                {
                    "output_type": "display_data",
                    "data": {
                        "text/html": "Total execution time: 00:00:00.290"
                    },
                    "metadata": {}
                },
                {
                    "output_type": "execute_result",
                    "execution_count": 18,
                    "data": {
                        "application/vnd.dataresource+json": {
                            "schema": {
                                "fields": [
                                    {
                                        "name": "players"
                                    },
                                    {
                                        "name": "Age"
                                    }
                                ]
                            },
                            "data": [
                                {
                                    "players": "51",
                                    "Age": "at least 25"
                                },
                                {
                                    "players": "86",
                                    "Age": "at most 25"
                                }
                            ]
                        },
                        "text/html": "<table><tr><th>players</th><th>Age</th></tr><tr><td>51</td><td>at least 25</td></tr><tr><td>86</td><td>at most 25</td></tr></table>"
                    },
                    "metadata": {}
                }
            ],
            "execution_count": 18
        },
        {
            "cell_type": "markdown",
            "source": [
                "4.find cubed total of game duration by month and year wise where game was played at least half an hour"
            ],
            "metadata": {
                "azdata_cell_guid": "a0575044-869c-479d-9bca-a75792ca97e5"
            },
            "attachments": {}
        },
        {
            "cell_type": "code",
            "source": [
                "SELECT  \r\n",
                "    DD.DateMonth, \r\n",
                "    DD.DateYear, \r\n",
                "    CONCAT(SUM(GF.GameDuration), ' minutes') AS gameDuration\r\n",
                "FROM \r\n",
                "    GameFact GF \r\n",
                "JOIN \r\n",
                "    DateDim DD ON DD.DateID = GF.DateID\r\n",
                "GROUP by cube(DD.DateMonth, DD.DateYear)\r\n",
                "HAVING SUM(GF.GameDuration) > 30\r\n",
                ""
            ],
            "metadata": {
                "azdata_cell_guid": "c1f47cde-e0f5-4622-a5e6-62a071b1f9d4",
                "language": "sql"
            },
            "outputs": [
                {
                    "output_type": "display_data",
                    "data": {
                        "text/html": "(21 rows affected)"
                    },
                    "metadata": {}
                },
                {
                    "output_type": "display_data",
                    "data": {
                        "text/html": "Total execution time: 00:00:00.047"
                    },
                    "metadata": {}
                },
                {
                    "output_type": "execute_result",
                    "execution_count": 36,
                    "data": {
                        "application/vnd.dataresource+json": {
                            "schema": {
                                "fields": [
                                    {
                                        "name": "DateMonth"
                                    },
                                    {
                                        "name": "DateYear"
                                    },
                                    {
                                        "name": "gameDuration"
                                    }
                                ]
                            },
                            "data": [
                                {
                                    "DateMonth": "5",
                                    "DateYear": "2016",
                                    "gameDuration": "362 minutes"
                                },
                                {
                                    "DateMonth": "10",
                                    "DateYear": "2016",
                                    "gameDuration": "265 minutes"
                                },
                                {
                                    "DateMonth": "NULL",
                                    "DateYear": "2016",
                                    "gameDuration": "627 minutes"
                                },
                                {
                                    "DateMonth": "5",
                                    "DateYear": "2017",
                                    "gameDuration": "282 minutes"
                                },
                                {
                                    "DateMonth": "9",
                                    "DateYear": "2017",
                                    "gameDuration": "75 minutes"
                                },
                                {
                                    "DateMonth": "10",
                                    "DateYear": "2017",
                                    "gameDuration": "310 minutes"
                                },
                                {
                                    "DateMonth": "NULL",
                                    "DateYear": "2017",
                                    "gameDuration": "690 minutes"
                                },
                                {
                                    "DateMonth": "5",
                                    "DateYear": "2018",
                                    "gameDuration": "100 minutes"
                                },
                                {
                                    "DateMonth": "10",
                                    "DateYear": "2018",
                                    "gameDuration": "326 minutes"
                                },
                                {
                                    "DateMonth": "NULL",
                                    "DateYear": "2018",
                                    "gameDuration": "454 minutes"
                                },
                                {
                                    "DateMonth": "5",
                                    "DateYear": "2019",
                                    "gameDuration": "424 minutes"
                                },
                                {
                                    "DateMonth": "10",
                                    "DateYear": "2019",
                                    "gameDuration": "182 minutes"
                                },
                                {
                                    "DateMonth": "NULL",
                                    "DateYear": "2019",
                                    "gameDuration": "606 minutes"
                                },
                                {
                                    "DateMonth": "10",
                                    "DateYear": "2020",
                                    "gameDuration": "327 minutes"
                                },
                                {
                                    "DateMonth": "NULL",
                                    "DateYear": "2020",
                                    "gameDuration": "327 minutes"
                                },
                                {
                                    "DateMonth": "5",
                                    "DateYear": "2021",
                                    "gameDuration": "614 minutes"
                                },
                                {
                                    "DateMonth": "NULL",
                                    "DateYear": "2021",
                                    "gameDuration": "614 minutes"
                                },
                                {
                                    "DateMonth": "NULL",
                                    "DateYear": "NULL",
                                    "gameDuration": "3318 minutes"
                                },
                                {
                                    "DateMonth": "5",
                                    "DateYear": "NULL",
                                    "gameDuration": "1782 minutes"
                                },
                                {
                                    "DateMonth": "9",
                                    "DateYear": "NULL",
                                    "gameDuration": "75 minutes"
                                },
                                {
                                    "DateMonth": "10",
                                    "DateYear": "NULL",
                                    "gameDuration": "1410 minutes"
                                }
                            ]
                        },
                        "text/html": "<table><tr><th>DateMonth</th><th>DateYear</th><th>gameDuration</th></tr><tr><td>5</td><td>2016</td><td>362 minutes</td></tr><tr><td>10</td><td>2016</td><td>265 minutes</td></tr><tr><td>NULL</td><td>2016</td><td>627 minutes</td></tr><tr><td>5</td><td>2017</td><td>282 minutes</td></tr><tr><td>9</td><td>2017</td><td>75 minutes</td></tr><tr><td>10</td><td>2017</td><td>310 minutes</td></tr><tr><td>NULL</td><td>2017</td><td>690 minutes</td></tr><tr><td>5</td><td>2018</td><td>100 minutes</td></tr><tr><td>10</td><td>2018</td><td>326 minutes</td></tr><tr><td>NULL</td><td>2018</td><td>454 minutes</td></tr><tr><td>5</td><td>2019</td><td>424 minutes</td></tr><tr><td>10</td><td>2019</td><td>182 minutes</td></tr><tr><td>NULL</td><td>2019</td><td>606 minutes</td></tr><tr><td>10</td><td>2020</td><td>327 minutes</td></tr><tr><td>NULL</td><td>2020</td><td>327 minutes</td></tr><tr><td>5</td><td>2021</td><td>614 minutes</td></tr><tr><td>NULL</td><td>2021</td><td>614 minutes</td></tr><tr><td>NULL</td><td>NULL</td><td>3318 minutes</td></tr><tr><td>5</td><td>NULL</td><td>1782 minutes</td></tr><tr><td>9</td><td>NULL</td><td>75 minutes</td></tr><tr><td>10</td><td>NULL</td><td>1410 minutes</td></tr></table>"
                    },
                    "metadata": {}
                }
            ],
            "execution_count": 36
        },
        {
            "cell_type": "markdown",
            "source": [
                "5.First and last kill by each player along with thier incremental total kill between first and last kill"
            ],
            "metadata": {
                "azdata_cell_guid": "51a37471-aa2a-4892-91fe-1915dab509a3"
            },
            "attachments": {}
        },
        {
            "cell_type": "code",
            "source": [
                "SELECT \r\n",
                "    P.PlayerGameName,\r\n",
                "    PR.PRKills,\r\n",
                "    FIRST_VALUE(PR.PRKills) OVER(PARTITION BY P.PlayerID ORDER BY PIG.GameID) AS FirstKill,\r\n",
                "    LAST_VALUE(PR.PRKills) OVER(PARTITION BY P.PlayerID ORDER BY PIG.GameID ROWS BETWEEN UNBOUNDED PRECEDING AND UNBOUNDED FOLLOWING) AS LastKill,\r\n",
                "    SUM(PR.PRKills) OVER(PARTITION BY P.PlayerID ORDER BY PIG.GameID) as totalKills\r\n",
                "FROM \r\n",
                "    PlayerDim P\r\n",
                "JOIN\r\n",
                "    PlayerInGameDim PIG ON P.PlayerID = PIG.PlayerID\r\n",
                "JOIN \r\n",
                "    PersonalRecordDim PR ON PR.PRID = PIG.PRID\r\n",
                "\r\n",
                "\r\n",
                ""
            ],
            "metadata": {
                "language": "sql",
                "azdata_cell_guid": "d81392a4-94e1-474a-9648-4c776ce861e6"
            },
            "outputs": [
{
    "output_type": "display_data",
    "data": {
        "text/html": "(867 rows affected)"
    },
    "metadata": {}
}, {
    "output_type": "display_data",
    "data": {
        "text/html": "Total execution time: 00:00:00.093"
    },
    "metadata": {}
}, {
    "output_type": "execute_result",
    "metadata": {},
    "execution_count": 23,
    "data": {
        "application/vnd.dataresource+json": {
            "schema": {
                "fields": [
                    {
                        "name": "PlayerGameName"
                    },
                    {
                        "name": "PRKills"
                    },
                    {
                        "name": "FirstKill"
                    },
                    {
                        "name": "LastKill"
                    },
                    {
                        "name": "totalKills"
                    }
                ]
            },
            "data": [
                {
                    "PlayerGameName": "bde0",
                    "PRKills": "9",
                    "FirstKill": "9",
                    "LastKill": "10",
                    "totalKills": "9"
                },
                {
                    "PlayerGameName": "bde0",
                    "PRKills": "21",
                    "FirstKill": "9",
                    "LastKill": "10",
                    "totalKills": "30"
                },
                {
                    "PlayerGameName": "bde0",
                    "PRKills": "13",
                    "FirstKill": "9",
                    "LastKill": "10",
                    "totalKills": "43"
                },
                {
                    "PlayerGameName": "bde0",
                    "PRKills": "10",
                    "FirstKill": "9",
                    "LastKill": "10",
                    "totalKills": "53"
                },
                {
                    "PlayerGameName": "gsabattier1",
                    "PRKills": "26",
                    "FirstKill": "26",
                    "LastKill": "26",
                    "totalKills": "26"
                },
                {
                    "PlayerGameName": "fbenitti2",
                    "PRKills": "20",
                    "FirstKill": "20",
                    "LastKill": "12",
                    "totalKills": "20"
                },
                {
                    "PlayerGameName": "fbenitti2",
                    "PRKills": "12",
                    "FirstKill": "20",
                    "LastKill": "12",
                    "totalKills": "32"
                },
                {
                    "PlayerGameName": "kbartomeu3",
                    "PRKills": "25",
                    "FirstKill": "25",
                    "LastKill": "9",
                    "totalKills": "25"
                },
                {
                    "PlayerGameName": "kbartomeu3",
                    "PRKills": "9",
                    "FirstKill": "25",
                    "LastKill": "9",
                    "totalKills": "34"
                },
                {
                    "PlayerGameName": "ttaffe4",
                    "PRKills": "14",
                    "FirstKill": "14",
                    "LastKill": "12",
                    "totalKills": "14"
                },
                {
                    "PlayerGameName": "ttaffe4",
                    "PRKills": "12",
                    "FirstKill": "14",
                    "LastKill": "12",
                    "totalKills": "26"
                },
                {
                    "PlayerGameName": "wdallaway5",
                    "PRKills": "1",
                    "FirstKill": "1",
                    "LastKill": "33",
                    "totalKills": "1"
                },
                {
                    "PlayerGameName": "wdallaway5",
                    "PRKills": "9",
                    "FirstKill": "1",
                    "LastKill": "33",
                    "totalKills": "10"
                },
                {
                    "PlayerGameName": "wdallaway5",
                    "PRKills": "33",
                    "FirstKill": "1",
                    "LastKill": "33",
                    "totalKills": "43"
                },
                {
                    "PlayerGameName": "jbalston6",
                    "PRKills": "32",
                    "FirstKill": "32",
                    "LastKill": "32",
                    "totalKills": "32"
                },
                {
                    "PlayerGameName": "sblenkharn7",
                    "PRKills": "8",
                    "FirstKill": "8",
                    "LastKill": "9",
                    "totalKills": "8"
                },
                {
                    "PlayerGameName": "sblenkharn7",
                    "PRKills": "9",
                    "FirstKill": "8",
                    "LastKill": "9",
                    "totalKills": "17"
                },
                {
                    "PlayerGameName": "fcanon8",
                    "PRKills": "31",
                    "FirstKill": "31",
                    "LastKill": "31",
                    "totalKills": "31"
                },
                {
                    "PlayerGameName": "fpavolini9",
                    "PRKills": "25",
                    "FirstKill": "25",
                    "LastKill": "5",
                    "totalKills": "25"
                },
                {
                    "PlayerGameName": "fpavolini9",
                    "PRKills": "14",
                    "FirstKill": "25",
                    "LastKill": "5",
                    "totalKills": "39"
                },
                {
                    "PlayerGameName": "fpavolini9",
                    "PRKills": "5",
                    "FirstKill": "25",
                    "LastKill": "5",
                    "totalKills": "44"
                },
                {
                    "PlayerGameName": "rshewena",
                    "PRKills": "20",
                    "FirstKill": "20",
                    "LastKill": "20",
                    "totalKills": "20"
                },
                {
                    "PlayerGameName": "gbourgaizeb",
                    "PRKills": "32",
                    "FirstKill": "32",
                    "LastKill": "32",
                    "totalKills": "32"
                },
                {
                    "PlayerGameName": "ivasenkovc",
                    "PRKills": "33",
                    "FirstKill": "33",
                    "LastKill": "1",
                    "totalKills": "33"
                },
                {
                    "PlayerGameName": "ivasenkovc",
                    "PRKills": "9",
                    "FirstKill": "33",
                    "LastKill": "1",
                    "totalKills": "42"
                },
                {
                    "PlayerGameName": "ivasenkovc",
                    "PRKills": "1",
                    "FirstKill": "33",
                    "LastKill": "1",
                    "totalKills": "43"
                },
                {
                    "PlayerGameName": "hconnelld",
                    "PRKills": "30",
                    "FirstKill": "30",
                    "LastKill": "9",
                    "totalKills": "30"
                },
                {
                    "PlayerGameName": "hconnelld",
                    "PRKills": "0",
                    "FirstKill": "30",
                    "LastKill": "9",
                    "totalKills": "30"
                },
                {
                    "PlayerGameName": "hconnelld",
                    "PRKills": "9",
                    "FirstKill": "30",
                    "LastKill": "9",
                    "totalKills": "39"
                },
                {
                    "PlayerGameName": "basplee",
                    "PRKills": "27",
                    "FirstKill": "27",
                    "LastKill": "19",
                    "totalKills": "27"
                },
                {
                    "PlayerGameName": "basplee",
                    "PRKills": "19",
                    "FirstKill": "27",
                    "LastKill": "19",
                    "totalKills": "46"
                },
                {
                    "PlayerGameName": "scoochf",
                    "PRKills": "28",
                    "FirstKill": "28",
                    "LastKill": "15",
                    "totalKills": "28"
                },
                {
                    "PlayerGameName": "scoochf",
                    "PRKills": "21",
                    "FirstKill": "28",
                    "LastKill": "15",
                    "totalKills": "49"
                },
                {
                    "PlayerGameName": "scoochf",
                    "PRKills": "29",
                    "FirstKill": "28",
                    "LastKill": "15",
                    "totalKills": "93"
                },
                {
                    "PlayerGameName": "scoochf",
                    "PRKills": "15",
                    "FirstKill": "28",
                    "LastKill": "15",
                    "totalKills": "93"
                },
                {
                    "PlayerGameName": "slimmingg",
                    "PRKills": "28",
                    "FirstKill": "28",
                    "LastKill": "3",
                    "totalKills": "28"
                },
                {
                    "PlayerGameName": "slimmingg",
                    "PRKills": "3",
                    "FirstKill": "28",
                    "LastKill": "3",
                    "totalKills": "31"
                },
                {
                    "PlayerGameName": "byorathh",
                    "PRKills": "3",
                    "FirstKill": "3",
                    "LastKill": "0",
                    "totalKills": "3"
                },
                {
                    "PlayerGameName": "byorathh",
                    "PRKills": "8",
                    "FirstKill": "3",
                    "LastKill": "0",
                    "totalKills": "11"
                },
                {
                    "PlayerGameName": "byorathh",
                    "PRKills": "0",
                    "FirstKill": "3",
                    "LastKill": "0",
                    "totalKills": "11"
                },
                {
                    "PlayerGameName": "pegiloffi",
                    "PRKills": "6",
                    "FirstKill": "6",
                    "LastKill": "29",
                    "totalKills": "6"
                },
                {
                    "PlayerGameName": "pegiloffi",
                    "PRKills": "31",
                    "FirstKill": "6",
                    "LastKill": "29",
                    "totalKills": "37"
                },
                {
                    "PlayerGameName": "pegiloffi",
                    "PRKills": "29",
                    "FirstKill": "6",
                    "LastKill": "29",
                    "totalKills": "66"
                },
                {
                    "PlayerGameName": "ccrothersj",
                    "PRKills": "28",
                    "FirstKill": "28",
                    "LastKill": "31",
                    "totalKills": "28"
                },
                {
                    "PlayerGameName": "ccrothersj",
                    "PRKills": "33",
                    "FirstKill": "28",
                    "LastKill": "31",
                    "totalKills": "61"
                },
                {
                    "PlayerGameName": "ccrothersj",
                    "PRKills": "31",
                    "FirstKill": "28",
                    "LastKill": "31",
                    "totalKills": "92"
                },
                {
                    "PlayerGameName": "arucklessek",
                    "PRKills": "31",
                    "FirstKill": "31",
                    "LastKill": "25",
                    "totalKills": "31"
                },
                {
                    "PlayerGameName": "arucklessek",
                    "PRKills": "29",
                    "FirstKill": "31",
                    "LastKill": "25",
                    "totalKills": "60"
                },
                {
                    "PlayerGameName": "arucklessek",
                    "PRKills": "32",
                    "FirstKill": "31",
                    "LastKill": "25",
                    "totalKills": "92"
                },
                {
                    "PlayerGameName": "arucklessek",
                    "PRKills": "25",
                    "FirstKill": "31",
                    "LastKill": "25",
                    "totalKills": "117"
                },
                {
                    "PlayerGameName": "solooneyl",
                    "PRKills": "7",
                    "FirstKill": "7",
                    "LastKill": "7",
                    "totalKills": "7"
                },
                {
                    "PlayerGameName": "eprivostn",
                    "PRKills": "19",
                    "FirstKill": "19",
                    "LastKill": "19",
                    "totalKills": "19"
                },
                {
                    "PlayerGameName": "dtarbeto",
                    "PRKills": "19",
                    "FirstKill": "19",
                    "LastKill": "23",
                    "totalKills": "19"
                },
                {
                    "PlayerGameName": "dtarbeto",
                    "PRKills": "5",
                    "FirstKill": "19",
                    "LastKill": "23",
                    "totalKills": "24"
                },
                {
                    "PlayerGameName": "dtarbeto",
                    "PRKills": "23",
                    "FirstKill": "19",
                    "LastKill": "23",
                    "totalKills": "47"
                },
                {
                    "PlayerGameName": "kphilimorep",
                    "PRKills": "6",
                    "FirstKill": "6",
                    "LastKill": "6",
                    "totalKills": "6"
                },
                {
                    "PlayerGameName": "echestleq",
                    "PRKills": "5",
                    "FirstKill": "5",
                    "LastKill": "5",
                    "totalKills": "5"
                },
                {
                    "PlayerGameName": "fcobbr",
                    "PRKills": "14",
                    "FirstKill": "14",
                    "LastKill": "5",
                    "totalKills": "14"
                },
                {
                    "PlayerGameName": "fcobbr",
                    "PRKills": "13",
                    "FirstKill": "14",
                    "LastKill": "5",
                    "totalKills": "27"
                },
                {
                    "PlayerGameName": "fcobbr",
                    "PRKills": "3",
                    "FirstKill": "14",
                    "LastKill": "5",
                    "totalKills": "30"
                },
                {
                    "PlayerGameName": "fcobbr",
                    "PRKills": "10",
                    "FirstKill": "14",
                    "LastKill": "5",
                    "totalKills": "40"
                },
                {
                    "PlayerGameName": "fcobbr",
                    "PRKills": "5",
                    "FirstKill": "14",
                    "LastKill": "5",
                    "totalKills": "45"
                },
                {
                    "PlayerGameName": "abirketts",
                    "PRKills": "1",
                    "FirstKill": "1",
                    "LastKill": "1",
                    "totalKills": "1"
                },
                {
                    "PlayerGameName": "dmcivert",
                    "PRKills": "17",
                    "FirstKill": "17",
                    "LastKill": "6",
                    "totalKills": "17"
                },
                {
                    "PlayerGameName": "dmcivert",
                    "PRKills": "26",
                    "FirstKill": "17",
                    "LastKill": "6",
                    "totalKills": "43"
                },
                {
                    "PlayerGameName": "dmcivert",
                    "PRKills": "11",
                    "FirstKill": "17",
                    "LastKill": "6",
                    "totalKills": "54"
                },
                {
                    "PlayerGameName": "dmcivert",
                    "PRKills": "6",
                    "FirstKill": "17",
                    "LastKill": "6",
                    "totalKills": "60"
                },
                {
                    "PlayerGameName": "gbockingu",
                    "PRKills": "10",
                    "FirstKill": "10",
                    "LastKill": "33",
                    "totalKills": "10"
                },
                {
                    "PlayerGameName": "gbockingu",
                    "PRKills": "33",
                    "FirstKill": "10",
                    "LastKill": "33",
                    "totalKills": "43"
                },
                {
                    "PlayerGameName": "awetherilv",
                    "PRKills": "19",
                    "FirstKill": "19",
                    "LastKill": "25",
                    "totalKills": "19"
                },
                {
                    "PlayerGameName": "awetherilv",
                    "PRKills": "25",
                    "FirstKill": "19",
                    "LastKill": "25",
                    "totalKills": "44"
                },
                {
                    "PlayerGameName": "nmccookew",
                    "PRKills": "19",
                    "FirstKill": "19",
                    "LastKill": "8",
                    "totalKills": "19"
                },
                {
                    "PlayerGameName": "nmccookew",
                    "PRKills": "8",
                    "FirstKill": "19",
                    "LastKill": "8",
                    "totalKills": "27"
                },
                {
                    "PlayerGameName": "telsex",
                    "PRKills": "17",
                    "FirstKill": "17",
                    "LastKill": "12",
                    "totalKills": "17"
                },
                {
                    "PlayerGameName": "telsex",
                    "PRKills": "12",
                    "FirstKill": "17",
                    "LastKill": "12",
                    "totalKills": "29"
                },
                {
                    "PlayerGameName": "pianniy",
                    "PRKills": "13",
                    "FirstKill": "13",
                    "LastKill": "23",
                    "totalKills": "13"
                },
                {
                    "PlayerGameName": "pianniy",
                    "PRKills": "23",
                    "FirstKill": "13",
                    "LastKill": "23",
                    "totalKills": "36"
                },
                {
                    "PlayerGameName": "ravrahamovz",
                    "PRKills": "1",
                    "FirstKill": "1",
                    "LastKill": "5",
                    "totalKills": "1"
                },
                {
                    "PlayerGameName": "ravrahamovz",
                    "PRKills": "5",
                    "FirstKill": "1",
                    "LastKill": "5",
                    "totalKills": "6"
                },
                {
                    "PlayerGameName": "jlerohan10",
                    "PRKills": "0",
                    "FirstKill": "0",
                    "LastKill": "15",
                    "totalKills": "0"
                },
                {
                    "PlayerGameName": "jlerohan10",
                    "PRKills": "15",
                    "FirstKill": "0",
                    "LastKill": "15",
                    "totalKills": "15"
                },
                {
                    "PlayerGameName": "fcoonihan11",
                    "PRKills": "21",
                    "FirstKill": "21",
                    "LastKill": "12",
                    "totalKills": "21"
                },
                {
                    "PlayerGameName": "fcoonihan11",
                    "PRKills": "12",
                    "FirstKill": "21",
                    "LastKill": "12",
                    "totalKills": "33"
                },
                {
                    "PlayerGameName": "lgosenell12",
                    "PRKills": "13",
                    "FirstKill": "13",
                    "LastKill": "23",
                    "totalKills": "13"
                },
                {
                    "PlayerGameName": "lgosenell12",
                    "PRKills": "3",
                    "FirstKill": "13",
                    "LastKill": "23",
                    "totalKills": "16"
                },
                {
                    "PlayerGameName": "lgosenell12",
                    "PRKills": "10",
                    "FirstKill": "13",
                    "LastKill": "23",
                    "totalKills": "26"
                },
                {
                    "PlayerGameName": "lgosenell12",
                    "PRKills": "23",
                    "FirstKill": "13",
                    "LastKill": "23",
                    "totalKills": "49"
                },
                {
                    "PlayerGameName": "ebrayn13",
                    "PRKills": "20",
                    "FirstKill": "20",
                    "LastKill": "20",
                    "totalKills": "20"
                },
                {
                    "PlayerGameName": "hkenway14",
                    "PRKills": "15",
                    "FirstKill": "15",
                    "LastKill": "15",
                    "totalKills": "15"
                },
                {
                    "PlayerGameName": "kcandlish15",
                    "PRKills": "11",
                    "FirstKill": "11",
                    "LastKill": "31",
                    "totalKills": "11"
                },
                {
                    "PlayerGameName": "kcandlish15",
                    "PRKills": "9",
                    "FirstKill": "11",
                    "LastKill": "31",
                    "totalKills": "20"
                },
                {
                    "PlayerGameName": "kcandlish15",
                    "PRKills": "26",
                    "FirstKill": "11",
                    "LastKill": "31",
                    "totalKills": "46"
                },
                {
                    "PlayerGameName": "kcandlish15",
                    "PRKills": "31",
                    "FirstKill": "11",
                    "LastKill": "31",
                    "totalKills": "77"
                },
                {
                    "PlayerGameName": "fapfler16",
                    "PRKills": "20",
                    "FirstKill": "20",
                    "LastKill": "30",
                    "totalKills": "20"
                },
                {
                    "PlayerGameName": "fapfler16",
                    "PRKills": "30",
                    "FirstKill": "20",
                    "LastKill": "30",
                    "totalKills": "50"
                },
                {
                    "PlayerGameName": "sruttgers19",
                    "PRKills": "27",
                    "FirstKill": "27",
                    "LastKill": "27",
                    "totalKills": "27"
                },
                {
                    "PlayerGameName": "rwheeliker1a",
                    "PRKills": "23",
                    "FirstKill": "23",
                    "LastKill": "26",
                    "totalKills": "23"
                },
                {
                    "PlayerGameName": "rwheeliker1a",
                    "PRKills": "26",
                    "FirstKill": "23",
                    "LastKill": "26",
                    "totalKills": "49"
                },
                {
                    "PlayerGameName": "hmckibben1b",
                    "PRKills": "3",
                    "FirstKill": "3",
                    "LastKill": "3",
                    "totalKills": "3"
                },
                {
                    "PlayerGameName": "dprobyn1c",
                    "PRKills": "7",
                    "FirstKill": "7",
                    "LastKill": "8",
                    "totalKills": "7"
                },
                {
                    "PlayerGameName": "dprobyn1c",
                    "PRKills": "6",
                    "FirstKill": "7",
                    "LastKill": "8",
                    "totalKills": "13"
                },
                {
                    "PlayerGameName": "dprobyn1c",
                    "PRKills": "30",
                    "FirstKill": "7",
                    "LastKill": "8",
                    "totalKills": "43"
                },
                {
                    "PlayerGameName": "dprobyn1c",
                    "PRKills": "18",
                    "FirstKill": "7",
                    "LastKill": "8",
                    "totalKills": "61"
                },
                {
                    "PlayerGameName": "dprobyn1c",
                    "PRKills": "25",
                    "FirstKill": "7",
                    "LastKill": "8",
                    "totalKills": "86"
                },
                {
                    "PlayerGameName": "dprobyn1c",
                    "PRKills": "8",
                    "FirstKill": "7",
                    "LastKill": "8",
                    "totalKills": "94"
                },
                {
                    "PlayerGameName": "critchman1d",
                    "PRKills": "0",
                    "FirstKill": "0",
                    "LastKill": "20",
                    "totalKills": "0"
                },
                {
                    "PlayerGameName": "critchman1d",
                    "PRKills": "10",
                    "FirstKill": "0",
                    "LastKill": "20",
                    "totalKills": "10"
                },
                {
                    "PlayerGameName": "critchman1d",
                    "PRKills": "20",
                    "FirstKill": "0",
                    "LastKill": "20",
                    "totalKills": "30"
                },
                {
                    "PlayerGameName": "fleyrroyd1e",
                    "PRKills": "2",
                    "FirstKill": "2",
                    "LastKill": "2",
                    "totalKills": "2"
                },
                {
                    "PlayerGameName": "gadelsberg1f",
                    "PRKills": "26",
                    "FirstKill": "26",
                    "LastKill": "11",
                    "totalKills": "26"
                },
                {
                    "PlayerGameName": "gadelsberg1f",
                    "PRKills": "29",
                    "FirstKill": "26",
                    "LastKill": "11",
                    "totalKills": "55"
                },
                {
                    "PlayerGameName": "gadelsberg1f",
                    "PRKills": "11",
                    "FirstKill": "26",
                    "LastKill": "11",
                    "totalKills": "66"
                },
                {
                    "PlayerGameName": "ggage1g",
                    "PRKills": "18",
                    "FirstKill": "18",
                    "LastKill": "15",
                    "totalKills": "18"
                },
                {
                    "PlayerGameName": "ggage1g",
                    "PRKills": "15",
                    "FirstKill": "18",
                    "LastKill": "15",
                    "totalKills": "33"
                },
                {
                    "PlayerGameName": "vparley1h",
                    "PRKills": "18",
                    "FirstKill": "18",
                    "LastKill": "28",
                    "totalKills": "18"
                },
                {
                    "PlayerGameName": "vparley1h",
                    "PRKills": "28",
                    "FirstKill": "18",
                    "LastKill": "28",
                    "totalKills": "46"
                },
                {
                    "PlayerGameName": "rcurds1i",
                    "PRKills": "10",
                    "FirstKill": "10",
                    "LastKill": "10",
                    "totalKills": "10"
                },
                {
                    "PlayerGameName": "ppetegre1j",
                    "PRKills": "5",
                    "FirstKill": "5",
                    "LastKill": "18",
                    "totalKills": "5"
                },
                {
                    "PlayerGameName": "ppetegre1j",
                    "PRKills": "18",
                    "FirstKill": "5",
                    "LastKill": "18",
                    "totalKills": "23"
                },
                {
                    "PlayerGameName": "fvallens1k",
                    "PRKills": "31",
                    "FirstKill": "31",
                    "LastKill": "11",
                    "totalKills": "31"
                },
                {
                    "PlayerGameName": "fvallens1k",
                    "PRKills": "14",
                    "FirstKill": "31",
                    "LastKill": "11",
                    "totalKills": "45"
                },
                {
                    "PlayerGameName": "fvallens1k",
                    "PRKills": "19",
                    "FirstKill": "31",
                    "LastKill": "11",
                    "totalKills": "64"
                },
                {
                    "PlayerGameName": "fvallens1k",
                    "PRKills": "11",
                    "FirstKill": "31",
                    "LastKill": "11",
                    "totalKills": "75"
                },
                {
                    "PlayerGameName": "bmcilherran1l",
                    "PRKills": "12",
                    "FirstKill": "12",
                    "LastKill": "12",
                    "totalKills": "12"
                },
                {
                    "PlayerGameName": "hoslar1m",
                    "PRKills": "30",
                    "FirstKill": "30",
                    "LastKill": "9",
                    "totalKills": "30"
                },
                {
                    "PlayerGameName": "hoslar1m",
                    "PRKills": "18",
                    "FirstKill": "30",
                    "LastKill": "9",
                    "totalKills": "48"
                },
                {
                    "PlayerGameName": "hoslar1m",
                    "PRKills": "32",
                    "FirstKill": "30",
                    "LastKill": "9",
                    "totalKills": "80"
                },
                {
                    "PlayerGameName": "hoslar1m",
                    "PRKills": "9",
                    "FirstKill": "30",
                    "LastKill": "9",
                    "totalKills": "89"
                },
                {
                    "PlayerGameName": "hbeasleigh1n",
                    "PRKills": "28",
                    "FirstKill": "28",
                    "LastKill": "24",
                    "totalKills": "28"
                },
                {
                    "PlayerGameName": "hbeasleigh1n",
                    "PRKills": "24",
                    "FirstKill": "28",
                    "LastKill": "24",
                    "totalKills": "52"
                },
                {
                    "PlayerGameName": "cde1o",
                    "PRKills": "31",
                    "FirstKill": "31",
                    "LastKill": "10",
                    "totalKills": "31"
                },
                {
                    "PlayerGameName": "cde1o",
                    "PRKills": "10",
                    "FirstKill": "31",
                    "LastKill": "10",
                    "totalKills": "41"
                },
                {
                    "PlayerGameName": "lcollyer1p",
                    "PRKills": "22",
                    "FirstKill": "22",
                    "LastKill": "18",
                    "totalKills": "22"
                },
                {
                    "PlayerGameName": "lcollyer1p",
                    "PRKills": "18",
                    "FirstKill": "22",
                    "LastKill": "18",
                    "totalKills": "40"
                },
                {
                    "PlayerGameName": "sitter1q",
                    "PRKills": "3",
                    "FirstKill": "3",
                    "LastKill": "18",
                    "totalKills": "3"
                },
                {
                    "PlayerGameName": "sitter1q",
                    "PRKills": "29",
                    "FirstKill": "3",
                    "LastKill": "18",
                    "totalKills": "32"
                },
                {
                    "PlayerGameName": "sitter1q",
                    "PRKills": "20",
                    "FirstKill": "3",
                    "LastKill": "18",
                    "totalKills": "52"
                },
                {
                    "PlayerGameName": "sitter1q",
                    "PRKills": "18",
                    "FirstKill": "3",
                    "LastKill": "18",
                    "totalKills": "70"
                },
                {
                    "PlayerGameName": "lpeto1r",
                    "PRKills": "6",
                    "FirstKill": "6",
                    "LastKill": "3",
                    "totalKills": "6"
                },
                {
                    "PlayerGameName": "lpeto1r",
                    "PRKills": "4",
                    "FirstKill": "6",
                    "LastKill": "3",
                    "totalKills": "10"
                },
                {
                    "PlayerGameName": "lpeto1r",
                    "PRKills": "19",
                    "FirstKill": "6",
                    "LastKill": "3",
                    "totalKills": "29"
                },
                {
                    "PlayerGameName": "lpeto1r",
                    "PRKills": "7",
                    "FirstKill": "6",
                    "LastKill": "3",
                    "totalKills": "36"
                },
                {
                    "PlayerGameName": "lpeto1r",
                    "PRKills": "3",
                    "FirstKill": "6",
                    "LastKill": "3",
                    "totalKills": "39"
                },
                {
                    "PlayerGameName": "vhousbey1s",
                    "PRKills": "5",
                    "FirstKill": "5",
                    "LastKill": "19",
                    "totalKills": "5"
                },
                {
                    "PlayerGameName": "vhousbey1s",
                    "PRKills": "14",
                    "FirstKill": "5",
                    "LastKill": "19",
                    "totalKills": "19"
                },
                {
                    "PlayerGameName": "vhousbey1s",
                    "PRKills": "4",
                    "FirstKill": "5",
                    "LastKill": "19",
                    "totalKills": "23"
                },
                {
                    "PlayerGameName": "vhousbey1s",
                    "PRKills": "24",
                    "FirstKill": "5",
                    "LastKill": "19",
                    "totalKills": "47"
                },
                {
                    "PlayerGameName": "vhousbey1s",
                    "PRKills": "19",
                    "FirstKill": "5",
                    "LastKill": "19",
                    "totalKills": "66"
                },
                {
                    "PlayerGameName": "jpovey1t",
                    "PRKills": "22",
                    "FirstKill": "22",
                    "LastKill": "13",
                    "totalKills": "22"
                },
                {
                    "PlayerGameName": "jpovey1t",
                    "PRKills": "11",
                    "FirstKill": "22",
                    "LastKill": "13",
                    "totalKills": "33"
                },
                {
                    "PlayerGameName": "jpovey1t",
                    "PRKills": "7",
                    "FirstKill": "22",
                    "LastKill": "13",
                    "totalKills": "40"
                },
                {
                    "PlayerGameName": "jpovey1t",
                    "PRKills": "13",
                    "FirstKill": "22",
                    "LastKill": "13",
                    "totalKills": "53"
                },
                {
                    "PlayerGameName": "elucey1v",
                    "PRKills": "3",
                    "FirstKill": "3",
                    "LastKill": "1",
                    "totalKills": "3"
                },
                {
                    "PlayerGameName": "elucey1v",
                    "PRKills": "1",
                    "FirstKill": "3",
                    "LastKill": "1",
                    "totalKills": "4"
                },
                {
                    "PlayerGameName": "stinn1w",
                    "PRKills": "5",
                    "FirstKill": "5",
                    "LastKill": "5",
                    "totalKills": "5"
                },
                {
                    "PlayerGameName": "apeppard1x",
                    "PRKills": "21",
                    "FirstKill": "21",
                    "LastKill": "9",
                    "totalKills": "21"
                },
                {
                    "PlayerGameName": "apeppard1x",
                    "PRKills": "9",
                    "FirstKill": "21",
                    "LastKill": "9",
                    "totalKills": "30"
                },
                {
                    "PlayerGameName": "lbreakwell1y",
                    "PRKills": "23",
                    "FirstKill": "23",
                    "LastKill": "8",
                    "totalKills": "23"
                },
                {
                    "PlayerGameName": "lbreakwell1y",
                    "PRKills": "8",
                    "FirstKill": "23",
                    "LastKill": "8",
                    "totalKills": "31"
                },
                {
                    "PlayerGameName": "rdruitt1z",
                    "PRKills": "9",
                    "FirstKill": "9",
                    "LastKill": "9",
                    "totalKills": "9"
                },
                {
                    "PlayerGameName": "lpauwel20",
                    "PRKills": "27",
                    "FirstKill": "27",
                    "LastKill": "18",
                    "totalKills": "27"
                },
                {
                    "PlayerGameName": "lpauwel20",
                    "PRKills": "4",
                    "FirstKill": "27",
                    "LastKill": "18",
                    "totalKills": "31"
                },
                {
                    "PlayerGameName": "lpauwel20",
                    "PRKills": "18",
                    "FirstKill": "27",
                    "LastKill": "18",
                    "totalKills": "49"
                },
                {
                    "PlayerGameName": "dmarryatt21",
                    "PRKills": "7",
                    "FirstKill": "7",
                    "LastKill": "7",
                    "totalKills": "7"
                },
                {
                    "PlayerGameName": "hturbefield22",
                    "PRKills": "33",
                    "FirstKill": "33",
                    "LastKill": "33",
                    "totalKills": "33"
                },
                {
                    "PlayerGameName": "hturbefield22",
                    "PRKills": "33",
                    "FirstKill": "33",
                    "LastKill": "33",
                    "totalKills": "66"
                },
                {
                    "PlayerGameName": "jwilne23",
                    "PRKills": "22",
                    "FirstKill": "22",
                    "LastKill": "22",
                    "totalKills": "22"
                },
                {
                    "PlayerGameName": "oleadley24",
                    "PRKills": "27",
                    "FirstKill": "27",
                    "LastKill": "31",
                    "totalKills": "27"
                },
                {
                    "PlayerGameName": "oleadley24",
                    "PRKills": "31",
                    "FirstKill": "27",
                    "LastKill": "31",
                    "totalKills": "58"
                },
                {
                    "PlayerGameName": "aleynton25",
                    "PRKills": "15",
                    "FirstKill": "15",
                    "LastKill": "21",
                    "totalKills": "15"
                },
                {
                    "PlayerGameName": "aleynton25",
                    "PRKills": "13",
                    "FirstKill": "15",
                    "LastKill": "21",
                    "totalKills": "28"
                },
                {
                    "PlayerGameName": "aleynton25",
                    "PRKills": "21",
                    "FirstKill": "15",
                    "LastKill": "21",
                    "totalKills": "49"
                },
                {
                    "PlayerGameName": "rrought26",
                    "PRKills": "25",
                    "FirstKill": "25",
                    "LastKill": "11",
                    "totalKills": "25"
                },
                {
                    "PlayerGameName": "rrought26",
                    "PRKills": "0",
                    "FirstKill": "25",
                    "LastKill": "11",
                    "totalKills": "25"
                },
                {
                    "PlayerGameName": "rrought26",
                    "PRKills": "11",
                    "FirstKill": "25",
                    "LastKill": "11",
                    "totalKills": "36"
                },
                {
                    "PlayerGameName": "fyakob27",
                    "PRKills": "13",
                    "FirstKill": "13",
                    "LastKill": "1",
                    "totalKills": "13"
                },
                {
                    "PlayerGameName": "fyakob27",
                    "PRKills": "4",
                    "FirstKill": "13",
                    "LastKill": "1",
                    "totalKills": "17"
                },
                {
                    "PlayerGameName": "fyakob27",
                    "PRKills": "1",
                    "FirstKill": "13",
                    "LastKill": "1",
                    "totalKills": "18"
                },
                {
                    "PlayerGameName": "mmooring28",
                    "PRKills": "26",
                    "FirstKill": "26",
                    "LastKill": "0",
                    "totalKills": "26"
                },
                {
                    "PlayerGameName": "mmooring28",
                    "PRKills": "0",
                    "FirstKill": "26",
                    "LastKill": "0",
                    "totalKills": "26"
                },
                {
                    "PlayerGameName": "rnabarro29",
                    "PRKills": "18",
                    "FirstKill": "18",
                    "LastKill": "11",
                    "totalKills": "18"
                },
                {
                    "PlayerGameName": "rnabarro29",
                    "PRKills": "11",
                    "FirstKill": "18",
                    "LastKill": "11",
                    "totalKills": "29"
                },
                {
                    "PlayerGameName": "kneed2a",
                    "PRKills": "22",
                    "FirstKill": "22",
                    "LastKill": "4",
                    "totalKills": "22"
                },
                {
                    "PlayerGameName": "kneed2a",
                    "PRKills": "10",
                    "FirstKill": "22",
                    "LastKill": "4",
                    "totalKills": "32"
                },
                {
                    "PlayerGameName": "kneed2a",
                    "PRKills": "4",
                    "FirstKill": "22",
                    "LastKill": "4",
                    "totalKills": "36"
                },
                {
                    "PlayerGameName": "ebraxton2b",
                    "PRKills": "12",
                    "FirstKill": "12",
                    "LastKill": "2",
                    "totalKills": "12"
                },
                {
                    "PlayerGameName": "ebraxton2b",
                    "PRKills": "30",
                    "FirstKill": "12",
                    "LastKill": "2",
                    "totalKills": "42"
                },
                {
                    "PlayerGameName": "ebraxton2b",
                    "PRKills": "2",
                    "FirstKill": "12",
                    "LastKill": "2",
                    "totalKills": "44"
                },
                {
                    "PlayerGameName": "ahuntar2c",
                    "PRKills": "9",
                    "FirstKill": "9",
                    "LastKill": "9",
                    "totalKills": "9"
                },
                {
                    "PlayerGameName": "babram2d",
                    "PRKills": "23",
                    "FirstKill": "23",
                    "LastKill": "19",
                    "totalKills": "23"
                },
                {
                    "PlayerGameName": "babram2d",
                    "PRKills": "22",
                    "FirstKill": "23",
                    "LastKill": "19",
                    "totalKills": "45"
                },
                {
                    "PlayerGameName": "babram2d",
                    "PRKills": "16",
                    "FirstKill": "23",
                    "LastKill": "19",
                    "totalKills": "61"
                },
                {
                    "PlayerGameName": "babram2d",
                    "PRKills": "28",
                    "FirstKill": "23",
                    "LastKill": "19",
                    "totalKills": "89"
                },
                {
                    "PlayerGameName": "babram2d",
                    "PRKills": "19",
                    "FirstKill": "23",
                    "LastKill": "19",
                    "totalKills": "108"
                },
                {
                    "PlayerGameName": "vronchetti2e",
                    "PRKills": "30",
                    "FirstKill": "30",
                    "LastKill": "14",
                    "totalKills": "30"
                },
                {
                    "PlayerGameName": "vronchetti2e",
                    "PRKills": "14",
                    "FirstKill": "30",
                    "LastKill": "14",
                    "totalKills": "44"
                },
                {
                    "PlayerGameName": "gbumby2f",
                    "PRKills": "5",
                    "FirstKill": "5",
                    "LastKill": "9",
                    "totalKills": "5"
                },
                {
                    "PlayerGameName": "gbumby2f",
                    "PRKills": "26",
                    "FirstKill": "5",
                    "LastKill": "9",
                    "totalKills": "31"
                },
                {
                    "PlayerGameName": "gbumby2f",
                    "PRKills": "8",
                    "FirstKill": "5",
                    "LastKill": "9",
                    "totalKills": "39"
                },
                {
                    "PlayerGameName": "gbumby2f",
                    "PRKills": "33",
                    "FirstKill": "5",
                    "LastKill": "9",
                    "totalKills": "72"
                },
                {
                    "PlayerGameName": "gbumby2f",
                    "PRKills": "9",
                    "FirstKill": "5",
                    "LastKill": "9",
                    "totalKills": "81"
                },
                {
                    "PlayerGameName": "tgribben2g",
                    "PRKills": "14",
                    "FirstKill": "14",
                    "LastKill": "0",
                    "totalKills": "14"
                },
                {
                    "PlayerGameName": "tgribben2g",
                    "PRKills": "0",
                    "FirstKill": "14",
                    "LastKill": "0",
                    "totalKills": "14"
                },
                {
                    "PlayerGameName": "goruane2h",
                    "PRKills": "22",
                    "FirstKill": "22",
                    "LastKill": "8",
                    "totalKills": "22"
                },
                {
                    "PlayerGameName": "goruane2h",
                    "PRKills": "13",
                    "FirstKill": "22",
                    "LastKill": "8",
                    "totalKills": "35"
                },
                {
                    "PlayerGameName": "goruane2h",
                    "PRKills": "1",
                    "FirstKill": "22",
                    "LastKill": "8",
                    "totalKills": "36"
                },
                {
                    "PlayerGameName": "goruane2h",
                    "PRKills": "6",
                    "FirstKill": "22",
                    "LastKill": "8",
                    "totalKills": "42"
                },
                {
                    "PlayerGameName": "goruane2h",
                    "PRKills": "25",
                    "FirstKill": "22",
                    "LastKill": "8",
                    "totalKills": "67"
                },
                {
                    "PlayerGameName": "goruane2h",
                    "PRKills": "8",
                    "FirstKill": "22",
                    "LastKill": "8",
                    "totalKills": "75"
                },
                {
                    "PlayerGameName": "lpudding2i",
                    "PRKills": "15",
                    "FirstKill": "15",
                    "LastKill": "20",
                    "totalKills": "15"
                },
                {
                    "PlayerGameName": "lpudding2i",
                    "PRKills": "20",
                    "FirstKill": "15",
                    "LastKill": "20",
                    "totalKills": "35"
                },
                {
                    "PlayerGameName": "aavesque2j",
                    "PRKills": "5",
                    "FirstKill": "5",
                    "LastKill": "17",
                    "totalKills": "5"
                },
                {
                    "PlayerGameName": "aavesque2j",
                    "PRKills": "2",
                    "FirstKill": "5",
                    "LastKill": "17",
                    "totalKills": "7"
                },
                {
                    "PlayerGameName": "aavesque2j",
                    "PRKills": "6",
                    "FirstKill": "5",
                    "LastKill": "17",
                    "totalKills": "13"
                },
                {
                    "PlayerGameName": "aavesque2j",
                    "PRKills": "17",
                    "FirstKill": "5",
                    "LastKill": "17",
                    "totalKills": "30"
                },
                {
                    "PlayerGameName": "ccomiam2k",
                    "PRKills": "6",
                    "FirstKill": "6",
                    "LastKill": "6",
                    "totalKills": "6"
                },
                {
                    "PlayerGameName": "mbecaris2l",
                    "PRKills": "18",
                    "FirstKill": "18",
                    "LastKill": "30",
                    "totalKills": "18"
                },
                {
                    "PlayerGameName": "mbecaris2l",
                    "PRKills": "29",
                    "FirstKill": "18",
                    "LastKill": "30",
                    "totalKills": "47"
                },
                {
                    "PlayerGameName": "mbecaris2l",
                    "PRKills": "0",
                    "FirstKill": "18",
                    "LastKill": "30",
                    "totalKills": "47"
                },
                {
                    "PlayerGameName": "mbecaris2l",
                    "PRKills": "30",
                    "FirstKill": "18",
                    "LastKill": "30",
                    "totalKills": "77"
                },
                {
                    "PlayerGameName": "alewtey2m",
                    "PRKills": "0",
                    "FirstKill": "0",
                    "LastKill": "30",
                    "totalKills": "0"
                },
                {
                    "PlayerGameName": "alewtey2m",
                    "PRKills": "14",
                    "FirstKill": "0",
                    "LastKill": "30",
                    "totalKills": "14"
                },
                {
                    "PlayerGameName": "alewtey2m",
                    "PRKills": "10",
                    "FirstKill": "0",
                    "LastKill": "30",
                    "totalKills": "24"
                },
                {
                    "PlayerGameName": "alewtey2m",
                    "PRKills": "30",
                    "FirstKill": "0",
                    "LastKill": "30",
                    "totalKills": "54"
                },
                {
                    "PlayerGameName": "reyree2n",
                    "PRKills": "20",
                    "FirstKill": "20",
                    "LastKill": "21",
                    "totalKills": "20"
                },
                {
                    "PlayerGameName": "reyree2n",
                    "PRKills": "21",
                    "FirstKill": "20",
                    "LastKill": "21",
                    "totalKills": "41"
                },
                {
                    "PlayerGameName": "gadamczyk2o",
                    "PRKills": "31",
                    "FirstKill": "31",
                    "LastKill": "11",
                    "totalKills": "31"
                },
                {
                    "PlayerGameName": "gadamczyk2o",
                    "PRKills": "11",
                    "FirstKill": "31",
                    "LastKill": "11",
                    "totalKills": "42"
                },
                {
                    "PlayerGameName": "mgibbard2p",
                    "PRKills": "12",
                    "FirstKill": "12",
                    "LastKill": "3",
                    "totalKills": "12"
                },
                {
                    "PlayerGameName": "mgibbard2p",
                    "PRKills": "1",
                    "FirstKill": "12",
                    "LastKill": "3",
                    "totalKills": "13"
                },
                {
                    "PlayerGameName": "mgibbard2p",
                    "PRKills": "25",
                    "FirstKill": "12",
                    "LastKill": "3",
                    "totalKills": "38"
                },
                {
                    "PlayerGameName": "mgibbard2p",
                    "PRKills": "3",
                    "FirstKill": "12",
                    "LastKill": "3",
                    "totalKills": "41"
                },
                {
                    "PlayerGameName": "cmelton2q",
                    "PRKills": "6",
                    "FirstKill": "6",
                    "LastKill": "24",
                    "totalKills": "6"
                },
                {
                    "PlayerGameName": "cmelton2q",
                    "PRKills": "24",
                    "FirstKill": "6",
                    "LastKill": "24",
                    "totalKills": "30"
                },
                {
                    "PlayerGameName": "nohern2r",
                    "PRKills": "22",
                    "FirstKill": "22",
                    "LastKill": "5",
                    "totalKills": "22"
                },
                {
                    "PlayerGameName": "nohern2r",
                    "PRKills": "15",
                    "FirstKill": "22",
                    "LastKill": "5",
                    "totalKills": "37"
                },
                {
                    "PlayerGameName": "nohern2r",
                    "PRKills": "5",
                    "FirstKill": "22",
                    "LastKill": "5",
                    "totalKills": "42"
                },
                {
                    "PlayerGameName": "bjuris2s",
                    "PRKills": "30",
                    "FirstKill": "30",
                    "LastKill": "23",
                    "totalKills": "30"
                },
                {
                    "PlayerGameName": "bjuris2s",
                    "PRKills": "10",
                    "FirstKill": "30",
                    "LastKill": "23",
                    "totalKills": "40"
                },
                {
                    "PlayerGameName": "bjuris2s",
                    "PRKills": "26",
                    "FirstKill": "30",
                    "LastKill": "23",
                    "totalKills": "66"
                },
                {
                    "PlayerGameName": "bjuris2s",
                    "PRKills": "23",
                    "FirstKill": "30",
                    "LastKill": "23",
                    "totalKills": "89"
                },
                {
                    "PlayerGameName": "vcapps2t",
                    "PRKills": "15",
                    "FirstKill": "15",
                    "LastKill": "2",
                    "totalKills": "15"
                },
                {
                    "PlayerGameName": "vcapps2t",
                    "PRKills": "8",
                    "FirstKill": "15",
                    "LastKill": "2",
                    "totalKills": "23"
                },
                {
                    "PlayerGameName": "vcapps2t",
                    "PRKills": "2",
                    "FirstKill": "15",
                    "LastKill": "2",
                    "totalKills": "25"
                },
                {
                    "PlayerGameName": "yveighey2u",
                    "PRKills": "3",
                    "FirstKill": "3",
                    "LastKill": "7",
                    "totalKills": "3"
                },
                {
                    "PlayerGameName": "yveighey2u",
                    "PRKills": "7",
                    "FirstKill": "3",
                    "LastKill": "7",
                    "totalKills": "10"
                },
                {
                    "PlayerGameName": "yandreix2v",
                    "PRKills": "30",
                    "FirstKill": "30",
                    "LastKill": "30",
                    "totalKills": "30"
                },
                {
                    "PlayerGameName": "gcana2w",
                    "PRKills": "29",
                    "FirstKill": "29",
                    "LastKill": "17",
                    "totalKills": "29"
                },
                {
                    "PlayerGameName": "gcana2w",
                    "PRKills": "31",
                    "FirstKill": "29",
                    "LastKill": "17",
                    "totalKills": "60"
                },
                {
                    "PlayerGameName": "gcana2w",
                    "PRKills": "9",
                    "FirstKill": "29",
                    "LastKill": "17",
                    "totalKills": "86"
                },
                {
                    "PlayerGameName": "gcana2w",
                    "PRKills": "17",
                    "FirstKill": "29",
                    "LastKill": "17",
                    "totalKills": "86"
                },
                {
                    "PlayerGameName": "ltilt2x",
                    "PRKills": "25",
                    "FirstKill": "25",
                    "LastKill": "25",
                    "totalKills": "25"
                },
                {
                    "PlayerGameName": "psawdy2y",
                    "PRKills": "14",
                    "FirstKill": "14",
                    "LastKill": "29",
                    "totalKills": "14"
                },
                {
                    "PlayerGameName": "psawdy2y",
                    "PRKills": "2",
                    "FirstKill": "14",
                    "LastKill": "29",
                    "totalKills": "16"
                },
                {
                    "PlayerGameName": "psawdy2y",
                    "PRKills": "29",
                    "FirstKill": "14",
                    "LastKill": "29",
                    "totalKills": "45"
                },
                {
                    "PlayerGameName": "kgatus2z",
                    "PRKills": "5",
                    "FirstKill": "5",
                    "LastKill": "27",
                    "totalKills": "5"
                },
                {
                    "PlayerGameName": "kgatus2z",
                    "PRKills": "7",
                    "FirstKill": "5",
                    "LastKill": "27",
                    "totalKills": "12"
                },
                {
                    "PlayerGameName": "kgatus2z",
                    "PRKills": "11",
                    "FirstKill": "5",
                    "LastKill": "27",
                    "totalKills": "23"
                },
                {
                    "PlayerGameName": "kgatus2z",
                    "PRKills": "10",
                    "FirstKill": "5",
                    "LastKill": "27",
                    "totalKills": "33"
                },
                {
                    "PlayerGameName": "kgatus2z",
                    "PRKills": "11",
                    "FirstKill": "5",
                    "LastKill": "27",
                    "totalKills": "44"
                },
                {
                    "PlayerGameName": "kgatus2z",
                    "PRKills": "27",
                    "FirstKill": "5",
                    "LastKill": "27",
                    "totalKills": "71"
                },
                {
                    "PlayerGameName": "gharwick30",
                    "PRKills": "32",
                    "FirstKill": "32",
                    "LastKill": "32",
                    "totalKills": "32"
                },
                {
                    "PlayerGameName": "dswires31",
                    "PRKills": "15",
                    "FirstKill": "15",
                    "LastKill": "28",
                    "totalKills": "15"
                },
                {
                    "PlayerGameName": "dswires31",
                    "PRKills": "19",
                    "FirstKill": "15",
                    "LastKill": "28",
                    "totalKills": "34"
                },
                {
                    "PlayerGameName": "dswires31",
                    "PRKills": "31",
                    "FirstKill": "15",
                    "LastKill": "28",
                    "totalKills": "65"
                },
                {
                    "PlayerGameName": "dswires31",
                    "PRKills": "28",
                    "FirstKill": "15",
                    "LastKill": "28",
                    "totalKills": "93"
                },
                {
                    "PlayerGameName": "ubehnen32",
                    "PRKills": "18",
                    "FirstKill": "18",
                    "LastKill": "13",
                    "totalKills": "18"
                },
                {
                    "PlayerGameName": "ubehnen32",
                    "PRKills": "13",
                    "FirstKill": "18",
                    "LastKill": "13",
                    "totalKills": "31"
                },
                {
                    "PlayerGameName": "llearmont33",
                    "PRKills": "6",
                    "FirstKill": "6",
                    "LastKill": "22",
                    "totalKills": "6"
                },
                {
                    "PlayerGameName": "llearmont33",
                    "PRKills": "12",
                    "FirstKill": "6",
                    "LastKill": "22",
                    "totalKills": "18"
                },
                {
                    "PlayerGameName": "llearmont33",
                    "PRKills": "22",
                    "FirstKill": "6",
                    "LastKill": "22",
                    "totalKills": "40"
                },
                {
                    "PlayerGameName": "scappineer34",
                    "PRKills": "24",
                    "FirstKill": "24",
                    "LastKill": "28",
                    "totalKills": "24"
                },
                {
                    "PlayerGameName": "scappineer34",
                    "PRKills": "26",
                    "FirstKill": "24",
                    "LastKill": "28",
                    "totalKills": "50"
                },
                {
                    "PlayerGameName": "scappineer34",
                    "PRKills": "28",
                    "FirstKill": "24",
                    "LastKill": "28",
                    "totalKills": "78"
                },
                {
                    "PlayerGameName": "cmullaly35",
                    "PRKills": "9",
                    "FirstKill": "9",
                    "LastKill": "20",
                    "totalKills": "9"
                },
                {
                    "PlayerGameName": "cmullaly35",
                    "PRKills": "30",
                    "FirstKill": "9",
                    "LastKill": "20",
                    "totalKills": "39"
                },
                {
                    "PlayerGameName": "cmullaly35",
                    "PRKills": "7",
                    "FirstKill": "9",
                    "LastKill": "20",
                    "totalKills": "46"
                },
                {
                    "PlayerGameName": "cmullaly35",
                    "PRKills": "20",
                    "FirstKill": "9",
                    "LastKill": "20",
                    "totalKills": "66"
                },
                {
                    "PlayerGameName": "tgantz36",
                    "PRKills": "6",
                    "FirstKill": "6",
                    "LastKill": "8",
                    "totalKills": "6"
                },
                {
                    "PlayerGameName": "tgantz36",
                    "PRKills": "29",
                    "FirstKill": "6",
                    "LastKill": "8",
                    "totalKills": "35"
                },
                {
                    "PlayerGameName": "tgantz36",
                    "PRKills": "8",
                    "FirstKill": "6",
                    "LastKill": "8",
                    "totalKills": "43"
                },
                {
                    "PlayerGameName": "ccowland37",
                    "PRKills": "5",
                    "FirstKill": "5",
                    "LastKill": "11",
                    "totalKills": "5"
                },
                {
                    "PlayerGameName": "ccowland37",
                    "PRKills": "11",
                    "FirstKill": "5",
                    "LastKill": "11",
                    "totalKills": "16"
                },
                {
                    "PlayerGameName": "psarfat38",
                    "PRKills": "16",
                    "FirstKill": "16",
                    "LastKill": "20",
                    "totalKills": "16"
                },
                {
                    "PlayerGameName": "psarfat38",
                    "PRKills": "20",
                    "FirstKill": "16",
                    "LastKill": "20",
                    "totalKills": "36"
                },
                {
                    "PlayerGameName": "rfillingham39",
                    "PRKills": "24",
                    "FirstKill": "24",
                    "LastKill": "33",
                    "totalKills": "24"
                },
                {
                    "PlayerGameName": "rfillingham39",
                    "PRKills": "30",
                    "FirstKill": "24",
                    "LastKill": "33",
                    "totalKills": "54"
                },
                {
                    "PlayerGameName": "rfillingham39",
                    "PRKills": "31",
                    "FirstKill": "24",
                    "LastKill": "33",
                    "totalKills": "85"
                },
                {
                    "PlayerGameName": "rfillingham39",
                    "PRKills": "33",
                    "FirstKill": "24",
                    "LastKill": "33",
                    "totalKills": "118"
                },
                {
                    "PlayerGameName": "sudale3a",
                    "PRKills": "12",
                    "FirstKill": "12",
                    "LastKill": "3",
                    "totalKills": "12"
                },
                {
                    "PlayerGameName": "sudale3a",
                    "PRKills": "3",
                    "FirstKill": "12",
                    "LastKill": "3",
                    "totalKills": "15"
                },
                {
                    "PlayerGameName": "skaser3b",
                    "PRKills": "28",
                    "FirstKill": "28",
                    "LastKill": "5",
                    "totalKills": "28"
                },
                {
                    "PlayerGameName": "skaser3b",
                    "PRKills": "28",
                    "FirstKill": "28",
                    "LastKill": "5",
                    "totalKills": "56"
                },
                {
                    "PlayerGameName": "skaser3b",
                    "PRKills": "8",
                    "FirstKill": "28",
                    "LastKill": "5",
                    "totalKills": "64"
                },
                {
                    "PlayerGameName": "skaser3b",
                    "PRKills": "5",
                    "FirstKill": "28",
                    "LastKill": "5",
                    "totalKills": "69"
                },
                {
                    "PlayerGameName": "dhowsin3c",
                    "PRKills": "24",
                    "FirstKill": "24",
                    "LastKill": "30",
                    "totalKills": "24"
                },
                {
                    "PlayerGameName": "dhowsin3c",
                    "PRKills": "24",
                    "FirstKill": "24",
                    "LastKill": "30",
                    "totalKills": "48"
                },
                {
                    "PlayerGameName": "dhowsin3c",
                    "PRKills": "12",
                    "FirstKill": "24",
                    "LastKill": "30",
                    "totalKills": "60"
                },
                {
                    "PlayerGameName": "dhowsin3c",
                    "PRKills": "10",
                    "FirstKill": "24",
                    "LastKill": "30",
                    "totalKills": "70"
                },
                {
                    "PlayerGameName": "dhowsin3c",
                    "PRKills": "30",
                    "FirstKill": "24",
                    "LastKill": "30",
                    "totalKills": "100"
                },
                {
                    "PlayerGameName": "omcluckie3e",
                    "PRKills": "6",
                    "FirstKill": "6",
                    "LastKill": "6",
                    "totalKills": "6"
                },
                {
                    "PlayerGameName": "ekleisel3f",
                    "PRKills": "21",
                    "FirstKill": "21",
                    "LastKill": "7",
                    "totalKills": "21"
                },
                {
                    "PlayerGameName": "ekleisel3f",
                    "PRKills": "22",
                    "FirstKill": "21",
                    "LastKill": "7",
                    "totalKills": "43"
                },
                {
                    "PlayerGameName": "ekleisel3f",
                    "PRKills": "7",
                    "FirstKill": "21",
                    "LastKill": "7",
                    "totalKills": "50"
                },
                {
                    "PlayerGameName": "svegas3g",
                    "PRKills": "5",
                    "FirstKill": "5",
                    "LastKill": "11",
                    "totalKills": "5"
                },
                {
                    "PlayerGameName": "svegas3g",
                    "PRKills": "17",
                    "FirstKill": "5",
                    "LastKill": "11",
                    "totalKills": "22"
                },
                {
                    "PlayerGameName": "svegas3g",
                    "PRKills": "30",
                    "FirstKill": "5",
                    "LastKill": "11",
                    "totalKills": "52"
                },
                {
                    "PlayerGameName": "svegas3g",
                    "PRKills": "11",
                    "FirstKill": "5",
                    "LastKill": "11",
                    "totalKills": "63"
                },
                {
                    "PlayerGameName": "ostannas3h",
                    "PRKills": "17",
                    "FirstKill": "17",
                    "LastKill": "8",
                    "totalKills": "17"
                },
                {
                    "PlayerGameName": "ostannas3h",
                    "PRKills": "8",
                    "FirstKill": "17",
                    "LastKill": "8",
                    "totalKills": "25"
                },
                {
                    "PlayerGameName": "jickovici3j",
                    "PRKills": "28",
                    "FirstKill": "28",
                    "LastKill": "30",
                    "totalKills": "28"
                },
                {
                    "PlayerGameName": "jickovici3j",
                    "PRKills": "15",
                    "FirstKill": "28",
                    "LastKill": "30",
                    "totalKills": "43"
                },
                {
                    "PlayerGameName": "jickovici3j",
                    "PRKills": "4",
                    "FirstKill": "28",
                    "LastKill": "30",
                    "totalKills": "47"
                },
                {
                    "PlayerGameName": "jickovici3j",
                    "PRKills": "15",
                    "FirstKill": "28",
                    "LastKill": "30",
                    "totalKills": "62"
                },
                {
                    "PlayerGameName": "jickovici3j",
                    "PRKills": "33",
                    "FirstKill": "28",
                    "LastKill": "30",
                    "totalKills": "95"
                },
                {
                    "PlayerGameName": "jickovici3j",
                    "PRKills": "16",
                    "FirstKill": "28",
                    "LastKill": "30",
                    "totalKills": "111"
                },
                {
                    "PlayerGameName": "jickovici3j",
                    "PRKills": "30",
                    "FirstKill": "28",
                    "LastKill": "30",
                    "totalKills": "141"
                },
                {
                    "PlayerGameName": "tnewham3k",
                    "PRKills": "16",
                    "FirstKill": "16",
                    "LastKill": "16",
                    "totalKills": "16"
                },
                {
                    "PlayerGameName": "ehebditch3l",
                    "PRKills": "13",
                    "FirstKill": "13",
                    "LastKill": "6",
                    "totalKills": "13"
                },
                {
                    "PlayerGameName": "ehebditch3l",
                    "PRKills": "16",
                    "FirstKill": "13",
                    "LastKill": "6",
                    "totalKills": "29"
                },
                {
                    "PlayerGameName": "ehebditch3l",
                    "PRKills": "9",
                    "FirstKill": "13",
                    "LastKill": "6",
                    "totalKills": "38"
                },
                {
                    "PlayerGameName": "ehebditch3l",
                    "PRKills": "4",
                    "FirstKill": "13",
                    "LastKill": "6",
                    "totalKills": "42"
                },
                {
                    "PlayerGameName": "ehebditch3l",
                    "PRKills": "6",
                    "FirstKill": "13",
                    "LastKill": "6",
                    "totalKills": "48"
                },
                {
                    "PlayerGameName": "cmatley3m",
                    "PRKills": "31",
                    "FirstKill": "31",
                    "LastKill": "15",
                    "totalKills": "31"
                },
                {
                    "PlayerGameName": "cmatley3m",
                    "PRKills": "15",
                    "FirstKill": "31",
                    "LastKill": "15",
                    "totalKills": "46"
                },
                {
                    "PlayerGameName": "cfierman3n",
                    "PRKills": "33",
                    "FirstKill": "33",
                    "LastKill": "17",
                    "totalKills": "33"
                },
                {
                    "PlayerGameName": "cfierman3n",
                    "PRKills": "3",
                    "FirstKill": "33",
                    "LastKill": "17",
                    "totalKills": "36"
                },
                {
                    "PlayerGameName": "cfierman3n",
                    "PRKills": "17",
                    "FirstKill": "33",
                    "LastKill": "17",
                    "totalKills": "53"
                },
                {
                    "PlayerGameName": "schown3o",
                    "PRKills": "19",
                    "FirstKill": "19",
                    "LastKill": "19",
                    "totalKills": "19"
                },
                {
                    "PlayerGameName": "lhoulson3p",
                    "PRKills": "23",
                    "FirstKill": "23",
                    "LastKill": "8",
                    "totalKills": "23"
                },
                {
                    "PlayerGameName": "lhoulson3p",
                    "PRKills": "33",
                    "FirstKill": "23",
                    "LastKill": "8",
                    "totalKills": "56"
                },
                {
                    "PlayerGameName": "lhoulson3p",
                    "PRKills": "8",
                    "FirstKill": "23",
                    "LastKill": "8",
                    "totalKills": "64"
                },
                {
                    "PlayerGameName": "rbennellick3q",
                    "PRKills": "25",
                    "FirstKill": "25",
                    "LastKill": "1",
                    "totalKills": "25"
                },
                {
                    "PlayerGameName": "rbennellick3q",
                    "PRKills": "1",
                    "FirstKill": "25",
                    "LastKill": "1",
                    "totalKills": "26"
                },
                {
                    "PlayerGameName": "hhorribine3r",
                    "PRKills": "0",
                    "FirstKill": "0",
                    "LastKill": "0",
                    "totalKills": "0"
                },
                {
                    "PlayerGameName": "funion3s",
                    "PRKills": "11",
                    "FirstKill": "11",
                    "LastKill": "27",
                    "totalKills": "11"
                },
                {
                    "PlayerGameName": "funion3s",
                    "PRKills": "13",
                    "FirstKill": "11",
                    "LastKill": "27",
                    "totalKills": "24"
                },
                {
                    "PlayerGameName": "funion3s",
                    "PRKills": "27",
                    "FirstKill": "11",
                    "LastKill": "27",
                    "totalKills": "51"
                },
                {
                    "PlayerGameName": "smartinon3t",
                    "PRKills": "18",
                    "FirstKill": "18",
                    "LastKill": "32",
                    "totalKills": "18"
                },
                {
                    "PlayerGameName": "smartinon3t",
                    "PRKills": "28",
                    "FirstKill": "18",
                    "LastKill": "32",
                    "totalKills": "46"
                },
                {
                    "PlayerGameName": "smartinon3t",
                    "PRKills": "2",
                    "FirstKill": "18",
                    "LastKill": "32",
                    "totalKills": "48"
                },
                {
                    "PlayerGameName": "smartinon3t",
                    "PRKills": "7",
                    "FirstKill": "18",
                    "LastKill": "32",
                    "totalKills": "55"
                },
                {
                    "PlayerGameName": "smartinon3t",
                    "PRKills": "2",
                    "FirstKill": "18",
                    "LastKill": "32",
                    "totalKills": "57"
                },
                {
                    "PlayerGameName": "smartinon3t",
                    "PRKills": "13",
                    "FirstKill": "18",
                    "LastKill": "32",
                    "totalKills": "70"
                },
                {
                    "PlayerGameName": "smartinon3t",
                    "PRKills": "32",
                    "FirstKill": "18",
                    "LastKill": "32",
                    "totalKills": "102"
                },
                {
                    "PlayerGameName": "jtombs3u",
                    "PRKills": "15",
                    "FirstKill": "15",
                    "LastKill": "15",
                    "totalKills": "15"
                },
                {
                    "PlayerGameName": "bskerratt3v",
                    "PRKills": "27",
                    "FirstKill": "27",
                    "LastKill": "27",
                    "totalKills": "27"
                },
                {
                    "PlayerGameName": "dhearst3w",
                    "PRKills": "21",
                    "FirstKill": "21",
                    "LastKill": "22",
                    "totalKills": "21"
                },
                {
                    "PlayerGameName": "dhearst3w",
                    "PRKills": "22",
                    "FirstKill": "21",
                    "LastKill": "22",
                    "totalKills": "43"
                },
                {
                    "PlayerGameName": "dhearst3w",
                    "PRKills": "2",
                    "FirstKill": "21",
                    "LastKill": "22",
                    "totalKills": "45"
                },
                {
                    "PlayerGameName": "dhearst3w",
                    "PRKills": "32",
                    "FirstKill": "21",
                    "LastKill": "22",
                    "totalKills": "77"
                },
                {
                    "PlayerGameName": "dhearst3w",
                    "PRKills": "22",
                    "FirstKill": "21",
                    "LastKill": "22",
                    "totalKills": "99"
                },
                {
                    "PlayerGameName": "malwen3x",
                    "PRKills": "15",
                    "FirstKill": "15",
                    "LastKill": "15",
                    "totalKills": "15"
                },
                {
                    "PlayerGameName": "lforde3z",
                    "PRKills": "11",
                    "FirstKill": "11",
                    "LastKill": "14",
                    "totalKills": "11"
                },
                {
                    "PlayerGameName": "lforde3z",
                    "PRKills": "16",
                    "FirstKill": "11",
                    "LastKill": "14",
                    "totalKills": "27"
                },
                {
                    "PlayerGameName": "lforde3z",
                    "PRKills": "14",
                    "FirstKill": "11",
                    "LastKill": "14",
                    "totalKills": "41"
                },
                {
                    "PlayerGameName": "eparradice40",
                    "PRKills": "16",
                    "FirstKill": "16",
                    "LastKill": "16",
                    "totalKills": "16"
                },
                {
                    "PlayerGameName": "dshingfield41",
                    "PRKills": "31",
                    "FirstKill": "31",
                    "LastKill": "29",
                    "totalKills": "31"
                },
                {
                    "PlayerGameName": "dshingfield41",
                    "PRKills": "9",
                    "FirstKill": "31",
                    "LastKill": "29",
                    "totalKills": "40"
                },
                {
                    "PlayerGameName": "dshingfield41",
                    "PRKills": "29",
                    "FirstKill": "31",
                    "LastKill": "29",
                    "totalKills": "69"
                },
                {
                    "PlayerGameName": "rcranefield42",
                    "PRKills": "15",
                    "FirstKill": "15",
                    "LastKill": "15",
                    "totalKills": "15"
                },
                {
                    "PlayerGameName": "rcranefield42",
                    "PRKills": "31",
                    "FirstKill": "15",
                    "LastKill": "15",
                    "totalKills": "46"
                },
                {
                    "PlayerGameName": "rcranefield42",
                    "PRKills": "2",
                    "FirstKill": "15",
                    "LastKill": "15",
                    "totalKills": "48"
                },
                {
                    "PlayerGameName": "rcranefield42",
                    "PRKills": "20",
                    "FirstKill": "15",
                    "LastKill": "15",
                    "totalKills": "68"
                },
                {
                    "PlayerGameName": "rcranefield42",
                    "PRKills": "15",
                    "FirstKill": "15",
                    "LastKill": "15",
                    "totalKills": "83"
                },
                {
                    "PlayerGameName": "mphilpott43",
                    "PRKills": "26",
                    "FirstKill": "26",
                    "LastKill": "23",
                    "totalKills": "26"
                },
                {
                    "PlayerGameName": "mphilpott43",
                    "PRKills": "23",
                    "FirstKill": "26",
                    "LastKill": "23",
                    "totalKills": "49"
                },
                {
                    "PlayerGameName": "alidington44",
                    "PRKills": "11",
                    "FirstKill": "11",
                    "LastKill": "11",
                    "totalKills": "11"
                },
                {
                    "PlayerGameName": "kfarrears45",
                    "PRKills": "19",
                    "FirstKill": "19",
                    "LastKill": "19",
                    "totalKills": "19"
                },
                {
                    "PlayerGameName": "kstutte46",
                    "PRKills": "12",
                    "FirstKill": "12",
                    "LastKill": "22",
                    "totalKills": "12"
                },
                {
                    "PlayerGameName": "kstutte46",
                    "PRKills": "30",
                    "FirstKill": "12",
                    "LastKill": "22",
                    "totalKills": "42"
                },
                {
                    "PlayerGameName": "kstutte46",
                    "PRKills": "18",
                    "FirstKill": "12",
                    "LastKill": "22",
                    "totalKills": "60"
                },
                {
                    "PlayerGameName": "kstutte46",
                    "PRKills": "25",
                    "FirstKill": "12",
                    "LastKill": "22",
                    "totalKills": "85"
                },
                {
                    "PlayerGameName": "kstutte46",
                    "PRKills": "22",
                    "FirstKill": "12",
                    "LastKill": "22",
                    "totalKills": "107"
                },
                {
                    "PlayerGameName": "rsparshett47",
                    "PRKills": "5",
                    "FirstKill": "5",
                    "LastKill": "12",
                    "totalKills": "5"
                },
                {
                    "PlayerGameName": "rsparshett47",
                    "PRKills": "24",
                    "FirstKill": "5",
                    "LastKill": "12",
                    "totalKills": "29"
                },
                {
                    "PlayerGameName": "rsparshett47",
                    "PRKills": "12",
                    "FirstKill": "5",
                    "LastKill": "12",
                    "totalKills": "41"
                },
                {
                    "PlayerGameName": "bprosser48",
                    "PRKills": "10",
                    "FirstKill": "10",
                    "LastKill": "33",
                    "totalKills": "10"
                },
                {
                    "PlayerGameName": "bprosser48",
                    "PRKills": "33",
                    "FirstKill": "10",
                    "LastKill": "33",
                    "totalKills": "43"
                },
                {
                    "PlayerGameName": "avockins49",
                    "PRKills": "8",
                    "FirstKill": "8",
                    "LastKill": "20",
                    "totalKills": "8"
                },
                {
                    "PlayerGameName": "avockins49",
                    "PRKills": "6",
                    "FirstKill": "8",
                    "LastKill": "20",
                    "totalKills": "14"
                },
                {
                    "PlayerGameName": "avockins49",
                    "PRKills": "20",
                    "FirstKill": "8",
                    "LastKill": "20",
                    "totalKills": "34"
                },
                {
                    "PlayerGameName": "nwhitesel4b",
                    "PRKills": "13",
                    "FirstKill": "13",
                    "LastKill": "28",
                    "totalKills": "13"
                },
                {
                    "PlayerGameName": "nwhitesel4b",
                    "PRKills": "15",
                    "FirstKill": "13",
                    "LastKill": "28",
                    "totalKills": "28"
                },
                {
                    "PlayerGameName": "nwhitesel4b",
                    "PRKills": "28",
                    "FirstKill": "13",
                    "LastKill": "28",
                    "totalKills": "56"
                },
                {
                    "PlayerGameName": "bbaseke4c",
                    "PRKills": "32",
                    "FirstKill": "32",
                    "LastKill": "13",
                    "totalKills": "32"
                },
                {
                    "PlayerGameName": "bbaseke4c",
                    "PRKills": "17",
                    "FirstKill": "32",
                    "LastKill": "13",
                    "totalKills": "49"
                },
                {
                    "PlayerGameName": "bbaseke4c",
                    "PRKills": "13",
                    "FirstKill": "32",
                    "LastKill": "13",
                    "totalKills": "62"
                },
                {
                    "PlayerGameName": "estooders4d",
                    "PRKills": "12",
                    "FirstKill": "12",
                    "LastKill": "12",
                    "totalKills": "12"
                },
                {
                    "PlayerGameName": "tbearfoot4e",
                    "PRKills": "27",
                    "FirstKill": "27",
                    "LastKill": "26",
                    "totalKills": "27"
                },
                {
                    "PlayerGameName": "tbearfoot4e",
                    "PRKills": "26",
                    "FirstKill": "27",
                    "LastKill": "26",
                    "totalKills": "53"
                },
                {
                    "PlayerGameName": "ukingh4f",
                    "PRKills": "27",
                    "FirstKill": "27",
                    "LastKill": "29",
                    "totalKills": "27"
                },
                {
                    "PlayerGameName": "ukingh4f",
                    "PRKills": "29",
                    "FirstKill": "27",
                    "LastKill": "29",
                    "totalKills": "56"
                },
                {
                    "PlayerGameName": "zscolland4h",
                    "PRKills": "6",
                    "FirstKill": "6",
                    "LastKill": "27",
                    "totalKills": "35"
                },
                {
                    "PlayerGameName": "zscolland4h",
                    "PRKills": "29",
                    "FirstKill": "6",
                    "LastKill": "27",
                    "totalKills": "35"
                },
                {
                    "PlayerGameName": "zscolland4h",
                    "PRKills": "12",
                    "FirstKill": "6",
                    "LastKill": "27",
                    "totalKills": "47"
                },
                {
                    "PlayerGameName": "zscolland4h",
                    "PRKills": "24",
                    "FirstKill": "6",
                    "LastKill": "27",
                    "totalKills": "71"
                },
                {
                    "PlayerGameName": "zscolland4h",
                    "PRKills": "6",
                    "FirstKill": "6",
                    "LastKill": "27",
                    "totalKills": "77"
                },
                {
                    "PlayerGameName": "zscolland4h",
                    "PRKills": "7",
                    "FirstKill": "6",
                    "LastKill": "27",
                    "totalKills": "84"
                },
                {
                    "PlayerGameName": "zscolland4h",
                    "PRKills": "17",
                    "FirstKill": "6",
                    "LastKill": "27",
                    "totalKills": "101"
                },
                {
                    "PlayerGameName": "zscolland4h",
                    "PRKills": "27",
                    "FirstKill": "6",
                    "LastKill": "27",
                    "totalKills": "128"
                },
                {
                    "PlayerGameName": "dpanniers4i",
                    "PRKills": "14",
                    "FirstKill": "14",
                    "LastKill": "18",
                    "totalKills": "14"
                },
                {
                    "PlayerGameName": "dpanniers4i",
                    "PRKills": "10",
                    "FirstKill": "14",
                    "LastKill": "18",
                    "totalKills": "24"
                },
                {
                    "PlayerGameName": "dpanniers4i",
                    "PRKills": "18",
                    "FirstKill": "14",
                    "LastKill": "18",
                    "totalKills": "42"
                },
                {
                    "PlayerGameName": "sthain4j",
                    "PRKills": "29",
                    "FirstKill": "29",
                    "LastKill": "15",
                    "totalKills": "29"
                },
                {
                    "PlayerGameName": "sthain4j",
                    "PRKills": "15",
                    "FirstKill": "29",
                    "LastKill": "15",
                    "totalKills": "44"
                },
                {
                    "PlayerGameName": "cjaques4k",
                    "PRKills": "15",
                    "FirstKill": "15",
                    "LastKill": "15",
                    "totalKills": "15"
                },
                {
                    "PlayerGameName": "cmeneely4l",
                    "PRKills": "27",
                    "FirstKill": "27",
                    "LastKill": "27",
                    "totalKills": "27"
                },
                {
                    "PlayerGameName": "jtrevena4m",
                    "PRKills": "3",
                    "FirstKill": "3",
                    "LastKill": "1",
                    "totalKills": "3"
                },
                {
                    "PlayerGameName": "jtrevena4m",
                    "PRKills": "9",
                    "FirstKill": "3",
                    "LastKill": "1",
                    "totalKills": "12"
                },
                {
                    "PlayerGameName": "jtrevena4m",
                    "PRKills": "1",
                    "FirstKill": "3",
                    "LastKill": "1",
                    "totalKills": "13"
                },
                {
                    "PlayerGameName": "mcloughton4n",
                    "PRKills": "11",
                    "FirstKill": "11",
                    "LastKill": "17",
                    "totalKills": "11"
                },
                {
                    "PlayerGameName": "mcloughton4n",
                    "PRKills": "6",
                    "FirstKill": "11",
                    "LastKill": "17",
                    "totalKills": "17"
                },
                {
                    "PlayerGameName": "mcloughton4n",
                    "PRKills": "12",
                    "FirstKill": "11",
                    "LastKill": "17",
                    "totalKills": "29"
                },
                {
                    "PlayerGameName": "mcloughton4n",
                    "PRKills": "17",
                    "FirstKill": "11",
                    "LastKill": "17",
                    "totalKills": "46"
                },
                {
                    "PlayerGameName": "mlelievre4o",
                    "PRKills": "27",
                    "FirstKill": "27",
                    "LastKill": "24",
                    "totalKills": "27"
                },
                {
                    "PlayerGameName": "mlelievre4o",
                    "PRKills": "24",
                    "FirstKill": "27",
                    "LastKill": "24",
                    "totalKills": "51"
                },
                {
                    "PlayerGameName": "leul4q",
                    "PRKills": "22",
                    "FirstKill": "22",
                    "LastKill": "16",
                    "totalKills": "22"
                },
                {
                    "PlayerGameName": "leul4q",
                    "PRKills": "16",
                    "FirstKill": "22",
                    "LastKill": "16",
                    "totalKills": "38"
                },
                {
                    "PlayerGameName": "gkember4r",
                    "PRKills": "12",
                    "FirstKill": "12",
                    "LastKill": "27",
                    "totalKills": "12"
                },
                {
                    "PlayerGameName": "gkember4r",
                    "PRKills": "7",
                    "FirstKill": "12",
                    "LastKill": "27",
                    "totalKills": "19"
                },
                {
                    "PlayerGameName": "gkember4r",
                    "PRKills": "27",
                    "FirstKill": "12",
                    "LastKill": "27",
                    "totalKills": "46"
                },
                {
                    "PlayerGameName": "vlambarth4s",
                    "PRKills": "29",
                    "FirstKill": "29",
                    "LastKill": "29",
                    "totalKills": "29"
                },
                {
                    "PlayerGameName": "fwaldron4t",
                    "PRKills": "21",
                    "FirstKill": "21",
                    "LastKill": "21",
                    "totalKills": "21"
                },
                {
                    "PlayerGameName": "myo4u",
                    "PRKills": "4",
                    "FirstKill": "4",
                    "LastKill": "20",
                    "totalKills": "4"
                },
                {
                    "PlayerGameName": "myo4u",
                    "PRKills": "20",
                    "FirstKill": "4",
                    "LastKill": "20",
                    "totalKills": "24"
                },
                {
                    "PlayerGameName": "rmacgauhy4v",
                    "PRKills": "5",
                    "FirstKill": "5",
                    "LastKill": "12",
                    "totalKills": "5"
                },
                {
                    "PlayerGameName": "rmacgauhy4v",
                    "PRKills": "12",
                    "FirstKill": "5",
                    "LastKill": "12",
                    "totalKills": "17"
                },
                {
                    "PlayerGameName": "kmound4x",
                    "PRKills": "22",
                    "FirstKill": "22",
                    "LastKill": "4",
                    "totalKills": "22"
                },
                {
                    "PlayerGameName": "kmound4x",
                    "PRKills": "31",
                    "FirstKill": "22",
                    "LastKill": "4",
                    "totalKills": "53"
                },
                {
                    "PlayerGameName": "kmound4x",
                    "PRKills": "5",
                    "FirstKill": "22",
                    "LastKill": "4",
                    "totalKills": "58"
                },
                {
                    "PlayerGameName": "kmound4x",
                    "PRKills": "4",
                    "FirstKill": "22",
                    "LastKill": "4",
                    "totalKills": "62"
                },
                {
                    "PlayerGameName": "mklimowicz4y",
                    "PRKills": "26",
                    "FirstKill": "26",
                    "LastKill": "28",
                    "totalKills": "26"
                },
                {
                    "PlayerGameName": "mklimowicz4y",
                    "PRKills": "28",
                    "FirstKill": "26",
                    "LastKill": "28",
                    "totalKills": "54"
                },
                {
                    "PlayerGameName": "rciani4z",
                    "PRKills": "9",
                    "FirstKill": "9",
                    "LastKill": "9",
                    "totalKills": "9"
                },
                {
                    "PlayerGameName": "katter50",
                    "PRKills": "9",
                    "FirstKill": "9",
                    "LastKill": "26",
                    "totalKills": "9"
                },
                {
                    "PlayerGameName": "katter50",
                    "PRKills": "30",
                    "FirstKill": "9",
                    "LastKill": "26",
                    "totalKills": "39"
                },
                {
                    "PlayerGameName": "katter50",
                    "PRKills": "26",
                    "FirstKill": "9",
                    "LastKill": "26",
                    "totalKills": "65"
                },
                {
                    "PlayerGameName": "mpahler52",
                    "PRKills": "9",
                    "FirstKill": "9",
                    "LastKill": "14",
                    "totalKills": "9"
                },
                {
                    "PlayerGameName": "mpahler52",
                    "PRKills": "14",
                    "FirstKill": "9",
                    "LastKill": "14",
                    "totalKills": "23"
                },
                {
                    "PlayerGameName": "gslogrove54",
                    "PRKills": "8",
                    "FirstKill": "8",
                    "LastKill": "8",
                    "totalKills": "8"
                },
                {
                    "PlayerGameName": "tmart56",
                    "PRKills": "20",
                    "FirstKill": "20",
                    "LastKill": "6",
                    "totalKills": "20"
                },
                {
                    "PlayerGameName": "tmart56",
                    "PRKills": "6",
                    "FirstKill": "20",
                    "LastKill": "6",
                    "totalKills": "26"
                },
                {
                    "PlayerGameName": "kramelet58",
                    "PRKills": "11",
                    "FirstKill": "11",
                    "LastKill": "4",
                    "totalKills": "11"
                },
                {
                    "PlayerGameName": "kramelet58",
                    "PRKills": "5",
                    "FirstKill": "11",
                    "LastKill": "4",
                    "totalKills": "16"
                },
                {
                    "PlayerGameName": "kramelet58",
                    "PRKills": "22",
                    "FirstKill": "11",
                    "LastKill": "4",
                    "totalKills": "38"
                },
                {
                    "PlayerGameName": "kramelet58",
                    "PRKills": "25",
                    "FirstKill": "11",
                    "LastKill": "4",
                    "totalKills": "63"
                },
                {
                    "PlayerGameName": "kramelet58",
                    "PRKills": "1",
                    "FirstKill": "11",
                    "LastKill": "4",
                    "totalKills": "64"
                },
                {
                    "PlayerGameName": "kramelet58",
                    "PRKills": "12",
                    "FirstKill": "11",
                    "LastKill": "4",
                    "totalKills": "76"
                },
                {
                    "PlayerGameName": "kramelet58",
                    "PRKills": "4",
                    "FirstKill": "11",
                    "LastKill": "4",
                    "totalKills": "80"
                },
                {
                    "PlayerGameName": "gbezant59",
                    "PRKills": "32",
                    "FirstKill": "32",
                    "LastKill": "8",
                    "totalKills": "32"
                },
                {
                    "PlayerGameName": "gbezant59",
                    "PRKills": "8",
                    "FirstKill": "32",
                    "LastKill": "8",
                    "totalKills": "40"
                },
                {
                    "PlayerGameName": "gbezant59",
                    "PRKills": "8",
                    "FirstKill": "32",
                    "LastKill": "8",
                    "totalKills": "48"
                },
                {
                    "PlayerGameName": "gsims5a",
                    "PRKills": "22",
                    "FirstKill": "22",
                    "LastKill": "29",
                    "totalKills": "22"
                },
                {
                    "PlayerGameName": "gsims5a",
                    "PRKills": "10",
                    "FirstKill": "22",
                    "LastKill": "29",
                    "totalKills": "32"
                },
                {
                    "PlayerGameName": "gsims5a",
                    "PRKills": "29",
                    "FirstKill": "22",
                    "LastKill": "29",
                    "totalKills": "61"
                },
                {
                    "PlayerGameName": "lmossdale5b",
                    "PRKills": "22",
                    "FirstKill": "22",
                    "LastKill": "22",
                    "totalKills": "22"
                },
                {
                    "PlayerGameName": "glidyard5c",
                    "PRKills": "7",
                    "FirstKill": "7",
                    "LastKill": "22",
                    "totalKills": "7"
                },
                {
                    "PlayerGameName": "glidyard5c",
                    "PRKills": "18",
                    "FirstKill": "7",
                    "LastKill": "22",
                    "totalKills": "25"
                },
                {
                    "PlayerGameName": "glidyard5c",
                    "PRKills": "22",
                    "FirstKill": "7",
                    "LastKill": "22",
                    "totalKills": "47"
                },
                {
                    "PlayerGameName": "njoannet5d",
                    "PRKills": "25",
                    "FirstKill": "25",
                    "LastKill": "12",
                    "totalKills": "25"
                },
                {
                    "PlayerGameName": "njoannet5d",
                    "PRKills": "14",
                    "FirstKill": "25",
                    "LastKill": "12",
                    "totalKills": "39"
                },
                {
                    "PlayerGameName": "njoannet5d",
                    "PRKills": "23",
                    "FirstKill": "25",
                    "LastKill": "12",
                    "totalKills": "62"
                },
                {
                    "PlayerGameName": "njoannet5d",
                    "PRKills": "12",
                    "FirstKill": "25",
                    "LastKill": "12",
                    "totalKills": "74"
                },
                {
                    "PlayerGameName": "jwaistell5e",
                    "PRKills": "16",
                    "FirstKill": "16",
                    "LastKill": "22",
                    "totalKills": "16"
                },
                {
                    "PlayerGameName": "jwaistell5e",
                    "PRKills": "6",
                    "FirstKill": "16",
                    "LastKill": "22",
                    "totalKills": "22"
                },
                {
                    "PlayerGameName": "jwaistell5e",
                    "PRKills": "13",
                    "FirstKill": "16",
                    "LastKill": "22",
                    "totalKills": "35"
                },
                {
                    "PlayerGameName": "jwaistell5e",
                    "PRKills": "22",
                    "FirstKill": "16",
                    "LastKill": "22",
                    "totalKills": "57"
                },
                {
                    "PlayerGameName": "fgeibel5f",
                    "PRKills": "3",
                    "FirstKill": "3",
                    "LastKill": "27",
                    "totalKills": "3"
                },
                {
                    "PlayerGameName": "fgeibel5f",
                    "PRKills": "18",
                    "FirstKill": "3",
                    "LastKill": "27",
                    "totalKills": "21"
                },
                {
                    "PlayerGameName": "fgeibel5f",
                    "PRKills": "27",
                    "FirstKill": "3",
                    "LastKill": "27",
                    "totalKills": "48"
                },
                {
                    "PlayerGameName": "dcristoferi5g",
                    "PRKills": "1",
                    "FirstKill": "1",
                    "LastKill": "1",
                    "totalKills": "1"
                },
                {
                    "PlayerGameName": "grojel5h",
                    "PRKills": "21",
                    "FirstKill": "21",
                    "LastKill": "18",
                    "totalKills": "21"
                },
                {
                    "PlayerGameName": "grojel5h",
                    "PRKills": "31",
                    "FirstKill": "21",
                    "LastKill": "18",
                    "totalKills": "52"
                },
                {
                    "PlayerGameName": "grojel5h",
                    "PRKills": "18",
                    "FirstKill": "21",
                    "LastKill": "18",
                    "totalKills": "70"
                },
                {
                    "PlayerGameName": "ghollebon5i",
                    "PRKills": "1",
                    "FirstKill": "1",
                    "LastKill": "31",
                    "totalKills": "1"
                },
                {
                    "PlayerGameName": "ghollebon5i",
                    "PRKills": "6",
                    "FirstKill": "1",
                    "LastKill": "31",
                    "totalKills": "7"
                },
                {
                    "PlayerGameName": "ghollebon5i",
                    "PRKills": "17",
                    "FirstKill": "1",
                    "LastKill": "31",
                    "totalKills": "24"
                },
                {
                    "PlayerGameName": "ghollebon5i",
                    "PRKills": "31",
                    "FirstKill": "1",
                    "LastKill": "31",
                    "totalKills": "55"
                },
                {
                    "PlayerGameName": "cstebbin5j",
                    "PRKills": "27",
                    "FirstKill": "27",
                    "LastKill": "23",
                    "totalKills": "27"
                },
                {
                    "PlayerGameName": "cstebbin5j",
                    "PRKills": "21",
                    "FirstKill": "27",
                    "LastKill": "23",
                    "totalKills": "48"
                },
                {
                    "PlayerGameName": "cstebbin5j",
                    "PRKills": "12",
                    "FirstKill": "27",
                    "LastKill": "23",
                    "totalKills": "60"
                },
                {
                    "PlayerGameName": "cstebbin5j",
                    "PRKills": "19",
                    "FirstKill": "27",
                    "LastKill": "23",
                    "totalKills": "79"
                },
                {
                    "PlayerGameName": "cstebbin5j",
                    "PRKills": "4",
                    "FirstKill": "27",
                    "LastKill": "23",
                    "totalKills": "83"
                },
                {
                    "PlayerGameName": "cstebbin5j",
                    "PRKills": "23",
                    "FirstKill": "27",
                    "LastKill": "23",
                    "totalKills": "106"
                },
                {
                    "PlayerGameName": "reffnert5k",
                    "PRKills": "8",
                    "FirstKill": "8",
                    "LastKill": "15",
                    "totalKills": "8"
                },
                {
                    "PlayerGameName": "reffnert5k",
                    "PRKills": "15",
                    "FirstKill": "8",
                    "LastKill": "15",
                    "totalKills": "23"
                },
                {
                    "PlayerGameName": "geskriett5l",
                    "PRKills": "5",
                    "FirstKill": "5",
                    "LastKill": "17",
                    "totalKills": "5"
                },
                {
                    "PlayerGameName": "geskriett5l",
                    "PRKills": "17",
                    "FirstKill": "5",
                    "LastKill": "17",
                    "totalKills": "22"
                },
                {
                    "PlayerGameName": "brown5m",
                    "PRKills": "0",
                    "FirstKill": "0",
                    "LastKill": "0",
                    "totalKills": "0"
                },
                {
                    "PlayerGameName": "rizod5n",
                    "PRKills": "28",
                    "FirstKill": "28",
                    "LastKill": "2",
                    "totalKills": "28"
                },
                {
                    "PlayerGameName": "rizod5n",
                    "PRKills": "1",
                    "FirstKill": "28",
                    "LastKill": "2",
                    "totalKills": "29"
                },
                {
                    "PlayerGameName": "rizod5n",
                    "PRKills": "2",
                    "FirstKill": "28",
                    "LastKill": "2",
                    "totalKills": "31"
                },
                {
                    "PlayerGameName": "kdhennin5o",
                    "PRKills": "33",
                    "FirstKill": "33",
                    "LastKill": "13",
                    "totalKills": "33"
                },
                {
                    "PlayerGameName": "kdhennin5o",
                    "PRKills": "25",
                    "FirstKill": "33",
                    "LastKill": "13",
                    "totalKills": "58"
                },
                {
                    "PlayerGameName": "kdhennin5o",
                    "PRKills": "13",
                    "FirstKill": "33",
                    "LastKill": "13",
                    "totalKills": "71"
                },
                {
                    "PlayerGameName": "cadamson5q",
                    "PRKills": "30",
                    "FirstKill": "30",
                    "LastKill": "32",
                    "totalKills": "30"
                },
                {
                    "PlayerGameName": "cadamson5q",
                    "PRKills": "21",
                    "FirstKill": "30",
                    "LastKill": "32",
                    "totalKills": "51"
                },
                {
                    "PlayerGameName": "cadamson5q",
                    "PRKills": "32",
                    "FirstKill": "30",
                    "LastKill": "32",
                    "totalKills": "83"
                },
                {
                    "PlayerGameName": "tpettegree5r",
                    "PRKills": "17",
                    "FirstKill": "17",
                    "LastKill": "32",
                    "totalKills": "17"
                },
                {
                    "PlayerGameName": "tpettegree5r",
                    "PRKills": "7",
                    "FirstKill": "17",
                    "LastKill": "32",
                    "totalKills": "24"
                },
                {
                    "PlayerGameName": "tpettegree5r",
                    "PRKills": "32",
                    "FirstKill": "17",
                    "LastKill": "32",
                    "totalKills": "56"
                },
                {
                    "PlayerGameName": "lreinard5s",
                    "PRKills": "3",
                    "FirstKill": "3",
                    "LastKill": "24",
                    "totalKills": "3"
                },
                {
                    "PlayerGameName": "lreinard5s",
                    "PRKills": "13",
                    "FirstKill": "3",
                    "LastKill": "24",
                    "totalKills": "16"
                },
                {
                    "PlayerGameName": "lreinard5s",
                    "PRKills": "8",
                    "FirstKill": "3",
                    "LastKill": "24",
                    "totalKills": "24"
                },
                {
                    "PlayerGameName": "lreinard5s",
                    "PRKills": "24",
                    "FirstKill": "3",
                    "LastKill": "24",
                    "totalKills": "48"
                },
                {
                    "PlayerGameName": "mhearse5t",
                    "PRKills": "3",
                    "FirstKill": "3",
                    "LastKill": "25",
                    "totalKills": "3"
                },
                {
                    "PlayerGameName": "mhearse5t",
                    "PRKills": "25",
                    "FirstKill": "3",
                    "LastKill": "25",
                    "totalKills": "28"
                },
                {
                    "PlayerGameName": "gpyner5u",
                    "PRKills": "14",
                    "FirstKill": "14",
                    "LastKill": "14",
                    "totalKills": "14"
                },
                {
                    "PlayerGameName": "rleteurtre5v",
                    "PRKills": "6",
                    "FirstKill": "6",
                    "LastKill": "6",
                    "totalKills": "6"
                },
                {
                    "PlayerGameName": "rmccroft5w",
                    "PRKills": "5",
                    "FirstKill": "5",
                    "LastKill": "17",
                    "totalKills": "5"
                },
                {
                    "PlayerGameName": "rmccroft5w",
                    "PRKills": "18",
                    "FirstKill": "5",
                    "LastKill": "17",
                    "totalKills": "23"
                },
                {
                    "PlayerGameName": "rmccroft5w",
                    "PRKills": "26",
                    "FirstKill": "5",
                    "LastKill": "17",
                    "totalKills": "49"
                },
                {
                    "PlayerGameName": "rmccroft5w",
                    "PRKills": "20",
                    "FirstKill": "5",
                    "LastKill": "17",
                    "totalKills": "69"
                },
                {
                    "PlayerGameName": "rmccroft5w",
                    "PRKills": "17",
                    "FirstKill": "5",
                    "LastKill": "17",
                    "totalKills": "86"
                },
                {
                    "PlayerGameName": "mchatin5x",
                    "PRKills": "6",
                    "FirstKill": "6",
                    "LastKill": "31",
                    "totalKills": "34"
                },
                {
                    "PlayerGameName": "mchatin5x",
                    "PRKills": "28",
                    "FirstKill": "6",
                    "LastKill": "31",
                    "totalKills": "34"
                },
                {
                    "PlayerGameName": "mchatin5x",
                    "PRKills": "24",
                    "FirstKill": "6",
                    "LastKill": "31",
                    "totalKills": "58"
                },
                {
                    "PlayerGameName": "mchatin5x",
                    "PRKills": "20",
                    "FirstKill": "6",
                    "LastKill": "31",
                    "totalKills": "109"
                },
                {
                    "PlayerGameName": "mchatin5x",
                    "PRKills": "31",
                    "FirstKill": "6",
                    "LastKill": "31",
                    "totalKills": "109"
                },
                {
                    "PlayerGameName": "efaulconbridge5y",
                    "PRKills": "18",
                    "FirstKill": "18",
                    "LastKill": "33",
                    "totalKills": "18"
                },
                {
                    "PlayerGameName": "efaulconbridge5y",
                    "PRKills": "33",
                    "FirstKill": "18",
                    "LastKill": "33",
                    "totalKills": "51"
                },
                {
                    "PlayerGameName": "jdambrosio5z",
                    "PRKills": "4",
                    "FirstKill": "4",
                    "LastKill": "11",
                    "totalKills": "4"
                },
                {
                    "PlayerGameName": "jdambrosio5z",
                    "PRKills": "11",
                    "FirstKill": "4",
                    "LastKill": "11",
                    "totalKills": "15"
                },
                {
                    "PlayerGameName": "abarnhill60",
                    "PRKills": "11",
                    "FirstKill": "11",
                    "LastKill": "28",
                    "totalKills": "11"
                },
                {
                    "PlayerGameName": "abarnhill60",
                    "PRKills": "18",
                    "FirstKill": "11",
                    "LastKill": "28",
                    "totalKills": "29"
                },
                {
                    "PlayerGameName": "abarnhill60",
                    "PRKills": "28",
                    "FirstKill": "11",
                    "LastKill": "28",
                    "totalKills": "57"
                },
                {
                    "PlayerGameName": "lmackie61",
                    "PRKills": "27",
                    "FirstKill": "27",
                    "LastKill": "30",
                    "totalKills": "27"
                },
                {
                    "PlayerGameName": "lmackie61",
                    "PRKills": "30",
                    "FirstKill": "27",
                    "LastKill": "30",
                    "totalKills": "57"
                },
                {
                    "PlayerGameName": "mmuge63",
                    "PRKills": "33",
                    "FirstKill": "33",
                    "LastKill": "0",
                    "totalKills": "33"
                },
                {
                    "PlayerGameName": "mmuge63",
                    "PRKills": "14",
                    "FirstKill": "33",
                    "LastKill": "0",
                    "totalKills": "47"
                },
                {
                    "PlayerGameName": "mmuge63",
                    "PRKills": "22",
                    "FirstKill": "33",
                    "LastKill": "0",
                    "totalKills": "69"
                },
                {
                    "PlayerGameName": "mmuge63",
                    "PRKills": "13",
                    "FirstKill": "33",
                    "LastKill": "0",
                    "totalKills": "82"
                },
                {
                    "PlayerGameName": "mmuge63",
                    "PRKills": "0",
                    "FirstKill": "33",
                    "LastKill": "0",
                    "totalKills": "82"
                },
                {
                    "PlayerGameName": "dbortoletti64",
                    "PRKills": "17",
                    "FirstKill": "17",
                    "LastKill": "17",
                    "totalKills": "17"
                },
                {
                    "PlayerGameName": "ksurgeon66",
                    "PRKills": "8",
                    "FirstKill": "8",
                    "LastKill": "8",
                    "totalKills": "8"
                },
                {
                    "PlayerGameName": "bashman67",
                    "PRKills": "7",
                    "FirstKill": "7",
                    "LastKill": "29",
                    "totalKills": "7"
                },
                {
                    "PlayerGameName": "bashman67",
                    "PRKills": "29",
                    "FirstKill": "7",
                    "LastKill": "29",
                    "totalKills": "36"
                },
                {
                    "PlayerGameName": "hdominico68",
                    "PRKills": "14",
                    "FirstKill": "14",
                    "LastKill": "11",
                    "totalKills": "14"
                },
                {
                    "PlayerGameName": "hdominico68",
                    "PRKills": "11",
                    "FirstKill": "14",
                    "LastKill": "11",
                    "totalKills": "25"
                },
                {
                    "PlayerGameName": "rgietz69",
                    "PRKills": "13",
                    "FirstKill": "13",
                    "LastKill": "3",
                    "totalKills": "13"
                },
                {
                    "PlayerGameName": "rgietz69",
                    "PRKills": "26",
                    "FirstKill": "13",
                    "LastKill": "3",
                    "totalKills": "39"
                },
                {
                    "PlayerGameName": "rgietz69",
                    "PRKills": "6",
                    "FirstKill": "13",
                    "LastKill": "3",
                    "totalKills": "45"
                },
                {
                    "PlayerGameName": "rgietz69",
                    "PRKills": "3",
                    "FirstKill": "13",
                    "LastKill": "3",
                    "totalKills": "48"
                },
                {
                    "PlayerGameName": "kaujean6a",
                    "PRKills": "26",
                    "FirstKill": "26",
                    "LastKill": "6",
                    "totalKills": "26"
                },
                {
                    "PlayerGameName": "kaujean6a",
                    "PRKills": "9",
                    "FirstKill": "26",
                    "LastKill": "6",
                    "totalKills": "35"
                },
                {
                    "PlayerGameName": "kaujean6a",
                    "PRKills": "6",
                    "FirstKill": "26",
                    "LastKill": "6",
                    "totalKills": "41"
                },
                {
                    "PlayerGameName": "nforty6b",
                    "PRKills": "22",
                    "FirstKill": "22",
                    "LastKill": "8",
                    "totalKills": "22"
                },
                {
                    "PlayerGameName": "nforty6b",
                    "PRKills": "12",
                    "FirstKill": "22",
                    "LastKill": "8",
                    "totalKills": "34"
                },
                {
                    "PlayerGameName": "nforty6b",
                    "PRKills": "8",
                    "FirstKill": "22",
                    "LastKill": "8",
                    "totalKills": "42"
                },
                {
                    "PlayerGameName": "rkintish6c",
                    "PRKills": "0",
                    "FirstKill": "0",
                    "LastKill": "7",
                    "totalKills": "0"
                },
                {
                    "PlayerGameName": "rkintish6c",
                    "PRKills": "26",
                    "FirstKill": "0",
                    "LastKill": "7",
                    "totalKills": "26"
                },
                {
                    "PlayerGameName": "rkintish6c",
                    "PRKills": "27",
                    "FirstKill": "0",
                    "LastKill": "7",
                    "totalKills": "53"
                },
                {
                    "PlayerGameName": "rkintish6c",
                    "PRKills": "6",
                    "FirstKill": "0",
                    "LastKill": "7",
                    "totalKills": "59"
                },
                {
                    "PlayerGameName": "rkintish6c",
                    "PRKills": "7",
                    "FirstKill": "0",
                    "LastKill": "7",
                    "totalKills": "66"
                },
                {
                    "PlayerGameName": "dharland6d",
                    "PRKills": "21",
                    "FirstKill": "21",
                    "LastKill": "3",
                    "totalKills": "21"
                },
                {
                    "PlayerGameName": "dharland6d",
                    "PRKills": "8",
                    "FirstKill": "21",
                    "LastKill": "3",
                    "totalKills": "29"
                },
                {
                    "PlayerGameName": "dharland6d",
                    "PRKills": "7",
                    "FirstKill": "21",
                    "LastKill": "3",
                    "totalKills": "36"
                },
                {
                    "PlayerGameName": "dharland6d",
                    "PRKills": "3",
                    "FirstKill": "21",
                    "LastKill": "3",
                    "totalKills": "39"
                },
                {
                    "PlayerGameName": "ctomaello6e",
                    "PRKills": "7",
                    "FirstKill": "7",
                    "LastKill": "29",
                    "totalKills": "7"
                },
                {
                    "PlayerGameName": "ctomaello6e",
                    "PRKills": "5",
                    "FirstKill": "7",
                    "LastKill": "29",
                    "totalKills": "12"
                },
                {
                    "PlayerGameName": "ctomaello6e",
                    "PRKills": "18",
                    "FirstKill": "7",
                    "LastKill": "29",
                    "totalKills": "30"
                },
                {
                    "PlayerGameName": "ctomaello6e",
                    "PRKills": "26",
                    "FirstKill": "7",
                    "LastKill": "29",
                    "totalKills": "56"
                },
                {
                    "PlayerGameName": "ctomaello6e",
                    "PRKills": "10",
                    "FirstKill": "7",
                    "LastKill": "29",
                    "totalKills": "66"
                },
                {
                    "PlayerGameName": "ctomaello6e",
                    "PRKills": "29",
                    "FirstKill": "7",
                    "LastKill": "29",
                    "totalKills": "95"
                },
                {
                    "PlayerGameName": "ndonovan6f",
                    "PRKills": "16",
                    "FirstKill": "16",
                    "LastKill": "18",
                    "totalKills": "16"
                },
                {
                    "PlayerGameName": "ndonovan6f",
                    "PRKills": "17",
                    "FirstKill": "16",
                    "LastKill": "18",
                    "totalKills": "33"
                },
                {
                    "PlayerGameName": "ndonovan6f",
                    "PRKills": "0",
                    "FirstKill": "16",
                    "LastKill": "18",
                    "totalKills": "33"
                },
                {
                    "PlayerGameName": "ndonovan6f",
                    "PRKills": "2",
                    "FirstKill": "16",
                    "LastKill": "18",
                    "totalKills": "35"
                },
                {
                    "PlayerGameName": "ndonovan6f",
                    "PRKills": "18",
                    "FirstKill": "16",
                    "LastKill": "18",
                    "totalKills": "53"
                },
                {
                    "PlayerGameName": "rwoodus6g",
                    "PRKills": "11",
                    "FirstKill": "11",
                    "LastKill": "7",
                    "totalKills": "11"
                },
                {
                    "PlayerGameName": "rwoodus6g",
                    "PRKills": "29",
                    "FirstKill": "11",
                    "LastKill": "7",
                    "totalKills": "40"
                },
                {
                    "PlayerGameName": "rwoodus6g",
                    "PRKills": "25",
                    "FirstKill": "11",
                    "LastKill": "7",
                    "totalKills": "65"
                },
                {
                    "PlayerGameName": "rwoodus6g",
                    "PRKills": "7",
                    "FirstKill": "11",
                    "LastKill": "7",
                    "totalKills": "72"
                },
                {
                    "PlayerGameName": "bmarconi6h",
                    "PRKills": "32",
                    "FirstKill": "32",
                    "LastKill": "5",
                    "totalKills": "32"
                },
                {
                    "PlayerGameName": "bmarconi6h",
                    "PRKills": "21",
                    "FirstKill": "32",
                    "LastKill": "5",
                    "totalKills": "53"
                },
                {
                    "PlayerGameName": "bmarconi6h",
                    "PRKills": "5",
                    "FirstKill": "32",
                    "LastKill": "5",
                    "totalKills": "58"
                },
                {
                    "PlayerGameName": "ctice6i",
                    "PRKills": "3",
                    "FirstKill": "3",
                    "LastKill": "10",
                    "totalKills": "3"
                },
                {
                    "PlayerGameName": "ctice6i",
                    "PRKills": "24",
                    "FirstKill": "3",
                    "LastKill": "10",
                    "totalKills": "27"
                },
                {
                    "PlayerGameName": "ctice6i",
                    "PRKills": "10",
                    "FirstKill": "3",
                    "LastKill": "10",
                    "totalKills": "37"
                },
                {
                    "PlayerGameName": "hguidini6j",
                    "PRKills": "21",
                    "FirstKill": "21",
                    "LastKill": "21",
                    "totalKills": "21"
                },
                {
                    "PlayerGameName": "fgoodhall6k",
                    "PRKills": "26",
                    "FirstKill": "26",
                    "LastKill": "8",
                    "totalKills": "26"
                },
                {
                    "PlayerGameName": "fgoodhall6k",
                    "PRKills": "26",
                    "FirstKill": "26",
                    "LastKill": "8",
                    "totalKills": "52"
                },
                {
                    "PlayerGameName": "fgoodhall6k",
                    "PRKills": "8",
                    "FirstKill": "26",
                    "LastKill": "8",
                    "totalKills": "60"
                },
                {
                    "PlayerGameName": "fgoodhall6k",
                    "PRKills": "8",
                    "FirstKill": "26",
                    "LastKill": "8",
                    "totalKills": "68"
                },
                {
                    "PlayerGameName": "nstorck6l",
                    "PRKills": "31",
                    "FirstKill": "31",
                    "LastKill": "4",
                    "totalKills": "31"
                },
                {
                    "PlayerGameName": "nstorck6l",
                    "PRKills": "31",
                    "FirstKill": "31",
                    "LastKill": "4",
                    "totalKills": "62"
                },
                {
                    "PlayerGameName": "nstorck6l",
                    "PRKills": "24",
                    "FirstKill": "31",
                    "LastKill": "4",
                    "totalKills": "86"
                },
                {
                    "PlayerGameName": "nstorck6l",
                    "PRKills": "18",
                    "FirstKill": "31",
                    "LastKill": "4",
                    "totalKills": "104"
                },
                {
                    "PlayerGameName": "nstorck6l",
                    "PRKills": "4",
                    "FirstKill": "31",
                    "LastKill": "4",
                    "totalKills": "108"
                },
                {
                    "PlayerGameName": "rrentalll6n",
                    "PRKills": "3",
                    "FirstKill": "3",
                    "LastKill": "24",
                    "totalKills": "3"
                },
                {
                    "PlayerGameName": "rrentalll6n",
                    "PRKills": "24",
                    "FirstKill": "3",
                    "LastKill": "24",
                    "totalKills": "27"
                },
                {
                    "PlayerGameName": "rrentalll6n",
                    "PRKills": "24",
                    "FirstKill": "3",
                    "LastKill": "24",
                    "totalKills": "51"
                },
                {
                    "PlayerGameName": "lmar6o",
                    "PRKills": "19",
                    "FirstKill": "19",
                    "LastKill": "8",
                    "totalKills": "19"
                },
                {
                    "PlayerGameName": "lmar6o",
                    "PRKills": "2",
                    "FirstKill": "19",
                    "LastKill": "8",
                    "totalKills": "21"
                },
                {
                    "PlayerGameName": "lmar6o",
                    "PRKills": "8",
                    "FirstKill": "19",
                    "LastKill": "8",
                    "totalKills": "29"
                },
                {
                    "PlayerGameName": "csheryn6p",
                    "PRKills": "16",
                    "FirstKill": "16",
                    "LastKill": "8",
                    "totalKills": "16"
                },
                {
                    "PlayerGameName": "csheryn6p",
                    "PRKills": "8",
                    "FirstKill": "16",
                    "LastKill": "8",
                    "totalKills": "24"
                },
                {
                    "PlayerGameName": "rhaynes6q",
                    "PRKills": "20",
                    "FirstKill": "20",
                    "LastKill": "20",
                    "totalKills": "20"
                },
                {
                    "PlayerGameName": "avolet6r",
                    "PRKills": "14",
                    "FirstKill": "14",
                    "LastKill": "0",
                    "totalKills": "14"
                },
                {
                    "PlayerGameName": "avolet6r",
                    "PRKills": "29",
                    "FirstKill": "14",
                    "LastKill": "0",
                    "totalKills": "43"
                },
                {
                    "PlayerGameName": "avolet6r",
                    "PRKills": "9",
                    "FirstKill": "14",
                    "LastKill": "0",
                    "totalKills": "52"
                },
                {
                    "PlayerGameName": "avolet6r",
                    "PRKills": "0",
                    "FirstKill": "14",
                    "LastKill": "0",
                    "totalKills": "52"
                },
                {
                    "PlayerGameName": "hmacmickan6s",
                    "PRKills": "29",
                    "FirstKill": "29",
                    "LastKill": "5",
                    "totalKills": "29"
                },
                {
                    "PlayerGameName": "hmacmickan6s",
                    "PRKills": "5",
                    "FirstKill": "29",
                    "LastKill": "5",
                    "totalKills": "34"
                },
                {
                    "PlayerGameName": "sriden6t",
                    "PRKills": "31",
                    "FirstKill": "31",
                    "LastKill": "6",
                    "totalKills": "31"
                },
                {
                    "PlayerGameName": "sriden6t",
                    "PRKills": "1",
                    "FirstKill": "31",
                    "LastKill": "6",
                    "totalKills": "32"
                },
                {
                    "PlayerGameName": "sriden6t",
                    "PRKills": "6",
                    "FirstKill": "31",
                    "LastKill": "6",
                    "totalKills": "38"
                },
                {
                    "PlayerGameName": "fodowgaine6u",
                    "PRKills": "11",
                    "FirstKill": "11",
                    "LastKill": "16",
                    "totalKills": "11"
                },
                {
                    "PlayerGameName": "fodowgaine6u",
                    "PRKills": "23",
                    "FirstKill": "11",
                    "LastKill": "16",
                    "totalKills": "34"
                },
                {
                    "PlayerGameName": "fodowgaine6u",
                    "PRKills": "16",
                    "FirstKill": "11",
                    "LastKill": "16",
                    "totalKills": "50"
                },
                {
                    "PlayerGameName": "rboustred6v",
                    "PRKills": "28",
                    "FirstKill": "28",
                    "LastKill": "15",
                    "totalKills": "28"
                },
                {
                    "PlayerGameName": "rboustred6v",
                    "PRKills": "15",
                    "FirstKill": "28",
                    "LastKill": "15",
                    "totalKills": "43"
                },
                {
                    "PlayerGameName": "kleafe6w",
                    "PRKills": "3",
                    "FirstKill": "3",
                    "LastKill": "30",
                    "totalKills": "3"
                },
                {
                    "PlayerGameName": "kleafe6w",
                    "PRKills": "32",
                    "FirstKill": "3",
                    "LastKill": "30",
                    "totalKills": "35"
                },
                {
                    "PlayerGameName": "kleafe6w",
                    "PRKills": "14",
                    "FirstKill": "3",
                    "LastKill": "30",
                    "totalKills": "49"
                },
                {
                    "PlayerGameName": "kleafe6w",
                    "PRKills": "30",
                    "FirstKill": "3",
                    "LastKill": "30",
                    "totalKills": "79"
                },
                {
                    "PlayerGameName": "yswaton6x",
                    "PRKills": "8",
                    "FirstKill": "8",
                    "LastKill": "19",
                    "totalKills": "8"
                },
                {
                    "PlayerGameName": "yswaton6x",
                    "PRKills": "11",
                    "FirstKill": "8",
                    "LastKill": "19",
                    "totalKills": "19"
                },
                {
                    "PlayerGameName": "yswaton6x",
                    "PRKills": "19",
                    "FirstKill": "8",
                    "LastKill": "19",
                    "totalKills": "38"
                },
                {
                    "PlayerGameName": "cmccadden6y",
                    "PRKills": "33",
                    "FirstKill": "33",
                    "LastKill": "8",
                    "totalKills": "33"
                },
                {
                    "PlayerGameName": "cmccadden6y",
                    "PRKills": "24",
                    "FirstKill": "33",
                    "LastKill": "8",
                    "totalKills": "57"
                },
                {
                    "PlayerGameName": "cmccadden6y",
                    "PRKills": "3",
                    "FirstKill": "33",
                    "LastKill": "8",
                    "totalKills": "60"
                },
                {
                    "PlayerGameName": "cmccadden6y",
                    "PRKills": "17",
                    "FirstKill": "33",
                    "LastKill": "8",
                    "totalKills": "77"
                },
                {
                    "PlayerGameName": "cmccadden6y",
                    "PRKills": "8",
                    "FirstKill": "33",
                    "LastKill": "8",
                    "totalKills": "85"
                },
                {
                    "PlayerGameName": "lcord6z",
                    "PRKills": "24",
                    "FirstKill": "24",
                    "LastKill": "22",
                    "totalKills": "24"
                },
                {
                    "PlayerGameName": "lcord6z",
                    "PRKills": "22",
                    "FirstKill": "24",
                    "LastKill": "22",
                    "totalKills": "46"
                },
                {
                    "PlayerGameName": "bcobbin70",
                    "PRKills": "31",
                    "FirstKill": "31",
                    "LastKill": "18",
                    "totalKills": "31"
                },
                {
                    "PlayerGameName": "bcobbin70",
                    "PRKills": "1",
                    "FirstKill": "31",
                    "LastKill": "18",
                    "totalKills": "32"
                },
                {
                    "PlayerGameName": "bcobbin70",
                    "PRKills": "18",
                    "FirstKill": "31",
                    "LastKill": "18",
                    "totalKills": "50"
                },
                {
                    "PlayerGameName": "kshakelade71",
                    "PRKills": "9",
                    "FirstKill": "9",
                    "LastKill": "9",
                    "totalKills": "9"
                },
                {
                    "PlayerGameName": "jspellessy72",
                    "PRKills": "6",
                    "FirstKill": "6",
                    "LastKill": "6",
                    "totalKills": "6"
                },
                {
                    "PlayerGameName": "dbowcock73",
                    "PRKills": "12",
                    "FirstKill": "12",
                    "LastKill": "12",
                    "totalKills": "12"
                },
                {
                    "PlayerGameName": "vbeamiss74",
                    "PRKills": "25",
                    "FirstKill": "25",
                    "LastKill": "1",
                    "totalKills": "25"
                },
                {
                    "PlayerGameName": "vbeamiss74",
                    "PRKills": "2",
                    "FirstKill": "25",
                    "LastKill": "1",
                    "totalKills": "27"
                },
                {
                    "PlayerGameName": "vbeamiss74",
                    "PRKills": "1",
                    "FirstKill": "25",
                    "LastKill": "1",
                    "totalKills": "28"
                },
                {
                    "PlayerGameName": "rdodimead75",
                    "PRKills": "23",
                    "FirstKill": "23",
                    "LastKill": "26",
                    "totalKills": "23"
                },
                {
                    "PlayerGameName": "rdodimead75",
                    "PRKills": "16",
                    "FirstKill": "23",
                    "LastKill": "26",
                    "totalKills": "39"
                },
                {
                    "PlayerGameName": "rdodimead75",
                    "PRKills": "26",
                    "FirstKill": "23",
                    "LastKill": "26",
                    "totalKills": "65"
                },
                {
                    "PlayerGameName": "chowley76",
                    "PRKills": "7",
                    "FirstKill": "7",
                    "LastKill": "4",
                    "totalKills": "7"
                },
                {
                    "PlayerGameName": "chowley76",
                    "PRKills": "4",
                    "FirstKill": "7",
                    "LastKill": "4",
                    "totalKills": "11"
                },
                {
                    "PlayerGameName": "lbrabbs77",
                    "PRKills": "28",
                    "FirstKill": "28",
                    "LastKill": "30",
                    "totalKills": "28"
                },
                {
                    "PlayerGameName": "lbrabbs77",
                    "PRKills": "30",
                    "FirstKill": "28",
                    "LastKill": "30",
                    "totalKills": "58"
                },
                {
                    "PlayerGameName": "lswinfen78",
                    "PRKills": "21",
                    "FirstKill": "21",
                    "LastKill": "21",
                    "totalKills": "21"
                },
                {
                    "PlayerGameName": "capple79",
                    "PRKills": "7",
                    "FirstKill": "7",
                    "LastKill": "27",
                    "totalKills": "7"
                },
                {
                    "PlayerGameName": "capple79",
                    "PRKills": "1",
                    "FirstKill": "7",
                    "LastKill": "27",
                    "totalKills": "8"
                },
                {
                    "PlayerGameName": "capple79",
                    "PRKills": "27",
                    "FirstKill": "7",
                    "LastKill": "27",
                    "totalKills": "35"
                },
                {
                    "PlayerGameName": "smoorfield7a",
                    "PRKills": "31",
                    "FirstKill": "31",
                    "LastKill": "22",
                    "totalKills": "31"
                },
                {
                    "PlayerGameName": "smoorfield7a",
                    "PRKills": "8",
                    "FirstKill": "31",
                    "LastKill": "22",
                    "totalKills": "39"
                },
                {
                    "PlayerGameName": "smoorfield7a",
                    "PRKills": "32",
                    "FirstKill": "31",
                    "LastKill": "22",
                    "totalKills": "71"
                },
                {
                    "PlayerGameName": "smoorfield7a",
                    "PRKills": "22",
                    "FirstKill": "31",
                    "LastKill": "22",
                    "totalKills": "93"
                },
                {
                    "PlayerGameName": "hmcgarrie7b",
                    "PRKills": "17",
                    "FirstKill": "17",
                    "LastKill": "29",
                    "totalKills": "17"
                },
                {
                    "PlayerGameName": "hmcgarrie7b",
                    "PRKills": "18",
                    "FirstKill": "17",
                    "LastKill": "29",
                    "totalKills": "35"
                },
                {
                    "PlayerGameName": "hmcgarrie7b",
                    "PRKills": "9",
                    "FirstKill": "17",
                    "LastKill": "29",
                    "totalKills": "44"
                },
                {
                    "PlayerGameName": "hmcgarrie7b",
                    "PRKills": "28",
                    "FirstKill": "17",
                    "LastKill": "29",
                    "totalKills": "72"
                },
                {
                    "PlayerGameName": "hmcgarrie7b",
                    "PRKills": "32",
                    "FirstKill": "17",
                    "LastKill": "29",
                    "totalKills": "104"
                },
                {
                    "PlayerGameName": "hmcgarrie7b",
                    "PRKills": "29",
                    "FirstKill": "17",
                    "LastKill": "29",
                    "totalKills": "133"
                },
                {
                    "PlayerGameName": "hwiper7c",
                    "PRKills": "13",
                    "FirstKill": "13",
                    "LastKill": "18",
                    "totalKills": "13"
                },
                {
                    "PlayerGameName": "hwiper7c",
                    "PRKills": "18",
                    "FirstKill": "13",
                    "LastKill": "18",
                    "totalKills": "31"
                },
                {
                    "PlayerGameName": "yweymont7d",
                    "PRKills": "22",
                    "FirstKill": "22",
                    "LastKill": "3",
                    "totalKills": "22"
                },
                {
                    "PlayerGameName": "yweymont7d",
                    "PRKills": "17",
                    "FirstKill": "22",
                    "LastKill": "3",
                    "totalKills": "39"
                },
                {
                    "PlayerGameName": "yweymont7d",
                    "PRKills": "3",
                    "FirstKill": "22",
                    "LastKill": "3",
                    "totalKills": "42"
                },
                {
                    "PlayerGameName": "ptregiddo7e",
                    "PRKills": "26",
                    "FirstKill": "26",
                    "LastKill": "0",
                    "totalKills": "26"
                },
                {
                    "PlayerGameName": "ptregiddo7e",
                    "PRKills": "0",
                    "FirstKill": "26",
                    "LastKill": "0",
                    "totalKills": "26"
                },
                {
                    "PlayerGameName": "vfernier7f",
                    "PRKills": "6",
                    "FirstKill": "6",
                    "LastKill": "18",
                    "totalKills": "6"
                },
                {
                    "PlayerGameName": "vfernier7f",
                    "PRKills": "25",
                    "FirstKill": "6",
                    "LastKill": "18",
                    "totalKills": "31"
                },
                {
                    "PlayerGameName": "vfernier7f",
                    "PRKills": "18",
                    "FirstKill": "6",
                    "LastKill": "18",
                    "totalKills": "49"
                },
                {
                    "PlayerGameName": "tivanchov7g",
                    "PRKills": "15",
                    "FirstKill": "15",
                    "LastKill": "33",
                    "totalKills": "15"
                },
                {
                    "PlayerGameName": "tivanchov7g",
                    "PRKills": "11",
                    "FirstKill": "15",
                    "LastKill": "33",
                    "totalKills": "26"
                },
                {
                    "PlayerGameName": "tivanchov7g",
                    "PRKills": "33",
                    "FirstKill": "15",
                    "LastKill": "33",
                    "totalKills": "59"
                },
                {
                    "PlayerGameName": "ccamillo7h",
                    "PRKills": "0",
                    "FirstKill": "0",
                    "LastKill": "25",
                    "totalKills": "0"
                },
                {
                    "PlayerGameName": "ccamillo7h",
                    "PRKills": "3",
                    "FirstKill": "0",
                    "LastKill": "25",
                    "totalKills": "3"
                },
                {
                    "PlayerGameName": "ccamillo7h",
                    "PRKills": "25",
                    "FirstKill": "0",
                    "LastKill": "25",
                    "totalKills": "28"
                },
                {
                    "PlayerGameName": "cbrotherton7i",
                    "PRKills": "29",
                    "FirstKill": "29",
                    "LastKill": "7",
                    "totalKills": "29"
                },
                {
                    "PlayerGameName": "cbrotherton7i",
                    "PRKills": "10",
                    "FirstKill": "29",
                    "LastKill": "7",
                    "totalKills": "39"
                },
                {
                    "PlayerGameName": "cbrotherton7i",
                    "PRKills": "15",
                    "FirstKill": "29",
                    "LastKill": "7",
                    "totalKills": "54"
                },
                {
                    "PlayerGameName": "cbrotherton7i",
                    "PRKills": "2",
                    "FirstKill": "29",
                    "LastKill": "7",
                    "totalKills": "56"
                },
                {
                    "PlayerGameName": "cbrotherton7i",
                    "PRKills": "7",
                    "FirstKill": "29",
                    "LastKill": "7",
                    "totalKills": "63"
                },
                {
                    "PlayerGameName": "gclawley7j",
                    "PRKills": "12",
                    "FirstKill": "12",
                    "LastKill": "31",
                    "totalKills": "12"
                },
                {
                    "PlayerGameName": "gclawley7j",
                    "PRKills": "31",
                    "FirstKill": "12",
                    "LastKill": "31",
                    "totalKills": "43"
                },
                {
                    "PlayerGameName": "aridehalgh7l",
                    "PRKills": "19",
                    "FirstKill": "19",
                    "LastKill": "31",
                    "totalKills": "19"
                },
                {
                    "PlayerGameName": "aridehalgh7l",
                    "PRKills": "31",
                    "FirstKill": "19",
                    "LastKill": "31",
                    "totalKills": "50"
                },
                {
                    "PlayerGameName": "mmoggie7m",
                    "PRKills": "9",
                    "FirstKill": "9",
                    "LastKill": "24",
                    "totalKills": "9"
                },
                {
                    "PlayerGameName": "mmoggie7m",
                    "PRKills": "8",
                    "FirstKill": "9",
                    "LastKill": "24",
                    "totalKills": "17"
                },
                {
                    "PlayerGameName": "mmoggie7m",
                    "PRKills": "29",
                    "FirstKill": "9",
                    "LastKill": "24",
                    "totalKills": "46"
                },
                {
                    "PlayerGameName": "mmoggie7m",
                    "PRKills": "32",
                    "FirstKill": "9",
                    "LastKill": "24",
                    "totalKills": "78"
                },
                {
                    "PlayerGameName": "mmoggie7m",
                    "PRKills": "24",
                    "FirstKill": "9",
                    "LastKill": "24",
                    "totalKills": "102"
                },
                {
                    "PlayerGameName": "pstiller7n",
                    "PRKills": "7",
                    "FirstKill": "7",
                    "LastKill": "26",
                    "totalKills": "7"
                },
                {
                    "PlayerGameName": "pstiller7n",
                    "PRKills": "26",
                    "FirstKill": "7",
                    "LastKill": "26",
                    "totalKills": "33"
                },
                {
                    "PlayerGameName": "arichings7o",
                    "PRKills": "18",
                    "FirstKill": "18",
                    "LastKill": "4",
                    "totalKills": "18"
                },
                {
                    "PlayerGameName": "arichings7o",
                    "PRKills": "14",
                    "FirstKill": "18",
                    "LastKill": "4",
                    "totalKills": "32"
                },
                {
                    "PlayerGameName": "arichings7o",
                    "PRKills": "7",
                    "FirstKill": "18",
                    "LastKill": "4",
                    "totalKills": "39"
                },
                {
                    "PlayerGameName": "arichings7o",
                    "PRKills": "4",
                    "FirstKill": "18",
                    "LastKill": "4",
                    "totalKills": "43"
                },
                {
                    "PlayerGameName": "frootes7p",
                    "PRKills": "13",
                    "FirstKill": "13",
                    "LastKill": "14",
                    "totalKills": "13"
                },
                {
                    "PlayerGameName": "frootes7p",
                    "PRKills": "15",
                    "FirstKill": "13",
                    "LastKill": "14",
                    "totalKills": "28"
                },
                {
                    "PlayerGameName": "frootes7p",
                    "PRKills": "13",
                    "FirstKill": "13",
                    "LastKill": "14",
                    "totalKills": "41"
                },
                {
                    "PlayerGameName": "frootes7p",
                    "PRKills": "14",
                    "FirstKill": "13",
                    "LastKill": "14",
                    "totalKills": "55"
                },
                {
                    "PlayerGameName": "krusse7q",
                    "PRKills": "26",
                    "FirstKill": "26",
                    "LastKill": "16",
                    "totalKills": "26"
                },
                {
                    "PlayerGameName": "krusse7q",
                    "PRKills": "13",
                    "FirstKill": "26",
                    "LastKill": "16",
                    "totalKills": "39"
                },
                {
                    "PlayerGameName": "krusse7q",
                    "PRKills": "16",
                    "FirstKill": "26",
                    "LastKill": "16",
                    "totalKills": "55"
                },
                {
                    "PlayerGameName": "kbanbrigge7r",
                    "PRKills": "29",
                    "FirstKill": "29",
                    "LastKill": "22",
                    "totalKills": "29"
                },
                {
                    "PlayerGameName": "kbanbrigge7r",
                    "PRKills": "21",
                    "FirstKill": "29",
                    "LastKill": "22",
                    "totalKills": "50"
                },
                {
                    "PlayerGameName": "kbanbrigge7r",
                    "PRKills": "22",
                    "FirstKill": "29",
                    "LastKill": "22",
                    "totalKills": "72"
                },
                {
                    "PlayerGameName": "cstonebanks7s",
                    "PRKills": "4",
                    "FirstKill": "4",
                    "LastKill": "32",
                    "totalKills": "4"
                },
                {
                    "PlayerGameName": "cstonebanks7s",
                    "PRKills": "29",
                    "FirstKill": "4",
                    "LastKill": "32",
                    "totalKills": "33"
                },
                {
                    "PlayerGameName": "cstonebanks7s",
                    "PRKills": "7",
                    "FirstKill": "4",
                    "LastKill": "32",
                    "totalKills": "40"
                },
                {
                    "PlayerGameName": "cstonebanks7s",
                    "PRKills": "5",
                    "FirstKill": "4",
                    "LastKill": "32",
                    "totalKills": "45"
                },
                {
                    "PlayerGameName": "cstonebanks7s",
                    "PRKills": "23",
                    "FirstKill": "4",
                    "LastKill": "32",
                    "totalKills": "68"
                },
                {
                    "PlayerGameName": "cstonebanks7s",
                    "PRKills": "16",
                    "FirstKill": "4",
                    "LastKill": "32",
                    "totalKills": "84"
                },
                {
                    "PlayerGameName": "cstonebanks7s",
                    "PRKills": "14",
                    "FirstKill": "4",
                    "LastKill": "32",
                    "totalKills": "98"
                },
                {
                    "PlayerGameName": "cstonebanks7s",
                    "PRKills": "32",
                    "FirstKill": "4",
                    "LastKill": "32",
                    "totalKills": "130"
                },
                {
                    "PlayerGameName": "sswiggs7t",
                    "PRKills": "29",
                    "FirstKill": "29",
                    "LastKill": "9",
                    "totalKills": "29"
                },
                {
                    "PlayerGameName": "sswiggs7t",
                    "PRKills": "9",
                    "FirstKill": "29",
                    "LastKill": "9",
                    "totalKills": "38"
                },
                {
                    "PlayerGameName": "fjindrak7u",
                    "PRKills": "9",
                    "FirstKill": "9",
                    "LastKill": "27",
                    "totalKills": "9"
                },
                {
                    "PlayerGameName": "fjindrak7u",
                    "PRKills": "1",
                    "FirstKill": "9",
                    "LastKill": "27",
                    "totalKills": "10"
                },
                {
                    "PlayerGameName": "fjindrak7u",
                    "PRKills": "27",
                    "FirstKill": "9",
                    "LastKill": "27",
                    "totalKills": "37"
                },
                {
                    "PlayerGameName": "ccowle7v",
                    "PRKills": "22",
                    "FirstKill": "22",
                    "LastKill": "22",
                    "totalKills": "22"
                },
                {
                    "PlayerGameName": "ajimmison7w",
                    "PRKills": "32",
                    "FirstKill": "32",
                    "LastKill": "14",
                    "totalKills": "32"
                },
                {
                    "PlayerGameName": "ajimmison7w",
                    "PRKills": "14",
                    "FirstKill": "32",
                    "LastKill": "14",
                    "totalKills": "46"
                },
                {
                    "PlayerGameName": "klennard7x",
                    "PRKills": "31",
                    "FirstKill": "31",
                    "LastKill": "31",
                    "totalKills": "31"
                },
                {
                    "PlayerGameName": "imarrison7y",
                    "PRKills": "1",
                    "FirstKill": "1",
                    "LastKill": "1",
                    "totalKills": "1"
                },
                {
                    "PlayerGameName": "imarrison7y",
                    "PRKills": "1",
                    "FirstKill": "1",
                    "LastKill": "1",
                    "totalKills": "2"
                },
                {
                    "PlayerGameName": "rcavee7z",
                    "PRKills": "26",
                    "FirstKill": "26",
                    "LastKill": "4",
                    "totalKills": "26"
                },
                {
                    "PlayerGameName": "rcavee7z",
                    "PRKills": "4",
                    "FirstKill": "26",
                    "LastKill": "4",
                    "totalKills": "30"
                },
                {
                    "PlayerGameName": "wocarney80",
                    "PRKills": "30",
                    "FirstKill": "30",
                    "LastKill": "19",
                    "totalKills": "30"
                },
                {
                    "PlayerGameName": "wocarney80",
                    "PRKills": "19",
                    "FirstKill": "30",
                    "LastKill": "19",
                    "totalKills": "49"
                },
                {
                    "PlayerGameName": "mevenett81",
                    "PRKills": "6",
                    "FirstKill": "6",
                    "LastKill": "6",
                    "totalKills": "6"
                },
                {
                    "PlayerGameName": "mcastelow82",
                    "PRKills": "26",
                    "FirstKill": "26",
                    "LastKill": "19",
                    "totalKills": "26"
                },
                {
                    "PlayerGameName": "mcastelow82",
                    "PRKills": "26",
                    "FirstKill": "26",
                    "LastKill": "19",
                    "totalKills": "52"
                },
                {
                    "PlayerGameName": "mcastelow82",
                    "PRKills": "26",
                    "FirstKill": "26",
                    "LastKill": "19",
                    "totalKills": "78"
                },
                {
                    "PlayerGameName": "mcastelow82",
                    "PRKills": "19",
                    "FirstKill": "26",
                    "LastKill": "19",
                    "totalKills": "97"
                },
                {
                    "PlayerGameName": "jstrotton83",
                    "PRKills": "19",
                    "FirstKill": "19",
                    "LastKill": "13",
                    "totalKills": "19"
                },
                {
                    "PlayerGameName": "jstrotton83",
                    "PRKills": "20",
                    "FirstKill": "19",
                    "LastKill": "13",
                    "totalKills": "39"
                },
                {
                    "PlayerGameName": "jstrotton83",
                    "PRKills": "13",
                    "FirstKill": "19",
                    "LastKill": "13",
                    "totalKills": "52"
                },
                {
                    "PlayerGameName": "dpeteri84",
                    "PRKills": "27",
                    "FirstKill": "27",
                    "LastKill": "32",
                    "totalKills": "27"
                },
                {
                    "PlayerGameName": "dpeteri84",
                    "PRKills": "10",
                    "FirstKill": "27",
                    "LastKill": "32",
                    "totalKills": "37"
                },
                {
                    "PlayerGameName": "dpeteri84",
                    "PRKills": "7",
                    "FirstKill": "27",
                    "LastKill": "32",
                    "totalKills": "44"
                },
                {
                    "PlayerGameName": "dpeteri84",
                    "PRKills": "32",
                    "FirstKill": "27",
                    "LastKill": "32",
                    "totalKills": "76"
                },
                {
                    "PlayerGameName": "pissacof85",
                    "PRKills": "12",
                    "FirstKill": "12",
                    "LastKill": "23",
                    "totalKills": "12"
                },
                {
                    "PlayerGameName": "pissacof85",
                    "PRKills": "23",
                    "FirstKill": "12",
                    "LastKill": "23",
                    "totalKills": "35"
                },
                {
                    "PlayerGameName": "glongland86",
                    "PRKills": "6",
                    "FirstKill": "6",
                    "LastKill": "33",
                    "totalKills": "6"
                },
                {
                    "PlayerGameName": "glongland86",
                    "PRKills": "28",
                    "FirstKill": "6",
                    "LastKill": "33",
                    "totalKills": "34"
                },
                {
                    "PlayerGameName": "glongland86",
                    "PRKills": "28",
                    "FirstKill": "6",
                    "LastKill": "33",
                    "totalKills": "62"
                },
                {
                    "PlayerGameName": "glongland86",
                    "PRKills": "33",
                    "FirstKill": "6",
                    "LastKill": "33",
                    "totalKills": "95"
                },
                {
                    "PlayerGameName": "solivas87",
                    "PRKills": "6",
                    "FirstKill": "6",
                    "LastKill": "27",
                    "totalKills": "6"
                },
                {
                    "PlayerGameName": "solivas87",
                    "PRKills": "27",
                    "FirstKill": "6",
                    "LastKill": "27",
                    "totalKills": "33"
                },
                {
                    "PlayerGameName": "ccolt88",
                    "PRKills": "20",
                    "FirstKill": "20",
                    "LastKill": "29",
                    "totalKills": "20"
                },
                {
                    "PlayerGameName": "ccolt88",
                    "PRKills": "1",
                    "FirstKill": "20",
                    "LastKill": "29",
                    "totalKills": "21"
                },
                {
                    "PlayerGameName": "ccolt88",
                    "PRKills": "29",
                    "FirstKill": "20",
                    "LastKill": "29",
                    "totalKills": "50"
                },
                {
                    "PlayerGameName": "dferne89",
                    "PRKills": "25",
                    "FirstKill": "25",
                    "LastKill": "28",
                    "totalKills": "25"
                },
                {
                    "PlayerGameName": "dferne89",
                    "PRKills": "30",
                    "FirstKill": "25",
                    "LastKill": "28",
                    "totalKills": "55"
                },
                {
                    "PlayerGameName": "dferne89",
                    "PRKills": "28",
                    "FirstKill": "25",
                    "LastKill": "28",
                    "totalKills": "83"
                },
                {
                    "PlayerGameName": "adicker8a",
                    "PRKills": "22",
                    "FirstKill": "22",
                    "LastKill": "28",
                    "totalKills": "22"
                },
                {
                    "PlayerGameName": "adicker8a",
                    "PRKills": "12",
                    "FirstKill": "22",
                    "LastKill": "28",
                    "totalKills": "34"
                },
                {
                    "PlayerGameName": "adicker8a",
                    "PRKills": "12",
                    "FirstKill": "22",
                    "LastKill": "28",
                    "totalKills": "46"
                },
                {
                    "PlayerGameName": "adicker8a",
                    "PRKills": "28",
                    "FirstKill": "22",
                    "LastKill": "28",
                    "totalKills": "74"
                },
                {
                    "PlayerGameName": "adicker8a",
                    "PRKills": "28",
                    "FirstKill": "22",
                    "LastKill": "28",
                    "totalKills": "102"
                },
                {
                    "PlayerGameName": "rcuddon8b",
                    "PRKills": "18",
                    "FirstKill": "18",
                    "LastKill": "30",
                    "totalKills": "18"
                },
                {
                    "PlayerGameName": "rcuddon8b",
                    "PRKills": "26",
                    "FirstKill": "18",
                    "LastKill": "30",
                    "totalKills": "44"
                },
                {
                    "PlayerGameName": "rcuddon8b",
                    "PRKills": "7",
                    "FirstKill": "18",
                    "LastKill": "30",
                    "totalKills": "51"
                },
                {
                    "PlayerGameName": "rcuddon8b",
                    "PRKills": "30",
                    "FirstKill": "18",
                    "LastKill": "30",
                    "totalKills": "81"
                },
                {
                    "PlayerGameName": "sflorentine8c",
                    "PRKills": "19",
                    "FirstKill": "19",
                    "LastKill": "19",
                    "totalKills": "19"
                },
                {
                    "PlayerGameName": "egerold8d",
                    "PRKills": "12",
                    "FirstKill": "12",
                    "LastKill": "19",
                    "totalKills": "12"
                },
                {
                    "PlayerGameName": "egerold8d",
                    "PRKills": "8",
                    "FirstKill": "12",
                    "LastKill": "19",
                    "totalKills": "20"
                },
                {
                    "PlayerGameName": "egerold8d",
                    "PRKills": "5",
                    "FirstKill": "12",
                    "LastKill": "19",
                    "totalKills": "25"
                },
                {
                    "PlayerGameName": "egerold8d",
                    "PRKills": "5",
                    "FirstKill": "12",
                    "LastKill": "19",
                    "totalKills": "30"
                },
                {
                    "PlayerGameName": "egerold8d",
                    "PRKills": "19",
                    "FirstKill": "12",
                    "LastKill": "19",
                    "totalKills": "49"
                },
                {
                    "PlayerGameName": "bpatinkin8f",
                    "PRKills": "23",
                    "FirstKill": "23",
                    "LastKill": "20",
                    "totalKills": "23"
                },
                {
                    "PlayerGameName": "bpatinkin8f",
                    "PRKills": "29",
                    "FirstKill": "23",
                    "LastKill": "20",
                    "totalKills": "52"
                },
                {
                    "PlayerGameName": "bpatinkin8f",
                    "PRKills": "20",
                    "FirstKill": "23",
                    "LastKill": "20",
                    "totalKills": "72"
                },
                {
                    "PlayerGameName": "slogsdale8g",
                    "PRKills": "30",
                    "FirstKill": "30",
                    "LastKill": "7",
                    "totalKills": "30"
                },
                {
                    "PlayerGameName": "slogsdale8g",
                    "PRKills": "7",
                    "FirstKill": "30",
                    "LastKill": "7",
                    "totalKills": "37"
                },
                {
                    "PlayerGameName": "ljenne8h",
                    "PRKills": "24",
                    "FirstKill": "24",
                    "LastKill": "28",
                    "totalKills": "24"
                },
                {
                    "PlayerGameName": "ljenne8h",
                    "PRKills": "2",
                    "FirstKill": "24",
                    "LastKill": "28",
                    "totalKills": "26"
                },
                {
                    "PlayerGameName": "ljenne8h",
                    "PRKills": "28",
                    "FirstKill": "24",
                    "LastKill": "28",
                    "totalKills": "54"
                },
                {
                    "PlayerGameName": "lroddick8i",
                    "PRKills": "18",
                    "FirstKill": "18",
                    "LastKill": "30",
                    "totalKills": "18"
                },
                {
                    "PlayerGameName": "lroddick8i",
                    "PRKills": "5",
                    "FirstKill": "18",
                    "LastKill": "30",
                    "totalKills": "23"
                },
                {
                    "PlayerGameName": "lroddick8i",
                    "PRKills": "30",
                    "FirstKill": "18",
                    "LastKill": "30",
                    "totalKills": "53"
                },
                {
                    "PlayerGameName": "ihambling8j",
                    "PRKills": "0",
                    "FirstKill": "0",
                    "LastKill": "26",
                    "totalKills": "0"
                },
                {
                    "PlayerGameName": "ihambling8j",
                    "PRKills": "8",
                    "FirstKill": "0",
                    "LastKill": "26",
                    "totalKills": "8"
                },
                {
                    "PlayerGameName": "ihambling8j",
                    "PRKills": "26",
                    "FirstKill": "0",
                    "LastKill": "26",
                    "totalKills": "34"
                },
                {
                    "PlayerGameName": "pnice8k",
                    "PRKills": "18",
                    "FirstKill": "18",
                    "LastKill": "2",
                    "totalKills": "18"
                },
                {
                    "PlayerGameName": "pnice8k",
                    "PRKills": "2",
                    "FirstKill": "18",
                    "LastKill": "2",
                    "totalKills": "20"
                },
                {
                    "PlayerGameName": "anoblett8l",
                    "PRKills": "9",
                    "FirstKill": "9",
                    "LastKill": "8",
                    "totalKills": "9"
                },
                {
                    "PlayerGameName": "anoblett8l",
                    "PRKills": "9",
                    "FirstKill": "9",
                    "LastKill": "8",
                    "totalKills": "18"
                },
                {
                    "PlayerGameName": "anoblett8l",
                    "PRKills": "8",
                    "FirstKill": "9",
                    "LastKill": "8",
                    "totalKills": "26"
                },
                {
                    "PlayerGameName": "aodogherty8m",
                    "PRKills": "13",
                    "FirstKill": "13",
                    "LastKill": "18",
                    "totalKills": "13"
                },
                {
                    "PlayerGameName": "aodogherty8m",
                    "PRKills": "18",
                    "FirstKill": "13",
                    "LastKill": "18",
                    "totalKills": "31"
                },
                {
                    "PlayerGameName": "jkinner8n",
                    "PRKills": "10",
                    "FirstKill": "10",
                    "LastKill": "13",
                    "totalKills": "10"
                },
                {
                    "PlayerGameName": "jkinner8n",
                    "PRKills": "30",
                    "FirstKill": "10",
                    "LastKill": "13",
                    "totalKills": "40"
                },
                {
                    "PlayerGameName": "jkinner8n",
                    "PRKills": "0",
                    "FirstKill": "10",
                    "LastKill": "13",
                    "totalKills": "40"
                },
                {
                    "PlayerGameName": "jkinner8n",
                    "PRKills": "13",
                    "FirstKill": "10",
                    "LastKill": "13",
                    "totalKills": "53"
                },
                {
                    "PlayerGameName": "jchene8o",
                    "PRKills": "9",
                    "FirstKill": "9",
                    "LastKill": "0",
                    "totalKills": "9"
                },
                {
                    "PlayerGameName": "jchene8o",
                    "PRKills": "0",
                    "FirstKill": "9",
                    "LastKill": "0",
                    "totalKills": "9"
                },
                {
                    "PlayerGameName": "bbettenson8p",
                    "PRKills": "27",
                    "FirstKill": "27",
                    "LastKill": "19",
                    "totalKills": "27"
                },
                {
                    "PlayerGameName": "bbettenson8p",
                    "PRKills": "12",
                    "FirstKill": "27",
                    "LastKill": "19",
                    "totalKills": "39"
                },
                {
                    "PlayerGameName": "bbettenson8p",
                    "PRKills": "19",
                    "FirstKill": "27",
                    "LastKill": "19",
                    "totalKills": "58"
                },
                {
                    "PlayerGameName": "adungay8q",
                    "PRKills": "11",
                    "FirstKill": "11",
                    "LastKill": "11",
                    "totalKills": "11"
                },
                {
                    "PlayerGameName": "umillyard8r",
                    "PRKills": "11",
                    "FirstKill": "11",
                    "LastKill": "15",
                    "totalKills": "11"
                },
                {
                    "PlayerGameName": "umillyard8r",
                    "PRKills": "19",
                    "FirstKill": "11",
                    "LastKill": "15",
                    "totalKills": "30"
                },
                {
                    "PlayerGameName": "umillyard8r",
                    "PRKills": "11",
                    "FirstKill": "11",
                    "LastKill": "15",
                    "totalKills": "41"
                },
                {
                    "PlayerGameName": "umillyard8r",
                    "PRKills": "21",
                    "FirstKill": "11",
                    "LastKill": "15",
                    "totalKills": "62"
                },
                {
                    "PlayerGameName": "umillyard8r",
                    "PRKills": "15",
                    "FirstKill": "11",
                    "LastKill": "15",
                    "totalKills": "77"
                },
                {
                    "PlayerGameName": "cgreeves8s",
                    "PRKills": "7",
                    "FirstKill": "7",
                    "LastKill": "7",
                    "totalKills": "7"
                },
                {
                    "PlayerGameName": "smillan8t",
                    "PRKills": "29",
                    "FirstKill": "29",
                    "LastKill": "0",
                    "totalKills": "29"
                },
                {
                    "PlayerGameName": "smillan8t",
                    "PRKills": "2",
                    "FirstKill": "29",
                    "LastKill": "0",
                    "totalKills": "31"
                },
                {
                    "PlayerGameName": "smillan8t",
                    "PRKills": "31",
                    "FirstKill": "29",
                    "LastKill": "0",
                    "totalKills": "62"
                },
                {
                    "PlayerGameName": "smillan8t",
                    "PRKills": "0",
                    "FirstKill": "29",
                    "LastKill": "0",
                    "totalKills": "62"
                },
                {
                    "PlayerGameName": "smanklow8u",
                    "PRKills": "22",
                    "FirstKill": "22",
                    "LastKill": "11",
                    "totalKills": "22"
                },
                {
                    "PlayerGameName": "smanklow8u",
                    "PRKills": "31",
                    "FirstKill": "22",
                    "LastKill": "11",
                    "totalKills": "53"
                },
                {
                    "PlayerGameName": "smanklow8u",
                    "PRKills": "5",
                    "FirstKill": "22",
                    "LastKill": "11",
                    "totalKills": "58"
                },
                {
                    "PlayerGameName": "smanklow8u",
                    "PRKills": "30",
                    "FirstKill": "22",
                    "LastKill": "11",
                    "totalKills": "88"
                },
                {
                    "PlayerGameName": "smanklow8u",
                    "PRKills": "11",
                    "FirstKill": "22",
                    "LastKill": "11",
                    "totalKills": "99"
                },
                {
                    "PlayerGameName": "cle8v",
                    "PRKills": "23",
                    "FirstKill": "23",
                    "LastKill": "15",
                    "totalKills": "23"
                },
                {
                    "PlayerGameName": "cle8v",
                    "PRKills": "1",
                    "FirstKill": "23",
                    "LastKill": "15",
                    "totalKills": "24"
                },
                {
                    "PlayerGameName": "cle8v",
                    "PRKills": "26",
                    "FirstKill": "23",
                    "LastKill": "15",
                    "totalKills": "50"
                },
                {
                    "PlayerGameName": "cle8v",
                    "PRKills": "15",
                    "FirstKill": "23",
                    "LastKill": "15",
                    "totalKills": "65"
                },
                {
                    "PlayerGameName": "moliveira8w",
                    "PRKills": "17",
                    "FirstKill": "17",
                    "LastKill": "17",
                    "totalKills": "17"
                },
                {
                    "PlayerGameName": "keuler8x",
                    "PRKills": "0",
                    "FirstKill": "0",
                    "LastKill": "0",
                    "totalKills": "0"
                },
                {
                    "PlayerGameName": "aforde8y",
                    "PRKills": "21",
                    "FirstKill": "21",
                    "LastKill": "15",
                    "totalKills": "21"
                },
                {
                    "PlayerGameName": "aforde8y",
                    "PRKills": "18",
                    "FirstKill": "21",
                    "LastKill": "15",
                    "totalKills": "39"
                },
                {
                    "PlayerGameName": "aforde8y",
                    "PRKills": "24",
                    "FirstKill": "21",
                    "LastKill": "15",
                    "totalKills": "63"
                },
                {
                    "PlayerGameName": "aforde8y",
                    "PRKills": "12",
                    "FirstKill": "21",
                    "LastKill": "15",
                    "totalKills": "75"
                },
                {
                    "PlayerGameName": "aforde8y",
                    "PRKills": "25",
                    "FirstKill": "21",
                    "LastKill": "15",
                    "totalKills": "100"
                },
                {
                    "PlayerGameName": "aforde8y",
                    "PRKills": "13",
                    "FirstKill": "21",
                    "LastKill": "15",
                    "totalKills": "113"
                },
                {
                    "PlayerGameName": "aforde8y",
                    "PRKills": "15",
                    "FirstKill": "21",
                    "LastKill": "15",
                    "totalKills": "128"
                },
                {
                    "PlayerGameName": "ljaffrey8z",
                    "PRKills": "2",
                    "FirstKill": "2",
                    "LastKill": "15",
                    "totalKills": "2"
                },
                {
                    "PlayerGameName": "ljaffrey8z",
                    "PRKills": "15",
                    "FirstKill": "2",
                    "LastKill": "15",
                    "totalKills": "17"
                },
                {
                    "PlayerGameName": "eparkman91",
                    "PRKills": "9",
                    "FirstKill": "9",
                    "LastKill": "19",
                    "totalKills": "9"
                },
                {
                    "PlayerGameName": "eparkman91",
                    "PRKills": "19",
                    "FirstKill": "9",
                    "LastKill": "19",
                    "totalKills": "28"
                },
                {
                    "PlayerGameName": "rvinden92",
                    "PRKills": "6",
                    "FirstKill": "6",
                    "LastKill": "9",
                    "totalKills": "6"
                },
                {
                    "PlayerGameName": "rvinden92",
                    "PRKills": "9",
                    "FirstKill": "6",
                    "LastKill": "9",
                    "totalKills": "15"
                },
                {
                    "PlayerGameName": "sdopson93",
                    "PRKills": "15",
                    "FirstKill": "15",
                    "LastKill": "13",
                    "totalKills": "15"
                },
                {
                    "PlayerGameName": "sdopson93",
                    "PRKills": "13",
                    "FirstKill": "15",
                    "LastKill": "13",
                    "totalKills": "28"
                },
                {
                    "PlayerGameName": "hcowsby94",
                    "PRKills": "8",
                    "FirstKill": "8",
                    "LastKill": "8",
                    "totalKills": "8"
                },
                {
                    "PlayerGameName": "fdhooge95",
                    "PRKills": "29",
                    "FirstKill": "29",
                    "LastKill": "5",
                    "totalKills": "29"
                },
                {
                    "PlayerGameName": "fdhooge95",
                    "PRKills": "30",
                    "FirstKill": "29",
                    "LastKill": "5",
                    "totalKills": "64"
                },
                {
                    "PlayerGameName": "fdhooge95",
                    "PRKills": "5",
                    "FirstKill": "29",
                    "LastKill": "5",
                    "totalKills": "64"
                },
                {
                    "PlayerGameName": "cadlam96",
                    "PRKills": "13",
                    "FirstKill": "13",
                    "LastKill": "13",
                    "totalKills": "13"
                },
                {
                    "PlayerGameName": "cadlam96",
                    "PRKills": "26",
                    "FirstKill": "13",
                    "LastKill": "13",
                    "totalKills": "39"
                },
                {
                    "PlayerGameName": "cadlam96",
                    "PRKills": "13",
                    "FirstKill": "13",
                    "LastKill": "13",
                    "totalKills": "52"
                },
                {
                    "PlayerGameName": "sscrowston97",
                    "PRKills": "19",
                    "FirstKill": "19",
                    "LastKill": "19",
                    "totalKills": "19"
                },
                {
                    "PlayerGameName": "dmulhall98",
                    "PRKills": "19",
                    "FirstKill": "19",
                    "LastKill": "0",
                    "totalKills": "19"
                },
                {
                    "PlayerGameName": "dmulhall98",
                    "PRKills": "14",
                    "FirstKill": "19",
                    "LastKill": "0",
                    "totalKills": "33"
                },
                {
                    "PlayerGameName": "dmulhall98",
                    "PRKills": "0",
                    "FirstKill": "19",
                    "LastKill": "0",
                    "totalKills": "33"
                },
                {
                    "PlayerGameName": "rbleas99",
                    "PRKills": "30",
                    "FirstKill": "30",
                    "LastKill": "31",
                    "totalKills": "30"
                },
                {
                    "PlayerGameName": "rbleas99",
                    "PRKills": "7",
                    "FirstKill": "30",
                    "LastKill": "31",
                    "totalKills": "37"
                },
                {
                    "PlayerGameName": "rbleas99",
                    "PRKills": "31",
                    "FirstKill": "30",
                    "LastKill": "31",
                    "totalKills": "68"
                },
                {
                    "PlayerGameName": "dbolle9a",
                    "PRKills": "18",
                    "FirstKill": "18",
                    "LastKill": "17",
                    "totalKills": "18"
                },
                {
                    "PlayerGameName": "dbolle9a",
                    "PRKills": "20",
                    "FirstKill": "18",
                    "LastKill": "17",
                    "totalKills": "56"
                },
                {
                    "PlayerGameName": "dbolle9a",
                    "PRKills": "18",
                    "FirstKill": "18",
                    "LastKill": "17",
                    "totalKills": "56"
                },
                {
                    "PlayerGameName": "dbolle9a",
                    "PRKills": "23",
                    "FirstKill": "18",
                    "LastKill": "17",
                    "totalKills": "79"
                },
                {
                    "PlayerGameName": "dbolle9a",
                    "PRKills": "18",
                    "FirstKill": "18",
                    "LastKill": "17",
                    "totalKills": "97"
                },
                {
                    "PlayerGameName": "dbolle9a",
                    "PRKills": "17",
                    "FirstKill": "18",
                    "LastKill": "17",
                    "totalKills": "114"
                },
                {
                    "PlayerGameName": "dsedge9b",
                    "PRKills": "28",
                    "FirstKill": "28",
                    "LastKill": "3",
                    "totalKills": "28"
                },
                {
                    "PlayerGameName": "dsedge9b",
                    "PRKills": "5",
                    "FirstKill": "28",
                    "LastKill": "3",
                    "totalKills": "33"
                },
                {
                    "PlayerGameName": "dsedge9b",
                    "PRKills": "3",
                    "FirstKill": "28",
                    "LastKill": "3",
                    "totalKills": "36"
                },
                {
                    "PlayerGameName": "lburchfield9d",
                    "PRKills": "18",
                    "FirstKill": "18",
                    "LastKill": "4",
                    "totalKills": "18"
                },
                {
                    "PlayerGameName": "lburchfield9d",
                    "PRKills": "18",
                    "FirstKill": "18",
                    "LastKill": "4",
                    "totalKills": "36"
                },
                {
                    "PlayerGameName": "lburchfield9d",
                    "PRKills": "17",
                    "FirstKill": "18",
                    "LastKill": "4",
                    "totalKills": "53"
                },
                {
                    "PlayerGameName": "lburchfield9d",
                    "PRKills": "4",
                    "FirstKill": "18",
                    "LastKill": "4",
                    "totalKills": "57"
                },
                {
                    "PlayerGameName": "skuschek9e",
                    "PRKills": "28",
                    "FirstKill": "28",
                    "LastKill": "5",
                    "totalKills": "28"
                },
                {
                    "PlayerGameName": "skuschek9e",
                    "PRKills": "8",
                    "FirstKill": "28",
                    "LastKill": "5",
                    "totalKills": "36"
                },
                {
                    "PlayerGameName": "skuschek9e",
                    "PRKills": "5",
                    "FirstKill": "28",
                    "LastKill": "5",
                    "totalKills": "41"
                },
                {
                    "PlayerGameName": "mlinford9f",
                    "PRKills": "17",
                    "FirstKill": "17",
                    "LastKill": "26",
                    "totalKills": "17"
                },
                {
                    "PlayerGameName": "mlinford9f",
                    "PRKills": "32",
                    "FirstKill": "17",
                    "LastKill": "26",
                    "totalKills": "49"
                },
                {
                    "PlayerGameName": "mlinford9f",
                    "PRKills": "26",
                    "FirstKill": "17",
                    "LastKill": "26",
                    "totalKills": "75"
                }
            ]
        },
        "text/html": [
            "<table>",
            "<tr><th>PlayerGameName</th><th>PRKills</th><th>FirstKill</th><th>LastKill</th><th>totalKills</th></tr>",
            "<tr><td>bde0</td><td>9</td><td>9</td><td>10</td><td>9</td></tr>",
            "<tr><td>bde0</td><td>21</td><td>9</td><td>10</td><td>30</td></tr>",
            "<tr><td>bde0</td><td>13</td><td>9</td><td>10</td><td>43</td></tr>",
            "<tr><td>bde0</td><td>10</td><td>9</td><td>10</td><td>53</td></tr>",
            "<tr><td>gsabattier1</td><td>26</td><td>26</td><td>26</td><td>26</td></tr>",
            "<tr><td>fbenitti2</td><td>20</td><td>20</td><td>12</td><td>20</td></tr>",
            "<tr><td>fbenitti2</td><td>12</td><td>20</td><td>12</td><td>32</td></tr>",
            "<tr><td>kbartomeu3</td><td>25</td><td>25</td><td>9</td><td>25</td></tr>",
            "<tr><td>kbartomeu3</td><td>9</td><td>25</td><td>9</td><td>34</td></tr>",
            "<tr><td>ttaffe4</td><td>14</td><td>14</td><td>12</td><td>14</td></tr>",
            "<tr><td>ttaffe4</td><td>12</td><td>14</td><td>12</td><td>26</td></tr>",
            "<tr><td>wdallaway5</td><td>1</td><td>1</td><td>33</td><td>1</td></tr>",
            "<tr><td>wdallaway5</td><td>9</td><td>1</td><td>33</td><td>10</td></tr>",
            "<tr><td>wdallaway5</td><td>33</td><td>1</td><td>33</td><td>43</td></tr>",
            "<tr><td>jbalston6</td><td>32</td><td>32</td><td>32</td><td>32</td></tr>",
            "<tr><td>sblenkharn7</td><td>8</td><td>8</td><td>9</td><td>8</td></tr>",
            "<tr><td>sblenkharn7</td><td>9</td><td>8</td><td>9</td><td>17</td></tr>",
            "<tr><td>fcanon8</td><td>31</td><td>31</td><td>31</td><td>31</td></tr>",
            "<tr><td>fpavolini9</td><td>25</td><td>25</td><td>5</td><td>25</td></tr>",
            "<tr><td>fpavolini9</td><td>14</td><td>25</td><td>5</td><td>39</td></tr>",
            "<tr><td>fpavolini9</td><td>5</td><td>25</td><td>5</td><td>44</td></tr>",
            "<tr><td>rshewena</td><td>20</td><td>20</td><td>20</td><td>20</td></tr>",
            "<tr><td>gbourgaizeb</td><td>32</td><td>32</td><td>32</td><td>32</td></tr>",
            "<tr><td>ivasenkovc</td><td>33</td><td>33</td><td>1</td><td>33</td></tr>",
            "<tr><td>ivasenkovc</td><td>9</td><td>33</td><td>1</td><td>42</td></tr>",
            "<tr><td>ivasenkovc</td><td>1</td><td>33</td><td>1</td><td>43</td></tr>",
            "<tr><td>hconnelld</td><td>30</td><td>30</td><td>9</td><td>30</td></tr>",
            "<tr><td>hconnelld</td><td>0</td><td>30</td><td>9</td><td>30</td></tr>",
            "<tr><td>hconnelld</td><td>9</td><td>30</td><td>9</td><td>39</td></tr>",
            "<tr><td>basplee</td><td>27</td><td>27</td><td>19</td><td>27</td></tr>",
            "<tr><td>basplee</td><td>19</td><td>27</td><td>19</td><td>46</td></tr>",
            "<tr><td>scoochf</td><td>28</td><td>28</td><td>15</td><td>28</td></tr>",
            "<tr><td>scoochf</td><td>21</td><td>28</td><td>15</td><td>49</td></tr>",
            "<tr><td>scoochf</td><td>29</td><td>28</td><td>15</td><td>93</td></tr>",
            "<tr><td>scoochf</td><td>15</td><td>28</td><td>15</td><td>93</td></tr>",
            "<tr><td>slimmingg</td><td>28</td><td>28</td><td>3</td><td>28</td></tr>",
            "<tr><td>slimmingg</td><td>3</td><td>28</td><td>3</td><td>31</td></tr>",
            "<tr><td>byorathh</td><td>3</td><td>3</td><td>0</td><td>3</td></tr>",
            "<tr><td>byorathh</td><td>8</td><td>3</td><td>0</td><td>11</td></tr>",
            "<tr><td>byorathh</td><td>0</td><td>3</td><td>0</td><td>11</td></tr>",
            "<tr><td>pegiloffi</td><td>6</td><td>6</td><td>29</td><td>6</td></tr>",
            "<tr><td>pegiloffi</td><td>31</td><td>6</td><td>29</td><td>37</td></tr>",
            "<tr><td>pegiloffi</td><td>29</td><td>6</td><td>29</td><td>66</td></tr>",
            "<tr><td>ccrothersj</td><td>28</td><td>28</td><td>31</td><td>28</td></tr>",
            "<tr><td>ccrothersj</td><td>33</td><td>28</td><td>31</td><td>61</td></tr>",
            "<tr><td>ccrothersj</td><td>31</td><td>28</td><td>31</td><td>92</td></tr>",
            "<tr><td>arucklessek</td><td>31</td><td>31</td><td>25</td><td>31</td></tr>",
            "<tr><td>arucklessek</td><td>29</td><td>31</td><td>25</td><td>60</td></tr>",
            "<tr><td>arucklessek</td><td>32</td><td>31</td><td>25</td><td>92</td></tr>",
            "<tr><td>arucklessek</td><td>25</td><td>31</td><td>25</td><td>117</td></tr>",
            "<tr><td>solooneyl</td><td>7</td><td>7</td><td>7</td><td>7</td></tr>",
            "<tr><td>eprivostn</td><td>19</td><td>19</td><td>19</td><td>19</td></tr>",
            "<tr><td>dtarbeto</td><td>19</td><td>19</td><td>23</td><td>19</td></tr>",
            "<tr><td>dtarbeto</td><td>5</td><td>19</td><td>23</td><td>24</td></tr>",
            "<tr><td>dtarbeto</td><td>23</td><td>19</td><td>23</td><td>47</td></tr>",
            "<tr><td>kphilimorep</td><td>6</td><td>6</td><td>6</td><td>6</td></tr>",
            "<tr><td>echestleq</td><td>5</td><td>5</td><td>5</td><td>5</td></tr>",
            "<tr><td>fcobbr</td><td>14</td><td>14</td><td>5</td><td>14</td></tr>",
            "<tr><td>fcobbr</td><td>13</td><td>14</td><td>5</td><td>27</td></tr>",
            "<tr><td>fcobbr</td><td>3</td><td>14</td><td>5</td><td>30</td></tr>",
            "<tr><td>fcobbr</td><td>10</td><td>14</td><td>5</td><td>40</td></tr>",
            "<tr><td>fcobbr</td><td>5</td><td>14</td><td>5</td><td>45</td></tr>",
            "<tr><td>abirketts</td><td>1</td><td>1</td><td>1</td><td>1</td></tr>",
            "<tr><td>dmcivert</td><td>17</td><td>17</td><td>6</td><td>17</td></tr>",
            "<tr><td>dmcivert</td><td>26</td><td>17</td><td>6</td><td>43</td></tr>",
            "<tr><td>dmcivert</td><td>11</td><td>17</td><td>6</td><td>54</td></tr>",
            "<tr><td>dmcivert</td><td>6</td><td>17</td><td>6</td><td>60</td></tr>",
            "<tr><td>gbockingu</td><td>10</td><td>10</td><td>33</td><td>10</td></tr>",
            "<tr><td>gbockingu</td><td>33</td><td>10</td><td>33</td><td>43</td></tr>",
            "<tr><td>awetherilv</td><td>19</td><td>19</td><td>25</td><td>19</td></tr>",
            "<tr><td>awetherilv</td><td>25</td><td>19</td><td>25</td><td>44</td></tr>",
            "<tr><td>nmccookew</td><td>19</td><td>19</td><td>8</td><td>19</td></tr>",
            "<tr><td>nmccookew</td><td>8</td><td>19</td><td>8</td><td>27</td></tr>",
            "<tr><td>telsex</td><td>17</td><td>17</td><td>12</td><td>17</td></tr>",
            "<tr><td>telsex</td><td>12</td><td>17</td><td>12</td><td>29</td></tr>",
            "<tr><td>pianniy</td><td>13</td><td>13</td><td>23</td><td>13</td></tr>",
            "<tr><td>pianniy</td><td>23</td><td>13</td><td>23</td><td>36</td></tr>",
            "<tr><td>ravrahamovz</td><td>1</td><td>1</td><td>5</td><td>1</td></tr>",
            "<tr><td>ravrahamovz</td><td>5</td><td>1</td><td>5</td><td>6</td></tr>",
            "<tr><td>jlerohan10</td><td>0</td><td>0</td><td>15</td><td>0</td></tr>",
            "<tr><td>jlerohan10</td><td>15</td><td>0</td><td>15</td><td>15</td></tr>",
            "<tr><td>fcoonihan11</td><td>21</td><td>21</td><td>12</td><td>21</td></tr>",
            "<tr><td>fcoonihan11</td><td>12</td><td>21</td><td>12</td><td>33</td></tr>",
            "<tr><td>lgosenell12</td><td>13</td><td>13</td><td>23</td><td>13</td></tr>",
            "<tr><td>lgosenell12</td><td>3</td><td>13</td><td>23</td><td>16</td></tr>",
            "<tr><td>lgosenell12</td><td>10</td><td>13</td><td>23</td><td>26</td></tr>",
            "<tr><td>lgosenell12</td><td>23</td><td>13</td><td>23</td><td>49</td></tr>",
            "<tr><td>ebrayn13</td><td>20</td><td>20</td><td>20</td><td>20</td></tr>",
            "<tr><td>hkenway14</td><td>15</td><td>15</td><td>15</td><td>15</td></tr>",
            "<tr><td>kcandlish15</td><td>11</td><td>11</td><td>31</td><td>11</td></tr>",
            "<tr><td>kcandlish15</td><td>9</td><td>11</td><td>31</td><td>20</td></tr>",
            "<tr><td>kcandlish15</td><td>26</td><td>11</td><td>31</td><td>46</td></tr>",
            "<tr><td>kcandlish15</td><td>31</td><td>11</td><td>31</td><td>77</td></tr>",
            "<tr><td>fapfler16</td><td>20</td><td>20</td><td>30</td><td>20</td></tr>",
            "<tr><td>fapfler16</td><td>30</td><td>20</td><td>30</td><td>50</td></tr>",
            "<tr><td>sruttgers19</td><td>27</td><td>27</td><td>27</td><td>27</td></tr>",
            "<tr><td>rwheeliker1a</td><td>23</td><td>23</td><td>26</td><td>23</td></tr>",
            "<tr><td>rwheeliker1a</td><td>26</td><td>23</td><td>26</td><td>49</td></tr>",
            "<tr><td>hmckibben1b</td><td>3</td><td>3</td><td>3</td><td>3</td></tr>",
            "<tr><td>dprobyn1c</td><td>7</td><td>7</td><td>8</td><td>7</td></tr>",
            "<tr><td>dprobyn1c</td><td>6</td><td>7</td><td>8</td><td>13</td></tr>",
            "<tr><td>dprobyn1c</td><td>30</td><td>7</td><td>8</td><td>43</td></tr>",
            "<tr><td>dprobyn1c</td><td>18</td><td>7</td><td>8</td><td>61</td></tr>",
            "<tr><td>dprobyn1c</td><td>25</td><td>7</td><td>8</td><td>86</td></tr>",
            "<tr><td>dprobyn1c</td><td>8</td><td>7</td><td>8</td><td>94</td></tr>",
            "<tr><td>critchman1d</td><td>0</td><td>0</td><td>20</td><td>0</td></tr>",
            "<tr><td>critchman1d</td><td>10</td><td>0</td><td>20</td><td>10</td></tr>",
            "<tr><td>critchman1d</td><td>20</td><td>0</td><td>20</td><td>30</td></tr>",
            "<tr><td>fleyrroyd1e</td><td>2</td><td>2</td><td>2</td><td>2</td></tr>",
            "<tr><td>gadelsberg1f</td><td>26</td><td>26</td><td>11</td><td>26</td></tr>",
            "<tr><td>gadelsberg1f</td><td>29</td><td>26</td><td>11</td><td>55</td></tr>",
            "<tr><td>gadelsberg1f</td><td>11</td><td>26</td><td>11</td><td>66</td></tr>",
            "<tr><td>ggage1g</td><td>18</td><td>18</td><td>15</td><td>18</td></tr>",
            "<tr><td>ggage1g</td><td>15</td><td>18</td><td>15</td><td>33</td></tr>",
            "<tr><td>vparley1h</td><td>18</td><td>18</td><td>28</td><td>18</td></tr>",
            "<tr><td>vparley1h</td><td>28</td><td>18</td><td>28</td><td>46</td></tr>",
            "<tr><td>rcurds1i</td><td>10</td><td>10</td><td>10</td><td>10</td></tr>",
            "<tr><td>ppetegre1j</td><td>5</td><td>5</td><td>18</td><td>5</td></tr>",
            "<tr><td>ppetegre1j</td><td>18</td><td>5</td><td>18</td><td>23</td></tr>",
            "<tr><td>fvallens1k</td><td>31</td><td>31</td><td>11</td><td>31</td></tr>",
            "<tr><td>fvallens1k</td><td>14</td><td>31</td><td>11</td><td>45</td></tr>",
            "<tr><td>fvallens1k</td><td>19</td><td>31</td><td>11</td><td>64</td></tr>",
            "<tr><td>fvallens1k</td><td>11</td><td>31</td><td>11</td><td>75</td></tr>",
            "<tr><td>bmcilherran1l</td><td>12</td><td>12</td><td>12</td><td>12</td></tr>",
            "<tr><td>hoslar1m</td><td>30</td><td>30</td><td>9</td><td>30</td></tr>",
            "<tr><td>hoslar1m</td><td>18</td><td>30</td><td>9</td><td>48</td></tr>",
            "<tr><td>hoslar1m</td><td>32</td><td>30</td><td>9</td><td>80</td></tr>",
            "<tr><td>hoslar1m</td><td>9</td><td>30</td><td>9</td><td>89</td></tr>",
            "<tr><td>hbeasleigh1n</td><td>28</td><td>28</td><td>24</td><td>28</td></tr>",
            "<tr><td>hbeasleigh1n</td><td>24</td><td>28</td><td>24</td><td>52</td></tr>",
            "<tr><td>cde1o</td><td>31</td><td>31</td><td>10</td><td>31</td></tr>",
            "<tr><td>cde1o</td><td>10</td><td>31</td><td>10</td><td>41</td></tr>",
            "<tr><td>lcollyer1p</td><td>22</td><td>22</td><td>18</td><td>22</td></tr>",
            "<tr><td>lcollyer1p</td><td>18</td><td>22</td><td>18</td><td>40</td></tr>",
            "<tr><td>sitter1q</td><td>3</td><td>3</td><td>18</td><td>3</td></tr>",
            "<tr><td>sitter1q</td><td>29</td><td>3</td><td>18</td><td>32</td></tr>",
            "<tr><td>sitter1q</td><td>20</td><td>3</td><td>18</td><td>52</td></tr>",
            "<tr><td>sitter1q</td><td>18</td><td>3</td><td>18</td><td>70</td></tr>",
            "<tr><td>lpeto1r</td><td>6</td><td>6</td><td>3</td><td>6</td></tr>",
            "<tr><td>lpeto1r</td><td>4</td><td>6</td><td>3</td><td>10</td></tr>",
            "<tr><td>lpeto1r</td><td>19</td><td>6</td><td>3</td><td>29</td></tr>",
            "<tr><td>lpeto1r</td><td>7</td><td>6</td><td>3</td><td>36</td></tr>",
            "<tr><td>lpeto1r</td><td>3</td><td>6</td><td>3</td><td>39</td></tr>",
            "<tr><td>vhousbey1s</td><td>5</td><td>5</td><td>19</td><td>5</td></tr>",
            "<tr><td>vhousbey1s</td><td>14</td><td>5</td><td>19</td><td>19</td></tr>",
            "<tr><td>vhousbey1s</td><td>4</td><td>5</td><td>19</td><td>23</td></tr>",
            "<tr><td>vhousbey1s</td><td>24</td><td>5</td><td>19</td><td>47</td></tr>",
            "<tr><td>vhousbey1s</td><td>19</td><td>5</td><td>19</td><td>66</td></tr>",
            "<tr><td>jpovey1t</td><td>22</td><td>22</td><td>13</td><td>22</td></tr>",
            "<tr><td>jpovey1t</td><td>11</td><td>22</td><td>13</td><td>33</td></tr>",
            "<tr><td>jpovey1t</td><td>7</td><td>22</td><td>13</td><td>40</td></tr>",
            "<tr><td>jpovey1t</td><td>13</td><td>22</td><td>13</td><td>53</td></tr>",
            "<tr><td>elucey1v</td><td>3</td><td>3</td><td>1</td><td>3</td></tr>",
            "<tr><td>elucey1v</td><td>1</td><td>3</td><td>1</td><td>4</td></tr>",
            "<tr><td>stinn1w</td><td>5</td><td>5</td><td>5</td><td>5</td></tr>",
            "<tr><td>apeppard1x</td><td>21</td><td>21</td><td>9</td><td>21</td></tr>",
            "<tr><td>apeppard1x</td><td>9</td><td>21</td><td>9</td><td>30</td></tr>",
            "<tr><td>lbreakwell1y</td><td>23</td><td>23</td><td>8</td><td>23</td></tr>",
            "<tr><td>lbreakwell1y</td><td>8</td><td>23</td><td>8</td><td>31</td></tr>",
            "<tr><td>rdruitt1z</td><td>9</td><td>9</td><td>9</td><td>9</td></tr>",
            "<tr><td>lpauwel20</td><td>27</td><td>27</td><td>18</td><td>27</td></tr>",
            "<tr><td>lpauwel20</td><td>4</td><td>27</td><td>18</td><td>31</td></tr>",
            "<tr><td>lpauwel20</td><td>18</td><td>27</td><td>18</td><td>49</td></tr>",
            "<tr><td>dmarryatt21</td><td>7</td><td>7</td><td>7</td><td>7</td></tr>",
            "<tr><td>hturbefield22</td><td>33</td><td>33</td><td>33</td><td>33</td></tr>",
            "<tr><td>hturbefield22</td><td>33</td><td>33</td><td>33</td><td>66</td></tr>",
            "<tr><td>jwilne23</td><td>22</td><td>22</td><td>22</td><td>22</td></tr>",
            "<tr><td>oleadley24</td><td>27</td><td>27</td><td>31</td><td>27</td></tr>",
            "<tr><td>oleadley24</td><td>31</td><td>27</td><td>31</td><td>58</td></tr>",
            "<tr><td>aleynton25</td><td>15</td><td>15</td><td>21</td><td>15</td></tr>",
            "<tr><td>aleynton25</td><td>13</td><td>15</td><td>21</td><td>28</td></tr>",
            "<tr><td>aleynton25</td><td>21</td><td>15</td><td>21</td><td>49</td></tr>",
            "<tr><td>rrought26</td><td>25</td><td>25</td><td>11</td><td>25</td></tr>",
            "<tr><td>rrought26</td><td>0</td><td>25</td><td>11</td><td>25</td></tr>",
            "<tr><td>rrought26</td><td>11</td><td>25</td><td>11</td><td>36</td></tr>",
            "<tr><td>fyakob27</td><td>13</td><td>13</td><td>1</td><td>13</td></tr>",
            "<tr><td>fyakob27</td><td>4</td><td>13</td><td>1</td><td>17</td></tr>",
            "<tr><td>fyakob27</td><td>1</td><td>13</td><td>1</td><td>18</td></tr>",
            "<tr><td>mmooring28</td><td>26</td><td>26</td><td>0</td><td>26</td></tr>",
            "<tr><td>mmooring28</td><td>0</td><td>26</td><td>0</td><td>26</td></tr>",
            "<tr><td>rnabarro29</td><td>18</td><td>18</td><td>11</td><td>18</td></tr>",
            "<tr><td>rnabarro29</td><td>11</td><td>18</td><td>11</td><td>29</td></tr>",
            "<tr><td>kneed2a</td><td>22</td><td>22</td><td>4</td><td>22</td></tr>",
            "<tr><td>kneed2a</td><td>10</td><td>22</td><td>4</td><td>32</td></tr>",
            "<tr><td>kneed2a</td><td>4</td><td>22</td><td>4</td><td>36</td></tr>",
            "<tr><td>ebraxton2b</td><td>12</td><td>12</td><td>2</td><td>12</td></tr>",
            "<tr><td>ebraxton2b</td><td>30</td><td>12</td><td>2</td><td>42</td></tr>",
            "<tr><td>ebraxton2b</td><td>2</td><td>12</td><td>2</td><td>44</td></tr>",
            "<tr><td>ahuntar2c</td><td>9</td><td>9</td><td>9</td><td>9</td></tr>",
            "<tr><td>babram2d</td><td>23</td><td>23</td><td>19</td><td>23</td></tr>",
            "<tr><td>babram2d</td><td>22</td><td>23</td><td>19</td><td>45</td></tr>",
            "<tr><td>babram2d</td><td>16</td><td>23</td><td>19</td><td>61</td></tr>",
            "<tr><td>babram2d</td><td>28</td><td>23</td><td>19</td><td>89</td></tr>",
            "<tr><td>babram2d</td><td>19</td><td>23</td><td>19</td><td>108</td></tr>",
            "<tr><td>vronchetti2e</td><td>30</td><td>30</td><td>14</td><td>30</td></tr>",
            "<tr><td>vronchetti2e</td><td>14</td><td>30</td><td>14</td><td>44</td></tr>",
            "<tr><td>gbumby2f</td><td>5</td><td>5</td><td>9</td><td>5</td></tr>",
            "<tr><td>gbumby2f</td><td>26</td><td>5</td><td>9</td><td>31</td></tr>",
            "<tr><td>gbumby2f</td><td>8</td><td>5</td><td>9</td><td>39</td></tr>",
            "<tr><td>gbumby2f</td><td>33</td><td>5</td><td>9</td><td>72</td></tr>",
            "<tr><td>gbumby2f</td><td>9</td><td>5</td><td>9</td><td>81</td></tr>",
            "<tr><td>tgribben2g</td><td>14</td><td>14</td><td>0</td><td>14</td></tr>",
            "<tr><td>tgribben2g</td><td>0</td><td>14</td><td>0</td><td>14</td></tr>",
            "<tr><td>goruane2h</td><td>22</td><td>22</td><td>8</td><td>22</td></tr>",
            "<tr><td>goruane2h</td><td>13</td><td>22</td><td>8</td><td>35</td></tr>",
            "<tr><td>goruane2h</td><td>1</td><td>22</td><td>8</td><td>36</td></tr>",
            "<tr><td>goruane2h</td><td>6</td><td>22</td><td>8</td><td>42</td></tr>",
            "<tr><td>goruane2h</td><td>25</td><td>22</td><td>8</td><td>67</td></tr>",
            "<tr><td>goruane2h</td><td>8</td><td>22</td><td>8</td><td>75</td></tr>",
            "<tr><td>lpudding2i</td><td>15</td><td>15</td><td>20</td><td>15</td></tr>",
            "<tr><td>lpudding2i</td><td>20</td><td>15</td><td>20</td><td>35</td></tr>",
            "<tr><td>aavesque2j</td><td>5</td><td>5</td><td>17</td><td>5</td></tr>",
            "<tr><td>aavesque2j</td><td>2</td><td>5</td><td>17</td><td>7</td></tr>",
            "<tr><td>aavesque2j</td><td>6</td><td>5</td><td>17</td><td>13</td></tr>",
            "<tr><td>aavesque2j</td><td>17</td><td>5</td><td>17</td><td>30</td></tr>",
            "<tr><td>ccomiam2k</td><td>6</td><td>6</td><td>6</td><td>6</td></tr>",
            "<tr><td>mbecaris2l</td><td>18</td><td>18</td><td>30</td><td>18</td></tr>",
            "<tr><td>mbecaris2l</td><td>29</td><td>18</td><td>30</td><td>47</td></tr>",
            "<tr><td>mbecaris2l</td><td>0</td><td>18</td><td>30</td><td>47</td></tr>",
            "<tr><td>mbecaris2l</td><td>30</td><td>18</td><td>30</td><td>77</td></tr>",
            "<tr><td>alewtey2m</td><td>0</td><td>0</td><td>30</td><td>0</td></tr>",
            "<tr><td>alewtey2m</td><td>14</td><td>0</td><td>30</td><td>14</td></tr>",
            "<tr><td>alewtey2m</td><td>10</td><td>0</td><td>30</td><td>24</td></tr>",
            "<tr><td>alewtey2m</td><td>30</td><td>0</td><td>30</td><td>54</td></tr>",
            "<tr><td>reyree2n</td><td>20</td><td>20</td><td>21</td><td>20</td></tr>",
            "<tr><td>reyree2n</td><td>21</td><td>20</td><td>21</td><td>41</td></tr>",
            "<tr><td>gadamczyk2o</td><td>31</td><td>31</td><td>11</td><td>31</td></tr>",
            "<tr><td>gadamczyk2o</td><td>11</td><td>31</td><td>11</td><td>42</td></tr>",
            "<tr><td>mgibbard2p</td><td>12</td><td>12</td><td>3</td><td>12</td></tr>",
            "<tr><td>mgibbard2p</td><td>1</td><td>12</td><td>3</td><td>13</td></tr>",
            "<tr><td>mgibbard2p</td><td>25</td><td>12</td><td>3</td><td>38</td></tr>",
            "<tr><td>mgibbard2p</td><td>3</td><td>12</td><td>3</td><td>41</td></tr>",
            "<tr><td>cmelton2q</td><td>6</td><td>6</td><td>24</td><td>6</td></tr>",
            "<tr><td>cmelton2q</td><td>24</td><td>6</td><td>24</td><td>30</td></tr>",
            "<tr><td>nohern2r</td><td>22</td><td>22</td><td>5</td><td>22</td></tr>",
            "<tr><td>nohern2r</td><td>15</td><td>22</td><td>5</td><td>37</td></tr>",
            "<tr><td>nohern2r</td><td>5</td><td>22</td><td>5</td><td>42</td></tr>",
            "<tr><td>bjuris2s</td><td>30</td><td>30</td><td>23</td><td>30</td></tr>",
            "<tr><td>bjuris2s</td><td>10</td><td>30</td><td>23</td><td>40</td></tr>",
            "<tr><td>bjuris2s</td><td>26</td><td>30</td><td>23</td><td>66</td></tr>",
            "<tr><td>bjuris2s</td><td>23</td><td>30</td><td>23</td><td>89</td></tr>",
            "<tr><td>vcapps2t</td><td>15</td><td>15</td><td>2</td><td>15</td></tr>",
            "<tr><td>vcapps2t</td><td>8</td><td>15</td><td>2</td><td>23</td></tr>",
            "<tr><td>vcapps2t</td><td>2</td><td>15</td><td>2</td><td>25</td></tr>",
            "<tr><td>yveighey2u</td><td>3</td><td>3</td><td>7</td><td>3</td></tr>",
            "<tr><td>yveighey2u</td><td>7</td><td>3</td><td>7</td><td>10</td></tr>",
            "<tr><td>yandreix2v</td><td>30</td><td>30</td><td>30</td><td>30</td></tr>",
            "<tr><td>gcana2w</td><td>29</td><td>29</td><td>17</td><td>29</td></tr>",
            "<tr><td>gcana2w</td><td>31</td><td>29</td><td>17</td><td>60</td></tr>",
            "<tr><td>gcana2w</td><td>9</td><td>29</td><td>17</td><td>86</td></tr>",
            "<tr><td>gcana2w</td><td>17</td><td>29</td><td>17</td><td>86</td></tr>",
            "<tr><td>ltilt2x</td><td>25</td><td>25</td><td>25</td><td>25</td></tr>",
            "<tr><td>psawdy2y</td><td>14</td><td>14</td><td>29</td><td>14</td></tr>",
            "<tr><td>psawdy2y</td><td>2</td><td>14</td><td>29</td><td>16</td></tr>",
            "<tr><td>psawdy2y</td><td>29</td><td>14</td><td>29</td><td>45</td></tr>",
            "<tr><td>kgatus2z</td><td>5</td><td>5</td><td>27</td><td>5</td></tr>",
            "<tr><td>kgatus2z</td><td>7</td><td>5</td><td>27</td><td>12</td></tr>",
            "<tr><td>kgatus2z</td><td>11</td><td>5</td><td>27</td><td>23</td></tr>",
            "<tr><td>kgatus2z</td><td>10</td><td>5</td><td>27</td><td>33</td></tr>",
            "<tr><td>kgatus2z</td><td>11</td><td>5</td><td>27</td><td>44</td></tr>",
            "<tr><td>kgatus2z</td><td>27</td><td>5</td><td>27</td><td>71</td></tr>",
            "<tr><td>gharwick30</td><td>32</td><td>32</td><td>32</td><td>32</td></tr>",
            "<tr><td>dswires31</td><td>15</td><td>15</td><td>28</td><td>15</td></tr>",
            "<tr><td>dswires31</td><td>19</td><td>15</td><td>28</td><td>34</td></tr>",
            "<tr><td>dswires31</td><td>31</td><td>15</td><td>28</td><td>65</td></tr>",
            "<tr><td>dswires31</td><td>28</td><td>15</td><td>28</td><td>93</td></tr>",
            "<tr><td>ubehnen32</td><td>18</td><td>18</td><td>13</td><td>18</td></tr>",
            "<tr><td>ubehnen32</td><td>13</td><td>18</td><td>13</td><td>31</td></tr>",
            "<tr><td>llearmont33</td><td>6</td><td>6</td><td>22</td><td>6</td></tr>",
            "<tr><td>llearmont33</td><td>12</td><td>6</td><td>22</td><td>18</td></tr>",
            "<tr><td>llearmont33</td><td>22</td><td>6</td><td>22</td><td>40</td></tr>",
            "<tr><td>scappineer34</td><td>24</td><td>24</td><td>28</td><td>24</td></tr>",
            "<tr><td>scappineer34</td><td>26</td><td>24</td><td>28</td><td>50</td></tr>",
            "<tr><td>scappineer34</td><td>28</td><td>24</td><td>28</td><td>78</td></tr>",
            "<tr><td>cmullaly35</td><td>9</td><td>9</td><td>20</td><td>9</td></tr>",
            "<tr><td>cmullaly35</td><td>30</td><td>9</td><td>20</td><td>39</td></tr>",
            "<tr><td>cmullaly35</td><td>7</td><td>9</td><td>20</td><td>46</td></tr>",
            "<tr><td>cmullaly35</td><td>20</td><td>9</td><td>20</td><td>66</td></tr>",
            "<tr><td>tgantz36</td><td>6</td><td>6</td><td>8</td><td>6</td></tr>",
            "<tr><td>tgantz36</td><td>29</td><td>6</td><td>8</td><td>35</td></tr>",
            "<tr><td>tgantz36</td><td>8</td><td>6</td><td>8</td><td>43</td></tr>",
            "<tr><td>ccowland37</td><td>5</td><td>5</td><td>11</td><td>5</td></tr>",
            "<tr><td>ccowland37</td><td>11</td><td>5</td><td>11</td><td>16</td></tr>",
            "<tr><td>psarfat38</td><td>16</td><td>16</td><td>20</td><td>16</td></tr>",
            "<tr><td>psarfat38</td><td>20</td><td>16</td><td>20</td><td>36</td></tr>",
            "<tr><td>rfillingham39</td><td>24</td><td>24</td><td>33</td><td>24</td></tr>",
            "<tr><td>rfillingham39</td><td>30</td><td>24</td><td>33</td><td>54</td></tr>",
            "<tr><td>rfillingham39</td><td>31</td><td>24</td><td>33</td><td>85</td></tr>",
            "<tr><td>rfillingham39</td><td>33</td><td>24</td><td>33</td><td>118</td></tr>",
            "<tr><td>sudale3a</td><td>12</td><td>12</td><td>3</td><td>12</td></tr>",
            "<tr><td>sudale3a</td><td>3</td><td>12</td><td>3</td><td>15</td></tr>",
            "<tr><td>skaser3b</td><td>28</td><td>28</td><td>5</td><td>28</td></tr>",
            "<tr><td>skaser3b</td><td>28</td><td>28</td><td>5</td><td>56</td></tr>",
            "<tr><td>skaser3b</td><td>8</td><td>28</td><td>5</td><td>64</td></tr>",
            "<tr><td>skaser3b</td><td>5</td><td>28</td><td>5</td><td>69</td></tr>",
            "<tr><td>dhowsin3c</td><td>24</td><td>24</td><td>30</td><td>24</td></tr>",
            "<tr><td>dhowsin3c</td><td>24</td><td>24</td><td>30</td><td>48</td></tr>",
            "<tr><td>dhowsin3c</td><td>12</td><td>24</td><td>30</td><td>60</td></tr>",
            "<tr><td>dhowsin3c</td><td>10</td><td>24</td><td>30</td><td>70</td></tr>",
            "<tr><td>dhowsin3c</td><td>30</td><td>24</td><td>30</td><td>100</td></tr>",
            "<tr><td>omcluckie3e</td><td>6</td><td>6</td><td>6</td><td>6</td></tr>",
            "<tr><td>ekleisel3f</td><td>21</td><td>21</td><td>7</td><td>21</td></tr>",
            "<tr><td>ekleisel3f</td><td>22</td><td>21</td><td>7</td><td>43</td></tr>",
            "<tr><td>ekleisel3f</td><td>7</td><td>21</td><td>7</td><td>50</td></tr>",
            "<tr><td>svegas3g</td><td>5</td><td>5</td><td>11</td><td>5</td></tr>",
            "<tr><td>svegas3g</td><td>17</td><td>5</td><td>11</td><td>22</td></tr>",
            "<tr><td>svegas3g</td><td>30</td><td>5</td><td>11</td><td>52</td></tr>",
            "<tr><td>svegas3g</td><td>11</td><td>5</td><td>11</td><td>63</td></tr>",
            "<tr><td>ostannas3h</td><td>17</td><td>17</td><td>8</td><td>17</td></tr>",
            "<tr><td>ostannas3h</td><td>8</td><td>17</td><td>8</td><td>25</td></tr>",
            "<tr><td>jickovici3j</td><td>28</td><td>28</td><td>30</td><td>28</td></tr>",
            "<tr><td>jickovici3j</td><td>15</td><td>28</td><td>30</td><td>43</td></tr>",
            "<tr><td>jickovici3j</td><td>4</td><td>28</td><td>30</td><td>47</td></tr>",
            "<tr><td>jickovici3j</td><td>15</td><td>28</td><td>30</td><td>62</td></tr>",
            "<tr><td>jickovici3j</td><td>33</td><td>28</td><td>30</td><td>95</td></tr>",
            "<tr><td>jickovici3j</td><td>16</td><td>28</td><td>30</td><td>111</td></tr>",
            "<tr><td>jickovici3j</td><td>30</td><td>28</td><td>30</td><td>141</td></tr>",
            "<tr><td>tnewham3k</td><td>16</td><td>16</td><td>16</td><td>16</td></tr>",
            "<tr><td>ehebditch3l</td><td>13</td><td>13</td><td>6</td><td>13</td></tr>",
            "<tr><td>ehebditch3l</td><td>16</td><td>13</td><td>6</td><td>29</td></tr>",
            "<tr><td>ehebditch3l</td><td>9</td><td>13</td><td>6</td><td>38</td></tr>",
            "<tr><td>ehebditch3l</td><td>4</td><td>13</td><td>6</td><td>42</td></tr>",
            "<tr><td>ehebditch3l</td><td>6</td><td>13</td><td>6</td><td>48</td></tr>",
            "<tr><td>cmatley3m</td><td>31</td><td>31</td><td>15</td><td>31</td></tr>",
            "<tr><td>cmatley3m</td><td>15</td><td>31</td><td>15</td><td>46</td></tr>",
            "<tr><td>cfierman3n</td><td>33</td><td>33</td><td>17</td><td>33</td></tr>",
            "<tr><td>cfierman3n</td><td>3</td><td>33</td><td>17</td><td>36</td></tr>",
            "<tr><td>cfierman3n</td><td>17</td><td>33</td><td>17</td><td>53</td></tr>",
            "<tr><td>schown3o</td><td>19</td><td>19</td><td>19</td><td>19</td></tr>",
            "<tr><td>lhoulson3p</td><td>23</td><td>23</td><td>8</td><td>23</td></tr>",
            "<tr><td>lhoulson3p</td><td>33</td><td>23</td><td>8</td><td>56</td></tr>",
            "<tr><td>lhoulson3p</td><td>8</td><td>23</td><td>8</td><td>64</td></tr>",
            "<tr><td>rbennellick3q</td><td>25</td><td>25</td><td>1</td><td>25</td></tr>",
            "<tr><td>rbennellick3q</td><td>1</td><td>25</td><td>1</td><td>26</td></tr>",
            "<tr><td>hhorribine3r</td><td>0</td><td>0</td><td>0</td><td>0</td></tr>",
            "<tr><td>funion3s</td><td>11</td><td>11</td><td>27</td><td>11</td></tr>",
            "<tr><td>funion3s</td><td>13</td><td>11</td><td>27</td><td>24</td></tr>",
            "<tr><td>funion3s</td><td>27</td><td>11</td><td>27</td><td>51</td></tr>",
            "<tr><td>smartinon3t</td><td>18</td><td>18</td><td>32</td><td>18</td></tr>",
            "<tr><td>smartinon3t</td><td>28</td><td>18</td><td>32</td><td>46</td></tr>",
            "<tr><td>smartinon3t</td><td>2</td><td>18</td><td>32</td><td>48</td></tr>",
            "<tr><td>smartinon3t</td><td>7</td><td>18</td><td>32</td><td>55</td></tr>",
            "<tr><td>smartinon3t</td><td>2</td><td>18</td><td>32</td><td>57</td></tr>",
            "<tr><td>smartinon3t</td><td>13</td><td>18</td><td>32</td><td>70</td></tr>",
            "<tr><td>smartinon3t</td><td>32</td><td>18</td><td>32</td><td>102</td></tr>",
            "<tr><td>jtombs3u</td><td>15</td><td>15</td><td>15</td><td>15</td></tr>",
            "<tr><td>bskerratt3v</td><td>27</td><td>27</td><td>27</td><td>27</td></tr>",
            "<tr><td>dhearst3w</td><td>21</td><td>21</td><td>22</td><td>21</td></tr>",
            "<tr><td>dhearst3w</td><td>22</td><td>21</td><td>22</td><td>43</td></tr>",
            "<tr><td>dhearst3w</td><td>2</td><td>21</td><td>22</td><td>45</td></tr>",
            "<tr><td>dhearst3w</td><td>32</td><td>21</td><td>22</td><td>77</td></tr>",
            "<tr><td>dhearst3w</td><td>22</td><td>21</td><td>22</td><td>99</td></tr>",
            "<tr><td>malwen3x</td><td>15</td><td>15</td><td>15</td><td>15</td></tr>",
            "<tr><td>lforde3z</td><td>11</td><td>11</td><td>14</td><td>11</td></tr>",
            "<tr><td>lforde3z</td><td>16</td><td>11</td><td>14</td><td>27</td></tr>",
            "<tr><td>lforde3z</td><td>14</td><td>11</td><td>14</td><td>41</td></tr>",
            "<tr><td>eparradice40</td><td>16</td><td>16</td><td>16</td><td>16</td></tr>",
            "<tr><td>dshingfield41</td><td>31</td><td>31</td><td>29</td><td>31</td></tr>",
            "<tr><td>dshingfield41</td><td>9</td><td>31</td><td>29</td><td>40</td></tr>",
            "<tr><td>dshingfield41</td><td>29</td><td>31</td><td>29</td><td>69</td></tr>",
            "<tr><td>rcranefield42</td><td>15</td><td>15</td><td>15</td><td>15</td></tr>",
            "<tr><td>rcranefield42</td><td>31</td><td>15</td><td>15</td><td>46</td></tr>",
            "<tr><td>rcranefield42</td><td>2</td><td>15</td><td>15</td><td>48</td></tr>",
            "<tr><td>rcranefield42</td><td>20</td><td>15</td><td>15</td><td>68</td></tr>",
            "<tr><td>rcranefield42</td><td>15</td><td>15</td><td>15</td><td>83</td></tr>",
            "<tr><td>mphilpott43</td><td>26</td><td>26</td><td>23</td><td>26</td></tr>",
            "<tr><td>mphilpott43</td><td>23</td><td>26</td><td>23</td><td>49</td></tr>",
            "<tr><td>alidington44</td><td>11</td><td>11</td><td>11</td><td>11</td></tr>",
            "<tr><td>kfarrears45</td><td>19</td><td>19</td><td>19</td><td>19</td></tr>",
            "<tr><td>kstutte46</td><td>12</td><td>12</td><td>22</td><td>12</td></tr>",
            "<tr><td>kstutte46</td><td>30</td><td>12</td><td>22</td><td>42</td></tr>",
            "<tr><td>kstutte46</td><td>18</td><td>12</td><td>22</td><td>60</td></tr>",
            "<tr><td>kstutte46</td><td>25</td><td>12</td><td>22</td><td>85</td></tr>",
            "<tr><td>kstutte46</td><td>22</td><td>12</td><td>22</td><td>107</td></tr>",
            "<tr><td>rsparshett47</td><td>5</td><td>5</td><td>12</td><td>5</td></tr>",
            "<tr><td>rsparshett47</td><td>24</td><td>5</td><td>12</td><td>29</td></tr>",
            "<tr><td>rsparshett47</td><td>12</td><td>5</td><td>12</td><td>41</td></tr>",
            "<tr><td>bprosser48</td><td>10</td><td>10</td><td>33</td><td>10</td></tr>",
            "<tr><td>bprosser48</td><td>33</td><td>10</td><td>33</td><td>43</td></tr>",
            "<tr><td>avockins49</td><td>8</td><td>8</td><td>20</td><td>8</td></tr>",
            "<tr><td>avockins49</td><td>6</td><td>8</td><td>20</td><td>14</td></tr>",
            "<tr><td>avockins49</td><td>20</td><td>8</td><td>20</td><td>34</td></tr>",
            "<tr><td>nwhitesel4b</td><td>13</td><td>13</td><td>28</td><td>13</td></tr>",
            "<tr><td>nwhitesel4b</td><td>15</td><td>13</td><td>28</td><td>28</td></tr>",
            "<tr><td>nwhitesel4b</td><td>28</td><td>13</td><td>28</td><td>56</td></tr>",
            "<tr><td>bbaseke4c</td><td>32</td><td>32</td><td>13</td><td>32</td></tr>",
            "<tr><td>bbaseke4c</td><td>17</td><td>32</td><td>13</td><td>49</td></tr>",
            "<tr><td>bbaseke4c</td><td>13</td><td>32</td><td>13</td><td>62</td></tr>",
            "<tr><td>estooders4d</td><td>12</td><td>12</td><td>12</td><td>12</td></tr>",
            "<tr><td>tbearfoot4e</td><td>27</td><td>27</td><td>26</td><td>27</td></tr>",
            "<tr><td>tbearfoot4e</td><td>26</td><td>27</td><td>26</td><td>53</td></tr>",
            "<tr><td>ukingh4f</td><td>27</td><td>27</td><td>29</td><td>27</td></tr>",
            "<tr><td>ukingh4f</td><td>29</td><td>27</td><td>29</td><td>56</td></tr>",
            "<tr><td>zscolland4h</td><td>6</td><td>6</td><td>27</td><td>35</td></tr>",
            "<tr><td>zscolland4h</td><td>29</td><td>6</td><td>27</td><td>35</td></tr>",
            "<tr><td>zscolland4h</td><td>12</td><td>6</td><td>27</td><td>47</td></tr>",
            "<tr><td>zscolland4h</td><td>24</td><td>6</td><td>27</td><td>71</td></tr>",
            "<tr><td>zscolland4h</td><td>6</td><td>6</td><td>27</td><td>77</td></tr>",
            "<tr><td>zscolland4h</td><td>7</td><td>6</td><td>27</td><td>84</td></tr>",
            "<tr><td>zscolland4h</td><td>17</td><td>6</td><td>27</td><td>101</td></tr>",
            "<tr><td>zscolland4h</td><td>27</td><td>6</td><td>27</td><td>128</td></tr>",
            "<tr><td>dpanniers4i</td><td>14</td><td>14</td><td>18</td><td>14</td></tr>",
            "<tr><td>dpanniers4i</td><td>10</td><td>14</td><td>18</td><td>24</td></tr>",
            "<tr><td>dpanniers4i</td><td>18</td><td>14</td><td>18</td><td>42</td></tr>",
            "<tr><td>sthain4j</td><td>29</td><td>29</td><td>15</td><td>29</td></tr>",
            "<tr><td>sthain4j</td><td>15</td><td>29</td><td>15</td><td>44</td></tr>",
            "<tr><td>cjaques4k</td><td>15</td><td>15</td><td>15</td><td>15</td></tr>",
            "<tr><td>cmeneely4l</td><td>27</td><td>27</td><td>27</td><td>27</td></tr>",
            "<tr><td>jtrevena4m</td><td>3</td><td>3</td><td>1</td><td>3</td></tr>",
            "<tr><td>jtrevena4m</td><td>9</td><td>3</td><td>1</td><td>12</td></tr>",
            "<tr><td>jtrevena4m</td><td>1</td><td>3</td><td>1</td><td>13</td></tr>",
            "<tr><td>mcloughton4n</td><td>11</td><td>11</td><td>17</td><td>11</td></tr>",
            "<tr><td>mcloughton4n</td><td>6</td><td>11</td><td>17</td><td>17</td></tr>",
            "<tr><td>mcloughton4n</td><td>12</td><td>11</td><td>17</td><td>29</td></tr>",
            "<tr><td>mcloughton4n</td><td>17</td><td>11</td><td>17</td><td>46</td></tr>",
            "<tr><td>mlelievre4o</td><td>27</td><td>27</td><td>24</td><td>27</td></tr>",
            "<tr><td>mlelievre4o</td><td>24</td><td>27</td><td>24</td><td>51</td></tr>",
            "<tr><td>leul4q</td><td>22</td><td>22</td><td>16</td><td>22</td></tr>",
            "<tr><td>leul4q</td><td>16</td><td>22</td><td>16</td><td>38</td></tr>",
            "<tr><td>gkember4r</td><td>12</td><td>12</td><td>27</td><td>12</td></tr>",
            "<tr><td>gkember4r</td><td>7</td><td>12</td><td>27</td><td>19</td></tr>",
            "<tr><td>gkember4r</td><td>27</td><td>12</td><td>27</td><td>46</td></tr>",
            "<tr><td>vlambarth4s</td><td>29</td><td>29</td><td>29</td><td>29</td></tr>",
            "<tr><td>fwaldron4t</td><td>21</td><td>21</td><td>21</td><td>21</td></tr>",
            "<tr><td>myo4u</td><td>4</td><td>4</td><td>20</td><td>4</td></tr>",
            "<tr><td>myo4u</td><td>20</td><td>4</td><td>20</td><td>24</td></tr>",
            "<tr><td>rmacgauhy4v</td><td>5</td><td>5</td><td>12</td><td>5</td></tr>",
            "<tr><td>rmacgauhy4v</td><td>12</td><td>5</td><td>12</td><td>17</td></tr>",
            "<tr><td>kmound4x</td><td>22</td><td>22</td><td>4</td><td>22</td></tr>",
            "<tr><td>kmound4x</td><td>31</td><td>22</td><td>4</td><td>53</td></tr>",
            "<tr><td>kmound4x</td><td>5</td><td>22</td><td>4</td><td>58</td></tr>",
            "<tr><td>kmound4x</td><td>4</td><td>22</td><td>4</td><td>62</td></tr>",
            "<tr><td>mklimowicz4y</td><td>26</td><td>26</td><td>28</td><td>26</td></tr>",
            "<tr><td>mklimowicz4y</td><td>28</td><td>26</td><td>28</td><td>54</td></tr>",
            "<tr><td>rciani4z</td><td>9</td><td>9</td><td>9</td><td>9</td></tr>",
            "<tr><td>katter50</td><td>9</td><td>9</td><td>26</td><td>9</td></tr>",
            "<tr><td>katter50</td><td>30</td><td>9</td><td>26</td><td>39</td></tr>",
            "<tr><td>katter50</td><td>26</td><td>9</td><td>26</td><td>65</td></tr>",
            "<tr><td>mpahler52</td><td>9</td><td>9</td><td>14</td><td>9</td></tr>",
            "<tr><td>mpahler52</td><td>14</td><td>9</td><td>14</td><td>23</td></tr>",
            "<tr><td>gslogrove54</td><td>8</td><td>8</td><td>8</td><td>8</td></tr>",
            "<tr><td>tmart56</td><td>20</td><td>20</td><td>6</td><td>20</td></tr>",
            "<tr><td>tmart56</td><td>6</td><td>20</td><td>6</td><td>26</td></tr>",
            "<tr><td>kramelet58</td><td>11</td><td>11</td><td>4</td><td>11</td></tr>",
            "<tr><td>kramelet58</td><td>5</td><td>11</td><td>4</td><td>16</td></tr>",
            "<tr><td>kramelet58</td><td>22</td><td>11</td><td>4</td><td>38</td></tr>",
            "<tr><td>kramelet58</td><td>25</td><td>11</td><td>4</td><td>63</td></tr>",
            "<tr><td>kramelet58</td><td>1</td><td>11</td><td>4</td><td>64</td></tr>",
            "<tr><td>kramelet58</td><td>12</td><td>11</td><td>4</td><td>76</td></tr>",
            "<tr><td>kramelet58</td><td>4</td><td>11</td><td>4</td><td>80</td></tr>",
            "<tr><td>gbezant59</td><td>32</td><td>32</td><td>8</td><td>32</td></tr>",
            "<tr><td>gbezant59</td><td>8</td><td>32</td><td>8</td><td>40</td></tr>",
            "<tr><td>gbezant59</td><td>8</td><td>32</td><td>8</td><td>48</td></tr>",
            "<tr><td>gsims5a</td><td>22</td><td>22</td><td>29</td><td>22</td></tr>",
            "<tr><td>gsims5a</td><td>10</td><td>22</td><td>29</td><td>32</td></tr>",
            "<tr><td>gsims5a</td><td>29</td><td>22</td><td>29</td><td>61</td></tr>",
            "<tr><td>lmossdale5b</td><td>22</td><td>22</td><td>22</td><td>22</td></tr>",
            "<tr><td>glidyard5c</td><td>7</td><td>7</td><td>22</td><td>7</td></tr>",
            "<tr><td>glidyard5c</td><td>18</td><td>7</td><td>22</td><td>25</td></tr>",
            "<tr><td>glidyard5c</td><td>22</td><td>7</td><td>22</td><td>47</td></tr>",
            "<tr><td>njoannet5d</td><td>25</td><td>25</td><td>12</td><td>25</td></tr>",
            "<tr><td>njoannet5d</td><td>14</td><td>25</td><td>12</td><td>39</td></tr>",
            "<tr><td>njoannet5d</td><td>23</td><td>25</td><td>12</td><td>62</td></tr>",
            "<tr><td>njoannet5d</td><td>12</td><td>25</td><td>12</td><td>74</td></tr>",
            "<tr><td>jwaistell5e</td><td>16</td><td>16</td><td>22</td><td>16</td></tr>",
            "<tr><td>jwaistell5e</td><td>6</td><td>16</td><td>22</td><td>22</td></tr>",
            "<tr><td>jwaistell5e</td><td>13</td><td>16</td><td>22</td><td>35</td></tr>",
            "<tr><td>jwaistell5e</td><td>22</td><td>16</td><td>22</td><td>57</td></tr>",
            "<tr><td>fgeibel5f</td><td>3</td><td>3</td><td>27</td><td>3</td></tr>",
            "<tr><td>fgeibel5f</td><td>18</td><td>3</td><td>27</td><td>21</td></tr>",
            "<tr><td>fgeibel5f</td><td>27</td><td>3</td><td>27</td><td>48</td></tr>",
            "<tr><td>dcristoferi5g</td><td>1</td><td>1</td><td>1</td><td>1</td></tr>",
            "<tr><td>grojel5h</td><td>21</td><td>21</td><td>18</td><td>21</td></tr>",
            "<tr><td>grojel5h</td><td>31</td><td>21</td><td>18</td><td>52</td></tr>",
            "<tr><td>grojel5h</td><td>18</td><td>21</td><td>18</td><td>70</td></tr>",
            "<tr><td>ghollebon5i</td><td>1</td><td>1</td><td>31</td><td>1</td></tr>",
            "<tr><td>ghollebon5i</td><td>6</td><td>1</td><td>31</td><td>7</td></tr>",
            "<tr><td>ghollebon5i</td><td>17</td><td>1</td><td>31</td><td>24</td></tr>",
            "<tr><td>ghollebon5i</td><td>31</td><td>1</td><td>31</td><td>55</td></tr>",
            "<tr><td>cstebbin5j</td><td>27</td><td>27</td><td>23</td><td>27</td></tr>",
            "<tr><td>cstebbin5j</td><td>21</td><td>27</td><td>23</td><td>48</td></tr>",
            "<tr><td>cstebbin5j</td><td>12</td><td>27</td><td>23</td><td>60</td></tr>",
            "<tr><td>cstebbin5j</td><td>19</td><td>27</td><td>23</td><td>79</td></tr>",
            "<tr><td>cstebbin5j</td><td>4</td><td>27</td><td>23</td><td>83</td></tr>",
            "<tr><td>cstebbin5j</td><td>23</td><td>27</td><td>23</td><td>106</td></tr>",
            "<tr><td>reffnert5k</td><td>8</td><td>8</td><td>15</td><td>8</td></tr>",
            "<tr><td>reffnert5k</td><td>15</td><td>8</td><td>15</td><td>23</td></tr>",
            "<tr><td>geskriett5l</td><td>5</td><td>5</td><td>17</td><td>5</td></tr>",
            "<tr><td>geskriett5l</td><td>17</td><td>5</td><td>17</td><td>22</td></tr>",
            "<tr><td>brown5m</td><td>0</td><td>0</td><td>0</td><td>0</td></tr>",
            "<tr><td>rizod5n</td><td>28</td><td>28</td><td>2</td><td>28</td></tr>",
            "<tr><td>rizod5n</td><td>1</td><td>28</td><td>2</td><td>29</td></tr>",
            "<tr><td>rizod5n</td><td>2</td><td>28</td><td>2</td><td>31</td></tr>",
            "<tr><td>kdhennin5o</td><td>33</td><td>33</td><td>13</td><td>33</td></tr>",
            "<tr><td>kdhennin5o</td><td>25</td><td>33</td><td>13</td><td>58</td></tr>",
            "<tr><td>kdhennin5o</td><td>13</td><td>33</td><td>13</td><td>71</td></tr>",
            "<tr><td>cadamson5q</td><td>30</td><td>30</td><td>32</td><td>30</td></tr>",
            "<tr><td>cadamson5q</td><td>21</td><td>30</td><td>32</td><td>51</td></tr>",
            "<tr><td>cadamson5q</td><td>32</td><td>30</td><td>32</td><td>83</td></tr>",
            "<tr><td>tpettegree5r</td><td>17</td><td>17</td><td>32</td><td>17</td></tr>",
            "<tr><td>tpettegree5r</td><td>7</td><td>17</td><td>32</td><td>24</td></tr>",
            "<tr><td>tpettegree5r</td><td>32</td><td>17</td><td>32</td><td>56</td></tr>",
            "<tr><td>lreinard5s</td><td>3</td><td>3</td><td>24</td><td>3</td></tr>",
            "<tr><td>lreinard5s</td><td>13</td><td>3</td><td>24</td><td>16</td></tr>",
            "<tr><td>lreinard5s</td><td>8</td><td>3</td><td>24</td><td>24</td></tr>",
            "<tr><td>lreinard5s</td><td>24</td><td>3</td><td>24</td><td>48</td></tr>",
            "<tr><td>mhearse5t</td><td>3</td><td>3</td><td>25</td><td>3</td></tr>",
            "<tr><td>mhearse5t</td><td>25</td><td>3</td><td>25</td><td>28</td></tr>",
            "<tr><td>gpyner5u</td><td>14</td><td>14</td><td>14</td><td>14</td></tr>",
            "<tr><td>rleteurtre5v</td><td>6</td><td>6</td><td>6</td><td>6</td></tr>",
            "<tr><td>rmccroft5w</td><td>5</td><td>5</td><td>17</td><td>5</td></tr>",
            "<tr><td>rmccroft5w</td><td>18</td><td>5</td><td>17</td><td>23</td></tr>",
            "<tr><td>rmccroft5w</td><td>26</td><td>5</td><td>17</td><td>49</td></tr>",
            "<tr><td>rmccroft5w</td><td>20</td><td>5</td><td>17</td><td>69</td></tr>",
            "<tr><td>rmccroft5w</td><td>17</td><td>5</td><td>17</td><td>86</td></tr>",
            "<tr><td>mchatin5x</td><td>6</td><td>6</td><td>31</td><td>34</td></tr>",
            "<tr><td>mchatin5x</td><td>28</td><td>6</td><td>31</td><td>34</td></tr>",
            "<tr><td>mchatin5x</td><td>24</td><td>6</td><td>31</td><td>58</td></tr>",
            "<tr><td>mchatin5x</td><td>20</td><td>6</td><td>31</td><td>109</td></tr>",
            "<tr><td>mchatin5x</td><td>31</td><td>6</td><td>31</td><td>109</td></tr>",
            "<tr><td>efaulconbridge5y</td><td>18</td><td>18</td><td>33</td><td>18</td></tr>",
            "<tr><td>efaulconbridge5y</td><td>33</td><td>18</td><td>33</td><td>51</td></tr>",
            "<tr><td>jdambrosio5z</td><td>4</td><td>4</td><td>11</td><td>4</td></tr>",
            "<tr><td>jdambrosio5z</td><td>11</td><td>4</td><td>11</td><td>15</td></tr>",
            "<tr><td>abarnhill60</td><td>11</td><td>11</td><td>28</td><td>11</td></tr>",
            "<tr><td>abarnhill60</td><td>18</td><td>11</td><td>28</td><td>29</td></tr>",
            "<tr><td>abarnhill60</td><td>28</td><td>11</td><td>28</td><td>57</td></tr>",
            "<tr><td>lmackie61</td><td>27</td><td>27</td><td>30</td><td>27</td></tr>",
            "<tr><td>lmackie61</td><td>30</td><td>27</td><td>30</td><td>57</td></tr>",
            "<tr><td>mmuge63</td><td>33</td><td>33</td><td>0</td><td>33</td></tr>",
            "<tr><td>mmuge63</td><td>14</td><td>33</td><td>0</td><td>47</td></tr>",
            "<tr><td>mmuge63</td><td>22</td><td>33</td><td>0</td><td>69</td></tr>",
            "<tr><td>mmuge63</td><td>13</td><td>33</td><td>0</td><td>82</td></tr>",
            "<tr><td>mmuge63</td><td>0</td><td>33</td><td>0</td><td>82</td></tr>",
            "<tr><td>dbortoletti64</td><td>17</td><td>17</td><td>17</td><td>17</td></tr>",
            "<tr><td>ksurgeon66</td><td>8</td><td>8</td><td>8</td><td>8</td></tr>",
            "<tr><td>bashman67</td><td>7</td><td>7</td><td>29</td><td>7</td></tr>",
            "<tr><td>bashman67</td><td>29</td><td>7</td><td>29</td><td>36</td></tr>",
            "<tr><td>hdominico68</td><td>14</td><td>14</td><td>11</td><td>14</td></tr>",
            "<tr><td>hdominico68</td><td>11</td><td>14</td><td>11</td><td>25</td></tr>",
            "<tr><td>rgietz69</td><td>13</td><td>13</td><td>3</td><td>13</td></tr>",
            "<tr><td>rgietz69</td><td>26</td><td>13</td><td>3</td><td>39</td></tr>",
            "<tr><td>rgietz69</td><td>6</td><td>13</td><td>3</td><td>45</td></tr>",
            "<tr><td>rgietz69</td><td>3</td><td>13</td><td>3</td><td>48</td></tr>",
            "<tr><td>kaujean6a</td><td>26</td><td>26</td><td>6</td><td>26</td></tr>",
            "<tr><td>kaujean6a</td><td>9</td><td>26</td><td>6</td><td>35</td></tr>",
            "<tr><td>kaujean6a</td><td>6</td><td>26</td><td>6</td><td>41</td></tr>",
            "<tr><td>nforty6b</td><td>22</td><td>22</td><td>8</td><td>22</td></tr>",
            "<tr><td>nforty6b</td><td>12</td><td>22</td><td>8</td><td>34</td></tr>",
            "<tr><td>nforty6b</td><td>8</td><td>22</td><td>8</td><td>42</td></tr>",
            "<tr><td>rkintish6c</td><td>0</td><td>0</td><td>7</td><td>0</td></tr>",
            "<tr><td>rkintish6c</td><td>26</td><td>0</td><td>7</td><td>26</td></tr>",
            "<tr><td>rkintish6c</td><td>27</td><td>0</td><td>7</td><td>53</td></tr>",
            "<tr><td>rkintish6c</td><td>6</td><td>0</td><td>7</td><td>59</td></tr>",
            "<tr><td>rkintish6c</td><td>7</td><td>0</td><td>7</td><td>66</td></tr>",
            "<tr><td>dharland6d</td><td>21</td><td>21</td><td>3</td><td>21</td></tr>",
            "<tr><td>dharland6d</td><td>8</td><td>21</td><td>3</td><td>29</td></tr>",
            "<tr><td>dharland6d</td><td>7</td><td>21</td><td>3</td><td>36</td></tr>",
            "<tr><td>dharland6d</td><td>3</td><td>21</td><td>3</td><td>39</td></tr>",
            "<tr><td>ctomaello6e</td><td>7</td><td>7</td><td>29</td><td>7</td></tr>",
            "<tr><td>ctomaello6e</td><td>5</td><td>7</td><td>29</td><td>12</td></tr>",
            "<tr><td>ctomaello6e</td><td>18</td><td>7</td><td>29</td><td>30</td></tr>",
            "<tr><td>ctomaello6e</td><td>26</td><td>7</td><td>29</td><td>56</td></tr>",
            "<tr><td>ctomaello6e</td><td>10</td><td>7</td><td>29</td><td>66</td></tr>",
            "<tr><td>ctomaello6e</td><td>29</td><td>7</td><td>29</td><td>95</td></tr>",
            "<tr><td>ndonovan6f</td><td>16</td><td>16</td><td>18</td><td>16</td></tr>",
            "<tr><td>ndonovan6f</td><td>17</td><td>16</td><td>18</td><td>33</td></tr>",
            "<tr><td>ndonovan6f</td><td>0</td><td>16</td><td>18</td><td>33</td></tr>",
            "<tr><td>ndonovan6f</td><td>2</td><td>16</td><td>18</td><td>35</td></tr>",
            "<tr><td>ndonovan6f</td><td>18</td><td>16</td><td>18</td><td>53</td></tr>",
            "<tr><td>rwoodus6g</td><td>11</td><td>11</td><td>7</td><td>11</td></tr>",
            "<tr><td>rwoodus6g</td><td>29</td><td>11</td><td>7</td><td>40</td></tr>",
            "<tr><td>rwoodus6g</td><td>25</td><td>11</td><td>7</td><td>65</td></tr>",
            "<tr><td>rwoodus6g</td><td>7</td><td>11</td><td>7</td><td>72</td></tr>",
            "<tr><td>bmarconi6h</td><td>32</td><td>32</td><td>5</td><td>32</td></tr>",
            "<tr><td>bmarconi6h</td><td>21</td><td>32</td><td>5</td><td>53</td></tr>",
            "<tr><td>bmarconi6h</td><td>5</td><td>32</td><td>5</td><td>58</td></tr>",
            "<tr><td>ctice6i</td><td>3</td><td>3</td><td>10</td><td>3</td></tr>",
            "<tr><td>ctice6i</td><td>24</td><td>3</td><td>10</td><td>27</td></tr>",
            "<tr><td>ctice6i</td><td>10</td><td>3</td><td>10</td><td>37</td></tr>",
            "<tr><td>hguidini6j</td><td>21</td><td>21</td><td>21</td><td>21</td></tr>",
            "<tr><td>fgoodhall6k</td><td>26</td><td>26</td><td>8</td><td>26</td></tr>",
            "<tr><td>fgoodhall6k</td><td>26</td><td>26</td><td>8</td><td>52</td></tr>",
            "<tr><td>fgoodhall6k</td><td>8</td><td>26</td><td>8</td><td>60</td></tr>",
            "<tr><td>fgoodhall6k</td><td>8</td><td>26</td><td>8</td><td>68</td></tr>",
            "<tr><td>nstorck6l</td><td>31</td><td>31</td><td>4</td><td>31</td></tr>",
            "<tr><td>nstorck6l</td><td>31</td><td>31</td><td>4</td><td>62</td></tr>",
            "<tr><td>nstorck6l</td><td>24</td><td>31</td><td>4</td><td>86</td></tr>",
            "<tr><td>nstorck6l</td><td>18</td><td>31</td><td>4</td><td>104</td></tr>",
            "<tr><td>nstorck6l</td><td>4</td><td>31</td><td>4</td><td>108</td></tr>",
            "<tr><td>rrentalll6n</td><td>3</td><td>3</td><td>24</td><td>3</td></tr>",
            "<tr><td>rrentalll6n</td><td>24</td><td>3</td><td>24</td><td>27</td></tr>",
            "<tr><td>rrentalll6n</td><td>24</td><td>3</td><td>24</td><td>51</td></tr>",
            "<tr><td>lmar6o</td><td>19</td><td>19</td><td>8</td><td>19</td></tr>",
            "<tr><td>lmar6o</td><td>2</td><td>19</td><td>8</td><td>21</td></tr>",
            "<tr><td>lmar6o</td><td>8</td><td>19</td><td>8</td><td>29</td></tr>",
            "<tr><td>csheryn6p</td><td>16</td><td>16</td><td>8</td><td>16</td></tr>",
            "<tr><td>csheryn6p</td><td>8</td><td>16</td><td>8</td><td>24</td></tr>",
            "<tr><td>rhaynes6q</td><td>20</td><td>20</td><td>20</td><td>20</td></tr>",
            "<tr><td>avolet6r</td><td>14</td><td>14</td><td>0</td><td>14</td></tr>",
            "<tr><td>avolet6r</td><td>29</td><td>14</td><td>0</td><td>43</td></tr>",
            "<tr><td>avolet6r</td><td>9</td><td>14</td><td>0</td><td>52</td></tr>",
            "<tr><td>avolet6r</td><td>0</td><td>14</td><td>0</td><td>52</td></tr>",
            "<tr><td>hmacmickan6s</td><td>29</td><td>29</td><td>5</td><td>29</td></tr>",
            "<tr><td>hmacmickan6s</td><td>5</td><td>29</td><td>5</td><td>34</td></tr>",
            "<tr><td>sriden6t</td><td>31</td><td>31</td><td>6</td><td>31</td></tr>",
            "<tr><td>sriden6t</td><td>1</td><td>31</td><td>6</td><td>32</td></tr>",
            "<tr><td>sriden6t</td><td>6</td><td>31</td><td>6</td><td>38</td></tr>",
            "<tr><td>fodowgaine6u</td><td>11</td><td>11</td><td>16</td><td>11</td></tr>",
            "<tr><td>fodowgaine6u</td><td>23</td><td>11</td><td>16</td><td>34</td></tr>",
            "<tr><td>fodowgaine6u</td><td>16</td><td>11</td><td>16</td><td>50</td></tr>",
            "<tr><td>rboustred6v</td><td>28</td><td>28</td><td>15</td><td>28</td></tr>",
            "<tr><td>rboustred6v</td><td>15</td><td>28</td><td>15</td><td>43</td></tr>",
            "<tr><td>kleafe6w</td><td>3</td><td>3</td><td>30</td><td>3</td></tr>",
            "<tr><td>kleafe6w</td><td>32</td><td>3</td><td>30</td><td>35</td></tr>",
            "<tr><td>kleafe6w</td><td>14</td><td>3</td><td>30</td><td>49</td></tr>",
            "<tr><td>kleafe6w</td><td>30</td><td>3</td><td>30</td><td>79</td></tr>",
            "<tr><td>yswaton6x</td><td>8</td><td>8</td><td>19</td><td>8</td></tr>",
            "<tr><td>yswaton6x</td><td>11</td><td>8</td><td>19</td><td>19</td></tr>",
            "<tr><td>yswaton6x</td><td>19</td><td>8</td><td>19</td><td>38</td></tr>",
            "<tr><td>cmccadden6y</td><td>33</td><td>33</td><td>8</td><td>33</td></tr>",
            "<tr><td>cmccadden6y</td><td>24</td><td>33</td><td>8</td><td>57</td></tr>",
            "<tr><td>cmccadden6y</td><td>3</td><td>33</td><td>8</td><td>60</td></tr>",
            "<tr><td>cmccadden6y</td><td>17</td><td>33</td><td>8</td><td>77</td></tr>",
            "<tr><td>cmccadden6y</td><td>8</td><td>33</td><td>8</td><td>85</td></tr>",
            "<tr><td>lcord6z</td><td>24</td><td>24</td><td>22</td><td>24</td></tr>",
            "<tr><td>lcord6z</td><td>22</td><td>24</td><td>22</td><td>46</td></tr>",
            "<tr><td>bcobbin70</td><td>31</td><td>31</td><td>18</td><td>31</td></tr>",
            "<tr><td>bcobbin70</td><td>1</td><td>31</td><td>18</td><td>32</td></tr>",
            "<tr><td>bcobbin70</td><td>18</td><td>31</td><td>18</td><td>50</td></tr>",
            "<tr><td>kshakelade71</td><td>9</td><td>9</td><td>9</td><td>9</td></tr>",
            "<tr><td>jspellessy72</td><td>6</td><td>6</td><td>6</td><td>6</td></tr>",
            "<tr><td>dbowcock73</td><td>12</td><td>12</td><td>12</td><td>12</td></tr>",
            "<tr><td>vbeamiss74</td><td>25</td><td>25</td><td>1</td><td>25</td></tr>",
            "<tr><td>vbeamiss74</td><td>2</td><td>25</td><td>1</td><td>27</td></tr>",
            "<tr><td>vbeamiss74</td><td>1</td><td>25</td><td>1</td><td>28</td></tr>",
            "<tr><td>rdodimead75</td><td>23</td><td>23</td><td>26</td><td>23</td></tr>",
            "<tr><td>rdodimead75</td><td>16</td><td>23</td><td>26</td><td>39</td></tr>",
            "<tr><td>rdodimead75</td><td>26</td><td>23</td><td>26</td><td>65</td></tr>",
            "<tr><td>chowley76</td><td>7</td><td>7</td><td>4</td><td>7</td></tr>",
            "<tr><td>chowley76</td><td>4</td><td>7</td><td>4</td><td>11</td></tr>",
            "<tr><td>lbrabbs77</td><td>28</td><td>28</td><td>30</td><td>28</td></tr>",
            "<tr><td>lbrabbs77</td><td>30</td><td>28</td><td>30</td><td>58</td></tr>",
            "<tr><td>lswinfen78</td><td>21</td><td>21</td><td>21</td><td>21</td></tr>",
            "<tr><td>capple79</td><td>7</td><td>7</td><td>27</td><td>7</td></tr>",
            "<tr><td>capple79</td><td>1</td><td>7</td><td>27</td><td>8</td></tr>",
            "<tr><td>capple79</td><td>27</td><td>7</td><td>27</td><td>35</td></tr>",
            "<tr><td>smoorfield7a</td><td>31</td><td>31</td><td>22</td><td>31</td></tr>",
            "<tr><td>smoorfield7a</td><td>8</td><td>31</td><td>22</td><td>39</td></tr>",
            "<tr><td>smoorfield7a</td><td>32</td><td>31</td><td>22</td><td>71</td></tr>",
            "<tr><td>smoorfield7a</td><td>22</td><td>31</td><td>22</td><td>93</td></tr>",
            "<tr><td>hmcgarrie7b</td><td>17</td><td>17</td><td>29</td><td>17</td></tr>",
            "<tr><td>hmcgarrie7b</td><td>18</td><td>17</td><td>29</td><td>35</td></tr>",
            "<tr><td>hmcgarrie7b</td><td>9</td><td>17</td><td>29</td><td>44</td></tr>",
            "<tr><td>hmcgarrie7b</td><td>28</td><td>17</td><td>29</td><td>72</td></tr>",
            "<tr><td>hmcgarrie7b</td><td>32</td><td>17</td><td>29</td><td>104</td></tr>",
            "<tr><td>hmcgarrie7b</td><td>29</td><td>17</td><td>29</td><td>133</td></tr>",
            "<tr><td>hwiper7c</td><td>13</td><td>13</td><td>18</td><td>13</td></tr>",
            "<tr><td>hwiper7c</td><td>18</td><td>13</td><td>18</td><td>31</td></tr>",
            "<tr><td>yweymont7d</td><td>22</td><td>22</td><td>3</td><td>22</td></tr>",
            "<tr><td>yweymont7d</td><td>17</td><td>22</td><td>3</td><td>39</td></tr>",
            "<tr><td>yweymont7d</td><td>3</td><td>22</td><td>3</td><td>42</td></tr>",
            "<tr><td>ptregiddo7e</td><td>26</td><td>26</td><td>0</td><td>26</td></tr>",
            "<tr><td>ptregiddo7e</td><td>0</td><td>26</td><td>0</td><td>26</td></tr>",
            "<tr><td>vfernier7f</td><td>6</td><td>6</td><td>18</td><td>6</td></tr>",
            "<tr><td>vfernier7f</td><td>25</td><td>6</td><td>18</td><td>31</td></tr>",
            "<tr><td>vfernier7f</td><td>18</td><td>6</td><td>18</td><td>49</td></tr>",
            "<tr><td>tivanchov7g</td><td>15</td><td>15</td><td>33</td><td>15</td></tr>",
            "<tr><td>tivanchov7g</td><td>11</td><td>15</td><td>33</td><td>26</td></tr>",
            "<tr><td>tivanchov7g</td><td>33</td><td>15</td><td>33</td><td>59</td></tr>",
            "<tr><td>ccamillo7h</td><td>0</td><td>0</td><td>25</td><td>0</td></tr>",
            "<tr><td>ccamillo7h</td><td>3</td><td>0</td><td>25</td><td>3</td></tr>",
            "<tr><td>ccamillo7h</td><td>25</td><td>0</td><td>25</td><td>28</td></tr>",
            "<tr><td>cbrotherton7i</td><td>29</td><td>29</td><td>7</td><td>29</td></tr>",
            "<tr><td>cbrotherton7i</td><td>10</td><td>29</td><td>7</td><td>39</td></tr>",
            "<tr><td>cbrotherton7i</td><td>15</td><td>29</td><td>7</td><td>54</td></tr>",
            "<tr><td>cbrotherton7i</td><td>2</td><td>29</td><td>7</td><td>56</td></tr>",
            "<tr><td>cbrotherton7i</td><td>7</td><td>29</td><td>7</td><td>63</td></tr>",
            "<tr><td>gclawley7j</td><td>12</td><td>12</td><td>31</td><td>12</td></tr>",
            "<tr><td>gclawley7j</td><td>31</td><td>12</td><td>31</td><td>43</td></tr>",
            "<tr><td>aridehalgh7l</td><td>19</td><td>19</td><td>31</td><td>19</td></tr>",
            "<tr><td>aridehalgh7l</td><td>31</td><td>19</td><td>31</td><td>50</td></tr>",
            "<tr><td>mmoggie7m</td><td>9</td><td>9</td><td>24</td><td>9</td></tr>",
            "<tr><td>mmoggie7m</td><td>8</td><td>9</td><td>24</td><td>17</td></tr>",
            "<tr><td>mmoggie7m</td><td>29</td><td>9</td><td>24</td><td>46</td></tr>",
            "<tr><td>mmoggie7m</td><td>32</td><td>9</td><td>24</td><td>78</td></tr>",
            "<tr><td>mmoggie7m</td><td>24</td><td>9</td><td>24</td><td>102</td></tr>",
            "<tr><td>pstiller7n</td><td>7</td><td>7</td><td>26</td><td>7</td></tr>",
            "<tr><td>pstiller7n</td><td>26</td><td>7</td><td>26</td><td>33</td></tr>",
            "<tr><td>arichings7o</td><td>18</td><td>18</td><td>4</td><td>18</td></tr>",
            "<tr><td>arichings7o</td><td>14</td><td>18</td><td>4</td><td>32</td></tr>",
            "<tr><td>arichings7o</td><td>7</td><td>18</td><td>4</td><td>39</td></tr>",
            "<tr><td>arichings7o</td><td>4</td><td>18</td><td>4</td><td>43</td></tr>",
            "<tr><td>frootes7p</td><td>13</td><td>13</td><td>14</td><td>13</td></tr>",
            "<tr><td>frootes7p</td><td>15</td><td>13</td><td>14</td><td>28</td></tr>",
            "<tr><td>frootes7p</td><td>13</td><td>13</td><td>14</td><td>41</td></tr>",
            "<tr><td>frootes7p</td><td>14</td><td>13</td><td>14</td><td>55</td></tr>",
            "<tr><td>krusse7q</td><td>26</td><td>26</td><td>16</td><td>26</td></tr>",
            "<tr><td>krusse7q</td><td>13</td><td>26</td><td>16</td><td>39</td></tr>",
            "<tr><td>krusse7q</td><td>16</td><td>26</td><td>16</td><td>55</td></tr>",
            "<tr><td>kbanbrigge7r</td><td>29</td><td>29</td><td>22</td><td>29</td></tr>",
            "<tr><td>kbanbrigge7r</td><td>21</td><td>29</td><td>22</td><td>50</td></tr>",
            "<tr><td>kbanbrigge7r</td><td>22</td><td>29</td><td>22</td><td>72</td></tr>",
            "<tr><td>cstonebanks7s</td><td>4</td><td>4</td><td>32</td><td>4</td></tr>",
            "<tr><td>cstonebanks7s</td><td>29</td><td>4</td><td>32</td><td>33</td></tr>",
            "<tr><td>cstonebanks7s</td><td>7</td><td>4</td><td>32</td><td>40</td></tr>",
            "<tr><td>cstonebanks7s</td><td>5</td><td>4</td><td>32</td><td>45</td></tr>",
            "<tr><td>cstonebanks7s</td><td>23</td><td>4</td><td>32</td><td>68</td></tr>",
            "<tr><td>cstonebanks7s</td><td>16</td><td>4</td><td>32</td><td>84</td></tr>",
            "<tr><td>cstonebanks7s</td><td>14</td><td>4</td><td>32</td><td>98</td></tr>",
            "<tr><td>cstonebanks7s</td><td>32</td><td>4</td><td>32</td><td>130</td></tr>",
            "<tr><td>sswiggs7t</td><td>29</td><td>29</td><td>9</td><td>29</td></tr>",
            "<tr><td>sswiggs7t</td><td>9</td><td>29</td><td>9</td><td>38</td></tr>",
            "<tr><td>fjindrak7u</td><td>9</td><td>9</td><td>27</td><td>9</td></tr>",
            "<tr><td>fjindrak7u</td><td>1</td><td>9</td><td>27</td><td>10</td></tr>",
            "<tr><td>fjindrak7u</td><td>27</td><td>9</td><td>27</td><td>37</td></tr>",
            "<tr><td>ccowle7v</td><td>22</td><td>22</td><td>22</td><td>22</td></tr>",
            "<tr><td>ajimmison7w</td><td>32</td><td>32</td><td>14</td><td>32</td></tr>",
            "<tr><td>ajimmison7w</td><td>14</td><td>32</td><td>14</td><td>46</td></tr>",
            "<tr><td>klennard7x</td><td>31</td><td>31</td><td>31</td><td>31</td></tr>",
            "<tr><td>imarrison7y</td><td>1</td><td>1</td><td>1</td><td>1</td></tr>",
            "<tr><td>imarrison7y</td><td>1</td><td>1</td><td>1</td><td>2</td></tr>",
            "<tr><td>rcavee7z</td><td>26</td><td>26</td><td>4</td><td>26</td></tr>",
            "<tr><td>rcavee7z</td><td>4</td><td>26</td><td>4</td><td>30</td></tr>",
            "<tr><td>wocarney80</td><td>30</td><td>30</td><td>19</td><td>30</td></tr>",
            "<tr><td>wocarney80</td><td>19</td><td>30</td><td>19</td><td>49</td></tr>",
            "<tr><td>mevenett81</td><td>6</td><td>6</td><td>6</td><td>6</td></tr>",
            "<tr><td>mcastelow82</td><td>26</td><td>26</td><td>19</td><td>26</td></tr>",
            "<tr><td>mcastelow82</td><td>26</td><td>26</td><td>19</td><td>52</td></tr>",
            "<tr><td>mcastelow82</td><td>26</td><td>26</td><td>19</td><td>78</td></tr>",
            "<tr><td>mcastelow82</td><td>19</td><td>26</td><td>19</td><td>97</td></tr>",
            "<tr><td>jstrotton83</td><td>19</td><td>19</td><td>13</td><td>19</td></tr>",
            "<tr><td>jstrotton83</td><td>20</td><td>19</td><td>13</td><td>39</td></tr>",
            "<tr><td>jstrotton83</td><td>13</td><td>19</td><td>13</td><td>52</td></tr>",
            "<tr><td>dpeteri84</td><td>27</td><td>27</td><td>32</td><td>27</td></tr>",
            "<tr><td>dpeteri84</td><td>10</td><td>27</td><td>32</td><td>37</td></tr>",
            "<tr><td>dpeteri84</td><td>7</td><td>27</td><td>32</td><td>44</td></tr>",
            "<tr><td>dpeteri84</td><td>32</td><td>27</td><td>32</td><td>76</td></tr>",
            "<tr><td>pissacof85</td><td>12</td><td>12</td><td>23</td><td>12</td></tr>",
            "<tr><td>pissacof85</td><td>23</td><td>12</td><td>23</td><td>35</td></tr>",
            "<tr><td>glongland86</td><td>6</td><td>6</td><td>33</td><td>6</td></tr>",
            "<tr><td>glongland86</td><td>28</td><td>6</td><td>33</td><td>34</td></tr>",
            "<tr><td>glongland86</td><td>28</td><td>6</td><td>33</td><td>62</td></tr>",
            "<tr><td>glongland86</td><td>33</td><td>6</td><td>33</td><td>95</td></tr>",
            "<tr><td>solivas87</td><td>6</td><td>6</td><td>27</td><td>6</td></tr>",
            "<tr><td>solivas87</td><td>27</td><td>6</td><td>27</td><td>33</td></tr>",
            "<tr><td>ccolt88</td><td>20</td><td>20</td><td>29</td><td>20</td></tr>",
            "<tr><td>ccolt88</td><td>1</td><td>20</td><td>29</td><td>21</td></tr>",
            "<tr><td>ccolt88</td><td>29</td><td>20</td><td>29</td><td>50</td></tr>",
            "<tr><td>dferne89</td><td>25</td><td>25</td><td>28</td><td>25</td></tr>",
            "<tr><td>dferne89</td><td>30</td><td>25</td><td>28</td><td>55</td></tr>",
            "<tr><td>dferne89</td><td>28</td><td>25</td><td>28</td><td>83</td></tr>",
            "<tr><td>adicker8a</td><td>22</td><td>22</td><td>28</td><td>22</td></tr>",
            "<tr><td>adicker8a</td><td>12</td><td>22</td><td>28</td><td>34</td></tr>",
            "<tr><td>adicker8a</td><td>12</td><td>22</td><td>28</td><td>46</td></tr>",
            "<tr><td>adicker8a</td><td>28</td><td>22</td><td>28</td><td>74</td></tr>",
            "<tr><td>adicker8a</td><td>28</td><td>22</td><td>28</td><td>102</td></tr>",
            "<tr><td>rcuddon8b</td><td>18</td><td>18</td><td>30</td><td>18</td></tr>",
            "<tr><td>rcuddon8b</td><td>26</td><td>18</td><td>30</td><td>44</td></tr>",
            "<tr><td>rcuddon8b</td><td>7</td><td>18</td><td>30</td><td>51</td></tr>",
            "<tr><td>rcuddon8b</td><td>30</td><td>18</td><td>30</td><td>81</td></tr>",
            "<tr><td>sflorentine8c</td><td>19</td><td>19</td><td>19</td><td>19</td></tr>",
            "<tr><td>egerold8d</td><td>12</td><td>12</td><td>19</td><td>12</td></tr>",
            "<tr><td>egerold8d</td><td>8</td><td>12</td><td>19</td><td>20</td></tr>",
            "<tr><td>egerold8d</td><td>5</td><td>12</td><td>19</td><td>25</td></tr>",
            "<tr><td>egerold8d</td><td>5</td><td>12</td><td>19</td><td>30</td></tr>",
            "<tr><td>egerold8d</td><td>19</td><td>12</td><td>19</td><td>49</td></tr>",
            "<tr><td>bpatinkin8f</td><td>23</td><td>23</td><td>20</td><td>23</td></tr>",
            "<tr><td>bpatinkin8f</td><td>29</td><td>23</td><td>20</td><td>52</td></tr>",
            "<tr><td>bpatinkin8f</td><td>20</td><td>23</td><td>20</td><td>72</td></tr>",
            "<tr><td>slogsdale8g</td><td>30</td><td>30</td><td>7</td><td>30</td></tr>",
            "<tr><td>slogsdale8g</td><td>7</td><td>30</td><td>7</td><td>37</td></tr>",
            "<tr><td>ljenne8h</td><td>24</td><td>24</td><td>28</td><td>24</td></tr>",
            "<tr><td>ljenne8h</td><td>2</td><td>24</td><td>28</td><td>26</td></tr>",
            "<tr><td>ljenne8h</td><td>28</td><td>24</td><td>28</td><td>54</td></tr>",
            "<tr><td>lroddick8i</td><td>18</td><td>18</td><td>30</td><td>18</td></tr>",
            "<tr><td>lroddick8i</td><td>5</td><td>18</td><td>30</td><td>23</td></tr>",
            "<tr><td>lroddick8i</td><td>30</td><td>18</td><td>30</td><td>53</td></tr>",
            "<tr><td>ihambling8j</td><td>0</td><td>0</td><td>26</td><td>0</td></tr>",
            "<tr><td>ihambling8j</td><td>8</td><td>0</td><td>26</td><td>8</td></tr>",
            "<tr><td>ihambling8j</td><td>26</td><td>0</td><td>26</td><td>34</td></tr>",
            "<tr><td>pnice8k</td><td>18</td><td>18</td><td>2</td><td>18</td></tr>",
            "<tr><td>pnice8k</td><td>2</td><td>18</td><td>2</td><td>20</td></tr>",
            "<tr><td>anoblett8l</td><td>9</td><td>9</td><td>8</td><td>9</td></tr>",
            "<tr><td>anoblett8l</td><td>9</td><td>9</td><td>8</td><td>18</td></tr>",
            "<tr><td>anoblett8l</td><td>8</td><td>9</td><td>8</td><td>26</td></tr>",
            "<tr><td>aodogherty8m</td><td>13</td><td>13</td><td>18</td><td>13</td></tr>",
            "<tr><td>aodogherty8m</td><td>18</td><td>13</td><td>18</td><td>31</td></tr>",
            "<tr><td>jkinner8n</td><td>10</td><td>10</td><td>13</td><td>10</td></tr>",
            "<tr><td>jkinner8n</td><td>30</td><td>10</td><td>13</td><td>40</td></tr>",
            "<tr><td>jkinner8n</td><td>0</td><td>10</td><td>13</td><td>40</td></tr>",
            "<tr><td>jkinner8n</td><td>13</td><td>10</td><td>13</td><td>53</td></tr>",
            "<tr><td>jchene8o</td><td>9</td><td>9</td><td>0</td><td>9</td></tr>",
            "<tr><td>jchene8o</td><td>0</td><td>9</td><td>0</td><td>9</td></tr>",
            "<tr><td>bbettenson8p</td><td>27</td><td>27</td><td>19</td><td>27</td></tr>",
            "<tr><td>bbettenson8p</td><td>12</td><td>27</td><td>19</td><td>39</td></tr>",
            "<tr><td>bbettenson8p</td><td>19</td><td>27</td><td>19</td><td>58</td></tr>",
            "<tr><td>adungay8q</td><td>11</td><td>11</td><td>11</td><td>11</td></tr>",
            "<tr><td>umillyard8r</td><td>11</td><td>11</td><td>15</td><td>11</td></tr>",
            "<tr><td>umillyard8r</td><td>19</td><td>11</td><td>15</td><td>30</td></tr>",
            "<tr><td>umillyard8r</td><td>11</td><td>11</td><td>15</td><td>41</td></tr>",
            "<tr><td>umillyard8r</td><td>21</td><td>11</td><td>15</td><td>62</td></tr>",
            "<tr><td>umillyard8r</td><td>15</td><td>11</td><td>15</td><td>77</td></tr>",
            "<tr><td>cgreeves8s</td><td>7</td><td>7</td><td>7</td><td>7</td></tr>",
            "<tr><td>smillan8t</td><td>29</td><td>29</td><td>0</td><td>29</td></tr>",
            "<tr><td>smillan8t</td><td>2</td><td>29</td><td>0</td><td>31</td></tr>",
            "<tr><td>smillan8t</td><td>31</td><td>29</td><td>0</td><td>62</td></tr>",
            "<tr><td>smillan8t</td><td>0</td><td>29</td><td>0</td><td>62</td></tr>",
            "<tr><td>smanklow8u</td><td>22</td><td>22</td><td>11</td><td>22</td></tr>",
            "<tr><td>smanklow8u</td><td>31</td><td>22</td><td>11</td><td>53</td></tr>",
            "<tr><td>smanklow8u</td><td>5</td><td>22</td><td>11</td><td>58</td></tr>",
            "<tr><td>smanklow8u</td><td>30</td><td>22</td><td>11</td><td>88</td></tr>",
            "<tr><td>smanklow8u</td><td>11</td><td>22</td><td>11</td><td>99</td></tr>",
            "<tr><td>cle8v</td><td>23</td><td>23</td><td>15</td><td>23</td></tr>",
            "<tr><td>cle8v</td><td>1</td><td>23</td><td>15</td><td>24</td></tr>",
            "<tr><td>cle8v</td><td>26</td><td>23</td><td>15</td><td>50</td></tr>",
            "<tr><td>cle8v</td><td>15</td><td>23</td><td>15</td><td>65</td></tr>",
            "<tr><td>moliveira8w</td><td>17</td><td>17</td><td>17</td><td>17</td></tr>",
            "<tr><td>keuler8x</td><td>0</td><td>0</td><td>0</td><td>0</td></tr>",
            "<tr><td>aforde8y</td><td>21</td><td>21</td><td>15</td><td>21</td></tr>",
            "<tr><td>aforde8y</td><td>18</td><td>21</td><td>15</td><td>39</td></tr>",
            "<tr><td>aforde8y</td><td>24</td><td>21</td><td>15</td><td>63</td></tr>",
            "<tr><td>aforde8y</td><td>12</td><td>21</td><td>15</td><td>75</td></tr>",
            "<tr><td>aforde8y</td><td>25</td><td>21</td><td>15</td><td>100</td></tr>",
            "<tr><td>aforde8y</td><td>13</td><td>21</td><td>15</td><td>113</td></tr>",
            "<tr><td>aforde8y</td><td>15</td><td>21</td><td>15</td><td>128</td></tr>",
            "<tr><td>ljaffrey8z</td><td>2</td><td>2</td><td>15</td><td>2</td></tr>",
            "<tr><td>ljaffrey8z</td><td>15</td><td>2</td><td>15</td><td>17</td></tr>",
            "<tr><td>eparkman91</td><td>9</td><td>9</td><td>19</td><td>9</td></tr>",
            "<tr><td>eparkman91</td><td>19</td><td>9</td><td>19</td><td>28</td></tr>",
            "<tr><td>rvinden92</td><td>6</td><td>6</td><td>9</td><td>6</td></tr>",
            "<tr><td>rvinden92</td><td>9</td><td>6</td><td>9</td><td>15</td></tr>",
            "<tr><td>sdopson93</td><td>15</td><td>15</td><td>13</td><td>15</td></tr>",
            "<tr><td>sdopson93</td><td>13</td><td>15</td><td>13</td><td>28</td></tr>",
            "<tr><td>hcowsby94</td><td>8</td><td>8</td><td>8</td><td>8</td></tr>",
            "<tr><td>fdhooge95</td><td>29</td><td>29</td><td>5</td><td>29</td></tr>",
            "<tr><td>fdhooge95</td><td>30</td><td>29</td><td>5</td><td>64</td></tr>",
            "<tr><td>fdhooge95</td><td>5</td><td>29</td><td>5</td><td>64</td></tr>",
            "<tr><td>cadlam96</td><td>13</td><td>13</td><td>13</td><td>13</td></tr>",
            "<tr><td>cadlam96</td><td>26</td><td>13</td><td>13</td><td>39</td></tr>",
            "<tr><td>cadlam96</td><td>13</td><td>13</td><td>13</td><td>52</td></tr>",
            "<tr><td>sscrowston97</td><td>19</td><td>19</td><td>19</td><td>19</td></tr>",
            "<tr><td>dmulhall98</td><td>19</td><td>19</td><td>0</td><td>19</td></tr>",
            "<tr><td>dmulhall98</td><td>14</td><td>19</td><td>0</td><td>33</td></tr>",
            "<tr><td>dmulhall98</td><td>0</td><td>19</td><td>0</td><td>33</td></tr>",
            "<tr><td>rbleas99</td><td>30</td><td>30</td><td>31</td><td>30</td></tr>",
            "<tr><td>rbleas99</td><td>7</td><td>30</td><td>31</td><td>37</td></tr>",
            "<tr><td>rbleas99</td><td>31</td><td>30</td><td>31</td><td>68</td></tr>",
            "<tr><td>dbolle9a</td><td>18</td><td>18</td><td>17</td><td>18</td></tr>",
            "<tr><td>dbolle9a</td><td>20</td><td>18</td><td>17</td><td>56</td></tr>",
            "<tr><td>dbolle9a</td><td>18</td><td>18</td><td>17</td><td>56</td></tr>",
            "<tr><td>dbolle9a</td><td>23</td><td>18</td><td>17</td><td>79</td></tr>",
            "<tr><td>dbolle9a</td><td>18</td><td>18</td><td>17</td><td>97</td></tr>",
            "<tr><td>dbolle9a</td><td>17</td><td>18</td><td>17</td><td>114</td></tr>",
            "<tr><td>dsedge9b</td><td>28</td><td>28</td><td>3</td><td>28</td></tr>",
            "<tr><td>dsedge9b</td><td>5</td><td>28</td><td>3</td><td>33</td></tr>",
            "<tr><td>dsedge9b</td><td>3</td><td>28</td><td>3</td><td>36</td></tr>",
            "<tr><td>lburchfield9d</td><td>18</td><td>18</td><td>4</td><td>18</td></tr>",
            "<tr><td>lburchfield9d</td><td>18</td><td>18</td><td>4</td><td>36</td></tr>",
            "<tr><td>lburchfield9d</td><td>17</td><td>18</td><td>4</td><td>53</td></tr>",
            "<tr><td>lburchfield9d</td><td>4</td><td>18</td><td>4</td><td>57</td></tr>",
            "<tr><td>skuschek9e</td><td>28</td><td>28</td><td>5</td><td>28</td></tr>",
            "<tr><td>skuschek9e</td><td>8</td><td>28</td><td>5</td><td>36</td></tr>",
            "<tr><td>skuschek9e</td><td>5</td><td>28</td><td>5</td><td>41</td></tr>",
            "<tr><td>mlinford9f</td><td>17</td><td>17</td><td>26</td><td>17</td></tr>",
            "<tr><td>mlinford9f</td><td>32</td><td>17</td><td>26</td><td>49</td></tr>",
            "<tr><td>mlinford9f</td><td>26</td><td>17</td><td>26</td><td>75</td></tr>",
            "</table>"
        ]
    }
}
],
            "execution_count": 23
        },
        {
            "cell_type": "code",
            "source": [
                "SELECT * FROM ClubCoachDim"
            ],
            "metadata": {
                "azdata_cell_guid": "580fce57-3be7-44ab-a3ee-4c9a080828ed",
                "language": "sql"
            },
            "outputs": [
                {
                    "output_type": "display_data",
                    "data": {
                        "text/html": "(191 rows affected)"
                    },
                    "metadata": {}
                },
                {
                    "output_type": "display_data",
                    "data": {
                        "text/html": "Total execution time: 00:00:00.038"
                    },
                    "metadata": {}
                },
                {
                    "output_type": "execute_result",
                    "metadata": {},
                    "execution_count": 11,
                    "data": {
                        "application/vnd.dataresource+json": {
                            "schema": {
                                "fields": [
                                    {
                                        "name": "ClubCoachID"
                                    },
                                    {
                                        "name": "ClubID"
                                    },
                                    {
                                        "name": "CoachID"
                                    },
                                    {
                                        "name": "CoachPosition"
                                    },
                                    {
                                        "name": "CoachStartDate"
                                    },
                                    {
                                        "name": "CoachEndDate"
                                    }
                                ]
                            },
                            "data": [
                                {
                                    "ClubCoachID": "1",
                                    "ClubID": "1",
                                    "CoachID": "34",
                                    "CoachPosition": "head coach",
                                    "CoachStartDate": "2015-05-25",
                                    "CoachEndDate": "NULL"
                                },
                                {
                                    "ClubCoachID": "3",
                                    "ClubID": "65",
                                    "CoachID": "128",
                                    "CoachPosition": "strategic coach",
                                    "CoachStartDate": "2020-07-01",
                                    "CoachEndDate": "NULL"
                                },
                                {
                                    "ClubCoachID": "4",
                                    "ClubID": "23",
                                    "CoachID": "110",
                                    "CoachPosition": "sports psychologist",
                                    "CoachStartDate": "2015-06-04",
                                    "CoachEndDate": "NULL"
                                },
                                {
                                    "ClubCoachID": "5",
                                    "ClubID": "79",
                                    "CoachID": "75",
                                    "CoachPosition": "head coach",
                                    "CoachStartDate": "2018-04-29",
                                    "CoachEndDate": "NULL"
                                },
                                {
                                    "ClubCoachID": "6",
                                    "ClubID": "78",
                                    "CoachID": "164",
                                    "CoachPosition": "draft coach",
                                    "CoachStartDate": "2019-02-06",
                                    "CoachEndDate": "NULL"
                                },
                                {
                                    "ClubCoachID": "7",
                                    "ClubID": "77",
                                    "CoachID": "7",
                                    "CoachPosition": "strategic coach",
                                    "CoachStartDate": "2014-09-01",
                                    "CoachEndDate": "NULL"
                                },
                                {
                                    "ClubCoachID": "8",
                                    "ClubID": "40",
                                    "CoachID": "37",
                                    "CoachPosition": "sports psychologist",
                                    "CoachStartDate": "2018-04-11",
                                    "CoachEndDate": "NULL"
                                },
                                {
                                    "ClubCoachID": "9",
                                    "ClubID": "76",
                                    "CoachID": "50",
                                    "CoachPosition": "head coach",
                                    "CoachStartDate": "2015-07-02",
                                    "CoachEndDate": "NULL"
                                },
                                {
                                    "ClubCoachID": "10",
                                    "ClubID": "49",
                                    "CoachID": "110",
                                    "CoachPosition": "draft coach",
                                    "CoachStartDate": "2014-10-07",
                                    "CoachEndDate": "NULL"
                                },
                                {
                                    "ClubCoachID": "11",
                                    "ClubID": "65",
                                    "CoachID": "28",
                                    "CoachPosition": "strategic coach",
                                    "CoachStartDate": "2017-04-26",
                                    "CoachEndDate": "NULL"
                                },
                                {
                                    "ClubCoachID": "13",
                                    "ClubID": "16",
                                    "CoachID": "77",
                                    "CoachPosition": "head coach",
                                    "CoachStartDate": "2019-06-30",
                                    "CoachEndDate": "NULL"
                                },
                                {
                                    "ClubCoachID": "14",
                                    "ClubID": "65",
                                    "CoachID": "37",
                                    "CoachPosition": "draft coach",
                                    "CoachStartDate": "2018-10-30",
                                    "CoachEndDate": "NULL"
                                },
                                {
                                    "ClubCoachID": "15",
                                    "ClubID": "58",
                                    "CoachID": "163",
                                    "CoachPosition": "strategic coach",
                                    "CoachStartDate": "2015-06-08",
                                    "CoachEndDate": "NULL"
                                },
                                {
                                    "ClubCoachID": "16",
                                    "ClubID": "24",
                                    "CoachID": "7",
                                    "CoachPosition": "sports psychologist",
                                    "CoachStartDate": "2014-11-28",
                                    "CoachEndDate": "NULL"
                                },
                                {
                                    "ClubCoachID": "17",
                                    "ClubID": "81",
                                    "CoachID": "49",
                                    "CoachPosition": "head coach",
                                    "CoachStartDate": "2018-12-12",
                                    "CoachEndDate": "NULL"
                                },
                                {
                                    "ClubCoachID": "18",
                                    "ClubID": "43",
                                    "CoachID": "10",
                                    "CoachPosition": "draft coach",
                                    "CoachStartDate": "2016-01-13",
                                    "CoachEndDate": "NULL"
                                },
                                {
                                    "ClubCoachID": "19",
                                    "ClubID": "3",
                                    "CoachID": "43",
                                    "CoachPosition": "strategic coach",
                                    "CoachStartDate": "2019-09-17",
                                    "CoachEndDate": "NULL"
                                },
                                {
                                    "ClubCoachID": "20",
                                    "ClubID": "54",
                                    "CoachID": "168",
                                    "CoachPosition": "sports psychologist",
                                    "CoachStartDate": "2016-02-24",
                                    "CoachEndDate": "NULL"
                                },
                                {
                                    "ClubCoachID": "21",
                                    "ClubID": "60",
                                    "CoachID": "53",
                                    "CoachPosition": "head coach",
                                    "CoachStartDate": "2019-11-09",
                                    "CoachEndDate": "NULL"
                                },
                                {
                                    "ClubCoachID": "22",
                                    "ClubID": "55",
                                    "CoachID": "67",
                                    "CoachPosition": "draft coach",
                                    "CoachStartDate": "2016-11-21",
                                    "CoachEndDate": "NULL"
                                },
                                {
                                    "ClubCoachID": "23",
                                    "ClubID": "6",
                                    "CoachID": "36",
                                    "CoachPosition": "strategic coach",
                                    "CoachStartDate": "2014-07-30",
                                    "CoachEndDate": "NULL"
                                },
                                {
                                    "ClubCoachID": "24",
                                    "ClubID": "66",
                                    "CoachID": "66",
                                    "CoachPosition": "sports psychologist",
                                    "CoachStartDate": "2020-01-29",
                                    "CoachEndDate": "NULL"
                                },
                                {
                                    "ClubCoachID": "25",
                                    "ClubID": "55",
                                    "CoachID": "52",
                                    "CoachPosition": "head coach",
                                    "CoachStartDate": "2017-11-27",
                                    "CoachEndDate": "NULL"
                                },
                                {
                                    "ClubCoachID": "26",
                                    "ClubID": "41",
                                    "CoachID": "26",
                                    "CoachPosition": "draft coach",
                                    "CoachStartDate": "2014-11-26",
                                    "CoachEndDate": "NULL"
                                },
                                {
                                    "ClubCoachID": "27",
                                    "ClubID": "38",
                                    "CoachID": "78",
                                    "CoachPosition": "strategic coach",
                                    "CoachStartDate": "2015-12-31",
                                    "CoachEndDate": "NULL"
                                },
                                {
                                    "ClubCoachID": "28",
                                    "ClubID": "67",
                                    "CoachID": "41",
                                    "CoachPosition": "sports psychologist",
                                    "CoachStartDate": "2015-03-26",
                                    "CoachEndDate": "NULL"
                                },
                                {
                                    "ClubCoachID": "30",
                                    "ClubID": "63",
                                    "CoachID": "89",
                                    "CoachPosition": "draft coach",
                                    "CoachStartDate": "2019-04-28",
                                    "CoachEndDate": "NULL"
                                },
                                {
                                    "ClubCoachID": "31",
                                    "ClubID": "16",
                                    "CoachID": "13",
                                    "CoachPosition": "strategic coach",
                                    "CoachStartDate": "2015-11-08",
                                    "CoachEndDate": "NULL"
                                },
                                {
                                    "ClubCoachID": "32",
                                    "ClubID": "12",
                                    "CoachID": "131",
                                    "CoachPosition": "sports psychologist",
                                    "CoachStartDate": "2016-08-14",
                                    "CoachEndDate": "NULL"
                                },
                                {
                                    "ClubCoachID": "34",
                                    "ClubID": "81",
                                    "CoachID": "87",
                                    "CoachPosition": "draft coach",
                                    "CoachStartDate": "2017-07-10",
                                    "CoachEndDate": "NULL"
                                },
                                {
                                    "ClubCoachID": "35",
                                    "ClubID": "65",
                                    "CoachID": "73",
                                    "CoachPosition": "strategic coach",
                                    "CoachStartDate": "2017-09-20",
                                    "CoachEndDate": "NULL"
                                },
                                {
                                    "ClubCoachID": "36",
                                    "ClubID": "6",
                                    "CoachID": "56",
                                    "CoachPosition": "sports psychologist",
                                    "CoachStartDate": "2018-04-21",
                                    "CoachEndDate": "NULL"
                                },
                                {
                                    "ClubCoachID": "37",
                                    "ClubID": "16",
                                    "CoachID": "22",
                                    "CoachPosition": "head coach",
                                    "CoachStartDate": "2015-09-13",
                                    "CoachEndDate": "NULL"
                                },
                                {
                                    "ClubCoachID": "38",
                                    "ClubID": "49",
                                    "CoachID": "5",
                                    "CoachPosition": "draft coach",
                                    "CoachStartDate": "2019-03-30",
                                    "CoachEndDate": "NULL"
                                },
                                {
                                    "ClubCoachID": "40",
                                    "ClubID": "56",
                                    "CoachID": "118",
                                    "CoachPosition": "sports psychologist",
                                    "CoachStartDate": "2016-05-07",
                                    "CoachEndDate": "NULL"
                                },
                                {
                                    "ClubCoachID": "43",
                                    "ClubID": "20",
                                    "CoachID": "56",
                                    "CoachPosition": "strategic coach",
                                    "CoachStartDate": "2015-02-12",
                                    "CoachEndDate": "NULL"
                                },
                                {
                                    "ClubCoachID": "44",
                                    "ClubID": "5",
                                    "CoachID": "113",
                                    "CoachPosition": "sports psychologist",
                                    "CoachStartDate": "2019-12-09",
                                    "CoachEndDate": "NULL"
                                },
                                {
                                    "ClubCoachID": "45",
                                    "ClubID": "56",
                                    "CoachID": "21",
                                    "CoachPosition": "head coach",
                                    "CoachStartDate": "2015-09-16",
                                    "CoachEndDate": "NULL"
                                },
                                {
                                    "ClubCoachID": "46",
                                    "ClubID": "5",
                                    "CoachID": "126",
                                    "CoachPosition": "draft coach",
                                    "CoachStartDate": "2015-09-19",
                                    "CoachEndDate": "NULL"
                                },
                                {
                                    "ClubCoachID": "49",
                                    "ClubID": "57",
                                    "CoachID": "31",
                                    "CoachPosition": "head coach",
                                    "CoachStartDate": "2015-07-29",
                                    "CoachEndDate": "NULL"
                                },
                                {
                                    "ClubCoachID": "50",
                                    "ClubID": "11",
                                    "CoachID": "90",
                                    "CoachPosition": "draft coach",
                                    "CoachStartDate": "2019-02-14",
                                    "CoachEndDate": "NULL"
                                },
                                {
                                    "ClubCoachID": "51",
                                    "ClubID": "23",
                                    "CoachID": "36",
                                    "CoachPosition": "strategic coach",
                                    "CoachStartDate": "2016-04-19",
                                    "CoachEndDate": "NULL"
                                },
                                {
                                    "ClubCoachID": "52",
                                    "ClubID": "55",
                                    "CoachID": "156",
                                    "CoachPosition": "sports psychologist",
                                    "CoachStartDate": "2019-03-07",
                                    "CoachEndDate": "NULL"
                                },
                                {
                                    "ClubCoachID": "53",
                                    "ClubID": "28",
                                    "CoachID": "179",
                                    "CoachPosition": "head coach",
                                    "CoachStartDate": "2019-07-04",
                                    "CoachEndDate": "NULL"
                                },
                                {
                                    "ClubCoachID": "54",
                                    "ClubID": "15",
                                    "CoachID": "132",
                                    "CoachPosition": "draft coach",
                                    "CoachStartDate": "2018-09-15",
                                    "CoachEndDate": "NULL"
                                },
                                {
                                    "ClubCoachID": "55",
                                    "ClubID": "8",
                                    "CoachID": "24",
                                    "CoachPosition": "strategic coach",
                                    "CoachStartDate": "2014-09-14",
                                    "CoachEndDate": "NULL"
                                },
                                {
                                    "ClubCoachID": "57",
                                    "ClubID": "63",
                                    "CoachID": "84",
                                    "CoachPosition": "head coach",
                                    "CoachStartDate": "2019-05-24",
                                    "CoachEndDate": "NULL"
                                },
                                {
                                    "ClubCoachID": "58",
                                    "ClubID": "25",
                                    "CoachID": "76",
                                    "CoachPosition": "draft coach",
                                    "CoachStartDate": "2015-07-08",
                                    "CoachEndDate": "NULL"
                                },
                                {
                                    "ClubCoachID": "59",
                                    "ClubID": "62",
                                    "CoachID": "5",
                                    "CoachPosition": "strategic coach",
                                    "CoachStartDate": "2018-11-15",
                                    "CoachEndDate": "2020-03-24"
                                },
                                {
                                    "ClubCoachID": "60",
                                    "ClubID": "79",
                                    "CoachID": "160",
                                    "CoachPosition": "sports psychologist",
                                    "CoachStartDate": "2018-12-06",
                                    "CoachEndDate": "2021-04-14"
                                },
                                {
                                    "ClubCoachID": "61",
                                    "ClubID": "3",
                                    "CoachID": "141",
                                    "CoachPosition": "head coach",
                                    "CoachStartDate": "2015-08-13",
                                    "CoachEndDate": "2020-10-31"
                                },
                                {
                                    "ClubCoachID": "62",
                                    "ClubID": "45",
                                    "CoachID": "101",
                                    "CoachPosition": "draft coach",
                                    "CoachStartDate": "2014-11-14",
                                    "CoachEndDate": "2017-09-20"
                                },
                                {
                                    "ClubCoachID": "63",
                                    "ClubID": "85",
                                    "CoachID": "129",
                                    "CoachPosition": "strategic coach",
                                    "CoachStartDate": "2019-05-28",
                                    "CoachEndDate": "2021-05-27"
                                },
                                {
                                    "ClubCoachID": "64",
                                    "ClubID": "22",
                                    "CoachID": "54",
                                    "CoachPosition": "sports psychologist",
                                    "CoachStartDate": "2019-10-04",
                                    "CoachEndDate": "2021-03-06"
                                },
                                {
                                    "ClubCoachID": "65",
                                    "ClubID": "36",
                                    "CoachID": "83",
                                    "CoachPosition": "head coach",
                                    "CoachStartDate": "2017-07-25",
                                    "CoachEndDate": "2021-06-06"
                                },
                                {
                                    "ClubCoachID": "66",
                                    "ClubID": "5",
                                    "CoachID": "57",
                                    "CoachPosition": "draft coach",
                                    "CoachStartDate": "2018-11-13",
                                    "CoachEndDate": "2019-05-11"
                                },
                                {
                                    "ClubCoachID": "67",
                                    "ClubID": "66",
                                    "CoachID": "62",
                                    "CoachPosition": "strategic coach",
                                    "CoachStartDate": "2015-12-24",
                                    "CoachEndDate": "2018-09-25"
                                },
                                {
                                    "ClubCoachID": "68",
                                    "ClubID": "62",
                                    "CoachID": "69",
                                    "CoachPosition": "sports psychologist",
                                    "CoachStartDate": "2018-05-27",
                                    "CoachEndDate": "2020-03-22"
                                },
                                {
                                    "ClubCoachID": "69",
                                    "ClubID": "29",
                                    "CoachID": "137",
                                    "CoachPosition": "head coach",
                                    "CoachStartDate": "2015-03-20",
                                    "CoachEndDate": "2021-06-07"
                                },
                                {
                                    "ClubCoachID": "71",
                                    "ClubID": "78",
                                    "CoachID": "61",
                                    "CoachPosition": "strategic coach",
                                    "CoachStartDate": "2018-03-11",
                                    "CoachEndDate": "2020-06-09"
                                },
                                {
                                    "ClubCoachID": "72",
                                    "ClubID": "21",
                                    "CoachID": "70",
                                    "CoachPosition": "sports psychologist",
                                    "CoachStartDate": "2014-12-19",
                                    "CoachEndDate": "2020-10-25"
                                },
                                {
                                    "ClubCoachID": "73",
                                    "ClubID": "36",
                                    "CoachID": "106",
                                    "CoachPosition": "head coach",
                                    "CoachStartDate": "2020-05-13",
                                    "CoachEndDate": "2021-05-26"
                                },
                                {
                                    "ClubCoachID": "74",
                                    "ClubID": "7",
                                    "CoachID": "105",
                                    "CoachPosition": "draft coach",
                                    "CoachStartDate": "2016-10-23",
                                    "CoachEndDate": "2021-07-02"
                                },
                                {
                                    "ClubCoachID": "75",
                                    "ClubID": "35",
                                    "CoachID": "51",
                                    "CoachPosition": "strategic coach",
                                    "CoachStartDate": "2015-03-23",
                                    "CoachEndDate": "2018-01-24"
                                },
                                {
                                    "ClubCoachID": "76",
                                    "ClubID": "49",
                                    "CoachID": "169",
                                    "CoachPosition": "sports psychologist",
                                    "CoachStartDate": "2016-12-01",
                                    "CoachEndDate": "2020-09-13"
                                },
                                {
                                    "ClubCoachID": "77",
                                    "ClubID": "7",
                                    "CoachID": "111",
                                    "CoachPosition": "head coach",
                                    "CoachStartDate": "2017-08-27",
                                    "CoachEndDate": "2021-04-02"
                                },
                                {
                                    "ClubCoachID": "79",
                                    "ClubID": "45",
                                    "CoachID": "89",
                                    "CoachPosition": "strategic coach",
                                    "CoachStartDate": "2019-07-15",
                                    "CoachEndDate": "2020-07-04"
                                },
                                {
                                    "ClubCoachID": "80",
                                    "ClubID": "64",
                                    "CoachID": "49",
                                    "CoachPosition": "sports psychologist",
                                    "CoachStartDate": "2017-05-08",
                                    "CoachEndDate": "2021-06-12"
                                },
                                {
                                    "ClubCoachID": "81",
                                    "ClubID": "28",
                                    "CoachID": "36",
                                    "CoachPosition": "head coach",
                                    "CoachStartDate": "2019-01-17",
                                    "CoachEndDate": "2020-11-16"
                                },
                                {
                                    "ClubCoachID": "82",
                                    "ClubID": "67",
                                    "CoachID": "38",
                                    "CoachPosition": "draft coach",
                                    "CoachStartDate": "2020-02-28",
                                    "CoachEndDate": "2021-07-12"
                                },
                                {
                                    "ClubCoachID": "83",
                                    "ClubID": "71",
                                    "CoachID": "78",
                                    "CoachPosition": "strategic coach",
                                    "CoachStartDate": "2019-07-04",
                                    "CoachEndDate": "2020-05-20"
                                },
                                {
                                    "ClubCoachID": "84",
                                    "ClubID": "30",
                                    "CoachID": "73",
                                    "CoachPosition": "sports psychologist",
                                    "CoachStartDate": "2020-01-26",
                                    "CoachEndDate": "2020-05-25"
                                },
                                {
                                    "ClubCoachID": "85",
                                    "ClubID": "83",
                                    "CoachID": "117",
                                    "CoachPosition": "head coach",
                                    "CoachStartDate": "2016-04-19",
                                    "CoachEndDate": "2017-01-29"
                                },
                                {
                                    "ClubCoachID": "86",
                                    "ClubID": "21",
                                    "CoachID": "109",
                                    "CoachPosition": "draft coach",
                                    "CoachStartDate": "2019-05-09",
                                    "CoachEndDate": "2020-08-24"
                                },
                                {
                                    "ClubCoachID": "87",
                                    "ClubID": "17",
                                    "CoachID": "67",
                                    "CoachPosition": "strategic coach",
                                    "CoachStartDate": "2019-02-05",
                                    "CoachEndDate": "2021-05-22"
                                },
                                {
                                    "ClubCoachID": "88",
                                    "ClubID": "36",
                                    "CoachID": "97",
                                    "CoachPosition": "sports psychologist",
                                    "CoachStartDate": "2016-02-17",
                                    "CoachEndDate": "2021-02-19"
                                },
                                {
                                    "ClubCoachID": "89",
                                    "ClubID": "28",
                                    "CoachID": "71",
                                    "CoachPosition": "head coach",
                                    "CoachStartDate": "2020-05-03",
                                    "CoachEndDate": "2020-12-25"
                                },
                                {
                                    "ClubCoachID": "90",
                                    "ClubID": "76",
                                    "CoachID": "99",
                                    "CoachPosition": "draft coach",
                                    "CoachStartDate": "2014-10-22",
                                    "CoachEndDate": "2019-11-08"
                                },
                                {
                                    "ClubCoachID": "91",
                                    "ClubID": "66",
                                    "CoachID": "170",
                                    "CoachPosition": "strategic coach",
                                    "CoachStartDate": "2016-02-16",
                                    "CoachEndDate": "2021-03-27"
                                },
                                {
                                    "ClubCoachID": "92",
                                    "ClubID": "81",
                                    "CoachID": "45",
                                    "CoachPosition": "sports psychologist",
                                    "CoachStartDate": "2016-03-25",
                                    "CoachEndDate": "2021-02-23"
                                },
                                {
                                    "ClubCoachID": "93",
                                    "ClubID": "7",
                                    "CoachID": "64",
                                    "CoachPosition": "head coach",
                                    "CoachStartDate": "2016-09-17",
                                    "CoachEndDate": "2018-04-24"
                                },
                                {
                                    "ClubCoachID": "96",
                                    "ClubID": "7",
                                    "CoachID": "52",
                                    "CoachPosition": "sports psychologist",
                                    "CoachStartDate": "2017-10-16",
                                    "CoachEndDate": "2020-08-05"
                                },
                                {
                                    "ClubCoachID": "97",
                                    "ClubID": "16",
                                    "CoachID": "169",
                                    "CoachPosition": "head coach",
                                    "CoachStartDate": "2016-10-10",
                                    "CoachEndDate": "2021-03-25"
                                },
                                {
                                    "ClubCoachID": "98",
                                    "ClubID": "44",
                                    "CoachID": "6",
                                    "CoachPosition": "draft coach",
                                    "CoachStartDate": "2017-02-20",
                                    "CoachEndDate": "2017-05-11"
                                },
                                {
                                    "ClubCoachID": "99",
                                    "ClubID": "44",
                                    "CoachID": "88",
                                    "CoachPosition": "strategic coach",
                                    "CoachStartDate": "2015-05-18",
                                    "CoachEndDate": "2016-11-14"
                                },
                                {
                                    "ClubCoachID": "101",
                                    "ClubID": "68",
                                    "CoachID": "8",
                                    "CoachPosition": "head coach",
                                    "CoachStartDate": "2015-10-06",
                                    "CoachEndDate": "2016-02-08"
                                },
                                {
                                    "ClubCoachID": "103",
                                    "ClubID": "18",
                                    "CoachID": "14",
                                    "CoachPosition": "strategic coach",
                                    "CoachStartDate": "2019-12-12",
                                    "CoachEndDate": "2021-05-28"
                                },
                                {
                                    "ClubCoachID": "104",
                                    "ClubID": "59",
                                    "CoachID": "81",
                                    "CoachPosition": "sports psychologist",
                                    "CoachStartDate": "2019-04-28",
                                    "CoachEndDate": "2020-05-13"
                                },
                                {
                                    "ClubCoachID": "106",
                                    "ClubID": "1",
                                    "CoachID": "22",
                                    "CoachPosition": "draft coach",
                                    "CoachStartDate": "2020-06-19",
                                    "CoachEndDate": "2020-10-29"
                                },
                                {
                                    "ClubCoachID": "107",
                                    "ClubID": "82",
                                    "CoachID": "61",
                                    "CoachPosition": "strategic coach",
                                    "CoachStartDate": "2017-03-22",
                                    "CoachEndDate": "2020-02-03"
                                },
                                {
                                    "ClubCoachID": "108",
                                    "ClubID": "69",
                                    "CoachID": "144",
                                    "CoachPosition": "sports psychologist",
                                    "CoachStartDate": "2019-01-22",
                                    "CoachEndDate": "2020-07-27"
                                },
                                {
                                    "ClubCoachID": "109",
                                    "ClubID": "59",
                                    "CoachID": "47",
                                    "CoachPosition": "head coach",
                                    "CoachStartDate": "2017-06-16",
                                    "CoachEndDate": "2020-05-11"
                                },
                                {
                                    "ClubCoachID": "110",
                                    "ClubID": "45",
                                    "CoachID": "95",
                                    "CoachPosition": "draft coach",
                                    "CoachStartDate": "2018-09-05",
                                    "CoachEndDate": "2018-12-10"
                                },
                                {
                                    "ClubCoachID": "112",
                                    "ClubID": "51",
                                    "CoachID": "59",
                                    "CoachPosition": "sports psychologist",
                                    "CoachStartDate": "2015-07-30",
                                    "CoachEndDate": "2016-09-12"
                                },
                                {
                                    "ClubCoachID": "113",
                                    "ClubID": "21",
                                    "CoachID": "17",
                                    "CoachPosition": "head coach",
                                    "CoachStartDate": "2018-10-05",
                                    "CoachEndDate": "2021-01-27"
                                },
                                {
                                    "ClubCoachID": "114",
                                    "ClubID": "53",
                                    "CoachID": "4",
                                    "CoachPosition": "draft coach",
                                    "CoachStartDate": "2018-02-15",
                                    "CoachEndDate": "2020-04-26"
                                },
                                {
                                    "ClubCoachID": "116",
                                    "ClubID": "21",
                                    "CoachID": "2",
                                    "CoachPosition": "sports psychologist",
                                    "CoachStartDate": "2015-11-03",
                                    "CoachEndDate": "2016-02-10"
                                },
                                {
                                    "ClubCoachID": "117",
                                    "ClubID": "18",
                                    "CoachID": "128",
                                    "CoachPosition": "head coach",
                                    "CoachStartDate": "2015-03-20",
                                    "CoachEndDate": "2015-09-21"
                                },
                                {
                                    "ClubCoachID": "118",
                                    "ClubID": "59",
                                    "CoachID": "140",
                                    "CoachPosition": "draft coach",
                                    "CoachStartDate": "2017-02-17",
                                    "CoachEndDate": "2018-11-02"
                                },
                                {
                                    "ClubCoachID": "120",
                                    "ClubID": "85",
                                    "CoachID": "99",
                                    "CoachPosition": "sports psychologist",
                                    "CoachStartDate": "2017-06-25",
                                    "CoachEndDate": "2017-09-05"
                                },
                                {
                                    "ClubCoachID": "121",
                                    "ClubID": "20",
                                    "CoachID": "140",
                                    "CoachPosition": "head coach",
                                    "CoachStartDate": "2015-03-17",
                                    "CoachEndDate": "2016-12-31"
                                },
                                {
                                    "ClubCoachID": "122",
                                    "ClubID": "16",
                                    "CoachID": "93",
                                    "CoachPosition": "draft coach",
                                    "CoachStartDate": "2020-01-19",
                                    "CoachEndDate": "2021-05-12"
                                },
                                {
                                    "ClubCoachID": "124",
                                    "ClubID": "16",
                                    "CoachID": "53",
                                    "CoachPosition": "sports psychologist",
                                    "CoachStartDate": "2015-11-21",
                                    "CoachEndDate": "2016-05-07"
                                },
                                {
                                    "ClubCoachID": "125",
                                    "ClubID": "42",
                                    "CoachID": "140",
                                    "CoachPosition": "head coach",
                                    "CoachStartDate": "2017-01-27",
                                    "CoachEndDate": "2018-12-02"
                                },
                                {
                                    "ClubCoachID": "126",
                                    "ClubID": "56",
                                    "CoachID": "100",
                                    "CoachPosition": "draft coach",
                                    "CoachStartDate": "2014-10-02",
                                    "CoachEndDate": "2021-01-30"
                                },
                                {
                                    "ClubCoachID": "127",
                                    "ClubID": "60",
                                    "CoachID": "81",
                                    "CoachPosition": "strategic coach",
                                    "CoachStartDate": "2018-10-10",
                                    "CoachEndDate": "2018-12-04"
                                },
                                {
                                    "ClubCoachID": "128",
                                    "ClubID": "34",
                                    "CoachID": "83",
                                    "CoachPosition": "sports psychologist",
                                    "CoachStartDate": "2017-11-07",
                                    "CoachEndDate": "2019-11-04"
                                },
                                {
                                    "ClubCoachID": "129",
                                    "ClubID": "32",
                                    "CoachID": "77",
                                    "CoachPosition": "head coach",
                                    "CoachStartDate": "2016-05-10",
                                    "CoachEndDate": "2020-01-10"
                                },
                                {
                                    "ClubCoachID": "130",
                                    "ClubID": "17",
                                    "CoachID": "90",
                                    "CoachPosition": "draft coach",
                                    "CoachStartDate": "2017-03-17",
                                    "CoachEndDate": "2020-10-11"
                                },
                                {
                                    "ClubCoachID": "131",
                                    "ClubID": "34",
                                    "CoachID": "157",
                                    "CoachPosition": "strategic coach",
                                    "CoachStartDate": "2015-11-08",
                                    "CoachEndDate": "2021-07-02"
                                },
                                {
                                    "ClubCoachID": "132",
                                    "ClubID": "36",
                                    "CoachID": "163",
                                    "CoachPosition": "sports psychologist",
                                    "CoachStartDate": "2016-06-01",
                                    "CoachEndDate": "2016-11-27"
                                },
                                {
                                    "ClubCoachID": "133",
                                    "ClubID": "83",
                                    "CoachID": "126",
                                    "CoachPosition": "head coach",
                                    "CoachStartDate": "2014-12-28",
                                    "CoachEndDate": "2020-07-31"
                                },
                                {
                                    "ClubCoachID": "134",
                                    "ClubID": "78",
                                    "CoachID": "91",
                                    "CoachPosition": "draft coach",
                                    "CoachStartDate": "2020-04-29",
                                    "CoachEndDate": "2021-01-14"
                                },
                                {
                                    "ClubCoachID": "135",
                                    "ClubID": "37",
                                    "CoachID": "45",
                                    "CoachPosition": "strategic coach",
                                    "CoachStartDate": "2016-07-26",
                                    "CoachEndDate": "2021-05-29"
                                },
                                {
                                    "ClubCoachID": "136",
                                    "ClubID": "85",
                                    "CoachID": "54",
                                    "CoachPosition": "sports psychologist",
                                    "CoachStartDate": "2019-01-06",
                                    "CoachEndDate": "2019-12-15"
                                },
                                {
                                    "ClubCoachID": "137",
                                    "ClubID": "79",
                                    "CoachID": "95",
                                    "CoachPosition": "head coach",
                                    "CoachStartDate": "2016-05-04",
                                    "CoachEndDate": "2017-02-16"
                                },
                                {
                                    "ClubCoachID": "138",
                                    "ClubID": "81",
                                    "CoachID": "50",
                                    "CoachPosition": "draft coach",
                                    "CoachStartDate": "2017-03-31",
                                    "CoachEndDate": "2021-02-21"
                                },
                                {
                                    "ClubCoachID": "139",
                                    "ClubID": "74",
                                    "CoachID": "114",
                                    "CoachPosition": "strategic coach",
                                    "CoachStartDate": "2016-04-15",
                                    "CoachEndDate": "2017-01-26"
                                },
                                {
                                    "ClubCoachID": "140",
                                    "ClubID": "69",
                                    "CoachID": "57",
                                    "CoachPosition": "sports psychologist",
                                    "CoachStartDate": "2015-11-13",
                                    "CoachEndDate": "2018-08-02"
                                },
                                {
                                    "ClubCoachID": "141",
                                    "ClubID": "58",
                                    "CoachID": "97",
                                    "CoachPosition": "head coach",
                                    "CoachStartDate": "2020-03-19",
                                    "CoachEndDate": "2021-04-22"
                                },
                                {
                                    "ClubCoachID": "142",
                                    "ClubID": "36",
                                    "CoachID": "71",
                                    "CoachPosition": "draft coach",
                                    "CoachStartDate": "2018-05-30",
                                    "CoachEndDate": "2019-02-22"
                                },
                                {
                                    "ClubCoachID": "143",
                                    "ClubID": "67",
                                    "CoachID": "148",
                                    "CoachPosition": "strategic coach",
                                    "CoachStartDate": "2017-11-28",
                                    "CoachEndDate": "2020-11-14"
                                },
                                {
                                    "ClubCoachID": "144",
                                    "ClubID": "72",
                                    "CoachID": "106",
                                    "CoachPosition": "sports psychologist",
                                    "CoachStartDate": "2019-02-24",
                                    "CoachEndDate": "2021-01-09"
                                },
                                {
                                    "ClubCoachID": "145",
                                    "ClubID": "58",
                                    "CoachID": "107",
                                    "CoachPosition": "head coach",
                                    "CoachStartDate": "2016-10-29",
                                    "CoachEndDate": "2021-05-05"
                                },
                                {
                                    "ClubCoachID": "146",
                                    "ClubID": "8",
                                    "CoachID": "179",
                                    "CoachPosition": "draft coach",
                                    "CoachStartDate": "2018-04-05",
                                    "CoachEndDate": "2019-01-15"
                                },
                                {
                                    "ClubCoachID": "147",
                                    "ClubID": "36",
                                    "CoachID": "87",
                                    "CoachPosition": "strategic coach",
                                    "CoachStartDate": "2016-08-20",
                                    "CoachEndDate": "2019-10-16"
                                },
                                {
                                    "ClubCoachID": "148",
                                    "ClubID": "32",
                                    "CoachID": "170",
                                    "CoachPosition": "sports psychologist",
                                    "CoachStartDate": "2019-07-29",
                                    "CoachEndDate": "2021-05-27"
                                },
                                {
                                    "ClubCoachID": "149",
                                    "ClubID": "49",
                                    "CoachID": "157",
                                    "CoachPosition": "head coach",
                                    "CoachStartDate": "2016-10-01",
                                    "CoachEndDate": "2019-06-24"
                                },
                                {
                                    "ClubCoachID": "150",
                                    "ClubID": "70",
                                    "CoachID": "44",
                                    "CoachPosition": "draft coach",
                                    "CoachStartDate": "2016-10-13",
                                    "CoachEndDate": "2018-07-24"
                                },
                                {
                                    "ClubCoachID": "151",
                                    "ClubID": "15",
                                    "CoachID": "46",
                                    "CoachPosition": "strategic coach",
                                    "CoachStartDate": "2016-01-15",
                                    "CoachEndDate": "2016-08-09"
                                },
                                {
                                    "ClubCoachID": "152",
                                    "ClubID": "32",
                                    "CoachID": "34",
                                    "CoachPosition": "sports psychologist",
                                    "CoachStartDate": "2017-01-11",
                                    "CoachEndDate": "2019-02-11"
                                },
                                {
                                    "ClubCoachID": "153",
                                    "ClubID": "26",
                                    "CoachID": "112",
                                    "CoachPosition": "head coach",
                                    "CoachStartDate": "2014-10-31",
                                    "CoachEndDate": "2016-08-28"
                                },
                                {
                                    "ClubCoachID": "154",
                                    "ClubID": "39",
                                    "CoachID": "58",
                                    "CoachPosition": "draft coach",
                                    "CoachStartDate": "2019-06-04",
                                    "CoachEndDate": "2020-07-01"
                                },
                                {
                                    "ClubCoachID": "155",
                                    "ClubID": "39",
                                    "CoachID": "100",
                                    "CoachPosition": "strategic coach",
                                    "CoachStartDate": "2017-11-20",
                                    "CoachEndDate": "2018-05-31"
                                },
                                {
                                    "ClubCoachID": "156",
                                    "ClubID": "41",
                                    "CoachID": "160",
                                    "CoachPosition": "sports psychologist",
                                    "CoachStartDate": "2014-11-29",
                                    "CoachEndDate": "2015-06-08"
                                },
                                {
                                    "ClubCoachID": "158",
                                    "ClubID": "82",
                                    "CoachID": "34",
                                    "CoachPosition": "draft coach",
                                    "CoachStartDate": "2017-03-20",
                                    "CoachEndDate": "2020-02-04"
                                },
                                {
                                    "ClubCoachID": "159",
                                    "ClubID": "50",
                                    "CoachID": "174",
                                    "CoachPosition": "strategic coach",
                                    "CoachStartDate": "2016-08-22",
                                    "CoachEndDate": "2017-07-23"
                                },
                                {
                                    "ClubCoachID": "160",
                                    "ClubID": "56",
                                    "CoachID": "107",
                                    "CoachPosition": "sports psychologist",
                                    "CoachStartDate": "2016-07-30",
                                    "CoachEndDate": "2018-04-04"
                                },
                                {
                                    "ClubCoachID": "161",
                                    "ClubID": "69",
                                    "CoachID": "80",
                                    "CoachPosition": "head coach",
                                    "CoachStartDate": "2017-01-02",
                                    "CoachEndDate": "2017-01-19"
                                },
                                {
                                    "ClubCoachID": "162",
                                    "ClubID": "55",
                                    "CoachID": "60",
                                    "CoachPosition": "draft coach",
                                    "CoachStartDate": "2019-03-04",
                                    "CoachEndDate": "2019-06-12"
                                },
                                {
                                    "ClubCoachID": "163",
                                    "ClubID": "19",
                                    "CoachID": "85",
                                    "CoachPosition": "strategic coach",
                                    "CoachStartDate": "2019-12-20",
                                    "CoachEndDate": "2021-04-28"
                                },
                                {
                                    "ClubCoachID": "164",
                                    "ClubID": "8",
                                    "CoachID": "65",
                                    "CoachPosition": "sports psychologist",
                                    "CoachStartDate": "2014-10-04",
                                    "CoachEndDate": "2016-02-01"
                                },
                                {
                                    "ClubCoachID": "165",
                                    "ClubID": "38",
                                    "CoachID": "40",
                                    "CoachPosition": "head coach",
                                    "CoachStartDate": "2014-08-21",
                                    "CoachEndDate": "2020-01-09"
                                },
                                {
                                    "ClubCoachID": "166",
                                    "ClubID": "29",
                                    "CoachID": "116",
                                    "CoachPosition": "draft coach",
                                    "CoachStartDate": "2018-01-09",
                                    "CoachEndDate": "2020-06-18"
                                },
                                {
                                    "ClubCoachID": "167",
                                    "ClubID": "39",
                                    "CoachID": "130",
                                    "CoachPosition": "strategic coach",
                                    "CoachStartDate": "2015-02-17",
                                    "CoachEndDate": "2017-03-22"
                                },
                                {
                                    "ClubCoachID": "168",
                                    "ClubID": "29",
                                    "CoachID": "129",
                                    "CoachPosition": "sports psychologist",
                                    "CoachStartDate": "2017-10-19",
                                    "CoachEndDate": "2019-11-07"
                                },
                                {
                                    "ClubCoachID": "169",
                                    "ClubID": "12",
                                    "CoachID": "134",
                                    "CoachPosition": "head coach",
                                    "CoachStartDate": "2017-10-26",
                                    "CoachEndDate": "2019-09-10"
                                },
                                {
                                    "ClubCoachID": "171",
                                    "ClubID": "8",
                                    "CoachID": "119",
                                    "CoachPosition": "strategic coach",
                                    "CoachStartDate": "2017-11-08",
                                    "CoachEndDate": "2019-05-02"
                                },
                                {
                                    "ClubCoachID": "172",
                                    "ClubID": "65",
                                    "CoachID": "70",
                                    "CoachPosition": "sports psychologist",
                                    "CoachStartDate": "2018-11-30",
                                    "CoachEndDate": "2021-03-05"
                                },
                                {
                                    "ClubCoachID": "173",
                                    "ClubID": "71",
                                    "CoachID": "160",
                                    "CoachPosition": "head coach",
                                    "CoachStartDate": "2018-09-11",
                                    "CoachEndDate": "2019-07-14"
                                },
                                {
                                    "ClubCoachID": "174",
                                    "ClubID": "10",
                                    "CoachID": "98",
                                    "CoachPosition": "draft coach",
                                    "CoachStartDate": "2019-06-04",
                                    "CoachEndDate": "2020-07-18"
                                },
                                {
                                    "ClubCoachID": "175",
                                    "ClubID": "62",
                                    "CoachID": "114",
                                    "CoachPosition": "strategic coach",
                                    "CoachStartDate": "2016-12-01",
                                    "CoachEndDate": "2021-06-04"
                                },
                                {
                                    "ClubCoachID": "176",
                                    "ClubID": "70",
                                    "CoachID": "48",
                                    "CoachPosition": "sports psychologist",
                                    "CoachStartDate": "2019-09-01",
                                    "CoachEndDate": "2020-11-20"
                                },
                                {
                                    "ClubCoachID": "177",
                                    "ClubID": "66",
                                    "CoachID": "98",
                                    "CoachPosition": "head coach",
                                    "CoachStartDate": "2016-12-12",
                                    "CoachEndDate": "2019-12-22"
                                },
                                {
                                    "ClubCoachID": "178",
                                    "ClubID": "34",
                                    "CoachID": "39",
                                    "CoachPosition": "draft coach",
                                    "CoachStartDate": "2019-09-08",
                                    "CoachEndDate": "2019-12-10"
                                },
                                {
                                    "ClubCoachID": "179",
                                    "ClubID": "67",
                                    "CoachID": "55",
                                    "CoachPosition": "strategic coach",
                                    "CoachStartDate": "2015-11-22",
                                    "CoachEndDate": "2019-06-30"
                                },
                                {
                                    "ClubCoachID": "180",
                                    "ClubID": "79",
                                    "CoachID": "75",
                                    "CoachPosition": "sports psychologist",
                                    "CoachStartDate": "2014-08-21",
                                    "CoachEndDate": "2020-04-25"
                                },
                                {
                                    "ClubCoachID": "181",
                                    "ClubID": "61",
                                    "CoachID": "105",
                                    "CoachPosition": "head coach",
                                    "CoachStartDate": "2015-10-18",
                                    "CoachEndDate": "2021-04-10"
                                },
                                {
                                    "ClubCoachID": "182",
                                    "ClubID": "46",
                                    "CoachID": "12",
                                    "CoachPosition": "draft coach",
                                    "CoachStartDate": "2015-09-12",
                                    "CoachEndDate": "2018-03-04"
                                },
                                {
                                    "ClubCoachID": "183",
                                    "ClubID": "68",
                                    "CoachID": "114",
                                    "CoachPosition": "strategic coach",
                                    "CoachStartDate": "2017-03-04",
                                    "CoachEndDate": "2021-06-17"
                                },
                                {
                                    "ClubCoachID": "184",
                                    "ClubID": "4",
                                    "CoachID": "100",
                                    "CoachPosition": "sports psychologist",
                                    "CoachStartDate": "2015-10-29",
                                    "CoachEndDate": "2018-05-13"
                                },
                                {
                                    "ClubCoachID": "185",
                                    "ClubID": "19",
                                    "CoachID": "157",
                                    "CoachPosition": "head coach",
                                    "CoachStartDate": "2019-04-18",
                                    "CoachEndDate": "2020-07-27"
                                },
                                {
                                    "ClubCoachID": "187",
                                    "ClubID": "34",
                                    "CoachID": "42",
                                    "CoachPosition": "strategic coach",
                                    "CoachStartDate": "2014-12-02",
                                    "CoachEndDate": "2016-05-03"
                                },
                                {
                                    "ClubCoachID": "188",
                                    "ClubID": "53",
                                    "CoachID": "83",
                                    "CoachPosition": "sports psychologist",
                                    "CoachStartDate": "2019-09-24",
                                    "CoachEndDate": "2020-10-20"
                                },
                                {
                                    "ClubCoachID": "189",
                                    "ClubID": "81",
                                    "CoachID": "71",
                                    "CoachPosition": "head coach",
                                    "CoachStartDate": "2019-04-30",
                                    "CoachEndDate": "2020-02-19"
                                },
                                {
                                    "ClubCoachID": "190",
                                    "ClubID": "17",
                                    "CoachID": "98",
                                    "CoachPosition": "draft coach",
                                    "CoachStartDate": "2018-12-27",
                                    "CoachEndDate": "2019-01-12"
                                },
                                {
                                    "ClubCoachID": "191",
                                    "ClubID": "27",
                                    "CoachID": "169",
                                    "CoachPosition": "strategic coach",
                                    "CoachStartDate": "2015-12-30",
                                    "CoachEndDate": "2020-03-22"
                                },
                                {
                                    "ClubCoachID": "192",
                                    "ClubID": "40",
                                    "CoachID": "96",
                                    "CoachPosition": "sports psychologist",
                                    "CoachStartDate": "2020-05-25",
                                    "CoachEndDate": "2021-05-16"
                                },
                                {
                                    "ClubCoachID": "193",
                                    "ClubID": "85",
                                    "CoachID": "107",
                                    "CoachPosition": "head coach",
                                    "CoachStartDate": "2020-03-30",
                                    "CoachEndDate": "2021-05-09"
                                },
                                {
                                    "ClubCoachID": "196",
                                    "ClubID": "29",
                                    "CoachID": "32",
                                    "CoachPosition": "sports psychologist",
                                    "CoachStartDate": "2019-06-03",
                                    "CoachEndDate": "2019-10-03"
                                },
                                {
                                    "ClubCoachID": "197",
                                    "ClubID": "73",
                                    "CoachID": "130",
                                    "CoachPosition": "head coach",
                                    "CoachStartDate": "2016-09-17",
                                    "CoachEndDate": "2018-09-18"
                                },
                                {
                                    "ClubCoachID": "198",
                                    "ClubID": "34",
                                    "CoachID": "44",
                                    "CoachPosition": "draft coach",
                                    "CoachStartDate": "2015-07-28",
                                    "CoachEndDate": "2017-08-25"
                                },
                                {
                                    "ClubCoachID": "199",
                                    "ClubID": "61",
                                    "CoachID": "21",
                                    "CoachPosition": "strategic coach",
                                    "CoachStartDate": "2017-09-27",
                                    "CoachEndDate": "2021-03-26"
                                },
                                {
                                    "ClubCoachID": "200",
                                    "ClubID": "8",
                                    "CoachID": "10",
                                    "CoachPosition": "sports psychologist",
                                    "CoachStartDate": "2019-03-29",
                                    "CoachEndDate": "2020-02-28"
                                },
                                {
                                    "ClubCoachID": "201",
                                    "ClubID": "63",
                                    "CoachID": "117",
                                    "CoachPosition": "head coach",
                                    "CoachStartDate": "2016-11-28",
                                    "CoachEndDate": "2020-11-30"
                                },
                                {
                                    "ClubCoachID": "202",
                                    "ClubID": "55",
                                    "CoachID": "53",
                                    "CoachPosition": "draft coach",
                                    "CoachStartDate": "2018-12-05",
                                    "CoachEndDate": "2019-07-14"
                                },
                                {
                                    "ClubCoachID": "203",
                                    "ClubID": "15",
                                    "CoachID": "175",
                                    "CoachPosition": "strategic coach",
                                    "CoachStartDate": "2020-04-24",
                                    "CoachEndDate": "2020-09-28"
                                },
                                {
                                    "ClubCoachID": "204",
                                    "ClubID": "85",
                                    "CoachID": "87",
                                    "CoachPosition": "sports psychologist",
                                    "CoachStartDate": "2015-09-27",
                                    "CoachEndDate": "2017-05-06"
                                },
                                {
                                    "ClubCoachID": "205",
                                    "ClubID": "56",
                                    "CoachID": "74",
                                    "CoachPosition": "head coach",
                                    "CoachStartDate": "2017-01-01",
                                    "CoachEndDate": "2019-02-17"
                                },
                                {
                                    "ClubCoachID": "207",
                                    "ClubID": "33",
                                    "CoachID": "94",
                                    "CoachPosition": "strategic coach",
                                    "CoachStartDate": "2017-09-09",
                                    "CoachEndDate": "2020-08-05"
                                },
                                {
                                    "ClubCoachID": "208",
                                    "ClubID": "27",
                                    "CoachID": "91",
                                    "CoachPosition": "sports psychologist",
                                    "CoachStartDate": "2014-09-08",
                                    "CoachEndDate": "2016-06-24"
                                },
                                {
                                    "ClubCoachID": "209",
                                    "ClubID": "15",
                                    "CoachID": "45",
                                    "CoachPosition": "head coach",
                                    "CoachStartDate": "2016-07-22",
                                    "CoachEndDate": "2019-12-10"
                                },
                                {
                                    "ClubCoachID": "210",
                                    "ClubID": "24",
                                    "CoachID": "20",
                                    "CoachPosition": "draft coach",
                                    "CoachStartDate": "2018-04-26",
                                    "CoachEndDate": "2021-04-16"
                                },
                                {
                                    "ClubCoachID": "211",
                                    "ClubID": "70",
                                    "CoachID": "15",
                                    "CoachPosition": "strategic coach",
                                    "CoachStartDate": "2015-09-17",
                                    "CoachEndDate": "2019-06-30"
                                },
                                {
                                    "ClubCoachID": "212",
                                    "ClubID": "82",
                                    "CoachID": "31",
                                    "CoachPosition": "sports psychologist",
                                    "CoachStartDate": "2018-06-06",
                                    "CoachEndDate": "2021-01-09"
                                },
                                {
                                    "ClubCoachID": "213",
                                    "ClubID": "35",
                                    "CoachID": "23",
                                    "CoachPosition": "head coach",
                                    "CoachStartDate": "2020-06-11",
                                    "CoachEndDate": "2021-02-14"
                                },
                                {
                                    "ClubCoachID": "215",
                                    "ClubID": "50",
                                    "CoachID": "20",
                                    "CoachPosition": "strategic coach",
                                    "CoachStartDate": "2015-03-14",
                                    "CoachEndDate": "2019-10-24"
                                },
                                {
                                    "ClubCoachID": "216",
                                    "ClubID": "62",
                                    "CoachID": "163",
                                    "CoachPosition": "sports psychologist",
                                    "CoachStartDate": "2018-06-30",
                                    "CoachEndDate": "2020-04-13"
                                },
                                {
                                    "ClubCoachID": "217",
                                    "ClubID": "49",
                                    "CoachID": "3",
                                    "CoachPosition": "head coach",
                                    "CoachStartDate": "2016-12-18",
                                    "CoachEndDate": "2017-08-04"
                                },
                                {
                                    "ClubCoachID": "218",
                                    "ClubID": "4",
                                    "CoachID": "144",
                                    "CoachPosition": "draft coach",
                                    "CoachStartDate": "2019-09-08",
                                    "CoachEndDate": "2020-08-19"
                                },
                                {
                                    "ClubCoachID": "220",
                                    "ClubID": "38",
                                    "CoachID": "2",
                                    "CoachPosition": "sports psychologist",
                                    "CoachStartDate": "2015-02-20",
                                    "CoachEndDate": "2018-08-05"
                                }
                            ]
                        },
                        "text/html": [
                            "<table>",
                            "<tr><th>ClubCoachID</th><th>ClubID</th><th>CoachID</th><th>CoachPosition</th><th>CoachStartDate</th><th>CoachEndDate</th></tr>",
                            "<tr><td>1</td><td>1</td><td>34</td><td>head coach</td><td>2015-05-25</td><td>NULL</td></tr>",
                            "<tr><td>3</td><td>65</td><td>128</td><td>strategic coach</td><td>2020-07-01</td><td>NULL</td></tr>",
                            "<tr><td>4</td><td>23</td><td>110</td><td>sports psychologist</td><td>2015-06-04</td><td>NULL</td></tr>",
                            "<tr><td>5</td><td>79</td><td>75</td><td>head coach</td><td>2018-04-29</td><td>NULL</td></tr>",
                            "<tr><td>6</td><td>78</td><td>164</td><td>draft coach</td><td>2019-02-06</td><td>NULL</td></tr>",
                            "<tr><td>7</td><td>77</td><td>7</td><td>strategic coach</td><td>2014-09-01</td><td>NULL</td></tr>",
                            "<tr><td>8</td><td>40</td><td>37</td><td>sports psychologist</td><td>2018-04-11</td><td>NULL</td></tr>",
                            "<tr><td>9</td><td>76</td><td>50</td><td>head coach</td><td>2015-07-02</td><td>NULL</td></tr>",
                            "<tr><td>10</td><td>49</td><td>110</td><td>draft coach</td><td>2014-10-07</td><td>NULL</td></tr>",
                            "<tr><td>11</td><td>65</td><td>28</td><td>strategic coach</td><td>2017-04-26</td><td>NULL</td></tr>",
                            "<tr><td>13</td><td>16</td><td>77</td><td>head coach</td><td>2019-06-30</td><td>NULL</td></tr>",
                            "<tr><td>14</td><td>65</td><td>37</td><td>draft coach</td><td>2018-10-30</td><td>NULL</td></tr>",
                            "<tr><td>15</td><td>58</td><td>163</td><td>strategic coach</td><td>2015-06-08</td><td>NULL</td></tr>",
                            "<tr><td>16</td><td>24</td><td>7</td><td>sports psychologist</td><td>2014-11-28</td><td>NULL</td></tr>",
                            "<tr><td>17</td><td>81</td><td>49</td><td>head coach</td><td>2018-12-12</td><td>NULL</td></tr>",
                            "<tr><td>18</td><td>43</td><td>10</td><td>draft coach</td><td>2016-01-13</td><td>NULL</td></tr>",
                            "<tr><td>19</td><td>3</td><td>43</td><td>strategic coach</td><td>2019-09-17</td><td>NULL</td></tr>",
                            "<tr><td>20</td><td>54</td><td>168</td><td>sports psychologist</td><td>2016-02-24</td><td>NULL</td></tr>",
                            "<tr><td>21</td><td>60</td><td>53</td><td>head coach</td><td>2019-11-09</td><td>NULL</td></tr>",
                            "<tr><td>22</td><td>55</td><td>67</td><td>draft coach</td><td>2016-11-21</td><td>NULL</td></tr>",
                            "<tr><td>23</td><td>6</td><td>36</td><td>strategic coach</td><td>2014-07-30</td><td>NULL</td></tr>",
                            "<tr><td>24</td><td>66</td><td>66</td><td>sports psychologist</td><td>2020-01-29</td><td>NULL</td></tr>",
                            "<tr><td>25</td><td>55</td><td>52</td><td>head coach</td><td>2017-11-27</td><td>NULL</td></tr>",
                            "<tr><td>26</td><td>41</td><td>26</td><td>draft coach</td><td>2014-11-26</td><td>NULL</td></tr>",
                            "<tr><td>27</td><td>38</td><td>78</td><td>strategic coach</td><td>2015-12-31</td><td>NULL</td></tr>",
                            "<tr><td>28</td><td>67</td><td>41</td><td>sports psychologist</td><td>2015-03-26</td><td>NULL</td></tr>",
                            "<tr><td>30</td><td>63</td><td>89</td><td>draft coach</td><td>2019-04-28</td><td>NULL</td></tr>",
                            "<tr><td>31</td><td>16</td><td>13</td><td>strategic coach</td><td>2015-11-08</td><td>NULL</td></tr>",
                            "<tr><td>32</td><td>12</td><td>131</td><td>sports psychologist</td><td>2016-08-14</td><td>NULL</td></tr>",
                            "<tr><td>34</td><td>81</td><td>87</td><td>draft coach</td><td>2017-07-10</td><td>NULL</td></tr>",
                            "<tr><td>35</td><td>65</td><td>73</td><td>strategic coach</td><td>2017-09-20</td><td>NULL</td></tr>",
                            "<tr><td>36</td><td>6</td><td>56</td><td>sports psychologist</td><td>2018-04-21</td><td>NULL</td></tr>",
                            "<tr><td>37</td><td>16</td><td>22</td><td>head coach</td><td>2015-09-13</td><td>NULL</td></tr>",
                            "<tr><td>38</td><td>49</td><td>5</td><td>draft coach</td><td>2019-03-30</td><td>NULL</td></tr>",
                            "<tr><td>40</td><td>56</td><td>118</td><td>sports psychologist</td><td>2016-05-07</td><td>NULL</td></tr>",
                            "<tr><td>43</td><td>20</td><td>56</td><td>strategic coach</td><td>2015-02-12</td><td>NULL</td></tr>",
                            "<tr><td>44</td><td>5</td><td>113</td><td>sports psychologist</td><td>2019-12-09</td><td>NULL</td></tr>",
                            "<tr><td>45</td><td>56</td><td>21</td><td>head coach</td><td>2015-09-16</td><td>NULL</td></tr>",
                            "<tr><td>46</td><td>5</td><td>126</td><td>draft coach</td><td>2015-09-19</td><td>NULL</td></tr>",
                            "<tr><td>49</td><td>57</td><td>31</td><td>head coach</td><td>2015-07-29</td><td>NULL</td></tr>",
                            "<tr><td>50</td><td>11</td><td>90</td><td>draft coach</td><td>2019-02-14</td><td>NULL</td></tr>",
                            "<tr><td>51</td><td>23</td><td>36</td><td>strategic coach</td><td>2016-04-19</td><td>NULL</td></tr>",
                            "<tr><td>52</td><td>55</td><td>156</td><td>sports psychologist</td><td>2019-03-07</td><td>NULL</td></tr>",
                            "<tr><td>53</td><td>28</td><td>179</td><td>head coach</td><td>2019-07-04</td><td>NULL</td></tr>",
                            "<tr><td>54</td><td>15</td><td>132</td><td>draft coach</td><td>2018-09-15</td><td>NULL</td></tr>",
                            "<tr><td>55</td><td>8</td><td>24</td><td>strategic coach</td><td>2014-09-14</td><td>NULL</td></tr>",
                            "<tr><td>57</td><td>63</td><td>84</td><td>head coach</td><td>2019-05-24</td><td>NULL</td></tr>",
                            "<tr><td>58</td><td>25</td><td>76</td><td>draft coach</td><td>2015-07-08</td><td>NULL</td></tr>",
                            "<tr><td>59</td><td>62</td><td>5</td><td>strategic coach</td><td>2018-11-15</td><td>2020-03-24</td></tr>",
                            "<tr><td>60</td><td>79</td><td>160</td><td>sports psychologist</td><td>2018-12-06</td><td>2021-04-14</td></tr>",
                            "<tr><td>61</td><td>3</td><td>141</td><td>head coach</td><td>2015-08-13</td><td>2020-10-31</td></tr>",
                            "<tr><td>62</td><td>45</td><td>101</td><td>draft coach</td><td>2014-11-14</td><td>2017-09-20</td></tr>",
                            "<tr><td>63</td><td>85</td><td>129</td><td>strategic coach</td><td>2019-05-28</td><td>2021-05-27</td></tr>",
                            "<tr><td>64</td><td>22</td><td>54</td><td>sports psychologist</td><td>2019-10-04</td><td>2021-03-06</td></tr>",
                            "<tr><td>65</td><td>36</td><td>83</td><td>head coach</td><td>2017-07-25</td><td>2021-06-06</td></tr>",
                            "<tr><td>66</td><td>5</td><td>57</td><td>draft coach</td><td>2018-11-13</td><td>2019-05-11</td></tr>",
                            "<tr><td>67</td><td>66</td><td>62</td><td>strategic coach</td><td>2015-12-24</td><td>2018-09-25</td></tr>",
                            "<tr><td>68</td><td>62</td><td>69</td><td>sports psychologist</td><td>2018-05-27</td><td>2020-03-22</td></tr>",
                            "<tr><td>69</td><td>29</td><td>137</td><td>head coach</td><td>2015-03-20</td><td>2021-06-07</td></tr>",
                            "<tr><td>71</td><td>78</td><td>61</td><td>strategic coach</td><td>2018-03-11</td><td>2020-06-09</td></tr>",
                            "<tr><td>72</td><td>21</td><td>70</td><td>sports psychologist</td><td>2014-12-19</td><td>2020-10-25</td></tr>",
                            "<tr><td>73</td><td>36</td><td>106</td><td>head coach</td><td>2020-05-13</td><td>2021-05-26</td></tr>",
                            "<tr><td>74</td><td>7</td><td>105</td><td>draft coach</td><td>2016-10-23</td><td>2021-07-02</td></tr>",
                            "<tr><td>75</td><td>35</td><td>51</td><td>strategic coach</td><td>2015-03-23</td><td>2018-01-24</td></tr>",
                            "<tr><td>76</td><td>49</td><td>169</td><td>sports psychologist</td><td>2016-12-01</td><td>2020-09-13</td></tr>",
                            "<tr><td>77</td><td>7</td><td>111</td><td>head coach</td><td>2017-08-27</td><td>2021-04-02</td></tr>",
                            "<tr><td>79</td><td>45</td><td>89</td><td>strategic coach</td><td>2019-07-15</td><td>2020-07-04</td></tr>",
                            "<tr><td>80</td><td>64</td><td>49</td><td>sports psychologist</td><td>2017-05-08</td><td>2021-06-12</td></tr>",
                            "<tr><td>81</td><td>28</td><td>36</td><td>head coach</td><td>2019-01-17</td><td>2020-11-16</td></tr>",
                            "<tr><td>82</td><td>67</td><td>38</td><td>draft coach</td><td>2020-02-28</td><td>2021-07-12</td></tr>",
                            "<tr><td>83</td><td>71</td><td>78</td><td>strategic coach</td><td>2019-07-04</td><td>2020-05-20</td></tr>",
                            "<tr><td>84</td><td>30</td><td>73</td><td>sports psychologist</td><td>2020-01-26</td><td>2020-05-25</td></tr>",
                            "<tr><td>85</td><td>83</td><td>117</td><td>head coach</td><td>2016-04-19</td><td>2017-01-29</td></tr>",
                            "<tr><td>86</td><td>21</td><td>109</td><td>draft coach</td><td>2019-05-09</td><td>2020-08-24</td></tr>",
                            "<tr><td>87</td><td>17</td><td>67</td><td>strategic coach</td><td>2019-02-05</td><td>2021-05-22</td></tr>",
                            "<tr><td>88</td><td>36</td><td>97</td><td>sports psychologist</td><td>2016-02-17</td><td>2021-02-19</td></tr>",
                            "<tr><td>89</td><td>28</td><td>71</td><td>head coach</td><td>2020-05-03</td><td>2020-12-25</td></tr>",
                            "<tr><td>90</td><td>76</td><td>99</td><td>draft coach</td><td>2014-10-22</td><td>2019-11-08</td></tr>",
                            "<tr><td>91</td><td>66</td><td>170</td><td>strategic coach</td><td>2016-02-16</td><td>2021-03-27</td></tr>",
                            "<tr><td>92</td><td>81</td><td>45</td><td>sports psychologist</td><td>2016-03-25</td><td>2021-02-23</td></tr>",
                            "<tr><td>93</td><td>7</td><td>64</td><td>head coach</td><td>2016-09-17</td><td>2018-04-24</td></tr>",
                            "<tr><td>96</td><td>7</td><td>52</td><td>sports psychologist</td><td>2017-10-16</td><td>2020-08-05</td></tr>",
                            "<tr><td>97</td><td>16</td><td>169</td><td>head coach</td><td>2016-10-10</td><td>2021-03-25</td></tr>",
                            "<tr><td>98</td><td>44</td><td>6</td><td>draft coach</td><td>2017-02-20</td><td>2017-05-11</td></tr>",
                            "<tr><td>99</td><td>44</td><td>88</td><td>strategic coach</td><td>2015-05-18</td><td>2016-11-14</td></tr>",
                            "<tr><td>101</td><td>68</td><td>8</td><td>head coach</td><td>2015-10-06</td><td>2016-02-08</td></tr>",
                            "<tr><td>103</td><td>18</td><td>14</td><td>strategic coach</td><td>2019-12-12</td><td>2021-05-28</td></tr>",
                            "<tr><td>104</td><td>59</td><td>81</td><td>sports psychologist</td><td>2019-04-28</td><td>2020-05-13</td></tr>",
                            "<tr><td>106</td><td>1</td><td>22</td><td>draft coach</td><td>2020-06-19</td><td>2020-10-29</td></tr>",
                            "<tr><td>107</td><td>82</td><td>61</td><td>strategic coach</td><td>2017-03-22</td><td>2020-02-03</td></tr>",
                            "<tr><td>108</td><td>69</td><td>144</td><td>sports psychologist</td><td>2019-01-22</td><td>2020-07-27</td></tr>",
                            "<tr><td>109</td><td>59</td><td>47</td><td>head coach</td><td>2017-06-16</td><td>2020-05-11</td></tr>",
                            "<tr><td>110</td><td>45</td><td>95</td><td>draft coach</td><td>2018-09-05</td><td>2018-12-10</td></tr>",
                            "<tr><td>112</td><td>51</td><td>59</td><td>sports psychologist</td><td>2015-07-30</td><td>2016-09-12</td></tr>",
                            "<tr><td>113</td><td>21</td><td>17</td><td>head coach</td><td>2018-10-05</td><td>2021-01-27</td></tr>",
                            "<tr><td>114</td><td>53</td><td>4</td><td>draft coach</td><td>2018-02-15</td><td>2020-04-26</td></tr>",
                            "<tr><td>116</td><td>21</td><td>2</td><td>sports psychologist</td><td>2015-11-03</td><td>2016-02-10</td></tr>",
                            "<tr><td>117</td><td>18</td><td>128</td><td>head coach</td><td>2015-03-20</td><td>2015-09-21</td></tr>",
                            "<tr><td>118</td><td>59</td><td>140</td><td>draft coach</td><td>2017-02-17</td><td>2018-11-02</td></tr>",
                            "<tr><td>120</td><td>85</td><td>99</td><td>sports psychologist</td><td>2017-06-25</td><td>2017-09-05</td></tr>",
                            "<tr><td>121</td><td>20</td><td>140</td><td>head coach</td><td>2015-03-17</td><td>2016-12-31</td></tr>",
                            "<tr><td>122</td><td>16</td><td>93</td><td>draft coach</td><td>2020-01-19</td><td>2021-05-12</td></tr>",
                            "<tr><td>124</td><td>16</td><td>53</td><td>sports psychologist</td><td>2015-11-21</td><td>2016-05-07</td></tr>",
                            "<tr><td>125</td><td>42</td><td>140</td><td>head coach</td><td>2017-01-27</td><td>2018-12-02</td></tr>",
                            "<tr><td>126</td><td>56</td><td>100</td><td>draft coach</td><td>2014-10-02</td><td>2021-01-30</td></tr>",
                            "<tr><td>127</td><td>60</td><td>81</td><td>strategic coach</td><td>2018-10-10</td><td>2018-12-04</td></tr>",
                            "<tr><td>128</td><td>34</td><td>83</td><td>sports psychologist</td><td>2017-11-07</td><td>2019-11-04</td></tr>",
                            "<tr><td>129</td><td>32</td><td>77</td><td>head coach</td><td>2016-05-10</td><td>2020-01-10</td></tr>",
                            "<tr><td>130</td><td>17</td><td>90</td><td>draft coach</td><td>2017-03-17</td><td>2020-10-11</td></tr>",
                            "<tr><td>131</td><td>34</td><td>157</td><td>strategic coach</td><td>2015-11-08</td><td>2021-07-02</td></tr>",
                            "<tr><td>132</td><td>36</td><td>163</td><td>sports psychologist</td><td>2016-06-01</td><td>2016-11-27</td></tr>",
                            "<tr><td>133</td><td>83</td><td>126</td><td>head coach</td><td>2014-12-28</td><td>2020-07-31</td></tr>",
                            "<tr><td>134</td><td>78</td><td>91</td><td>draft coach</td><td>2020-04-29</td><td>2021-01-14</td></tr>",
                            "<tr><td>135</td><td>37</td><td>45</td><td>strategic coach</td><td>2016-07-26</td><td>2021-05-29</td></tr>",
                            "<tr><td>136</td><td>85</td><td>54</td><td>sports psychologist</td><td>2019-01-06</td><td>2019-12-15</td></tr>",
                            "<tr><td>137</td><td>79</td><td>95</td><td>head coach</td><td>2016-05-04</td><td>2017-02-16</td></tr>",
                            "<tr><td>138</td><td>81</td><td>50</td><td>draft coach</td><td>2017-03-31</td><td>2021-02-21</td></tr>",
                            "<tr><td>139</td><td>74</td><td>114</td><td>strategic coach</td><td>2016-04-15</td><td>2017-01-26</td></tr>",
                            "<tr><td>140</td><td>69</td><td>57</td><td>sports psychologist</td><td>2015-11-13</td><td>2018-08-02</td></tr>",
                            "<tr><td>141</td><td>58</td><td>97</td><td>head coach</td><td>2020-03-19</td><td>2021-04-22</td></tr>",
                            "<tr><td>142</td><td>36</td><td>71</td><td>draft coach</td><td>2018-05-30</td><td>2019-02-22</td></tr>",
                            "<tr><td>143</td><td>67</td><td>148</td><td>strategic coach</td><td>2017-11-28</td><td>2020-11-14</td></tr>",
                            "<tr><td>144</td><td>72</td><td>106</td><td>sports psychologist</td><td>2019-02-24</td><td>2021-01-09</td></tr>",
                            "<tr><td>145</td><td>58</td><td>107</td><td>head coach</td><td>2016-10-29</td><td>2021-05-05</td></tr>",
                            "<tr><td>146</td><td>8</td><td>179</td><td>draft coach</td><td>2018-04-05</td><td>2019-01-15</td></tr>",
                            "<tr><td>147</td><td>36</td><td>87</td><td>strategic coach</td><td>2016-08-20</td><td>2019-10-16</td></tr>",
                            "<tr><td>148</td><td>32</td><td>170</td><td>sports psychologist</td><td>2019-07-29</td><td>2021-05-27</td></tr>",
                            "<tr><td>149</td><td>49</td><td>157</td><td>head coach</td><td>2016-10-01</td><td>2019-06-24</td></tr>",
                            "<tr><td>150</td><td>70</td><td>44</td><td>draft coach</td><td>2016-10-13</td><td>2018-07-24</td></tr>",
                            "<tr><td>151</td><td>15</td><td>46</td><td>strategic coach</td><td>2016-01-15</td><td>2016-08-09</td></tr>",
                            "<tr><td>152</td><td>32</td><td>34</td><td>sports psychologist</td><td>2017-01-11</td><td>2019-02-11</td></tr>",
                            "<tr><td>153</td><td>26</td><td>112</td><td>head coach</td><td>2014-10-31</td><td>2016-08-28</td></tr>",
                            "<tr><td>154</td><td>39</td><td>58</td><td>draft coach</td><td>2019-06-04</td><td>2020-07-01</td></tr>",
                            "<tr><td>155</td><td>39</td><td>100</td><td>strategic coach</td><td>2017-11-20</td><td>2018-05-31</td></tr>",
                            "<tr><td>156</td><td>41</td><td>160</td><td>sports psychologist</td><td>2014-11-29</td><td>2015-06-08</td></tr>",
                            "<tr><td>158</td><td>82</td><td>34</td><td>draft coach</td><td>2017-03-20</td><td>2020-02-04</td></tr>",
                            "<tr><td>159</td><td>50</td><td>174</td><td>strategic coach</td><td>2016-08-22</td><td>2017-07-23</td></tr>",
                            "<tr><td>160</td><td>56</td><td>107</td><td>sports psychologist</td><td>2016-07-30</td><td>2018-04-04</td></tr>",
                            "<tr><td>161</td><td>69</td><td>80</td><td>head coach</td><td>2017-01-02</td><td>2017-01-19</td></tr>",
                            "<tr><td>162</td><td>55</td><td>60</td><td>draft coach</td><td>2019-03-04</td><td>2019-06-12</td></tr>",
                            "<tr><td>163</td><td>19</td><td>85</td><td>strategic coach</td><td>2019-12-20</td><td>2021-04-28</td></tr>",
                            "<tr><td>164</td><td>8</td><td>65</td><td>sports psychologist</td><td>2014-10-04</td><td>2016-02-01</td></tr>",
                            "<tr><td>165</td><td>38</td><td>40</td><td>head coach</td><td>2014-08-21</td><td>2020-01-09</td></tr>",
                            "<tr><td>166</td><td>29</td><td>116</td><td>draft coach</td><td>2018-01-09</td><td>2020-06-18</td></tr>",
                            "<tr><td>167</td><td>39</td><td>130</td><td>strategic coach</td><td>2015-02-17</td><td>2017-03-22</td></tr>",
                            "<tr><td>168</td><td>29</td><td>129</td><td>sports psychologist</td><td>2017-10-19</td><td>2019-11-07</td></tr>",
                            "<tr><td>169</td><td>12</td><td>134</td><td>head coach</td><td>2017-10-26</td><td>2019-09-10</td></tr>",
                            "<tr><td>171</td><td>8</td><td>119</td><td>strategic coach</td><td>2017-11-08</td><td>2019-05-02</td></tr>",
                            "<tr><td>172</td><td>65</td><td>70</td><td>sports psychologist</td><td>2018-11-30</td><td>2021-03-05</td></tr>",
                            "<tr><td>173</td><td>71</td><td>160</td><td>head coach</td><td>2018-09-11</td><td>2019-07-14</td></tr>",
                            "<tr><td>174</td><td>10</td><td>98</td><td>draft coach</td><td>2019-06-04</td><td>2020-07-18</td></tr>",
                            "<tr><td>175</td><td>62</td><td>114</td><td>strategic coach</td><td>2016-12-01</td><td>2021-06-04</td></tr>",
                            "<tr><td>176</td><td>70</td><td>48</td><td>sports psychologist</td><td>2019-09-01</td><td>2020-11-20</td></tr>",
                            "<tr><td>177</td><td>66</td><td>98</td><td>head coach</td><td>2016-12-12</td><td>2019-12-22</td></tr>",
                            "<tr><td>178</td><td>34</td><td>39</td><td>draft coach</td><td>2019-09-08</td><td>2019-12-10</td></tr>",
                            "<tr><td>179</td><td>67</td><td>55</td><td>strategic coach</td><td>2015-11-22</td><td>2019-06-30</td></tr>",
                            "<tr><td>180</td><td>79</td><td>75</td><td>sports psychologist</td><td>2014-08-21</td><td>2020-04-25</td></tr>",
                            "<tr><td>181</td><td>61</td><td>105</td><td>head coach</td><td>2015-10-18</td><td>2021-04-10</td></tr>",
                            "<tr><td>182</td><td>46</td><td>12</td><td>draft coach</td><td>2015-09-12</td><td>2018-03-04</td></tr>",
                            "<tr><td>183</td><td>68</td><td>114</td><td>strategic coach</td><td>2017-03-04</td><td>2021-06-17</td></tr>",
                            "<tr><td>184</td><td>4</td><td>100</td><td>sports psychologist</td><td>2015-10-29</td><td>2018-05-13</td></tr>",
                            "<tr><td>185</td><td>19</td><td>157</td><td>head coach</td><td>2019-04-18</td><td>2020-07-27</td></tr>",
                            "<tr><td>187</td><td>34</td><td>42</td><td>strategic coach</td><td>2014-12-02</td><td>2016-05-03</td></tr>",
                            "<tr><td>188</td><td>53</td><td>83</td><td>sports psychologist</td><td>2019-09-24</td><td>2020-10-20</td></tr>",
                            "<tr><td>189</td><td>81</td><td>71</td><td>head coach</td><td>2019-04-30</td><td>2020-02-19</td></tr>",
                            "<tr><td>190</td><td>17</td><td>98</td><td>draft coach</td><td>2018-12-27</td><td>2019-01-12</td></tr>",
                            "<tr><td>191</td><td>27</td><td>169</td><td>strategic coach</td><td>2015-12-30</td><td>2020-03-22</td></tr>",
                            "<tr><td>192</td><td>40</td><td>96</td><td>sports psychologist</td><td>2020-05-25</td><td>2021-05-16</td></tr>",
                            "<tr><td>193</td><td>85</td><td>107</td><td>head coach</td><td>2020-03-30</td><td>2021-05-09</td></tr>",
                            "<tr><td>196</td><td>29</td><td>32</td><td>sports psychologist</td><td>2019-06-03</td><td>2019-10-03</td></tr>",
                            "<tr><td>197</td><td>73</td><td>130</td><td>head coach</td><td>2016-09-17</td><td>2018-09-18</td></tr>",
                            "<tr><td>198</td><td>34</td><td>44</td><td>draft coach</td><td>2015-07-28</td><td>2017-08-25</td></tr>",
                            "<tr><td>199</td><td>61</td><td>21</td><td>strategic coach</td><td>2017-09-27</td><td>2021-03-26</td></tr>",
                            "<tr><td>200</td><td>8</td><td>10</td><td>sports psychologist</td><td>2019-03-29</td><td>2020-02-28</td></tr>",
                            "<tr><td>201</td><td>63</td><td>117</td><td>head coach</td><td>2016-11-28</td><td>2020-11-30</td></tr>",
                            "<tr><td>202</td><td>55</td><td>53</td><td>draft coach</td><td>2018-12-05</td><td>2019-07-14</td></tr>",
                            "<tr><td>203</td><td>15</td><td>175</td><td>strategic coach</td><td>2020-04-24</td><td>2020-09-28</td></tr>",
                            "<tr><td>204</td><td>85</td><td>87</td><td>sports psychologist</td><td>2015-09-27</td><td>2017-05-06</td></tr>",
                            "<tr><td>205</td><td>56</td><td>74</td><td>head coach</td><td>2017-01-01</td><td>2019-02-17</td></tr>",
                            "<tr><td>207</td><td>33</td><td>94</td><td>strategic coach</td><td>2017-09-09</td><td>2020-08-05</td></tr>",
                            "<tr><td>208</td><td>27</td><td>91</td><td>sports psychologist</td><td>2014-09-08</td><td>2016-06-24</td></tr>",
                            "<tr><td>209</td><td>15</td><td>45</td><td>head coach</td><td>2016-07-22</td><td>2019-12-10</td></tr>",
                            "<tr><td>210</td><td>24</td><td>20</td><td>draft coach</td><td>2018-04-26</td><td>2021-04-16</td></tr>",
                            "<tr><td>211</td><td>70</td><td>15</td><td>strategic coach</td><td>2015-09-17</td><td>2019-06-30</td></tr>",
                            "<tr><td>212</td><td>82</td><td>31</td><td>sports psychologist</td><td>2018-06-06</td><td>2021-01-09</td></tr>",
                            "<tr><td>213</td><td>35</td><td>23</td><td>head coach</td><td>2020-06-11</td><td>2021-02-14</td></tr>",
                            "<tr><td>215</td><td>50</td><td>20</td><td>strategic coach</td><td>2015-03-14</td><td>2019-10-24</td></tr>",
                            "<tr><td>216</td><td>62</td><td>163</td><td>sports psychologist</td><td>2018-06-30</td><td>2020-04-13</td></tr>",
                            "<tr><td>217</td><td>49</td><td>3</td><td>head coach</td><td>2016-12-18</td><td>2017-08-04</td></tr>",
                            "<tr><td>218</td><td>4</td><td>144</td><td>draft coach</td><td>2019-09-08</td><td>2020-08-19</td></tr>",
                            "<tr><td>220</td><td>38</td><td>2</td><td>sports psychologist</td><td>2015-02-20</td><td>2018-08-05</td></tr>",
                            "</table>"
                        ]
                    }
                }
            ],
            "execution_count": 11
        }
    ]
}