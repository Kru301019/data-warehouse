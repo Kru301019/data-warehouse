{
    "metadata": {
        "kernelspec": {
            "name": "SQL",
            "display_name": "SQL",
            "language": "sql"
        },
        "language_info": {
            "name": "sql",
            "version": ""
        }
    },
    "nbformat_minor": 2,
    "nbformat": 4,
    "cells": [
        {
            "cell_type": "markdown",
            "source": [
                "1.Merchandise monthly sales and total salves in given month for each <span style=\"color: rgb(33, 33, 33); font-family: Consolas, &quot;Courier New&quot;, monospace; font-size: 12px; white-space: pre;\">Merchandise type for the </span>   <span style=\"color: var(--vscode-foreground);\">&nbsp;year 2016</span>"
            ],
            "metadata": {
                "azdata_cell_guid": "7eb8cc87-5271-4672-aa3b-520951c094ff"
            },
            "attachments": {}
        },
        {
            "cell_type": "code",
            "source": [
                "SELECT \r\n",
                "    DD.DateMonth,\r\n",
                "    MD.MerchandiseType,\r\n",
                "    SUM(OS.MerchandiseSold) AS MonthlySales,\r\n",
                "    SUM(SUM(OS.MerchandiseSold)) OVER (\r\n",
                "        PARTITION BY  DD.DateMonth\r\n",
                "    ) AS MonthlyTotalSales\r\n",
                "FROM OnlineSalesFact OS \r\n",
                "JOIN DateDim DD ON DD.DateID = OS.DateID\r\n",
                "JOIN MerchandiseDim MD ON OS.MerchandiseID = MD.MerchandiseID\r\n",
                "JOIN ProviderDim PD ON PD.ProviderID = MD.MerchandiseProviderID\r\n",
                "WHERE DD.DateYear = '2016'\r\n",
                "GROUP BY  DD.DateMonth, MD.MerchandiseType\r\n",
                "ORDER BY DD.DateMonth;"
            ],
            "metadata": {
                "azdata_cell_guid": "b65b372a-ef2f-4949-af18-3e275f300f3f",
                "language": "sql"
            },
            "outputs": [
                {
                    "output_type": "display_data",
                    "data": {
                        "text/html": "(29 rows affected)"
                    },
                    "metadata": {}
                },
                {
                    "output_type": "display_data",
                    "data": {
                        "text/html": "Total execution time: 00:00:00.034"
                    },
                    "metadata": {}
                },
                {
                    "output_type": "execute_result",
                    "execution_count": 64,
                    "data": {
                        "application/vnd.dataresource+json": {
                            "schema": {
                                "fields": [
                                    {
                                        "name": "DateMonth"
                                    },
                                    {
                                        "name": "MerchandiseType"
                                    },
                                    {
                                        "name": "MonthlySales"
                                    },
                                    {
                                        "name": "MonthlyTotalSales"
                                    }
                                ]
                            },
                            "data": [
                                {
                                    "DateMonth": "5",
                                    "MerchandiseType": "accessories",
                                    "MonthlySales": "13803",
                                    "MonthlyTotalSales": "126939"
                                },
                                {
                                    "DateMonth": "5",
                                    "MerchandiseType": "art and book",
                                    "MonthlySales": "15036",
                                    "MonthlyTotalSales": "126939"
                                },
                                {
                                    "DateMonth": "5",
                                    "MerchandiseType": "board games",
                                    "MonthlySales": "9411",
                                    "MonthlyTotalSales": "126939"
                                },
                                {
                                    "DateMonth": "5",
                                    "MerchandiseType": "clothing",
                                    "MonthlySales": "22704",
                                    "MonthlyTotalSales": "126939"
                                },
                                {
                                    "DateMonth": "5",
                                    "MerchandiseType": "figures",
                                    "MonthlySales": "16851",
                                    "MonthlyTotalSales": "126939"
                                },
                                {
                                    "DateMonth": "5",
                                    "MerchandiseType": "pins",
                                    "MonthlySales": "24624",
                                    "MonthlyTotalSales": "126939"
                                },
                                {
                                    "DateMonth": "5",
                                    "MerchandiseType": "plush",
                                    "MonthlySales": "11648",
                                    "MonthlyTotalSales": "126939"
                                },
                                {
                                    "DateMonth": "5",
                                    "MerchandiseType": "statues",
                                    "MonthlySales": "12862",
                                    "MonthlyTotalSales": "126939"
                                },
                                {
                                    "DateMonth": "6",
                                    "MerchandiseType": "accessories",
                                    "MonthlySales": "1415",
                                    "MonthlyTotalSales": "16253"
                                },
                                {
                                    "DateMonth": "6",
                                    "MerchandiseType": "board games",
                                    "MonthlySales": "2760",
                                    "MonthlyTotalSales": "16253"
                                },
                                {
                                    "DateMonth": "6",
                                    "MerchandiseType": "clothing",
                                    "MonthlySales": "5763",
                                    "MonthlyTotalSales": "16253"
                                },
                                {
                                    "DateMonth": "6",
                                    "MerchandiseType": "figures",
                                    "MonthlySales": "3247",
                                    "MonthlyTotalSales": "16253"
                                },
                                {
                                    "DateMonth": "6",
                                    "MerchandiseType": "pins",
                                    "MonthlySales": "168",
                                    "MonthlyTotalSales": "16253"
                                },
                                {
                                    "DateMonth": "6",
                                    "MerchandiseType": "plush",
                                    "MonthlySales": "2900",
                                    "MonthlyTotalSales": "16253"
                                },
                                {
                                    "DateMonth": "9",
                                    "MerchandiseType": "accessories",
                                    "MonthlySales": "416",
                                    "MonthlyTotalSales": "8303"
                                },
                                {
                                    "DateMonth": "9",
                                    "MerchandiseType": "art and book",
                                    "MonthlySales": "2771",
                                    "MonthlyTotalSales": "8303"
                                },
                                {
                                    "DateMonth": "9",
                                    "MerchandiseType": "clothing",
                                    "MonthlySales": "198",
                                    "MonthlyTotalSales": "8303"
                                },
                                {
                                    "DateMonth": "9",
                                    "MerchandiseType": "figures",
                                    "MonthlySales": "1686",
                                    "MonthlyTotalSales": "8303"
                                },
                                {
                                    "DateMonth": "9",
                                    "MerchandiseType": "pins",
                                    "MonthlySales": "488",
                                    "MonthlyTotalSales": "8303"
                                },
                                {
                                    "DateMonth": "9",
                                    "MerchandiseType": "plush",
                                    "MonthlySales": "1381",
                                    "MonthlyTotalSales": "8303"
                                },
                                {
                                    "DateMonth": "9",
                                    "MerchandiseType": "statues",
                                    "MonthlySales": "1363",
                                    "MonthlyTotalSales": "8303"
                                },
                                {
                                    "DateMonth": "10",
                                    "MerchandiseType": "accessories",
                                    "MonthlySales": "12719",
                                    "MonthlyTotalSales": "105123"
                                },
                                {
                                    "DateMonth": "10",
                                    "MerchandiseType": "art and book",
                                    "MonthlySales": "17631",
                                    "MonthlyTotalSales": "105123"
                                },
                                {
                                    "DateMonth": "10",
                                    "MerchandiseType": "board games",
                                    "MonthlySales": "2934",
                                    "MonthlyTotalSales": "105123"
                                },
                                {
                                    "DateMonth": "10",
                                    "MerchandiseType": "clothing",
                                    "MonthlySales": "10007",
                                    "MonthlyTotalSales": "105123"
                                },
                                {
                                    "DateMonth": "10",
                                    "MerchandiseType": "figures",
                                    "MonthlySales": "18693",
                                    "MonthlyTotalSales": "105123"
                                },
                                {
                                    "DateMonth": "10",
                                    "MerchandiseType": "pins",
                                    "MonthlySales": "21376",
                                    "MonthlyTotalSales": "105123"
                                },
                                {
                                    "DateMonth": "10",
                                    "MerchandiseType": "plush",
                                    "MonthlySales": "7088",
                                    "MonthlyTotalSales": "105123"
                                },
                                {
                                    "DateMonth": "10",
                                    "MerchandiseType": "statues",
                                    "MonthlySales": "14675",
                                    "MonthlyTotalSales": "105123"
                                }
                            ]
                        },
                        "text/html": "<table><tr><th>DateMonth</th><th>MerchandiseType</th><th>MonthlySales</th><th>MonthlyTotalSales</th></tr><tr><td>5</td><td>accessories</td><td>13803</td><td>126939</td></tr><tr><td>5</td><td>art and book</td><td>15036</td><td>126939</td></tr><tr><td>5</td><td>board games</td><td>9411</td><td>126939</td></tr><tr><td>5</td><td>clothing</td><td>22704</td><td>126939</td></tr><tr><td>5</td><td>figures</td><td>16851</td><td>126939</td></tr><tr><td>5</td><td>pins</td><td>24624</td><td>126939</td></tr><tr><td>5</td><td>plush</td><td>11648</td><td>126939</td></tr><tr><td>5</td><td>statues</td><td>12862</td><td>126939</td></tr><tr><td>6</td><td>accessories</td><td>1415</td><td>16253</td></tr><tr><td>6</td><td>board games</td><td>2760</td><td>16253</td></tr><tr><td>6</td><td>clothing</td><td>5763</td><td>16253</td></tr><tr><td>6</td><td>figures</td><td>3247</td><td>16253</td></tr><tr><td>6</td><td>pins</td><td>168</td><td>16253</td></tr><tr><td>6</td><td>plush</td><td>2900</td><td>16253</td></tr><tr><td>9</td><td>accessories</td><td>416</td><td>8303</td></tr><tr><td>9</td><td>art and book</td><td>2771</td><td>8303</td></tr><tr><td>9</td><td>clothing</td><td>198</td><td>8303</td></tr><tr><td>9</td><td>figures</td><td>1686</td><td>8303</td></tr><tr><td>9</td><td>pins</td><td>488</td><td>8303</td></tr><tr><td>9</td><td>plush</td><td>1381</td><td>8303</td></tr><tr><td>9</td><td>statues</td><td>1363</td><td>8303</td></tr><tr><td>10</td><td>accessories</td><td>12719</td><td>105123</td></tr><tr><td>10</td><td>art and book</td><td>17631</td><td>105123</td></tr><tr><td>10</td><td>board games</td><td>2934</td><td>105123</td></tr><tr><td>10</td><td>clothing</td><td>10007</td><td>105123</td></tr><tr><td>10</td><td>figures</td><td>18693</td><td>105123</td></tr><tr><td>10</td><td>pins</td><td>21376</td><td>105123</td></tr><tr><td>10</td><td>plush</td><td>7088</td><td>105123</td></tr><tr><td>10</td><td>statues</td><td>14675</td><td>105123</td></tr></table>"
                    },
                    "metadata": {}
                }
            ],
            "execution_count": 64
        },
        {
            "cell_type": "markdown",
            "source": [
                "2\\. total tickets sold of event and their incremental total for each distinct year"
            ],
            "metadata": {
                "azdata_cell_guid": "426c2fbc-0ee0-4eac-8f14-c1f8aa470015"
            },
            "attachments": {}
        },
        {
            "cell_type": "code",
            "source": [
                "SELECT \r\n",
                "       DD.DateYear,\r\n",
                "       DD.DateMonth,\r\n",
                "       SUM(EF.TicketsSold) AS TotalTicketsSold\r\n",
                "FROM \r\n",
                "    eventfact EF\r\n",
                "JOIN \r\n",
                "    EventDim ED ON EF.EventID = ED.EventID\r\n",
                "JOIN \r\n",
                "    DateDim  DD ON ED.EventStartDateID = DD.DateID\r\n",
                "GROUP BY  \r\n",
                "   ROLLUP(DD.DateYear, DD.DateMonth) "
            ],
            "metadata": {
                "azdata_cell_guid": "60b4538e-aa09-4ca8-981b-e44628fa6f81",
                "language": "sql"
            },
            "outputs": [
                {
                    "output_type": "display_data",
                    "data": {
                        "text/html": "(17 rows affected)"
                    },
                    "metadata": {}
                },
                {
                    "output_type": "display_data",
                    "data": {
                        "text/html": "Total execution time: 00:00:00.031"
                    },
                    "metadata": {}
                },
                {
                    "output_type": "execute_result",
                    "metadata": {},
                    "execution_count": 22,
                    "data": {
                        "application/vnd.dataresource+json": {
                            "schema": {
                                "fields": [
                                    {
                                        "name": "DateYear"
                                    },
                                    {
                                        "name": "DateMonth"
                                    },
                                    {
                                        "name": "TotalTicketsSold"
                                    }
                                ]
                            },
                            "data": [
                                {
                                    "DateYear": "2016",
                                    "DateMonth": "5",
                                    "TotalTicketsSold": "206613"
                                },
                                {
                                    "DateYear": "2016",
                                    "DateMonth": "9",
                                    "TotalTicketsSold": "178176"
                                },
                                {
                                    "DateYear": "2016",
                                    "DateMonth": "NULL",
                                    "TotalTicketsSold": "384789"
                                },
                                {
                                    "DateYear": "2017",
                                    "DateMonth": "4",
                                    "TotalTicketsSold": "172900"
                                },
                                {
                                    "DateYear": "2017",
                                    "DateMonth": "9",
                                    "TotalTicketsSold": "172557"
                                },
                                {
                                    "DateYear": "2017",
                                    "DateMonth": "NULL",
                                    "TotalTicketsSold": "345457"
                                },
                                {
                                    "DateYear": "2018",
                                    "DateMonth": "5",
                                    "TotalTicketsSold": "183600"
                                },
                                {
                                    "DateYear": "2018",
                                    "DateMonth": "10",
                                    "TotalTicketsSold": "140880"
                                },
                                {
                                    "DateYear": "2018",
                                    "DateMonth": "NULL",
                                    "TotalTicketsSold": "324480"
                                },
                                {
                                    "DateYear": "2019",
                                    "DateMonth": "5",
                                    "TotalTicketsSold": "158004"
                                },
                                {
                                    "DateYear": "2019",
                                    "DateMonth": "10",
                                    "TotalTicketsSold": "191008"
                                },
                                {
                                    "DateYear": "2019",
                                    "DateMonth": "NULL",
                                    "TotalTicketsSold": "349012"
                                },
                                {
                                    "DateYear": "2020",
                                    "DateMonth": "9",
                                    "TotalTicketsSold": "147574"
                                },
                                {
                                    "DateYear": "2020",
                                    "DateMonth": "NULL",
                                    "TotalTicketsSold": "147574"
                                },
                                {
                                    "DateYear": "2021",
                                    "DateMonth": "5",
                                    "TotalTicketsSold": "200596"
                                },
                                {
                                    "DateYear": "2021",
                                    "DateMonth": "NULL",
                                    "TotalTicketsSold": "200596"
                                },
                                {
                                    "DateYear": "NULL",
                                    "DateMonth": "NULL",
                                    "TotalTicketsSold": "1751908"
                                }
                            ]
                        },
                        "text/html": [
                            "<table>",
                            "<tr><th>DateYear</th><th>DateMonth</th><th>TotalTicketsSold</th></tr>",
                            "<tr><td>2016</td><td>5</td><td>206613</td></tr>",
                            "<tr><td>2016</td><td>9</td><td>178176</td></tr>",
                            "<tr><td>2016</td><td>NULL</td><td>384789</td></tr>",
                            "<tr><td>2017</td><td>4</td><td>172900</td></tr>",
                            "<tr><td>2017</td><td>9</td><td>172557</td></tr>",
                            "<tr><td>2017</td><td>NULL</td><td>345457</td></tr>",
                            "<tr><td>2018</td><td>5</td><td>183600</td></tr>",
                            "<tr><td>2018</td><td>10</td><td>140880</td></tr>",
                            "<tr><td>2018</td><td>NULL</td><td>324480</td></tr>",
                            "<tr><td>2019</td><td>5</td><td>158004</td></tr>",
                            "<tr><td>2019</td><td>10</td><td>191008</td></tr>",
                            "<tr><td>2019</td><td>NULL</td><td>349012</td></tr>",
                            "<tr><td>2020</td><td>9</td><td>147574</td></tr>",
                            "<tr><td>2020</td><td>NULL</td><td>147574</td></tr>",
                            "<tr><td>2021</td><td>5</td><td>200596</td></tr>",
                            "<tr><td>2021</td><td>NULL</td><td>200596</td></tr>",
                            "<tr><td>NULL</td><td>NULL</td><td>1751908</td></tr>",
                            "</table>"
                        ]
                    }
                }
            ],
            "execution_count": 22
        },
        {
            "cell_type": "markdown",
            "source": [
                "3\\. pvt table of number of games each referee has been included in each table"
            ],
            "metadata": {
                "azdata_cell_guid": "963709b6-31bb-4077-9885-fb5f6ef5e45d"
            }
        },
        {
            "cell_type": "code",
            "source": [
                "SELECT \r\n",
                "    RefereeName,\r\n",
                "   [Copper Box Arena],\r\n",
                "   [KeyArena],\r\n",
                "   [Staples Centre],\r\n",
                "   [Wembley Arena],\r\n",
                "   [Commerzbank Arena],\r\n",
                "   [San Jose SAP Centre],\r\n",
                "   [Sang-am World Cup Stadium],\r\n",
                "   [Spodek Arena],\r\n",
                "   [CSKA Arena],\r\n",
                "   [Royal Arena]\r\n",
                "FROM (\r\n",
                "    SELECT \r\n",
                "        RD.RefereeName,\r\n",
                "        SD.StadiumName\r\n",
                "    FROM GameFact GF\r\n",
                "    JOIN RefereeDim RD ON GF.RefereeID = RD.RefereeID\r\n",
                "    JOIN StadiumDim SD ON GF.StadiumID = SD.StadiumID\r\n",
                "\r\n",
                ") AS UP\r\n",
                "PIVOT (\r\n",
                "    COUNT(StadiumName)\r\n",
                "    FOR StadiumName IN (\r\n",
                "        [Copper Box Arena], \r\n",
                "        [KeyArena], \r\n",
                "        [Staples Centre], \r\n",
                "        [Wembley Arena], \r\n",
                "        [Commerzbank Arena], \r\n",
                "        [San Jose SAP Centre], \r\n",
                "        [Sang-am World Cup Stadium], \r\n",
                "        [Spodek Arena], \r\n",
                "        [CSKA Arena], \r\n",
                "        [Royal Arena]\r\n",
                "    )\r\n",
                ") AS PVT;\r\n",
                ""
            ],
            "metadata": {
                "azdata_cell_guid": "7df2c480-350e-400e-8375-60fc31a0c72a",
                "language": "sql"
            },
            "outputs": [
                {
                    "output_type": "display_data",
                    "data": {
                        "text/html": "(27 rows affected)"
                    },
                    "metadata": {}
                },
                {
                    "output_type": "display_data",
                    "data": {
                        "text/html": "Total execution time: 00:00:00.047"
                    },
                    "metadata": {}
                },
                {
                    "output_type": "execute_result",
                    "metadata": {},
                    "execution_count": 38,
                    "data": {
                        "application/vnd.dataresource+json": {
                            "schema": {
                                "fields": [
                                    {
                                        "name": "RefereeName"
                                    },
                                    {
                                        "name": "Copper Box Arena"
                                    },
                                    {
                                        "name": "KeyArena"
                                    },
                                    {
                                        "name": "Staples Centre"
                                    },
                                    {
                                        "name": "Wembley Arena"
                                    },
                                    {
                                        "name": "Commerzbank Arena"
                                    },
                                    {
                                        "name": "San Jose SAP Centre"
                                    },
                                    {
                                        "name": "Sang-am World Cup Stadium"
                                    },
                                    {
                                        "name": "Spodek Arena"
                                    },
                                    {
                                        "name": "CSKA Arena"
                                    },
                                    {
                                        "name": "Royal Arena"
                                    }
                                ]
                            },
                            "data": [
                                {
                                    "RefereeName": "Ainslee Feben",
                                    "Copper Box Arena": "0",
                                    "KeyArena": "0",
                                    "Staples Centre": "0",
                                    "Wembley Arena": "1",
                                    "Commerzbank Arena": "0",
                                    "San Jose SAP Centre": "0",
                                    "Sang-am World Cup Stadium": "1",
                                    "Spodek Arena": "0",
                                    "CSKA Arena": "1",
                                    "Royal Arena": "0"
                                },
                                {
                                    "RefereeName": "Ches Breadon",
                                    "Copper Box Arena": "0",
                                    "KeyArena": "0",
                                    "Staples Centre": "1",
                                    "Wembley Arena": "0",
                                    "Commerzbank Arena": "1",
                                    "San Jose SAP Centre": "0",
                                    "Sang-am World Cup Stadium": "0",
                                    "Spodek Arena": "0",
                                    "CSKA Arena": "1",
                                    "Royal Arena": "0"
                                },
                                {
                                    "RefereeName": "Clarinda Bannon",
                                    "Copper Box Arena": "0",
                                    "KeyArena": "1",
                                    "Staples Centre": "0",
                                    "Wembley Arena": "0",
                                    "Commerzbank Arena": "0",
                                    "San Jose SAP Centre": "0",
                                    "Sang-am World Cup Stadium": "0",
                                    "Spodek Arena": "0",
                                    "CSKA Arena": "0",
                                    "Royal Arena": "1"
                                },
                                {
                                    "RefereeName": "Claudianus Witterick",
                                    "Copper Box Arena": "2",
                                    "KeyArena": "0",
                                    "Staples Centre": "0",
                                    "Wembley Arena": "0",
                                    "Commerzbank Arena": "0",
                                    "San Jose SAP Centre": "0",
                                    "Sang-am World Cup Stadium": "0",
                                    "Spodek Arena": "1",
                                    "CSKA Arena": "0",
                                    "Royal Arena": "0"
                                },
                                {
                                    "RefereeName": "Corny Jobbins",
                                    "Copper Box Arena": "1",
                                    "KeyArena": "0",
                                    "Staples Centre": "0",
                                    "Wembley Arena": "0",
                                    "Commerzbank Arena": "0",
                                    "San Jose SAP Centre": "0",
                                    "Sang-am World Cup Stadium": "0",
                                    "Spodek Arena": "2",
                                    "CSKA Arena": "0",
                                    "Royal Arena": "0"
                                },
                                {
                                    "RefereeName": "Drucie McTrustrie",
                                    "Copper Box Arena": "0",
                                    "KeyArena": "0",
                                    "Staples Centre": "0",
                                    "Wembley Arena": "0",
                                    "Commerzbank Arena": "0",
                                    "San Jose SAP Centre": "0",
                                    "Sang-am World Cup Stadium": "1",
                                    "Spodek Arena": "1",
                                    "CSKA Arena": "0",
                                    "Royal Arena": "0"
                                },
                                {
                                    "RefereeName": "Eamon Sessuns",
                                    "Copper Box Arena": "0",
                                    "KeyArena": "1",
                                    "Staples Centre": "1",
                                    "Wembley Arena": "0",
                                    "Commerzbank Arena": "0",
                                    "San Jose SAP Centre": "1",
                                    "Sang-am World Cup Stadium": "0",
                                    "Spodek Arena": "3",
                                    "CSKA Arena": "0",
                                    "Royal Arena": "0"
                                },
                                {
                                    "RefereeName": "Englebert Loughlin",
                                    "Copper Box Arena": "0",
                                    "KeyArena": "0",
                                    "Staples Centre": "0",
                                    "Wembley Arena": "1",
                                    "Commerzbank Arena": "1",
                                    "San Jose SAP Centre": "0",
                                    "Sang-am World Cup Stadium": "1",
                                    "Spodek Arena": "0",
                                    "CSKA Arena": "0",
                                    "Royal Arena": "0"
                                },
                                {
                                    "RefereeName": "Felix Odell",
                                    "Copper Box Arena": "0",
                                    "KeyArena": "0",
                                    "Staples Centre": "1",
                                    "Wembley Arena": "1",
                                    "Commerzbank Arena": "0",
                                    "San Jose SAP Centre": "0",
                                    "Sang-am World Cup Stadium": "0",
                                    "Spodek Arena": "0",
                                    "CSKA Arena": "0",
                                    "Royal Arena": "0"
                                },
                                {
                                    "RefereeName": "Gibby Wherrett",
                                    "Copper Box Arena": "1",
                                    "KeyArena": "2",
                                    "Staples Centre": "0",
                                    "Wembley Arena": "0",
                                    "Commerzbank Arena": "0",
                                    "San Jose SAP Centre": "1",
                                    "Sang-am World Cup Stadium": "0",
                                    "Spodek Arena": "0",
                                    "CSKA Arena": "1",
                                    "Royal Arena": "0"
                                },
                                {
                                    "RefereeName": "Guthrey Lavery",
                                    "Copper Box Arena": "0",
                                    "KeyArena": "1",
                                    "Staples Centre": "0",
                                    "Wembley Arena": "0",
                                    "Commerzbank Arena": "0",
                                    "San Jose SAP Centre": "1",
                                    "Sang-am World Cup Stadium": "0",
                                    "Spodek Arena": "0",
                                    "CSKA Arena": "0",
                                    "Royal Arena": "0"
                                },
                                {
                                    "RefereeName": "Haven Henden",
                                    "Copper Box Arena": "1",
                                    "KeyArena": "0",
                                    "Staples Centre": "0",
                                    "Wembley Arena": "2",
                                    "Commerzbank Arena": "1",
                                    "San Jose SAP Centre": "2",
                                    "Sang-am World Cup Stadium": "0",
                                    "Spodek Arena": "1",
                                    "CSKA Arena": "0",
                                    "Royal Arena": "0"
                                },
                                {
                                    "RefereeName": "Jameson Lamden",
                                    "Copper Box Arena": "1",
                                    "KeyArena": "1",
                                    "Staples Centre": "0",
                                    "Wembley Arena": "1",
                                    "Commerzbank Arena": "0",
                                    "San Jose SAP Centre": "0",
                                    "Sang-am World Cup Stadium": "0",
                                    "Spodek Arena": "1",
                                    "CSKA Arena": "1",
                                    "Royal Arena": "0"
                                },
                                {
                                    "RefereeName": "Kamilah Witter",
                                    "Copper Box Arena": "0",
                                    "KeyArena": "0",
                                    "Staples Centre": "1",
                                    "Wembley Arena": "0",
                                    "Commerzbank Arena": "0",
                                    "San Jose SAP Centre": "0",
                                    "Sang-am World Cup Stadium": "0",
                                    "Spodek Arena": "0",
                                    "CSKA Arena": "0",
                                    "Royal Arena": "0"
                                },
                                {
                                    "RefereeName": "Manon Tredget",
                                    "Copper Box Arena": "0",
                                    "KeyArena": "1",
                                    "Staples Centre": "1",
                                    "Wembley Arena": "0",
                                    "Commerzbank Arena": "0",
                                    "San Jose SAP Centre": "0",
                                    "Sang-am World Cup Stadium": "0",
                                    "Spodek Arena": "0",
                                    "CSKA Arena": "0",
                                    "Royal Arena": "1"
                                },
                                {
                                    "RefereeName": "Mariam McEttigen",
                                    "Copper Box Arena": "1",
                                    "KeyArena": "0",
                                    "Staples Centre": "1",
                                    "Wembley Arena": "1",
                                    "Commerzbank Arena": "0",
                                    "San Jose SAP Centre": "0",
                                    "Sang-am World Cup Stadium": "1",
                                    "Spodek Arena": "0",
                                    "CSKA Arena": "2",
                                    "Royal Arena": "1"
                                },
                                {
                                    "RefereeName": "Rice Schollick",
                                    "Copper Box Arena": "0",
                                    "KeyArena": "0",
                                    "Staples Centre": "1",
                                    "Wembley Arena": "0",
                                    "Commerzbank Arena": "0",
                                    "San Jose SAP Centre": "1",
                                    "Sang-am World Cup Stadium": "2",
                                    "Spodek Arena": "0",
                                    "CSKA Arena": "0",
                                    "Royal Arena": "1"
                                },
                                {
                                    "RefereeName": "Rollie Heasly",
                                    "Copper Box Arena": "1",
                                    "KeyArena": "0",
                                    "Staples Centre": "1",
                                    "Wembley Arena": "0",
                                    "Commerzbank Arena": "0",
                                    "San Jose SAP Centre": "0",
                                    "Sang-am World Cup Stadium": "0",
                                    "Spodek Arena": "0",
                                    "CSKA Arena": "0",
                                    "Royal Arena": "0"
                                },
                                {
                                    "RefereeName": "Ronalda Tallon",
                                    "Copper Box Arena": "1",
                                    "KeyArena": "0",
                                    "Staples Centre": "0",
                                    "Wembley Arena": "0",
                                    "Commerzbank Arena": "0",
                                    "San Jose SAP Centre": "1",
                                    "Sang-am World Cup Stadium": "0",
                                    "Spodek Arena": "0",
                                    "CSKA Arena": "1",
                                    "Royal Arena": "0"
                                },
                                {
                                    "RefereeName": "Shermie Halegarth",
                                    "Copper Box Arena": "1",
                                    "KeyArena": "1",
                                    "Staples Centre": "0",
                                    "Wembley Arena": "0",
                                    "Commerzbank Arena": "0",
                                    "San Jose SAP Centre": "0",
                                    "Sang-am World Cup Stadium": "0",
                                    "Spodek Arena": "0",
                                    "CSKA Arena": "0",
                                    "Royal Arena": "0"
                                },
                                {
                                    "RefereeName": "Silas Shekle",
                                    "Copper Box Arena": "0",
                                    "KeyArena": "1",
                                    "Staples Centre": "0",
                                    "Wembley Arena": "0",
                                    "Commerzbank Arena": "1",
                                    "San Jose SAP Centre": "0",
                                    "Sang-am World Cup Stadium": "1",
                                    "Spodek Arena": "0",
                                    "CSKA Arena": "0",
                                    "Royal Arena": "0"
                                },
                                {
                                    "RefereeName": "Stephani Cansfield",
                                    "Copper Box Arena": "1",
                                    "KeyArena": "0",
                                    "Staples Centre": "0",
                                    "Wembley Arena": "0",
                                    "Commerzbank Arena": "1",
                                    "San Jose SAP Centre": "2",
                                    "Sang-am World Cup Stadium": "0",
                                    "Spodek Arena": "0",
                                    "CSKA Arena": "0",
                                    "Royal Arena": "0"
                                },
                                {
                                    "RefereeName": "Tatiania Syseland",
                                    "Copper Box Arena": "0",
                                    "KeyArena": "1",
                                    "Staples Centre": "0",
                                    "Wembley Arena": "0",
                                    "Commerzbank Arena": "1",
                                    "San Jose SAP Centre": "1",
                                    "Sang-am World Cup Stadium": "0",
                                    "Spodek Arena": "0",
                                    "CSKA Arena": "0",
                                    "Royal Arena": "1"
                                },
                                {
                                    "RefereeName": "Tessa Rolfo",
                                    "Copper Box Arena": "0",
                                    "KeyArena": "0",
                                    "Staples Centre": "0",
                                    "Wembley Arena": "2",
                                    "Commerzbank Arena": "2",
                                    "San Jose SAP Centre": "0",
                                    "Sang-am World Cup Stadium": "0",
                                    "Spodek Arena": "0",
                                    "CSKA Arena": "0",
                                    "Royal Arena": "0"
                                },
                                {
                                    "RefereeName": "Theodoric Croshaw",
                                    "Copper Box Arena": "1",
                                    "KeyArena": "0",
                                    "Staples Centre": "0",
                                    "Wembley Arena": "0",
                                    "Commerzbank Arena": "1",
                                    "San Jose SAP Centre": "1",
                                    "Sang-am World Cup Stadium": "0",
                                    "Spodek Arena": "1",
                                    "CSKA Arena": "0",
                                    "Royal Arena": "0"
                                },
                                {
                                    "RefereeName": "Vickie Gallaway",
                                    "Copper Box Arena": "0",
                                    "KeyArena": "0",
                                    "Staples Centre": "0",
                                    "Wembley Arena": "1",
                                    "Commerzbank Arena": "0",
                                    "San Jose SAP Centre": "0",
                                    "Sang-am World Cup Stadium": "0",
                                    "Spodek Arena": "0",
                                    "CSKA Arena": "0",
                                    "Royal Arena": "0"
                                },
                                {
                                    "RefereeName": "Zoe Aberkirder",
                                    "Copper Box Arena": "0",
                                    "KeyArena": "1",
                                    "Staples Centre": "0",
                                    "Wembley Arena": "1",
                                    "Commerzbank Arena": "1",
                                    "San Jose SAP Centre": "0",
                                    "Sang-am World Cup Stadium": "0",
                                    "Spodek Arena": "0",
                                    "CSKA Arena": "0",
                                    "Royal Arena": "0"
                                }
                            ]
                        },
                        "text/html": [
                            "<table>",
                            "<tr><th>RefereeName</th><th>Copper Box Arena</th><th>KeyArena</th><th>Staples Centre</th><th>Wembley Arena</th><th>Commerzbank Arena</th><th>San Jose SAP Centre</th><th>Sang-am World Cup Stadium</th><th>Spodek Arena</th><th>CSKA Arena</th><th>Royal Arena</th></tr>",
                            "<tr><td>Ainslee Feben</td><td>0</td><td>0</td><td>0</td><td>1</td><td>0</td><td>0</td><td>1</td><td>0</td><td>1</td><td>0</td></tr>",
                            "<tr><td>Ches Breadon</td><td>0</td><td>0</td><td>1</td><td>0</td><td>1</td><td>0</td><td>0</td><td>0</td><td>1</td><td>0</td></tr>",
                            "<tr><td>Clarinda Bannon</td><td>0</td><td>1</td><td>0</td><td>0</td><td>0</td><td>0</td><td>0</td><td>0</td><td>0</td><td>1</td></tr>",
                            "<tr><td>Claudianus Witterick</td><td>2</td><td>0</td><td>0</td><td>0</td><td>0</td><td>0</td><td>0</td><td>1</td><td>0</td><td>0</td></tr>",
                            "<tr><td>Corny Jobbins</td><td>1</td><td>0</td><td>0</td><td>0</td><td>0</td><td>0</td><td>0</td><td>2</td><td>0</td><td>0</td></tr>",
                            "<tr><td>Drucie McTrustrie</td><td>0</td><td>0</td><td>0</td><td>0</td><td>0</td><td>0</td><td>1</td><td>1</td><td>0</td><td>0</td></tr>",
                            "<tr><td>Eamon Sessuns</td><td>0</td><td>1</td><td>1</td><td>0</td><td>0</td><td>1</td><td>0</td><td>3</td><td>0</td><td>0</td></tr>",
                            "<tr><td>Englebert Loughlin</td><td>0</td><td>0</td><td>0</td><td>1</td><td>1</td><td>0</td><td>1</td><td>0</td><td>0</td><td>0</td></tr>",
                            "<tr><td>Felix Odell</td><td>0</td><td>0</td><td>1</td><td>1</td><td>0</td><td>0</td><td>0</td><td>0</td><td>0</td><td>0</td></tr>",
                            "<tr><td>Gibby Wherrett</td><td>1</td><td>2</td><td>0</td><td>0</td><td>0</td><td>1</td><td>0</td><td>0</td><td>1</td><td>0</td></tr>",
                            "<tr><td>Guthrey Lavery</td><td>0</td><td>1</td><td>0</td><td>0</td><td>0</td><td>1</td><td>0</td><td>0</td><td>0</td><td>0</td></tr>",
                            "<tr><td>Haven Henden</td><td>1</td><td>0</td><td>0</td><td>2</td><td>1</td><td>2</td><td>0</td><td>1</td><td>0</td><td>0</td></tr>",
                            "<tr><td>Jameson Lamden</td><td>1</td><td>1</td><td>0</td><td>1</td><td>0</td><td>0</td><td>0</td><td>1</td><td>1</td><td>0</td></tr>",
                            "<tr><td>Kamilah Witter</td><td>0</td><td>0</td><td>1</td><td>0</td><td>0</td><td>0</td><td>0</td><td>0</td><td>0</td><td>0</td></tr>",
                            "<tr><td>Manon Tredget</td><td>0</td><td>1</td><td>1</td><td>0</td><td>0</td><td>0</td><td>0</td><td>0</td><td>0</td><td>1</td></tr>",
                            "<tr><td>Mariam McEttigen</td><td>1</td><td>0</td><td>1</td><td>1</td><td>0</td><td>0</td><td>1</td><td>0</td><td>2</td><td>1</td></tr>",
                            "<tr><td>Rice Schollick</td><td>0</td><td>0</td><td>1</td><td>0</td><td>0</td><td>1</td><td>2</td><td>0</td><td>0</td><td>1</td></tr>",
                            "<tr><td>Rollie Heasly</td><td>1</td><td>0</td><td>1</td><td>0</td><td>0</td><td>0</td><td>0</td><td>0</td><td>0</td><td>0</td></tr>",
                            "<tr><td>Ronalda Tallon</td><td>1</td><td>0</td><td>0</td><td>0</td><td>0</td><td>1</td><td>0</td><td>0</td><td>1</td><td>0</td></tr>",
                            "<tr><td>Shermie Halegarth</td><td>1</td><td>1</td><td>0</td><td>0</td><td>0</td><td>0</td><td>0</td><td>0</td><td>0</td><td>0</td></tr>",
                            "<tr><td>Silas Shekle</td><td>0</td><td>1</td><td>0</td><td>0</td><td>1</td><td>0</td><td>1</td><td>0</td><td>0</td><td>0</td></tr>",
                            "<tr><td>Stephani Cansfield</td><td>1</td><td>0</td><td>0</td><td>0</td><td>1</td><td>2</td><td>0</td><td>0</td><td>0</td><td>0</td></tr>",
                            "<tr><td>Tatiania Syseland</td><td>0</td><td>1</td><td>0</td><td>0</td><td>1</td><td>1</td><td>0</td><td>0</td><td>0</td><td>1</td></tr>",
                            "<tr><td>Tessa Rolfo</td><td>0</td><td>0</td><td>0</td><td>2</td><td>2</td><td>0</td><td>0</td><td>0</td><td>0</td><td>0</td></tr>",
                            "<tr><td>Theodoric Croshaw</td><td>1</td><td>0</td><td>0</td><td>0</td><td>1</td><td>1</td><td>0</td><td>1</td><td>0</td><td>0</td></tr>",
                            "<tr><td>Vickie Gallaway</td><td>0</td><td>0</td><td>0</td><td>1</td><td>0</td><td>0</td><td>0</td><td>0</td><td>0</td><td>0</td></tr>",
                            "<tr><td>Zoe Aberkirder</td><td>0</td><td>1</td><td>0</td><td>1</td><td>1</td><td>0</td><td>0</td><td>0</td><td>0</td><td>0</td></tr>",
                            "</table>"
                        ]
                    }
                }
            ],
            "execution_count": 38
        }
    ]
}