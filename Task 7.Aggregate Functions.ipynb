{
    "metadata": {
        "kernelspec": {
            "name": "SQL",
            "display_name": "SQL",
            "language": "sql"
        },
        "language_info": {
            "name": "sql",
            "version": ""
        }
    },
    "nbformat_minor": 2,
    "nbformat": 4,
    "cells": [
        {
            "cell_type": "code",
            "source": [
                "SELECT top (10) ROUND(FS.CostAmount, 2) roundCOst\r\n",
                "FROM FactSales FS "
            ],
            "metadata": {
                "azdata_cell_guid": "0d17e14f-70a3-4d73-8d11-faed4d8d8f9d",
                "language": "sql",
                "tags": [
                    "hide_input"
                ]
            },
            "outputs": [],
            "execution_count": null
        },
        {
            "cell_type": "markdown",
            "source": [
                "<span style=\"font-size: 11pt; font-family: Arial, sans-serif; color: rgb(0, 0, 0); background-color: transparent; font-variant-numeric: normal; font-variant-east-asian: normal; font-variant-alternates: normal; font-variant-position: normal; vertical-align: baseline; white-space-collapse: preserve;\">What is the average cost of all the sales during 2019?</span>"
            ],
            "metadata": {
                "azdata_cell_guid": "35700269-c852-4d64-8bb3-5c48523bbdbd"
            },
            "attachments": {}
        },
        {
            "cell_type": "code",
            "source": [
                "select  YEAR(FS.FullDateTime) as [YEAR],AVG(FS.SalesAmount) AS [avg sales]\r\n",
                "FROM FactSales FS \r\n",
                "where YEAR(FS.FullDateTime) = '2019'\r\n",
                "GROUP by YEAR(FS.FullDateTime)\r\n",
                ""
            ],
            "metadata": {
                "azdata_cell_guid": "a2fbaa3c-8b10-4d23-8e4d-bcb4fdc74a53",
                "language": "sql"
            },
            "outputs": [
                {
                    "output_type": "display_data",
                    "data": {
                        "text/html": "(1 row affected)"
                    },
                    "metadata": {}
                },
                {
                    "output_type": "display_data",
                    "data": {
                        "text/html": "Total execution time: 00:00:00.046"
                    },
                    "metadata": {}
                },
                {
                    "output_type": "execute_result",
                    "metadata": {},
                    "execution_count": 22,
                    "data": {
                        "application/vnd.dataresource+json": {
                            "schema": {
                                "fields": [
                                    {
                                        "name": "YEAR"
                                    },
                                    {
                                        "name": "avg sales"
                                    }
                                ]
                            },
                            "data": [
                                {
                                    "YEAR": "2019",
                                    "avg sales": "226.827209"
                                }
                            ]
                        },
                        "text/html": [
                            "<table>",
                            "<tr><th>YEAR</th><th>avg sales</th></tr>",
                            "<tr><td>2019</td><td>226.827209</td></tr>",
                            "</table>"
                        ]
                    }
                }
            ],
            "execution_count": 22
        },
        {
            "cell_type": "markdown",
            "source": [
                "<span style=\"font-size: 11pt; font-family: Arial, sans-serif; color: rgb(0, 0, 0); background-color: transparent; font-variant-numeric: normal; font-variant-east-asian: normal; font-variant-alternates: normal; font-variant-position: normal; vertical-align: baseline; white-space-collapse: preserve;\">What is the average profit(Amount-Cost) of all the sales during 2019?</span>"
            ],
            "metadata": {
                "azdata_cell_guid": "2fd9724b-73fa-44a5-af21-97656bd7c14b"
            },
            "attachments": {}
        },
        {
            "cell_type": "code",
            "source": [
                "select YEAR(FS.FullDateTime) as [YEAR], AVG(FS.SalesAmount) - AVG(FS.CostAmount) as [AVG PROFIT]\r\n",
                "FROM FactSales FS\r\n",
                "where YEAR(FS.FullDateTime) = '2019'\r\n",
                "GROUP by YEAR(FS.FullDateTime)\r\n",
                ""
            ],
            "metadata": {
                "azdata_cell_guid": "c2ea75fc-4255-4562-80da-22172860f6e8",
                "language": "sql"
            },
            "outputs": [
                {
                    "output_type": "display_data",
                    "data": {
                        "text/html": "(1 row affected)"
                    },
                    "metadata": {}
                },
                {
                    "output_type": "display_data",
                    "data": {
                        "text/html": "Total execution time: 00:00:00.037"
                    },
                    "metadata": {}
                },
                {
                    "output_type": "execute_result",
                    "metadata": {},
                    "execution_count": 30,
                    "data": {
                        "application/vnd.dataresource+json": {
                            "schema": {
                                "fields": [
                                    {
                                        "name": "YEAR"
                                    },
                                    {
                                        "name": "AVG PROFIT"
                                    }
                                ]
                            },
                            "data": [
                                {
                                    "YEAR": "2019",
                                    "AVG PROFIT": "152.832537"
                                }
                            ]
                        },
                        "text/html": [
                            "<table>",
                            "<tr><th>YEAR</th><th>AVG PROFIT</th></tr>",
                            "<tr><td>2019</td><td>152.832537</td></tr>",
                            "</table>"
                        ]
                    }
                }
            ],
            "execution_count": 30
        },
        {
            "cell_type": "markdown",
            "source": [
                "<span style=\"font-size: 11pt; font-family: Arial, sans-serif; color: rgb(0, 0, 0); background-color: transparent; font-variant-numeric: normal; font-variant-east-asian: normal; font-variant-alternates: normal; font-variant-position: normal; vertical-align: baseline; white-space-collapse: preserve;\">What is the most profitable sale?</span>"
            ],
            "metadata": {
                "azdata_cell_guid": "8ea8c824-c8a6-48ec-87e1-3ea9b8162fe4"
            },
            "attachments": {}
        },
        {
            "cell_type": "code",
            "source": [
                "SELECT  max((FS.SalesAmount) - (FS.CostAmount)) as most_profit_sales \r\n",
                "FROM FactSales FS;"
            ],
            "metadata": {
                "azdata_cell_guid": "6da29c63-1ae7-47bb-b594-b89394892ced",
                "language": "sql"
            },
            "outputs": [
                {
                    "output_type": "display_data",
                    "data": {
                        "text/html": "(1 row affected)"
                    },
                    "metadata": {}
                },
                {
                    "output_type": "display_data",
                    "data": {
                        "text/html": "Total execution time: 00:00:00.026"
                    },
                    "metadata": {}
                },
                {
                    "output_type": "execute_result",
                    "metadata": {},
                    "execution_count": 43,
                    "data": {
                        "application/vnd.dataresource+json": {
                            "schema": {
                                "fields": [
                                    {
                                        "name": "most_profit_sales"
                                    }
                                ]
                            },
                            "data": [
                                {
                                    "most_profit_sales": "447.31"
                                }
                            ]
                        },
                        "text/html": [
                            "<table>",
                            "<tr><th>most_profit_sales</th></tr>",
                            "<tr><td>447.31</td></tr>",
                            "</table>"
                        ]
                    }
                }
            ],
            "execution_count": 43
        },
        {
            "cell_type": "markdown",
            "source": [
                "<span style=\"font-size: 11pt; font-family: Arial, sans-serif; color: rgb(0, 0, 0); background-color: transparent; font-variant-numeric: normal; font-variant-east-asian: normal; font-variant-alternates: normal; font-variant-position: normal; vertical-align: baseline; white-space-collapse: preserve;\">What is the least costly sale?</span>"
            ],
            "metadata": {
                "language": "sql",
                "azdata_cell_guid": "44b2d058-7c21-4432-a39c-09305c9ba2a6"
            },
            "attachments": {}
        },
        {
            "cell_type": "code",
            "source": [
                "SELECT TOP 5\r\n",
                "    FS.CostAmount AS least_costly_sale, \r\n",
                "    FS.*\r\n",
                "FROM FactSales FS\r\n",
                "ORDER BY FS.CostAmount ASC;\r\n",
                ""
            ],
            "metadata": {
                "azdata_cell_guid": "4e85848e-ed7e-4f75-9bd8-9f2b28b24173",
                "language": "sql"
            },
            "outputs": [
                {
                    "output_type": "display_data",
                    "data": {
                        "text/html": "(5 rows affected)"
                    },
                    "metadata": {}
                },
                {
                    "output_type": "display_data",
                    "data": {
                        "text/html": "Total execution time: 00:00:00.046"
                    },
                    "metadata": {}
                },
                {
                    "output_type": "execute_result",
                    "metadata": {},
                    "execution_count": 46,
                    "data": {
                        "application/vnd.dataresource+json": {
                            "schema": {
                                "fields": [
                                    {
                                        "name": "least_costly_sale"
                                    },
                                    {
                                        "name": "FullDateTime"
                                    },
                                    {
                                        "name": "ProductCode"
                                    },
                                    {
                                        "name": "TransactionNo"
                                    },
                                    {
                                        "name": "EmployeeID"
                                    },
                                    {
                                        "name": "PromotionID"
                                    },
                                    {
                                        "name": "Quantity"
                                    },
                                    {
                                        "name": "SalesAmount"
                                    },
                                    {
                                        "name": "CostAmount"
                                    }
                                ]
                            },
                            "data": [
                                {
                                    "least_costly_sale": "1.21",
                                    "FullDateTime": "2019-04-22 12:00:00.000",
                                    "ProductCode": "23",
                                    "TransactionNo": "4",
                                    "EmployeeID": "35",
                                    "PromotionID": "NULL",
                                    "Quantity": "37",
                                    "SalesAmount": "434.15",
                                    "CostAmount": "1.21"
                                },
                                {
                                    "least_costly_sale": "1.24",
                                    "FullDateTime": "2019-12-21 12:00:00.000",
                                    "ProductCode": "7",
                                    "TransactionNo": "3",
                                    "EmployeeID": "21",
                                    "PromotionID": "NULL",
                                    "Quantity": "36",
                                    "SalesAmount": "336.16",
                                    "CostAmount": "1.24"
                                },
                                {
                                    "least_costly_sale": "1.24",
                                    "FullDateTime": "2020-12-04 13:00:00.000",
                                    "ProductCode": "9",
                                    "TransactionNo": "3",
                                    "EmployeeID": "11",
                                    "PromotionID": "1",
                                    "Quantity": "17",
                                    "SalesAmount": "338.55",
                                    "CostAmount": "1.24"
                                },
                                {
                                    "least_costly_sale": "1.27",
                                    "FullDateTime": "2020-05-17 12:00:00.000",
                                    "ProductCode": "39",
                                    "TransactionNo": "1",
                                    "EmployeeID": "10",
                                    "PromotionID": "NULL",
                                    "Quantity": "11",
                                    "SalesAmount": "424.14",
                                    "CostAmount": "1.27"
                                },
                                {
                                    "least_costly_sale": "1.28",
                                    "FullDateTime": "2020-03-24 12:00:00.000",
                                    "ProductCode": "21",
                                    "TransactionNo": "2",
                                    "EmployeeID": "9",
                                    "PromotionID": "NULL",
                                    "Quantity": "6",
                                    "SalesAmount": "249.08",
                                    "CostAmount": "1.28"
                                }
                            ]
                        },
                        "text/html": [
                            "<table>",
                            "<tr><th>least_costly_sale</th><th>FullDateTime</th><th>ProductCode</th><th>TransactionNo</th><th>EmployeeID</th><th>PromotionID</th><th>Quantity</th><th>SalesAmount</th><th>CostAmount</th></tr>",
                            "<tr><td>1.21</td><td>2019-04-22 12:00:00.000</td><td>23</td><td>4</td><td>35</td><td>NULL</td><td>37</td><td>434.15</td><td>1.21</td></tr>",
                            "<tr><td>1.24</td><td>2019-12-21 12:00:00.000</td><td>7</td><td>3</td><td>21</td><td>NULL</td><td>36</td><td>336.16</td><td>1.24</td></tr>",
                            "<tr><td>1.24</td><td>2020-12-04 13:00:00.000</td><td>9</td><td>3</td><td>11</td><td>1</td><td>17</td><td>338.55</td><td>1.24</td></tr>",
                            "<tr><td>1.27</td><td>2020-05-17 12:00:00.000</td><td>39</td><td>1</td><td>10</td><td>NULL</td><td>11</td><td>424.14</td><td>1.27</td></tr>",
                            "<tr><td>1.28</td><td>2020-03-24 12:00:00.000</td><td>21</td><td>2</td><td>9</td><td>NULL</td><td>6</td><td>249.08</td><td>1.28</td></tr>",
                            "</table>"
                        ]
                    }
                }
            ],
            "execution_count": 46
        },
        {
            "cell_type": "markdown",
            "source": [
                "<span style=\"font-size: 11pt; font-family: Arial, sans-serif; color: rgb(0, 0, 0); background-color: transparent; font-variant-numeric: normal; font-variant-east-asian: normal; font-variant-alternates: normal; font-variant-position: normal; vertical-align: baseline; white-space-collapse: preserve;\">How many sales exist for december 2020?</span>"
            ],
            "metadata": {
                "azdata_cell_guid": "0602991a-b99a-4516-8825-19fec29fc996"
            },
            "attachments": {}
        },
        {
            "cell_type": "code",
            "source": [
                "SELECT COUNT(*)\r\n",
                "FROM FactSales FS\r\n",
                "where YEAR(FS.FullDateTime) = '2020' and\r\n",
                "MONTH(FS.FullDateTime) = '12' and\r\n",
                "FS.SalesAmount is not null;"
            ],
            "metadata": {
                "azdata_cell_guid": "220516fb-1405-4933-a19a-023acbbb323f",
                "language": "sql"
            },
            "outputs": [
{
    "output_type": "display_data",
    "data": {
        "text/html": "(1 row affected)"
    },
    "metadata": {}
}, {
    "output_type": "display_data",
    "data": {
        "text/html": "Total execution time: 00:00:00.024"
    },
    "metadata": {}
}, {
    "output_type": "execute_result",
    "metadata": {},
    "execution_count": 53,
    "data": {
        "application/vnd.dataresource+json": {
            "schema": {
                "fields": [
                    {
                        "name": "(No column name)"
                    }
                ]
            },
            "data": [
                {
                    "(No column name)": "201"
                }
            ]
        },
        "text/html": [
            "<table>",
            "<tr><th>(No column name)</th></tr>",
            "<tr><td>201</td></tr>",
            "</table>"
        ]
    }
}
],
            "execution_count": 53
        }
    ]
}