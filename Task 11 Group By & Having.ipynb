{
    "metadata": {
        "kernelspec": {
            "name": "SQL",
            "display_name": "SQL",
            "language": "sql"
        },
        "language_info": {
            "name": "sql",
            "version": ""
        }
    },
    "nbformat_minor": 2,
    "nbformat": 4,
    "cells": [
        {
            "cell_type": "code",
            "source": [
                "SELECT  \r\n",
                "    COUNT(FS.TransactionNo) as num_of_transtion,\r\n",
                "    month(FS.FullDateTime) as month_of_transtion\r\n",
                "from FactSales FS\r\n",
                "JOIN DimTransactionType DTT on FS.TransactionNo = DTT.TransactionNo\r\n",
                "where YEAR(FS.FullDateTime) = 2019\r\n",
                "GROUP by month(FS.FullDateTime)\r\n",
                "ORDER by month_of_transtion"
            ],
            "metadata": {
                "azdata_cell_guid": "c612a947-5cce-4a88-8aa1-26c90f4d1947",
                "language": "sql"
            },
            "outputs": [
                {
                    "output_type": "display_data",
                    "data": {
                        "text/html": "(12 rows affected)"
                    },
                    "metadata": {}
                },
                {
                    "output_type": "display_data",
                    "data": {
                        "text/html": "Total execution time: 00:00:00.051"
                    },
                    "metadata": {}
                },
                {
                    "output_type": "execute_result",
                    "metadata": {},
                    "execution_count": 9,
                    "data": {
                        "application/vnd.dataresource+json": {
                            "schema": {
                                "fields": [
                                    {
                                        "name": "num_of_transtion"
                                    },
                                    {
                                        "name": "month_of_transtion"
                                    }
                                ]
                            },
                            "data": [
                                {
                                    "num_of_transtion": "171",
                                    "month_of_transtion": "1"
                                },
                                {
                                    "num_of_transtion": "208",
                                    "month_of_transtion": "2"
                                },
                                {
                                    "num_of_transtion": "192",
                                    "month_of_transtion": "3"
                                },
                                {
                                    "num_of_transtion": "207",
                                    "month_of_transtion": "4"
                                },
                                {
                                    "num_of_transtion": "216",
                                    "month_of_transtion": "5"
                                },
                                {
                                    "num_of_transtion": "219",
                                    "month_of_transtion": "6"
                                },
                                {
                                    "num_of_transtion": "221",
                                    "month_of_transtion": "7"
                                },
                                {
                                    "num_of_transtion": "209",
                                    "month_of_transtion": "8"
                                },
                                {
                                    "num_of_transtion": "218",
                                    "month_of_transtion": "9"
                                },
                                {
                                    "num_of_transtion": "216",
                                    "month_of_transtion": "10"
                                },
                                {
                                    "num_of_transtion": "182",
                                    "month_of_transtion": "11"
                                },
                                {
                                    "num_of_transtion": "217",
                                    "month_of_transtion": "12"
                                }
                            ]
                        },
                        "text/html": [
                            "<table>",
                            "<tr><th>num_of_transtion</th><th>month_of_transtion</th></tr>",
                            "<tr><td>171</td><td>1</td></tr>",
                            "<tr><td>208</td><td>2</td></tr>",
                            "<tr><td>192</td><td>3</td></tr>",
                            "<tr><td>207</td><td>4</td></tr>",
                            "<tr><td>216</td><td>5</td></tr>",
                            "<tr><td>219</td><td>6</td></tr>",
                            "<tr><td>221</td><td>7</td></tr>",
                            "<tr><td>209</td><td>8</td></tr>",
                            "<tr><td>218</td><td>9</td></tr>",
                            "<tr><td>216</td><td>10</td></tr>",
                            "<tr><td>182</td><td>11</td></tr>",
                            "<tr><td>217</td><td>12</td></tr>",
                            "</table>"
                        ]
                    }
                }
            ],
            "execution_count": 9
        },
        {
            "cell_type": "code",
            "source": [
                "SELECT DE.EmployeeFirstName, DE.EmployeeLastName, COUNT(FS.SalesAmount) as salesCount\r\n",
                "FROM FactSales FS \r\n",
                "JOIN DimEmployee DE on FS.EmployeeID = DE.EmployeeID\r\n",
                "WHERE FS.PromotionID is not NULL\r\n",
                "GROUP by DE.EmployeeFirstName, DE.EmployeeLastName\r\n",
                "HAVING COUNT(FS.SalesAmount) > 43\r\n",
                "ORDER by salesCount DESC"
            ],
            "metadata": {
                "azdata_cell_guid": "cab699b3-fea0-4327-9299-258955672ea0",
                "language": "sql"
            },
            "outputs": [
                {
                    "output_type": "display_data",
                    "data": {
                        "text/html": "(24 rows affected)"
                    },
                    "metadata": {}
                },
                {
                    "output_type": "display_data",
                    "data": {
                        "text/html": "Total execution time: 00:00:00.054"
                    },
                    "metadata": {}
                },
                {
                    "output_type": "execute_result",
                    "metadata": {},
                    "execution_count": 25,
                    "data": {
                        "application/vnd.dataresource+json": {
                            "schema": {
                                "fields": [
                                    {
                                        "name": "EmployeeFirstName"
                                    },
                                    {
                                        "name": "EmployeeLastName"
                                    },
                                    {
                                        "name": "salesCount"
                                    }
                                ]
                            },
                            "data": [
                                {
                                    "EmployeeFirstName": "Jeniffer",
                                    "EmployeeLastName": "Handsheart",
                                    "salesCount": "61"
                                },
                                {
                                    "EmployeeFirstName": "Cary",
                                    "EmployeeLastName": "De Ferrari",
                                    "salesCount": "58"
                                },
                                {
                                    "EmployeeFirstName": "Elwyn",
                                    "EmployeeLastName": "Ommundsen",
                                    "salesCount": "58"
                                },
                                {
                                    "EmployeeFirstName": "Chelsie",
                                    "EmployeeLastName": "M'Barron",
                                    "salesCount": "56"
                                },
                                {
                                    "EmployeeFirstName": "Konstantin",
                                    "EmployeeLastName": "Philipou",
                                    "salesCount": "53"
                                },
                                {
                                    "EmployeeFirstName": "Eileen",
                                    "EmployeeLastName": "Rouse",
                                    "salesCount": "53"
                                },
                                {
                                    "EmployeeFirstName": "Glory",
                                    "EmployeeLastName": "Meiningen",
                                    "salesCount": "52"
                                },
                                {
                                    "EmployeeFirstName": "Storm",
                                    "EmployeeLastName": "Morad",
                                    "salesCount": "52"
                                },
                                {
                                    "EmployeeFirstName": "Stearne",
                                    "EmployeeLastName": "Petti",
                                    "salesCount": "52"
                                },
                                {
                                    "EmployeeFirstName": "Gerrie",
                                    "EmployeeLastName": "Hogsden",
                                    "salesCount": "52"
                                },
                                {
                                    "EmployeeFirstName": "Rachel",
                                    "EmployeeLastName": "Gaffer",
                                    "salesCount": "51"
                                },
                                {
                                    "EmployeeFirstName": "Germain",
                                    "EmployeeLastName": "Volk",
                                    "salesCount": "51"
                                },
                                {
                                    "EmployeeFirstName": "Claudina",
                                    "EmployeeLastName": "Purry",
                                    "salesCount": "51"
                                },
                                {
                                    "EmployeeFirstName": "Anabel",
                                    "EmployeeLastName": "Ricardet",
                                    "salesCount": "50"
                                },
                                {
                                    "EmployeeFirstName": "Ignacius",
                                    "EmployeeLastName": "Simonassi",
                                    "salesCount": "50"
                                },
                                {
                                    "EmployeeFirstName": "Oby",
                                    "EmployeeLastName": "Fullalove",
                                    "salesCount": "49"
                                },
                                {
                                    "EmployeeFirstName": "Tristam",
                                    "EmployeeLastName": "Burrell",
                                    "salesCount": "49"
                                },
                                {
                                    "EmployeeFirstName": "Berta",
                                    "EmployeeLastName": "Mewrcik",
                                    "salesCount": "49"
                                },
                                {
                                    "EmployeeFirstName": "Garnet",
                                    "EmployeeLastName": "Matzkaitis",
                                    "salesCount": "48"
                                },
                                {
                                    "EmployeeFirstName": "Berty",
                                    "EmployeeLastName": "Packer",
                                    "salesCount": "48"
                                },
                                {
                                    "EmployeeFirstName": "Celine",
                                    "EmployeeLastName": "Cammell",
                                    "salesCount": "48"
                                },
                                {
                                    "EmployeeFirstName": "Lesly",
                                    "EmployeeLastName": "Pound",
                                    "salesCount": "47"
                                },
                                {
                                    "EmployeeFirstName": "Carlina",
                                    "EmployeeLastName": "Stopp",
                                    "salesCount": "44"
                                },
                                {
                                    "EmployeeFirstName": "Klara",
                                    "EmployeeLastName": "Bonevant",
                                    "salesCount": "44"
                                }
                            ]
                        },
                        "text/html": [
                            "<table>",
                            "<tr><th>EmployeeFirstName</th><th>EmployeeLastName</th><th>salesCount</th></tr>",
                            "<tr><td>Jeniffer</td><td>Handsheart</td><td>61</td></tr>",
                            "<tr><td>Cary</td><td>De Ferrari</td><td>58</td></tr>",
                            "<tr><td>Elwyn</td><td>Ommundsen</td><td>58</td></tr>",
                            "<tr><td>Chelsie</td><td>M&#39;Barron</td><td>56</td></tr>",
                            "<tr><td>Konstantin</td><td>Philipou</td><td>53</td></tr>",
                            "<tr><td>Eileen</td><td>Rouse</td><td>53</td></tr>",
                            "<tr><td>Glory</td><td>Meiningen</td><td>52</td></tr>",
                            "<tr><td>Storm</td><td>Morad</td><td>52</td></tr>",
                            "<tr><td>Stearne</td><td>Petti</td><td>52</td></tr>",
                            "<tr><td>Gerrie</td><td>Hogsden</td><td>52</td></tr>",
                            "<tr><td>Rachel</td><td>Gaffer</td><td>51</td></tr>",
                            "<tr><td>Germain</td><td>Volk</td><td>51</td></tr>",
                            "<tr><td>Claudina</td><td>Purry</td><td>51</td></tr>",
                            "<tr><td>Anabel</td><td>Ricardet</td><td>50</td></tr>",
                            "<tr><td>Ignacius</td><td>Simonassi</td><td>50</td></tr>",
                            "<tr><td>Oby</td><td>Fullalove</td><td>49</td></tr>",
                            "<tr><td>Tristam</td><td>Burrell</td><td>49</td></tr>",
                            "<tr><td>Berta</td><td>Mewrcik</td><td>49</td></tr>",
                            "<tr><td>Garnet</td><td>Matzkaitis</td><td>48</td></tr>",
                            "<tr><td>Berty</td><td>Packer</td><td>48</td></tr>",
                            "<tr><td>Celine</td><td>Cammell</td><td>48</td></tr>",
                            "<tr><td>Lesly</td><td>Pound</td><td>47</td></tr>",
                            "<tr><td>Carlina</td><td>Stopp</td><td>44</td></tr>",
                            "<tr><td>Klara</td><td>Bonevant</td><td>44</td></tr>",
                            "</table>"
                        ]
                    }
                }
            ],
            "execution_count": 25
        },
        {
            "cell_type": "code",
            "source": [
                ""
            ],
            "metadata": {
                "azdata_cell_guid": "46ecc24f-bfd2-432f-861a-0494bee0c815",
                "language": "sql"
            },
            "outputs": [],
            "execution_count": null
        }
    ]
}