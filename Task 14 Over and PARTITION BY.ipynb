{
    "metadata": {
        "kernelspec": {
            "name": "SQL",
            "display_name": "SQL",
            "language": "sql"
        },
        "language_info": {
            "name": "sql",
            "version": ""
        }
    },
    "nbformat_minor": 2,
    "nbformat": 4,
    "cells": [
        {
            "cell_type": "code",
            "source": [
                "SELECT \n",
                "    Month(FullDate) As [Month], \n",
                "    Year(FullDate) As [Year], \n",
                "    ActionTaken, \n",
                "    Min(Amount) OVER(PARTITION  BY ActionTaken) As MinAmount, \n",
                "    AVG(Amount) OVER(PARTITION  BY ActionTaken) As AverageAmount\n",
                "from \n",
                "    FactWaste\n",
                "Order By \n",
                "    Year(FullDate), Month(FullDate), ActionTaken;\r\n",
                ""
            ],
            "metadata": {
                "azdata_cell_guid": "6ab9dc1a-3969-4128-a738-a32729acdae1",
                "language": "sql"
            },
            "outputs": [
{
    "output_type": "display_data",
    "data": {
        "text/html": "(731 rows affected)"
    },
    "metadata": {}
}, {
    "output_type": "display_data",
    "data": {
        "text/html": "Total execution time: 00:00:00.051"
    },
    "metadata": {}
}, {
    "output_type": "execute_result",
    "metadata": {},
    "execution_count": 14,
    "data": {
        "application/vnd.dataresource+json": {
            "schema": {
                "fields": [
                    {
                        "name": "Month"
                    },
                    {
                        "name": "Year"
                    },
                    {
                        "name": "ActionTaken"
                    },
                    {
                        "name": "MinAmount"
                    },
                    {
                        "name": "AverageAmount"
                    }
                ]
            },
            "data": [
                {
                    "Month": "1",
                    "Year": "2019",
                    "ActionTaken": "charity",
                    "MinAmount": "122.53",
                    "AverageAmount": "515.230324"
                },
                {
                    "Month": "1",
                    "Year": "2019",
                    "ActionTaken": "charity",
                    "MinAmount": "122.53",
                    "AverageAmount": "515.230324"
                },
                {
                    "Month": "1",
                    "Year": "2019",
                    "ActionTaken": "charity",
                    "MinAmount": "122.53",
                    "AverageAmount": "515.230324"
                },
                {
                    "Month": "1",
                    "Year": "2019",
                    "ActionTaken": "charity",
                    "MinAmount": "122.53",
                    "AverageAmount": "515.230324"
                },
                {
                    "Month": "1",
                    "Year": "2019",
                    "ActionTaken": "charity",
                    "MinAmount": "122.53",
                    "AverageAmount": "515.230324"
                },
                {
                    "Month": "1",
                    "Year": "2019",
                    "ActionTaken": "charity",
                    "MinAmount": "122.53",
                    "AverageAmount": "515.230324"
                },
                {
                    "Month": "1",
                    "Year": "2019",
                    "ActionTaken": "charity",
                    "MinAmount": "122.53",
                    "AverageAmount": "515.230324"
                },
                {
                    "Month": "1",
                    "Year": "2019",
                    "ActionTaken": "charity",
                    "MinAmount": "122.53",
                    "AverageAmount": "515.230324"
                },
                {
                    "Month": "1",
                    "Year": "2019",
                    "ActionTaken": "discard",
                    "MinAmount": "120.27",
                    "AverageAmount": "497.501857"
                },
                {
                    "Month": "1",
                    "Year": "2019",
                    "ActionTaken": "discard",
                    "MinAmount": "120.27",
                    "AverageAmount": "497.501857"
                },
                {
                    "Month": "1",
                    "Year": "2019",
                    "ActionTaken": "discard",
                    "MinAmount": "120.27",
                    "AverageAmount": "497.501857"
                },
                {
                    "Month": "1",
                    "Year": "2019",
                    "ActionTaken": "gift",
                    "MinAmount": "121.91",
                    "AverageAmount": "503.513404"
                },
                {
                    "Month": "1",
                    "Year": "2019",
                    "ActionTaken": "gift",
                    "MinAmount": "121.91",
                    "AverageAmount": "503.513404"
                },
                {
                    "Month": "1",
                    "Year": "2019",
                    "ActionTaken": "gift",
                    "MinAmount": "121.91",
                    "AverageAmount": "503.513404"
                },
                {
                    "Month": "1",
                    "Year": "2019",
                    "ActionTaken": "gift",
                    "MinAmount": "121.91",
                    "AverageAmount": "503.513404"
                },
                {
                    "Month": "1",
                    "Year": "2019",
                    "ActionTaken": "gift",
                    "MinAmount": "121.91",
                    "AverageAmount": "503.513404"
                },
                {
                    "Month": "1",
                    "Year": "2019",
                    "ActionTaken": "gift",
                    "MinAmount": "121.91",
                    "AverageAmount": "503.513404"
                },
                {
                    "Month": "1",
                    "Year": "2019",
                    "ActionTaken": "personal use",
                    "MinAmount": "128.79",
                    "AverageAmount": "528.282011"
                },
                {
                    "Month": "1",
                    "Year": "2019",
                    "ActionTaken": "personal use",
                    "MinAmount": "128.79",
                    "AverageAmount": "528.282011"
                },
                {
                    "Month": "1",
                    "Year": "2019",
                    "ActionTaken": "personal use",
                    "MinAmount": "128.79",
                    "AverageAmount": "528.282011"
                },
                {
                    "Month": "1",
                    "Year": "2019",
                    "ActionTaken": "personal use",
                    "MinAmount": "128.79",
                    "AverageAmount": "528.282011"
                },
                {
                    "Month": "1",
                    "Year": "2019",
                    "ActionTaken": "personal use",
                    "MinAmount": "128.79",
                    "AverageAmount": "528.282011"
                },
                {
                    "Month": "1",
                    "Year": "2019",
                    "ActionTaken": "personal use",
                    "MinAmount": "128.79",
                    "AverageAmount": "528.282011"
                },
                {
                    "Month": "1",
                    "Year": "2019",
                    "ActionTaken": "personal use",
                    "MinAmount": "128.79",
                    "AverageAmount": "528.282011"
                },
                {
                    "Month": "1",
                    "Year": "2019",
                    "ActionTaken": "personal use",
                    "MinAmount": "128.79",
                    "AverageAmount": "528.282011"
                },
                {
                    "Month": "1",
                    "Year": "2019",
                    "ActionTaken": "personal use",
                    "MinAmount": "128.79",
                    "AverageAmount": "528.282011"
                },
                {
                    "Month": "2",
                    "Year": "2019",
                    "ActionTaken": "charity",
                    "MinAmount": "122.53",
                    "AverageAmount": "515.230324"
                },
                {
                    "Month": "2",
                    "Year": "2019",
                    "ActionTaken": "charity",
                    "MinAmount": "122.53",
                    "AverageAmount": "515.230324"
                },
                {
                    "Month": "2",
                    "Year": "2019",
                    "ActionTaken": "charity",
                    "MinAmount": "122.53",
                    "AverageAmount": "515.230324"
                },
                {
                    "Month": "2",
                    "Year": "2019",
                    "ActionTaken": "charity",
                    "MinAmount": "122.53",
                    "AverageAmount": "515.230324"
                },
                {
                    "Month": "2",
                    "Year": "2019",
                    "ActionTaken": "charity",
                    "MinAmount": "122.53",
                    "AverageAmount": "515.230324"
                },
                {
                    "Month": "2",
                    "Year": "2019",
                    "ActionTaken": "charity",
                    "MinAmount": "122.53",
                    "AverageAmount": "515.230324"
                },
                {
                    "Month": "2",
                    "Year": "2019",
                    "ActionTaken": "charity",
                    "MinAmount": "122.53",
                    "AverageAmount": "515.230324"
                },
                {
                    "Month": "2",
                    "Year": "2019",
                    "ActionTaken": "charity",
                    "MinAmount": "122.53",
                    "AverageAmount": "515.230324"
                },
                {
                    "Month": "2",
                    "Year": "2019",
                    "ActionTaken": "discard",
                    "MinAmount": "120.27",
                    "AverageAmount": "497.501857"
                },
                {
                    "Month": "2",
                    "Year": "2019",
                    "ActionTaken": "discard",
                    "MinAmount": "120.27",
                    "AverageAmount": "497.501857"
                },
                {
                    "Month": "2",
                    "Year": "2019",
                    "ActionTaken": "discard",
                    "MinAmount": "120.27",
                    "AverageAmount": "497.501857"
                },
                {
                    "Month": "2",
                    "Year": "2019",
                    "ActionTaken": "discard",
                    "MinAmount": "120.27",
                    "AverageAmount": "497.501857"
                },
                {
                    "Month": "2",
                    "Year": "2019",
                    "ActionTaken": "discard",
                    "MinAmount": "120.27",
                    "AverageAmount": "497.501857"
                },
                {
                    "Month": "2",
                    "Year": "2019",
                    "ActionTaken": "discard",
                    "MinAmount": "120.27",
                    "AverageAmount": "497.501857"
                },
                {
                    "Month": "2",
                    "Year": "2019",
                    "ActionTaken": "discard",
                    "MinAmount": "120.27",
                    "AverageAmount": "497.501857"
                },
                {
                    "Month": "2",
                    "Year": "2019",
                    "ActionTaken": "gift",
                    "MinAmount": "121.91",
                    "AverageAmount": "503.513404"
                },
                {
                    "Month": "2",
                    "Year": "2019",
                    "ActionTaken": "gift",
                    "MinAmount": "121.91",
                    "AverageAmount": "503.513404"
                },
                {
                    "Month": "2",
                    "Year": "2019",
                    "ActionTaken": "gift",
                    "MinAmount": "121.91",
                    "AverageAmount": "503.513404"
                },
                {
                    "Month": "2",
                    "Year": "2019",
                    "ActionTaken": "gift",
                    "MinAmount": "121.91",
                    "AverageAmount": "503.513404"
                },
                {
                    "Month": "2",
                    "Year": "2019",
                    "ActionTaken": "gift",
                    "MinAmount": "121.91",
                    "AverageAmount": "503.513404"
                },
                {
                    "Month": "2",
                    "Year": "2019",
                    "ActionTaken": "gift",
                    "MinAmount": "121.91",
                    "AverageAmount": "503.513404"
                },
                {
                    "Month": "2",
                    "Year": "2019",
                    "ActionTaken": "personal use",
                    "MinAmount": "128.79",
                    "AverageAmount": "528.282011"
                },
                {
                    "Month": "2",
                    "Year": "2019",
                    "ActionTaken": "personal use",
                    "MinAmount": "128.79",
                    "AverageAmount": "528.282011"
                },
                {
                    "Month": "2",
                    "Year": "2019",
                    "ActionTaken": "personal use",
                    "MinAmount": "128.79",
                    "AverageAmount": "528.282011"
                },
                {
                    "Month": "2",
                    "Year": "2019",
                    "ActionTaken": "personal use",
                    "MinAmount": "128.79",
                    "AverageAmount": "528.282011"
                },
                {
                    "Month": "2",
                    "Year": "2019",
                    "ActionTaken": "personal use",
                    "MinAmount": "128.79",
                    "AverageAmount": "528.282011"
                },
                {
                    "Month": "2",
                    "Year": "2019",
                    "ActionTaken": "personal use",
                    "MinAmount": "128.79",
                    "AverageAmount": "528.282011"
                },
                {
                    "Month": "2",
                    "Year": "2019",
                    "ActionTaken": "personal use",
                    "MinAmount": "128.79",
                    "AverageAmount": "528.282011"
                },
                {
                    "Month": "3",
                    "Year": "2019",
                    "ActionTaken": "charity",
                    "MinAmount": "122.53",
                    "AverageAmount": "515.230324"
                },
                {
                    "Month": "3",
                    "Year": "2019",
                    "ActionTaken": "charity",
                    "MinAmount": "122.53",
                    "AverageAmount": "515.230324"
                },
                {
                    "Month": "3",
                    "Year": "2019",
                    "ActionTaken": "charity",
                    "MinAmount": "122.53",
                    "AverageAmount": "515.230324"
                },
                {
                    "Month": "3",
                    "Year": "2019",
                    "ActionTaken": "charity",
                    "MinAmount": "122.53",
                    "AverageAmount": "515.230324"
                },
                {
                    "Month": "3",
                    "Year": "2019",
                    "ActionTaken": "discard",
                    "MinAmount": "120.27",
                    "AverageAmount": "497.501857"
                },
                {
                    "Month": "3",
                    "Year": "2019",
                    "ActionTaken": "discard",
                    "MinAmount": "120.27",
                    "AverageAmount": "497.501857"
                },
                {
                    "Month": "3",
                    "Year": "2019",
                    "ActionTaken": "discard",
                    "MinAmount": "120.27",
                    "AverageAmount": "497.501857"
                },
                {
                    "Month": "3",
                    "Year": "2019",
                    "ActionTaken": "discard",
                    "MinAmount": "120.27",
                    "AverageAmount": "497.501857"
                },
                {
                    "Month": "3",
                    "Year": "2019",
                    "ActionTaken": "discard",
                    "MinAmount": "120.27",
                    "AverageAmount": "497.501857"
                },
                {
                    "Month": "3",
                    "Year": "2019",
                    "ActionTaken": "discard",
                    "MinAmount": "120.27",
                    "AverageAmount": "497.501857"
                },
                {
                    "Month": "3",
                    "Year": "2019",
                    "ActionTaken": "discard",
                    "MinAmount": "120.27",
                    "AverageAmount": "497.501857"
                },
                {
                    "Month": "3",
                    "Year": "2019",
                    "ActionTaken": "discard",
                    "MinAmount": "120.27",
                    "AverageAmount": "497.501857"
                },
                {
                    "Month": "3",
                    "Year": "2019",
                    "ActionTaken": "discard",
                    "MinAmount": "120.27",
                    "AverageAmount": "497.501857"
                },
                {
                    "Month": "3",
                    "Year": "2019",
                    "ActionTaken": "gift",
                    "MinAmount": "121.91",
                    "AverageAmount": "503.513404"
                },
                {
                    "Month": "3",
                    "Year": "2019",
                    "ActionTaken": "gift",
                    "MinAmount": "121.91",
                    "AverageAmount": "503.513404"
                },
                {
                    "Month": "3",
                    "Year": "2019",
                    "ActionTaken": "gift",
                    "MinAmount": "121.91",
                    "AverageAmount": "503.513404"
                },
                {
                    "Month": "3",
                    "Year": "2019",
                    "ActionTaken": "gift",
                    "MinAmount": "121.91",
                    "AverageAmount": "503.513404"
                },
                {
                    "Month": "3",
                    "Year": "2019",
                    "ActionTaken": "gift",
                    "MinAmount": "121.91",
                    "AverageAmount": "503.513404"
                },
                {
                    "Month": "3",
                    "Year": "2019",
                    "ActionTaken": "gift",
                    "MinAmount": "121.91",
                    "AverageAmount": "503.513404"
                },
                {
                    "Month": "3",
                    "Year": "2019",
                    "ActionTaken": "gift",
                    "MinAmount": "121.91",
                    "AverageAmount": "503.513404"
                },
                {
                    "Month": "3",
                    "Year": "2019",
                    "ActionTaken": "personal use",
                    "MinAmount": "128.79",
                    "AverageAmount": "528.282011"
                },
                {
                    "Month": "3",
                    "Year": "2019",
                    "ActionTaken": "personal use",
                    "MinAmount": "128.79",
                    "AverageAmount": "528.282011"
                },
                {
                    "Month": "3",
                    "Year": "2019",
                    "ActionTaken": "personal use",
                    "MinAmount": "128.79",
                    "AverageAmount": "528.282011"
                },
                {
                    "Month": "3",
                    "Year": "2019",
                    "ActionTaken": "personal use",
                    "MinAmount": "128.79",
                    "AverageAmount": "528.282011"
                },
                {
                    "Month": "3",
                    "Year": "2019",
                    "ActionTaken": "personal use",
                    "MinAmount": "128.79",
                    "AverageAmount": "528.282011"
                },
                {
                    "Month": "3",
                    "Year": "2019",
                    "ActionTaken": "personal use",
                    "MinAmount": "128.79",
                    "AverageAmount": "528.282011"
                },
                {
                    "Month": "3",
                    "Year": "2019",
                    "ActionTaken": "personal use",
                    "MinAmount": "128.79",
                    "AverageAmount": "528.282011"
                },
                {
                    "Month": "3",
                    "Year": "2019",
                    "ActionTaken": "personal use",
                    "MinAmount": "128.79",
                    "AverageAmount": "528.282011"
                },
                {
                    "Month": "3",
                    "Year": "2019",
                    "ActionTaken": "personal use",
                    "MinAmount": "128.79",
                    "AverageAmount": "528.282011"
                },
                {
                    "Month": "3",
                    "Year": "2019",
                    "ActionTaken": "personal use",
                    "MinAmount": "128.79",
                    "AverageAmount": "528.282011"
                },
                {
                    "Month": "3",
                    "Year": "2019",
                    "ActionTaken": "personal use",
                    "MinAmount": "128.79",
                    "AverageAmount": "528.282011"
                },
                {
                    "Month": "4",
                    "Year": "2019",
                    "ActionTaken": "charity",
                    "MinAmount": "122.53",
                    "AverageAmount": "515.230324"
                },
                {
                    "Month": "4",
                    "Year": "2019",
                    "ActionTaken": "charity",
                    "MinAmount": "122.53",
                    "AverageAmount": "515.230324"
                },
                {
                    "Month": "4",
                    "Year": "2019",
                    "ActionTaken": "charity",
                    "MinAmount": "122.53",
                    "AverageAmount": "515.230324"
                },
                {
                    "Month": "4",
                    "Year": "2019",
                    "ActionTaken": "charity",
                    "MinAmount": "122.53",
                    "AverageAmount": "515.230324"
                },
                {
                    "Month": "4",
                    "Year": "2019",
                    "ActionTaken": "charity",
                    "MinAmount": "122.53",
                    "AverageAmount": "515.230324"
                },
                {
                    "Month": "4",
                    "Year": "2019",
                    "ActionTaken": "charity",
                    "MinAmount": "122.53",
                    "AverageAmount": "515.230324"
                },
                {
                    "Month": "4",
                    "Year": "2019",
                    "ActionTaken": "charity",
                    "MinAmount": "122.53",
                    "AverageAmount": "515.230324"
                },
                {
                    "Month": "4",
                    "Year": "2019",
                    "ActionTaken": "charity",
                    "MinAmount": "122.53",
                    "AverageAmount": "515.230324"
                },
                {
                    "Month": "4",
                    "Year": "2019",
                    "ActionTaken": "charity",
                    "MinAmount": "122.53",
                    "AverageAmount": "515.230324"
                },
                {
                    "Month": "4",
                    "Year": "2019",
                    "ActionTaken": "charity",
                    "MinAmount": "122.53",
                    "AverageAmount": "515.230324"
                },
                {
                    "Month": "4",
                    "Year": "2019",
                    "ActionTaken": "charity",
                    "MinAmount": "122.53",
                    "AverageAmount": "515.230324"
                },
                {
                    "Month": "4",
                    "Year": "2019",
                    "ActionTaken": "charity",
                    "MinAmount": "122.53",
                    "AverageAmount": "515.230324"
                },
                {
                    "Month": "4",
                    "Year": "2019",
                    "ActionTaken": "charity",
                    "MinAmount": "122.53",
                    "AverageAmount": "515.230324"
                },
                {
                    "Month": "4",
                    "Year": "2019",
                    "ActionTaken": "discard",
                    "MinAmount": "120.27",
                    "AverageAmount": "497.501857"
                },
                {
                    "Month": "4",
                    "Year": "2019",
                    "ActionTaken": "discard",
                    "MinAmount": "120.27",
                    "AverageAmount": "497.501857"
                },
                {
                    "Month": "4",
                    "Year": "2019",
                    "ActionTaken": "gift",
                    "MinAmount": "121.91",
                    "AverageAmount": "503.513404"
                },
                {
                    "Month": "4",
                    "Year": "2019",
                    "ActionTaken": "gift",
                    "MinAmount": "121.91",
                    "AverageAmount": "503.513404"
                },
                {
                    "Month": "4",
                    "Year": "2019",
                    "ActionTaken": "gift",
                    "MinAmount": "121.91",
                    "AverageAmount": "503.513404"
                },
                {
                    "Month": "4",
                    "Year": "2019",
                    "ActionTaken": "gift",
                    "MinAmount": "121.91",
                    "AverageAmount": "503.513404"
                },
                {
                    "Month": "4",
                    "Year": "2019",
                    "ActionTaken": "gift",
                    "MinAmount": "121.91",
                    "AverageAmount": "503.513404"
                },
                {
                    "Month": "4",
                    "Year": "2019",
                    "ActionTaken": "gift",
                    "MinAmount": "121.91",
                    "AverageAmount": "503.513404"
                },
                {
                    "Month": "4",
                    "Year": "2019",
                    "ActionTaken": "gift",
                    "MinAmount": "121.91",
                    "AverageAmount": "503.513404"
                },
                {
                    "Month": "4",
                    "Year": "2019",
                    "ActionTaken": "gift",
                    "MinAmount": "121.91",
                    "AverageAmount": "503.513404"
                },
                {
                    "Month": "4",
                    "Year": "2019",
                    "ActionTaken": "gift",
                    "MinAmount": "121.91",
                    "AverageAmount": "503.513404"
                },
                {
                    "Month": "4",
                    "Year": "2019",
                    "ActionTaken": "gift",
                    "MinAmount": "121.91",
                    "AverageAmount": "503.513404"
                },
                {
                    "Month": "4",
                    "Year": "2019",
                    "ActionTaken": "gift",
                    "MinAmount": "121.91",
                    "AverageAmount": "503.513404"
                },
                {
                    "Month": "4",
                    "Year": "2019",
                    "ActionTaken": "personal use",
                    "MinAmount": "128.79",
                    "AverageAmount": "528.282011"
                },
                {
                    "Month": "4",
                    "Year": "2019",
                    "ActionTaken": "personal use",
                    "MinAmount": "128.79",
                    "AverageAmount": "528.282011"
                },
                {
                    "Month": "4",
                    "Year": "2019",
                    "ActionTaken": "personal use",
                    "MinAmount": "128.79",
                    "AverageAmount": "528.282011"
                },
                {
                    "Month": "4",
                    "Year": "2019",
                    "ActionTaken": "personal use",
                    "MinAmount": "128.79",
                    "AverageAmount": "528.282011"
                },
                {
                    "Month": "5",
                    "Year": "2019",
                    "ActionTaken": "charity",
                    "MinAmount": "122.53",
                    "AverageAmount": "515.230324"
                },
                {
                    "Month": "5",
                    "Year": "2019",
                    "ActionTaken": "charity",
                    "MinAmount": "122.53",
                    "AverageAmount": "515.230324"
                },
                {
                    "Month": "5",
                    "Year": "2019",
                    "ActionTaken": "charity",
                    "MinAmount": "122.53",
                    "AverageAmount": "515.230324"
                },
                {
                    "Month": "5",
                    "Year": "2019",
                    "ActionTaken": "charity",
                    "MinAmount": "122.53",
                    "AverageAmount": "515.230324"
                },
                {
                    "Month": "5",
                    "Year": "2019",
                    "ActionTaken": "charity",
                    "MinAmount": "122.53",
                    "AverageAmount": "515.230324"
                },
                {
                    "Month": "5",
                    "Year": "2019",
                    "ActionTaken": "charity",
                    "MinAmount": "122.53",
                    "AverageAmount": "515.230324"
                },
                {
                    "Month": "5",
                    "Year": "2019",
                    "ActionTaken": "charity",
                    "MinAmount": "122.53",
                    "AverageAmount": "515.230324"
                },
                {
                    "Month": "5",
                    "Year": "2019",
                    "ActionTaken": "charity",
                    "MinAmount": "122.53",
                    "AverageAmount": "515.230324"
                },
                {
                    "Month": "5",
                    "Year": "2019",
                    "ActionTaken": "charity",
                    "MinAmount": "122.53",
                    "AverageAmount": "515.230324"
                },
                {
                    "Month": "5",
                    "Year": "2019",
                    "ActionTaken": "charity",
                    "MinAmount": "122.53",
                    "AverageAmount": "515.230324"
                },
                {
                    "Month": "5",
                    "Year": "2019",
                    "ActionTaken": "charity",
                    "MinAmount": "122.53",
                    "AverageAmount": "515.230324"
                },
                {
                    "Month": "5",
                    "Year": "2019",
                    "ActionTaken": "discard",
                    "MinAmount": "120.27",
                    "AverageAmount": "497.501857"
                },
                {
                    "Month": "5",
                    "Year": "2019",
                    "ActionTaken": "discard",
                    "MinAmount": "120.27",
                    "AverageAmount": "497.501857"
                },
                {
                    "Month": "5",
                    "Year": "2019",
                    "ActionTaken": "discard",
                    "MinAmount": "120.27",
                    "AverageAmount": "497.501857"
                },
                {
                    "Month": "5",
                    "Year": "2019",
                    "ActionTaken": "discard",
                    "MinAmount": "120.27",
                    "AverageAmount": "497.501857"
                },
                {
                    "Month": "5",
                    "Year": "2019",
                    "ActionTaken": "discard",
                    "MinAmount": "120.27",
                    "AverageAmount": "497.501857"
                },
                {
                    "Month": "5",
                    "Year": "2019",
                    "ActionTaken": "discard",
                    "MinAmount": "120.27",
                    "AverageAmount": "497.501857"
                },
                {
                    "Month": "5",
                    "Year": "2019",
                    "ActionTaken": "discard",
                    "MinAmount": "120.27",
                    "AverageAmount": "497.501857"
                },
                {
                    "Month": "5",
                    "Year": "2019",
                    "ActionTaken": "discard",
                    "MinAmount": "120.27",
                    "AverageAmount": "497.501857"
                },
                {
                    "Month": "5",
                    "Year": "2019",
                    "ActionTaken": "gift",
                    "MinAmount": "121.91",
                    "AverageAmount": "503.513404"
                },
                {
                    "Month": "5",
                    "Year": "2019",
                    "ActionTaken": "gift",
                    "MinAmount": "121.91",
                    "AverageAmount": "503.513404"
                },
                {
                    "Month": "5",
                    "Year": "2019",
                    "ActionTaken": "gift",
                    "MinAmount": "121.91",
                    "AverageAmount": "503.513404"
                },
                {
                    "Month": "5",
                    "Year": "2019",
                    "ActionTaken": "gift",
                    "MinAmount": "121.91",
                    "AverageAmount": "503.513404"
                },
                {
                    "Month": "5",
                    "Year": "2019",
                    "ActionTaken": "gift",
                    "MinAmount": "121.91",
                    "AverageAmount": "503.513404"
                },
                {
                    "Month": "5",
                    "Year": "2019",
                    "ActionTaken": "gift",
                    "MinAmount": "121.91",
                    "AverageAmount": "503.513404"
                },
                {
                    "Month": "5",
                    "Year": "2019",
                    "ActionTaken": "personal use",
                    "MinAmount": "128.79",
                    "AverageAmount": "528.282011"
                },
                {
                    "Month": "5",
                    "Year": "2019",
                    "ActionTaken": "personal use",
                    "MinAmount": "128.79",
                    "AverageAmount": "528.282011"
                },
                {
                    "Month": "5",
                    "Year": "2019",
                    "ActionTaken": "personal use",
                    "MinAmount": "128.79",
                    "AverageAmount": "528.282011"
                },
                {
                    "Month": "5",
                    "Year": "2019",
                    "ActionTaken": "personal use",
                    "MinAmount": "128.79",
                    "AverageAmount": "528.282011"
                },
                {
                    "Month": "5",
                    "Year": "2019",
                    "ActionTaken": "personal use",
                    "MinAmount": "128.79",
                    "AverageAmount": "528.282011"
                },
                {
                    "Month": "5",
                    "Year": "2019",
                    "ActionTaken": "personal use",
                    "MinAmount": "128.79",
                    "AverageAmount": "528.282011"
                },
                {
                    "Month": "5",
                    "Year": "2019",
                    "ActionTaken": "test",
                    "MinAmount": "0.00",
                    "AverageAmount": "0.000000"
                },
                {
                    "Month": "6",
                    "Year": "2019",
                    "ActionTaken": "charity",
                    "MinAmount": "122.53",
                    "AverageAmount": "515.230324"
                },
                {
                    "Month": "6",
                    "Year": "2019",
                    "ActionTaken": "charity",
                    "MinAmount": "122.53",
                    "AverageAmount": "515.230324"
                },
                {
                    "Month": "6",
                    "Year": "2019",
                    "ActionTaken": "charity",
                    "MinAmount": "122.53",
                    "AverageAmount": "515.230324"
                },
                {
                    "Month": "6",
                    "Year": "2019",
                    "ActionTaken": "charity",
                    "MinAmount": "122.53",
                    "AverageAmount": "515.230324"
                },
                {
                    "Month": "6",
                    "Year": "2019",
                    "ActionTaken": "charity",
                    "MinAmount": "122.53",
                    "AverageAmount": "515.230324"
                },
                {
                    "Month": "6",
                    "Year": "2019",
                    "ActionTaken": "discard",
                    "MinAmount": "120.27",
                    "AverageAmount": "497.501857"
                },
                {
                    "Month": "6",
                    "Year": "2019",
                    "ActionTaken": "discard",
                    "MinAmount": "120.27",
                    "AverageAmount": "497.501857"
                },
                {
                    "Month": "6",
                    "Year": "2019",
                    "ActionTaken": "discard",
                    "MinAmount": "120.27",
                    "AverageAmount": "497.501857"
                },
                {
                    "Month": "6",
                    "Year": "2019",
                    "ActionTaken": "discard",
                    "MinAmount": "120.27",
                    "AverageAmount": "497.501857"
                },
                {
                    "Month": "6",
                    "Year": "2019",
                    "ActionTaken": "discard",
                    "MinAmount": "120.27",
                    "AverageAmount": "497.501857"
                },
                {
                    "Month": "6",
                    "Year": "2019",
                    "ActionTaken": "discard",
                    "MinAmount": "120.27",
                    "AverageAmount": "497.501857"
                },
                {
                    "Month": "6",
                    "Year": "2019",
                    "ActionTaken": "discard",
                    "MinAmount": "120.27",
                    "AverageAmount": "497.501857"
                },
                {
                    "Month": "6",
                    "Year": "2019",
                    "ActionTaken": "discard",
                    "MinAmount": "120.27",
                    "AverageAmount": "497.501857"
                },
                {
                    "Month": "6",
                    "Year": "2019",
                    "ActionTaken": "discard",
                    "MinAmount": "120.27",
                    "AverageAmount": "497.501857"
                },
                {
                    "Month": "6",
                    "Year": "2019",
                    "ActionTaken": "gift",
                    "MinAmount": "121.91",
                    "AverageAmount": "503.513404"
                },
                {
                    "Month": "6",
                    "Year": "2019",
                    "ActionTaken": "gift",
                    "MinAmount": "121.91",
                    "AverageAmount": "503.513404"
                },
                {
                    "Month": "6",
                    "Year": "2019",
                    "ActionTaken": "gift",
                    "MinAmount": "121.91",
                    "AverageAmount": "503.513404"
                },
                {
                    "Month": "6",
                    "Year": "2019",
                    "ActionTaken": "gift",
                    "MinAmount": "121.91",
                    "AverageAmount": "503.513404"
                },
                {
                    "Month": "6",
                    "Year": "2019",
                    "ActionTaken": "gift",
                    "MinAmount": "121.91",
                    "AverageAmount": "503.513404"
                },
                {
                    "Month": "6",
                    "Year": "2019",
                    "ActionTaken": "gift",
                    "MinAmount": "121.91",
                    "AverageAmount": "503.513404"
                },
                {
                    "Month": "6",
                    "Year": "2019",
                    "ActionTaken": "gift",
                    "MinAmount": "121.91",
                    "AverageAmount": "503.513404"
                },
                {
                    "Month": "6",
                    "Year": "2019",
                    "ActionTaken": "gift",
                    "MinAmount": "121.91",
                    "AverageAmount": "503.513404"
                },
                {
                    "Month": "6",
                    "Year": "2019",
                    "ActionTaken": "gift",
                    "MinAmount": "121.91",
                    "AverageAmount": "503.513404"
                },
                {
                    "Month": "6",
                    "Year": "2019",
                    "ActionTaken": "gift",
                    "MinAmount": "121.91",
                    "AverageAmount": "503.513404"
                },
                {
                    "Month": "6",
                    "Year": "2019",
                    "ActionTaken": "gift",
                    "MinAmount": "121.91",
                    "AverageAmount": "503.513404"
                },
                {
                    "Month": "6",
                    "Year": "2019",
                    "ActionTaken": "gift",
                    "MinAmount": "121.91",
                    "AverageAmount": "503.513404"
                },
                {
                    "Month": "6",
                    "Year": "2019",
                    "ActionTaken": "personal use",
                    "MinAmount": "128.79",
                    "AverageAmount": "528.282011"
                },
                {
                    "Month": "6",
                    "Year": "2019",
                    "ActionTaken": "personal use",
                    "MinAmount": "128.79",
                    "AverageAmount": "528.282011"
                },
                {
                    "Month": "6",
                    "Year": "2019",
                    "ActionTaken": "personal use",
                    "MinAmount": "128.79",
                    "AverageAmount": "528.282011"
                },
                {
                    "Month": "6",
                    "Year": "2019",
                    "ActionTaken": "personal use",
                    "MinAmount": "128.79",
                    "AverageAmount": "528.282011"
                },
                {
                    "Month": "7",
                    "Year": "2019",
                    "ActionTaken": "charity",
                    "MinAmount": "122.53",
                    "AverageAmount": "515.230324"
                },
                {
                    "Month": "7",
                    "Year": "2019",
                    "ActionTaken": "charity",
                    "MinAmount": "122.53",
                    "AverageAmount": "515.230324"
                },
                {
                    "Month": "7",
                    "Year": "2019",
                    "ActionTaken": "charity",
                    "MinAmount": "122.53",
                    "AverageAmount": "515.230324"
                },
                {
                    "Month": "7",
                    "Year": "2019",
                    "ActionTaken": "charity",
                    "MinAmount": "122.53",
                    "AverageAmount": "515.230324"
                },
                {
                    "Month": "7",
                    "Year": "2019",
                    "ActionTaken": "charity",
                    "MinAmount": "122.53",
                    "AverageAmount": "515.230324"
                },
                {
                    "Month": "7",
                    "Year": "2019",
                    "ActionTaken": "charity",
                    "MinAmount": "122.53",
                    "AverageAmount": "515.230324"
                },
                {
                    "Month": "7",
                    "Year": "2019",
                    "ActionTaken": "charity",
                    "MinAmount": "122.53",
                    "AverageAmount": "515.230324"
                },
                {
                    "Month": "7",
                    "Year": "2019",
                    "ActionTaken": "discard",
                    "MinAmount": "120.27",
                    "AverageAmount": "497.501857"
                },
                {
                    "Month": "7",
                    "Year": "2019",
                    "ActionTaken": "discard",
                    "MinAmount": "120.27",
                    "AverageAmount": "497.501857"
                },
                {
                    "Month": "7",
                    "Year": "2019",
                    "ActionTaken": "discard",
                    "MinAmount": "120.27",
                    "AverageAmount": "497.501857"
                },
                {
                    "Month": "7",
                    "Year": "2019",
                    "ActionTaken": "discard",
                    "MinAmount": "120.27",
                    "AverageAmount": "497.501857"
                },
                {
                    "Month": "7",
                    "Year": "2019",
                    "ActionTaken": "discard",
                    "MinAmount": "120.27",
                    "AverageAmount": "497.501857"
                },
                {
                    "Month": "7",
                    "Year": "2019",
                    "ActionTaken": "discard",
                    "MinAmount": "120.27",
                    "AverageAmount": "497.501857"
                },
                {
                    "Month": "7",
                    "Year": "2019",
                    "ActionTaken": "gift",
                    "MinAmount": "121.91",
                    "AverageAmount": "503.513404"
                },
                {
                    "Month": "7",
                    "Year": "2019",
                    "ActionTaken": "gift",
                    "MinAmount": "121.91",
                    "AverageAmount": "503.513404"
                },
                {
                    "Month": "7",
                    "Year": "2019",
                    "ActionTaken": "gift",
                    "MinAmount": "121.91",
                    "AverageAmount": "503.513404"
                },
                {
                    "Month": "7",
                    "Year": "2019",
                    "ActionTaken": "gift",
                    "MinAmount": "121.91",
                    "AverageAmount": "503.513404"
                },
                {
                    "Month": "7",
                    "Year": "2019",
                    "ActionTaken": "gift",
                    "MinAmount": "121.91",
                    "AverageAmount": "503.513404"
                },
                {
                    "Month": "7",
                    "Year": "2019",
                    "ActionTaken": "gift",
                    "MinAmount": "121.91",
                    "AverageAmount": "503.513404"
                },
                {
                    "Month": "7",
                    "Year": "2019",
                    "ActionTaken": "gift",
                    "MinAmount": "121.91",
                    "AverageAmount": "503.513404"
                },
                {
                    "Month": "7",
                    "Year": "2019",
                    "ActionTaken": "gift",
                    "MinAmount": "121.91",
                    "AverageAmount": "503.513404"
                },
                {
                    "Month": "7",
                    "Year": "2019",
                    "ActionTaken": "gift",
                    "MinAmount": "121.91",
                    "AverageAmount": "503.513404"
                },
                {
                    "Month": "7",
                    "Year": "2019",
                    "ActionTaken": "gift",
                    "MinAmount": "121.91",
                    "AverageAmount": "503.513404"
                },
                {
                    "Month": "7",
                    "Year": "2019",
                    "ActionTaken": "gift",
                    "MinAmount": "121.91",
                    "AverageAmount": "503.513404"
                },
                {
                    "Month": "7",
                    "Year": "2019",
                    "ActionTaken": "gift",
                    "MinAmount": "121.91",
                    "AverageAmount": "503.513404"
                },
                {
                    "Month": "7",
                    "Year": "2019",
                    "ActionTaken": "personal use",
                    "MinAmount": "128.79",
                    "AverageAmount": "528.282011"
                },
                {
                    "Month": "7",
                    "Year": "2019",
                    "ActionTaken": "personal use",
                    "MinAmount": "128.79",
                    "AverageAmount": "528.282011"
                },
                {
                    "Month": "7",
                    "Year": "2019",
                    "ActionTaken": "personal use",
                    "MinAmount": "128.79",
                    "AverageAmount": "528.282011"
                },
                {
                    "Month": "7",
                    "Year": "2019",
                    "ActionTaken": "personal use",
                    "MinAmount": "128.79",
                    "AverageAmount": "528.282011"
                },
                {
                    "Month": "7",
                    "Year": "2019",
                    "ActionTaken": "personal use",
                    "MinAmount": "128.79",
                    "AverageAmount": "528.282011"
                },
                {
                    "Month": "7",
                    "Year": "2019",
                    "ActionTaken": "personal use",
                    "MinAmount": "128.79",
                    "AverageAmount": "528.282011"
                },
                {
                    "Month": "8",
                    "Year": "2019",
                    "ActionTaken": "charity",
                    "MinAmount": "122.53",
                    "AverageAmount": "515.230324"
                },
                {
                    "Month": "8",
                    "Year": "2019",
                    "ActionTaken": "charity",
                    "MinAmount": "122.53",
                    "AverageAmount": "515.230324"
                },
                {
                    "Month": "8",
                    "Year": "2019",
                    "ActionTaken": "charity",
                    "MinAmount": "122.53",
                    "AverageAmount": "515.230324"
                },
                {
                    "Month": "8",
                    "Year": "2019",
                    "ActionTaken": "charity",
                    "MinAmount": "122.53",
                    "AverageAmount": "515.230324"
                },
                {
                    "Month": "8",
                    "Year": "2019",
                    "ActionTaken": "charity",
                    "MinAmount": "122.53",
                    "AverageAmount": "515.230324"
                },
                {
                    "Month": "8",
                    "Year": "2019",
                    "ActionTaken": "discard",
                    "MinAmount": "120.27",
                    "AverageAmount": "497.501857"
                },
                {
                    "Month": "8",
                    "Year": "2019",
                    "ActionTaken": "discard",
                    "MinAmount": "120.27",
                    "AverageAmount": "497.501857"
                },
                {
                    "Month": "8",
                    "Year": "2019",
                    "ActionTaken": "discard",
                    "MinAmount": "120.27",
                    "AverageAmount": "497.501857"
                },
                {
                    "Month": "8",
                    "Year": "2019",
                    "ActionTaken": "discard",
                    "MinAmount": "120.27",
                    "AverageAmount": "497.501857"
                },
                {
                    "Month": "8",
                    "Year": "2019",
                    "ActionTaken": "gift",
                    "MinAmount": "121.91",
                    "AverageAmount": "503.513404"
                },
                {
                    "Month": "8",
                    "Year": "2019",
                    "ActionTaken": "gift",
                    "MinAmount": "121.91",
                    "AverageAmount": "503.513404"
                },
                {
                    "Month": "8",
                    "Year": "2019",
                    "ActionTaken": "gift",
                    "MinAmount": "121.91",
                    "AverageAmount": "503.513404"
                },
                {
                    "Month": "8",
                    "Year": "2019",
                    "ActionTaken": "gift",
                    "MinAmount": "121.91",
                    "AverageAmount": "503.513404"
                },
                {
                    "Month": "8",
                    "Year": "2019",
                    "ActionTaken": "gift",
                    "MinAmount": "121.91",
                    "AverageAmount": "503.513404"
                },
                {
                    "Month": "8",
                    "Year": "2019",
                    "ActionTaken": "gift",
                    "MinAmount": "121.91",
                    "AverageAmount": "503.513404"
                },
                {
                    "Month": "8",
                    "Year": "2019",
                    "ActionTaken": "gift",
                    "MinAmount": "121.91",
                    "AverageAmount": "503.513404"
                },
                {
                    "Month": "8",
                    "Year": "2019",
                    "ActionTaken": "gift",
                    "MinAmount": "121.91",
                    "AverageAmount": "503.513404"
                },
                {
                    "Month": "8",
                    "Year": "2019",
                    "ActionTaken": "personal use",
                    "MinAmount": "128.79",
                    "AverageAmount": "528.282011"
                },
                {
                    "Month": "8",
                    "Year": "2019",
                    "ActionTaken": "personal use",
                    "MinAmount": "128.79",
                    "AverageAmount": "528.282011"
                },
                {
                    "Month": "8",
                    "Year": "2019",
                    "ActionTaken": "personal use",
                    "MinAmount": "128.79",
                    "AverageAmount": "528.282011"
                },
                {
                    "Month": "8",
                    "Year": "2019",
                    "ActionTaken": "personal use",
                    "MinAmount": "128.79",
                    "AverageAmount": "528.282011"
                },
                {
                    "Month": "8",
                    "Year": "2019",
                    "ActionTaken": "personal use",
                    "MinAmount": "128.79",
                    "AverageAmount": "528.282011"
                },
                {
                    "Month": "8",
                    "Year": "2019",
                    "ActionTaken": "personal use",
                    "MinAmount": "128.79",
                    "AverageAmount": "528.282011"
                },
                {
                    "Month": "8",
                    "Year": "2019",
                    "ActionTaken": "personal use",
                    "MinAmount": "128.79",
                    "AverageAmount": "528.282011"
                },
                {
                    "Month": "8",
                    "Year": "2019",
                    "ActionTaken": "personal use",
                    "MinAmount": "128.79",
                    "AverageAmount": "528.282011"
                },
                {
                    "Month": "8",
                    "Year": "2019",
                    "ActionTaken": "personal use",
                    "MinAmount": "128.79",
                    "AverageAmount": "528.282011"
                },
                {
                    "Month": "8",
                    "Year": "2019",
                    "ActionTaken": "personal use",
                    "MinAmount": "128.79",
                    "AverageAmount": "528.282011"
                },
                {
                    "Month": "8",
                    "Year": "2019",
                    "ActionTaken": "personal use",
                    "MinAmount": "128.79",
                    "AverageAmount": "528.282011"
                },
                {
                    "Month": "8",
                    "Year": "2019",
                    "ActionTaken": "personal use",
                    "MinAmount": "128.79",
                    "AverageAmount": "528.282011"
                },
                {
                    "Month": "8",
                    "Year": "2019",
                    "ActionTaken": "personal use",
                    "MinAmount": "128.79",
                    "AverageAmount": "528.282011"
                },
                {
                    "Month": "8",
                    "Year": "2019",
                    "ActionTaken": "personal use",
                    "MinAmount": "128.79",
                    "AverageAmount": "528.282011"
                },
                {
                    "Month": "9",
                    "Year": "2019",
                    "ActionTaken": "charity",
                    "MinAmount": "122.53",
                    "AverageAmount": "515.230324"
                },
                {
                    "Month": "9",
                    "Year": "2019",
                    "ActionTaken": "charity",
                    "MinAmount": "122.53",
                    "AverageAmount": "515.230324"
                },
                {
                    "Month": "9",
                    "Year": "2019",
                    "ActionTaken": "charity",
                    "MinAmount": "122.53",
                    "AverageAmount": "515.230324"
                },
                {
                    "Month": "9",
                    "Year": "2019",
                    "ActionTaken": "charity",
                    "MinAmount": "122.53",
                    "AverageAmount": "515.230324"
                },
                {
                    "Month": "9",
                    "Year": "2019",
                    "ActionTaken": "charity",
                    "MinAmount": "122.53",
                    "AverageAmount": "515.230324"
                },
                {
                    "Month": "9",
                    "Year": "2019",
                    "ActionTaken": "charity",
                    "MinAmount": "122.53",
                    "AverageAmount": "515.230324"
                },
                {
                    "Month": "9",
                    "Year": "2019",
                    "ActionTaken": "charity",
                    "MinAmount": "122.53",
                    "AverageAmount": "515.230324"
                },
                {
                    "Month": "9",
                    "Year": "2019",
                    "ActionTaken": "charity",
                    "MinAmount": "122.53",
                    "AverageAmount": "515.230324"
                },
                {
                    "Month": "9",
                    "Year": "2019",
                    "ActionTaken": "discard",
                    "MinAmount": "120.27",
                    "AverageAmount": "497.501857"
                },
                {
                    "Month": "9",
                    "Year": "2019",
                    "ActionTaken": "discard",
                    "MinAmount": "120.27",
                    "AverageAmount": "497.501857"
                },
                {
                    "Month": "9",
                    "Year": "2019",
                    "ActionTaken": "discard",
                    "MinAmount": "120.27",
                    "AverageAmount": "497.501857"
                },
                {
                    "Month": "9",
                    "Year": "2019",
                    "ActionTaken": "discard",
                    "MinAmount": "120.27",
                    "AverageAmount": "497.501857"
                },
                {
                    "Month": "9",
                    "Year": "2019",
                    "ActionTaken": "discard",
                    "MinAmount": "120.27",
                    "AverageAmount": "497.501857"
                },
                {
                    "Month": "9",
                    "Year": "2019",
                    "ActionTaken": "gift",
                    "MinAmount": "121.91",
                    "AverageAmount": "503.513404"
                },
                {
                    "Month": "9",
                    "Year": "2019",
                    "ActionTaken": "gift",
                    "MinAmount": "121.91",
                    "AverageAmount": "503.513404"
                },
                {
                    "Month": "9",
                    "Year": "2019",
                    "ActionTaken": "gift",
                    "MinAmount": "121.91",
                    "AverageAmount": "503.513404"
                },
                {
                    "Month": "9",
                    "Year": "2019",
                    "ActionTaken": "gift",
                    "MinAmount": "121.91",
                    "AverageAmount": "503.513404"
                },
                {
                    "Month": "9",
                    "Year": "2019",
                    "ActionTaken": "gift",
                    "MinAmount": "121.91",
                    "AverageAmount": "503.513404"
                },
                {
                    "Month": "9",
                    "Year": "2019",
                    "ActionTaken": "gift",
                    "MinAmount": "121.91",
                    "AverageAmount": "503.513404"
                },
                {
                    "Month": "9",
                    "Year": "2019",
                    "ActionTaken": "gift",
                    "MinAmount": "121.91",
                    "AverageAmount": "503.513404"
                },
                {
                    "Month": "9",
                    "Year": "2019",
                    "ActionTaken": "gift",
                    "MinAmount": "121.91",
                    "AverageAmount": "503.513404"
                },
                {
                    "Month": "9",
                    "Year": "2019",
                    "ActionTaken": "gift",
                    "MinAmount": "121.91",
                    "AverageAmount": "503.513404"
                },
                {
                    "Month": "9",
                    "Year": "2019",
                    "ActionTaken": "personal use",
                    "MinAmount": "128.79",
                    "AverageAmount": "528.282011"
                },
                {
                    "Month": "9",
                    "Year": "2019",
                    "ActionTaken": "personal use",
                    "MinAmount": "128.79",
                    "AverageAmount": "528.282011"
                },
                {
                    "Month": "9",
                    "Year": "2019",
                    "ActionTaken": "personal use",
                    "MinAmount": "128.79",
                    "AverageAmount": "528.282011"
                },
                {
                    "Month": "9",
                    "Year": "2019",
                    "ActionTaken": "personal use",
                    "MinAmount": "128.79",
                    "AverageAmount": "528.282011"
                },
                {
                    "Month": "9",
                    "Year": "2019",
                    "ActionTaken": "personal use",
                    "MinAmount": "128.79",
                    "AverageAmount": "528.282011"
                },
                {
                    "Month": "9",
                    "Year": "2019",
                    "ActionTaken": "personal use",
                    "MinAmount": "128.79",
                    "AverageAmount": "528.282011"
                },
                {
                    "Month": "9",
                    "Year": "2019",
                    "ActionTaken": "personal use",
                    "MinAmount": "128.79",
                    "AverageAmount": "528.282011"
                },
                {
                    "Month": "9",
                    "Year": "2019",
                    "ActionTaken": "personal use",
                    "MinAmount": "128.79",
                    "AverageAmount": "528.282011"
                },
                {
                    "Month": "10",
                    "Year": "2019",
                    "ActionTaken": "charity",
                    "MinAmount": "122.53",
                    "AverageAmount": "515.230324"
                },
                {
                    "Month": "10",
                    "Year": "2019",
                    "ActionTaken": "charity",
                    "MinAmount": "122.53",
                    "AverageAmount": "515.230324"
                },
                {
                    "Month": "10",
                    "Year": "2019",
                    "ActionTaken": "charity",
                    "MinAmount": "122.53",
                    "AverageAmount": "515.230324"
                },
                {
                    "Month": "10",
                    "Year": "2019",
                    "ActionTaken": "charity",
                    "MinAmount": "122.53",
                    "AverageAmount": "515.230324"
                },
                {
                    "Month": "10",
                    "Year": "2019",
                    "ActionTaken": "charity",
                    "MinAmount": "122.53",
                    "AverageAmount": "515.230324"
                },
                {
                    "Month": "10",
                    "Year": "2019",
                    "ActionTaken": "charity",
                    "MinAmount": "122.53",
                    "AverageAmount": "515.230324"
                },
                {
                    "Month": "10",
                    "Year": "2019",
                    "ActionTaken": "charity",
                    "MinAmount": "122.53",
                    "AverageAmount": "515.230324"
                },
                {
                    "Month": "10",
                    "Year": "2019",
                    "ActionTaken": "charity",
                    "MinAmount": "122.53",
                    "AverageAmount": "515.230324"
                },
                {
                    "Month": "10",
                    "Year": "2019",
                    "ActionTaken": "charity",
                    "MinAmount": "122.53",
                    "AverageAmount": "515.230324"
                },
                {
                    "Month": "10",
                    "Year": "2019",
                    "ActionTaken": "charity",
                    "MinAmount": "122.53",
                    "AverageAmount": "515.230324"
                },
                {
                    "Month": "10",
                    "Year": "2019",
                    "ActionTaken": "discard",
                    "MinAmount": "120.27",
                    "AverageAmount": "497.501857"
                },
                {
                    "Month": "10",
                    "Year": "2019",
                    "ActionTaken": "discard",
                    "MinAmount": "120.27",
                    "AverageAmount": "497.501857"
                },
                {
                    "Month": "10",
                    "Year": "2019",
                    "ActionTaken": "discard",
                    "MinAmount": "120.27",
                    "AverageAmount": "497.501857"
                },
                {
                    "Month": "10",
                    "Year": "2019",
                    "ActionTaken": "discard",
                    "MinAmount": "120.27",
                    "AverageAmount": "497.501857"
                },
                {
                    "Month": "10",
                    "Year": "2019",
                    "ActionTaken": "discard",
                    "MinAmount": "120.27",
                    "AverageAmount": "497.501857"
                },
                {
                    "Month": "10",
                    "Year": "2019",
                    "ActionTaken": "discard",
                    "MinAmount": "120.27",
                    "AverageAmount": "497.501857"
                },
                {
                    "Month": "10",
                    "Year": "2019",
                    "ActionTaken": "discard",
                    "MinAmount": "120.27",
                    "AverageAmount": "497.501857"
                },
                {
                    "Month": "10",
                    "Year": "2019",
                    "ActionTaken": "discard",
                    "MinAmount": "120.27",
                    "AverageAmount": "497.501857"
                },
                {
                    "Month": "10",
                    "Year": "2019",
                    "ActionTaken": "gift",
                    "MinAmount": "121.91",
                    "AverageAmount": "503.513404"
                },
                {
                    "Month": "10",
                    "Year": "2019",
                    "ActionTaken": "gift",
                    "MinAmount": "121.91",
                    "AverageAmount": "503.513404"
                },
                {
                    "Month": "10",
                    "Year": "2019",
                    "ActionTaken": "gift",
                    "MinAmount": "121.91",
                    "AverageAmount": "503.513404"
                },
                {
                    "Month": "10",
                    "Year": "2019",
                    "ActionTaken": "gift",
                    "MinAmount": "121.91",
                    "AverageAmount": "503.513404"
                },
                {
                    "Month": "10",
                    "Year": "2019",
                    "ActionTaken": "gift",
                    "MinAmount": "121.91",
                    "AverageAmount": "503.513404"
                },
                {
                    "Month": "10",
                    "Year": "2019",
                    "ActionTaken": "gift",
                    "MinAmount": "121.91",
                    "AverageAmount": "503.513404"
                },
                {
                    "Month": "10",
                    "Year": "2019",
                    "ActionTaken": "gift",
                    "MinAmount": "121.91",
                    "AverageAmount": "503.513404"
                },
                {
                    "Month": "10",
                    "Year": "2019",
                    "ActionTaken": "gift",
                    "MinAmount": "121.91",
                    "AverageAmount": "503.513404"
                },
                {
                    "Month": "10",
                    "Year": "2019",
                    "ActionTaken": "personal use",
                    "MinAmount": "128.79",
                    "AverageAmount": "528.282011"
                },
                {
                    "Month": "10",
                    "Year": "2019",
                    "ActionTaken": "personal use",
                    "MinAmount": "128.79",
                    "AverageAmount": "528.282011"
                },
                {
                    "Month": "10",
                    "Year": "2019",
                    "ActionTaken": "personal use",
                    "MinAmount": "128.79",
                    "AverageAmount": "528.282011"
                },
                {
                    "Month": "10",
                    "Year": "2019",
                    "ActionTaken": "personal use",
                    "MinAmount": "128.79",
                    "AverageAmount": "528.282011"
                },
                {
                    "Month": "10",
                    "Year": "2019",
                    "ActionTaken": "personal use",
                    "MinAmount": "128.79",
                    "AverageAmount": "528.282011"
                },
                {
                    "Month": "11",
                    "Year": "2019",
                    "ActionTaken": "charity",
                    "MinAmount": "122.53",
                    "AverageAmount": "515.230324"
                },
                {
                    "Month": "11",
                    "Year": "2019",
                    "ActionTaken": "charity",
                    "MinAmount": "122.53",
                    "AverageAmount": "515.230324"
                },
                {
                    "Month": "11",
                    "Year": "2019",
                    "ActionTaken": "charity",
                    "MinAmount": "122.53",
                    "AverageAmount": "515.230324"
                },
                {
                    "Month": "11",
                    "Year": "2019",
                    "ActionTaken": "charity",
                    "MinAmount": "122.53",
                    "AverageAmount": "515.230324"
                },
                {
                    "Month": "11",
                    "Year": "2019",
                    "ActionTaken": "charity",
                    "MinAmount": "122.53",
                    "AverageAmount": "515.230324"
                },
                {
                    "Month": "11",
                    "Year": "2019",
                    "ActionTaken": "charity",
                    "MinAmount": "122.53",
                    "AverageAmount": "515.230324"
                },
                {
                    "Month": "11",
                    "Year": "2019",
                    "ActionTaken": "charity",
                    "MinAmount": "122.53",
                    "AverageAmount": "515.230324"
                },
                {
                    "Month": "11",
                    "Year": "2019",
                    "ActionTaken": "charity",
                    "MinAmount": "122.53",
                    "AverageAmount": "515.230324"
                },
                {
                    "Month": "11",
                    "Year": "2019",
                    "ActionTaken": "charity",
                    "MinAmount": "122.53",
                    "AverageAmount": "515.230324"
                },
                {
                    "Month": "11",
                    "Year": "2019",
                    "ActionTaken": "charity",
                    "MinAmount": "122.53",
                    "AverageAmount": "515.230324"
                },
                {
                    "Month": "11",
                    "Year": "2019",
                    "ActionTaken": "charity",
                    "MinAmount": "122.53",
                    "AverageAmount": "515.230324"
                },
                {
                    "Month": "11",
                    "Year": "2019",
                    "ActionTaken": "discard",
                    "MinAmount": "120.27",
                    "AverageAmount": "497.501857"
                },
                {
                    "Month": "11",
                    "Year": "2019",
                    "ActionTaken": "discard",
                    "MinAmount": "120.27",
                    "AverageAmount": "497.501857"
                },
                {
                    "Month": "11",
                    "Year": "2019",
                    "ActionTaken": "discard",
                    "MinAmount": "120.27",
                    "AverageAmount": "497.501857"
                },
                {
                    "Month": "11",
                    "Year": "2019",
                    "ActionTaken": "discard",
                    "MinAmount": "120.27",
                    "AverageAmount": "497.501857"
                },
                {
                    "Month": "11",
                    "Year": "2019",
                    "ActionTaken": "discard",
                    "MinAmount": "120.27",
                    "AverageAmount": "497.501857"
                },
                {
                    "Month": "11",
                    "Year": "2019",
                    "ActionTaken": "discard",
                    "MinAmount": "120.27",
                    "AverageAmount": "497.501857"
                },
                {
                    "Month": "11",
                    "Year": "2019",
                    "ActionTaken": "discard",
                    "MinAmount": "120.27",
                    "AverageAmount": "497.501857"
                },
                {
                    "Month": "11",
                    "Year": "2019",
                    "ActionTaken": "gift",
                    "MinAmount": "121.91",
                    "AverageAmount": "503.513404"
                },
                {
                    "Month": "11",
                    "Year": "2019",
                    "ActionTaken": "gift",
                    "MinAmount": "121.91",
                    "AverageAmount": "503.513404"
                },
                {
                    "Month": "11",
                    "Year": "2019",
                    "ActionTaken": "gift",
                    "MinAmount": "121.91",
                    "AverageAmount": "503.513404"
                },
                {
                    "Month": "11",
                    "Year": "2019",
                    "ActionTaken": "gift",
                    "MinAmount": "121.91",
                    "AverageAmount": "503.513404"
                },
                {
                    "Month": "11",
                    "Year": "2019",
                    "ActionTaken": "gift",
                    "MinAmount": "121.91",
                    "AverageAmount": "503.513404"
                },
                {
                    "Month": "11",
                    "Year": "2019",
                    "ActionTaken": "gift",
                    "MinAmount": "121.91",
                    "AverageAmount": "503.513404"
                },
                {
                    "Month": "11",
                    "Year": "2019",
                    "ActionTaken": "personal use",
                    "MinAmount": "128.79",
                    "AverageAmount": "528.282011"
                },
                {
                    "Month": "11",
                    "Year": "2019",
                    "ActionTaken": "personal use",
                    "MinAmount": "128.79",
                    "AverageAmount": "528.282011"
                },
                {
                    "Month": "11",
                    "Year": "2019",
                    "ActionTaken": "personal use",
                    "MinAmount": "128.79",
                    "AverageAmount": "528.282011"
                },
                {
                    "Month": "11",
                    "Year": "2019",
                    "ActionTaken": "personal use",
                    "MinAmount": "128.79",
                    "AverageAmount": "528.282011"
                },
                {
                    "Month": "11",
                    "Year": "2019",
                    "ActionTaken": "personal use",
                    "MinAmount": "128.79",
                    "AverageAmount": "528.282011"
                },
                {
                    "Month": "11",
                    "Year": "2019",
                    "ActionTaken": "personal use",
                    "MinAmount": "128.79",
                    "AverageAmount": "528.282011"
                },
                {
                    "Month": "12",
                    "Year": "2019",
                    "ActionTaken": "charity",
                    "MinAmount": "122.53",
                    "AverageAmount": "515.230324"
                },
                {
                    "Month": "12",
                    "Year": "2019",
                    "ActionTaken": "charity",
                    "MinAmount": "122.53",
                    "AverageAmount": "515.230324"
                },
                {
                    "Month": "12",
                    "Year": "2019",
                    "ActionTaken": "charity",
                    "MinAmount": "122.53",
                    "AverageAmount": "515.230324"
                },
                {
                    "Month": "12",
                    "Year": "2019",
                    "ActionTaken": "charity",
                    "MinAmount": "122.53",
                    "AverageAmount": "515.230324"
                },
                {
                    "Month": "12",
                    "Year": "2019",
                    "ActionTaken": "charity",
                    "MinAmount": "122.53",
                    "AverageAmount": "515.230324"
                },
                {
                    "Month": "12",
                    "Year": "2019",
                    "ActionTaken": "discard",
                    "MinAmount": "120.27",
                    "AverageAmount": "497.501857"
                },
                {
                    "Month": "12",
                    "Year": "2019",
                    "ActionTaken": "discard",
                    "MinAmount": "120.27",
                    "AverageAmount": "497.501857"
                },
                {
                    "Month": "12",
                    "Year": "2019",
                    "ActionTaken": "discard",
                    "MinAmount": "120.27",
                    "AverageAmount": "497.501857"
                },
                {
                    "Month": "12",
                    "Year": "2019",
                    "ActionTaken": "discard",
                    "MinAmount": "120.27",
                    "AverageAmount": "497.501857"
                },
                {
                    "Month": "12",
                    "Year": "2019",
                    "ActionTaken": "discard",
                    "MinAmount": "120.27",
                    "AverageAmount": "497.501857"
                },
                {
                    "Month": "12",
                    "Year": "2019",
                    "ActionTaken": "discard",
                    "MinAmount": "120.27",
                    "AverageAmount": "497.501857"
                },
                {
                    "Month": "12",
                    "Year": "2019",
                    "ActionTaken": "discard",
                    "MinAmount": "120.27",
                    "AverageAmount": "497.501857"
                },
                {
                    "Month": "12",
                    "Year": "2019",
                    "ActionTaken": "discard",
                    "MinAmount": "120.27",
                    "AverageAmount": "497.501857"
                },
                {
                    "Month": "12",
                    "Year": "2019",
                    "ActionTaken": "discard",
                    "MinAmount": "120.27",
                    "AverageAmount": "497.501857"
                },
                {
                    "Month": "12",
                    "Year": "2019",
                    "ActionTaken": "gift",
                    "MinAmount": "121.91",
                    "AverageAmount": "503.513404"
                },
                {
                    "Month": "12",
                    "Year": "2019",
                    "ActionTaken": "gift",
                    "MinAmount": "121.91",
                    "AverageAmount": "503.513404"
                },
                {
                    "Month": "12",
                    "Year": "2019",
                    "ActionTaken": "gift",
                    "MinAmount": "121.91",
                    "AverageAmount": "503.513404"
                },
                {
                    "Month": "12",
                    "Year": "2019",
                    "ActionTaken": "gift",
                    "MinAmount": "121.91",
                    "AverageAmount": "503.513404"
                },
                {
                    "Month": "12",
                    "Year": "2019",
                    "ActionTaken": "gift",
                    "MinAmount": "121.91",
                    "AverageAmount": "503.513404"
                },
                {
                    "Month": "12",
                    "Year": "2019",
                    "ActionTaken": "gift",
                    "MinAmount": "121.91",
                    "AverageAmount": "503.513404"
                },
                {
                    "Month": "12",
                    "Year": "2019",
                    "ActionTaken": "gift",
                    "MinAmount": "121.91",
                    "AverageAmount": "503.513404"
                },
                {
                    "Month": "12",
                    "Year": "2019",
                    "ActionTaken": "personal use",
                    "MinAmount": "128.79",
                    "AverageAmount": "528.282011"
                },
                {
                    "Month": "12",
                    "Year": "2019",
                    "ActionTaken": "personal use",
                    "MinAmount": "128.79",
                    "AverageAmount": "528.282011"
                },
                {
                    "Month": "12",
                    "Year": "2019",
                    "ActionTaken": "personal use",
                    "MinAmount": "128.79",
                    "AverageAmount": "528.282011"
                },
                {
                    "Month": "12",
                    "Year": "2019",
                    "ActionTaken": "personal use",
                    "MinAmount": "128.79",
                    "AverageAmount": "528.282011"
                },
                {
                    "Month": "12",
                    "Year": "2019",
                    "ActionTaken": "personal use",
                    "MinAmount": "128.79",
                    "AverageAmount": "528.282011"
                },
                {
                    "Month": "12",
                    "Year": "2019",
                    "ActionTaken": "personal use",
                    "MinAmount": "128.79",
                    "AverageAmount": "528.282011"
                },
                {
                    "Month": "12",
                    "Year": "2019",
                    "ActionTaken": "personal use",
                    "MinAmount": "128.79",
                    "AverageAmount": "528.282011"
                },
                {
                    "Month": "12",
                    "Year": "2019",
                    "ActionTaken": "personal use",
                    "MinAmount": "128.79",
                    "AverageAmount": "528.282011"
                },
                {
                    "Month": "12",
                    "Year": "2019",
                    "ActionTaken": "personal use",
                    "MinAmount": "128.79",
                    "AverageAmount": "528.282011"
                },
                {
                    "Month": "12",
                    "Year": "2019",
                    "ActionTaken": "personal use",
                    "MinAmount": "128.79",
                    "AverageAmount": "528.282011"
                },
                {
                    "Month": "1",
                    "Year": "2020",
                    "ActionTaken": "charity",
                    "MinAmount": "122.53",
                    "AverageAmount": "515.230324"
                },
                {
                    "Month": "1",
                    "Year": "2020",
                    "ActionTaken": "charity",
                    "MinAmount": "122.53",
                    "AverageAmount": "515.230324"
                },
                {
                    "Month": "1",
                    "Year": "2020",
                    "ActionTaken": "charity",
                    "MinAmount": "122.53",
                    "AverageAmount": "515.230324"
                },
                {
                    "Month": "1",
                    "Year": "2020",
                    "ActionTaken": "discard",
                    "MinAmount": "120.27",
                    "AverageAmount": "497.501857"
                },
                {
                    "Month": "1",
                    "Year": "2020",
                    "ActionTaken": "discard",
                    "MinAmount": "120.27",
                    "AverageAmount": "497.501857"
                },
                {
                    "Month": "1",
                    "Year": "2020",
                    "ActionTaken": "discard",
                    "MinAmount": "120.27",
                    "AverageAmount": "497.501857"
                },
                {
                    "Month": "1",
                    "Year": "2020",
                    "ActionTaken": "discard",
                    "MinAmount": "120.27",
                    "AverageAmount": "497.501857"
                },
                {
                    "Month": "1",
                    "Year": "2020",
                    "ActionTaken": "discard",
                    "MinAmount": "120.27",
                    "AverageAmount": "497.501857"
                },
                {
                    "Month": "1",
                    "Year": "2020",
                    "ActionTaken": "discard",
                    "MinAmount": "120.27",
                    "AverageAmount": "497.501857"
                },
                {
                    "Month": "1",
                    "Year": "2020",
                    "ActionTaken": "discard",
                    "MinAmount": "120.27",
                    "AverageAmount": "497.501857"
                },
                {
                    "Month": "1",
                    "Year": "2020",
                    "ActionTaken": "discard",
                    "MinAmount": "120.27",
                    "AverageAmount": "497.501857"
                },
                {
                    "Month": "1",
                    "Year": "2020",
                    "ActionTaken": "gift",
                    "MinAmount": "121.91",
                    "AverageAmount": "503.513404"
                },
                {
                    "Month": "1",
                    "Year": "2020",
                    "ActionTaken": "gift",
                    "MinAmount": "121.91",
                    "AverageAmount": "503.513404"
                },
                {
                    "Month": "1",
                    "Year": "2020",
                    "ActionTaken": "gift",
                    "MinAmount": "121.91",
                    "AverageAmount": "503.513404"
                },
                {
                    "Month": "1",
                    "Year": "2020",
                    "ActionTaken": "gift",
                    "MinAmount": "121.91",
                    "AverageAmount": "503.513404"
                },
                {
                    "Month": "1",
                    "Year": "2020",
                    "ActionTaken": "gift",
                    "MinAmount": "121.91",
                    "AverageAmount": "503.513404"
                },
                {
                    "Month": "1",
                    "Year": "2020",
                    "ActionTaken": "gift",
                    "MinAmount": "121.91",
                    "AverageAmount": "503.513404"
                },
                {
                    "Month": "1",
                    "Year": "2020",
                    "ActionTaken": "personal use",
                    "MinAmount": "128.79",
                    "AverageAmount": "528.282011"
                },
                {
                    "Month": "1",
                    "Year": "2020",
                    "ActionTaken": "personal use",
                    "MinAmount": "128.79",
                    "AverageAmount": "528.282011"
                },
                {
                    "Month": "1",
                    "Year": "2020",
                    "ActionTaken": "personal use",
                    "MinAmount": "128.79",
                    "AverageAmount": "528.282011"
                },
                {
                    "Month": "1",
                    "Year": "2020",
                    "ActionTaken": "personal use",
                    "MinAmount": "128.79",
                    "AverageAmount": "528.282011"
                },
                {
                    "Month": "1",
                    "Year": "2020",
                    "ActionTaken": "personal use",
                    "MinAmount": "128.79",
                    "AverageAmount": "528.282011"
                },
                {
                    "Month": "1",
                    "Year": "2020",
                    "ActionTaken": "personal use",
                    "MinAmount": "128.79",
                    "AverageAmount": "528.282011"
                },
                {
                    "Month": "1",
                    "Year": "2020",
                    "ActionTaken": "personal use",
                    "MinAmount": "128.79",
                    "AverageAmount": "528.282011"
                },
                {
                    "Month": "1",
                    "Year": "2020",
                    "ActionTaken": "personal use",
                    "MinAmount": "128.79",
                    "AverageAmount": "528.282011"
                },
                {
                    "Month": "1",
                    "Year": "2020",
                    "ActionTaken": "personal use",
                    "MinAmount": "128.79",
                    "AverageAmount": "528.282011"
                },
                {
                    "Month": "1",
                    "Year": "2020",
                    "ActionTaken": "personal use",
                    "MinAmount": "128.79",
                    "AverageAmount": "528.282011"
                },
                {
                    "Month": "1",
                    "Year": "2020",
                    "ActionTaken": "personal use",
                    "MinAmount": "128.79",
                    "AverageAmount": "528.282011"
                },
                {
                    "Month": "1",
                    "Year": "2020",
                    "ActionTaken": "personal use",
                    "MinAmount": "128.79",
                    "AverageAmount": "528.282011"
                },
                {
                    "Month": "1",
                    "Year": "2020",
                    "ActionTaken": "personal use",
                    "MinAmount": "128.79",
                    "AverageAmount": "528.282011"
                },
                {
                    "Month": "1",
                    "Year": "2020",
                    "ActionTaken": "personal use",
                    "MinAmount": "128.79",
                    "AverageAmount": "528.282011"
                },
                {
                    "Month": "2",
                    "Year": "2020",
                    "ActionTaken": "charity",
                    "MinAmount": "122.53",
                    "AverageAmount": "515.230324"
                },
                {
                    "Month": "2",
                    "Year": "2020",
                    "ActionTaken": "charity",
                    "MinAmount": "122.53",
                    "AverageAmount": "515.230324"
                },
                {
                    "Month": "2",
                    "Year": "2020",
                    "ActionTaken": "charity",
                    "MinAmount": "122.53",
                    "AverageAmount": "515.230324"
                },
                {
                    "Month": "2",
                    "Year": "2020",
                    "ActionTaken": "charity",
                    "MinAmount": "122.53",
                    "AverageAmount": "515.230324"
                },
                {
                    "Month": "2",
                    "Year": "2020",
                    "ActionTaken": "charity",
                    "MinAmount": "122.53",
                    "AverageAmount": "515.230324"
                },
                {
                    "Month": "2",
                    "Year": "2020",
                    "ActionTaken": "charity",
                    "MinAmount": "122.53",
                    "AverageAmount": "515.230324"
                },
                {
                    "Month": "2",
                    "Year": "2020",
                    "ActionTaken": "discard",
                    "MinAmount": "120.27",
                    "AverageAmount": "497.501857"
                },
                {
                    "Month": "2",
                    "Year": "2020",
                    "ActionTaken": "discard",
                    "MinAmount": "120.27",
                    "AverageAmount": "497.501857"
                },
                {
                    "Month": "2",
                    "Year": "2020",
                    "ActionTaken": "discard",
                    "MinAmount": "120.27",
                    "AverageAmount": "497.501857"
                },
                {
                    "Month": "2",
                    "Year": "2020",
                    "ActionTaken": "discard",
                    "MinAmount": "120.27",
                    "AverageAmount": "497.501857"
                },
                {
                    "Month": "2",
                    "Year": "2020",
                    "ActionTaken": "discard",
                    "MinAmount": "120.27",
                    "AverageAmount": "497.501857"
                },
                {
                    "Month": "2",
                    "Year": "2020",
                    "ActionTaken": "discard",
                    "MinAmount": "120.27",
                    "AverageAmount": "497.501857"
                },
                {
                    "Month": "2",
                    "Year": "2020",
                    "ActionTaken": "discard",
                    "MinAmount": "120.27",
                    "AverageAmount": "497.501857"
                },
                {
                    "Month": "2",
                    "Year": "2020",
                    "ActionTaken": "discard",
                    "MinAmount": "120.27",
                    "AverageAmount": "497.501857"
                },
                {
                    "Month": "2",
                    "Year": "2020",
                    "ActionTaken": "discard",
                    "MinAmount": "120.27",
                    "AverageAmount": "497.501857"
                },
                {
                    "Month": "2",
                    "Year": "2020",
                    "ActionTaken": "gift",
                    "MinAmount": "121.91",
                    "AverageAmount": "503.513404"
                },
                {
                    "Month": "2",
                    "Year": "2020",
                    "ActionTaken": "gift",
                    "MinAmount": "121.91",
                    "AverageAmount": "503.513404"
                },
                {
                    "Month": "2",
                    "Year": "2020",
                    "ActionTaken": "gift",
                    "MinAmount": "121.91",
                    "AverageAmount": "503.513404"
                },
                {
                    "Month": "2",
                    "Year": "2020",
                    "ActionTaken": "gift",
                    "MinAmount": "121.91",
                    "AverageAmount": "503.513404"
                },
                {
                    "Month": "2",
                    "Year": "2020",
                    "ActionTaken": "gift",
                    "MinAmount": "121.91",
                    "AverageAmount": "503.513404"
                },
                {
                    "Month": "2",
                    "Year": "2020",
                    "ActionTaken": "gift",
                    "MinAmount": "121.91",
                    "AverageAmount": "503.513404"
                },
                {
                    "Month": "2",
                    "Year": "2020",
                    "ActionTaken": "gift",
                    "MinAmount": "121.91",
                    "AverageAmount": "503.513404"
                },
                {
                    "Month": "2",
                    "Year": "2020",
                    "ActionTaken": "personal use",
                    "MinAmount": "128.79",
                    "AverageAmount": "528.282011"
                },
                {
                    "Month": "2",
                    "Year": "2020",
                    "ActionTaken": "personal use",
                    "MinAmount": "128.79",
                    "AverageAmount": "528.282011"
                },
                {
                    "Month": "2",
                    "Year": "2020",
                    "ActionTaken": "personal use",
                    "MinAmount": "128.79",
                    "AverageAmount": "528.282011"
                },
                {
                    "Month": "2",
                    "Year": "2020",
                    "ActionTaken": "personal use",
                    "MinAmount": "128.79",
                    "AverageAmount": "528.282011"
                },
                {
                    "Month": "2",
                    "Year": "2020",
                    "ActionTaken": "personal use",
                    "MinAmount": "128.79",
                    "AverageAmount": "528.282011"
                },
                {
                    "Month": "2",
                    "Year": "2020",
                    "ActionTaken": "personal use",
                    "MinAmount": "128.79",
                    "AverageAmount": "528.282011"
                },
                {
                    "Month": "2",
                    "Year": "2020",
                    "ActionTaken": "personal use",
                    "MinAmount": "128.79",
                    "AverageAmount": "528.282011"
                },
                {
                    "Month": "3",
                    "Year": "2020",
                    "ActionTaken": "charity",
                    "MinAmount": "122.53",
                    "AverageAmount": "515.230324"
                },
                {
                    "Month": "3",
                    "Year": "2020",
                    "ActionTaken": "charity",
                    "MinAmount": "122.53",
                    "AverageAmount": "515.230324"
                },
                {
                    "Month": "3",
                    "Year": "2020",
                    "ActionTaken": "charity",
                    "MinAmount": "122.53",
                    "AverageAmount": "515.230324"
                },
                {
                    "Month": "3",
                    "Year": "2020",
                    "ActionTaken": "charity",
                    "MinAmount": "122.53",
                    "AverageAmount": "515.230324"
                },
                {
                    "Month": "3",
                    "Year": "2020",
                    "ActionTaken": "charity",
                    "MinAmount": "122.53",
                    "AverageAmount": "515.230324"
                },
                {
                    "Month": "3",
                    "Year": "2020",
                    "ActionTaken": "charity",
                    "MinAmount": "122.53",
                    "AverageAmount": "515.230324"
                },
                {
                    "Month": "3",
                    "Year": "2020",
                    "ActionTaken": "charity",
                    "MinAmount": "122.53",
                    "AverageAmount": "515.230324"
                },
                {
                    "Month": "3",
                    "Year": "2020",
                    "ActionTaken": "charity",
                    "MinAmount": "122.53",
                    "AverageAmount": "515.230324"
                },
                {
                    "Month": "3",
                    "Year": "2020",
                    "ActionTaken": "charity",
                    "MinAmount": "122.53",
                    "AverageAmount": "515.230324"
                },
                {
                    "Month": "3",
                    "Year": "2020",
                    "ActionTaken": "charity",
                    "MinAmount": "122.53",
                    "AverageAmount": "515.230324"
                },
                {
                    "Month": "3",
                    "Year": "2020",
                    "ActionTaken": "discard",
                    "MinAmount": "120.27",
                    "AverageAmount": "497.501857"
                },
                {
                    "Month": "3",
                    "Year": "2020",
                    "ActionTaken": "discard",
                    "MinAmount": "120.27",
                    "AverageAmount": "497.501857"
                },
                {
                    "Month": "3",
                    "Year": "2020",
                    "ActionTaken": "discard",
                    "MinAmount": "120.27",
                    "AverageAmount": "497.501857"
                },
                {
                    "Month": "3",
                    "Year": "2020",
                    "ActionTaken": "discard",
                    "MinAmount": "120.27",
                    "AverageAmount": "497.501857"
                },
                {
                    "Month": "3",
                    "Year": "2020",
                    "ActionTaken": "discard",
                    "MinAmount": "120.27",
                    "AverageAmount": "497.501857"
                },
                {
                    "Month": "3",
                    "Year": "2020",
                    "ActionTaken": "discard",
                    "MinAmount": "120.27",
                    "AverageAmount": "497.501857"
                },
                {
                    "Month": "3",
                    "Year": "2020",
                    "ActionTaken": "discard",
                    "MinAmount": "120.27",
                    "AverageAmount": "497.501857"
                },
                {
                    "Month": "3",
                    "Year": "2020",
                    "ActionTaken": "discard",
                    "MinAmount": "120.27",
                    "AverageAmount": "497.501857"
                },
                {
                    "Month": "3",
                    "Year": "2020",
                    "ActionTaken": "discard",
                    "MinAmount": "120.27",
                    "AverageAmount": "497.501857"
                },
                {
                    "Month": "3",
                    "Year": "2020",
                    "ActionTaken": "discard",
                    "MinAmount": "120.27",
                    "AverageAmount": "497.501857"
                },
                {
                    "Month": "3",
                    "Year": "2020",
                    "ActionTaken": "gift",
                    "MinAmount": "121.91",
                    "AverageAmount": "503.513404"
                },
                {
                    "Month": "3",
                    "Year": "2020",
                    "ActionTaken": "gift",
                    "MinAmount": "121.91",
                    "AverageAmount": "503.513404"
                },
                {
                    "Month": "3",
                    "Year": "2020",
                    "ActionTaken": "gift",
                    "MinAmount": "121.91",
                    "AverageAmount": "503.513404"
                },
                {
                    "Month": "3",
                    "Year": "2020",
                    "ActionTaken": "gift",
                    "MinAmount": "121.91",
                    "AverageAmount": "503.513404"
                },
                {
                    "Month": "3",
                    "Year": "2020",
                    "ActionTaken": "gift",
                    "MinAmount": "121.91",
                    "AverageAmount": "503.513404"
                },
                {
                    "Month": "3",
                    "Year": "2020",
                    "ActionTaken": "gift",
                    "MinAmount": "121.91",
                    "AverageAmount": "503.513404"
                },
                {
                    "Month": "3",
                    "Year": "2020",
                    "ActionTaken": "gift",
                    "MinAmount": "121.91",
                    "AverageAmount": "503.513404"
                },
                {
                    "Month": "3",
                    "Year": "2020",
                    "ActionTaken": "gift",
                    "MinAmount": "121.91",
                    "AverageAmount": "503.513404"
                },
                {
                    "Month": "3",
                    "Year": "2020",
                    "ActionTaken": "personal use",
                    "MinAmount": "128.79",
                    "AverageAmount": "528.282011"
                },
                {
                    "Month": "3",
                    "Year": "2020",
                    "ActionTaken": "personal use",
                    "MinAmount": "128.79",
                    "AverageAmount": "528.282011"
                },
                {
                    "Month": "3",
                    "Year": "2020",
                    "ActionTaken": "personal use",
                    "MinAmount": "128.79",
                    "AverageAmount": "528.282011"
                },
                {
                    "Month": "4",
                    "Year": "2020",
                    "ActionTaken": "charity",
                    "MinAmount": "122.53",
                    "AverageAmount": "515.230324"
                },
                {
                    "Month": "4",
                    "Year": "2020",
                    "ActionTaken": "charity",
                    "MinAmount": "122.53",
                    "AverageAmount": "515.230324"
                },
                {
                    "Month": "4",
                    "Year": "2020",
                    "ActionTaken": "charity",
                    "MinAmount": "122.53",
                    "AverageAmount": "515.230324"
                },
                {
                    "Month": "4",
                    "Year": "2020",
                    "ActionTaken": "charity",
                    "MinAmount": "122.53",
                    "AverageAmount": "515.230324"
                },
                {
                    "Month": "4",
                    "Year": "2020",
                    "ActionTaken": "charity",
                    "MinAmount": "122.53",
                    "AverageAmount": "515.230324"
                },
                {
                    "Month": "4",
                    "Year": "2020",
                    "ActionTaken": "charity",
                    "MinAmount": "122.53",
                    "AverageAmount": "515.230324"
                },
                {
                    "Month": "4",
                    "Year": "2020",
                    "ActionTaken": "charity",
                    "MinAmount": "122.53",
                    "AverageAmount": "515.230324"
                },
                {
                    "Month": "4",
                    "Year": "2020",
                    "ActionTaken": "charity",
                    "MinAmount": "122.53",
                    "AverageAmount": "515.230324"
                },
                {
                    "Month": "4",
                    "Year": "2020",
                    "ActionTaken": "charity",
                    "MinAmount": "122.53",
                    "AverageAmount": "515.230324"
                },
                {
                    "Month": "4",
                    "Year": "2020",
                    "ActionTaken": "discard",
                    "MinAmount": "120.27",
                    "AverageAmount": "497.501857"
                },
                {
                    "Month": "4",
                    "Year": "2020",
                    "ActionTaken": "discard",
                    "MinAmount": "120.27",
                    "AverageAmount": "497.501857"
                },
                {
                    "Month": "4",
                    "Year": "2020",
                    "ActionTaken": "discard",
                    "MinAmount": "120.27",
                    "AverageAmount": "497.501857"
                },
                {
                    "Month": "4",
                    "Year": "2020",
                    "ActionTaken": "discard",
                    "MinAmount": "120.27",
                    "AverageAmount": "497.501857"
                },
                {
                    "Month": "4",
                    "Year": "2020",
                    "ActionTaken": "discard",
                    "MinAmount": "120.27",
                    "AverageAmount": "497.501857"
                },
                {
                    "Month": "4",
                    "Year": "2020",
                    "ActionTaken": "discard",
                    "MinAmount": "120.27",
                    "AverageAmount": "497.501857"
                },
                {
                    "Month": "4",
                    "Year": "2020",
                    "ActionTaken": "discard",
                    "MinAmount": "120.27",
                    "AverageAmount": "497.501857"
                },
                {
                    "Month": "4",
                    "Year": "2020",
                    "ActionTaken": "discard",
                    "MinAmount": "120.27",
                    "AverageAmount": "497.501857"
                },
                {
                    "Month": "4",
                    "Year": "2020",
                    "ActionTaken": "discard",
                    "MinAmount": "120.27",
                    "AverageAmount": "497.501857"
                },
                {
                    "Month": "4",
                    "Year": "2020",
                    "ActionTaken": "gift",
                    "MinAmount": "121.91",
                    "AverageAmount": "503.513404"
                },
                {
                    "Month": "4",
                    "Year": "2020",
                    "ActionTaken": "gift",
                    "MinAmount": "121.91",
                    "AverageAmount": "503.513404"
                },
                {
                    "Month": "4",
                    "Year": "2020",
                    "ActionTaken": "gift",
                    "MinAmount": "121.91",
                    "AverageAmount": "503.513404"
                },
                {
                    "Month": "4",
                    "Year": "2020",
                    "ActionTaken": "gift",
                    "MinAmount": "121.91",
                    "AverageAmount": "503.513404"
                },
                {
                    "Month": "4",
                    "Year": "2020",
                    "ActionTaken": "gift",
                    "MinAmount": "121.91",
                    "AverageAmount": "503.513404"
                },
                {
                    "Month": "4",
                    "Year": "2020",
                    "ActionTaken": "gift",
                    "MinAmount": "121.91",
                    "AverageAmount": "503.513404"
                },
                {
                    "Month": "4",
                    "Year": "2020",
                    "ActionTaken": "gift",
                    "MinAmount": "121.91",
                    "AverageAmount": "503.513404"
                },
                {
                    "Month": "4",
                    "Year": "2020",
                    "ActionTaken": "gift",
                    "MinAmount": "121.91",
                    "AverageAmount": "503.513404"
                },
                {
                    "Month": "4",
                    "Year": "2020",
                    "ActionTaken": "gift",
                    "MinAmount": "121.91",
                    "AverageAmount": "503.513404"
                },
                {
                    "Month": "4",
                    "Year": "2020",
                    "ActionTaken": "personal use",
                    "MinAmount": "128.79",
                    "AverageAmount": "528.282011"
                },
                {
                    "Month": "4",
                    "Year": "2020",
                    "ActionTaken": "personal use",
                    "MinAmount": "128.79",
                    "AverageAmount": "528.282011"
                },
                {
                    "Month": "4",
                    "Year": "2020",
                    "ActionTaken": "personal use",
                    "MinAmount": "128.79",
                    "AverageAmount": "528.282011"
                },
                {
                    "Month": "5",
                    "Year": "2020",
                    "ActionTaken": "charity",
                    "MinAmount": "122.53",
                    "AverageAmount": "515.230324"
                },
                {
                    "Month": "5",
                    "Year": "2020",
                    "ActionTaken": "charity",
                    "MinAmount": "122.53",
                    "AverageAmount": "515.230324"
                },
                {
                    "Month": "5",
                    "Year": "2020",
                    "ActionTaken": "charity",
                    "MinAmount": "122.53",
                    "AverageAmount": "515.230324"
                },
                {
                    "Month": "5",
                    "Year": "2020",
                    "ActionTaken": "charity",
                    "MinAmount": "122.53",
                    "AverageAmount": "515.230324"
                },
                {
                    "Month": "5",
                    "Year": "2020",
                    "ActionTaken": "charity",
                    "MinAmount": "122.53",
                    "AverageAmount": "515.230324"
                },
                {
                    "Month": "5",
                    "Year": "2020",
                    "ActionTaken": "charity",
                    "MinAmount": "122.53",
                    "AverageAmount": "515.230324"
                },
                {
                    "Month": "5",
                    "Year": "2020",
                    "ActionTaken": "charity",
                    "MinAmount": "122.53",
                    "AverageAmount": "515.230324"
                },
                {
                    "Month": "5",
                    "Year": "2020",
                    "ActionTaken": "charity",
                    "MinAmount": "122.53",
                    "AverageAmount": "515.230324"
                },
                {
                    "Month": "5",
                    "Year": "2020",
                    "ActionTaken": "charity",
                    "MinAmount": "122.53",
                    "AverageAmount": "515.230324"
                },
                {
                    "Month": "5",
                    "Year": "2020",
                    "ActionTaken": "charity",
                    "MinAmount": "122.53",
                    "AverageAmount": "515.230324"
                },
                {
                    "Month": "5",
                    "Year": "2020",
                    "ActionTaken": "charity",
                    "MinAmount": "122.53",
                    "AverageAmount": "515.230324"
                },
                {
                    "Month": "5",
                    "Year": "2020",
                    "ActionTaken": "discard",
                    "MinAmount": "120.27",
                    "AverageAmount": "497.501857"
                },
                {
                    "Month": "5",
                    "Year": "2020",
                    "ActionTaken": "discard",
                    "MinAmount": "120.27",
                    "AverageAmount": "497.501857"
                },
                {
                    "Month": "5",
                    "Year": "2020",
                    "ActionTaken": "discard",
                    "MinAmount": "120.27",
                    "AverageAmount": "497.501857"
                },
                {
                    "Month": "5",
                    "Year": "2020",
                    "ActionTaken": "discard",
                    "MinAmount": "120.27",
                    "AverageAmount": "497.501857"
                },
                {
                    "Month": "5",
                    "Year": "2020",
                    "ActionTaken": "discard",
                    "MinAmount": "120.27",
                    "AverageAmount": "497.501857"
                },
                {
                    "Month": "5",
                    "Year": "2020",
                    "ActionTaken": "discard",
                    "MinAmount": "120.27",
                    "AverageAmount": "497.501857"
                },
                {
                    "Month": "5",
                    "Year": "2020",
                    "ActionTaken": "discard",
                    "MinAmount": "120.27",
                    "AverageAmount": "497.501857"
                },
                {
                    "Month": "5",
                    "Year": "2020",
                    "ActionTaken": "discard",
                    "MinAmount": "120.27",
                    "AverageAmount": "497.501857"
                },
                {
                    "Month": "5",
                    "Year": "2020",
                    "ActionTaken": "discard",
                    "MinAmount": "120.27",
                    "AverageAmount": "497.501857"
                },
                {
                    "Month": "5",
                    "Year": "2020",
                    "ActionTaken": "discard",
                    "MinAmount": "120.27",
                    "AverageAmount": "497.501857"
                },
                {
                    "Month": "5",
                    "Year": "2020",
                    "ActionTaken": "discard",
                    "MinAmount": "120.27",
                    "AverageAmount": "497.501857"
                },
                {
                    "Month": "5",
                    "Year": "2020",
                    "ActionTaken": "discard",
                    "MinAmount": "120.27",
                    "AverageAmount": "497.501857"
                },
                {
                    "Month": "5",
                    "Year": "2020",
                    "ActionTaken": "discard",
                    "MinAmount": "120.27",
                    "AverageAmount": "497.501857"
                },
                {
                    "Month": "5",
                    "Year": "2020",
                    "ActionTaken": "gift",
                    "MinAmount": "121.91",
                    "AverageAmount": "503.513404"
                },
                {
                    "Month": "5",
                    "Year": "2020",
                    "ActionTaken": "personal use",
                    "MinAmount": "128.79",
                    "AverageAmount": "528.282011"
                },
                {
                    "Month": "5",
                    "Year": "2020",
                    "ActionTaken": "personal use",
                    "MinAmount": "128.79",
                    "AverageAmount": "528.282011"
                },
                {
                    "Month": "5",
                    "Year": "2020",
                    "ActionTaken": "personal use",
                    "MinAmount": "128.79",
                    "AverageAmount": "528.282011"
                },
                {
                    "Month": "5",
                    "Year": "2020",
                    "ActionTaken": "personal use",
                    "MinAmount": "128.79",
                    "AverageAmount": "528.282011"
                },
                {
                    "Month": "5",
                    "Year": "2020",
                    "ActionTaken": "personal use",
                    "MinAmount": "128.79",
                    "AverageAmount": "528.282011"
                },
                {
                    "Month": "5",
                    "Year": "2020",
                    "ActionTaken": "personal use",
                    "MinAmount": "128.79",
                    "AverageAmount": "528.282011"
                },
                {
                    "Month": "6",
                    "Year": "2020",
                    "ActionTaken": "charity",
                    "MinAmount": "122.53",
                    "AverageAmount": "515.230324"
                },
                {
                    "Month": "6",
                    "Year": "2020",
                    "ActionTaken": "charity",
                    "MinAmount": "122.53",
                    "AverageAmount": "515.230324"
                },
                {
                    "Month": "6",
                    "Year": "2020",
                    "ActionTaken": "charity",
                    "MinAmount": "122.53",
                    "AverageAmount": "515.230324"
                },
                {
                    "Month": "6",
                    "Year": "2020",
                    "ActionTaken": "charity",
                    "MinAmount": "122.53",
                    "AverageAmount": "515.230324"
                },
                {
                    "Month": "6",
                    "Year": "2020",
                    "ActionTaken": "charity",
                    "MinAmount": "122.53",
                    "AverageAmount": "515.230324"
                },
                {
                    "Month": "6",
                    "Year": "2020",
                    "ActionTaken": "charity",
                    "MinAmount": "122.53",
                    "AverageAmount": "515.230324"
                },
                {
                    "Month": "6",
                    "Year": "2020",
                    "ActionTaken": "charity",
                    "MinAmount": "122.53",
                    "AverageAmount": "515.230324"
                },
                {
                    "Month": "6",
                    "Year": "2020",
                    "ActionTaken": "charity",
                    "MinAmount": "122.53",
                    "AverageAmount": "515.230324"
                },
                {
                    "Month": "6",
                    "Year": "2020",
                    "ActionTaken": "charity",
                    "MinAmount": "122.53",
                    "AverageAmount": "515.230324"
                },
                {
                    "Month": "6",
                    "Year": "2020",
                    "ActionTaken": "charity",
                    "MinAmount": "122.53",
                    "AverageAmount": "515.230324"
                },
                {
                    "Month": "6",
                    "Year": "2020",
                    "ActionTaken": "discard",
                    "MinAmount": "120.27",
                    "AverageAmount": "497.501857"
                },
                {
                    "Month": "6",
                    "Year": "2020",
                    "ActionTaken": "discard",
                    "MinAmount": "120.27",
                    "AverageAmount": "497.501857"
                },
                {
                    "Month": "6",
                    "Year": "2020",
                    "ActionTaken": "discard",
                    "MinAmount": "120.27",
                    "AverageAmount": "497.501857"
                },
                {
                    "Month": "6",
                    "Year": "2020",
                    "ActionTaken": "discard",
                    "MinAmount": "120.27",
                    "AverageAmount": "497.501857"
                },
                {
                    "Month": "6",
                    "Year": "2020",
                    "ActionTaken": "discard",
                    "MinAmount": "120.27",
                    "AverageAmount": "497.501857"
                },
                {
                    "Month": "6",
                    "Year": "2020",
                    "ActionTaken": "discard",
                    "MinAmount": "120.27",
                    "AverageAmount": "497.501857"
                },
                {
                    "Month": "6",
                    "Year": "2020",
                    "ActionTaken": "discard",
                    "MinAmount": "120.27",
                    "AverageAmount": "497.501857"
                },
                {
                    "Month": "6",
                    "Year": "2020",
                    "ActionTaken": "gift",
                    "MinAmount": "121.91",
                    "AverageAmount": "503.513404"
                },
                {
                    "Month": "6",
                    "Year": "2020",
                    "ActionTaken": "gift",
                    "MinAmount": "121.91",
                    "AverageAmount": "503.513404"
                },
                {
                    "Month": "6",
                    "Year": "2020",
                    "ActionTaken": "gift",
                    "MinAmount": "121.91",
                    "AverageAmount": "503.513404"
                },
                {
                    "Month": "6",
                    "Year": "2020",
                    "ActionTaken": "gift",
                    "MinAmount": "121.91",
                    "AverageAmount": "503.513404"
                },
                {
                    "Month": "6",
                    "Year": "2020",
                    "ActionTaken": "gift",
                    "MinAmount": "121.91",
                    "AverageAmount": "503.513404"
                },
                {
                    "Month": "6",
                    "Year": "2020",
                    "ActionTaken": "gift",
                    "MinAmount": "121.91",
                    "AverageAmount": "503.513404"
                },
                {
                    "Month": "6",
                    "Year": "2020",
                    "ActionTaken": "gift",
                    "MinAmount": "121.91",
                    "AverageAmount": "503.513404"
                },
                {
                    "Month": "6",
                    "Year": "2020",
                    "ActionTaken": "gift",
                    "MinAmount": "121.91",
                    "AverageAmount": "503.513404"
                },
                {
                    "Month": "6",
                    "Year": "2020",
                    "ActionTaken": "gift",
                    "MinAmount": "121.91",
                    "AverageAmount": "503.513404"
                },
                {
                    "Month": "6",
                    "Year": "2020",
                    "ActionTaken": "personal use",
                    "MinAmount": "128.79",
                    "AverageAmount": "528.282011"
                },
                {
                    "Month": "6",
                    "Year": "2020",
                    "ActionTaken": "personal use",
                    "MinAmount": "128.79",
                    "AverageAmount": "528.282011"
                },
                {
                    "Month": "6",
                    "Year": "2020",
                    "ActionTaken": "personal use",
                    "MinAmount": "128.79",
                    "AverageAmount": "528.282011"
                },
                {
                    "Month": "6",
                    "Year": "2020",
                    "ActionTaken": "personal use",
                    "MinAmount": "128.79",
                    "AverageAmount": "528.282011"
                },
                {
                    "Month": "7",
                    "Year": "2020",
                    "ActionTaken": "charity",
                    "MinAmount": "122.53",
                    "AverageAmount": "515.230324"
                },
                {
                    "Month": "7",
                    "Year": "2020",
                    "ActionTaken": "charity",
                    "MinAmount": "122.53",
                    "AverageAmount": "515.230324"
                },
                {
                    "Month": "7",
                    "Year": "2020",
                    "ActionTaken": "charity",
                    "MinAmount": "122.53",
                    "AverageAmount": "515.230324"
                },
                {
                    "Month": "7",
                    "Year": "2020",
                    "ActionTaken": "charity",
                    "MinAmount": "122.53",
                    "AverageAmount": "515.230324"
                },
                {
                    "Month": "7",
                    "Year": "2020",
                    "ActionTaken": "charity",
                    "MinAmount": "122.53",
                    "AverageAmount": "515.230324"
                },
                {
                    "Month": "7",
                    "Year": "2020",
                    "ActionTaken": "charity",
                    "MinAmount": "122.53",
                    "AverageAmount": "515.230324"
                },
                {
                    "Month": "7",
                    "Year": "2020",
                    "ActionTaken": "charity",
                    "MinAmount": "122.53",
                    "AverageAmount": "515.230324"
                },
                {
                    "Month": "7",
                    "Year": "2020",
                    "ActionTaken": "discard",
                    "MinAmount": "120.27",
                    "AverageAmount": "497.501857"
                },
                {
                    "Month": "7",
                    "Year": "2020",
                    "ActionTaken": "discard",
                    "MinAmount": "120.27",
                    "AverageAmount": "497.501857"
                },
                {
                    "Month": "7",
                    "Year": "2020",
                    "ActionTaken": "discard",
                    "MinAmount": "120.27",
                    "AverageAmount": "497.501857"
                },
                {
                    "Month": "7",
                    "Year": "2020",
                    "ActionTaken": "discard",
                    "MinAmount": "120.27",
                    "AverageAmount": "497.501857"
                },
                {
                    "Month": "7",
                    "Year": "2020",
                    "ActionTaken": "discard",
                    "MinAmount": "120.27",
                    "AverageAmount": "497.501857"
                },
                {
                    "Month": "7",
                    "Year": "2020",
                    "ActionTaken": "discard",
                    "MinAmount": "120.27",
                    "AverageAmount": "497.501857"
                },
                {
                    "Month": "7",
                    "Year": "2020",
                    "ActionTaken": "discard",
                    "MinAmount": "120.27",
                    "AverageAmount": "497.501857"
                },
                {
                    "Month": "7",
                    "Year": "2020",
                    "ActionTaken": "discard",
                    "MinAmount": "120.27",
                    "AverageAmount": "497.501857"
                },
                {
                    "Month": "7",
                    "Year": "2020",
                    "ActionTaken": "discard",
                    "MinAmount": "120.27",
                    "AverageAmount": "497.501857"
                },
                {
                    "Month": "7",
                    "Year": "2020",
                    "ActionTaken": "discard",
                    "MinAmount": "120.27",
                    "AverageAmount": "497.501857"
                },
                {
                    "Month": "7",
                    "Year": "2020",
                    "ActionTaken": "discard",
                    "MinAmount": "120.27",
                    "AverageAmount": "497.501857"
                },
                {
                    "Month": "7",
                    "Year": "2020",
                    "ActionTaken": "gift",
                    "MinAmount": "121.91",
                    "AverageAmount": "503.513404"
                },
                {
                    "Month": "7",
                    "Year": "2020",
                    "ActionTaken": "gift",
                    "MinAmount": "121.91",
                    "AverageAmount": "503.513404"
                },
                {
                    "Month": "7",
                    "Year": "2020",
                    "ActionTaken": "gift",
                    "MinAmount": "121.91",
                    "AverageAmount": "503.513404"
                },
                {
                    "Month": "7",
                    "Year": "2020",
                    "ActionTaken": "personal use",
                    "MinAmount": "128.79",
                    "AverageAmount": "528.282011"
                },
                {
                    "Month": "7",
                    "Year": "2020",
                    "ActionTaken": "personal use",
                    "MinAmount": "128.79",
                    "AverageAmount": "528.282011"
                },
                {
                    "Month": "7",
                    "Year": "2020",
                    "ActionTaken": "personal use",
                    "MinAmount": "128.79",
                    "AverageAmount": "528.282011"
                },
                {
                    "Month": "7",
                    "Year": "2020",
                    "ActionTaken": "personal use",
                    "MinAmount": "128.79",
                    "AverageAmount": "528.282011"
                },
                {
                    "Month": "7",
                    "Year": "2020",
                    "ActionTaken": "personal use",
                    "MinAmount": "128.79",
                    "AverageAmount": "528.282011"
                },
                {
                    "Month": "7",
                    "Year": "2020",
                    "ActionTaken": "personal use",
                    "MinAmount": "128.79",
                    "AverageAmount": "528.282011"
                },
                {
                    "Month": "7",
                    "Year": "2020",
                    "ActionTaken": "personal use",
                    "MinAmount": "128.79",
                    "AverageAmount": "528.282011"
                },
                {
                    "Month": "7",
                    "Year": "2020",
                    "ActionTaken": "personal use",
                    "MinAmount": "128.79",
                    "AverageAmount": "528.282011"
                },
                {
                    "Month": "7",
                    "Year": "2020",
                    "ActionTaken": "personal use",
                    "MinAmount": "128.79",
                    "AverageAmount": "528.282011"
                },
                {
                    "Month": "7",
                    "Year": "2020",
                    "ActionTaken": "personal use",
                    "MinAmount": "128.79",
                    "AverageAmount": "528.282011"
                },
                {
                    "Month": "8",
                    "Year": "2020",
                    "ActionTaken": "charity",
                    "MinAmount": "122.53",
                    "AverageAmount": "515.230324"
                },
                {
                    "Month": "8",
                    "Year": "2020",
                    "ActionTaken": "charity",
                    "MinAmount": "122.53",
                    "AverageAmount": "515.230324"
                },
                {
                    "Month": "8",
                    "Year": "2020",
                    "ActionTaken": "charity",
                    "MinAmount": "122.53",
                    "AverageAmount": "515.230324"
                },
                {
                    "Month": "8",
                    "Year": "2020",
                    "ActionTaken": "discard",
                    "MinAmount": "120.27",
                    "AverageAmount": "497.501857"
                },
                {
                    "Month": "8",
                    "Year": "2020",
                    "ActionTaken": "discard",
                    "MinAmount": "120.27",
                    "AverageAmount": "497.501857"
                },
                {
                    "Month": "8",
                    "Year": "2020",
                    "ActionTaken": "discard",
                    "MinAmount": "120.27",
                    "AverageAmount": "497.501857"
                },
                {
                    "Month": "8",
                    "Year": "2020",
                    "ActionTaken": "discard",
                    "MinAmount": "120.27",
                    "AverageAmount": "497.501857"
                },
                {
                    "Month": "8",
                    "Year": "2020",
                    "ActionTaken": "discard",
                    "MinAmount": "120.27",
                    "AverageAmount": "497.501857"
                },
                {
                    "Month": "8",
                    "Year": "2020",
                    "ActionTaken": "discard",
                    "MinAmount": "120.27",
                    "AverageAmount": "497.501857"
                },
                {
                    "Month": "8",
                    "Year": "2020",
                    "ActionTaken": "gift",
                    "MinAmount": "121.91",
                    "AverageAmount": "503.513404"
                },
                {
                    "Month": "8",
                    "Year": "2020",
                    "ActionTaken": "gift",
                    "MinAmount": "121.91",
                    "AverageAmount": "503.513404"
                },
                {
                    "Month": "8",
                    "Year": "2020",
                    "ActionTaken": "gift",
                    "MinAmount": "121.91",
                    "AverageAmount": "503.513404"
                },
                {
                    "Month": "8",
                    "Year": "2020",
                    "ActionTaken": "gift",
                    "MinAmount": "121.91",
                    "AverageAmount": "503.513404"
                },
                {
                    "Month": "8",
                    "Year": "2020",
                    "ActionTaken": "gift",
                    "MinAmount": "121.91",
                    "AverageAmount": "503.513404"
                },
                {
                    "Month": "8",
                    "Year": "2020",
                    "ActionTaken": "gift",
                    "MinAmount": "121.91",
                    "AverageAmount": "503.513404"
                },
                {
                    "Month": "8",
                    "Year": "2020",
                    "ActionTaken": "gift",
                    "MinAmount": "121.91",
                    "AverageAmount": "503.513404"
                },
                {
                    "Month": "8",
                    "Year": "2020",
                    "ActionTaken": "gift",
                    "MinAmount": "121.91",
                    "AverageAmount": "503.513404"
                },
                {
                    "Month": "8",
                    "Year": "2020",
                    "ActionTaken": "gift",
                    "MinAmount": "121.91",
                    "AverageAmount": "503.513404"
                },
                {
                    "Month": "8",
                    "Year": "2020",
                    "ActionTaken": "gift",
                    "MinAmount": "121.91",
                    "AverageAmount": "503.513404"
                },
                {
                    "Month": "8",
                    "Year": "2020",
                    "ActionTaken": "gift",
                    "MinAmount": "121.91",
                    "AverageAmount": "503.513404"
                },
                {
                    "Month": "8",
                    "Year": "2020",
                    "ActionTaken": "personal use",
                    "MinAmount": "128.79",
                    "AverageAmount": "528.282011"
                },
                {
                    "Month": "8",
                    "Year": "2020",
                    "ActionTaken": "personal use",
                    "MinAmount": "128.79",
                    "AverageAmount": "528.282011"
                },
                {
                    "Month": "8",
                    "Year": "2020",
                    "ActionTaken": "personal use",
                    "MinAmount": "128.79",
                    "AverageAmount": "528.282011"
                },
                {
                    "Month": "8",
                    "Year": "2020",
                    "ActionTaken": "personal use",
                    "MinAmount": "128.79",
                    "AverageAmount": "528.282011"
                },
                {
                    "Month": "8",
                    "Year": "2020",
                    "ActionTaken": "personal use",
                    "MinAmount": "128.79",
                    "AverageAmount": "528.282011"
                },
                {
                    "Month": "8",
                    "Year": "2020",
                    "ActionTaken": "personal use",
                    "MinAmount": "128.79",
                    "AverageAmount": "528.282011"
                },
                {
                    "Month": "8",
                    "Year": "2020",
                    "ActionTaken": "personal use",
                    "MinAmount": "128.79",
                    "AverageAmount": "528.282011"
                },
                {
                    "Month": "8",
                    "Year": "2020",
                    "ActionTaken": "personal use",
                    "MinAmount": "128.79",
                    "AverageAmount": "528.282011"
                },
                {
                    "Month": "8",
                    "Year": "2020",
                    "ActionTaken": "personal use",
                    "MinAmount": "128.79",
                    "AverageAmount": "528.282011"
                },
                {
                    "Month": "8",
                    "Year": "2020",
                    "ActionTaken": "personal use",
                    "MinAmount": "128.79",
                    "AverageAmount": "528.282011"
                },
                {
                    "Month": "8",
                    "Year": "2020",
                    "ActionTaken": "personal use",
                    "MinAmount": "128.79",
                    "AverageAmount": "528.282011"
                },
                {
                    "Month": "9",
                    "Year": "2020",
                    "ActionTaken": "charity",
                    "MinAmount": "122.53",
                    "AverageAmount": "515.230324"
                },
                {
                    "Month": "9",
                    "Year": "2020",
                    "ActionTaken": "charity",
                    "MinAmount": "122.53",
                    "AverageAmount": "515.230324"
                },
                {
                    "Month": "9",
                    "Year": "2020",
                    "ActionTaken": "charity",
                    "MinAmount": "122.53",
                    "AverageAmount": "515.230324"
                },
                {
                    "Month": "9",
                    "Year": "2020",
                    "ActionTaken": "charity",
                    "MinAmount": "122.53",
                    "AverageAmount": "515.230324"
                },
                {
                    "Month": "9",
                    "Year": "2020",
                    "ActionTaken": "charity",
                    "MinAmount": "122.53",
                    "AverageAmount": "515.230324"
                },
                {
                    "Month": "9",
                    "Year": "2020",
                    "ActionTaken": "charity",
                    "MinAmount": "122.53",
                    "AverageAmount": "515.230324"
                },
                {
                    "Month": "9",
                    "Year": "2020",
                    "ActionTaken": "charity",
                    "MinAmount": "122.53",
                    "AverageAmount": "515.230324"
                },
                {
                    "Month": "9",
                    "Year": "2020",
                    "ActionTaken": "discard",
                    "MinAmount": "120.27",
                    "AverageAmount": "497.501857"
                },
                {
                    "Month": "9",
                    "Year": "2020",
                    "ActionTaken": "discard",
                    "MinAmount": "120.27",
                    "AverageAmount": "497.501857"
                },
                {
                    "Month": "9",
                    "Year": "2020",
                    "ActionTaken": "discard",
                    "MinAmount": "120.27",
                    "AverageAmount": "497.501857"
                },
                {
                    "Month": "9",
                    "Year": "2020",
                    "ActionTaken": "discard",
                    "MinAmount": "120.27",
                    "AverageAmount": "497.501857"
                },
                {
                    "Month": "9",
                    "Year": "2020",
                    "ActionTaken": "discard",
                    "MinAmount": "120.27",
                    "AverageAmount": "497.501857"
                },
                {
                    "Month": "9",
                    "Year": "2020",
                    "ActionTaken": "discard",
                    "MinAmount": "120.27",
                    "AverageAmount": "497.501857"
                },
                {
                    "Month": "9",
                    "Year": "2020",
                    "ActionTaken": "discard",
                    "MinAmount": "120.27",
                    "AverageAmount": "497.501857"
                },
                {
                    "Month": "9",
                    "Year": "2020",
                    "ActionTaken": "gift",
                    "MinAmount": "121.91",
                    "AverageAmount": "503.513404"
                },
                {
                    "Month": "9",
                    "Year": "2020",
                    "ActionTaken": "gift",
                    "MinAmount": "121.91",
                    "AverageAmount": "503.513404"
                },
                {
                    "Month": "9",
                    "Year": "2020",
                    "ActionTaken": "gift",
                    "MinAmount": "121.91",
                    "AverageAmount": "503.513404"
                },
                {
                    "Month": "9",
                    "Year": "2020",
                    "ActionTaken": "gift",
                    "MinAmount": "121.91",
                    "AverageAmount": "503.513404"
                },
                {
                    "Month": "9",
                    "Year": "2020",
                    "ActionTaken": "gift",
                    "MinAmount": "121.91",
                    "AverageAmount": "503.513404"
                },
                {
                    "Month": "9",
                    "Year": "2020",
                    "ActionTaken": "gift",
                    "MinAmount": "121.91",
                    "AverageAmount": "503.513404"
                },
                {
                    "Month": "9",
                    "Year": "2020",
                    "ActionTaken": "gift",
                    "MinAmount": "121.91",
                    "AverageAmount": "503.513404"
                },
                {
                    "Month": "9",
                    "Year": "2020",
                    "ActionTaken": "gift",
                    "MinAmount": "121.91",
                    "AverageAmount": "503.513404"
                },
                {
                    "Month": "9",
                    "Year": "2020",
                    "ActionTaken": "personal use",
                    "MinAmount": "128.79",
                    "AverageAmount": "528.282011"
                },
                {
                    "Month": "9",
                    "Year": "2020",
                    "ActionTaken": "personal use",
                    "MinAmount": "128.79",
                    "AverageAmount": "528.282011"
                },
                {
                    "Month": "9",
                    "Year": "2020",
                    "ActionTaken": "personal use",
                    "MinAmount": "128.79",
                    "AverageAmount": "528.282011"
                },
                {
                    "Month": "9",
                    "Year": "2020",
                    "ActionTaken": "personal use",
                    "MinAmount": "128.79",
                    "AverageAmount": "528.282011"
                },
                {
                    "Month": "9",
                    "Year": "2020",
                    "ActionTaken": "personal use",
                    "MinAmount": "128.79",
                    "AverageAmount": "528.282011"
                },
                {
                    "Month": "9",
                    "Year": "2020",
                    "ActionTaken": "personal use",
                    "MinAmount": "128.79",
                    "AverageAmount": "528.282011"
                },
                {
                    "Month": "9",
                    "Year": "2020",
                    "ActionTaken": "personal use",
                    "MinAmount": "128.79",
                    "AverageAmount": "528.282011"
                },
                {
                    "Month": "9",
                    "Year": "2020",
                    "ActionTaken": "personal use",
                    "MinAmount": "128.79",
                    "AverageAmount": "528.282011"
                },
                {
                    "Month": "10",
                    "Year": "2020",
                    "ActionTaken": "charity",
                    "MinAmount": "122.53",
                    "AverageAmount": "515.230324"
                },
                {
                    "Month": "10",
                    "Year": "2020",
                    "ActionTaken": "charity",
                    "MinAmount": "122.53",
                    "AverageAmount": "515.230324"
                },
                {
                    "Month": "10",
                    "Year": "2020",
                    "ActionTaken": "charity",
                    "MinAmount": "122.53",
                    "AverageAmount": "515.230324"
                },
                {
                    "Month": "10",
                    "Year": "2020",
                    "ActionTaken": "charity",
                    "MinAmount": "122.53",
                    "AverageAmount": "515.230324"
                },
                {
                    "Month": "10",
                    "Year": "2020",
                    "ActionTaken": "charity",
                    "MinAmount": "122.53",
                    "AverageAmount": "515.230324"
                },
                {
                    "Month": "10",
                    "Year": "2020",
                    "ActionTaken": "charity",
                    "MinAmount": "122.53",
                    "AverageAmount": "515.230324"
                },
                {
                    "Month": "10",
                    "Year": "2020",
                    "ActionTaken": "charity",
                    "MinAmount": "122.53",
                    "AverageAmount": "515.230324"
                },
                {
                    "Month": "10",
                    "Year": "2020",
                    "ActionTaken": "charity",
                    "MinAmount": "122.53",
                    "AverageAmount": "515.230324"
                },
                {
                    "Month": "10",
                    "Year": "2020",
                    "ActionTaken": "charity",
                    "MinAmount": "122.53",
                    "AverageAmount": "515.230324"
                },
                {
                    "Month": "10",
                    "Year": "2020",
                    "ActionTaken": "charity",
                    "MinAmount": "122.53",
                    "AverageAmount": "515.230324"
                },
                {
                    "Month": "10",
                    "Year": "2020",
                    "ActionTaken": "charity",
                    "MinAmount": "122.53",
                    "AverageAmount": "515.230324"
                },
                {
                    "Month": "10",
                    "Year": "2020",
                    "ActionTaken": "discard",
                    "MinAmount": "120.27",
                    "AverageAmount": "497.501857"
                },
                {
                    "Month": "10",
                    "Year": "2020",
                    "ActionTaken": "discard",
                    "MinAmount": "120.27",
                    "AverageAmount": "497.501857"
                },
                {
                    "Month": "10",
                    "Year": "2020",
                    "ActionTaken": "discard",
                    "MinAmount": "120.27",
                    "AverageAmount": "497.501857"
                },
                {
                    "Month": "10",
                    "Year": "2020",
                    "ActionTaken": "discard",
                    "MinAmount": "120.27",
                    "AverageAmount": "497.501857"
                },
                {
                    "Month": "10",
                    "Year": "2020",
                    "ActionTaken": "discard",
                    "MinAmount": "120.27",
                    "AverageAmount": "497.501857"
                },
                {
                    "Month": "10",
                    "Year": "2020",
                    "ActionTaken": "discard",
                    "MinAmount": "120.27",
                    "AverageAmount": "497.501857"
                },
                {
                    "Month": "10",
                    "Year": "2020",
                    "ActionTaken": "discard",
                    "MinAmount": "120.27",
                    "AverageAmount": "497.501857"
                },
                {
                    "Month": "10",
                    "Year": "2020",
                    "ActionTaken": "gift",
                    "MinAmount": "121.91",
                    "AverageAmount": "503.513404"
                },
                {
                    "Month": "10",
                    "Year": "2020",
                    "ActionTaken": "gift",
                    "MinAmount": "121.91",
                    "AverageAmount": "503.513404"
                },
                {
                    "Month": "10",
                    "Year": "2020",
                    "ActionTaken": "gift",
                    "MinAmount": "121.91",
                    "AverageAmount": "503.513404"
                },
                {
                    "Month": "10",
                    "Year": "2020",
                    "ActionTaken": "gift",
                    "MinAmount": "121.91",
                    "AverageAmount": "503.513404"
                },
                {
                    "Month": "10",
                    "Year": "2020",
                    "ActionTaken": "gift",
                    "MinAmount": "121.91",
                    "AverageAmount": "503.513404"
                },
                {
                    "Month": "10",
                    "Year": "2020",
                    "ActionTaken": "gift",
                    "MinAmount": "121.91",
                    "AverageAmount": "503.513404"
                },
                {
                    "Month": "10",
                    "Year": "2020",
                    "ActionTaken": "gift",
                    "MinAmount": "121.91",
                    "AverageAmount": "503.513404"
                },
                {
                    "Month": "10",
                    "Year": "2020",
                    "ActionTaken": "gift",
                    "MinAmount": "121.91",
                    "AverageAmount": "503.513404"
                },
                {
                    "Month": "10",
                    "Year": "2020",
                    "ActionTaken": "gift",
                    "MinAmount": "121.91",
                    "AverageAmount": "503.513404"
                },
                {
                    "Month": "10",
                    "Year": "2020",
                    "ActionTaken": "gift",
                    "MinAmount": "121.91",
                    "AverageAmount": "503.513404"
                },
                {
                    "Month": "10",
                    "Year": "2020",
                    "ActionTaken": "personal use",
                    "MinAmount": "128.79",
                    "AverageAmount": "528.282011"
                },
                {
                    "Month": "10",
                    "Year": "2020",
                    "ActionTaken": "personal use",
                    "MinAmount": "128.79",
                    "AverageAmount": "528.282011"
                },
                {
                    "Month": "10",
                    "Year": "2020",
                    "ActionTaken": "personal use",
                    "MinAmount": "128.79",
                    "AverageAmount": "528.282011"
                },
                {
                    "Month": "11",
                    "Year": "2020",
                    "ActionTaken": "charity",
                    "MinAmount": "122.53",
                    "AverageAmount": "515.230324"
                },
                {
                    "Month": "11",
                    "Year": "2020",
                    "ActionTaken": "charity",
                    "MinAmount": "122.53",
                    "AverageAmount": "515.230324"
                },
                {
                    "Month": "11",
                    "Year": "2020",
                    "ActionTaken": "charity",
                    "MinAmount": "122.53",
                    "AverageAmount": "515.230324"
                },
                {
                    "Month": "11",
                    "Year": "2020",
                    "ActionTaken": "charity",
                    "MinAmount": "122.53",
                    "AverageAmount": "515.230324"
                },
                {
                    "Month": "11",
                    "Year": "2020",
                    "ActionTaken": "charity",
                    "MinAmount": "122.53",
                    "AverageAmount": "515.230324"
                },
                {
                    "Month": "11",
                    "Year": "2020",
                    "ActionTaken": "charity",
                    "MinAmount": "122.53",
                    "AverageAmount": "515.230324"
                },
                {
                    "Month": "11",
                    "Year": "2020",
                    "ActionTaken": "charity",
                    "MinAmount": "122.53",
                    "AverageAmount": "515.230324"
                },
                {
                    "Month": "11",
                    "Year": "2020",
                    "ActionTaken": "discard",
                    "MinAmount": "120.27",
                    "AverageAmount": "497.501857"
                },
                {
                    "Month": "11",
                    "Year": "2020",
                    "ActionTaken": "discard",
                    "MinAmount": "120.27",
                    "AverageAmount": "497.501857"
                },
                {
                    "Month": "11",
                    "Year": "2020",
                    "ActionTaken": "discard",
                    "MinAmount": "120.27",
                    "AverageAmount": "497.501857"
                },
                {
                    "Month": "11",
                    "Year": "2020",
                    "ActionTaken": "discard",
                    "MinAmount": "120.27",
                    "AverageAmount": "497.501857"
                },
                {
                    "Month": "11",
                    "Year": "2020",
                    "ActionTaken": "discard",
                    "MinAmount": "120.27",
                    "AverageAmount": "497.501857"
                },
                {
                    "Month": "11",
                    "Year": "2020",
                    "ActionTaken": "gift",
                    "MinAmount": "121.91",
                    "AverageAmount": "503.513404"
                },
                {
                    "Month": "11",
                    "Year": "2020",
                    "ActionTaken": "gift",
                    "MinAmount": "121.91",
                    "AverageAmount": "503.513404"
                },
                {
                    "Month": "11",
                    "Year": "2020",
                    "ActionTaken": "gift",
                    "MinAmount": "121.91",
                    "AverageAmount": "503.513404"
                },
                {
                    "Month": "11",
                    "Year": "2020",
                    "ActionTaken": "gift",
                    "MinAmount": "121.91",
                    "AverageAmount": "503.513404"
                },
                {
                    "Month": "11",
                    "Year": "2020",
                    "ActionTaken": "gift",
                    "MinAmount": "121.91",
                    "AverageAmount": "503.513404"
                },
                {
                    "Month": "11",
                    "Year": "2020",
                    "ActionTaken": "gift",
                    "MinAmount": "121.91",
                    "AverageAmount": "503.513404"
                },
                {
                    "Month": "11",
                    "Year": "2020",
                    "ActionTaken": "gift",
                    "MinAmount": "121.91",
                    "AverageAmount": "503.513404"
                },
                {
                    "Month": "11",
                    "Year": "2020",
                    "ActionTaken": "gift",
                    "MinAmount": "121.91",
                    "AverageAmount": "503.513404"
                },
                {
                    "Month": "11",
                    "Year": "2020",
                    "ActionTaken": "personal use",
                    "MinAmount": "128.79",
                    "AverageAmount": "528.282011"
                },
                {
                    "Month": "11",
                    "Year": "2020",
                    "ActionTaken": "personal use",
                    "MinAmount": "128.79",
                    "AverageAmount": "528.282011"
                },
                {
                    "Month": "11",
                    "Year": "2020",
                    "ActionTaken": "personal use",
                    "MinAmount": "128.79",
                    "AverageAmount": "528.282011"
                },
                {
                    "Month": "11",
                    "Year": "2020",
                    "ActionTaken": "personal use",
                    "MinAmount": "128.79",
                    "AverageAmount": "528.282011"
                },
                {
                    "Month": "11",
                    "Year": "2020",
                    "ActionTaken": "personal use",
                    "MinAmount": "128.79",
                    "AverageAmount": "528.282011"
                },
                {
                    "Month": "11",
                    "Year": "2020",
                    "ActionTaken": "personal use",
                    "MinAmount": "128.79",
                    "AverageAmount": "528.282011"
                },
                {
                    "Month": "11",
                    "Year": "2020",
                    "ActionTaken": "personal use",
                    "MinAmount": "128.79",
                    "AverageAmount": "528.282011"
                },
                {
                    "Month": "11",
                    "Year": "2020",
                    "ActionTaken": "personal use",
                    "MinAmount": "128.79",
                    "AverageAmount": "528.282011"
                },
                {
                    "Month": "11",
                    "Year": "2020",
                    "ActionTaken": "personal use",
                    "MinAmount": "128.79",
                    "AverageAmount": "528.282011"
                },
                {
                    "Month": "11",
                    "Year": "2020",
                    "ActionTaken": "personal use",
                    "MinAmount": "128.79",
                    "AverageAmount": "528.282011"
                },
                {
                    "Month": "12",
                    "Year": "2020",
                    "ActionTaken": "charity",
                    "MinAmount": "122.53",
                    "AverageAmount": "515.230324"
                },
                {
                    "Month": "12",
                    "Year": "2020",
                    "ActionTaken": "charity",
                    "MinAmount": "122.53",
                    "AverageAmount": "515.230324"
                },
                {
                    "Month": "12",
                    "Year": "2020",
                    "ActionTaken": "charity",
                    "MinAmount": "122.53",
                    "AverageAmount": "515.230324"
                },
                {
                    "Month": "12",
                    "Year": "2020",
                    "ActionTaken": "charity",
                    "MinAmount": "122.53",
                    "AverageAmount": "515.230324"
                },
                {
                    "Month": "12",
                    "Year": "2020",
                    "ActionTaken": "charity",
                    "MinAmount": "122.53",
                    "AverageAmount": "515.230324"
                },
                {
                    "Month": "12",
                    "Year": "2020",
                    "ActionTaken": "discard",
                    "MinAmount": "120.27",
                    "AverageAmount": "497.501857"
                },
                {
                    "Month": "12",
                    "Year": "2020",
                    "ActionTaken": "discard",
                    "MinAmount": "120.27",
                    "AverageAmount": "497.501857"
                },
                {
                    "Month": "12",
                    "Year": "2020",
                    "ActionTaken": "discard",
                    "MinAmount": "120.27",
                    "AverageAmount": "497.501857"
                },
                {
                    "Month": "12",
                    "Year": "2020",
                    "ActionTaken": "discard",
                    "MinAmount": "120.27",
                    "AverageAmount": "497.501857"
                },
                {
                    "Month": "12",
                    "Year": "2020",
                    "ActionTaken": "discard",
                    "MinAmount": "120.27",
                    "AverageAmount": "497.501857"
                },
                {
                    "Month": "12",
                    "Year": "2020",
                    "ActionTaken": "discard",
                    "MinAmount": "120.27",
                    "AverageAmount": "497.501857"
                },
                {
                    "Month": "12",
                    "Year": "2020",
                    "ActionTaken": "discard",
                    "MinAmount": "120.27",
                    "AverageAmount": "497.501857"
                },
                {
                    "Month": "12",
                    "Year": "2020",
                    "ActionTaken": "discard",
                    "MinAmount": "120.27",
                    "AverageAmount": "497.501857"
                },
                {
                    "Month": "12",
                    "Year": "2020",
                    "ActionTaken": "discard",
                    "MinAmount": "120.27",
                    "AverageAmount": "497.501857"
                },
                {
                    "Month": "12",
                    "Year": "2020",
                    "ActionTaken": "discard",
                    "MinAmount": "120.27",
                    "AverageAmount": "497.501857"
                },
                {
                    "Month": "12",
                    "Year": "2020",
                    "ActionTaken": "discard",
                    "MinAmount": "120.27",
                    "AverageAmount": "497.501857"
                },
                {
                    "Month": "12",
                    "Year": "2020",
                    "ActionTaken": "discard",
                    "MinAmount": "120.27",
                    "AverageAmount": "497.501857"
                },
                {
                    "Month": "12",
                    "Year": "2020",
                    "ActionTaken": "discard",
                    "MinAmount": "120.27",
                    "AverageAmount": "497.501857"
                },
                {
                    "Month": "12",
                    "Year": "2020",
                    "ActionTaken": "discard",
                    "MinAmount": "120.27",
                    "AverageAmount": "497.501857"
                },
                {
                    "Month": "12",
                    "Year": "2020",
                    "ActionTaken": "gift",
                    "MinAmount": "121.91",
                    "AverageAmount": "503.513404"
                },
                {
                    "Month": "12",
                    "Year": "2020",
                    "ActionTaken": "gift",
                    "MinAmount": "121.91",
                    "AverageAmount": "503.513404"
                },
                {
                    "Month": "12",
                    "Year": "2020",
                    "ActionTaken": "gift",
                    "MinAmount": "121.91",
                    "AverageAmount": "503.513404"
                },
                {
                    "Month": "12",
                    "Year": "2020",
                    "ActionTaken": "gift",
                    "MinAmount": "121.91",
                    "AverageAmount": "503.513404"
                },
                {
                    "Month": "12",
                    "Year": "2020",
                    "ActionTaken": "gift",
                    "MinAmount": "121.91",
                    "AverageAmount": "503.513404"
                },
                {
                    "Month": "12",
                    "Year": "2020",
                    "ActionTaken": "gift",
                    "MinAmount": "121.91",
                    "AverageAmount": "503.513404"
                },
                {
                    "Month": "12",
                    "Year": "2020",
                    "ActionTaken": "gift",
                    "MinAmount": "121.91",
                    "AverageAmount": "503.513404"
                },
                {
                    "Month": "12",
                    "Year": "2020",
                    "ActionTaken": "gift",
                    "MinAmount": "121.91",
                    "AverageAmount": "503.513404"
                },
                {
                    "Month": "12",
                    "Year": "2020",
                    "ActionTaken": "gift",
                    "MinAmount": "121.91",
                    "AverageAmount": "503.513404"
                },
                {
                    "Month": "12",
                    "Year": "2020",
                    "ActionTaken": "personal use",
                    "MinAmount": "128.79",
                    "AverageAmount": "528.282011"
                },
                {
                    "Month": "12",
                    "Year": "2020",
                    "ActionTaken": "personal use",
                    "MinAmount": "128.79",
                    "AverageAmount": "528.282011"
                },
                {
                    "Month": "12",
                    "Year": "2020",
                    "ActionTaken": "personal use",
                    "MinAmount": "128.79",
                    "AverageAmount": "528.282011"
                },
                {
                    "Month": "1",
                    "Year": "2021",
                    "ActionTaken": "charity",
                    "MinAmount": "122.53",
                    "AverageAmount": "515.230324"
                },
                {
                    "Month": "1",
                    "Year": "2021",
                    "ActionTaken": "gift",
                    "MinAmount": "121.91",
                    "AverageAmount": "503.513404"
                },
                {
                    "Month": "1",
                    "Year": "2021",
                    "ActionTaken": "personal use",
                    "MinAmount": "128.79",
                    "AverageAmount": "528.282011"
                },
                {
                    "Month": "1",
                    "Year": "2021",
                    "ActionTaken": "personal use",
                    "MinAmount": "128.79",
                    "AverageAmount": "528.282011"
                }
            ]
        },
        "text/html": [
            "<table>",
            "<tr><th>Month</th><th>Year</th><th>ActionTaken</th><th>MinAmount</th><th>AverageAmount</th></tr>",
            "<tr><td>1</td><td>2019</td><td>charity</td><td>122.53</td><td>515.230324</td></tr>",
            "<tr><td>1</td><td>2019</td><td>charity</td><td>122.53</td><td>515.230324</td></tr>",
            "<tr><td>1</td><td>2019</td><td>charity</td><td>122.53</td><td>515.230324</td></tr>",
            "<tr><td>1</td><td>2019</td><td>charity</td><td>122.53</td><td>515.230324</td></tr>",
            "<tr><td>1</td><td>2019</td><td>charity</td><td>122.53</td><td>515.230324</td></tr>",
            "<tr><td>1</td><td>2019</td><td>charity</td><td>122.53</td><td>515.230324</td></tr>",
            "<tr><td>1</td><td>2019</td><td>charity</td><td>122.53</td><td>515.230324</td></tr>",
            "<tr><td>1</td><td>2019</td><td>charity</td><td>122.53</td><td>515.230324</td></tr>",
            "<tr><td>1</td><td>2019</td><td>discard</td><td>120.27</td><td>497.501857</td></tr>",
            "<tr><td>1</td><td>2019</td><td>discard</td><td>120.27</td><td>497.501857</td></tr>",
            "<tr><td>1</td><td>2019</td><td>discard</td><td>120.27</td><td>497.501857</td></tr>",
            "<tr><td>1</td><td>2019</td><td>gift</td><td>121.91</td><td>503.513404</td></tr>",
            "<tr><td>1</td><td>2019</td><td>gift</td><td>121.91</td><td>503.513404</td></tr>",
            "<tr><td>1</td><td>2019</td><td>gift</td><td>121.91</td><td>503.513404</td></tr>",
            "<tr><td>1</td><td>2019</td><td>gift</td><td>121.91</td><td>503.513404</td></tr>",
            "<tr><td>1</td><td>2019</td><td>gift</td><td>121.91</td><td>503.513404</td></tr>",
            "<tr><td>1</td><td>2019</td><td>gift</td><td>121.91</td><td>503.513404</td></tr>",
            "<tr><td>1</td><td>2019</td><td>personal use</td><td>128.79</td><td>528.282011</td></tr>",
            "<tr><td>1</td><td>2019</td><td>personal use</td><td>128.79</td><td>528.282011</td></tr>",
            "<tr><td>1</td><td>2019</td><td>personal use</td><td>128.79</td><td>528.282011</td></tr>",
            "<tr><td>1</td><td>2019</td><td>personal use</td><td>128.79</td><td>528.282011</td></tr>",
            "<tr><td>1</td><td>2019</td><td>personal use</td><td>128.79</td><td>528.282011</td></tr>",
            "<tr><td>1</td><td>2019</td><td>personal use</td><td>128.79</td><td>528.282011</td></tr>",
            "<tr><td>1</td><td>2019</td><td>personal use</td><td>128.79</td><td>528.282011</td></tr>",
            "<tr><td>1</td><td>2019</td><td>personal use</td><td>128.79</td><td>528.282011</td></tr>",
            "<tr><td>1</td><td>2019</td><td>personal use</td><td>128.79</td><td>528.282011</td></tr>",
            "<tr><td>2</td><td>2019</td><td>charity</td><td>122.53</td><td>515.230324</td></tr>",
            "<tr><td>2</td><td>2019</td><td>charity</td><td>122.53</td><td>515.230324</td></tr>",
            "<tr><td>2</td><td>2019</td><td>charity</td><td>122.53</td><td>515.230324</td></tr>",
            "<tr><td>2</td><td>2019</td><td>charity</td><td>122.53</td><td>515.230324</td></tr>",
            "<tr><td>2</td><td>2019</td><td>charity</td><td>122.53</td><td>515.230324</td></tr>",
            "<tr><td>2</td><td>2019</td><td>charity</td><td>122.53</td><td>515.230324</td></tr>",
            "<tr><td>2</td><td>2019</td><td>charity</td><td>122.53</td><td>515.230324</td></tr>",
            "<tr><td>2</td><td>2019</td><td>charity</td><td>122.53</td><td>515.230324</td></tr>",
            "<tr><td>2</td><td>2019</td><td>discard</td><td>120.27</td><td>497.501857</td></tr>",
            "<tr><td>2</td><td>2019</td><td>discard</td><td>120.27</td><td>497.501857</td></tr>",
            "<tr><td>2</td><td>2019</td><td>discard</td><td>120.27</td><td>497.501857</td></tr>",
            "<tr><td>2</td><td>2019</td><td>discard</td><td>120.27</td><td>497.501857</td></tr>",
            "<tr><td>2</td><td>2019</td><td>discard</td><td>120.27</td><td>497.501857</td></tr>",
            "<tr><td>2</td><td>2019</td><td>discard</td><td>120.27</td><td>497.501857</td></tr>",
            "<tr><td>2</td><td>2019</td><td>discard</td><td>120.27</td><td>497.501857</td></tr>",
            "<tr><td>2</td><td>2019</td><td>gift</td><td>121.91</td><td>503.513404</td></tr>",
            "<tr><td>2</td><td>2019</td><td>gift</td><td>121.91</td><td>503.513404</td></tr>",
            "<tr><td>2</td><td>2019</td><td>gift</td><td>121.91</td><td>503.513404</td></tr>",
            "<tr><td>2</td><td>2019</td><td>gift</td><td>121.91</td><td>503.513404</td></tr>",
            "<tr><td>2</td><td>2019</td><td>gift</td><td>121.91</td><td>503.513404</td></tr>",
            "<tr><td>2</td><td>2019</td><td>gift</td><td>121.91</td><td>503.513404</td></tr>",
            "<tr><td>2</td><td>2019</td><td>personal use</td><td>128.79</td><td>528.282011</td></tr>",
            "<tr><td>2</td><td>2019</td><td>personal use</td><td>128.79</td><td>528.282011</td></tr>",
            "<tr><td>2</td><td>2019</td><td>personal use</td><td>128.79</td><td>528.282011</td></tr>",
            "<tr><td>2</td><td>2019</td><td>personal use</td><td>128.79</td><td>528.282011</td></tr>",
            "<tr><td>2</td><td>2019</td><td>personal use</td><td>128.79</td><td>528.282011</td></tr>",
            "<tr><td>2</td><td>2019</td><td>personal use</td><td>128.79</td><td>528.282011</td></tr>",
            "<tr><td>2</td><td>2019</td><td>personal use</td><td>128.79</td><td>528.282011</td></tr>",
            "<tr><td>3</td><td>2019</td><td>charity</td><td>122.53</td><td>515.230324</td></tr>",
            "<tr><td>3</td><td>2019</td><td>charity</td><td>122.53</td><td>515.230324</td></tr>",
            "<tr><td>3</td><td>2019</td><td>charity</td><td>122.53</td><td>515.230324</td></tr>",
            "<tr><td>3</td><td>2019</td><td>charity</td><td>122.53</td><td>515.230324</td></tr>",
            "<tr><td>3</td><td>2019</td><td>discard</td><td>120.27</td><td>497.501857</td></tr>",
            "<tr><td>3</td><td>2019</td><td>discard</td><td>120.27</td><td>497.501857</td></tr>",
            "<tr><td>3</td><td>2019</td><td>discard</td><td>120.27</td><td>497.501857</td></tr>",
            "<tr><td>3</td><td>2019</td><td>discard</td><td>120.27</td><td>497.501857</td></tr>",
            "<tr><td>3</td><td>2019</td><td>discard</td><td>120.27</td><td>497.501857</td></tr>",
            "<tr><td>3</td><td>2019</td><td>discard</td><td>120.27</td><td>497.501857</td></tr>",
            "<tr><td>3</td><td>2019</td><td>discard</td><td>120.27</td><td>497.501857</td></tr>",
            "<tr><td>3</td><td>2019</td><td>discard</td><td>120.27</td><td>497.501857</td></tr>",
            "<tr><td>3</td><td>2019</td><td>discard</td><td>120.27</td><td>497.501857</td></tr>",
            "<tr><td>3</td><td>2019</td><td>gift</td><td>121.91</td><td>503.513404</td></tr>",
            "<tr><td>3</td><td>2019</td><td>gift</td><td>121.91</td><td>503.513404</td></tr>",
            "<tr><td>3</td><td>2019</td><td>gift</td><td>121.91</td><td>503.513404</td></tr>",
            "<tr><td>3</td><td>2019</td><td>gift</td><td>121.91</td><td>503.513404</td></tr>",
            "<tr><td>3</td><td>2019</td><td>gift</td><td>121.91</td><td>503.513404</td></tr>",
            "<tr><td>3</td><td>2019</td><td>gift</td><td>121.91</td><td>503.513404</td></tr>",
            "<tr><td>3</td><td>2019</td><td>gift</td><td>121.91</td><td>503.513404</td></tr>",
            "<tr><td>3</td><td>2019</td><td>personal use</td><td>128.79</td><td>528.282011</td></tr>",
            "<tr><td>3</td><td>2019</td><td>personal use</td><td>128.79</td><td>528.282011</td></tr>",
            "<tr><td>3</td><td>2019</td><td>personal use</td><td>128.79</td><td>528.282011</td></tr>",
            "<tr><td>3</td><td>2019</td><td>personal use</td><td>128.79</td><td>528.282011</td></tr>",
            "<tr><td>3</td><td>2019</td><td>personal use</td><td>128.79</td><td>528.282011</td></tr>",
            "<tr><td>3</td><td>2019</td><td>personal use</td><td>128.79</td><td>528.282011</td></tr>",
            "<tr><td>3</td><td>2019</td><td>personal use</td><td>128.79</td><td>528.282011</td></tr>",
            "<tr><td>3</td><td>2019</td><td>personal use</td><td>128.79</td><td>528.282011</td></tr>",
            "<tr><td>3</td><td>2019</td><td>personal use</td><td>128.79</td><td>528.282011</td></tr>",
            "<tr><td>3</td><td>2019</td><td>personal use</td><td>128.79</td><td>528.282011</td></tr>",
            "<tr><td>3</td><td>2019</td><td>personal use</td><td>128.79</td><td>528.282011</td></tr>",
            "<tr><td>4</td><td>2019</td><td>charity</td><td>122.53</td><td>515.230324</td></tr>",
            "<tr><td>4</td><td>2019</td><td>charity</td><td>122.53</td><td>515.230324</td></tr>",
            "<tr><td>4</td><td>2019</td><td>charity</td><td>122.53</td><td>515.230324</td></tr>",
            "<tr><td>4</td><td>2019</td><td>charity</td><td>122.53</td><td>515.230324</td></tr>",
            "<tr><td>4</td><td>2019</td><td>charity</td><td>122.53</td><td>515.230324</td></tr>",
            "<tr><td>4</td><td>2019</td><td>charity</td><td>122.53</td><td>515.230324</td></tr>",
            "<tr><td>4</td><td>2019</td><td>charity</td><td>122.53</td><td>515.230324</td></tr>",
            "<tr><td>4</td><td>2019</td><td>charity</td><td>122.53</td><td>515.230324</td></tr>",
            "<tr><td>4</td><td>2019</td><td>charity</td><td>122.53</td><td>515.230324</td></tr>",
            "<tr><td>4</td><td>2019</td><td>charity</td><td>122.53</td><td>515.230324</td></tr>",
            "<tr><td>4</td><td>2019</td><td>charity</td><td>122.53</td><td>515.230324</td></tr>",
            "<tr><td>4</td><td>2019</td><td>charity</td><td>122.53</td><td>515.230324</td></tr>",
            "<tr><td>4</td><td>2019</td><td>charity</td><td>122.53</td><td>515.230324</td></tr>",
            "<tr><td>4</td><td>2019</td><td>discard</td><td>120.27</td><td>497.501857</td></tr>",
            "<tr><td>4</td><td>2019</td><td>discard</td><td>120.27</td><td>497.501857</td></tr>",
            "<tr><td>4</td><td>2019</td><td>gift</td><td>121.91</td><td>503.513404</td></tr>",
            "<tr><td>4</td><td>2019</td><td>gift</td><td>121.91</td><td>503.513404</td></tr>",
            "<tr><td>4</td><td>2019</td><td>gift</td><td>121.91</td><td>503.513404</td></tr>",
            "<tr><td>4</td><td>2019</td><td>gift</td><td>121.91</td><td>503.513404</td></tr>",
            "<tr><td>4</td><td>2019</td><td>gift</td><td>121.91</td><td>503.513404</td></tr>",
            "<tr><td>4</td><td>2019</td><td>gift</td><td>121.91</td><td>503.513404</td></tr>",
            "<tr><td>4</td><td>2019</td><td>gift</td><td>121.91</td><td>503.513404</td></tr>",
            "<tr><td>4</td><td>2019</td><td>gift</td><td>121.91</td><td>503.513404</td></tr>",
            "<tr><td>4</td><td>2019</td><td>gift</td><td>121.91</td><td>503.513404</td></tr>",
            "<tr><td>4</td><td>2019</td><td>gift</td><td>121.91</td><td>503.513404</td></tr>",
            "<tr><td>4</td><td>2019</td><td>gift</td><td>121.91</td><td>503.513404</td></tr>",
            "<tr><td>4</td><td>2019</td><td>personal use</td><td>128.79</td><td>528.282011</td></tr>",
            "<tr><td>4</td><td>2019</td><td>personal use</td><td>128.79</td><td>528.282011</td></tr>",
            "<tr><td>4</td><td>2019</td><td>personal use</td><td>128.79</td><td>528.282011</td></tr>",
            "<tr><td>4</td><td>2019</td><td>personal use</td><td>128.79</td><td>528.282011</td></tr>",
            "<tr><td>5</td><td>2019</td><td>charity</td><td>122.53</td><td>515.230324</td></tr>",
            "<tr><td>5</td><td>2019</td><td>charity</td><td>122.53</td><td>515.230324</td></tr>",
            "<tr><td>5</td><td>2019</td><td>charity</td><td>122.53</td><td>515.230324</td></tr>",
            "<tr><td>5</td><td>2019</td><td>charity</td><td>122.53</td><td>515.230324</td></tr>",
            "<tr><td>5</td><td>2019</td><td>charity</td><td>122.53</td><td>515.230324</td></tr>",
            "<tr><td>5</td><td>2019</td><td>charity</td><td>122.53</td><td>515.230324</td></tr>",
            "<tr><td>5</td><td>2019</td><td>charity</td><td>122.53</td><td>515.230324</td></tr>",
            "<tr><td>5</td><td>2019</td><td>charity</td><td>122.53</td><td>515.230324</td></tr>",
            "<tr><td>5</td><td>2019</td><td>charity</td><td>122.53</td><td>515.230324</td></tr>",
            "<tr><td>5</td><td>2019</td><td>charity</td><td>122.53</td><td>515.230324</td></tr>",
            "<tr><td>5</td><td>2019</td><td>charity</td><td>122.53</td><td>515.230324</td></tr>",
            "<tr><td>5</td><td>2019</td><td>discard</td><td>120.27</td><td>497.501857</td></tr>",
            "<tr><td>5</td><td>2019</td><td>discard</td><td>120.27</td><td>497.501857</td></tr>",
            "<tr><td>5</td><td>2019</td><td>discard</td><td>120.27</td><td>497.501857</td></tr>",
            "<tr><td>5</td><td>2019</td><td>discard</td><td>120.27</td><td>497.501857</td></tr>",
            "<tr><td>5</td><td>2019</td><td>discard</td><td>120.27</td><td>497.501857</td></tr>",
            "<tr><td>5</td><td>2019</td><td>discard</td><td>120.27</td><td>497.501857</td></tr>",
            "<tr><td>5</td><td>2019</td><td>discard</td><td>120.27</td><td>497.501857</td></tr>",
            "<tr><td>5</td><td>2019</td><td>discard</td><td>120.27</td><td>497.501857</td></tr>",
            "<tr><td>5</td><td>2019</td><td>gift</td><td>121.91</td><td>503.513404</td></tr>",
            "<tr><td>5</td><td>2019</td><td>gift</td><td>121.91</td><td>503.513404</td></tr>",
            "<tr><td>5</td><td>2019</td><td>gift</td><td>121.91</td><td>503.513404</td></tr>",
            "<tr><td>5</td><td>2019</td><td>gift</td><td>121.91</td><td>503.513404</td></tr>",
            "<tr><td>5</td><td>2019</td><td>gift</td><td>121.91</td><td>503.513404</td></tr>",
            "<tr><td>5</td><td>2019</td><td>gift</td><td>121.91</td><td>503.513404</td></tr>",
            "<tr><td>5</td><td>2019</td><td>personal use</td><td>128.79</td><td>528.282011</td></tr>",
            "<tr><td>5</td><td>2019</td><td>personal use</td><td>128.79</td><td>528.282011</td></tr>",
            "<tr><td>5</td><td>2019</td><td>personal use</td><td>128.79</td><td>528.282011</td></tr>",
            "<tr><td>5</td><td>2019</td><td>personal use</td><td>128.79</td><td>528.282011</td></tr>",
            "<tr><td>5</td><td>2019</td><td>personal use</td><td>128.79</td><td>528.282011</td></tr>",
            "<tr><td>5</td><td>2019</td><td>personal use</td><td>128.79</td><td>528.282011</td></tr>",
            "<tr><td>5</td><td>2019</td><td>test</td><td>0.00</td><td>0.000000</td></tr>",
            "<tr><td>6</td><td>2019</td><td>charity</td><td>122.53</td><td>515.230324</td></tr>",
            "<tr><td>6</td><td>2019</td><td>charity</td><td>122.53</td><td>515.230324</td></tr>",
            "<tr><td>6</td><td>2019</td><td>charity</td><td>122.53</td><td>515.230324</td></tr>",
            "<tr><td>6</td><td>2019</td><td>charity</td><td>122.53</td><td>515.230324</td></tr>",
            "<tr><td>6</td><td>2019</td><td>charity</td><td>122.53</td><td>515.230324</td></tr>",
            "<tr><td>6</td><td>2019</td><td>discard</td><td>120.27</td><td>497.501857</td></tr>",
            "<tr><td>6</td><td>2019</td><td>discard</td><td>120.27</td><td>497.501857</td></tr>",
            "<tr><td>6</td><td>2019</td><td>discard</td><td>120.27</td><td>497.501857</td></tr>",
            "<tr><td>6</td><td>2019</td><td>discard</td><td>120.27</td><td>497.501857</td></tr>",
            "<tr><td>6</td><td>2019</td><td>discard</td><td>120.27</td><td>497.501857</td></tr>",
            "<tr><td>6</td><td>2019</td><td>discard</td><td>120.27</td><td>497.501857</td></tr>",
            "<tr><td>6</td><td>2019</td><td>discard</td><td>120.27</td><td>497.501857</td></tr>",
            "<tr><td>6</td><td>2019</td><td>discard</td><td>120.27</td><td>497.501857</td></tr>",
            "<tr><td>6</td><td>2019</td><td>discard</td><td>120.27</td><td>497.501857</td></tr>",
            "<tr><td>6</td><td>2019</td><td>gift</td><td>121.91</td><td>503.513404</td></tr>",
            "<tr><td>6</td><td>2019</td><td>gift</td><td>121.91</td><td>503.513404</td></tr>",
            "<tr><td>6</td><td>2019</td><td>gift</td><td>121.91</td><td>503.513404</td></tr>",
            "<tr><td>6</td><td>2019</td><td>gift</td><td>121.91</td><td>503.513404</td></tr>",
            "<tr><td>6</td><td>2019</td><td>gift</td><td>121.91</td><td>503.513404</td></tr>",
            "<tr><td>6</td><td>2019</td><td>gift</td><td>121.91</td><td>503.513404</td></tr>",
            "<tr><td>6</td><td>2019</td><td>gift</td><td>121.91</td><td>503.513404</td></tr>",
            "<tr><td>6</td><td>2019</td><td>gift</td><td>121.91</td><td>503.513404</td></tr>",
            "<tr><td>6</td><td>2019</td><td>gift</td><td>121.91</td><td>503.513404</td></tr>",
            "<tr><td>6</td><td>2019</td><td>gift</td><td>121.91</td><td>503.513404</td></tr>",
            "<tr><td>6</td><td>2019</td><td>gift</td><td>121.91</td><td>503.513404</td></tr>",
            "<tr><td>6</td><td>2019</td><td>gift</td><td>121.91</td><td>503.513404</td></tr>",
            "<tr><td>6</td><td>2019</td><td>personal use</td><td>128.79</td><td>528.282011</td></tr>",
            "<tr><td>6</td><td>2019</td><td>personal use</td><td>128.79</td><td>528.282011</td></tr>",
            "<tr><td>6</td><td>2019</td><td>personal use</td><td>128.79</td><td>528.282011</td></tr>",
            "<tr><td>6</td><td>2019</td><td>personal use</td><td>128.79</td><td>528.282011</td></tr>",
            "<tr><td>7</td><td>2019</td><td>charity</td><td>122.53</td><td>515.230324</td></tr>",
            "<tr><td>7</td><td>2019</td><td>charity</td><td>122.53</td><td>515.230324</td></tr>",
            "<tr><td>7</td><td>2019</td><td>charity</td><td>122.53</td><td>515.230324</td></tr>",
            "<tr><td>7</td><td>2019</td><td>charity</td><td>122.53</td><td>515.230324</td></tr>",
            "<tr><td>7</td><td>2019</td><td>charity</td><td>122.53</td><td>515.230324</td></tr>",
            "<tr><td>7</td><td>2019</td><td>charity</td><td>122.53</td><td>515.230324</td></tr>",
            "<tr><td>7</td><td>2019</td><td>charity</td><td>122.53</td><td>515.230324</td></tr>",
            "<tr><td>7</td><td>2019</td><td>discard</td><td>120.27</td><td>497.501857</td></tr>",
            "<tr><td>7</td><td>2019</td><td>discard</td><td>120.27</td><td>497.501857</td></tr>",
            "<tr><td>7</td><td>2019</td><td>discard</td><td>120.27</td><td>497.501857</td></tr>",
            "<tr><td>7</td><td>2019</td><td>discard</td><td>120.27</td><td>497.501857</td></tr>",
            "<tr><td>7</td><td>2019</td><td>discard</td><td>120.27</td><td>497.501857</td></tr>",
            "<tr><td>7</td><td>2019</td><td>discard</td><td>120.27</td><td>497.501857</td></tr>",
            "<tr><td>7</td><td>2019</td><td>gift</td><td>121.91</td><td>503.513404</td></tr>",
            "<tr><td>7</td><td>2019</td><td>gift</td><td>121.91</td><td>503.513404</td></tr>",
            "<tr><td>7</td><td>2019</td><td>gift</td><td>121.91</td><td>503.513404</td></tr>",
            "<tr><td>7</td><td>2019</td><td>gift</td><td>121.91</td><td>503.513404</td></tr>",
            "<tr><td>7</td><td>2019</td><td>gift</td><td>121.91</td><td>503.513404</td></tr>",
            "<tr><td>7</td><td>2019</td><td>gift</td><td>121.91</td><td>503.513404</td></tr>",
            "<tr><td>7</td><td>2019</td><td>gift</td><td>121.91</td><td>503.513404</td></tr>",
            "<tr><td>7</td><td>2019</td><td>gift</td><td>121.91</td><td>503.513404</td></tr>",
            "<tr><td>7</td><td>2019</td><td>gift</td><td>121.91</td><td>503.513404</td></tr>",
            "<tr><td>7</td><td>2019</td><td>gift</td><td>121.91</td><td>503.513404</td></tr>",
            "<tr><td>7</td><td>2019</td><td>gift</td><td>121.91</td><td>503.513404</td></tr>",
            "<tr><td>7</td><td>2019</td><td>gift</td><td>121.91</td><td>503.513404</td></tr>",
            "<tr><td>7</td><td>2019</td><td>personal use</td><td>128.79</td><td>528.282011</td></tr>",
            "<tr><td>7</td><td>2019</td><td>personal use</td><td>128.79</td><td>528.282011</td></tr>",
            "<tr><td>7</td><td>2019</td><td>personal use</td><td>128.79</td><td>528.282011</td></tr>",
            "<tr><td>7</td><td>2019</td><td>personal use</td><td>128.79</td><td>528.282011</td></tr>",
            "<tr><td>7</td><td>2019</td><td>personal use</td><td>128.79</td><td>528.282011</td></tr>",
            "<tr><td>7</td><td>2019</td><td>personal use</td><td>128.79</td><td>528.282011</td></tr>",
            "<tr><td>8</td><td>2019</td><td>charity</td><td>122.53</td><td>515.230324</td></tr>",
            "<tr><td>8</td><td>2019</td><td>charity</td><td>122.53</td><td>515.230324</td></tr>",
            "<tr><td>8</td><td>2019</td><td>charity</td><td>122.53</td><td>515.230324</td></tr>",
            "<tr><td>8</td><td>2019</td><td>charity</td><td>122.53</td><td>515.230324</td></tr>",
            "<tr><td>8</td><td>2019</td><td>charity</td><td>122.53</td><td>515.230324</td></tr>",
            "<tr><td>8</td><td>2019</td><td>discard</td><td>120.27</td><td>497.501857</td></tr>",
            "<tr><td>8</td><td>2019</td><td>discard</td><td>120.27</td><td>497.501857</td></tr>",
            "<tr><td>8</td><td>2019</td><td>discard</td><td>120.27</td><td>497.501857</td></tr>",
            "<tr><td>8</td><td>2019</td><td>discard</td><td>120.27</td><td>497.501857</td></tr>",
            "<tr><td>8</td><td>2019</td><td>gift</td><td>121.91</td><td>503.513404</td></tr>",
            "<tr><td>8</td><td>2019</td><td>gift</td><td>121.91</td><td>503.513404</td></tr>",
            "<tr><td>8</td><td>2019</td><td>gift</td><td>121.91</td><td>503.513404</td></tr>",
            "<tr><td>8</td><td>2019</td><td>gift</td><td>121.91</td><td>503.513404</td></tr>",
            "<tr><td>8</td><td>2019</td><td>gift</td><td>121.91</td><td>503.513404</td></tr>",
            "<tr><td>8</td><td>2019</td><td>gift</td><td>121.91</td><td>503.513404</td></tr>",
            "<tr><td>8</td><td>2019</td><td>gift</td><td>121.91</td><td>503.513404</td></tr>",
            "<tr><td>8</td><td>2019</td><td>gift</td><td>121.91</td><td>503.513404</td></tr>",
            "<tr><td>8</td><td>2019</td><td>personal use</td><td>128.79</td><td>528.282011</td></tr>",
            "<tr><td>8</td><td>2019</td><td>personal use</td><td>128.79</td><td>528.282011</td></tr>",
            "<tr><td>8</td><td>2019</td><td>personal use</td><td>128.79</td><td>528.282011</td></tr>",
            "<tr><td>8</td><td>2019</td><td>personal use</td><td>128.79</td><td>528.282011</td></tr>",
            "<tr><td>8</td><td>2019</td><td>personal use</td><td>128.79</td><td>528.282011</td></tr>",
            "<tr><td>8</td><td>2019</td><td>personal use</td><td>128.79</td><td>528.282011</td></tr>",
            "<tr><td>8</td><td>2019</td><td>personal use</td><td>128.79</td><td>528.282011</td></tr>",
            "<tr><td>8</td><td>2019</td><td>personal use</td><td>128.79</td><td>528.282011</td></tr>",
            "<tr><td>8</td><td>2019</td><td>personal use</td><td>128.79</td><td>528.282011</td></tr>",
            "<tr><td>8</td><td>2019</td><td>personal use</td><td>128.79</td><td>528.282011</td></tr>",
            "<tr><td>8</td><td>2019</td><td>personal use</td><td>128.79</td><td>528.282011</td></tr>",
            "<tr><td>8</td><td>2019</td><td>personal use</td><td>128.79</td><td>528.282011</td></tr>",
            "<tr><td>8</td><td>2019</td><td>personal use</td><td>128.79</td><td>528.282011</td></tr>",
            "<tr><td>8</td><td>2019</td><td>personal use</td><td>128.79</td><td>528.282011</td></tr>",
            "<tr><td>9</td><td>2019</td><td>charity</td><td>122.53</td><td>515.230324</td></tr>",
            "<tr><td>9</td><td>2019</td><td>charity</td><td>122.53</td><td>515.230324</td></tr>",
            "<tr><td>9</td><td>2019</td><td>charity</td><td>122.53</td><td>515.230324</td></tr>",
            "<tr><td>9</td><td>2019</td><td>charity</td><td>122.53</td><td>515.230324</td></tr>",
            "<tr><td>9</td><td>2019</td><td>charity</td><td>122.53</td><td>515.230324</td></tr>",
            "<tr><td>9</td><td>2019</td><td>charity</td><td>122.53</td><td>515.230324</td></tr>",
            "<tr><td>9</td><td>2019</td><td>charity</td><td>122.53</td><td>515.230324</td></tr>",
            "<tr><td>9</td><td>2019</td><td>charity</td><td>122.53</td><td>515.230324</td></tr>",
            "<tr><td>9</td><td>2019</td><td>discard</td><td>120.27</td><td>497.501857</td></tr>",
            "<tr><td>9</td><td>2019</td><td>discard</td><td>120.27</td><td>497.501857</td></tr>",
            "<tr><td>9</td><td>2019</td><td>discard</td><td>120.27</td><td>497.501857</td></tr>",
            "<tr><td>9</td><td>2019</td><td>discard</td><td>120.27</td><td>497.501857</td></tr>",
            "<tr><td>9</td><td>2019</td><td>discard</td><td>120.27</td><td>497.501857</td></tr>",
            "<tr><td>9</td><td>2019</td><td>gift</td><td>121.91</td><td>503.513404</td></tr>",
            "<tr><td>9</td><td>2019</td><td>gift</td><td>121.91</td><td>503.513404</td></tr>",
            "<tr><td>9</td><td>2019</td><td>gift</td><td>121.91</td><td>503.513404</td></tr>",
            "<tr><td>9</td><td>2019</td><td>gift</td><td>121.91</td><td>503.513404</td></tr>",
            "<tr><td>9</td><td>2019</td><td>gift</td><td>121.91</td><td>503.513404</td></tr>",
            "<tr><td>9</td><td>2019</td><td>gift</td><td>121.91</td><td>503.513404</td></tr>",
            "<tr><td>9</td><td>2019</td><td>gift</td><td>121.91</td><td>503.513404</td></tr>",
            "<tr><td>9</td><td>2019</td><td>gift</td><td>121.91</td><td>503.513404</td></tr>",
            "<tr><td>9</td><td>2019</td><td>gift</td><td>121.91</td><td>503.513404</td></tr>",
            "<tr><td>9</td><td>2019</td><td>personal use</td><td>128.79</td><td>528.282011</td></tr>",
            "<tr><td>9</td><td>2019</td><td>personal use</td><td>128.79</td><td>528.282011</td></tr>",
            "<tr><td>9</td><td>2019</td><td>personal use</td><td>128.79</td><td>528.282011</td></tr>",
            "<tr><td>9</td><td>2019</td><td>personal use</td><td>128.79</td><td>528.282011</td></tr>",
            "<tr><td>9</td><td>2019</td><td>personal use</td><td>128.79</td><td>528.282011</td></tr>",
            "<tr><td>9</td><td>2019</td><td>personal use</td><td>128.79</td><td>528.282011</td></tr>",
            "<tr><td>9</td><td>2019</td><td>personal use</td><td>128.79</td><td>528.282011</td></tr>",
            "<tr><td>9</td><td>2019</td><td>personal use</td><td>128.79</td><td>528.282011</td></tr>",
            "<tr><td>10</td><td>2019</td><td>charity</td><td>122.53</td><td>515.230324</td></tr>",
            "<tr><td>10</td><td>2019</td><td>charity</td><td>122.53</td><td>515.230324</td></tr>",
            "<tr><td>10</td><td>2019</td><td>charity</td><td>122.53</td><td>515.230324</td></tr>",
            "<tr><td>10</td><td>2019</td><td>charity</td><td>122.53</td><td>515.230324</td></tr>",
            "<tr><td>10</td><td>2019</td><td>charity</td><td>122.53</td><td>515.230324</td></tr>",
            "<tr><td>10</td><td>2019</td><td>charity</td><td>122.53</td><td>515.230324</td></tr>",
            "<tr><td>10</td><td>2019</td><td>charity</td><td>122.53</td><td>515.230324</td></tr>",
            "<tr><td>10</td><td>2019</td><td>charity</td><td>122.53</td><td>515.230324</td></tr>",
            "<tr><td>10</td><td>2019</td><td>charity</td><td>122.53</td><td>515.230324</td></tr>",
            "<tr><td>10</td><td>2019</td><td>charity</td><td>122.53</td><td>515.230324</td></tr>",
            "<tr><td>10</td><td>2019</td><td>discard</td><td>120.27</td><td>497.501857</td></tr>",
            "<tr><td>10</td><td>2019</td><td>discard</td><td>120.27</td><td>497.501857</td></tr>",
            "<tr><td>10</td><td>2019</td><td>discard</td><td>120.27</td><td>497.501857</td></tr>",
            "<tr><td>10</td><td>2019</td><td>discard</td><td>120.27</td><td>497.501857</td></tr>",
            "<tr><td>10</td><td>2019</td><td>discard</td><td>120.27</td><td>497.501857</td></tr>",
            "<tr><td>10</td><td>2019</td><td>discard</td><td>120.27</td><td>497.501857</td></tr>",
            "<tr><td>10</td><td>2019</td><td>discard</td><td>120.27</td><td>497.501857</td></tr>",
            "<tr><td>10</td><td>2019</td><td>discard</td><td>120.27</td><td>497.501857</td></tr>",
            "<tr><td>10</td><td>2019</td><td>gift</td><td>121.91</td><td>503.513404</td></tr>",
            "<tr><td>10</td><td>2019</td><td>gift</td><td>121.91</td><td>503.513404</td></tr>",
            "<tr><td>10</td><td>2019</td><td>gift</td><td>121.91</td><td>503.513404</td></tr>",
            "<tr><td>10</td><td>2019</td><td>gift</td><td>121.91</td><td>503.513404</td></tr>",
            "<tr><td>10</td><td>2019</td><td>gift</td><td>121.91</td><td>503.513404</td></tr>",
            "<tr><td>10</td><td>2019</td><td>gift</td><td>121.91</td><td>503.513404</td></tr>",
            "<tr><td>10</td><td>2019</td><td>gift</td><td>121.91</td><td>503.513404</td></tr>",
            "<tr><td>10</td><td>2019</td><td>gift</td><td>121.91</td><td>503.513404</td></tr>",
            "<tr><td>10</td><td>2019</td><td>personal use</td><td>128.79</td><td>528.282011</td></tr>",
            "<tr><td>10</td><td>2019</td><td>personal use</td><td>128.79</td><td>528.282011</td></tr>",
            "<tr><td>10</td><td>2019</td><td>personal use</td><td>128.79</td><td>528.282011</td></tr>",
            "<tr><td>10</td><td>2019</td><td>personal use</td><td>128.79</td><td>528.282011</td></tr>",
            "<tr><td>10</td><td>2019</td><td>personal use</td><td>128.79</td><td>528.282011</td></tr>",
            "<tr><td>11</td><td>2019</td><td>charity</td><td>122.53</td><td>515.230324</td></tr>",
            "<tr><td>11</td><td>2019</td><td>charity</td><td>122.53</td><td>515.230324</td></tr>",
            "<tr><td>11</td><td>2019</td><td>charity</td><td>122.53</td><td>515.230324</td></tr>",
            "<tr><td>11</td><td>2019</td><td>charity</td><td>122.53</td><td>515.230324</td></tr>",
            "<tr><td>11</td><td>2019</td><td>charity</td><td>122.53</td><td>515.230324</td></tr>",
            "<tr><td>11</td><td>2019</td><td>charity</td><td>122.53</td><td>515.230324</td></tr>",
            "<tr><td>11</td><td>2019</td><td>charity</td><td>122.53</td><td>515.230324</td></tr>",
            "<tr><td>11</td><td>2019</td><td>charity</td><td>122.53</td><td>515.230324</td></tr>",
            "<tr><td>11</td><td>2019</td><td>charity</td><td>122.53</td><td>515.230324</td></tr>",
            "<tr><td>11</td><td>2019</td><td>charity</td><td>122.53</td><td>515.230324</td></tr>",
            "<tr><td>11</td><td>2019</td><td>charity</td><td>122.53</td><td>515.230324</td></tr>",
            "<tr><td>11</td><td>2019</td><td>discard</td><td>120.27</td><td>497.501857</td></tr>",
            "<tr><td>11</td><td>2019</td><td>discard</td><td>120.27</td><td>497.501857</td></tr>",
            "<tr><td>11</td><td>2019</td><td>discard</td><td>120.27</td><td>497.501857</td></tr>",
            "<tr><td>11</td><td>2019</td><td>discard</td><td>120.27</td><td>497.501857</td></tr>",
            "<tr><td>11</td><td>2019</td><td>discard</td><td>120.27</td><td>497.501857</td></tr>",
            "<tr><td>11</td><td>2019</td><td>discard</td><td>120.27</td><td>497.501857</td></tr>",
            "<tr><td>11</td><td>2019</td><td>discard</td><td>120.27</td><td>497.501857</td></tr>",
            "<tr><td>11</td><td>2019</td><td>gift</td><td>121.91</td><td>503.513404</td></tr>",
            "<tr><td>11</td><td>2019</td><td>gift</td><td>121.91</td><td>503.513404</td></tr>",
            "<tr><td>11</td><td>2019</td><td>gift</td><td>121.91</td><td>503.513404</td></tr>",
            "<tr><td>11</td><td>2019</td><td>gift</td><td>121.91</td><td>503.513404</td></tr>",
            "<tr><td>11</td><td>2019</td><td>gift</td><td>121.91</td><td>503.513404</td></tr>",
            "<tr><td>11</td><td>2019</td><td>gift</td><td>121.91</td><td>503.513404</td></tr>",
            "<tr><td>11</td><td>2019</td><td>personal use</td><td>128.79</td><td>528.282011</td></tr>",
            "<tr><td>11</td><td>2019</td><td>personal use</td><td>128.79</td><td>528.282011</td></tr>",
            "<tr><td>11</td><td>2019</td><td>personal use</td><td>128.79</td><td>528.282011</td></tr>",
            "<tr><td>11</td><td>2019</td><td>personal use</td><td>128.79</td><td>528.282011</td></tr>",
            "<tr><td>11</td><td>2019</td><td>personal use</td><td>128.79</td><td>528.282011</td></tr>",
            "<tr><td>11</td><td>2019</td><td>personal use</td><td>128.79</td><td>528.282011</td></tr>",
            "<tr><td>12</td><td>2019</td><td>charity</td><td>122.53</td><td>515.230324</td></tr>",
            "<tr><td>12</td><td>2019</td><td>charity</td><td>122.53</td><td>515.230324</td></tr>",
            "<tr><td>12</td><td>2019</td><td>charity</td><td>122.53</td><td>515.230324</td></tr>",
            "<tr><td>12</td><td>2019</td><td>charity</td><td>122.53</td><td>515.230324</td></tr>",
            "<tr><td>12</td><td>2019</td><td>charity</td><td>122.53</td><td>515.230324</td></tr>",
            "<tr><td>12</td><td>2019</td><td>discard</td><td>120.27</td><td>497.501857</td></tr>",
            "<tr><td>12</td><td>2019</td><td>discard</td><td>120.27</td><td>497.501857</td></tr>",
            "<tr><td>12</td><td>2019</td><td>discard</td><td>120.27</td><td>497.501857</td></tr>",
            "<tr><td>12</td><td>2019</td><td>discard</td><td>120.27</td><td>497.501857</td></tr>",
            "<tr><td>12</td><td>2019</td><td>discard</td><td>120.27</td><td>497.501857</td></tr>",
            "<tr><td>12</td><td>2019</td><td>discard</td><td>120.27</td><td>497.501857</td></tr>",
            "<tr><td>12</td><td>2019</td><td>discard</td><td>120.27</td><td>497.501857</td></tr>",
            "<tr><td>12</td><td>2019</td><td>discard</td><td>120.27</td><td>497.501857</td></tr>",
            "<tr><td>12</td><td>2019</td><td>discard</td><td>120.27</td><td>497.501857</td></tr>",
            "<tr><td>12</td><td>2019</td><td>gift</td><td>121.91</td><td>503.513404</td></tr>",
            "<tr><td>12</td><td>2019</td><td>gift</td><td>121.91</td><td>503.513404</td></tr>",
            "<tr><td>12</td><td>2019</td><td>gift</td><td>121.91</td><td>503.513404</td></tr>",
            "<tr><td>12</td><td>2019</td><td>gift</td><td>121.91</td><td>503.513404</td></tr>",
            "<tr><td>12</td><td>2019</td><td>gift</td><td>121.91</td><td>503.513404</td></tr>",
            "<tr><td>12</td><td>2019</td><td>gift</td><td>121.91</td><td>503.513404</td></tr>",
            "<tr><td>12</td><td>2019</td><td>gift</td><td>121.91</td><td>503.513404</td></tr>",
            "<tr><td>12</td><td>2019</td><td>personal use</td><td>128.79</td><td>528.282011</td></tr>",
            "<tr><td>12</td><td>2019</td><td>personal use</td><td>128.79</td><td>528.282011</td></tr>",
            "<tr><td>12</td><td>2019</td><td>personal use</td><td>128.79</td><td>528.282011</td></tr>",
            "<tr><td>12</td><td>2019</td><td>personal use</td><td>128.79</td><td>528.282011</td></tr>",
            "<tr><td>12</td><td>2019</td><td>personal use</td><td>128.79</td><td>528.282011</td></tr>",
            "<tr><td>12</td><td>2019</td><td>personal use</td><td>128.79</td><td>528.282011</td></tr>",
            "<tr><td>12</td><td>2019</td><td>personal use</td><td>128.79</td><td>528.282011</td></tr>",
            "<tr><td>12</td><td>2019</td><td>personal use</td><td>128.79</td><td>528.282011</td></tr>",
            "<tr><td>12</td><td>2019</td><td>personal use</td><td>128.79</td><td>528.282011</td></tr>",
            "<tr><td>12</td><td>2019</td><td>personal use</td><td>128.79</td><td>528.282011</td></tr>",
            "<tr><td>1</td><td>2020</td><td>charity</td><td>122.53</td><td>515.230324</td></tr>",
            "<tr><td>1</td><td>2020</td><td>charity</td><td>122.53</td><td>515.230324</td></tr>",
            "<tr><td>1</td><td>2020</td><td>charity</td><td>122.53</td><td>515.230324</td></tr>",
            "<tr><td>1</td><td>2020</td><td>discard</td><td>120.27</td><td>497.501857</td></tr>",
            "<tr><td>1</td><td>2020</td><td>discard</td><td>120.27</td><td>497.501857</td></tr>",
            "<tr><td>1</td><td>2020</td><td>discard</td><td>120.27</td><td>497.501857</td></tr>",
            "<tr><td>1</td><td>2020</td><td>discard</td><td>120.27</td><td>497.501857</td></tr>",
            "<tr><td>1</td><td>2020</td><td>discard</td><td>120.27</td><td>497.501857</td></tr>",
            "<tr><td>1</td><td>2020</td><td>discard</td><td>120.27</td><td>497.501857</td></tr>",
            "<tr><td>1</td><td>2020</td><td>discard</td><td>120.27</td><td>497.501857</td></tr>",
            "<tr><td>1</td><td>2020</td><td>discard</td><td>120.27</td><td>497.501857</td></tr>",
            "<tr><td>1</td><td>2020</td><td>gift</td><td>121.91</td><td>503.513404</td></tr>",
            "<tr><td>1</td><td>2020</td><td>gift</td><td>121.91</td><td>503.513404</td></tr>",
            "<tr><td>1</td><td>2020</td><td>gift</td><td>121.91</td><td>503.513404</td></tr>",
            "<tr><td>1</td><td>2020</td><td>gift</td><td>121.91</td><td>503.513404</td></tr>",
            "<tr><td>1</td><td>2020</td><td>gift</td><td>121.91</td><td>503.513404</td></tr>",
            "<tr><td>1</td><td>2020</td><td>gift</td><td>121.91</td><td>503.513404</td></tr>",
            "<tr><td>1</td><td>2020</td><td>personal use</td><td>128.79</td><td>528.282011</td></tr>",
            "<tr><td>1</td><td>2020</td><td>personal use</td><td>128.79</td><td>528.282011</td></tr>",
            "<tr><td>1</td><td>2020</td><td>personal use</td><td>128.79</td><td>528.282011</td></tr>",
            "<tr><td>1</td><td>2020</td><td>personal use</td><td>128.79</td><td>528.282011</td></tr>",
            "<tr><td>1</td><td>2020</td><td>personal use</td><td>128.79</td><td>528.282011</td></tr>",
            "<tr><td>1</td><td>2020</td><td>personal use</td><td>128.79</td><td>528.282011</td></tr>",
            "<tr><td>1</td><td>2020</td><td>personal use</td><td>128.79</td><td>528.282011</td></tr>",
            "<tr><td>1</td><td>2020</td><td>personal use</td><td>128.79</td><td>528.282011</td></tr>",
            "<tr><td>1</td><td>2020</td><td>personal use</td><td>128.79</td><td>528.282011</td></tr>",
            "<tr><td>1</td><td>2020</td><td>personal use</td><td>128.79</td><td>528.282011</td></tr>",
            "<tr><td>1</td><td>2020</td><td>personal use</td><td>128.79</td><td>528.282011</td></tr>",
            "<tr><td>1</td><td>2020</td><td>personal use</td><td>128.79</td><td>528.282011</td></tr>",
            "<tr><td>1</td><td>2020</td><td>personal use</td><td>128.79</td><td>528.282011</td></tr>",
            "<tr><td>1</td><td>2020</td><td>personal use</td><td>128.79</td><td>528.282011</td></tr>",
            "<tr><td>2</td><td>2020</td><td>charity</td><td>122.53</td><td>515.230324</td></tr>",
            "<tr><td>2</td><td>2020</td><td>charity</td><td>122.53</td><td>515.230324</td></tr>",
            "<tr><td>2</td><td>2020</td><td>charity</td><td>122.53</td><td>515.230324</td></tr>",
            "<tr><td>2</td><td>2020</td><td>charity</td><td>122.53</td><td>515.230324</td></tr>",
            "<tr><td>2</td><td>2020</td><td>charity</td><td>122.53</td><td>515.230324</td></tr>",
            "<tr><td>2</td><td>2020</td><td>charity</td><td>122.53</td><td>515.230324</td></tr>",
            "<tr><td>2</td><td>2020</td><td>discard</td><td>120.27</td><td>497.501857</td></tr>",
            "<tr><td>2</td><td>2020</td><td>discard</td><td>120.27</td><td>497.501857</td></tr>",
            "<tr><td>2</td><td>2020</td><td>discard</td><td>120.27</td><td>497.501857</td></tr>",
            "<tr><td>2</td><td>2020</td><td>discard</td><td>120.27</td><td>497.501857</td></tr>",
            "<tr><td>2</td><td>2020</td><td>discard</td><td>120.27</td><td>497.501857</td></tr>",
            "<tr><td>2</td><td>2020</td><td>discard</td><td>120.27</td><td>497.501857</td></tr>",
            "<tr><td>2</td><td>2020</td><td>discard</td><td>120.27</td><td>497.501857</td></tr>",
            "<tr><td>2</td><td>2020</td><td>discard</td><td>120.27</td><td>497.501857</td></tr>",
            "<tr><td>2</td><td>2020</td><td>discard</td><td>120.27</td><td>497.501857</td></tr>",
            "<tr><td>2</td><td>2020</td><td>gift</td><td>121.91</td><td>503.513404</td></tr>",
            "<tr><td>2</td><td>2020</td><td>gift</td><td>121.91</td><td>503.513404</td></tr>",
            "<tr><td>2</td><td>2020</td><td>gift</td><td>121.91</td><td>503.513404</td></tr>",
            "<tr><td>2</td><td>2020</td><td>gift</td><td>121.91</td><td>503.513404</td></tr>",
            "<tr><td>2</td><td>2020</td><td>gift</td><td>121.91</td><td>503.513404</td></tr>",
            "<tr><td>2</td><td>2020</td><td>gift</td><td>121.91</td><td>503.513404</td></tr>",
            "<tr><td>2</td><td>2020</td><td>gift</td><td>121.91</td><td>503.513404</td></tr>",
            "<tr><td>2</td><td>2020</td><td>personal use</td><td>128.79</td><td>528.282011</td></tr>",
            "<tr><td>2</td><td>2020</td><td>personal use</td><td>128.79</td><td>528.282011</td></tr>",
            "<tr><td>2</td><td>2020</td><td>personal use</td><td>128.79</td><td>528.282011</td></tr>",
            "<tr><td>2</td><td>2020</td><td>personal use</td><td>128.79</td><td>528.282011</td></tr>",
            "<tr><td>2</td><td>2020</td><td>personal use</td><td>128.79</td><td>528.282011</td></tr>",
            "<tr><td>2</td><td>2020</td><td>personal use</td><td>128.79</td><td>528.282011</td></tr>",
            "<tr><td>2</td><td>2020</td><td>personal use</td><td>128.79</td><td>528.282011</td></tr>",
            "<tr><td>3</td><td>2020</td><td>charity</td><td>122.53</td><td>515.230324</td></tr>",
            "<tr><td>3</td><td>2020</td><td>charity</td><td>122.53</td><td>515.230324</td></tr>",
            "<tr><td>3</td><td>2020</td><td>charity</td><td>122.53</td><td>515.230324</td></tr>",
            "<tr><td>3</td><td>2020</td><td>charity</td><td>122.53</td><td>515.230324</td></tr>",
            "<tr><td>3</td><td>2020</td><td>charity</td><td>122.53</td><td>515.230324</td></tr>",
            "<tr><td>3</td><td>2020</td><td>charity</td><td>122.53</td><td>515.230324</td></tr>",
            "<tr><td>3</td><td>2020</td><td>charity</td><td>122.53</td><td>515.230324</td></tr>",
            "<tr><td>3</td><td>2020</td><td>charity</td><td>122.53</td><td>515.230324</td></tr>",
            "<tr><td>3</td><td>2020</td><td>charity</td><td>122.53</td><td>515.230324</td></tr>",
            "<tr><td>3</td><td>2020</td><td>charity</td><td>122.53</td><td>515.230324</td></tr>",
            "<tr><td>3</td><td>2020</td><td>discard</td><td>120.27</td><td>497.501857</td></tr>",
            "<tr><td>3</td><td>2020</td><td>discard</td><td>120.27</td><td>497.501857</td></tr>",
            "<tr><td>3</td><td>2020</td><td>discard</td><td>120.27</td><td>497.501857</td></tr>",
            "<tr><td>3</td><td>2020</td><td>discard</td><td>120.27</td><td>497.501857</td></tr>",
            "<tr><td>3</td><td>2020</td><td>discard</td><td>120.27</td><td>497.501857</td></tr>",
            "<tr><td>3</td><td>2020</td><td>discard</td><td>120.27</td><td>497.501857</td></tr>",
            "<tr><td>3</td><td>2020</td><td>discard</td><td>120.27</td><td>497.501857</td></tr>",
            "<tr><td>3</td><td>2020</td><td>discard</td><td>120.27</td><td>497.501857</td></tr>",
            "<tr><td>3</td><td>2020</td><td>discard</td><td>120.27</td><td>497.501857</td></tr>",
            "<tr><td>3</td><td>2020</td><td>discard</td><td>120.27</td><td>497.501857</td></tr>",
            "<tr><td>3</td><td>2020</td><td>gift</td><td>121.91</td><td>503.513404</td></tr>",
            "<tr><td>3</td><td>2020</td><td>gift</td><td>121.91</td><td>503.513404</td></tr>",
            "<tr><td>3</td><td>2020</td><td>gift</td><td>121.91</td><td>503.513404</td></tr>",
            "<tr><td>3</td><td>2020</td><td>gift</td><td>121.91</td><td>503.513404</td></tr>",
            "<tr><td>3</td><td>2020</td><td>gift</td><td>121.91</td><td>503.513404</td></tr>",
            "<tr><td>3</td><td>2020</td><td>gift</td><td>121.91</td><td>503.513404</td></tr>",
            "<tr><td>3</td><td>2020</td><td>gift</td><td>121.91</td><td>503.513404</td></tr>",
            "<tr><td>3</td><td>2020</td><td>gift</td><td>121.91</td><td>503.513404</td></tr>",
            "<tr><td>3</td><td>2020</td><td>personal use</td><td>128.79</td><td>528.282011</td></tr>",
            "<tr><td>3</td><td>2020</td><td>personal use</td><td>128.79</td><td>528.282011</td></tr>",
            "<tr><td>3</td><td>2020</td><td>personal use</td><td>128.79</td><td>528.282011</td></tr>",
            "<tr><td>4</td><td>2020</td><td>charity</td><td>122.53</td><td>515.230324</td></tr>",
            "<tr><td>4</td><td>2020</td><td>charity</td><td>122.53</td><td>515.230324</td></tr>",
            "<tr><td>4</td><td>2020</td><td>charity</td><td>122.53</td><td>515.230324</td></tr>",
            "<tr><td>4</td><td>2020</td><td>charity</td><td>122.53</td><td>515.230324</td></tr>",
            "<tr><td>4</td><td>2020</td><td>charity</td><td>122.53</td><td>515.230324</td></tr>",
            "<tr><td>4</td><td>2020</td><td>charity</td><td>122.53</td><td>515.230324</td></tr>",
            "<tr><td>4</td><td>2020</td><td>charity</td><td>122.53</td><td>515.230324</td></tr>",
            "<tr><td>4</td><td>2020</td><td>charity</td><td>122.53</td><td>515.230324</td></tr>",
            "<tr><td>4</td><td>2020</td><td>charity</td><td>122.53</td><td>515.230324</td></tr>",
            "<tr><td>4</td><td>2020</td><td>discard</td><td>120.27</td><td>497.501857</td></tr>",
            "<tr><td>4</td><td>2020</td><td>discard</td><td>120.27</td><td>497.501857</td></tr>",
            "<tr><td>4</td><td>2020</td><td>discard</td><td>120.27</td><td>497.501857</td></tr>",
            "<tr><td>4</td><td>2020</td><td>discard</td><td>120.27</td><td>497.501857</td></tr>",
            "<tr><td>4</td><td>2020</td><td>discard</td><td>120.27</td><td>497.501857</td></tr>",
            "<tr><td>4</td><td>2020</td><td>discard</td><td>120.27</td><td>497.501857</td></tr>",
            "<tr><td>4</td><td>2020</td><td>discard</td><td>120.27</td><td>497.501857</td></tr>",
            "<tr><td>4</td><td>2020</td><td>discard</td><td>120.27</td><td>497.501857</td></tr>",
            "<tr><td>4</td><td>2020</td><td>discard</td><td>120.27</td><td>497.501857</td></tr>",
            "<tr><td>4</td><td>2020</td><td>gift</td><td>121.91</td><td>503.513404</td></tr>",
            "<tr><td>4</td><td>2020</td><td>gift</td><td>121.91</td><td>503.513404</td></tr>",
            "<tr><td>4</td><td>2020</td><td>gift</td><td>121.91</td><td>503.513404</td></tr>",
            "<tr><td>4</td><td>2020</td><td>gift</td><td>121.91</td><td>503.513404</td></tr>",
            "<tr><td>4</td><td>2020</td><td>gift</td><td>121.91</td><td>503.513404</td></tr>",
            "<tr><td>4</td><td>2020</td><td>gift</td><td>121.91</td><td>503.513404</td></tr>",
            "<tr><td>4</td><td>2020</td><td>gift</td><td>121.91</td><td>503.513404</td></tr>",
            "<tr><td>4</td><td>2020</td><td>gift</td><td>121.91</td><td>503.513404</td></tr>",
            "<tr><td>4</td><td>2020</td><td>gift</td><td>121.91</td><td>503.513404</td></tr>",
            "<tr><td>4</td><td>2020</td><td>personal use</td><td>128.79</td><td>528.282011</td></tr>",
            "<tr><td>4</td><td>2020</td><td>personal use</td><td>128.79</td><td>528.282011</td></tr>",
            "<tr><td>4</td><td>2020</td><td>personal use</td><td>128.79</td><td>528.282011</td></tr>",
            "<tr><td>5</td><td>2020</td><td>charity</td><td>122.53</td><td>515.230324</td></tr>",
            "<tr><td>5</td><td>2020</td><td>charity</td><td>122.53</td><td>515.230324</td></tr>",
            "<tr><td>5</td><td>2020</td><td>charity</td><td>122.53</td><td>515.230324</td></tr>",
            "<tr><td>5</td><td>2020</td><td>charity</td><td>122.53</td><td>515.230324</td></tr>",
            "<tr><td>5</td><td>2020</td><td>charity</td><td>122.53</td><td>515.230324</td></tr>",
            "<tr><td>5</td><td>2020</td><td>charity</td><td>122.53</td><td>515.230324</td></tr>",
            "<tr><td>5</td><td>2020</td><td>charity</td><td>122.53</td><td>515.230324</td></tr>",
            "<tr><td>5</td><td>2020</td><td>charity</td><td>122.53</td><td>515.230324</td></tr>",
            "<tr><td>5</td><td>2020</td><td>charity</td><td>122.53</td><td>515.230324</td></tr>",
            "<tr><td>5</td><td>2020</td><td>charity</td><td>122.53</td><td>515.230324</td></tr>",
            "<tr><td>5</td><td>2020</td><td>charity</td><td>122.53</td><td>515.230324</td></tr>",
            "<tr><td>5</td><td>2020</td><td>discard</td><td>120.27</td><td>497.501857</td></tr>",
            "<tr><td>5</td><td>2020</td><td>discard</td><td>120.27</td><td>497.501857</td></tr>",
            "<tr><td>5</td><td>2020</td><td>discard</td><td>120.27</td><td>497.501857</td></tr>",
            "<tr><td>5</td><td>2020</td><td>discard</td><td>120.27</td><td>497.501857</td></tr>",
            "<tr><td>5</td><td>2020</td><td>discard</td><td>120.27</td><td>497.501857</td></tr>",
            "<tr><td>5</td><td>2020</td><td>discard</td><td>120.27</td><td>497.501857</td></tr>",
            "<tr><td>5</td><td>2020</td><td>discard</td><td>120.27</td><td>497.501857</td></tr>",
            "<tr><td>5</td><td>2020</td><td>discard</td><td>120.27</td><td>497.501857</td></tr>",
            "<tr><td>5</td><td>2020</td><td>discard</td><td>120.27</td><td>497.501857</td></tr>",
            "<tr><td>5</td><td>2020</td><td>discard</td><td>120.27</td><td>497.501857</td></tr>",
            "<tr><td>5</td><td>2020</td><td>discard</td><td>120.27</td><td>497.501857</td></tr>",
            "<tr><td>5</td><td>2020</td><td>discard</td><td>120.27</td><td>497.501857</td></tr>",
            "<tr><td>5</td><td>2020</td><td>discard</td><td>120.27</td><td>497.501857</td></tr>",
            "<tr><td>5</td><td>2020</td><td>gift</td><td>121.91</td><td>503.513404</td></tr>",
            "<tr><td>5</td><td>2020</td><td>personal use</td><td>128.79</td><td>528.282011</td></tr>",
            "<tr><td>5</td><td>2020</td><td>personal use</td><td>128.79</td><td>528.282011</td></tr>",
            "<tr><td>5</td><td>2020</td><td>personal use</td><td>128.79</td><td>528.282011</td></tr>",
            "<tr><td>5</td><td>2020</td><td>personal use</td><td>128.79</td><td>528.282011</td></tr>",
            "<tr><td>5</td><td>2020</td><td>personal use</td><td>128.79</td><td>528.282011</td></tr>",
            "<tr><td>5</td><td>2020</td><td>personal use</td><td>128.79</td><td>528.282011</td></tr>",
            "<tr><td>6</td><td>2020</td><td>charity</td><td>122.53</td><td>515.230324</td></tr>",
            "<tr><td>6</td><td>2020</td><td>charity</td><td>122.53</td><td>515.230324</td></tr>",
            "<tr><td>6</td><td>2020</td><td>charity</td><td>122.53</td><td>515.230324</td></tr>",
            "<tr><td>6</td><td>2020</td><td>charity</td><td>122.53</td><td>515.230324</td></tr>",
            "<tr><td>6</td><td>2020</td><td>charity</td><td>122.53</td><td>515.230324</td></tr>",
            "<tr><td>6</td><td>2020</td><td>charity</td><td>122.53</td><td>515.230324</td></tr>",
            "<tr><td>6</td><td>2020</td><td>charity</td><td>122.53</td><td>515.230324</td></tr>",
            "<tr><td>6</td><td>2020</td><td>charity</td><td>122.53</td><td>515.230324</td></tr>",
            "<tr><td>6</td><td>2020</td><td>charity</td><td>122.53</td><td>515.230324</td></tr>",
            "<tr><td>6</td><td>2020</td><td>charity</td><td>122.53</td><td>515.230324</td></tr>",
            "<tr><td>6</td><td>2020</td><td>discard</td><td>120.27</td><td>497.501857</td></tr>",
            "<tr><td>6</td><td>2020</td><td>discard</td><td>120.27</td><td>497.501857</td></tr>",
            "<tr><td>6</td><td>2020</td><td>discard</td><td>120.27</td><td>497.501857</td></tr>",
            "<tr><td>6</td><td>2020</td><td>discard</td><td>120.27</td><td>497.501857</td></tr>",
            "<tr><td>6</td><td>2020</td><td>discard</td><td>120.27</td><td>497.501857</td></tr>",
            "<tr><td>6</td><td>2020</td><td>discard</td><td>120.27</td><td>497.501857</td></tr>",
            "<tr><td>6</td><td>2020</td><td>discard</td><td>120.27</td><td>497.501857</td></tr>",
            "<tr><td>6</td><td>2020</td><td>gift</td><td>121.91</td><td>503.513404</td></tr>",
            "<tr><td>6</td><td>2020</td><td>gift</td><td>121.91</td><td>503.513404</td></tr>",
            "<tr><td>6</td><td>2020</td><td>gift</td><td>121.91</td><td>503.513404</td></tr>",
            "<tr><td>6</td><td>2020</td><td>gift</td><td>121.91</td><td>503.513404</td></tr>",
            "<tr><td>6</td><td>2020</td><td>gift</td><td>121.91</td><td>503.513404</td></tr>",
            "<tr><td>6</td><td>2020</td><td>gift</td><td>121.91</td><td>503.513404</td></tr>",
            "<tr><td>6</td><td>2020</td><td>gift</td><td>121.91</td><td>503.513404</td></tr>",
            "<tr><td>6</td><td>2020</td><td>gift</td><td>121.91</td><td>503.513404</td></tr>",
            "<tr><td>6</td><td>2020</td><td>gift</td><td>121.91</td><td>503.513404</td></tr>",
            "<tr><td>6</td><td>2020</td><td>personal use</td><td>128.79</td><td>528.282011</td></tr>",
            "<tr><td>6</td><td>2020</td><td>personal use</td><td>128.79</td><td>528.282011</td></tr>",
            "<tr><td>6</td><td>2020</td><td>personal use</td><td>128.79</td><td>528.282011</td></tr>",
            "<tr><td>6</td><td>2020</td><td>personal use</td><td>128.79</td><td>528.282011</td></tr>",
            "<tr><td>7</td><td>2020</td><td>charity</td><td>122.53</td><td>515.230324</td></tr>",
            "<tr><td>7</td><td>2020</td><td>charity</td><td>122.53</td><td>515.230324</td></tr>",
            "<tr><td>7</td><td>2020</td><td>charity</td><td>122.53</td><td>515.230324</td></tr>",
            "<tr><td>7</td><td>2020</td><td>charity</td><td>122.53</td><td>515.230324</td></tr>",
            "<tr><td>7</td><td>2020</td><td>charity</td><td>122.53</td><td>515.230324</td></tr>",
            "<tr><td>7</td><td>2020</td><td>charity</td><td>122.53</td><td>515.230324</td></tr>",
            "<tr><td>7</td><td>2020</td><td>charity</td><td>122.53</td><td>515.230324</td></tr>",
            "<tr><td>7</td><td>2020</td><td>discard</td><td>120.27</td><td>497.501857</td></tr>",
            "<tr><td>7</td><td>2020</td><td>discard</td><td>120.27</td><td>497.501857</td></tr>",
            "<tr><td>7</td><td>2020</td><td>discard</td><td>120.27</td><td>497.501857</td></tr>",
            "<tr><td>7</td><td>2020</td><td>discard</td><td>120.27</td><td>497.501857</td></tr>",
            "<tr><td>7</td><td>2020</td><td>discard</td><td>120.27</td><td>497.501857</td></tr>",
            "<tr><td>7</td><td>2020</td><td>discard</td><td>120.27</td><td>497.501857</td></tr>",
            "<tr><td>7</td><td>2020</td><td>discard</td><td>120.27</td><td>497.501857</td></tr>",
            "<tr><td>7</td><td>2020</td><td>discard</td><td>120.27</td><td>497.501857</td></tr>",
            "<tr><td>7</td><td>2020</td><td>discard</td><td>120.27</td><td>497.501857</td></tr>",
            "<tr><td>7</td><td>2020</td><td>discard</td><td>120.27</td><td>497.501857</td></tr>",
            "<tr><td>7</td><td>2020</td><td>discard</td><td>120.27</td><td>497.501857</td></tr>",
            "<tr><td>7</td><td>2020</td><td>gift</td><td>121.91</td><td>503.513404</td></tr>",
            "<tr><td>7</td><td>2020</td><td>gift</td><td>121.91</td><td>503.513404</td></tr>",
            "<tr><td>7</td><td>2020</td><td>gift</td><td>121.91</td><td>503.513404</td></tr>",
            "<tr><td>7</td><td>2020</td><td>personal use</td><td>128.79</td><td>528.282011</td></tr>",
            "<tr><td>7</td><td>2020</td><td>personal use</td><td>128.79</td><td>528.282011</td></tr>",
            "<tr><td>7</td><td>2020</td><td>personal use</td><td>128.79</td><td>528.282011</td></tr>",
            "<tr><td>7</td><td>2020</td><td>personal use</td><td>128.79</td><td>528.282011</td></tr>",
            "<tr><td>7</td><td>2020</td><td>personal use</td><td>128.79</td><td>528.282011</td></tr>",
            "<tr><td>7</td><td>2020</td><td>personal use</td><td>128.79</td><td>528.282011</td></tr>",
            "<tr><td>7</td><td>2020</td><td>personal use</td><td>128.79</td><td>528.282011</td></tr>",
            "<tr><td>7</td><td>2020</td><td>personal use</td><td>128.79</td><td>528.282011</td></tr>",
            "<tr><td>7</td><td>2020</td><td>personal use</td><td>128.79</td><td>528.282011</td></tr>",
            "<tr><td>7</td><td>2020</td><td>personal use</td><td>128.79</td><td>528.282011</td></tr>",
            "<tr><td>8</td><td>2020</td><td>charity</td><td>122.53</td><td>515.230324</td></tr>",
            "<tr><td>8</td><td>2020</td><td>charity</td><td>122.53</td><td>515.230324</td></tr>",
            "<tr><td>8</td><td>2020</td><td>charity</td><td>122.53</td><td>515.230324</td></tr>",
            "<tr><td>8</td><td>2020</td><td>discard</td><td>120.27</td><td>497.501857</td></tr>",
            "<tr><td>8</td><td>2020</td><td>discard</td><td>120.27</td><td>497.501857</td></tr>",
            "<tr><td>8</td><td>2020</td><td>discard</td><td>120.27</td><td>497.501857</td></tr>",
            "<tr><td>8</td><td>2020</td><td>discard</td><td>120.27</td><td>497.501857</td></tr>",
            "<tr><td>8</td><td>2020</td><td>discard</td><td>120.27</td><td>497.501857</td></tr>",
            "<tr><td>8</td><td>2020</td><td>discard</td><td>120.27</td><td>497.501857</td></tr>",
            "<tr><td>8</td><td>2020</td><td>gift</td><td>121.91</td><td>503.513404</td></tr>",
            "<tr><td>8</td><td>2020</td><td>gift</td><td>121.91</td><td>503.513404</td></tr>",
            "<tr><td>8</td><td>2020</td><td>gift</td><td>121.91</td><td>503.513404</td></tr>",
            "<tr><td>8</td><td>2020</td><td>gift</td><td>121.91</td><td>503.513404</td></tr>",
            "<tr><td>8</td><td>2020</td><td>gift</td><td>121.91</td><td>503.513404</td></tr>",
            "<tr><td>8</td><td>2020</td><td>gift</td><td>121.91</td><td>503.513404</td></tr>",
            "<tr><td>8</td><td>2020</td><td>gift</td><td>121.91</td><td>503.513404</td></tr>",
            "<tr><td>8</td><td>2020</td><td>gift</td><td>121.91</td><td>503.513404</td></tr>",
            "<tr><td>8</td><td>2020</td><td>gift</td><td>121.91</td><td>503.513404</td></tr>",
            "<tr><td>8</td><td>2020</td><td>gift</td><td>121.91</td><td>503.513404</td></tr>",
            "<tr><td>8</td><td>2020</td><td>gift</td><td>121.91</td><td>503.513404</td></tr>",
            "<tr><td>8</td><td>2020</td><td>personal use</td><td>128.79</td><td>528.282011</td></tr>",
            "<tr><td>8</td><td>2020</td><td>personal use</td><td>128.79</td><td>528.282011</td></tr>",
            "<tr><td>8</td><td>2020</td><td>personal use</td><td>128.79</td><td>528.282011</td></tr>",
            "<tr><td>8</td><td>2020</td><td>personal use</td><td>128.79</td><td>528.282011</td></tr>",
            "<tr><td>8</td><td>2020</td><td>personal use</td><td>128.79</td><td>528.282011</td></tr>",
            "<tr><td>8</td><td>2020</td><td>personal use</td><td>128.79</td><td>528.282011</td></tr>",
            "<tr><td>8</td><td>2020</td><td>personal use</td><td>128.79</td><td>528.282011</td></tr>",
            "<tr><td>8</td><td>2020</td><td>personal use</td><td>128.79</td><td>528.282011</td></tr>",
            "<tr><td>8</td><td>2020</td><td>personal use</td><td>128.79</td><td>528.282011</td></tr>",
            "<tr><td>8</td><td>2020</td><td>personal use</td><td>128.79</td><td>528.282011</td></tr>",
            "<tr><td>8</td><td>2020</td><td>personal use</td><td>128.79</td><td>528.282011</td></tr>",
            "<tr><td>9</td><td>2020</td><td>charity</td><td>122.53</td><td>515.230324</td></tr>",
            "<tr><td>9</td><td>2020</td><td>charity</td><td>122.53</td><td>515.230324</td></tr>",
            "<tr><td>9</td><td>2020</td><td>charity</td><td>122.53</td><td>515.230324</td></tr>",
            "<tr><td>9</td><td>2020</td><td>charity</td><td>122.53</td><td>515.230324</td></tr>",
            "<tr><td>9</td><td>2020</td><td>charity</td><td>122.53</td><td>515.230324</td></tr>",
            "<tr><td>9</td><td>2020</td><td>charity</td><td>122.53</td><td>515.230324</td></tr>",
            "<tr><td>9</td><td>2020</td><td>charity</td><td>122.53</td><td>515.230324</td></tr>",
            "<tr><td>9</td><td>2020</td><td>discard</td><td>120.27</td><td>497.501857</td></tr>",
            "<tr><td>9</td><td>2020</td><td>discard</td><td>120.27</td><td>497.501857</td></tr>",
            "<tr><td>9</td><td>2020</td><td>discard</td><td>120.27</td><td>497.501857</td></tr>",
            "<tr><td>9</td><td>2020</td><td>discard</td><td>120.27</td><td>497.501857</td></tr>",
            "<tr><td>9</td><td>2020</td><td>discard</td><td>120.27</td><td>497.501857</td></tr>",
            "<tr><td>9</td><td>2020</td><td>discard</td><td>120.27</td><td>497.501857</td></tr>",
            "<tr><td>9</td><td>2020</td><td>discard</td><td>120.27</td><td>497.501857</td></tr>",
            "<tr><td>9</td><td>2020</td><td>gift</td><td>121.91</td><td>503.513404</td></tr>",
            "<tr><td>9</td><td>2020</td><td>gift</td><td>121.91</td><td>503.513404</td></tr>",
            "<tr><td>9</td><td>2020</td><td>gift</td><td>121.91</td><td>503.513404</td></tr>",
            "<tr><td>9</td><td>2020</td><td>gift</td><td>121.91</td><td>503.513404</td></tr>",
            "<tr><td>9</td><td>2020</td><td>gift</td><td>121.91</td><td>503.513404</td></tr>",
            "<tr><td>9</td><td>2020</td><td>gift</td><td>121.91</td><td>503.513404</td></tr>",
            "<tr><td>9</td><td>2020</td><td>gift</td><td>121.91</td><td>503.513404</td></tr>",
            "<tr><td>9</td><td>2020</td><td>gift</td><td>121.91</td><td>503.513404</td></tr>",
            "<tr><td>9</td><td>2020</td><td>personal use</td><td>128.79</td><td>528.282011</td></tr>",
            "<tr><td>9</td><td>2020</td><td>personal use</td><td>128.79</td><td>528.282011</td></tr>",
            "<tr><td>9</td><td>2020</td><td>personal use</td><td>128.79</td><td>528.282011</td></tr>",
            "<tr><td>9</td><td>2020</td><td>personal use</td><td>128.79</td><td>528.282011</td></tr>",
            "<tr><td>9</td><td>2020</td><td>personal use</td><td>128.79</td><td>528.282011</td></tr>",
            "<tr><td>9</td><td>2020</td><td>personal use</td><td>128.79</td><td>528.282011</td></tr>",
            "<tr><td>9</td><td>2020</td><td>personal use</td><td>128.79</td><td>528.282011</td></tr>",
            "<tr><td>9</td><td>2020</td><td>personal use</td><td>128.79</td><td>528.282011</td></tr>",
            "<tr><td>10</td><td>2020</td><td>charity</td><td>122.53</td><td>515.230324</td></tr>",
            "<tr><td>10</td><td>2020</td><td>charity</td><td>122.53</td><td>515.230324</td></tr>",
            "<tr><td>10</td><td>2020</td><td>charity</td><td>122.53</td><td>515.230324</td></tr>",
            "<tr><td>10</td><td>2020</td><td>charity</td><td>122.53</td><td>515.230324</td></tr>",
            "<tr><td>10</td><td>2020</td><td>charity</td><td>122.53</td><td>515.230324</td></tr>",
            "<tr><td>10</td><td>2020</td><td>charity</td><td>122.53</td><td>515.230324</td></tr>",
            "<tr><td>10</td><td>2020</td><td>charity</td><td>122.53</td><td>515.230324</td></tr>",
            "<tr><td>10</td><td>2020</td><td>charity</td><td>122.53</td><td>515.230324</td></tr>",
            "<tr><td>10</td><td>2020</td><td>charity</td><td>122.53</td><td>515.230324</td></tr>",
            "<tr><td>10</td><td>2020</td><td>charity</td><td>122.53</td><td>515.230324</td></tr>",
            "<tr><td>10</td><td>2020</td><td>charity</td><td>122.53</td><td>515.230324</td></tr>",
            "<tr><td>10</td><td>2020</td><td>discard</td><td>120.27</td><td>497.501857</td></tr>",
            "<tr><td>10</td><td>2020</td><td>discard</td><td>120.27</td><td>497.501857</td></tr>",
            "<tr><td>10</td><td>2020</td><td>discard</td><td>120.27</td><td>497.501857</td></tr>",
            "<tr><td>10</td><td>2020</td><td>discard</td><td>120.27</td><td>497.501857</td></tr>",
            "<tr><td>10</td><td>2020</td><td>discard</td><td>120.27</td><td>497.501857</td></tr>",
            "<tr><td>10</td><td>2020</td><td>discard</td><td>120.27</td><td>497.501857</td></tr>",
            "<tr><td>10</td><td>2020</td><td>discard</td><td>120.27</td><td>497.501857</td></tr>",
            "<tr><td>10</td><td>2020</td><td>gift</td><td>121.91</td><td>503.513404</td></tr>",
            "<tr><td>10</td><td>2020</td><td>gift</td><td>121.91</td><td>503.513404</td></tr>",
            "<tr><td>10</td><td>2020</td><td>gift</td><td>121.91</td><td>503.513404</td></tr>",
            "<tr><td>10</td><td>2020</td><td>gift</td><td>121.91</td><td>503.513404</td></tr>",
            "<tr><td>10</td><td>2020</td><td>gift</td><td>121.91</td><td>503.513404</td></tr>",
            "<tr><td>10</td><td>2020</td><td>gift</td><td>121.91</td><td>503.513404</td></tr>",
            "<tr><td>10</td><td>2020</td><td>gift</td><td>121.91</td><td>503.513404</td></tr>",
            "<tr><td>10</td><td>2020</td><td>gift</td><td>121.91</td><td>503.513404</td></tr>",
            "<tr><td>10</td><td>2020</td><td>gift</td><td>121.91</td><td>503.513404</td></tr>",
            "<tr><td>10</td><td>2020</td><td>gift</td><td>121.91</td><td>503.513404</td></tr>",
            "<tr><td>10</td><td>2020</td><td>personal use</td><td>128.79</td><td>528.282011</td></tr>",
            "<tr><td>10</td><td>2020</td><td>personal use</td><td>128.79</td><td>528.282011</td></tr>",
            "<tr><td>10</td><td>2020</td><td>personal use</td><td>128.79</td><td>528.282011</td></tr>",
            "<tr><td>11</td><td>2020</td><td>charity</td><td>122.53</td><td>515.230324</td></tr>",
            "<tr><td>11</td><td>2020</td><td>charity</td><td>122.53</td><td>515.230324</td></tr>",
            "<tr><td>11</td><td>2020</td><td>charity</td><td>122.53</td><td>515.230324</td></tr>",
            "<tr><td>11</td><td>2020</td><td>charity</td><td>122.53</td><td>515.230324</td></tr>",
            "<tr><td>11</td><td>2020</td><td>charity</td><td>122.53</td><td>515.230324</td></tr>",
            "<tr><td>11</td><td>2020</td><td>charity</td><td>122.53</td><td>515.230324</td></tr>",
            "<tr><td>11</td><td>2020</td><td>charity</td><td>122.53</td><td>515.230324</td></tr>",
            "<tr><td>11</td><td>2020</td><td>discard</td><td>120.27</td><td>497.501857</td></tr>",
            "<tr><td>11</td><td>2020</td><td>discard</td><td>120.27</td><td>497.501857</td></tr>",
            "<tr><td>11</td><td>2020</td><td>discard</td><td>120.27</td><td>497.501857</td></tr>",
            "<tr><td>11</td><td>2020</td><td>discard</td><td>120.27</td><td>497.501857</td></tr>",
            "<tr><td>11</td><td>2020</td><td>discard</td><td>120.27</td><td>497.501857</td></tr>",
            "<tr><td>11</td><td>2020</td><td>gift</td><td>121.91</td><td>503.513404</td></tr>",
            "<tr><td>11</td><td>2020</td><td>gift</td><td>121.91</td><td>503.513404</td></tr>",
            "<tr><td>11</td><td>2020</td><td>gift</td><td>121.91</td><td>503.513404</td></tr>",
            "<tr><td>11</td><td>2020</td><td>gift</td><td>121.91</td><td>503.513404</td></tr>",
            "<tr><td>11</td><td>2020</td><td>gift</td><td>121.91</td><td>503.513404</td></tr>",
            "<tr><td>11</td><td>2020</td><td>gift</td><td>121.91</td><td>503.513404</td></tr>",
            "<tr><td>11</td><td>2020</td><td>gift</td><td>121.91</td><td>503.513404</td></tr>",
            "<tr><td>11</td><td>2020</td><td>gift</td><td>121.91</td><td>503.513404</td></tr>",
            "<tr><td>11</td><td>2020</td><td>personal use</td><td>128.79</td><td>528.282011</td></tr>",
            "<tr><td>11</td><td>2020</td><td>personal use</td><td>128.79</td><td>528.282011</td></tr>",
            "<tr><td>11</td><td>2020</td><td>personal use</td><td>128.79</td><td>528.282011</td></tr>",
            "<tr><td>11</td><td>2020</td><td>personal use</td><td>128.79</td><td>528.282011</td></tr>",
            "<tr><td>11</td><td>2020</td><td>personal use</td><td>128.79</td><td>528.282011</td></tr>",
            "<tr><td>11</td><td>2020</td><td>personal use</td><td>128.79</td><td>528.282011</td></tr>",
            "<tr><td>11</td><td>2020</td><td>personal use</td><td>128.79</td><td>528.282011</td></tr>",
            "<tr><td>11</td><td>2020</td><td>personal use</td><td>128.79</td><td>528.282011</td></tr>",
            "<tr><td>11</td><td>2020</td><td>personal use</td><td>128.79</td><td>528.282011</td></tr>",
            "<tr><td>11</td><td>2020</td><td>personal use</td><td>128.79</td><td>528.282011</td></tr>",
            "<tr><td>12</td><td>2020</td><td>charity</td><td>122.53</td><td>515.230324</td></tr>",
            "<tr><td>12</td><td>2020</td><td>charity</td><td>122.53</td><td>515.230324</td></tr>",
            "<tr><td>12</td><td>2020</td><td>charity</td><td>122.53</td><td>515.230324</td></tr>",
            "<tr><td>12</td><td>2020</td><td>charity</td><td>122.53</td><td>515.230324</td></tr>",
            "<tr><td>12</td><td>2020</td><td>charity</td><td>122.53</td><td>515.230324</td></tr>",
            "<tr><td>12</td><td>2020</td><td>discard</td><td>120.27</td><td>497.501857</td></tr>",
            "<tr><td>12</td><td>2020</td><td>discard</td><td>120.27</td><td>497.501857</td></tr>",
            "<tr><td>12</td><td>2020</td><td>discard</td><td>120.27</td><td>497.501857</td></tr>",
            "<tr><td>12</td><td>2020</td><td>discard</td><td>120.27</td><td>497.501857</td></tr>",
            "<tr><td>12</td><td>2020</td><td>discard</td><td>120.27</td><td>497.501857</td></tr>",
            "<tr><td>12</td><td>2020</td><td>discard</td><td>120.27</td><td>497.501857</td></tr>",
            "<tr><td>12</td><td>2020</td><td>discard</td><td>120.27</td><td>497.501857</td></tr>",
            "<tr><td>12</td><td>2020</td><td>discard</td><td>120.27</td><td>497.501857</td></tr>",
            "<tr><td>12</td><td>2020</td><td>discard</td><td>120.27</td><td>497.501857</td></tr>",
            "<tr><td>12</td><td>2020</td><td>discard</td><td>120.27</td><td>497.501857</td></tr>",
            "<tr><td>12</td><td>2020</td><td>discard</td><td>120.27</td><td>497.501857</td></tr>",
            "<tr><td>12</td><td>2020</td><td>discard</td><td>120.27</td><td>497.501857</td></tr>",
            "<tr><td>12</td><td>2020</td><td>discard</td><td>120.27</td><td>497.501857</td></tr>",
            "<tr><td>12</td><td>2020</td><td>discard</td><td>120.27</td><td>497.501857</td></tr>",
            "<tr><td>12</td><td>2020</td><td>gift</td><td>121.91</td><td>503.513404</td></tr>",
            "<tr><td>12</td><td>2020</td><td>gift</td><td>121.91</td><td>503.513404</td></tr>",
            "<tr><td>12</td><td>2020</td><td>gift</td><td>121.91</td><td>503.513404</td></tr>",
            "<tr><td>12</td><td>2020</td><td>gift</td><td>121.91</td><td>503.513404</td></tr>",
            "<tr><td>12</td><td>2020</td><td>gift</td><td>121.91</td><td>503.513404</td></tr>",
            "<tr><td>12</td><td>2020</td><td>gift</td><td>121.91</td><td>503.513404</td></tr>",
            "<tr><td>12</td><td>2020</td><td>gift</td><td>121.91</td><td>503.513404</td></tr>",
            "<tr><td>12</td><td>2020</td><td>gift</td><td>121.91</td><td>503.513404</td></tr>",
            "<tr><td>12</td><td>2020</td><td>gift</td><td>121.91</td><td>503.513404</td></tr>",
            "<tr><td>12</td><td>2020</td><td>personal use</td><td>128.79</td><td>528.282011</td></tr>",
            "<tr><td>12</td><td>2020</td><td>personal use</td><td>128.79</td><td>528.282011</td></tr>",
            "<tr><td>12</td><td>2020</td><td>personal use</td><td>128.79</td><td>528.282011</td></tr>",
            "<tr><td>1</td><td>2021</td><td>charity</td><td>122.53</td><td>515.230324</td></tr>",
            "<tr><td>1</td><td>2021</td><td>gift</td><td>121.91</td><td>503.513404</td></tr>",
            "<tr><td>1</td><td>2021</td><td>personal use</td><td>128.79</td><td>528.282011</td></tr>",
            "<tr><td>1</td><td>2021</td><td>personal use</td><td>128.79</td><td>528.282011</td></tr>",
            "</table>"
        ]
    }
}
],
            "execution_count": 14
        }
    ]
}