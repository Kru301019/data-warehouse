{
    "metadata": {
        "kernelspec": {
            "name": "SQL",
            "display_name": "SQL",
            "language": "sql"
        },
        "language_info": {
            "name": "sql",
            "version": ""
        }
    },
    "nbformat_minor": 2,
    "nbformat": 4,
    "cells": [
        {
            "cell_type": "code",
            "source": [
                "    SELECT SUM(FS.Quantity) as sales , 'at most 25' as Age\n",
                "    FROM DimEmployee DE\n",
                "        JOIN FactSales FS on DE.EmployeeID = FS.EmployeeID\n",
                "    WHERE UPPER(DE.EmployeeActive) = 'Yes' and\n",
                "        DATEDIFF(YEAR, DE.EmployeeDOB, GETDATE()) <= 25\n",
                "UNION\n",
                "SELECT SUM(FS.Quantity) as sales , 'at least 25' as Age\n",
                "FROM DimEmployee DE \n",
                "    JOIN FactSales FS on DE.EmployeeID = FS.EmployeeID\n",
                "    WHERE UPPER(DE.EmplyeeActive) = 'Yes' and \n",
                "        DATEDIFF(YEAR, DE.EmployeeDOB, GETDATE()) > 25\n",
                "    "
            ],        
            "metadata": {
                "azdata_cell_guid": "6a88f7b1-e524-4c63-bb96-4457402e509e",
                "language": "sql"
            },
            "outputs": [
{
    "output_type": "display_data",
    "data": {
        "text/html": "(2 rows affected)"
    },
    "metadata": {}
}, {
    "output_type": "display_data",
    "data": {
        "text/html": "Total execution time: 00:00:00.038"
    },
    "metadata": {}
}, {
    "output_type": "execute_result",
    "metadata": {},
    "execution_count": 16,
    "data": {
        "application/vnd.dataresource+json": {
            "schema": {
                "fields": [
                    {
                        "name": "Sales"
                    },
                    {
                        "name": "Age"
                    }
                ]
            },
            "data": [
                {
                    "Sales": "17925",
                    "Age": "At most 25"
                },
                {
                    "Sales": "78721",
                    "Age": "At least 26"
                }
            ]
        },
        "text/html": [
            "<table>",
            "<tr><th>Sales</th><th>Age</th></tr>",
            "<tr><td>17925</td><td>At most 25</td></tr>",
            "<tr><td>78721</td><td>At least 26</td></tr>",
            "</table>"
        ]
    }
}
],
            "execution_count": 16
        }
    ]
}