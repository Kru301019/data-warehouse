{
    "metadata": {
        "kernelspec": {
            "name": "SQL",
            "display_name": "SQL",
            "language": "sql"
        },
        "language_info": {
            "name": "sql",
            "version": ""
        }
    },
    "nbformat_minor": 2,
    "nbformat": 4,
    "cells": [
        {
            "cell_type": "code",
            "source": [
                "Select \r\n",
                "    SUM(SalesAmount) AS TotalSales , MONTH(FullDateTime) As PerMonth, Year(FullDateTime) As PerYear\r\n",
                "from FactSales\r\n",
                "GROUP by  ROLLUP ( MONTH(FullDateTime),Year(FullDateTime))\r\n",
                "\r\n",
                ""
            ],
            "metadata": {
                "azdata_cell_guid": "76056568-e44b-4e87-9a34-138b02ae0f68",
                "language": "sql"
            },
            "outputs": [
                {
                    "output_type": "display_data",
                    "data": {
                        "text/html": "(38 rows affected)"
                    },
                    "metadata": {}
                },
                {
                    "output_type": "display_data",
                    "data": {
                        "text/html": "Total execution time: 00:00:00.069"
                    },
                    "metadata": {}
                },
                {
                    "output_type": "execute_result",
                    "metadata": {},
                    "execution_count": 14,
                    "data": {
                        "application/vnd.dataresource+json": {
                            "schema": {
                                "fields": [
                                    {
                                        "name": "TotalSales"
                                    },
                                    {
                                        "name": "PerMonth"
                                    },
                                    {
                                        "name": "PerYear"
                                    }
                                ]
                            },
                            "data": [
                                {
                                    "TotalSales": "38346.33",
                                    "PerMonth": "1",
                                    "PerYear": "2019"
                                },
                                {
                                    "TotalSales": "44904.64",
                                    "PerMonth": "1",
                                    "PerYear": "2020"
                                },
                                {
                                    "TotalSales": "5711.06",
                                    "PerMonth": "1",
                                    "PerYear": "2021"
                                },
                                {
                                    "TotalSales": "88962.03",
                                    "PerMonth": "1",
                                    "PerYear": "NULL"
                                },
                                {
                                    "TotalSales": "43130.53",
                                    "PerMonth": "2",
                                    "PerYear": "2019"
                                },
                                {
                                    "TotalSales": "41515.86",
                                    "PerMonth": "2",
                                    "PerYear": "2020"
                                },
                                {
                                    "TotalSales": "84646.39",
                                    "PerMonth": "2",
                                    "PerYear": "NULL"
                                },
                                {
                                    "TotalSales": "44723.09",
                                    "PerMonth": "3",
                                    "PerYear": "2019"
                                },
                                {
                                    "TotalSales": "50014.08",
                                    "PerMonth": "3",
                                    "PerYear": "2020"
                                },
                                {
                                    "TotalSales": "94737.17",
                                    "PerMonth": "3",
                                    "PerYear": "NULL"
                                },
                                {
                                    "TotalSales": "45800.97",
                                    "PerMonth": "4",
                                    "PerYear": "2019"
                                },
                                {
                                    "TotalSales": "40716.01",
                                    "PerMonth": "4",
                                    "PerYear": "2020"
                                },
                                {
                                    "TotalSales": "86516.98",
                                    "PerMonth": "4",
                                    "PerYear": "NULL"
                                },
                                {
                                    "TotalSales": "49309.60",
                                    "PerMonth": "5",
                                    "PerYear": "2019"
                                },
                                {
                                    "TotalSales": "45874.19",
                                    "PerMonth": "5",
                                    "PerYear": "2020"
                                },
                                {
                                    "TotalSales": "95183.79",
                                    "PerMonth": "5",
                                    "PerYear": "NULL"
                                },
                                {
                                    "TotalSales": "51790.28",
                                    "PerMonth": "6",
                                    "PerYear": "2019"
                                },
                                {
                                    "TotalSales": "48072.58",
                                    "PerMonth": "6",
                                    "PerYear": "2020"
                                },
                                {
                                    "TotalSales": "99862.86",
                                    "PerMonth": "6",
                                    "PerYear": "NULL"
                                },
                                {
                                    "TotalSales": "49879.12",
                                    "PerMonth": "7",
                                    "PerYear": "2019"
                                },
                                {
                                    "TotalSales": "47738.53",
                                    "PerMonth": "7",
                                    "PerYear": "2020"
                                },
                                {
                                    "TotalSales": "97617.65",
                                    "PerMonth": "7",
                                    "PerYear": "NULL"
                                },
                                {
                                    "TotalSales": "44089.71",
                                    "PerMonth": "8",
                                    "PerYear": "2019"
                                },
                                {
                                    "TotalSales": "46671.33",
                                    "PerMonth": "8",
                                    "PerYear": "2020"
                                },
                                {
                                    "TotalSales": "90761.04",
                                    "PerMonth": "8",
                                    "PerYear": "NULL"
                                },
                                {
                                    "TotalSales": "49122.67",
                                    "PerMonth": "9",
                                    "PerYear": "2019"
                                },
                                {
                                    "TotalSales": "48757.58",
                                    "PerMonth": "9",
                                    "PerYear": "2020"
                                },
                                {
                                    "TotalSales": "97880.25",
                                    "PerMonth": "9",
                                    "PerYear": "NULL"
                                },
                                {
                                    "TotalSales": "51557.44",
                                    "PerMonth": "10",
                                    "PerYear": "2019"
                                },
                                {
                                    "TotalSales": "50742.18",
                                    "PerMonth": "10",
                                    "PerYear": "2020"
                                },
                                {
                                    "TotalSales": "102299.62",
                                    "PerMonth": "10",
                                    "PerYear": "NULL"
                                },
                                {
                                    "TotalSales": "42370.45",
                                    "PerMonth": "11",
                                    "PerYear": "2019"
                                },
                                {
                                    "TotalSales": "47790.71",
                                    "PerMonth": "11",
                                    "PerYear": "2020"
                                },
                                {
                                    "TotalSales": "90161.16",
                                    "PerMonth": "11",
                                    "PerYear": "NULL"
                                },
                                {
                                    "TotalSales": "51503.98",
                                    "PerMonth": "12",
                                    "PerYear": "2019"
                                },
                                {
                                    "TotalSales": "44932.00",
                                    "PerMonth": "12",
                                    "PerYear": "2020"
                                },
                                {
                                    "TotalSales": "96435.98",
                                    "PerMonth": "12",
                                    "PerYear": "NULL"
                                },
                                {
                                    "TotalSales": "1125064.92",
                                    "PerMonth": "NULL",
                                    "PerYear": "NULL"
                                }
                            ]
                        },
                        "text/html": [
                            "<table>",
                            "<tr><th>TotalSales</th><th>PerMonth</th><th>PerYear</th></tr>",
                            "<tr><td>38346.33</td><td>1</td><td>2019</td></tr>",
                            "<tr><td>44904.64</td><td>1</td><td>2020</td></tr>",
                            "<tr><td>5711.06</td><td>1</td><td>2021</td></tr>",
                            "<tr><td>88962.03</td><td>1</td><td>NULL</td></tr>",
                            "<tr><td>43130.53</td><td>2</td><td>2019</td></tr>",
                            "<tr><td>41515.86</td><td>2</td><td>2020</td></tr>",
                            "<tr><td>84646.39</td><td>2</td><td>NULL</td></tr>",
                            "<tr><td>44723.09</td><td>3</td><td>2019</td></tr>",
                            "<tr><td>50014.08</td><td>3</td><td>2020</td></tr>",
                            "<tr><td>94737.17</td><td>3</td><td>NULL</td></tr>",
                            "<tr><td>45800.97</td><td>4</td><td>2019</td></tr>",
                            "<tr><td>40716.01</td><td>4</td><td>2020</td></tr>",
                            "<tr><td>86516.98</td><td>4</td><td>NULL</td></tr>",
                            "<tr><td>49309.60</td><td>5</td><td>2019</td></tr>",
                            "<tr><td>45874.19</td><td>5</td><td>2020</td></tr>",
                            "<tr><td>95183.79</td><td>5</td><td>NULL</td></tr>",
                            "<tr><td>51790.28</td><td>6</td><td>2019</td></tr>",
                            "<tr><td>48072.58</td><td>6</td><td>2020</td></tr>",
                            "<tr><td>99862.86</td><td>6</td><td>NULL</td></tr>",
                            "<tr><td>49879.12</td><td>7</td><td>2019</td></tr>",
                            "<tr><td>47738.53</td><td>7</td><td>2020</td></tr>",
                            "<tr><td>97617.65</td><td>7</td><td>NULL</td></tr>",
                            "<tr><td>44089.71</td><td>8</td><td>2019</td></tr>",
                            "<tr><td>46671.33</td><td>8</td><td>2020</td></tr>",
                            "<tr><td>90761.04</td><td>8</td><td>NULL</td></tr>",
                            "<tr><td>49122.67</td><td>9</td><td>2019</td></tr>",
                            "<tr><td>48757.58</td><td>9</td><td>2020</td></tr>",
                            "<tr><td>97880.25</td><td>9</td><td>NULL</td></tr>",
                            "<tr><td>51557.44</td><td>10</td><td>2019</td></tr>",
                            "<tr><td>50742.18</td><td>10</td><td>2020</td></tr>",
                            "<tr><td>102299.62</td><td>10</td><td>NULL</td></tr>",
                            "<tr><td>42370.45</td><td>11</td><td>2019</td></tr>",
                            "<tr><td>47790.71</td><td>11</td><td>2020</td></tr>",
                            "<tr><td>90161.16</td><td>11</td><td>NULL</td></tr>",
                            "<tr><td>51503.98</td><td>12</td><td>2019</td></tr>",
                            "<tr><td>44932.00</td><td>12</td><td>2020</td></tr>",
                            "<tr><td>96435.98</td><td>12</td><td>NULL</td></tr>",
                            "<tr><td>1125064.92</td><td>NULL</td><td>NULL</td></tr>",
                            "</table>"
                        ]
                    }
                }
            ],
            "execution_count": 14
        },
        {
            "cell_type": "markdown",
            "source": [
                "<span style=\"font-size: 11pt; font-family: Arial, sans-serif; color: rgb(0, 0, 0); background-color: transparent; font-variant-numeric: normal; font-variant-east-asian: normal; font-variant-alternates: normal; font-variant-position: normal; vertical-align: baseline; white-space-collapse: preserve;\" id=\"docs-internal-guid-f2daa284-7fff-4d5a-5900-a772d3c46a65\">List the amount of waste per month that is gifted grouped per month and year, as well as their grand totals.</span>"
            ],
            "metadata": {
                "azdata_cell_guid": "4531070f-9ca1-4d69-8152-b3fa9171bf53"
            },
            "attachments": {}
        },
        {
            "cell_type": "code",
            "source": [
                "SELECT SUM(FS.Amount) totalSales, MONTH(FS.FullDate) month, YEAR(FS.FullDate) per_YEAR\r\n",
                "FROM FactWaste FS \r\n",
                "WHERE FS.ActionTaken = 'gift' \r\n",
                "GROUP by ROLLUP(MONTH(FS.FullDate), YEAR(FS.FullDate))\r\n",
                "HAVING YEAR(FS.FullDate) is NULL"
            ],
            "metadata": {
                "azdata_cell_guid": "7b1e6e35-ec81-442c-aa13-df2358d51343",
                "language": "sql"
            },
            "outputs": [
{
    "output_type": "display_data",
    "data": {
        "text/html": "(13 rows affected)"
    },
    "metadata": {}
}, {
    "output_type": "display_data",
    "data": {
        "text/html": "Total execution time: 00:00:00.036"
    },
    "metadata": {}
}, {
    "output_type": "execute_result",
    "metadata": {},
    "execution_count": 23,
    "data": {
        "application/vnd.dataresource+json": {
            "schema": {
                "fields": [
                    {
                        "name": "totalSales"
                    },
                    {
                        "name": "month"
                    },
                    {
                        "name": "per_YEAR"
                    }
                ]
            },
            "data": [
                {
                    "totalSales": "6507.39",
                    "month": "1",
                    "per_YEAR": "NULL"
                },
                {
                    "totalSales": "4956.46",
                    "month": "2",
                    "per_YEAR": "NULL"
                },
                {
                    "totalSales": "8707.70",
                    "month": "3",
                    "per_YEAR": "NULL"
                },
                {
                    "totalSales": "9531.94",
                    "month": "4",
                    "per_YEAR": "NULL"
                },
                {
                    "totalSales": "4492.96",
                    "month": "5",
                    "per_YEAR": "NULL"
                },
                {
                    "totalSales": "10195.95",
                    "month": "6",
                    "per_YEAR": "NULL"
                },
                {
                    "totalSales": "8030.45",
                    "month": "7",
                    "per_YEAR": "NULL"
                },
                {
                    "totalSales": "8540.65",
                    "month": "8",
                    "per_YEAR": "NULL"
                },
                {
                    "totalSales": "9703.85",
                    "month": "9",
                    "per_YEAR": "NULL"
                },
                {
                    "totalSales": "11016.42",
                    "month": "10",
                    "per_YEAR": "NULL"
                },
                {
                    "totalSales": "6645.29",
                    "month": "11",
                    "per_YEAR": "NULL"
                },
                {
                    "totalSales": "6331.46",
                    "month": "12",
                    "per_YEAR": "NULL"
                },
                {
                    "totalSales": "94660.52",
                    "month": "NULL",
                    "per_YEAR": "NULL"
                }
            ]
        },
        "text/html": [
            "<table>",
            "<tr><th>totalSales</th><th>month</th><th>per_YEAR</th></tr>",
            "<tr><td>6507.39</td><td>1</td><td>NULL</td></tr>",
            "<tr><td>4956.46</td><td>2</td><td>NULL</td></tr>",
            "<tr><td>8707.70</td><td>3</td><td>NULL</td></tr>",
            "<tr><td>9531.94</td><td>4</td><td>NULL</td></tr>",
            "<tr><td>4492.96</td><td>5</td><td>NULL</td></tr>",
            "<tr><td>10195.95</td><td>6</td><td>NULL</td></tr>",
            "<tr><td>8030.45</td><td>7</td><td>NULL</td></tr>",
            "<tr><td>8540.65</td><td>8</td><td>NULL</td></tr>",
            "<tr><td>9703.85</td><td>9</td><td>NULL</td></tr>",
            "<tr><td>11016.42</td><td>10</td><td>NULL</td></tr>",
            "<tr><td>6645.29</td><td>11</td><td>NULL</td></tr>",
            "<tr><td>6331.46</td><td>12</td><td>NULL</td></tr>",
            "<tr><td>94660.52</td><td>NULL</td><td>NULL</td></tr>",
            "</table>"
        ]
    }
}
],
            "execution_count": 23
        }
    ]
}