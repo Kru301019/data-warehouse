{
    "metadata": {
        "kernelspec": {
            "name": "SQL",
            "display_name": "SQL",
            "language": "sql"
        },
        "language_info": {
            "name": "sql",
            "version": ""
        }
    },
    "nbformat_minor": 2,
    "nbformat": 4,
    "cells": [
        {
            "cell_type": "code",
            "source": [
                "Select \r\n",
                "    SUM(SalesAmount) AS TotalSales , MONTH(FullDateTime) As PerMonth, Year(FullDateTime) As PerYear\r\n",
                "from FactSales\r\n",
                "GROUP by  ROLLUP ( MONTH(FullDateTime),Year(FullDateTime))\r\n",
                "\r\n",
                ""
            ],
            "metadata": {
                "azdata_cell_guid": "76056568-e44b-4e87-9a34-138b02ae0f68",
                "language": "sql"
            },
            "outputs": [
                {
                    "output_type": "display_data",
                    "data": {
                        "text/html": "(38 rows affected)"
                    },
                    "metadata": {}
                },
                {
                    "output_type": "display_data",
                    "data": {
                        "text/html": "Total execution time: 00:00:00.069"
                    },
                    "metadata": {}
                },
                {
                    "output_type": "execute_result",
                    "execution_count": 14,
                    "data": {
                        "application/vnd.dataresource+json": {
                            "schema": {
                                "fields": [
                                    {
                                        "name": "TotalSales"
                                    },
                                    {
                                        "name": "PerMonth"
                                    },
                                    {
                                        "name": "PerYear"
                                    }
                                ]
                            },
                            "data": [
                                {
                                    "TotalSales": "38346.33",
                                    "PerMonth": "1",
                                    "PerYear": "2019"
                                },
                                {
                                    "TotalSales": "44904.64",
                                    "PerMonth": "1",
                                    "PerYear": "2020"
                                },
                                {
                                    "TotalSales": "5711.06",
                                    "PerMonth": "1",
                                    "PerYear": "2021"
                                },
                                {
                                    "TotalSales": "88962.03",
                                    "PerMonth": "1",
                                    "PerYear": "NULL"
                                },
                                {
                                    "TotalSales": "43130.53",
                                    "PerMonth": "2",
                                    "PerYear": "2019"
                                },
                                {
                                    "TotalSales": "41515.86",
                                    "PerMonth": "2",
                                    "PerYear": "2020"
                                },
                                {
                                    "TotalSales": "84646.39",
                                    "PerMonth": "2",
                                    "PerYear": "NULL"
                                },
                                {
                                    "TotalSales": "44723.09",
                                    "PerMonth": "3",
                                    "PerYear": "2019"
                                },
                                {
                                    "TotalSales": "50014.08",
                                    "PerMonth": "3",
                                    "PerYear": "2020"
                                },
                                {
                                    "TotalSales": "94737.17",
                                    "PerMonth": "3",
                                    "PerYear": "NULL"
                                },
                                {
                                    "TotalSales": "45800.97",
                                    "PerMonth": "4",
                                    "PerYear": "2019"
                                },
                                {
                                    "TotalSales": "40716.01",
                                    "PerMonth": "4",
                                    "PerYear": "2020"
                                },
                                {
                                    "TotalSales": "86516.98",
                                    "PerMonth": "4",
                                    "PerYear": "NULL"
                                },
                                {
                                    "TotalSales": "49309.60",
                                    "PerMonth": "5",
                                    "PerYear": "2019"
                                },
                                {
                                    "TotalSales": "45874.19",
                                    "PerMonth": "5",
                                    "PerYear": "2020"
                                },
                                {
                                    "TotalSales": "95183.79",
                                    "PerMonth": "5",
                                    "PerYear": "NULL"
                                },
                                {
                                    "TotalSales": "51790.28",
                                    "PerMonth": "6",
                                    "PerYear": "2019"
                                },
                                {
                                    "TotalSales": "48072.58",
                                    "PerMonth": "6",
                                    "PerYear": "2020"
                                },
                                {
                                    "TotalSales": "99862.86",
                                    "PerMonth": "6",
                                    "PerYear": "NULL"
                                },
                                {
                                    "TotalSales": "49879.12",
                                    "PerMonth": "7",
                                    "PerYear": "2019"
                                },
                                {
                                    "TotalSales": "47738.53",
                                    "PerMonth": "7",
                                    "PerYear": "2020"
                                },
                                {
                                    "TotalSales": "97617.65",
                                    "PerMonth": "7",
                                    "PerYear": "NULL"
                                },
                                {
                                    "TotalSales": "44089.71",
                                    "PerMonth": "8",
                                    "PerYear": "2019"
                                },
                                {
                                    "TotalSales": "46671.33",
                                    "PerMonth": "8",
                                    "PerYear": "2020"
                                },
                                {
                                    "TotalSales": "90761.04",
                                    "PerMonth": "8",
                                    "PerYear": "NULL"
                                },
                                {
                                    "TotalSales": "49122.67",
                                    "PerMonth": "9",
                                    "PerYear": "2019"
                                },
                                {
                                    "TotalSales": "48757.58",
                                    "PerMonth": "9",
                                    "PerYear": "2020"
                                },
                                {
                                    "TotalSales": "97880.25",
                                    "PerMonth": "9",
                                    "PerYear": "NULL"
                                },
                                {
                                    "TotalSales": "51557.44",
                                    "PerMonth": "10",
                                    "PerYear": "2019"
                                },
                                {
                                    "TotalSales": "50742.18",
                                    "PerMonth": "10",
                                    "PerYear": "2020"
                                },
                                {
                                    "TotalSales": "102299.62",
                                    "PerMonth": "10",
                                    "PerYear": "NULL"
                                },
                                {
                                    "TotalSales": "42370.45",
                                    "PerMonth": "11",
                                    "PerYear": "2019"
                                },
                                {
                                    "TotalSales": "47790.71",
                                    "PerMonth": "11",
                                    "PerYear": "2020"
                                },
                                {
                                    "TotalSales": "90161.16",
                                    "PerMonth": "11",
                                    "PerYear": "NULL"
                                },
                                {
                                    "TotalSales": "51503.98",
                                    "PerMonth": "12",
                                    "PerYear": "2019"
                                },
                                {
                                    "TotalSales": "44932.00",
                                    "PerMonth": "12",
                                    "PerYear": "2020"
                                },
                                {
                                    "TotalSales": "96435.98",
                                    "PerMonth": "12",
                                    "PerYear": "NULL"
                                },
                                {
                                    "TotalSales": "1125064.92",
                                    "PerMonth": "NULL",
                                    "PerYear": "NULL"
                                }
                            ]
                        },
                        "text/html": "<table><tr><th>TotalSales</th><th>PerMonth</th><th>PerYear</th></tr><tr><td>38346.33</td><td>1</td><td>2019</td></tr><tr><td>44904.64</td><td>1</td><td>2020</td></tr><tr><td>5711.06</td><td>1</td><td>2021</td></tr><tr><td>88962.03</td><td>1</td><td>NULL</td></tr><tr><td>43130.53</td><td>2</td><td>2019</td></tr><tr><td>41515.86</td><td>2</td><td>2020</td></tr><tr><td>84646.39</td><td>2</td><td>NULL</td></tr><tr><td>44723.09</td><td>3</td><td>2019</td></tr><tr><td>50014.08</td><td>3</td><td>2020</td></tr><tr><td>94737.17</td><td>3</td><td>NULL</td></tr><tr><td>45800.97</td><td>4</td><td>2019</td></tr><tr><td>40716.01</td><td>4</td><td>2020</td></tr><tr><td>86516.98</td><td>4</td><td>NULL</td></tr><tr><td>49309.60</td><td>5</td><td>2019</td></tr><tr><td>45874.19</td><td>5</td><td>2020</td></tr><tr><td>95183.79</td><td>5</td><td>NULL</td></tr><tr><td>51790.28</td><td>6</td><td>2019</td></tr><tr><td>48072.58</td><td>6</td><td>2020</td></tr><tr><td>99862.86</td><td>6</td><td>NULL</td></tr><tr><td>49879.12</td><td>7</td><td>2019</td></tr><tr><td>47738.53</td><td>7</td><td>2020</td></tr><tr><td>97617.65</td><td>7</td><td>NULL</td></tr><tr><td>44089.71</td><td>8</td><td>2019</td></tr><tr><td>46671.33</td><td>8</td><td>2020</td></tr><tr><td>90761.04</td><td>8</td><td>NULL</td></tr><tr><td>49122.67</td><td>9</td><td>2019</td></tr><tr><td>48757.58</td><td>9</td><td>2020</td></tr><tr><td>97880.25</td><td>9</td><td>NULL</td></tr><tr><td>51557.44</td><td>10</td><td>2019</td></tr><tr><td>50742.18</td><td>10</td><td>2020</td></tr><tr><td>102299.62</td><td>10</td><td>NULL</td></tr><tr><td>42370.45</td><td>11</td><td>2019</td></tr><tr><td>47790.71</td><td>11</td><td>2020</td></tr><tr><td>90161.16</td><td>11</td><td>NULL</td></tr><tr><td>51503.98</td><td>12</td><td>2019</td></tr><tr><td>44932.00</td><td>12</td><td>2020</td></tr><tr><td>96435.98</td><td>12</td><td>NULL</td></tr><tr><td>1125064.92</td><td>NULL</td><td>NULL</td></tr></table>"
                    },
                    "metadata": {}
                }
            ],
            "execution_count": 14
        },
        {
            "cell_type": "code",
            "source": [
                ""
            ],
            "metadata": {
                "azdata_cell_guid": "376bb81b-e7a7-474d-a2ba-7d3d426fc9d2",
                "language": "sql"
            },
            "outputs": [],
            "execution_count": null
        },
        {
            "cell_type": "markdown",
            "source": [
                "<span style=\"font-size: 11pt; font-family: Arial, sans-serif; color: rgb(0, 0, 0); background-color: transparent; font-variant-numeric: normal; font-variant-east-asian: normal; font-variant-alternates: normal; font-variant-position: normal; vertical-align: baseline; white-space-collapse: preserve;\" id=\"docs-internal-guid-f2daa284-7fff-4d5a-5900-a772d3c46a65\">List the amount of waste per month that is gifted grouped per month and year, as well as their grand totals.</span>"
            ],
            "metadata": {
                "azdata_cell_guid": "4531070f-9ca1-4d69-8152-b3fa9171bf53"
            },
            "attachments": {}
        },
        {
            "cell_type": "code",
            "source": [
                "SELECT SUM(FS.Amount) totalSales, MONTH(FS.FullDate) month, YEAR(FS.FullDate) per_YEAR\r\n",
                "FROM FactWaste FS \r\n",
                "WHERE FS.ActionTaken = 'gift' \r\n",
                "GROUP by ROLLUP(MONTH(FS.FullDate), YEAR(FS.FullDate))\r\n",
                "HAVING YEAR(FS.FullDate) is NULL"
            ],
            "metadata": {
                "azdata_cell_guid": "7b1e6e35-ec81-442c-aa13-df2358d51343",
                "language": "sql"
            },
            "outputs": [
                {
                    "output_type": "display_data",
                    "data": {
                        "text/html": "(13 rows affected)"
                    },
                    "metadata": {}
                },
                {
                    "output_type": "display_data",
                    "data": {
                        "text/html": "Total execution time: 00:00:00.036"
                    },
                    "metadata": {}
                },
                {
                    "output_type": "execute_result",
                    "execution_count": 23,
                    "data": {
                        "application/vnd.dataresource+json": {
                            "schema": {
                                "fields": [
                                    {
                                        "name": "totalSales"
                                    },
                                    {
                                        "name": "month"
                                    },
                                    {
                                        "name": "per_YEAR"
                                    }
                                ]
                            },
                            "data": [
                                {
                                    "totalSales": "6507.39",
                                    "month": "1",
                                    "per_YEAR": "NULL"
                                },
                                {
                                    "totalSales": "4956.46",
                                    "month": "2",
                                    "per_YEAR": "NULL"
                                },
                                {
                                    "totalSales": "8707.70",
                                    "month": "3",
                                    "per_YEAR": "NULL"
                                },
                                {
                                    "totalSales": "9531.94",
                                    "month": "4",
                                    "per_YEAR": "NULL"
                                },
                                {
                                    "totalSales": "4492.96",
                                    "month": "5",
                                    "per_YEAR": "NULL"
                                },
                                {
                                    "totalSales": "10195.95",
                                    "month": "6",
                                    "per_YEAR": "NULL"
                                },
                                {
                                    "totalSales": "8030.45",
                                    "month": "7",
                                    "per_YEAR": "NULL"
                                },
                                {
                                    "totalSales": "8540.65",
                                    "month": "8",
                                    "per_YEAR": "NULL"
                                },
                                {
                                    "totalSales": "9703.85",
                                    "month": "9",
                                    "per_YEAR": "NULL"
                                },
                                {
                                    "totalSales": "11016.42",
                                    "month": "10",
                                    "per_YEAR": "NULL"
                                },
                                {
                                    "totalSales": "6645.29",
                                    "month": "11",
                                    "per_YEAR": "NULL"
                                },
                                {
                                    "totalSales": "6331.46",
                                    "month": "12",
                                    "per_YEAR": "NULL"
                                },
                                {
                                    "totalSales": "94660.52",
                                    "month": "NULL",
                                    "per_YEAR": "NULL"
                                }
                            ]
                        },
                        "text/html": "<table><tr><th>totalSales</th><th>month</th><th>per_YEAR</th></tr><tr><td>6507.39</td><td>1</td><td>NULL</td></tr><tr><td>4956.46</td><td>2</td><td>NULL</td></tr><tr><td>8707.70</td><td>3</td><td>NULL</td></tr><tr><td>9531.94</td><td>4</td><td>NULL</td></tr><tr><td>4492.96</td><td>5</td><td>NULL</td></tr><tr><td>10195.95</td><td>6</td><td>NULL</td></tr><tr><td>8030.45</td><td>7</td><td>NULL</td></tr><tr><td>8540.65</td><td>8</td><td>NULL</td></tr><tr><td>9703.85</td><td>9</td><td>NULL</td></tr><tr><td>11016.42</td><td>10</td><td>NULL</td></tr><tr><td>6645.29</td><td>11</td><td>NULL</td></tr><tr><td>6331.46</td><td>12</td><td>NULL</td></tr><tr><td>94660.52</td><td>NULL</td><td>NULL</td></tr></table>"
                    },
                    "metadata": {}
                }
            ],
            "execution_count": 23
        },
        {
            "cell_type": "markdown",
            "source": [
                "<span style=\"font-size: 11pt; font-family: Arial, sans-serif; color: rgb(0, 0, 0); background-color: transparent; font-variant-numeric: normal; font-variant-east-asian: normal; font-variant-alternates: normal; font-variant-position: normal; vertical-align: baseline; white-space-collapse: preserve;\" id=\"docs-internal-guid-9c1fda15-7fff-9ac5-cad7-3d46859813dd\">What is the amount of waste and the quantity of waste per month and year when the quantity of waste is at least 30, as well as their grand totals.</span>"
            ],
            "metadata": {
                "azdata_cell_guid": "46f91394-0b8a-40a7-943f-73b9fda25f34"
            },
            "attachments": {}
        },
        {
            "cell_type": "code",
            "source": [
                "SELECT \r\n",
                "    SUM(FS.Quantity) totalQty, \r\n",
                "    SUM(FS.Amount) totalAmount, \r\n",
                "    MONTH(FS.FullDate) as month, \r\n",
                "    YEAR(FS.FullDate) as year\r\n",
                "FROM FactWaste FS\r\n",
                "GROUP by ROLLUP(MONTH(FS.FullDate), YEAR(FS.FullDate))\r\n",
                "HAVING COUNT(FS.Quantity) >= 30\r\n",
                "\r\n",
                ""
            ],
            "metadata": {
                "azdata_cell_guid": "696b2d4c-f10c-4986-9321-3eb1f5c49d9f",
                "language": "sql"
            },
            "outputs": [
                {
                    "output_type": "display_data",
                    "data": {
                        "text/html": "(34 rows affected)"
                    },
                    "metadata": {}
                },
                {
                    "output_type": "display_data",
                    "data": {
                        "text/html": "Total execution time: 00:00:00.051"
                    },
                    "metadata": {}
                },
                {
                    "output_type": "execute_result",
                    "metadata": {},
                    "execution_count": 13,
                    "data": {
                        "application/vnd.dataresource+json": {
                            "schema": {
                                "fields": [
                                    {
                                        "name": "totalQty"
                                    },
                                    {
                                        "name": "totalAmount"
                                    },
                                    {
                                        "name": "month"
                                    },
                                    {
                                        "name": "year"
                                    }
                                ]
                            },
                            "data": [
                                {
                                    "totalQty": "1457",
                                    "totalAmount": "14386.96",
                                    "month": "1",
                                    "year": "2020"
                                },
                                {
                                    "totalQty": "3146",
                                    "totalAmount": "29596.02",
                                    "month": "1",
                                    "year": "NULL"
                                },
                                {
                                    "totalQty": "2383",
                                    "totalAmount": "29615.76",
                                    "month": "2",
                                    "year": "NULL"
                                },
                                {
                                    "totalQty": "1517",
                                    "totalAmount": "16612.47",
                                    "month": "3",
                                    "year": "2019"
                                },
                                {
                                    "totalQty": "1649",
                                    "totalAmount": "17226.82",
                                    "month": "3",
                                    "year": "2020"
                                },
                                {
                                    "totalQty": "3166",
                                    "totalAmount": "33839.29",
                                    "month": "3",
                                    "year": "NULL"
                                },
                                {
                                    "totalQty": "1897",
                                    "totalAmount": "13508.54",
                                    "month": "4",
                                    "year": "2019"
                                },
                                {
                                    "totalQty": "1236",
                                    "totalAmount": "15178.20",
                                    "month": "4",
                                    "year": "2020"
                                },
                                {
                                    "totalQty": "3133",
                                    "totalAmount": "28686.74",
                                    "month": "4",
                                    "year": "NULL"
                                },
                                {
                                    "totalQty": "1864",
                                    "totalAmount": "18391.60",
                                    "month": "5",
                                    "year": "2019"
                                },
                                {
                                    "totalQty": "1471",
                                    "totalAmount": "14910.84",
                                    "month": "5",
                                    "year": "2020"
                                },
                                {
                                    "totalQty": "3335",
                                    "totalAmount": "33302.44",
                                    "month": "5",
                                    "year": "NULL"
                                },
                                {
                                    "totalQty": "1421",
                                    "totalAmount": "15725.64",
                                    "month": "6",
                                    "year": "2019"
                                },
                                {
                                    "totalQty": "1403",
                                    "totalAmount": "16814.39",
                                    "month": "6",
                                    "year": "2020"
                                },
                                {
                                    "totalQty": "2824",
                                    "totalAmount": "32540.03",
                                    "month": "6",
                                    "year": "NULL"
                                },
                                {
                                    "totalQty": "1713",
                                    "totalAmount": "15708.97",
                                    "month": "7",
                                    "year": "2019"
                                },
                                {
                                    "totalQty": "1480",
                                    "totalAmount": "16442.52",
                                    "month": "7",
                                    "year": "2020"
                                },
                                {
                                    "totalQty": "3193",
                                    "totalAmount": "32151.49",
                                    "month": "7",
                                    "year": "NULL"
                                },
                                {
                                    "totalQty": "1527",
                                    "totalAmount": "16857.42",
                                    "month": "8",
                                    "year": "2019"
                                },
                                {
                                    "totalQty": "1435",
                                    "totalAmount": "13939.58",
                                    "month": "8",
                                    "year": "2020"
                                },
                                {
                                    "totalQty": "2962",
                                    "totalAmount": "30797.00",
                                    "month": "8",
                                    "year": "NULL"
                                },
                                {
                                    "totalQty": "1310",
                                    "totalAmount": "14047.58",
                                    "month": "9",
                                    "year": "2019"
                                },
                                {
                                    "totalQty": "1531",
                                    "totalAmount": "15940.12",
                                    "month": "9",
                                    "year": "2020"
                                },
                                {
                                    "totalQty": "2841",
                                    "totalAmount": "29987.70",
                                    "month": "9",
                                    "year": "NULL"
                                },
                                {
                                    "totalQty": "1345",
                                    "totalAmount": "16261.80",
                                    "month": "10",
                                    "year": "2019"
                                },
                                {
                                    "totalQty": "1559",
                                    "totalAmount": "15586.31",
                                    "month": "10",
                                    "year": "2020"
                                },
                                {
                                    "totalQty": "2904",
                                    "totalAmount": "31848.11",
                                    "month": "10",
                                    "year": "NULL"
                                },
                                {
                                    "totalQty": "1770",
                                    "totalAmount": "14435.49",
                                    "month": "11",
                                    "year": "2019"
                                },
                                {
                                    "totalQty": "1495",
                                    "totalAmount": "16305.81",
                                    "month": "11",
                                    "year": "2020"
                                },
                                {
                                    "totalQty": "3265",
                                    "totalAmount": "30741.30",
                                    "month": "11",
                                    "year": "NULL"
                                },
                                {
                                    "totalQty": "1417",
                                    "totalAmount": "15825.04",
                                    "month": "12",
                                    "year": "2019"
                                },
                                {
                                    "totalQty": "1478",
                                    "totalAmount": "14011.12",
                                    "month": "12",
                                    "year": "2020"
                                },
                                {
                                    "totalQty": "2895",
                                    "totalAmount": "29836.16",
                                    "month": "12",
                                    "year": "NULL"
                                },
                                {
                                    "totalQty": "36047",
                                    "totalAmount": "372942.04",
                                    "month": "NULL",
                                    "year": "NULL"
                                }
                            ]
                        },
                        "text/html": [
                            "<table>",
                            "<tr><th>totalQty</th><th>totalAmount</th><th>month</th><th>year</th></tr>",
                            "<tr><td>1457</td><td>14386.96</td><td>1</td><td>2020</td></tr>",
                            "<tr><td>3146</td><td>29596.02</td><td>1</td><td>NULL</td></tr>",
                            "<tr><td>2383</td><td>29615.76</td><td>2</td><td>NULL</td></tr>",
                            "<tr><td>1517</td><td>16612.47</td><td>3</td><td>2019</td></tr>",
                            "<tr><td>1649</td><td>17226.82</td><td>3</td><td>2020</td></tr>",
                            "<tr><td>3166</td><td>33839.29</td><td>3</td><td>NULL</td></tr>",
                            "<tr><td>1897</td><td>13508.54</td><td>4</td><td>2019</td></tr>",
                            "<tr><td>1236</td><td>15178.20</td><td>4</td><td>2020</td></tr>",
                            "<tr><td>3133</td><td>28686.74</td><td>4</td><td>NULL</td></tr>",
                            "<tr><td>1864</td><td>18391.60</td><td>5</td><td>2019</td></tr>",
                            "<tr><td>1471</td><td>14910.84</td><td>5</td><td>2020</td></tr>",
                            "<tr><td>3335</td><td>33302.44</td><td>5</td><td>NULL</td></tr>",
                            "<tr><td>1421</td><td>15725.64</td><td>6</td><td>2019</td></tr>",
                            "<tr><td>1403</td><td>16814.39</td><td>6</td><td>2020</td></tr>",
                            "<tr><td>2824</td><td>32540.03</td><td>6</td><td>NULL</td></tr>",
                            "<tr><td>1713</td><td>15708.97</td><td>7</td><td>2019</td></tr>",
                            "<tr><td>1480</td><td>16442.52</td><td>7</td><td>2020</td></tr>",
                            "<tr><td>3193</td><td>32151.49</td><td>7</td><td>NULL</td></tr>",
                            "<tr><td>1527</td><td>16857.42</td><td>8</td><td>2019</td></tr>",
                            "<tr><td>1435</td><td>13939.58</td><td>8</td><td>2020</td></tr>",
                            "<tr><td>2962</td><td>30797.00</td><td>8</td><td>NULL</td></tr>",
                            "<tr><td>1310</td><td>14047.58</td><td>9</td><td>2019</td></tr>",
                            "<tr><td>1531</td><td>15940.12</td><td>9</td><td>2020</td></tr>",
                            "<tr><td>2841</td><td>29987.70</td><td>9</td><td>NULL</td></tr>",
                            "<tr><td>1345</td><td>16261.80</td><td>10</td><td>2019</td></tr>",
                            "<tr><td>1559</td><td>15586.31</td><td>10</td><td>2020</td></tr>",
                            "<tr><td>2904</td><td>31848.11</td><td>10</td><td>NULL</td></tr>",
                            "<tr><td>1770</td><td>14435.49</td><td>11</td><td>2019</td></tr>",
                            "<tr><td>1495</td><td>16305.81</td><td>11</td><td>2020</td></tr>",
                            "<tr><td>3265</td><td>30741.30</td><td>11</td><td>NULL</td></tr>",
                            "<tr><td>1417</td><td>15825.04</td><td>12</td><td>2019</td></tr>",
                            "<tr><td>1478</td><td>14011.12</td><td>12</td><td>2020</td></tr>",
                            "<tr><td>2895</td><td>29836.16</td><td>12</td><td>NULL</td></tr>",
                            "<tr><td>36047</td><td>372942.04</td><td>NULL</td><td>NULL</td></tr>",
                            "</table>"
                        ]
                    }
                }
            ],
            "execution_count": 13
        },
        {
            "cell_type": "code",
            "source": [
                "SELECT \r\n",
                "    SUM(SalesAmount) AS TotalSales, \r\n",
                "    MONTH(FullDateTime) AS Month, \r\n",
                "    YEAR(FullDateTime) AS Year\r\n",
                "FROM FactSales \r\n",
                "GROUP BY CUBE (\r\n",
                "    (MONTH(FullDateTime)), \r\n",
                "    (YEAR(FullDateTime))\r\n",
                ");\r\n",
                ""
            ],
            "metadata": {
                "azdata_cell_guid": "693f28fe-215f-491e-9fd1-82c18452dde1",
                "language": "sql"
            },
            "outputs": [
                {
                    "output_type": "display_data",
                    "data": {
                        "text/html": "(41 rows affected)"
                    },
                    "metadata": {}
                },
                {
                    "output_type": "display_data",
                    "data": {
                        "text/html": "Total execution time: 00:00:00.052"
                    },
                    "metadata": {}
                },
                {
                    "output_type": "execute_result",
                    "metadata": {},
                    "execution_count": 23,
                    "data": {
                        "application/vnd.dataresource+json": {
                            "schema": {
                                "fields": [
                                    {
                                        "name": "TotalSales"
                                    },
                                    {
                                        "name": "Month"
                                    },
                                    {
                                        "name": "Year"
                                    }
                                ]
                            },
                            "data": [
                                {
                                    "TotalSales": "38346.33",
                                    "Month": "1",
                                    "Year": "2019"
                                },
                                {
                                    "TotalSales": "43130.53",
                                    "Month": "2",
                                    "Year": "2019"
                                },
                                {
                                    "TotalSales": "44723.09",
                                    "Month": "3",
                                    "Year": "2019"
                                },
                                {
                                    "TotalSales": "45800.97",
                                    "Month": "4",
                                    "Year": "2019"
                                },
                                {
                                    "TotalSales": "49309.60",
                                    "Month": "5",
                                    "Year": "2019"
                                },
                                {
                                    "TotalSales": "51790.28",
                                    "Month": "6",
                                    "Year": "2019"
                                },
                                {
                                    "TotalSales": "49879.12",
                                    "Month": "7",
                                    "Year": "2019"
                                },
                                {
                                    "TotalSales": "44089.71",
                                    "Month": "8",
                                    "Year": "2019"
                                },
                                {
                                    "TotalSales": "49122.67",
                                    "Month": "9",
                                    "Year": "2019"
                                },
                                {
                                    "TotalSales": "51557.44",
                                    "Month": "10",
                                    "Year": "2019"
                                },
                                {
                                    "TotalSales": "42370.45",
                                    "Month": "11",
                                    "Year": "2019"
                                },
                                {
                                    "TotalSales": "51503.98",
                                    "Month": "12",
                                    "Year": "2019"
                                },
                                {
                                    "TotalSales": "561624.17",
                                    "Month": "NULL",
                                    "Year": "2019"
                                },
                                {
                                    "TotalSales": "44904.64",
                                    "Month": "1",
                                    "Year": "2020"
                                },
                                {
                                    "TotalSales": "41515.86",
                                    "Month": "2",
                                    "Year": "2020"
                                },
                                {
                                    "TotalSales": "50014.08",
                                    "Month": "3",
                                    "Year": "2020"
                                },
                                {
                                    "TotalSales": "40716.01",
                                    "Month": "4",
                                    "Year": "2020"
                                },
                                {
                                    "TotalSales": "45874.19",
                                    "Month": "5",
                                    "Year": "2020"
                                },
                                {
                                    "TotalSales": "48072.58",
                                    "Month": "6",
                                    "Year": "2020"
                                },
                                {
                                    "TotalSales": "47738.53",
                                    "Month": "7",
                                    "Year": "2020"
                                },
                                {
                                    "TotalSales": "46671.33",
                                    "Month": "8",
                                    "Year": "2020"
                                },
                                {
                                    "TotalSales": "48757.58",
                                    "Month": "9",
                                    "Year": "2020"
                                },
                                {
                                    "TotalSales": "50742.18",
                                    "Month": "10",
                                    "Year": "2020"
                                },
                                {
                                    "TotalSales": "47790.71",
                                    "Month": "11",
                                    "Year": "2020"
                                },
                                {
                                    "TotalSales": "44932.00",
                                    "Month": "12",
                                    "Year": "2020"
                                },
                                {
                                    "TotalSales": "557729.69",
                                    "Month": "NULL",
                                    "Year": "2020"
                                },
                                {
                                    "TotalSales": "5711.06",
                                    "Month": "1",
                                    "Year": "2021"
                                },
                                {
                                    "TotalSales": "5711.06",
                                    "Month": "NULL",
                                    "Year": "2021"
                                },
                                {
                                    "TotalSales": "1125064.92",
                                    "Month": "NULL",
                                    "Year": "NULL"
                                },
                                {
                                    "TotalSales": "88962.03",
                                    "Month": "1",
                                    "Year": "NULL"
                                },
                                {
                                    "TotalSales": "84646.39",
                                    "Month": "2",
                                    "Year": "NULL"
                                },
                                {
                                    "TotalSales": "94737.17",
                                    "Month": "3",
                                    "Year": "NULL"
                                },
                                {
                                    "TotalSales": "86516.98",
                                    "Month": "4",
                                    "Year": "NULL"
                                },
                                {
                                    "TotalSales": "95183.79",
                                    "Month": "5",
                                    "Year": "NULL"
                                },
                                {
                                    "TotalSales": "99862.86",
                                    "Month": "6",
                                    "Year": "NULL"
                                },
                                {
                                    "TotalSales": "97617.65",
                                    "Month": "7",
                                    "Year": "NULL"
                                },
                                {
                                    "TotalSales": "90761.04",
                                    "Month": "8",
                                    "Year": "NULL"
                                },
                                {
                                    "TotalSales": "97880.25",
                                    "Month": "9",
                                    "Year": "NULL"
                                },
                                {
                                    "TotalSales": "102299.62",
                                    "Month": "10",
                                    "Year": "NULL"
                                },
                                {
                                    "TotalSales": "90161.16",
                                    "Month": "11",
                                    "Year": "NULL"
                                },
                                {
                                    "TotalSales": "96435.98",
                                    "Month": "12",
                                    "Year": "NULL"
                                }
                            ]
                        },
                        "text/html": [
                            "<table>",
                            "<tr><th>TotalSales</th><th>Month</th><th>Year</th></tr>",
                            "<tr><td>38346.33</td><td>1</td><td>2019</td></tr>",
                            "<tr><td>43130.53</td><td>2</td><td>2019</td></tr>",
                            "<tr><td>44723.09</td><td>3</td><td>2019</td></tr>",
                            "<tr><td>45800.97</td><td>4</td><td>2019</td></tr>",
                            "<tr><td>49309.60</td><td>5</td><td>2019</td></tr>",
                            "<tr><td>51790.28</td><td>6</td><td>2019</td></tr>",
                            "<tr><td>49879.12</td><td>7</td><td>2019</td></tr>",
                            "<tr><td>44089.71</td><td>8</td><td>2019</td></tr>",
                            "<tr><td>49122.67</td><td>9</td><td>2019</td></tr>",
                            "<tr><td>51557.44</td><td>10</td><td>2019</td></tr>",
                            "<tr><td>42370.45</td><td>11</td><td>2019</td></tr>",
                            "<tr><td>51503.98</td><td>12</td><td>2019</td></tr>",
                            "<tr><td>561624.17</td><td>NULL</td><td>2019</td></tr>",
                            "<tr><td>44904.64</td><td>1</td><td>2020</td></tr>",
                            "<tr><td>41515.86</td><td>2</td><td>2020</td></tr>",
                            "<tr><td>50014.08</td><td>3</td><td>2020</td></tr>",
                            "<tr><td>40716.01</td><td>4</td><td>2020</td></tr>",
                            "<tr><td>45874.19</td><td>5</td><td>2020</td></tr>",
                            "<tr><td>48072.58</td><td>6</td><td>2020</td></tr>",
                            "<tr><td>47738.53</td><td>7</td><td>2020</td></tr>",
                            "<tr><td>46671.33</td><td>8</td><td>2020</td></tr>",
                            "<tr><td>48757.58</td><td>9</td><td>2020</td></tr>",
                            "<tr><td>50742.18</td><td>10</td><td>2020</td></tr>",
                            "<tr><td>47790.71</td><td>11</td><td>2020</td></tr>",
                            "<tr><td>44932.00</td><td>12</td><td>2020</td></tr>",
                            "<tr><td>557729.69</td><td>NULL</td><td>2020</td></tr>",
                            "<tr><td>5711.06</td><td>1</td><td>2021</td></tr>",
                            "<tr><td>5711.06</td><td>NULL</td><td>2021</td></tr>",
                            "<tr><td>1125064.92</td><td>NULL</td><td>NULL</td></tr>",
                            "<tr><td>88962.03</td><td>1</td><td>NULL</td></tr>",
                            "<tr><td>84646.39</td><td>2</td><td>NULL</td></tr>",
                            "<tr><td>94737.17</td><td>3</td><td>NULL</td></tr>",
                            "<tr><td>86516.98</td><td>4</td><td>NULL</td></tr>",
                            "<tr><td>95183.79</td><td>5</td><td>NULL</td></tr>",
                            "<tr><td>99862.86</td><td>6</td><td>NULL</td></tr>",
                            "<tr><td>97617.65</td><td>7</td><td>NULL</td></tr>",
                            "<tr><td>90761.04</td><td>8</td><td>NULL</td></tr>",
                            "<tr><td>97880.25</td><td>9</td><td>NULL</td></tr>",
                            "<tr><td>102299.62</td><td>10</td><td>NULL</td></tr>",
                            "<tr><td>90161.16</td><td>11</td><td>NULL</td></tr>",
                            "<tr><td>96435.98</td><td>12</td><td>NULL</td></tr>",
                            "</table>"
                        ]
                    }
                }
            ],
            "execution_count": 23
        },
        {
            "cell_type": "markdown",
            "source": [
                "<span style=\"font-size: 11pt; font-family: Arial, sans-serif; color: rgb(0, 0, 0); background-color: transparent; font-variant-numeric: normal; font-variant-east-asian: normal; font-variant-alternates: normal; font-variant-position: normal; vertical-align: baseline; white-space-collapse: preserve;\" id=\"docs-internal-guid-54642711-7fff-5b32-31ba-55a613345a17\">List the amount of waste per month that is gifted grouped per month and year, as well as their cubed grand totals.</span>"
            ],
            "metadata": {
                "azdata_cell_guid": "356a9bda-6629-4952-ac0b-54dc80e48eeb"
            },
            "attachments": {}
        },
        {
            "cell_type": "code",
            "source": [
                "SELECT SUM(fw.Amount), MONTH(FullDate) month, YEAR(FullDate) year\r\n",
                "FROM FactWaste fw\r\n",
                "where  ActionTaken = 'gift'\r\n",
                "GROUP by cube(MONTH(FullDate), YEAR(FullDate))\r\n",
                ""
            ],
            "metadata": {
                "azdata_cell_guid": "a6b89bbc-7afc-4e9c-a4af-9c020076a62b",
                "language": "sql"
            },
            "outputs": [
                {
                    "output_type": "display_data",
                    "data": {
                        "text/html": "(41 rows affected)"
                    },
                    "metadata": {}
                },
                {
                    "output_type": "display_data",
                    "data": {
                        "text/html": "Total execution time: 00:00:00.039"
                    },
                    "metadata": {}
                },
                {
                    "output_type": "execute_result",
                    "metadata": {},
                    "execution_count": 33,
                    "data": {
                        "application/vnd.dataresource+json": {
                            "schema": {
                                "fields": [
                                    {
                                        "name": "(No column name)"
                                    },
                                    {
                                        "name": "month"
                                    },
                                    {
                                        "name": "year"
                                    }
                                ]
                            },
                            "data": [
                                {
                                    "(No column name)": "3093.88",
                                    "month": "1",
                                    "year": "2019"
                                },
                                {
                                    "(No column name)": "2179.21",
                                    "month": "2",
                                    "year": "2019"
                                },
                                {
                                    "(No column name)": "3917.03",
                                    "month": "3",
                                    "year": "2019"
                                },
                                {
                                    "(No column name)": "6278.88",
                                    "month": "4",
                                    "year": "2019"
                                },
                                {
                                    "(No column name)": "4325.23",
                                    "month": "5",
                                    "year": "2019"
                                },
                                {
                                    "(No column name)": "5919.03",
                                    "month": "6",
                                    "year": "2019"
                                },
                                {
                                    "(No column name)": "6805.74",
                                    "month": "7",
                                    "year": "2019"
                                },
                                {
                                    "(No column name)": "4062.01",
                                    "month": "8",
                                    "year": "2019"
                                },
                                {
                                    "(No column name)": "4257.26",
                                    "month": "9",
                                    "year": "2019"
                                },
                                {
                                    "(No column name)": "5028.96",
                                    "month": "10",
                                    "year": "2019"
                                },
                                {
                                    "(No column name)": "2519.10",
                                    "month": "11",
                                    "year": "2019"
                                },
                                {
                                    "(No column name)": "3365.77",
                                    "month": "12",
                                    "year": "2019"
                                },
                                {
                                    "(No column name)": "51752.10",
                                    "month": "NULL",
                                    "year": "2019"
                                },
                                {
                                    "(No column name)": "2638.47",
                                    "month": "1",
                                    "year": "2020"
                                },
                                {
                                    "(No column name)": "2777.25",
                                    "month": "2",
                                    "year": "2020"
                                },
                                {
                                    "(No column name)": "4790.67",
                                    "month": "3",
                                    "year": "2020"
                                },
                                {
                                    "(No column name)": "3253.06",
                                    "month": "4",
                                    "year": "2020"
                                },
                                {
                                    "(No column name)": "167.73",
                                    "month": "5",
                                    "year": "2020"
                                },
                                {
                                    "(No column name)": "4276.92",
                                    "month": "6",
                                    "year": "2020"
                                },
                                {
                                    "(No column name)": "1224.71",
                                    "month": "7",
                                    "year": "2020"
                                },
                                {
                                    "(No column name)": "4478.64",
                                    "month": "8",
                                    "year": "2020"
                                },
                                {
                                    "(No column name)": "5446.59",
                                    "month": "9",
                                    "year": "2020"
                                },
                                {
                                    "(No column name)": "5987.46",
                                    "month": "10",
                                    "year": "2020"
                                },
                                {
                                    "(No column name)": "4126.19",
                                    "month": "11",
                                    "year": "2020"
                                },
                                {
                                    "(No column name)": "2965.69",
                                    "month": "12",
                                    "year": "2020"
                                },
                                {
                                    "(No column name)": "42133.38",
                                    "month": "NULL",
                                    "year": "2020"
                                },
                                {
                                    "(No column name)": "775.04",
                                    "month": "1",
                                    "year": "2021"
                                },
                                {
                                    "(No column name)": "775.04",
                                    "month": "NULL",
                                    "year": "2021"
                                },
                                {
                                    "(No column name)": "94660.52",
                                    "month": "NULL",
                                    "year": "NULL"
                                },
                                {
                                    "(No column name)": "6507.39",
                                    "month": "1",
                                    "year": "NULL"
                                },
                                {
                                    "(No column name)": "4956.46",
                                    "month": "2",
                                    "year": "NULL"
                                },
                                {
                                    "(No column name)": "8707.70",
                                    "month": "3",
                                    "year": "NULL"
                                },
                                {
                                    "(No column name)": "9531.94",
                                    "month": "4",
                                    "year": "NULL"
                                },
                                {
                                    "(No column name)": "4492.96",
                                    "month": "5",
                                    "year": "NULL"
                                },
                                {
                                    "(No column name)": "10195.95",
                                    "month": "6",
                                    "year": "NULL"
                                },
                                {
                                    "(No column name)": "8030.45",
                                    "month": "7",
                                    "year": "NULL"
                                },
                                {
                                    "(No column name)": "8540.65",
                                    "month": "8",
                                    "year": "NULL"
                                },
                                {
                                    "(No column name)": "9703.85",
                                    "month": "9",
                                    "year": "NULL"
                                },
                                {
                                    "(No column name)": "11016.42",
                                    "month": "10",
                                    "year": "NULL"
                                },
                                {
                                    "(No column name)": "6645.29",
                                    "month": "11",
                                    "year": "NULL"
                                },
                                {
                                    "(No column name)": "6331.46",
                                    "month": "12",
                                    "year": "NULL"
                                }
                            ]
                        },
                        "text/html": [
                            "<table>",
                            "<tr><th>(No column name)</th><th>month</th><th>year</th></tr>",
                            "<tr><td>3093.88</td><td>1</td><td>2019</td></tr>",
                            "<tr><td>2179.21</td><td>2</td><td>2019</td></tr>",
                            "<tr><td>3917.03</td><td>3</td><td>2019</td></tr>",
                            "<tr><td>6278.88</td><td>4</td><td>2019</td></tr>",
                            "<tr><td>4325.23</td><td>5</td><td>2019</td></tr>",
                            "<tr><td>5919.03</td><td>6</td><td>2019</td></tr>",
                            "<tr><td>6805.74</td><td>7</td><td>2019</td></tr>",
                            "<tr><td>4062.01</td><td>8</td><td>2019</td></tr>",
                            "<tr><td>4257.26</td><td>9</td><td>2019</td></tr>",
                            "<tr><td>5028.96</td><td>10</td><td>2019</td></tr>",
                            "<tr><td>2519.10</td><td>11</td><td>2019</td></tr>",
                            "<tr><td>3365.77</td><td>12</td><td>2019</td></tr>",
                            "<tr><td>51752.10</td><td>NULL</td><td>2019</td></tr>",
                            "<tr><td>2638.47</td><td>1</td><td>2020</td></tr>",
                            "<tr><td>2777.25</td><td>2</td><td>2020</td></tr>",
                            "<tr><td>4790.67</td><td>3</td><td>2020</td></tr>",
                            "<tr><td>3253.06</td><td>4</td><td>2020</td></tr>",
                            "<tr><td>167.73</td><td>5</td><td>2020</td></tr>",
                            "<tr><td>4276.92</td><td>6</td><td>2020</td></tr>",
                            "<tr><td>1224.71</td><td>7</td><td>2020</td></tr>",
                            "<tr><td>4478.64</td><td>8</td><td>2020</td></tr>",
                            "<tr><td>5446.59</td><td>9</td><td>2020</td></tr>",
                            "<tr><td>5987.46</td><td>10</td><td>2020</td></tr>",
                            "<tr><td>4126.19</td><td>11</td><td>2020</td></tr>",
                            "<tr><td>2965.69</td><td>12</td><td>2020</td></tr>",
                            "<tr><td>42133.38</td><td>NULL</td><td>2020</td></tr>",
                            "<tr><td>775.04</td><td>1</td><td>2021</td></tr>",
                            "<tr><td>775.04</td><td>NULL</td><td>2021</td></tr>",
                            "<tr><td>94660.52</td><td>NULL</td><td>NULL</td></tr>",
                            "<tr><td>6507.39</td><td>1</td><td>NULL</td></tr>",
                            "<tr><td>4956.46</td><td>2</td><td>NULL</td></tr>",
                            "<tr><td>8707.70</td><td>3</td><td>NULL</td></tr>",
                            "<tr><td>9531.94</td><td>4</td><td>NULL</td></tr>",
                            "<tr><td>4492.96</td><td>5</td><td>NULL</td></tr>",
                            "<tr><td>10195.95</td><td>6</td><td>NULL</td></tr>",
                            "<tr><td>8030.45</td><td>7</td><td>NULL</td></tr>",
                            "<tr><td>8540.65</td><td>8</td><td>NULL</td></tr>",
                            "<tr><td>9703.85</td><td>9</td><td>NULL</td></tr>",
                            "<tr><td>11016.42</td><td>10</td><td>NULL</td></tr>",
                            "<tr><td>6645.29</td><td>11</td><td>NULL</td></tr>",
                            "<tr><td>6331.46</td><td>12</td><td>NULL</td></tr>",
                            "</table>"
                        ]
                    }
                }
            ],
            "execution_count": 33
        },
        {
            "cell_type": "markdown",
            "source": [
                "<span style=\"font-size: 11pt; font-family: Arial, sans-serif; color: rgb(0, 0, 0); background-color: transparent; font-variant-numeric: normal; font-variant-east-asian: normal; font-variant-alternates: normal; font-variant-position: normal; vertical-align: baseline; white-space-collapse: preserve;\" id=\"docs-internal-guid-71fd4914-7fff-74d0-d4af-efa6de2e7fc5\">What is the amount of waste and the quantity of waste per month and year when the quantity of waste is at least 30, as well as their cubed grand total</span>"
            ],
            "metadata": {
                "azdata_cell_guid": "531c31dd-4487-4975-bb9c-a2a754be7f2a"
            },
            "attachments": {}
        },
        {
            "cell_type": "code",
            "source": [
                "SELECT COUNT(Amount) totalAmount, SUM(Quantity) totalQty, MONTH(FullDate) month, YEAR(FullDate) year\r\n",
                "FROM FactWaste\r\n",
                "GROUP by cube(MONTH(FullDate), YEAR(FullDate))\r\n",
                "HAVING COUNT(Amount) >= 30\r\n",
                ""
            ],
            "metadata": {
                "azdata_cell_guid": "76b51e25-9fb2-40bb-877c-e57306c7e7d0",
                "language": "sql"
            },
            "outputs": [
                {
                    "output_type": "display_data",
                    "data": {
                        "text/html": "(36 rows affected)"
                    },
                    "metadata": {}
                },
                {
                    "output_type": "display_data",
                    "data": {
                        "text/html": "Total execution time: 00:00:00.055"
                    },
                    "metadata": {}
                },
                {
                    "output_type": "execute_result",
                    "metadata": {},
                    "execution_count": 37,
                    "data": {
                        "application/vnd.dataresource+json": {
                            "schema": {
                                "fields": [
                                    {
                                        "name": "totalAmount"
                                    },
                                    {
                                        "name": "totalQty"
                                    },
                                    {
                                        "name": "month"
                                    },
                                    {
                                        "name": "year"
                                    }
                                ]
                            },
                            "data": [
                                {
                                    "totalAmount": "31",
                                    "totalQty": "1517",
                                    "month": "3",
                                    "year": "2019"
                                },
                                {
                                    "totalAmount": "30",
                                    "totalQty": "1897",
                                    "month": "4",
                                    "year": "2019"
                                },
                                {
                                    "totalAmount": "32",
                                    "totalQty": "1864",
                                    "month": "5",
                                    "year": "2019"
                                },
                                {
                                    "totalAmount": "30",
                                    "totalQty": "1421",
                                    "month": "6",
                                    "year": "2019"
                                },
                                {
                                    "totalAmount": "31",
                                    "totalQty": "1713",
                                    "month": "7",
                                    "year": "2019"
                                },
                                {
                                    "totalAmount": "31",
                                    "totalQty": "1527",
                                    "month": "8",
                                    "year": "2019"
                                },
                                {
                                    "totalAmount": "30",
                                    "totalQty": "1310",
                                    "month": "9",
                                    "year": "2019"
                                },
                                {
                                    "totalAmount": "31",
                                    "totalQty": "1345",
                                    "month": "10",
                                    "year": "2019"
                                },
                                {
                                    "totalAmount": "30",
                                    "totalQty": "1770",
                                    "month": "11",
                                    "year": "2019"
                                },
                                {
                                    "totalAmount": "31",
                                    "totalQty": "1417",
                                    "month": "12",
                                    "year": "2019"
                                },
                                {
                                    "totalAmount": "361",
                                    "totalQty": "18455",
                                    "month": "NULL",
                                    "year": "2019"
                                },
                                {
                                    "totalAmount": "31",
                                    "totalQty": "1457",
                                    "month": "1",
                                    "year": "2020"
                                },
                                {
                                    "totalAmount": "31",
                                    "totalQty": "1649",
                                    "month": "3",
                                    "year": "2020"
                                },
                                {
                                    "totalAmount": "30",
                                    "totalQty": "1236",
                                    "month": "4",
                                    "year": "2020"
                                },
                                {
                                    "totalAmount": "31",
                                    "totalQty": "1471",
                                    "month": "5",
                                    "year": "2020"
                                },
                                {
                                    "totalAmount": "30",
                                    "totalQty": "1403",
                                    "month": "6",
                                    "year": "2020"
                                },
                                {
                                    "totalAmount": "31",
                                    "totalQty": "1480",
                                    "month": "7",
                                    "year": "2020"
                                },
                                {
                                    "totalAmount": "31",
                                    "totalQty": "1435",
                                    "month": "8",
                                    "year": "2020"
                                },
                                {
                                    "totalAmount": "30",
                                    "totalQty": "1531",
                                    "month": "9",
                                    "year": "2020"
                                },
                                {
                                    "totalAmount": "31",
                                    "totalQty": "1559",
                                    "month": "10",
                                    "year": "2020"
                                },
                                {
                                    "totalAmount": "30",
                                    "totalQty": "1495",
                                    "month": "11",
                                    "year": "2020"
                                },
                                {
                                    "totalAmount": "31",
                                    "totalQty": "1478",
                                    "month": "12",
                                    "year": "2020"
                                },
                                {
                                    "totalAmount": "366",
                                    "totalQty": "17354",
                                    "month": "NULL",
                                    "year": "2020"
                                },
                                {
                                    "totalAmount": "731",
                                    "totalQty": "36047",
                                    "month": "NULL",
                                    "year": "NULL"
                                },
                                {
                                    "totalAmount": "61",
                                    "totalQty": "3146",
                                    "month": "1",
                                    "year": "NULL"
                                },
                                {
                                    "totalAmount": "57",
                                    "totalQty": "2383",
                                    "month": "2",
                                    "year": "NULL"
                                },
                                {
                                    "totalAmount": "62",
                                    "totalQty": "3166",
                                    "month": "3",
                                    "year": "NULL"
                                },
                                {
                                    "totalAmount": "60",
                                    "totalQty": "3133",
                                    "month": "4",
                                    "year": "NULL"
                                },
                                {
                                    "totalAmount": "63",
                                    "totalQty": "3335",
                                    "month": "5",
                                    "year": "NULL"
                                },
                                {
                                    "totalAmount": "60",
                                    "totalQty": "2824",
                                    "month": "6",
                                    "year": "NULL"
                                },
                                {
                                    "totalAmount": "62",
                                    "totalQty": "3193",
                                    "month": "7",
                                    "year": "NULL"
                                },
                                {
                                    "totalAmount": "62",
                                    "totalQty": "2962",
                                    "month": "8",
                                    "year": "NULL"
                                },
                                {
                                    "totalAmount": "60",
                                    "totalQty": "2841",
                                    "month": "9",
                                    "year": "NULL"
                                },
                                {
                                    "totalAmount": "62",
                                    "totalQty": "2904",
                                    "month": "10",
                                    "year": "NULL"
                                },
                                {
                                    "totalAmount": "60",
                                    "totalQty": "3265",
                                    "month": "11",
                                    "year": "NULL"
                                },
                                {
                                    "totalAmount": "62",
                                    "totalQty": "2895",
                                    "month": "12",
                                    "year": "NULL"
                                }
                            ]
                        },
                        "text/html": [
                            "<table>",
                            "<tr><th>totalAmount</th><th>totalQty</th><th>month</th><th>year</th></tr>",
                            "<tr><td>31</td><td>1517</td><td>3</td><td>2019</td></tr>",
                            "<tr><td>30</td><td>1897</td><td>4</td><td>2019</td></tr>",
                            "<tr><td>32</td><td>1864</td><td>5</td><td>2019</td></tr>",
                            "<tr><td>30</td><td>1421</td><td>6</td><td>2019</td></tr>",
                            "<tr><td>31</td><td>1713</td><td>7</td><td>2019</td></tr>",
                            "<tr><td>31</td><td>1527</td><td>8</td><td>2019</td></tr>",
                            "<tr><td>30</td><td>1310</td><td>9</td><td>2019</td></tr>",
                            "<tr><td>31</td><td>1345</td><td>10</td><td>2019</td></tr>",
                            "<tr><td>30</td><td>1770</td><td>11</td><td>2019</td></tr>",
                            "<tr><td>31</td><td>1417</td><td>12</td><td>2019</td></tr>",
                            "<tr><td>361</td><td>18455</td><td>NULL</td><td>2019</td></tr>",
                            "<tr><td>31</td><td>1457</td><td>1</td><td>2020</td></tr>",
                            "<tr><td>31</td><td>1649</td><td>3</td><td>2020</td></tr>",
                            "<tr><td>30</td><td>1236</td><td>4</td><td>2020</td></tr>",
                            "<tr><td>31</td><td>1471</td><td>5</td><td>2020</td></tr>",
                            "<tr><td>30</td><td>1403</td><td>6</td><td>2020</td></tr>",
                            "<tr><td>31</td><td>1480</td><td>7</td><td>2020</td></tr>",
                            "<tr><td>31</td><td>1435</td><td>8</td><td>2020</td></tr>",
                            "<tr><td>30</td><td>1531</td><td>9</td><td>2020</td></tr>",
                            "<tr><td>31</td><td>1559</td><td>10</td><td>2020</td></tr>",
                            "<tr><td>30</td><td>1495</td><td>11</td><td>2020</td></tr>",
                            "<tr><td>31</td><td>1478</td><td>12</td><td>2020</td></tr>",
                            "<tr><td>366</td><td>17354</td><td>NULL</td><td>2020</td></tr>",
                            "<tr><td>731</td><td>36047</td><td>NULL</td><td>NULL</td></tr>",
                            "<tr><td>61</td><td>3146</td><td>1</td><td>NULL</td></tr>",
                            "<tr><td>57</td><td>2383</td><td>2</td><td>NULL</td></tr>",
                            "<tr><td>62</td><td>3166</td><td>3</td><td>NULL</td></tr>",
                            "<tr><td>60</td><td>3133</td><td>4</td><td>NULL</td></tr>",
                            "<tr><td>63</td><td>3335</td><td>5</td><td>NULL</td></tr>",
                            "<tr><td>60</td><td>2824</td><td>6</td><td>NULL</td></tr>",
                            "<tr><td>62</td><td>3193</td><td>7</td><td>NULL</td></tr>",
                            "<tr><td>62</td><td>2962</td><td>8</td><td>NULL</td></tr>",
                            "<tr><td>60</td><td>2841</td><td>9</td><td>NULL</td></tr>",
                            "<tr><td>62</td><td>2904</td><td>10</td><td>NULL</td></tr>",
                            "<tr><td>60</td><td>3265</td><td>11</td><td>NULL</td></tr>",
                            "<tr><td>62</td><td>2895</td><td>12</td><td>NULL</td></tr>",
                            "</table>"
                        ]
                    }
                }
            ],
            "execution_count": 37
        },
        {
            "cell_type": "markdown",
            "source": [
                "<span style=\"font-size: 11pt; font-family: Arial, sans-serif; color: rgb(0, 0, 0); background-color: transparent; font-variant-numeric: normal; font-variant-east-asian: normal; font-variant-alternates: normal; font-variant-position: normal; vertical-align: baseline; white-space-collapse: preserve;\" id=\"docs-internal-guid-03c531e5-7fff-09da-6327-3015643b9e38\">List the amount of waste per month that is gifted grouped per month and year, as well as their cubed grand totals using grouping sets</span>"
            ],
            "metadata": {
                "language": "sql",
                "azdata_cell_guid": "3f0a1621-9004-41a2-b3e5-f3910ab23274"
            },
            "attachments": {}
        },
        {
            "cell_type": "code",
            "source": [
                "SELECT SUM(fw.Amount) watse, MONTH(FullDate) month, YEAR(FullDate) year\r\n",
                "FROM FactWaste fw\r\n",
                "where  ActionTaken = 'gift'\r\n",
                " Group by GROUPING SETS(cube(MONTH(FullDate), YEAR(FullDate)), ROLLUP(MONTH(FullDate), YEAR(FullDate)))\r\n",
                " \r\n",
                ""
            ],
            "metadata": {
                "azdata_cell_guid": "71af1c3f-bd72-47f6-b7ea-b73f19ce3a09",
                "language": "sql"
            },
            "outputs": [
{
    "output_type": "display_data",
    "data": {
        "text/html": "(79 rows affected)"
    },
    "metadata": {}
}, {
    "output_type": "display_data",
    "data": {
        "text/html": "Total execution time: 00:00:00.061"
    },
    "metadata": {}
}, {
    "output_type": "execute_result",
    "metadata": {},
    "execution_count": 39,
    "data": {
        "application/vnd.dataresource+json": {
            "schema": {
                "fields": [
                    {
                        "name": "watse"
                    },
                    {
                        "name": "month"
                    },
                    {
                        "name": "year"
                    }
                ]
            },
            "data": [
                {
                    "watse": "3093.88",
                    "month": "1",
                    "year": "2019"
                },
                {
                    "watse": "2179.21",
                    "month": "2",
                    "year": "2019"
                },
                {
                    "watse": "3917.03",
                    "month": "3",
                    "year": "2019"
                },
                {
                    "watse": "6278.88",
                    "month": "4",
                    "year": "2019"
                },
                {
                    "watse": "4325.23",
                    "month": "5",
                    "year": "2019"
                },
                {
                    "watse": "5919.03",
                    "month": "6",
                    "year": "2019"
                },
                {
                    "watse": "6805.74",
                    "month": "7",
                    "year": "2019"
                },
                {
                    "watse": "4062.01",
                    "month": "8",
                    "year": "2019"
                },
                {
                    "watse": "4257.26",
                    "month": "9",
                    "year": "2019"
                },
                {
                    "watse": "5028.96",
                    "month": "10",
                    "year": "2019"
                },
                {
                    "watse": "2519.10",
                    "month": "11",
                    "year": "2019"
                },
                {
                    "watse": "3365.77",
                    "month": "12",
                    "year": "2019"
                },
                {
                    "watse": "51752.10",
                    "month": "NULL",
                    "year": "2019"
                },
                {
                    "watse": "2638.47",
                    "month": "1",
                    "year": "2020"
                },
                {
                    "watse": "2777.25",
                    "month": "2",
                    "year": "2020"
                },
                {
                    "watse": "4790.67",
                    "month": "3",
                    "year": "2020"
                },
                {
                    "watse": "3253.06",
                    "month": "4",
                    "year": "2020"
                },
                {
                    "watse": "167.73",
                    "month": "5",
                    "year": "2020"
                },
                {
                    "watse": "4276.92",
                    "month": "6",
                    "year": "2020"
                },
                {
                    "watse": "1224.71",
                    "month": "7",
                    "year": "2020"
                },
                {
                    "watse": "4478.64",
                    "month": "8",
                    "year": "2020"
                },
                {
                    "watse": "5446.59",
                    "month": "9",
                    "year": "2020"
                },
                {
                    "watse": "5987.46",
                    "month": "10",
                    "year": "2020"
                },
                {
                    "watse": "4126.19",
                    "month": "11",
                    "year": "2020"
                },
                {
                    "watse": "2965.69",
                    "month": "12",
                    "year": "2020"
                },
                {
                    "watse": "42133.38",
                    "month": "NULL",
                    "year": "2020"
                },
                {
                    "watse": "775.04",
                    "month": "1",
                    "year": "2021"
                },
                {
                    "watse": "775.04",
                    "month": "NULL",
                    "year": "2021"
                },
                {
                    "watse": "94660.52",
                    "month": "NULL",
                    "year": "NULL"
                },
                {
                    "watse": "3093.88",
                    "month": "1",
                    "year": "2019"
                },
                {
                    "watse": "2638.47",
                    "month": "1",
                    "year": "2020"
                },
                {
                    "watse": "775.04",
                    "month": "1",
                    "year": "2021"
                },
                {
                    "watse": "6507.39",
                    "month": "1",
                    "year": "NULL"
                },
                {
                    "watse": "2179.21",
                    "month": "2",
                    "year": "2019"
                },
                {
                    "watse": "2777.25",
                    "month": "2",
                    "year": "2020"
                },
                {
                    "watse": "4956.46",
                    "month": "2",
                    "year": "NULL"
                },
                {
                    "watse": "3917.03",
                    "month": "3",
                    "year": "2019"
                },
                {
                    "watse": "4790.67",
                    "month": "3",
                    "year": "2020"
                },
                {
                    "watse": "8707.70",
                    "month": "3",
                    "year": "NULL"
                },
                {
                    "watse": "6278.88",
                    "month": "4",
                    "year": "2019"
                },
                {
                    "watse": "3253.06",
                    "month": "4",
                    "year": "2020"
                },
                {
                    "watse": "9531.94",
                    "month": "4",
                    "year": "NULL"
                },
                {
                    "watse": "4325.23",
                    "month": "5",
                    "year": "2019"
                },
                {
                    "watse": "167.73",
                    "month": "5",
                    "year": "2020"
                },
                {
                    "watse": "4492.96",
                    "month": "5",
                    "year": "NULL"
                },
                {
                    "watse": "5919.03",
                    "month": "6",
                    "year": "2019"
                },
                {
                    "watse": "4276.92",
                    "month": "6",
                    "year": "2020"
                },
                {
                    "watse": "10195.95",
                    "month": "6",
                    "year": "NULL"
                },
                {
                    "watse": "6805.74",
                    "month": "7",
                    "year": "2019"
                },
                {
                    "watse": "1224.71",
                    "month": "7",
                    "year": "2020"
                },
                {
                    "watse": "8030.45",
                    "month": "7",
                    "year": "NULL"
                },
                {
                    "watse": "4062.01",
                    "month": "8",
                    "year": "2019"
                },
                {
                    "watse": "4478.64",
                    "month": "8",
                    "year": "2020"
                },
                {
                    "watse": "8540.65",
                    "month": "8",
                    "year": "NULL"
                },
                {
                    "watse": "4257.26",
                    "month": "9",
                    "year": "2019"
                },
                {
                    "watse": "5446.59",
                    "month": "9",
                    "year": "2020"
                },
                {
                    "watse": "9703.85",
                    "month": "9",
                    "year": "NULL"
                },
                {
                    "watse": "5028.96",
                    "month": "10",
                    "year": "2019"
                },
                {
                    "watse": "5987.46",
                    "month": "10",
                    "year": "2020"
                },
                {
                    "watse": "11016.42",
                    "month": "10",
                    "year": "NULL"
                },
                {
                    "watse": "2519.10",
                    "month": "11",
                    "year": "2019"
                },
                {
                    "watse": "4126.19",
                    "month": "11",
                    "year": "2020"
                },
                {
                    "watse": "6645.29",
                    "month": "11",
                    "year": "NULL"
                },
                {
                    "watse": "3365.77",
                    "month": "12",
                    "year": "2019"
                },
                {
                    "watse": "2965.69",
                    "month": "12",
                    "year": "2020"
                },
                {
                    "watse": "6331.46",
                    "month": "12",
                    "year": "NULL"
                },
                {
                    "watse": "94660.52",
                    "month": "NULL",
                    "year": "NULL"
                },
                {
                    "watse": "6507.39",
                    "month": "1",
                    "year": "NULL"
                },
                {
                    "watse": "4956.46",
                    "month": "2",
                    "year": "NULL"
                },
                {
                    "watse": "8707.70",
                    "month": "3",
                    "year": "NULL"
                },
                {
                    "watse": "9531.94",
                    "month": "4",
                    "year": "NULL"
                },
                {
                    "watse": "4492.96",
                    "month": "5",
                    "year": "NULL"
                },
                {
                    "watse": "10195.95",
                    "month": "6",
                    "year": "NULL"
                },
                {
                    "watse": "8030.45",
                    "month": "7",
                    "year": "NULL"
                },
                {
                    "watse": "8540.65",
                    "month": "8",
                    "year": "NULL"
                },
                {
                    "watse": "9703.85",
                    "month": "9",
                    "year": "NULL"
                },
                {
                    "watse": "11016.42",
                    "month": "10",
                    "year": "NULL"
                },
                {
                    "watse": "6645.29",
                    "month": "11",
                    "year": "NULL"
                },
                {
                    "watse": "6331.46",
                    "month": "12",
                    "year": "NULL"
                }
            ]
        },
        "text/html": [
            "<table>",
            "<tr><th>watse</th><th>month</th><th>year</th></tr>",
            "<tr><td>3093.88</td><td>1</td><td>2019</td></tr>",
            "<tr><td>2179.21</td><td>2</td><td>2019</td></tr>",
            "<tr><td>3917.03</td><td>3</td><td>2019</td></tr>",
            "<tr><td>6278.88</td><td>4</td><td>2019</td></tr>",
            "<tr><td>4325.23</td><td>5</td><td>2019</td></tr>",
            "<tr><td>5919.03</td><td>6</td><td>2019</td></tr>",
            "<tr><td>6805.74</td><td>7</td><td>2019</td></tr>",
            "<tr><td>4062.01</td><td>8</td><td>2019</td></tr>",
            "<tr><td>4257.26</td><td>9</td><td>2019</td></tr>",
            "<tr><td>5028.96</td><td>10</td><td>2019</td></tr>",
            "<tr><td>2519.10</td><td>11</td><td>2019</td></tr>",
            "<tr><td>3365.77</td><td>12</td><td>2019</td></tr>",
            "<tr><td>51752.10</td><td>NULL</td><td>2019</td></tr>",
            "<tr><td>2638.47</td><td>1</td><td>2020</td></tr>",
            "<tr><td>2777.25</td><td>2</td><td>2020</td></tr>",
            "<tr><td>4790.67</td><td>3</td><td>2020</td></tr>",
            "<tr><td>3253.06</td><td>4</td><td>2020</td></tr>",
            "<tr><td>167.73</td><td>5</td><td>2020</td></tr>",
            "<tr><td>4276.92</td><td>6</td><td>2020</td></tr>",
            "<tr><td>1224.71</td><td>7</td><td>2020</td></tr>",
            "<tr><td>4478.64</td><td>8</td><td>2020</td></tr>",
            "<tr><td>5446.59</td><td>9</td><td>2020</td></tr>",
            "<tr><td>5987.46</td><td>10</td><td>2020</td></tr>",
            "<tr><td>4126.19</td><td>11</td><td>2020</td></tr>",
            "<tr><td>2965.69</td><td>12</td><td>2020</td></tr>",
            "<tr><td>42133.38</td><td>NULL</td><td>2020</td></tr>",
            "<tr><td>775.04</td><td>1</td><td>2021</td></tr>",
            "<tr><td>775.04</td><td>NULL</td><td>2021</td></tr>",
            "<tr><td>94660.52</td><td>NULL</td><td>NULL</td></tr>",
            "<tr><td>3093.88</td><td>1</td><td>2019</td></tr>",
            "<tr><td>2638.47</td><td>1</td><td>2020</td></tr>",
            "<tr><td>775.04</td><td>1</td><td>2021</td></tr>",
            "<tr><td>6507.39</td><td>1</td><td>NULL</td></tr>",
            "<tr><td>2179.21</td><td>2</td><td>2019</td></tr>",
            "<tr><td>2777.25</td><td>2</td><td>2020</td></tr>",
            "<tr><td>4956.46</td><td>2</td><td>NULL</td></tr>",
            "<tr><td>3917.03</td><td>3</td><td>2019</td></tr>",
            "<tr><td>4790.67</td><td>3</td><td>2020</td></tr>",
            "<tr><td>8707.70</td><td>3</td><td>NULL</td></tr>",
            "<tr><td>6278.88</td><td>4</td><td>2019</td></tr>",
            "<tr><td>3253.06</td><td>4</td><td>2020</td></tr>",
            "<tr><td>9531.94</td><td>4</td><td>NULL</td></tr>",
            "<tr><td>4325.23</td><td>5</td><td>2019</td></tr>",
            "<tr><td>167.73</td><td>5</td><td>2020</td></tr>",
            "<tr><td>4492.96</td><td>5</td><td>NULL</td></tr>",
            "<tr><td>5919.03</td><td>6</td><td>2019</td></tr>",
            "<tr><td>4276.92</td><td>6</td><td>2020</td></tr>",
            "<tr><td>10195.95</td><td>6</td><td>NULL</td></tr>",
            "<tr><td>6805.74</td><td>7</td><td>2019</td></tr>",
            "<tr><td>1224.71</td><td>7</td><td>2020</td></tr>",
            "<tr><td>8030.45</td><td>7</td><td>NULL</td></tr>",
            "<tr><td>4062.01</td><td>8</td><td>2019</td></tr>",
            "<tr><td>4478.64</td><td>8</td><td>2020</td></tr>",
            "<tr><td>8540.65</td><td>8</td><td>NULL</td></tr>",
            "<tr><td>4257.26</td><td>9</td><td>2019</td></tr>",
            "<tr><td>5446.59</td><td>9</td><td>2020</td></tr>",
            "<tr><td>9703.85</td><td>9</td><td>NULL</td></tr>",
            "<tr><td>5028.96</td><td>10</td><td>2019</td></tr>",
            "<tr><td>5987.46</td><td>10</td><td>2020</td></tr>",
            "<tr><td>11016.42</td><td>10</td><td>NULL</td></tr>",
            "<tr><td>2519.10</td><td>11</td><td>2019</td></tr>",
            "<tr><td>4126.19</td><td>11</td><td>2020</td></tr>",
            "<tr><td>6645.29</td><td>11</td><td>NULL</td></tr>",
            "<tr><td>3365.77</td><td>12</td><td>2019</td></tr>",
            "<tr><td>2965.69</td><td>12</td><td>2020</td></tr>",
            "<tr><td>6331.46</td><td>12</td><td>NULL</td></tr>",
            "<tr><td>94660.52</td><td>NULL</td><td>NULL</td></tr>",
            "<tr><td>6507.39</td><td>1</td><td>NULL</td></tr>",
            "<tr><td>4956.46</td><td>2</td><td>NULL</td></tr>",
            "<tr><td>8707.70</td><td>3</td><td>NULL</td></tr>",
            "<tr><td>9531.94</td><td>4</td><td>NULL</td></tr>",
            "<tr><td>4492.96</td><td>5</td><td>NULL</td></tr>",
            "<tr><td>10195.95</td><td>6</td><td>NULL</td></tr>",
            "<tr><td>8030.45</td><td>7</td><td>NULL</td></tr>",
            "<tr><td>8540.65</td><td>8</td><td>NULL</td></tr>",
            "<tr><td>9703.85</td><td>9</td><td>NULL</td></tr>",
            "<tr><td>11016.42</td><td>10</td><td>NULL</td></tr>",
            "<tr><td>6645.29</td><td>11</td><td>NULL</td></tr>",
            "<tr><td>6331.46</td><td>12</td><td>NULL</td></tr>",
            "</table>"
        ]
    }
}
],
            "execution_count": 39
        }
    ]
}