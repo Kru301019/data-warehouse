{
    "metadata": {
        "kernelspec": {
            "name": "SQL",
            "display_name": "SQL",
            "language": "sql"
        },
        "language_info": {
            "name": "sql",
            "version": ""
        }
    },
    "nbformat_minor": 2,
    "nbformat": 4,
    "cells": [
        {
            "cell_type": "code",
            "source": [
                "SELECT  DISTINCT  ProductType\r\n",
                "FROM DimProduct"
            ],
            "metadata": {
                "azdata_cell_guid": "3cdb073e-c242-4f9a-aeb9-62d2f30a10b9",
                "language": "sql",
                "tags": [
                    "hide_input"
                ]
            },
            "outputs": [
                {
                    "output_type": "display_data",
                    "data": {
                        "text/html": "(14 rows affected)"
                    },
                    "metadata": {}
                },
                {
                    "output_type": "display_data",
                    "data": {
                        "text/html": "Total execution time: 00:00:00.060"
                    },
                    "metadata": {}
                },
                {
                    "output_type": "execute_result",
                    "execution_count": 5,
                    "data": {
                        "application/vnd.dataresource+json": {
                            "schema": {
                                "fields": [
                                    {
                                        "name": "ProductType"
                                    }
                                ]
                            },
                            "data": [
                                {
                                    "ProductType": "Bread"
                                },
                                {
                                    "ProductType": "Bun"
                                },
                                {
                                    "ProductType": "Croissant"
                                },
                                {
                                    "ProductType": "Danish"
                                },
                                {
                                    "ProductType": "Filled"
                                },
                                {
                                    "ProductType": "Flatbread"
                                },
                                {
                                    "ProductType": "Iced"
                                },
                                {
                                    "ProductType": "Loaf"
                                },
                                {
                                    "ProductType": "Pancake"
                                },
                                {
                                    "ProductType": "Savoury Bagel"
                                },
                                {
                                    "ProductType": "Savoury pie"
                                },
                                {
                                    "ProductType": "Sweet Bagel"
                                },
                                {
                                    "ProductType": "Sweet pie"
                                },
                                {
                                    "ProductType": "Tart"
                                }
                            ]
                        },
                        "text/html": "<table><tr><th>ProductType</th></tr><tr><td>Bread</td></tr><tr><td>Bun</td></tr><tr><td>Croissant</td></tr><tr><td>Danish</td></tr><tr><td>Filled</td></tr><tr><td>Flatbread</td></tr><tr><td>Iced</td></tr><tr><td>Loaf</td></tr><tr><td>Pancake</td></tr><tr><td>Savoury Bagel</td></tr><tr><td>Savoury pie</td></tr><tr><td>Sweet Bagel</td></tr><tr><td>Sweet pie</td></tr><tr><td>Tart</td></tr></table>"
                    },
                    "metadata": {}
                }
            ],
            "execution_count": 5
        },
        {
            "cell_type": "code",
            "source": [
                "SELECT ProductType, ProductName, CategoryID\r\n",
                "FROM DimProduct"
            ],
            "metadata": {
                "language": "sql",
                "azdata_cell_guid": "7bbbc3f8-3fb9-441e-9bce-5286433ebc58"
            },
            "outputs": [
                {
                    "output_type": "display_data",
                    "data": {
                        "text/html": "(51 rows affected)"
                    },
                    "metadata": {}
                },
                {
                    "output_type": "display_data",
                    "data": {
                        "text/html": "Total execution time: 00:00:00.033"
                    },
                    "metadata": {}
                },
                {
                    "output_type": "execute_result",
                    "execution_count": 8,
                    "data": {
                        "application/vnd.dataresource+json": {
                            "schema": {
                                "fields": [
                                    {
                                        "name": "ProductType"
                                    },
                                    {
                                        "name": "ProductName"
                                    },
                                    {
                                        "name": "CategoryID"
                                    }
                                ]
                            },
                            "data": [
                                {
                                    "ProductType": "Pancake",
                                    "ProductName": "Griddle scone",
                                    "CategoryID": "1"
                                },
                                {
                                    "ProductType": "Pancake",
                                    "ProductName": "Crumpet",
                                    "CategoryID": "1"
                                },
                                {
                                    "ProductType": "Pancake",
                                    "ProductName": "Staffordshire oatcake",
                                    "CategoryID": "1"
                                },
                                {
                                    "ProductType": "Bread",
                                    "ProductName": "Barley bread",
                                    "CategoryID": "1"
                                },
                                {
                                    "ProductType": "Bread",
                                    "ProductName": "Rowie",
                                    "CategoryID": "1"
                                },
                                {
                                    "ProductType": "Bread",
                                    "ProductName": "Cockle bread",
                                    "CategoryID": "1"
                                },
                                {
                                    "ProductType": "Loaf",
                                    "ProductName": "Cottage loaf",
                                    "CategoryID": "1"
                                },
                                {
                                    "ProductType": "Loaf",
                                    "ProductName": "Manchet",
                                    "CategoryID": "1"
                                },
                                {
                                    "ProductType": "Loaf",
                                    "ProductName": "Milk roll",
                                    "CategoryID": "1"
                                },
                                {
                                    "ProductType": "Loaf",
                                    "ProductName": "Pan loaf",
                                    "CategoryID": "1"
                                },
                                {
                                    "ProductType": "Loaf",
                                    "ProductName": "Plain loaf",
                                    "CategoryID": "1"
                                },
                                {
                                    "ProductType": "Bun",
                                    "ProductName": "Barm cake",
                                    "CategoryID": "1"
                                },
                                {
                                    "ProductType": "Flatbread",
                                    "ProductName": "Bannock",
                                    "CategoryID": "1"
                                },
                                {
                                    "ProductType": "Flatbread",
                                    "ProductName": "Breakfast muffin",
                                    "CategoryID": "1"
                                },
                                {
                                    "ProductType": "Flatbread",
                                    "ProductName": "Bread cake",
                                    "CategoryID": "1"
                                },
                                {
                                    "ProductType": "Flatbread",
                                    "ProductName": "Oat cake",
                                    "CategoryID": "1"
                                },
                                {
                                    "ProductType": "Flatbread",
                                    "ProductName": "Stottie cake",
                                    "CategoryID": "1"
                                },
                                {
                                    "ProductType": "Bread",
                                    "ProductName": "Tattie scone",
                                    "CategoryID": "1"
                                },
                                {
                                    "ProductType": "Sweet Bagel",
                                    "ProductName": "Chocolate chip",
                                    "CategoryID": "2"
                                },
                                {
                                    "ProductType": "Sweet Bagel",
                                    "ProductName": "Cinnamon Raisin",
                                    "CategoryID": "2"
                                },
                                {
                                    "ProductType": "Savoury Bagel",
                                    "ProductName": "Plain",
                                    "CategoryID": "2"
                                },
                                {
                                    "ProductType": "Sweet Bagel",
                                    "ProductName": "Blueberry",
                                    "CategoryID": "2"
                                },
                                {
                                    "ProductType": "Savoury Bagel",
                                    "ProductName": "Onion",
                                    "CategoryID": "2"
                                },
                                {
                                    "ProductType": "Savoury Bagel",
                                    "ProductName": "Salt",
                                    "CategoryID": "2"
                                },
                                {
                                    "ProductType": "Savoury Bagel",
                                    "ProductName": "Poppyseed",
                                    "CategoryID": "2"
                                },
                                {
                                    "ProductType": "Iced",
                                    "ProductName": "Chocolate iced",
                                    "CategoryID": "3"
                                },
                                {
                                    "ProductType": "Iced",
                                    "ProductName": "Strawberry iced",
                                    "CategoryID": "3"
                                },
                                {
                                    "ProductType": "Iced",
                                    "ProductName": "Maple iced glazed",
                                    "CategoryID": "3"
                                },
                                {
                                    "ProductType": "Iced",
                                    "ProductName": "Chocolate iced with sprinkles",
                                    "CategoryID": "3"
                                },
                                {
                                    "ProductType": "Filled",
                                    "ProductName": "Cake batter",
                                    "CategoryID": "3"
                                },
                                {
                                    "ProductType": "Filled",
                                    "ProductName": "Oreo cookies and creme",
                                    "CategoryID": "3"
                                },
                                {
                                    "ProductType": "Filled",
                                    "ProductName": "Glazed lemon filled",
                                    "CategoryID": "3"
                                },
                                {
                                    "ProductType": "Filled",
                                    "ProductName": "Chocolate iced custard filled",
                                    "CategoryID": "3"
                                },
                                {
                                    "ProductType": "Iced",
                                    "ProductName": "Chocolate iced",
                                    "CategoryID": "3"
                                },
                                {
                                    "ProductType": "Savoury pie",
                                    "ProductName": "Pork",
                                    "CategoryID": "4"
                                },
                                {
                                    "ProductType": "Savoury pie",
                                    "ProductName": "Steak and kidney",
                                    "CategoryID": "4"
                                },
                                {
                                    "ProductType": "Savoury pie",
                                    "ProductName": "Steak and ale",
                                    "CategoryID": "4"
                                },
                                {
                                    "ProductType": "Savoury pie",
                                    "ProductName": "Chicken and mushroom",
                                    "CategoryID": "4"
                                },
                                {
                                    "ProductType": "Sweet pie",
                                    "ProductName": "Bramley apple",
                                    "CategoryID": "4"
                                },
                                {
                                    "ProductType": "Sweet pie",
                                    "ProductName": "Cherry",
                                    "CategoryID": "4"
                                },
                                {
                                    "ProductType": "Sweet pie",
                                    "ProductName": "Lemon Meringue",
                                    "CategoryID": "4"
                                },
                                {
                                    "ProductType": "Croissant",
                                    "ProductName": "Chocolate",
                                    "CategoryID": "5"
                                },
                                {
                                    "ProductType": "Croissant",
                                    "ProductName": "Blueberry",
                                    "CategoryID": "5"
                                },
                                {
                                    "ProductType": "Croissant",
                                    "ProductName": "Butter",
                                    "CategoryID": "5"
                                },
                                {
                                    "ProductType": "Croissant",
                                    "ProductName": "Ham and cheese",
                                    "CategoryID": "5"
                                },
                                {
                                    "ProductType": "Danish",
                                    "ProductName": "Cinnamon and raisin",
                                    "CategoryID": "5"
                                },
                                {
                                    "ProductType": "Danish",
                                    "ProductName": "Custard cream",
                                    "CategoryID": "5"
                                },
                                {
                                    "ProductType": "Danish",
                                    "ProductName": "Sweet apple and chocolate",
                                    "CategoryID": "5"
                                },
                                {
                                    "ProductType": "Tart",
                                    "ProductName": "Bakewell",
                                    "CategoryID": "5"
                                },
                                {
                                    "ProductType": "Tart",
                                    "ProductName": "Treacle",
                                    "CategoryID": "5"
                                },
                                {
                                    "ProductType": "Tart",
                                    "ProductName": "Custard",
                                    "CategoryID": "5"
                                }
                            ]
                        },
                        "text/html": "<table><tr><th>ProductType</th><th>ProductName</th><th>CategoryID</th></tr><tr><td>Pancake</td><td>Griddle scone</td><td>1</td></tr><tr><td>Pancake</td><td>Crumpet</td><td>1</td></tr><tr><td>Pancake</td><td>Staffordshire oatcake</td><td>1</td></tr><tr><td>Bread</td><td>Barley bread</td><td>1</td></tr><tr><td>Bread</td><td>Rowie</td><td>1</td></tr><tr><td>Bread</td><td>Cockle bread</td><td>1</td></tr><tr><td>Loaf</td><td>Cottage loaf</td><td>1</td></tr><tr><td>Loaf</td><td>Manchet</td><td>1</td></tr><tr><td>Loaf</td><td>Milk roll</td><td>1</td></tr><tr><td>Loaf</td><td>Pan loaf</td><td>1</td></tr><tr><td>Loaf</td><td>Plain loaf</td><td>1</td></tr><tr><td>Bun</td><td>Barm cake</td><td>1</td></tr><tr><td>Flatbread</td><td>Bannock</td><td>1</td></tr><tr><td>Flatbread</td><td>Breakfast muffin</td><td>1</td></tr><tr><td>Flatbread</td><td>Bread cake</td><td>1</td></tr><tr><td>Flatbread</td><td>Oat cake</td><td>1</td></tr><tr><td>Flatbread</td><td>Stottie cake</td><td>1</td></tr><tr><td>Bread</td><td>Tattie scone</td><td>1</td></tr><tr><td>Sweet Bagel</td><td>Chocolate chip</td><td>2</td></tr><tr><td>Sweet Bagel</td><td>Cinnamon Raisin</td><td>2</td></tr><tr><td>Savoury Bagel</td><td>Plain</td><td>2</td></tr><tr><td>Sweet Bagel</td><td>Blueberry</td><td>2</td></tr><tr><td>Savoury Bagel</td><td>Onion</td><td>2</td></tr><tr><td>Savoury Bagel</td><td>Salt</td><td>2</td></tr><tr><td>Savoury Bagel</td><td>Poppyseed</td><td>2</td></tr><tr><td>Iced</td><td>Chocolate iced</td><td>3</td></tr><tr><td>Iced</td><td>Strawberry iced</td><td>3</td></tr><tr><td>Iced</td><td>Maple iced glazed</td><td>3</td></tr><tr><td>Iced</td><td>Chocolate iced with sprinkles</td><td>3</td></tr><tr><td>Filled</td><td>Cake batter</td><td>3</td></tr><tr><td>Filled</td><td>Oreo cookies and creme</td><td>3</td></tr><tr><td>Filled</td><td>Glazed lemon filled</td><td>3</td></tr><tr><td>Filled</td><td>Chocolate iced custard filled</td><td>3</td></tr><tr><td>Iced</td><td>Chocolate iced</td><td>3</td></tr><tr><td>Savoury pie</td><td>Pork</td><td>4</td></tr><tr><td>Savoury pie</td><td>Steak and kidney</td><td>4</td></tr><tr><td>Savoury pie</td><td>Steak and ale</td><td>4</td></tr><tr><td>Savoury pie</td><td>Chicken and mushroom</td><td>4</td></tr><tr><td>Sweet pie</td><td>Bramley apple</td><td>4</td></tr><tr><td>Sweet pie</td><td>Cherry</td><td>4</td></tr><tr><td>Sweet pie</td><td>Lemon Meringue</td><td>4</td></tr><tr><td>Croissant</td><td>Chocolate</td><td>5</td></tr><tr><td>Croissant</td><td>Blueberry</td><td>5</td></tr><tr><td>Croissant</td><td>Butter</td><td>5</td></tr><tr><td>Croissant</td><td>Ham and cheese</td><td>5</td></tr><tr><td>Danish</td><td>Cinnamon and raisin</td><td>5</td></tr><tr><td>Danish</td><td>Custard cream</td><td>5</td></tr><tr><td>Danish</td><td>Sweet apple and chocolate</td><td>5</td></tr><tr><td>Tart</td><td>Bakewell</td><td>5</td></tr><tr><td>Tart</td><td>Treacle</td><td>5</td></tr><tr><td>Tart</td><td>Custard</td><td>5</td></tr></table>"
                    },
                    "metadata": {}
                }
            ],
            "execution_count": 8
        },
        {
            "cell_type": "code",
            "source": [
                "SELECT ProductName, [Pancake], [Loaf], [Bread], [Danish], [Tart], [Sweet Bagel], [Savoury Bagel]\r\n",
                "FROM (\r\n",
                "    SELECT ProductName, ProductType, CategoryID\r\n",
                "    FROM DimProduct\r\n",
                ") AS up\r\n",
                "PIVOT (\r\n",
                "    COUNT(CategoryID) \r\n",
                "    FOR ProductType IN ([Pancake], [Loaf], [Bread], [Danish], [Tart], [Sweet Bagel], [Savoury Bagel])\r\n",
                ") AS pvt\r\n",
                "ORDER BY ProductName;\r\n",
                ""
            ],
            "metadata": {
                "azdata_cell_guid": "22cb3226-c4ca-4e0f-bc01-8eb2c7cdf9cc",
                "language": "sql"
            },
            "outputs": [
                {
                    "output_type": "display_data",
                    "data": {
                        "text/html": "(49 rows affected)"
                    },
                    "metadata": {}
                },
                {
                    "output_type": "display_data",
                    "data": {
                        "text/html": "Total execution time: 00:00:00.038"
                    },
                    "metadata": {}
                },
                {
                    "output_type": "execute_result",
                    "execution_count": 9,
                    "data": {
                        "application/vnd.dataresource+json": {
                            "schema": {
                                "fields": [
                                    {
                                        "name": "ProductName"
                                    },
                                    {
                                        "name": "Pancake"
                                    },
                                    {
                                        "name": "Loaf"
                                    },
                                    {
                                        "name": "Bread"
                                    },
                                    {
                                        "name": "Danish"
                                    },
                                    {
                                        "name": "Tart"
                                    },
                                    {
                                        "name": "Sweet Bagel"
                                    },
                                    {
                                        "name": "Savoury Bagel"
                                    }
                                ]
                            },
                            "data": [
                                {
                                    "ProductName": "Bakewell",
                                    "Pancake": "0",
                                    "Loaf": "0",
                                    "Bread": "0",
                                    "Danish": "0",
                                    "Tart": "1",
                                    "Sweet Bagel": "0",
                                    "Savoury Bagel": "0"
                                },
                                {
                                    "ProductName": "Bannock",
                                    "Pancake": "0",
                                    "Loaf": "0",
                                    "Bread": "0",
                                    "Danish": "0",
                                    "Tart": "0",
                                    "Sweet Bagel": "0",
                                    "Savoury Bagel": "0"
                                },
                                {
                                    "ProductName": "Barley bread",
                                    "Pancake": "0",
                                    "Loaf": "0",
                                    "Bread": "1",
                                    "Danish": "0",
                                    "Tart": "0",
                                    "Sweet Bagel": "0",
                                    "Savoury Bagel": "0"
                                },
                                {
                                    "ProductName": "Barm cake",
                                    "Pancake": "0",
                                    "Loaf": "0",
                                    "Bread": "0",
                                    "Danish": "0",
                                    "Tart": "0",
                                    "Sweet Bagel": "0",
                                    "Savoury Bagel": "0"
                                },
                                {
                                    "ProductName": "Blueberry",
                                    "Pancake": "0",
                                    "Loaf": "0",
                                    "Bread": "0",
                                    "Danish": "0",
                                    "Tart": "0",
                                    "Sweet Bagel": "1",
                                    "Savoury Bagel": "0"
                                },
                                {
                                    "ProductName": "Bramley apple",
                                    "Pancake": "0",
                                    "Loaf": "0",
                                    "Bread": "0",
                                    "Danish": "0",
                                    "Tart": "0",
                                    "Sweet Bagel": "0",
                                    "Savoury Bagel": "0"
                                },
                                {
                                    "ProductName": "Bread cake",
                                    "Pancake": "0",
                                    "Loaf": "0",
                                    "Bread": "0",
                                    "Danish": "0",
                                    "Tart": "0",
                                    "Sweet Bagel": "0",
                                    "Savoury Bagel": "0"
                                },
                                {
                                    "ProductName": "Breakfast muffin",
                                    "Pancake": "0",
                                    "Loaf": "0",
                                    "Bread": "0",
                                    "Danish": "0",
                                    "Tart": "0",
                                    "Sweet Bagel": "0",
                                    "Savoury Bagel": "0"
                                },
                                {
                                    "ProductName": "Butter",
                                    "Pancake": "0",
                                    "Loaf": "0",
                                    "Bread": "0",
                                    "Danish": "0",
                                    "Tart": "0",
                                    "Sweet Bagel": "0",
                                    "Savoury Bagel": "0"
                                },
                                {
                                    "ProductName": "Cake batter",
                                    "Pancake": "0",
                                    "Loaf": "0",
                                    "Bread": "0",
                                    "Danish": "0",
                                    "Tart": "0",
                                    "Sweet Bagel": "0",
                                    "Savoury Bagel": "0"
                                },
                                {
                                    "ProductName": "Cherry",
                                    "Pancake": "0",
                                    "Loaf": "0",
                                    "Bread": "0",
                                    "Danish": "0",
                                    "Tart": "0",
                                    "Sweet Bagel": "0",
                                    "Savoury Bagel": "0"
                                },
                                {
                                    "ProductName": "Chicken and mushroom",
                                    "Pancake": "0",
                                    "Loaf": "0",
                                    "Bread": "0",
                                    "Danish": "0",
                                    "Tart": "0",
                                    "Sweet Bagel": "0",
                                    "Savoury Bagel": "0"
                                },
                                {
                                    "ProductName": "Chocolate",
                                    "Pancake": "0",
                                    "Loaf": "0",
                                    "Bread": "0",
                                    "Danish": "0",
                                    "Tart": "0",
                                    "Sweet Bagel": "0",
                                    "Savoury Bagel": "0"
                                },
                                {
                                    "ProductName": "Chocolate chip",
                                    "Pancake": "0",
                                    "Loaf": "0",
                                    "Bread": "0",
                                    "Danish": "0",
                                    "Tart": "0",
                                    "Sweet Bagel": "1",
                                    "Savoury Bagel": "0"
                                },
                                {
                                    "ProductName": "Chocolate iced",
                                    "Pancake": "0",
                                    "Loaf": "0",
                                    "Bread": "0",
                                    "Danish": "0",
                                    "Tart": "0",
                                    "Sweet Bagel": "0",
                                    "Savoury Bagel": "0"
                                },
                                {
                                    "ProductName": "Chocolate iced custard filled",
                                    "Pancake": "0",
                                    "Loaf": "0",
                                    "Bread": "0",
                                    "Danish": "0",
                                    "Tart": "0",
                                    "Sweet Bagel": "0",
                                    "Savoury Bagel": "0"
                                },
                                {
                                    "ProductName": "Chocolate iced with sprinkles",
                                    "Pancake": "0",
                                    "Loaf": "0",
                                    "Bread": "0",
                                    "Danish": "0",
                                    "Tart": "0",
                                    "Sweet Bagel": "0",
                                    "Savoury Bagel": "0"
                                },
                                {
                                    "ProductName": "Cinnamon and raisin",
                                    "Pancake": "0",
                                    "Loaf": "0",
                                    "Bread": "0",
                                    "Danish": "1",
                                    "Tart": "0",
                                    "Sweet Bagel": "0",
                                    "Savoury Bagel": "0"
                                },
                                {
                                    "ProductName": "Cinnamon Raisin",
                                    "Pancake": "0",
                                    "Loaf": "0",
                                    "Bread": "0",
                                    "Danish": "0",
                                    "Tart": "0",
                                    "Sweet Bagel": "1",
                                    "Savoury Bagel": "0"
                                },
                                {
                                    "ProductName": "Cockle bread",
                                    "Pancake": "0",
                                    "Loaf": "0",
                                    "Bread": "1",
                                    "Danish": "0",
                                    "Tart": "0",
                                    "Sweet Bagel": "0",
                                    "Savoury Bagel": "0"
                                },
                                {
                                    "ProductName": "Cottage loaf",
                                    "Pancake": "0",
                                    "Loaf": "1",
                                    "Bread": "0",
                                    "Danish": "0",
                                    "Tart": "0",
                                    "Sweet Bagel": "0",
                                    "Savoury Bagel": "0"
                                },
                                {
                                    "ProductName": "Crumpet",
                                    "Pancake": "1",
                                    "Loaf": "0",
                                    "Bread": "0",
                                    "Danish": "0",
                                    "Tart": "0",
                                    "Sweet Bagel": "0",
                                    "Savoury Bagel": "0"
                                },
                                {
                                    "ProductName": "Custard",
                                    "Pancake": "0",
                                    "Loaf": "0",
                                    "Bread": "0",
                                    "Danish": "0",
                                    "Tart": "1",
                                    "Sweet Bagel": "0",
                                    "Savoury Bagel": "0"
                                },
                                {
                                    "ProductName": "Custard cream",
                                    "Pancake": "0",
                                    "Loaf": "0",
                                    "Bread": "0",
                                    "Danish": "1",
                                    "Tart": "0",
                                    "Sweet Bagel": "0",
                                    "Savoury Bagel": "0"
                                },
                                {
                                    "ProductName": "Glazed lemon filled",
                                    "Pancake": "0",
                                    "Loaf": "0",
                                    "Bread": "0",
                                    "Danish": "0",
                                    "Tart": "0",
                                    "Sweet Bagel": "0",
                                    "Savoury Bagel": "0"
                                },
                                {
                                    "ProductName": "Griddle scone",
                                    "Pancake": "1",
                                    "Loaf": "0",
                                    "Bread": "0",
                                    "Danish": "0",
                                    "Tart": "0",
                                    "Sweet Bagel": "0",
                                    "Savoury Bagel": "0"
                                },
                                {
                                    "ProductName": "Ham and cheese",
                                    "Pancake": "0",
                                    "Loaf": "0",
                                    "Bread": "0",
                                    "Danish": "0",
                                    "Tart": "0",
                                    "Sweet Bagel": "0",
                                    "Savoury Bagel": "0"
                                },
                                {
                                    "ProductName": "Lemon Meringue",
                                    "Pancake": "0",
                                    "Loaf": "0",
                                    "Bread": "0",
                                    "Danish": "0",
                                    "Tart": "0",
                                    "Sweet Bagel": "0",
                                    "Savoury Bagel": "0"
                                },
                                {
                                    "ProductName": "Manchet",
                                    "Pancake": "0",
                                    "Loaf": "1",
                                    "Bread": "0",
                                    "Danish": "0",
                                    "Tart": "0",
                                    "Sweet Bagel": "0",
                                    "Savoury Bagel": "0"
                                },
                                {
                                    "ProductName": "Maple iced glazed",
                                    "Pancake": "0",
                                    "Loaf": "0",
                                    "Bread": "0",
                                    "Danish": "0",
                                    "Tart": "0",
                                    "Sweet Bagel": "0",
                                    "Savoury Bagel": "0"
                                },
                                {
                                    "ProductName": "Milk roll",
                                    "Pancake": "0",
                                    "Loaf": "1",
                                    "Bread": "0",
                                    "Danish": "0",
                                    "Tart": "0",
                                    "Sweet Bagel": "0",
                                    "Savoury Bagel": "0"
                                },
                                {
                                    "ProductName": "Oat cake",
                                    "Pancake": "0",
                                    "Loaf": "0",
                                    "Bread": "0",
                                    "Danish": "0",
                                    "Tart": "0",
                                    "Sweet Bagel": "0",
                                    "Savoury Bagel": "0"
                                },
                                {
                                    "ProductName": "Onion",
                                    "Pancake": "0",
                                    "Loaf": "0",
                                    "Bread": "0",
                                    "Danish": "0",
                                    "Tart": "0",
                                    "Sweet Bagel": "0",
                                    "Savoury Bagel": "1"
                                },
                                {
                                    "ProductName": "Oreo cookies and creme",
                                    "Pancake": "0",
                                    "Loaf": "0",
                                    "Bread": "0",
                                    "Danish": "0",
                                    "Tart": "0",
                                    "Sweet Bagel": "0",
                                    "Savoury Bagel": "0"
                                },
                                {
                                    "ProductName": "Pan loaf",
                                    "Pancake": "0",
                                    "Loaf": "1",
                                    "Bread": "0",
                                    "Danish": "0",
                                    "Tart": "0",
                                    "Sweet Bagel": "0",
                                    "Savoury Bagel": "0"
                                },
                                {
                                    "ProductName": "Plain",
                                    "Pancake": "0",
                                    "Loaf": "0",
                                    "Bread": "0",
                                    "Danish": "0",
                                    "Tart": "0",
                                    "Sweet Bagel": "0",
                                    "Savoury Bagel": "1"
                                },
                                {
                                    "ProductName": "Plain loaf",
                                    "Pancake": "0",
                                    "Loaf": "1",
                                    "Bread": "0",
                                    "Danish": "0",
                                    "Tart": "0",
                                    "Sweet Bagel": "0",
                                    "Savoury Bagel": "0"
                                },
                                {
                                    "ProductName": "Poppyseed",
                                    "Pancake": "0",
                                    "Loaf": "0",
                                    "Bread": "0",
                                    "Danish": "0",
                                    "Tart": "0",
                                    "Sweet Bagel": "0",
                                    "Savoury Bagel": "1"
                                },
                                {
                                    "ProductName": "Pork",
                                    "Pancake": "0",
                                    "Loaf": "0",
                                    "Bread": "0",
                                    "Danish": "0",
                                    "Tart": "0",
                                    "Sweet Bagel": "0",
                                    "Savoury Bagel": "0"
                                },
                                {
                                    "ProductName": "Rowie",
                                    "Pancake": "0",
                                    "Loaf": "0",
                                    "Bread": "1",
                                    "Danish": "0",
                                    "Tart": "0",
                                    "Sweet Bagel": "0",
                                    "Savoury Bagel": "0"
                                },
                                {
                                    "ProductName": "Salt",
                                    "Pancake": "0",
                                    "Loaf": "0",
                                    "Bread": "0",
                                    "Danish": "0",
                                    "Tart": "0",
                                    "Sweet Bagel": "0",
                                    "Savoury Bagel": "1"
                                },
                                {
                                    "ProductName": "Staffordshire oatcake",
                                    "Pancake": "1",
                                    "Loaf": "0",
                                    "Bread": "0",
                                    "Danish": "0",
                                    "Tart": "0",
                                    "Sweet Bagel": "0",
                                    "Savoury Bagel": "0"
                                },
                                {
                                    "ProductName": "Steak and ale",
                                    "Pancake": "0",
                                    "Loaf": "0",
                                    "Bread": "0",
                                    "Danish": "0",
                                    "Tart": "0",
                                    "Sweet Bagel": "0",
                                    "Savoury Bagel": "0"
                                },
                                {
                                    "ProductName": "Steak and kidney",
                                    "Pancake": "0",
                                    "Loaf": "0",
                                    "Bread": "0",
                                    "Danish": "0",
                                    "Tart": "0",
                                    "Sweet Bagel": "0",
                                    "Savoury Bagel": "0"
                                },
                                {
                                    "ProductName": "Stottie cake",
                                    "Pancake": "0",
                                    "Loaf": "0",
                                    "Bread": "0",
                                    "Danish": "0",
                                    "Tart": "0",
                                    "Sweet Bagel": "0",
                                    "Savoury Bagel": "0"
                                },
                                {
                                    "ProductName": "Strawberry iced",
                                    "Pancake": "0",
                                    "Loaf": "0",
                                    "Bread": "0",
                                    "Danish": "0",
                                    "Tart": "0",
                                    "Sweet Bagel": "0",
                                    "Savoury Bagel": "0"
                                },
                                {
                                    "ProductName": "Sweet apple and chocolate",
                                    "Pancake": "0",
                                    "Loaf": "0",
                                    "Bread": "0",
                                    "Danish": "1",
                                    "Tart": "0",
                                    "Sweet Bagel": "0",
                                    "Savoury Bagel": "0"
                                },
                                {
                                    "ProductName": "Tattie scone",
                                    "Pancake": "0",
                                    "Loaf": "0",
                                    "Bread": "1",
                                    "Danish": "0",
                                    "Tart": "0",
                                    "Sweet Bagel": "0",
                                    "Savoury Bagel": "0"
                                },
                                {
                                    "ProductName": "Treacle",
                                    "Pancake": "0",
                                    "Loaf": "0",
                                    "Bread": "0",
                                    "Danish": "0",
                                    "Tart": "1",
                                    "Sweet Bagel": "0",
                                    "Savoury Bagel": "0"
                                }
                            ]
                        },
                        "text/html": "<table><tr><th>ProductName</th><th>Pancake</th><th>Loaf</th><th>Bread</th><th>Danish</th><th>Tart</th><th>Sweet Bagel</th><th>Savoury Bagel</th></tr><tr><td>Bakewell</td><td>0</td><td>0</td><td>0</td><td>0</td><td>1</td><td>0</td><td>0</td></tr><tr><td>Bannock</td><td>0</td><td>0</td><td>0</td><td>0</td><td>0</td><td>0</td><td>0</td></tr><tr><td>Barley bread</td><td>0</td><td>0</td><td>1</td><td>0</td><td>0</td><td>0</td><td>0</td></tr><tr><td>Barm cake</td><td>0</td><td>0</td><td>0</td><td>0</td><td>0</td><td>0</td><td>0</td></tr><tr><td>Blueberry</td><td>0</td><td>0</td><td>0</td><td>0</td><td>0</td><td>1</td><td>0</td></tr><tr><td>Bramley apple</td><td>0</td><td>0</td><td>0</td><td>0</td><td>0</td><td>0</td><td>0</td></tr><tr><td>Bread cake</td><td>0</td><td>0</td><td>0</td><td>0</td><td>0</td><td>0</td><td>0</td></tr><tr><td>Breakfast muffin</td><td>0</td><td>0</td><td>0</td><td>0</td><td>0</td><td>0</td><td>0</td></tr><tr><td>Butter</td><td>0</td><td>0</td><td>0</td><td>0</td><td>0</td><td>0</td><td>0</td></tr><tr><td>Cake batter</td><td>0</td><td>0</td><td>0</td><td>0</td><td>0</td><td>0</td><td>0</td></tr><tr><td>Cherry</td><td>0</td><td>0</td><td>0</td><td>0</td><td>0</td><td>0</td><td>0</td></tr><tr><td>Chicken and mushroom</td><td>0</td><td>0</td><td>0</td><td>0</td><td>0</td><td>0</td><td>0</td></tr><tr><td>Chocolate</td><td>0</td><td>0</td><td>0</td><td>0</td><td>0</td><td>0</td><td>0</td></tr><tr><td>Chocolate chip</td><td>0</td><td>0</td><td>0</td><td>0</td><td>0</td><td>1</td><td>0</td></tr><tr><td>Chocolate iced</td><td>0</td><td>0</td><td>0</td><td>0</td><td>0</td><td>0</td><td>0</td></tr><tr><td>Chocolate iced custard filled</td><td>0</td><td>0</td><td>0</td><td>0</td><td>0</td><td>0</td><td>0</td></tr><tr><td>Chocolate iced with sprinkles</td><td>0</td><td>0</td><td>0</td><td>0</td><td>0</td><td>0</td><td>0</td></tr><tr><td>Cinnamon and raisin</td><td>0</td><td>0</td><td>0</td><td>1</td><td>0</td><td>0</td><td>0</td></tr><tr><td>Cinnamon Raisin</td><td>0</td><td>0</td><td>0</td><td>0</td><td>0</td><td>1</td><td>0</td></tr><tr><td>Cockle bread</td><td>0</td><td>0</td><td>1</td><td>0</td><td>0</td><td>0</td><td>0</td></tr><tr><td>Cottage loaf</td><td>0</td><td>1</td><td>0</td><td>0</td><td>0</td><td>0</td><td>0</td></tr><tr><td>Crumpet</td><td>1</td><td>0</td><td>0</td><td>0</td><td>0</td><td>0</td><td>0</td></tr><tr><td>Custard</td><td>0</td><td>0</td><td>0</td><td>0</td><td>1</td><td>0</td><td>0</td></tr><tr><td>Custard cream</td><td>0</td><td>0</td><td>0</td><td>1</td><td>0</td><td>0</td><td>0</td></tr><tr><td>Glazed lemon filled</td><td>0</td><td>0</td><td>0</td><td>0</td><td>0</td><td>0</td><td>0</td></tr><tr><td>Griddle scone</td><td>1</td><td>0</td><td>0</td><td>0</td><td>0</td><td>0</td><td>0</td></tr><tr><td>Ham and cheese</td><td>0</td><td>0</td><td>0</td><td>0</td><td>0</td><td>0</td><td>0</td></tr><tr><td>Lemon Meringue</td><td>0</td><td>0</td><td>0</td><td>0</td><td>0</td><td>0</td><td>0</td></tr><tr><td>Manchet</td><td>0</td><td>1</td><td>0</td><td>0</td><td>0</td><td>0</td><td>0</td></tr><tr><td>Maple iced glazed</td><td>0</td><td>0</td><td>0</td><td>0</td><td>0</td><td>0</td><td>0</td></tr><tr><td>Milk roll</td><td>0</td><td>1</td><td>0</td><td>0</td><td>0</td><td>0</td><td>0</td></tr><tr><td>Oat cake</td><td>0</td><td>0</td><td>0</td><td>0</td><td>0</td><td>0</td><td>0</td></tr><tr><td>Onion</td><td>0</td><td>0</td><td>0</td><td>0</td><td>0</td><td>0</td><td>1</td></tr><tr><td>Oreo cookies and creme</td><td>0</td><td>0</td><td>0</td><td>0</td><td>0</td><td>0</td><td>0</td></tr><tr><td>Pan loaf</td><td>0</td><td>1</td><td>0</td><td>0</td><td>0</td><td>0</td><td>0</td></tr><tr><td>Plain</td><td>0</td><td>0</td><td>0</td><td>0</td><td>0</td><td>0</td><td>1</td></tr><tr><td>Plain loaf</td><td>0</td><td>1</td><td>0</td><td>0</td><td>0</td><td>0</td><td>0</td></tr><tr><td>Poppyseed</td><td>0</td><td>0</td><td>0</td><td>0</td><td>0</td><td>0</td><td>1</td></tr><tr><td>Pork</td><td>0</td><td>0</td><td>0</td><td>0</td><td>0</td><td>0</td><td>0</td></tr><tr><td>Rowie</td><td>0</td><td>0</td><td>1</td><td>0</td><td>0</td><td>0</td><td>0</td></tr><tr><td>Salt</td><td>0</td><td>0</td><td>0</td><td>0</td><td>0</td><td>0</td><td>1</td></tr><tr><td>Staffordshire oatcake</td><td>1</td><td>0</td><td>0</td><td>0</td><td>0</td><td>0</td><td>0</td></tr><tr><td>Steak and ale</td><td>0</td><td>0</td><td>0</td><td>0</td><td>0</td><td>0</td><td>0</td></tr><tr><td>Steak and kidney</td><td>0</td><td>0</td><td>0</td><td>0</td><td>0</td><td>0</td><td>0</td></tr><tr><td>Stottie cake</td><td>0</td><td>0</td><td>0</td><td>0</td><td>0</td><td>0</td><td>0</td></tr><tr><td>Strawberry iced</td><td>0</td><td>0</td><td>0</td><td>0</td><td>0</td><td>0</td><td>0</td></tr><tr><td>Sweet apple and chocolate</td><td>0</td><td>0</td><td>0</td><td>1</td><td>0</td><td>0</td><td>0</td></tr><tr><td>Tattie scone</td><td>0</td><td>0</td><td>1</td><td>0</td><td>0</td><td>0</td><td>0</td></tr><tr><td>Treacle</td><td>0</td><td>0</td><td>0</td><td>0</td><td>1</td><td>0</td><td>0</td></tr></table>"
                    },
                    "metadata": {}
                }
            ],
            "execution_count": 9
        },
        {
            "cell_type": "code",
            "source": [
                "SELECT ProductType, Breads, Bagels, Doughnuts, Pies, Pastries\r\n",
                "FROM (\r\n",
                "    SELECT ProductType, CategoryRange\r\n",
                "    FROM DimProduct \r\n",
                "    INNER JOIN DimCategory ON DimCategory.CategoryID = DimProduct.CategoryID\r\n",
                ") AS up\r\n",
                "PIVOT (\r\n",
                "    COUNT(CategoryRange)  -- Count the number of products in each CategoryRange\r\n",
                "    FOR CategoryRange IN ([Breads], [Bagels], [Doughnuts], [Pies], [Pastries])\r\n",
                ") AS pvt\r\n",
                "ORDER BY ProductType;\r\n",
                ""
            ],
            "metadata": {
                "azdata_cell_guid": "6fd940e3-4b05-4d7c-9bc3-944c78999fed",
                "language": "sql"
            },
            "outputs": [
                {
                    "output_type": "display_data",
                    "data": {
                        "text/html": "(14 rows affected)"
                    },
                    "metadata": {}
                },
                {
                    "output_type": "display_data",
                    "data": {
                        "text/html": "Total execution time: 00:00:00.035"
                    },
                    "metadata": {}
                },
                {
                    "output_type": "execute_result",
                    "execution_count": 20,
                    "data": {
                        "application/vnd.dataresource+json": {
                            "schema": {
                                "fields": [
                                    {
                                        "name": "ProductType"
                                    },
                                    {
                                        "name": "Breads"
                                    },
                                    {
                                        "name": "Bagels"
                                    },
                                    {
                                        "name": "Doughnuts"
                                    },
                                    {
                                        "name": "Pies"
                                    },
                                    {
                                        "name": "Pastries"
                                    }
                                ]
                            },
                            "data": [
                                {
                                    "ProductType": "Bread",
                                    "Breads": "4",
                                    "Bagels": "0",
                                    "Doughnuts": "0",
                                    "Pies": "0",
                                    "Pastries": "0"
                                },
                                {
                                    "ProductType": "Bun",
                                    "Breads": "1",
                                    "Bagels": "0",
                                    "Doughnuts": "0",
                                    "Pies": "0",
                                    "Pastries": "0"
                                },
                                {
                                    "ProductType": "Croissant",
                                    "Breads": "0",
                                    "Bagels": "0",
                                    "Doughnuts": "0",
                                    "Pies": "0",
                                    "Pastries": "4"
                                },
                                {
                                    "ProductType": "Danish",
                                    "Breads": "0",
                                    "Bagels": "0",
                                    "Doughnuts": "0",
                                    "Pies": "0",
                                    "Pastries": "3"
                                },
                                {
                                    "ProductType": "Filled",
                                    "Breads": "0",
                                    "Bagels": "0",
                                    "Doughnuts": "4",
                                    "Pies": "0",
                                    "Pastries": "0"
                                },
                                {
                                    "ProductType": "Flatbread",
                                    "Breads": "5",
                                    "Bagels": "0",
                                    "Doughnuts": "0",
                                    "Pies": "0",
                                    "Pastries": "0"
                                },
                                {
                                    "ProductType": "Iced",
                                    "Breads": "0",
                                    "Bagels": "0",
                                    "Doughnuts": "5",
                                    "Pies": "0",
                                    "Pastries": "0"
                                },
                                {
                                    "ProductType": "Loaf",
                                    "Breads": "5",
                                    "Bagels": "0",
                                    "Doughnuts": "0",
                                    "Pies": "0",
                                    "Pastries": "0"
                                },
                                {
                                    "ProductType": "Pancake",
                                    "Breads": "3",
                                    "Bagels": "0",
                                    "Doughnuts": "0",
                                    "Pies": "0",
                                    "Pastries": "0"
                                },
                                {
                                    "ProductType": "Savoury Bagel",
                                    "Breads": "0",
                                    "Bagels": "4",
                                    "Doughnuts": "0",
                                    "Pies": "0",
                                    "Pastries": "0"
                                },
                                {
                                    "ProductType": "Savoury pie",
                                    "Breads": "0",
                                    "Bagels": "0",
                                    "Doughnuts": "0",
                                    "Pies": "4",
                                    "Pastries": "0"
                                },
                                {
                                    "ProductType": "Sweet Bagel",
                                    "Breads": "0",
                                    "Bagels": "3",
                                    "Doughnuts": "0",
                                    "Pies": "0",
                                    "Pastries": "0"
                                },
                                {
                                    "ProductType": "Sweet pie",
                                    "Breads": "0",
                                    "Bagels": "0",
                                    "Doughnuts": "0",
                                    "Pies": "3",
                                    "Pastries": "0"
                                },
                                {
                                    "ProductType": "Tart",
                                    "Breads": "0",
                                    "Bagels": "0",
                                    "Doughnuts": "0",
                                    "Pies": "0",
                                    "Pastries": "3"
                                }
                            ]
                        },
                        "text/html": "<table><tr><th>ProductType</th><th>Breads</th><th>Bagels</th><th>Doughnuts</th><th>Pies</th><th>Pastries</th></tr><tr><td>Bread</td><td>4</td><td>0</td><td>0</td><td>0</td><td>0</td></tr><tr><td>Bun</td><td>1</td><td>0</td><td>0</td><td>0</td><td>0</td></tr><tr><td>Croissant</td><td>0</td><td>0</td><td>0</td><td>0</td><td>4</td></tr><tr><td>Danish</td><td>0</td><td>0</td><td>0</td><td>0</td><td>3</td></tr><tr><td>Filled</td><td>0</td><td>0</td><td>4</td><td>0</td><td>0</td></tr><tr><td>Flatbread</td><td>5</td><td>0</td><td>0</td><td>0</td><td>0</td></tr><tr><td>Iced</td><td>0</td><td>0</td><td>5</td><td>0</td><td>0</td></tr><tr><td>Loaf</td><td>5</td><td>0</td><td>0</td><td>0</td><td>0</td></tr><tr><td>Pancake</td><td>3</td><td>0</td><td>0</td><td>0</td><td>0</td></tr><tr><td>Savoury Bagel</td><td>0</td><td>4</td><td>0</td><td>0</td><td>0</td></tr><tr><td>Savoury pie</td><td>0</td><td>0</td><td>0</td><td>4</td><td>0</td></tr><tr><td>Sweet Bagel</td><td>0</td><td>3</td><td>0</td><td>0</td><td>0</td></tr><tr><td>Sweet pie</td><td>0</td><td>0</td><td>0</td><td>3</td><td>0</td></tr><tr><td>Tart</td><td>0</td><td>0</td><td>0</td><td>0</td><td>3</td></tr></table>"
                    },
                    "metadata": {}
                }
            ],
            "execution_count": 20
        },
        {
            "cell_type": "code",
            "source": [
                "SELECT ProductType, ProductName, CategoryRange\r\n",
                "from DimProduct\r\n",
                "JOIN DimCategory on DimCategory.CategoryID = DimProduct.CategoryID"
            ],
            "metadata": {
                "azdata_cell_guid": "f1dd5e37-c64a-46c9-9059-60f1282f5c69",
                "language": "sql"
            },
            "outputs": [
                {
                    "output_type": "display_data",
                    "data": {
                        "text/html": "(51 rows affected)"
                    },
                    "metadata": {}
                },
                {
                    "output_type": "display_data",
                    "data": {
                        "text/html": "Total execution time: 00:00:00.050"
                    },
                    "metadata": {}
                },
                {
                    "output_type": "execute_result",
                    "execution_count": 15,
                    "data": {
                        "application/vnd.dataresource+json": {
                            "schema": {
                                "fields": [
                                    {
                                        "name": "ProductType"
                                    },
                                    {
                                        "name": "ProductName"
                                    },
                                    {
                                        "name": "CategoryRange"
                                    }
                                ]
                            },
                            "data": [
                                {
                                    "ProductType": "Pancake",
                                    "ProductName": "Griddle scone",
                                    "CategoryRange": "Breads"
                                },
                                {
                                    "ProductType": "Pancake",
                                    "ProductName": "Crumpet",
                                    "CategoryRange": "Breads"
                                },
                                {
                                    "ProductType": "Pancake",
                                    "ProductName": "Staffordshire oatcake",
                                    "CategoryRange": "Breads"
                                },
                                {
                                    "ProductType": "Bread",
                                    "ProductName": "Barley bread",
                                    "CategoryRange": "Breads"
                                },
                                {
                                    "ProductType": "Bread",
                                    "ProductName": "Rowie",
                                    "CategoryRange": "Breads"
                                },
                                {
                                    "ProductType": "Bread",
                                    "ProductName": "Cockle bread",
                                    "CategoryRange": "Breads"
                                },
                                {
                                    "ProductType": "Loaf",
                                    "ProductName": "Cottage loaf",
                                    "CategoryRange": "Breads"
                                },
                                {
                                    "ProductType": "Loaf",
                                    "ProductName": "Manchet",
                                    "CategoryRange": "Breads"
                                },
                                {
                                    "ProductType": "Loaf",
                                    "ProductName": "Milk roll",
                                    "CategoryRange": "Breads"
                                },
                                {
                                    "ProductType": "Loaf",
                                    "ProductName": "Pan loaf",
                                    "CategoryRange": "Breads"
                                },
                                {
                                    "ProductType": "Loaf",
                                    "ProductName": "Plain loaf",
                                    "CategoryRange": "Breads"
                                },
                                {
                                    "ProductType": "Bun",
                                    "ProductName": "Barm cake",
                                    "CategoryRange": "Breads"
                                },
                                {
                                    "ProductType": "Flatbread",
                                    "ProductName": "Bannock",
                                    "CategoryRange": "Breads"
                                },
                                {
                                    "ProductType": "Flatbread",
                                    "ProductName": "Breakfast muffin",
                                    "CategoryRange": "Breads"
                                },
                                {
                                    "ProductType": "Flatbread",
                                    "ProductName": "Bread cake",
                                    "CategoryRange": "Breads"
                                },
                                {
                                    "ProductType": "Flatbread",
                                    "ProductName": "Oat cake",
                                    "CategoryRange": "Breads"
                                },
                                {
                                    "ProductType": "Flatbread",
                                    "ProductName": "Stottie cake",
                                    "CategoryRange": "Breads"
                                },
                                {
                                    "ProductType": "Bread",
                                    "ProductName": "Tattie scone",
                                    "CategoryRange": "Breads"
                                },
                                {
                                    "ProductType": "Sweet Bagel",
                                    "ProductName": "Chocolate chip",
                                    "CategoryRange": "Bagels"
                                },
                                {
                                    "ProductType": "Sweet Bagel",
                                    "ProductName": "Cinnamon Raisin",
                                    "CategoryRange": "Bagels"
                                },
                                {
                                    "ProductType": "Savoury Bagel",
                                    "ProductName": "Plain",
                                    "CategoryRange": "Bagels"
                                },
                                {
                                    "ProductType": "Sweet Bagel",
                                    "ProductName": "Blueberry",
                                    "CategoryRange": "Bagels"
                                },
                                {
                                    "ProductType": "Savoury Bagel",
                                    "ProductName": "Onion",
                                    "CategoryRange": "Bagels"
                                },
                                {
                                    "ProductType": "Savoury Bagel",
                                    "ProductName": "Salt",
                                    "CategoryRange": "Bagels"
                                },
                                {
                                    "ProductType": "Savoury Bagel",
                                    "ProductName": "Poppyseed",
                                    "CategoryRange": "Bagels"
                                },
                                {
                                    "ProductType": "Iced",
                                    "ProductName": "Chocolate iced",
                                    "CategoryRange": "Doughnuts"
                                },
                                {
                                    "ProductType": "Iced",
                                    "ProductName": "Strawberry iced",
                                    "CategoryRange": "Doughnuts"
                                },
                                {
                                    "ProductType": "Iced",
                                    "ProductName": "Maple iced glazed",
                                    "CategoryRange": "Doughnuts"
                                },
                                {
                                    "ProductType": "Iced",
                                    "ProductName": "Chocolate iced with sprinkles",
                                    "CategoryRange": "Doughnuts"
                                },
                                {
                                    "ProductType": "Filled",
                                    "ProductName": "Cake batter",
                                    "CategoryRange": "Doughnuts"
                                },
                                {
                                    "ProductType": "Filled",
                                    "ProductName": "Oreo cookies and creme",
                                    "CategoryRange": "Doughnuts"
                                },
                                {
                                    "ProductType": "Filled",
                                    "ProductName": "Glazed lemon filled",
                                    "CategoryRange": "Doughnuts"
                                },
                                {
                                    "ProductType": "Filled",
                                    "ProductName": "Chocolate iced custard filled",
                                    "CategoryRange": "Doughnuts"
                                },
                                {
                                    "ProductType": "Iced",
                                    "ProductName": "Chocolate iced",
                                    "CategoryRange": "Doughnuts"
                                },
                                {
                                    "ProductType": "Savoury pie",
                                    "ProductName": "Pork",
                                    "CategoryRange": "Pies"
                                },
                                {
                                    "ProductType": "Savoury pie",
                                    "ProductName": "Steak and kidney",
                                    "CategoryRange": "Pies"
                                },
                                {
                                    "ProductType": "Savoury pie",
                                    "ProductName": "Steak and ale",
                                    "CategoryRange": "Pies"
                                },
                                {
                                    "ProductType": "Savoury pie",
                                    "ProductName": "Chicken and mushroom",
                                    "CategoryRange": "Pies"
                                },
                                {
                                    "ProductType": "Sweet pie",
                                    "ProductName": "Bramley apple",
                                    "CategoryRange": "Pies"
                                },
                                {
                                    "ProductType": "Sweet pie",
                                    "ProductName": "Cherry",
                                    "CategoryRange": "Pies"
                                },
                                {
                                    "ProductType": "Sweet pie",
                                    "ProductName": "Lemon Meringue",
                                    "CategoryRange": "Pies"
                                },
                                {
                                    "ProductType": "Croissant",
                                    "ProductName": "Chocolate",
                                    "CategoryRange": "Pastries"
                                },
                                {
                                    "ProductType": "Croissant",
                                    "ProductName": "Blueberry",
                                    "CategoryRange": "Pastries"
                                },
                                {
                                    "ProductType": "Croissant",
                                    "ProductName": "Butter",
                                    "CategoryRange": "Pastries"
                                },
                                {
                                    "ProductType": "Croissant",
                                    "ProductName": "Ham and cheese",
                                    "CategoryRange": "Pastries"
                                },
                                {
                                    "ProductType": "Danish",
                                    "ProductName": "Cinnamon and raisin",
                                    "CategoryRange": "Pastries"
                                },
                                {
                                    "ProductType": "Danish",
                                    "ProductName": "Custard cream",
                                    "CategoryRange": "Pastries"
                                },
                                {
                                    "ProductType": "Danish",
                                    "ProductName": "Sweet apple and chocolate",
                                    "CategoryRange": "Pastries"
                                },
                                {
                                    "ProductType": "Tart",
                                    "ProductName": "Bakewell",
                                    "CategoryRange": "Pastries"
                                },
                                {
                                    "ProductType": "Tart",
                                    "ProductName": "Treacle",
                                    "CategoryRange": "Pastries"
                                },
                                {
                                    "ProductType": "Tart",
                                    "ProductName": "Custard",
                                    "CategoryRange": "Pastries"
                                }
                            ]
                        },
                        "text/html": "<table><tr><th>ProductType</th><th>ProductName</th><th>CategoryRange</th></tr><tr><td>Pancake</td><td>Griddle scone</td><td>Breads</td></tr><tr><td>Pancake</td><td>Crumpet</td><td>Breads</td></tr><tr><td>Pancake</td><td>Staffordshire oatcake</td><td>Breads</td></tr><tr><td>Bread</td><td>Barley bread</td><td>Breads</td></tr><tr><td>Bread</td><td>Rowie</td><td>Breads</td></tr><tr><td>Bread</td><td>Cockle bread</td><td>Breads</td></tr><tr><td>Loaf</td><td>Cottage loaf</td><td>Breads</td></tr><tr><td>Loaf</td><td>Manchet</td><td>Breads</td></tr><tr><td>Loaf</td><td>Milk roll</td><td>Breads</td></tr><tr><td>Loaf</td><td>Pan loaf</td><td>Breads</td></tr><tr><td>Loaf</td><td>Plain loaf</td><td>Breads</td></tr><tr><td>Bun</td><td>Barm cake</td><td>Breads</td></tr><tr><td>Flatbread</td><td>Bannock</td><td>Breads</td></tr><tr><td>Flatbread</td><td>Breakfast muffin</td><td>Breads</td></tr><tr><td>Flatbread</td><td>Bread cake</td><td>Breads</td></tr><tr><td>Flatbread</td><td>Oat cake</td><td>Breads</td></tr><tr><td>Flatbread</td><td>Stottie cake</td><td>Breads</td></tr><tr><td>Bread</td><td>Tattie scone</td><td>Breads</td></tr><tr><td>Sweet Bagel</td><td>Chocolate chip</td><td>Bagels</td></tr><tr><td>Sweet Bagel</td><td>Cinnamon Raisin</td><td>Bagels</td></tr><tr><td>Savoury Bagel</td><td>Plain</td><td>Bagels</td></tr><tr><td>Sweet Bagel</td><td>Blueberry</td><td>Bagels</td></tr><tr><td>Savoury Bagel</td><td>Onion</td><td>Bagels</td></tr><tr><td>Savoury Bagel</td><td>Salt</td><td>Bagels</td></tr><tr><td>Savoury Bagel</td><td>Poppyseed</td><td>Bagels</td></tr><tr><td>Iced</td><td>Chocolate iced</td><td>Doughnuts</td></tr><tr><td>Iced</td><td>Strawberry iced</td><td>Doughnuts</td></tr><tr><td>Iced</td><td>Maple iced glazed</td><td>Doughnuts</td></tr><tr><td>Iced</td><td>Chocolate iced with sprinkles</td><td>Doughnuts</td></tr><tr><td>Filled</td><td>Cake batter</td><td>Doughnuts</td></tr><tr><td>Filled</td><td>Oreo cookies and creme</td><td>Doughnuts</td></tr><tr><td>Filled</td><td>Glazed lemon filled</td><td>Doughnuts</td></tr><tr><td>Filled</td><td>Chocolate iced custard filled</td><td>Doughnuts</td></tr><tr><td>Iced</td><td>Chocolate iced</td><td>Doughnuts</td></tr><tr><td>Savoury pie</td><td>Pork</td><td>Pies</td></tr><tr><td>Savoury pie</td><td>Steak and kidney</td><td>Pies</td></tr><tr><td>Savoury pie</td><td>Steak and ale</td><td>Pies</td></tr><tr><td>Savoury pie</td><td>Chicken and mushroom</td><td>Pies</td></tr><tr><td>Sweet pie</td><td>Bramley apple</td><td>Pies</td></tr><tr><td>Sweet pie</td><td>Cherry</td><td>Pies</td></tr><tr><td>Sweet pie</td><td>Lemon Meringue</td><td>Pies</td></tr><tr><td>Croissant</td><td>Chocolate</td><td>Pastries</td></tr><tr><td>Croissant</td><td>Blueberry</td><td>Pastries</td></tr><tr><td>Croissant</td><td>Butter</td><td>Pastries</td></tr><tr><td>Croissant</td><td>Ham and cheese</td><td>Pastries</td></tr><tr><td>Danish</td><td>Cinnamon and raisin</td><td>Pastries</td></tr><tr><td>Danish</td><td>Custard cream</td><td>Pastries</td></tr><tr><td>Danish</td><td>Sweet apple and chocolate</td><td>Pastries</td></tr><tr><td>Tart</td><td>Bakewell</td><td>Pastries</td></tr><tr><td>Tart</td><td>Treacle</td><td>Pastries</td></tr><tr><td>Tart</td><td>Custard</td><td>Pastries</td></tr></table>"
                    },
                    "metadata": {}
                }
            ],
            "execution_count": 15
        },
        {
            "cell_type": "markdown",
            "source": [
                "<span style=\"font-size: 11pt; font-family: Arial, sans-serif; color: rgb(0, 0, 0); background-color: transparent; font-variant-numeric: normal; font-variant-east-asian: normal; font-variant-alternates: normal; font-variant-position: normal; vertical-align: baseline; white-space-collapse: preserve;\" id=\"docs-internal-guid-a6d1c46a-7fff-e755-dca6-0725078383c5\">Pivot the FactWaste table the new columns must be the different types of action taken and you must sum the amount per month in the rows. (Tip: </span> <span style=\"font-size: 11pt; font-family: Arial, sans-serif; color: rgb(0, 0, 0); background-color: transparent; font-style: italic; font-variant-numeric: normal; font-variant-east-asian: normal; font-variant-alternates: normal; font-variant-position: normal; vertical-align: baseline; white-space-collapse: preserve;\">Find the different types of actions taken first</span><span style=\"font-size: 11pt; font-family: Arial, sans-serif; color: rgb(0, 0, 0); background-color: transparent; font-variant-numeric: normal; font-variant-east-asian: normal; font-variant-alternates: normal; font-variant-position: normal; vertical-align: baseline; white-space-collapse: preserve;\">)</span>"
            ],
            "metadata": {
                "azdata_cell_guid": "8dbe1375-8125-400e-8ab4-553effcc0113"
            },
            "attachments": {}
        },
        {
            "cell_type": "code",
            "source": [
                "SELECT DISTINCT ActionTaken\r\n",
                "FROM FactWaste"
            ],
            "metadata": {
                "azdata_cell_guid": "532afbb0-f44f-4ff3-adbd-82a534c28e37",
                "language": "sql"
            },
            "outputs": [
                {
                    "output_type": "display_data",
                    "data": {
                        "text/html": "(5 rows affected)"
                    },
                    "metadata": {}
                },
                {
                    "output_type": "display_data",
                    "data": {
                        "text/html": "Total execution time: 00:00:00.090"
                    },
                    "metadata": {}
                },
                {
                    "output_type": "execute_result",
                    "execution_count": 23,
                    "data": {
                        "application/vnd.dataresource+json": {
                            "schema": {
                                "fields": [
                                    {
                                        "name": "ActionTaken"
                                    }
                                ]
                            },
                            "data": [
                                {
                                    "ActionTaken": "charity"
                                },
                                {
                                    "ActionTaken": "discard"
                                },
                                {
                                    "ActionTaken": "gift"
                                },
                                {
                                    "ActionTaken": "personal use"
                                },
                                {
                                    "ActionTaken": "test"
                                }
                            ]
                        },
                        "text/html": "<table><tr><th>ActionTaken</th></tr><tr><td>charity</td></tr><tr><td>discard</td></tr><tr><td>gift</td></tr><tr><td>personal use</td></tr><tr><td>test</td></tr></table>"
                    },
                    "metadata": {}
                }
            ],
            "execution_count": 23
        },
        {
            "cell_type": "code",
            "source": [
                "SELECT YEAR(FullDate) year, ActionTaken, ProductCode\r\n",
                "FROM FactWaste\r\n",
                "ORDER by ActionTaken"
            ],
            "metadata": {
                "language": "sql",
                "azdata_cell_guid": "80e99e15-d541-4d91-ac3b-9ca62f5a249a"
            },
            "outputs": [
                {
                    "output_type": "display_data",
                    "data": {
                        "text/html": "(731 rows affected)"
                    },
                    "metadata": {}
                },
                {
                    "output_type": "display_data",
                    "data": {
                        "text/html": "Total execution time: 00:00:00.049"
                    },
                    "metadata": {}
                },
                {
                    "output_type": "execute_result",
                    "execution_count": 34,
                    "data": {
                        "application/vnd.dataresource+json": {
                            "schema": {
                                "fields": [
                                    {
                                        "name": "year"
                                    },
                                    {
                                        "name": "ActionTaken"
                                    },
                                    {
                                        "name": "ProductCode"
                                    }
                                ]
                            },
                            "data": [
                                {
                                    "year": "2019",
                                    "ActionTaken": "charity",
                                    "ProductCode": "3"
                                },
                                {
                                    "year": "2019",
                                    "ActionTaken": "charity",
                                    "ProductCode": "4"
                                },
                                {
                                    "year": "2019",
                                    "ActionTaken": "charity",
                                    "ProductCode": "19"
                                },
                                {
                                    "year": "2019",
                                    "ActionTaken": "charity",
                                    "ProductCode": "20"
                                },
                                {
                                    "year": "2019",
                                    "ActionTaken": "charity",
                                    "ProductCode": "21"
                                },
                                {
                                    "year": "2019",
                                    "ActionTaken": "charity",
                                    "ProductCode": "11"
                                },
                                {
                                    "year": "2019",
                                    "ActionTaken": "charity",
                                    "ProductCode": "38"
                                },
                                {
                                    "year": "2019",
                                    "ActionTaken": "charity",
                                    "ProductCode": "19"
                                },
                                {
                                    "year": "2019",
                                    "ActionTaken": "charity",
                                    "ProductCode": "32"
                                },
                                {
                                    "year": "2019",
                                    "ActionTaken": "charity",
                                    "ProductCode": "19"
                                },
                                {
                                    "year": "2019",
                                    "ActionTaken": "charity",
                                    "ProductCode": "40"
                                },
                                {
                                    "year": "2019",
                                    "ActionTaken": "charity",
                                    "ProductCode": "50"
                                },
                                {
                                    "year": "2019",
                                    "ActionTaken": "charity",
                                    "ProductCode": "9"
                                },
                                {
                                    "year": "2019",
                                    "ActionTaken": "charity",
                                    "ProductCode": "50"
                                },
                                {
                                    "year": "2019",
                                    "ActionTaken": "charity",
                                    "ProductCode": "15"
                                },
                                {
                                    "year": "2019",
                                    "ActionTaken": "charity",
                                    "ProductCode": "32"
                                },
                                {
                                    "year": "2019",
                                    "ActionTaken": "charity",
                                    "ProductCode": "47"
                                },
                                {
                                    "year": "2019",
                                    "ActionTaken": "charity",
                                    "ProductCode": "27"
                                },
                                {
                                    "year": "2019",
                                    "ActionTaken": "charity",
                                    "ProductCode": "18"
                                },
                                {
                                    "year": "2019",
                                    "ActionTaken": "charity",
                                    "ProductCode": "1"
                                },
                                {
                                    "year": "2019",
                                    "ActionTaken": "charity",
                                    "ProductCode": "26"
                                },
                                {
                                    "year": "2019",
                                    "ActionTaken": "charity",
                                    "ProductCode": "2"
                                },
                                {
                                    "year": "2019",
                                    "ActionTaken": "charity",
                                    "ProductCode": "31"
                                },
                                {
                                    "year": "2019",
                                    "ActionTaken": "charity",
                                    "ProductCode": "16"
                                },
                                {
                                    "year": "2019",
                                    "ActionTaken": "charity",
                                    "ProductCode": "27"
                                },
                                {
                                    "year": "2019",
                                    "ActionTaken": "charity",
                                    "ProductCode": "13"
                                },
                                {
                                    "year": "2019",
                                    "ActionTaken": "charity",
                                    "ProductCode": "5"
                                },
                                {
                                    "year": "2019",
                                    "ActionTaken": "charity",
                                    "ProductCode": "6"
                                },
                                {
                                    "year": "2019",
                                    "ActionTaken": "charity",
                                    "ProductCode": "17"
                                },
                                {
                                    "year": "2019",
                                    "ActionTaken": "charity",
                                    "ProductCode": "22"
                                },
                                {
                                    "year": "2019",
                                    "ActionTaken": "charity",
                                    "ProductCode": "18"
                                },
                                {
                                    "year": "2019",
                                    "ActionTaken": "charity",
                                    "ProductCode": "31"
                                },
                                {
                                    "year": "2019",
                                    "ActionTaken": "charity",
                                    "ProductCode": "33"
                                },
                                {
                                    "year": "2019",
                                    "ActionTaken": "charity",
                                    "ProductCode": "3"
                                },
                                {
                                    "year": "2019",
                                    "ActionTaken": "charity",
                                    "ProductCode": "8"
                                },
                                {
                                    "year": "2019",
                                    "ActionTaken": "charity",
                                    "ProductCode": "20"
                                },
                                {
                                    "year": "2019",
                                    "ActionTaken": "charity",
                                    "ProductCode": "5"
                                },
                                {
                                    "year": "2019",
                                    "ActionTaken": "charity",
                                    "ProductCode": "21"
                                },
                                {
                                    "year": "2019",
                                    "ActionTaken": "charity",
                                    "ProductCode": "14"
                                },
                                {
                                    "year": "2019",
                                    "ActionTaken": "charity",
                                    "ProductCode": "13"
                                },
                                {
                                    "year": "2019",
                                    "ActionTaken": "charity",
                                    "ProductCode": "35"
                                },
                                {
                                    "year": "2019",
                                    "ActionTaken": "charity",
                                    "ProductCode": "14"
                                },
                                {
                                    "year": "2019",
                                    "ActionTaken": "charity",
                                    "ProductCode": "38"
                                },
                                {
                                    "year": "2019",
                                    "ActionTaken": "charity",
                                    "ProductCode": "22"
                                },
                                {
                                    "year": "2019",
                                    "ActionTaken": "charity",
                                    "ProductCode": "51"
                                },
                                {
                                    "year": "2019",
                                    "ActionTaken": "charity",
                                    "ProductCode": "26"
                                },
                                {
                                    "year": "2019",
                                    "ActionTaken": "charity",
                                    "ProductCode": "10"
                                },
                                {
                                    "year": "2019",
                                    "ActionTaken": "charity",
                                    "ProductCode": "25"
                                },
                                {
                                    "year": "2019",
                                    "ActionTaken": "charity",
                                    "ProductCode": "37"
                                },
                                {
                                    "year": "2019",
                                    "ActionTaken": "charity",
                                    "ProductCode": "32"
                                },
                                {
                                    "year": "2019",
                                    "ActionTaken": "charity",
                                    "ProductCode": "37"
                                },
                                {
                                    "year": "2019",
                                    "ActionTaken": "charity",
                                    "ProductCode": "13"
                                },
                                {
                                    "year": "2019",
                                    "ActionTaken": "charity",
                                    "ProductCode": "35"
                                },
                                {
                                    "year": "2019",
                                    "ActionTaken": "charity",
                                    "ProductCode": "20"
                                },
                                {
                                    "year": "2019",
                                    "ActionTaken": "charity",
                                    "ProductCode": "2"
                                },
                                {
                                    "year": "2019",
                                    "ActionTaken": "charity",
                                    "ProductCode": "36"
                                },
                                {
                                    "year": "2019",
                                    "ActionTaken": "charity",
                                    "ProductCode": "1"
                                },
                                {
                                    "year": "2019",
                                    "ActionTaken": "charity",
                                    "ProductCode": "2"
                                },
                                {
                                    "year": "2019",
                                    "ActionTaken": "charity",
                                    "ProductCode": "2"
                                },
                                {
                                    "year": "2019",
                                    "ActionTaken": "charity",
                                    "ProductCode": "3"
                                },
                                {
                                    "year": "2019",
                                    "ActionTaken": "charity",
                                    "ProductCode": "33"
                                },
                                {
                                    "year": "2019",
                                    "ActionTaken": "charity",
                                    "ProductCode": "49"
                                },
                                {
                                    "year": "2019",
                                    "ActionTaken": "charity",
                                    "ProductCode": "42"
                                },
                                {
                                    "year": "2019",
                                    "ActionTaken": "charity",
                                    "ProductCode": "42"
                                },
                                {
                                    "year": "2019",
                                    "ActionTaken": "charity",
                                    "ProductCode": "46"
                                },
                                {
                                    "year": "2019",
                                    "ActionTaken": "charity",
                                    "ProductCode": "23"
                                },
                                {
                                    "year": "2019",
                                    "ActionTaken": "charity",
                                    "ProductCode": "6"
                                },
                                {
                                    "year": "2019",
                                    "ActionTaken": "charity",
                                    "ProductCode": "48"
                                },
                                {
                                    "year": "2019",
                                    "ActionTaken": "charity",
                                    "ProductCode": "5"
                                },
                                {
                                    "year": "2019",
                                    "ActionTaken": "charity",
                                    "ProductCode": "13"
                                },
                                {
                                    "year": "2019",
                                    "ActionTaken": "charity",
                                    "ProductCode": "50"
                                },
                                {
                                    "year": "2019",
                                    "ActionTaken": "charity",
                                    "ProductCode": "41"
                                },
                                {
                                    "year": "2019",
                                    "ActionTaken": "charity",
                                    "ProductCode": "31"
                                },
                                {
                                    "year": "2019",
                                    "ActionTaken": "charity",
                                    "ProductCode": "35"
                                },
                                {
                                    "year": "2019",
                                    "ActionTaken": "charity",
                                    "ProductCode": "13"
                                },
                                {
                                    "year": "2019",
                                    "ActionTaken": "charity",
                                    "ProductCode": "25"
                                },
                                {
                                    "year": "2019",
                                    "ActionTaken": "charity",
                                    "ProductCode": "28"
                                },
                                {
                                    "year": "2019",
                                    "ActionTaken": "charity",
                                    "ProductCode": "3"
                                },
                                {
                                    "year": "2019",
                                    "ActionTaken": "charity",
                                    "ProductCode": "23"
                                },
                                {
                                    "year": "2019",
                                    "ActionTaken": "charity",
                                    "ProductCode": "25"
                                },
                                {
                                    "year": "2019",
                                    "ActionTaken": "charity",
                                    "ProductCode": "22"
                                },
                                {
                                    "year": "2019",
                                    "ActionTaken": "charity",
                                    "ProductCode": "9"
                                },
                                {
                                    "year": "2019",
                                    "ActionTaken": "charity",
                                    "ProductCode": "38"
                                },
                                {
                                    "year": "2019",
                                    "ActionTaken": "charity",
                                    "ProductCode": "50"
                                },
                                {
                                    "year": "2019",
                                    "ActionTaken": "charity",
                                    "ProductCode": "7"
                                },
                                {
                                    "year": "2019",
                                    "ActionTaken": "charity",
                                    "ProductCode": "20"
                                },
                                {
                                    "year": "2019",
                                    "ActionTaken": "charity",
                                    "ProductCode": "33"
                                },
                                {
                                    "year": "2019",
                                    "ActionTaken": "charity",
                                    "ProductCode": "20"
                                },
                                {
                                    "year": "2019",
                                    "ActionTaken": "charity",
                                    "ProductCode": "28"
                                },
                                {
                                    "year": "2019",
                                    "ActionTaken": "charity",
                                    "ProductCode": "33"
                                },
                                {
                                    "year": "2019",
                                    "ActionTaken": "charity",
                                    "ProductCode": "13"
                                },
                                {
                                    "year": "2019",
                                    "ActionTaken": "charity",
                                    "ProductCode": "20"
                                },
                                {
                                    "year": "2019",
                                    "ActionTaken": "charity",
                                    "ProductCode": "9"
                                },
                                {
                                    "year": "2019",
                                    "ActionTaken": "charity",
                                    "ProductCode": "1"
                                },
                                {
                                    "year": "2019",
                                    "ActionTaken": "charity",
                                    "ProductCode": "50"
                                },
                                {
                                    "year": "2020",
                                    "ActionTaken": "charity",
                                    "ProductCode": "23"
                                },
                                {
                                    "year": "2020",
                                    "ActionTaken": "charity",
                                    "ProductCode": "11"
                                },
                                {
                                    "year": "2020",
                                    "ActionTaken": "charity",
                                    "ProductCode": "9"
                                },
                                {
                                    "year": "2020",
                                    "ActionTaken": "charity",
                                    "ProductCode": "51"
                                },
                                {
                                    "year": "2020",
                                    "ActionTaken": "charity",
                                    "ProductCode": "40"
                                },
                                {
                                    "year": "2020",
                                    "ActionTaken": "charity",
                                    "ProductCode": "38"
                                },
                                {
                                    "year": "2020",
                                    "ActionTaken": "charity",
                                    "ProductCode": "29"
                                },
                                {
                                    "year": "2020",
                                    "ActionTaken": "charity",
                                    "ProductCode": "43"
                                },
                                {
                                    "year": "2020",
                                    "ActionTaken": "charity",
                                    "ProductCode": "51"
                                },
                                {
                                    "year": "2020",
                                    "ActionTaken": "charity",
                                    "ProductCode": "51"
                                },
                                {
                                    "year": "2020",
                                    "ActionTaken": "charity",
                                    "ProductCode": "19"
                                },
                                {
                                    "year": "2020",
                                    "ActionTaken": "charity",
                                    "ProductCode": "46"
                                },
                                {
                                    "year": "2020",
                                    "ActionTaken": "charity",
                                    "ProductCode": "13"
                                },
                                {
                                    "year": "2020",
                                    "ActionTaken": "charity",
                                    "ProductCode": "31"
                                },
                                {
                                    "year": "2020",
                                    "ActionTaken": "charity",
                                    "ProductCode": "6"
                                },
                                {
                                    "year": "2020",
                                    "ActionTaken": "charity",
                                    "ProductCode": "9"
                                },
                                {
                                    "year": "2020",
                                    "ActionTaken": "charity",
                                    "ProductCode": "20"
                                },
                                {
                                    "year": "2020",
                                    "ActionTaken": "charity",
                                    "ProductCode": "5"
                                },
                                {
                                    "year": "2020",
                                    "ActionTaken": "charity",
                                    "ProductCode": "15"
                                },
                                {
                                    "year": "2020",
                                    "ActionTaken": "charity",
                                    "ProductCode": "1"
                                },
                                {
                                    "year": "2020",
                                    "ActionTaken": "charity",
                                    "ProductCode": "24"
                                },
                                {
                                    "year": "2020",
                                    "ActionTaken": "charity",
                                    "ProductCode": "23"
                                },
                                {
                                    "year": "2020",
                                    "ActionTaken": "charity",
                                    "ProductCode": "10"
                                },
                                {
                                    "year": "2020",
                                    "ActionTaken": "charity",
                                    "ProductCode": "2"
                                },
                                {
                                    "year": "2020",
                                    "ActionTaken": "charity",
                                    "ProductCode": "25"
                                },
                                {
                                    "year": "2020",
                                    "ActionTaken": "charity",
                                    "ProductCode": "31"
                                },
                                {
                                    "year": "2020",
                                    "ActionTaken": "charity",
                                    "ProductCode": "27"
                                },
                                {
                                    "year": "2020",
                                    "ActionTaken": "charity",
                                    "ProductCode": "25"
                                },
                                {
                                    "year": "2020",
                                    "ActionTaken": "charity",
                                    "ProductCode": "17"
                                },
                                {
                                    "year": "2020",
                                    "ActionTaken": "charity",
                                    "ProductCode": "31"
                                },
                                {
                                    "year": "2020",
                                    "ActionTaken": "charity",
                                    "ProductCode": "26"
                                },
                                {
                                    "year": "2020",
                                    "ActionTaken": "charity",
                                    "ProductCode": "44"
                                },
                                {
                                    "year": "2020",
                                    "ActionTaken": "charity",
                                    "ProductCode": "46"
                                },
                                {
                                    "year": "2020",
                                    "ActionTaken": "charity",
                                    "ProductCode": "9"
                                },
                                {
                                    "year": "2020",
                                    "ActionTaken": "charity",
                                    "ProductCode": "21"
                                },
                                {
                                    "year": "2020",
                                    "ActionTaken": "charity",
                                    "ProductCode": "51"
                                },
                                {
                                    "year": "2020",
                                    "ActionTaken": "charity",
                                    "ProductCode": "13"
                                },
                                {
                                    "year": "2020",
                                    "ActionTaken": "charity",
                                    "ProductCode": "41"
                                },
                                {
                                    "year": "2020",
                                    "ActionTaken": "charity",
                                    "ProductCode": "12"
                                },
                                {
                                    "year": "2020",
                                    "ActionTaken": "charity",
                                    "ProductCode": "26"
                                },
                                {
                                    "year": "2020",
                                    "ActionTaken": "charity",
                                    "ProductCode": "16"
                                },
                                {
                                    "year": "2020",
                                    "ActionTaken": "charity",
                                    "ProductCode": "33"
                                },
                                {
                                    "year": "2020",
                                    "ActionTaken": "charity",
                                    "ProductCode": "2"
                                },
                                {
                                    "year": "2020",
                                    "ActionTaken": "charity",
                                    "ProductCode": "25"
                                },
                                {
                                    "year": "2020",
                                    "ActionTaken": "charity",
                                    "ProductCode": "43"
                                },
                                {
                                    "year": "2020",
                                    "ActionTaken": "charity",
                                    "ProductCode": "10"
                                },
                                {
                                    "year": "2020",
                                    "ActionTaken": "charity",
                                    "ProductCode": "11"
                                },
                                {
                                    "year": "2020",
                                    "ActionTaken": "charity",
                                    "ProductCode": "7"
                                },
                                {
                                    "year": "2020",
                                    "ActionTaken": "charity",
                                    "ProductCode": "22"
                                },
                                {
                                    "year": "2020",
                                    "ActionTaken": "charity",
                                    "ProductCode": "44"
                                },
                                {
                                    "year": "2020",
                                    "ActionTaken": "charity",
                                    "ProductCode": "16"
                                },
                                {
                                    "year": "2020",
                                    "ActionTaken": "charity",
                                    "ProductCode": "44"
                                },
                                {
                                    "year": "2020",
                                    "ActionTaken": "charity",
                                    "ProductCode": "20"
                                },
                                {
                                    "year": "2020",
                                    "ActionTaken": "charity",
                                    "ProductCode": "14"
                                },
                                {
                                    "year": "2020",
                                    "ActionTaken": "charity",
                                    "ProductCode": "9"
                                },
                                {
                                    "year": "2020",
                                    "ActionTaken": "charity",
                                    "ProductCode": "22"
                                },
                                {
                                    "year": "2020",
                                    "ActionTaken": "charity",
                                    "ProductCode": "38"
                                },
                                {
                                    "year": "2020",
                                    "ActionTaken": "charity",
                                    "ProductCode": "1"
                                },
                                {
                                    "year": "2020",
                                    "ActionTaken": "charity",
                                    "ProductCode": "1"
                                },
                                {
                                    "year": "2020",
                                    "ActionTaken": "charity",
                                    "ProductCode": "2"
                                },
                                {
                                    "year": "2020",
                                    "ActionTaken": "charity",
                                    "ProductCode": "14"
                                },
                                {
                                    "year": "2020",
                                    "ActionTaken": "charity",
                                    "ProductCode": "51"
                                },
                                {
                                    "year": "2020",
                                    "ActionTaken": "charity",
                                    "ProductCode": "20"
                                },
                                {
                                    "year": "2020",
                                    "ActionTaken": "charity",
                                    "ProductCode": "23"
                                },
                                {
                                    "year": "2020",
                                    "ActionTaken": "charity",
                                    "ProductCode": "6"
                                },
                                {
                                    "year": "2020",
                                    "ActionTaken": "charity",
                                    "ProductCode": "21"
                                },
                                {
                                    "year": "2020",
                                    "ActionTaken": "charity",
                                    "ProductCode": "26"
                                },
                                {
                                    "year": "2020",
                                    "ActionTaken": "charity",
                                    "ProductCode": "30"
                                },
                                {
                                    "year": "2020",
                                    "ActionTaken": "charity",
                                    "ProductCode": "46"
                                },
                                {
                                    "year": "2020",
                                    "ActionTaken": "charity",
                                    "ProductCode": "25"
                                },
                                {
                                    "year": "2020",
                                    "ActionTaken": "charity",
                                    "ProductCode": "25"
                                },
                                {
                                    "year": "2020",
                                    "ActionTaken": "charity",
                                    "ProductCode": "19"
                                },
                                {
                                    "year": "2020",
                                    "ActionTaken": "charity",
                                    "ProductCode": "38"
                                },
                                {
                                    "year": "2020",
                                    "ActionTaken": "charity",
                                    "ProductCode": "35"
                                },
                                {
                                    "year": "2020",
                                    "ActionTaken": "charity",
                                    "ProductCode": "43"
                                },
                                {
                                    "year": "2020",
                                    "ActionTaken": "charity",
                                    "ProductCode": "22"
                                },
                                {
                                    "year": "2020",
                                    "ActionTaken": "charity",
                                    "ProductCode": "8"
                                },
                                {
                                    "year": "2020",
                                    "ActionTaken": "charity",
                                    "ProductCode": "5"
                                },
                                {
                                    "year": "2020",
                                    "ActionTaken": "charity",
                                    "ProductCode": "28"
                                },
                                {
                                    "year": "2020",
                                    "ActionTaken": "charity",
                                    "ProductCode": "18"
                                },
                                {
                                    "year": "2020",
                                    "ActionTaken": "charity",
                                    "ProductCode": "33"
                                },
                                {
                                    "year": "2020",
                                    "ActionTaken": "charity",
                                    "ProductCode": "50"
                                },
                                {
                                    "year": "2020",
                                    "ActionTaken": "charity",
                                    "ProductCode": "22"
                                },
                                {
                                    "year": "2020",
                                    "ActionTaken": "charity",
                                    "ProductCode": "37"
                                },
                                {
                                    "year": "2020",
                                    "ActionTaken": "charity",
                                    "ProductCode": "1"
                                },
                                {
                                    "year": "2020",
                                    "ActionTaken": "charity",
                                    "ProductCode": "12"
                                },
                                {
                                    "year": "2020",
                                    "ActionTaken": "charity",
                                    "ProductCode": "34"
                                },
                                {
                                    "year": "2020",
                                    "ActionTaken": "charity",
                                    "ProductCode": "19"
                                },
                                {
                                    "year": "2020",
                                    "ActionTaken": "charity",
                                    "ProductCode": "45"
                                },
                                {
                                    "year": "2021",
                                    "ActionTaken": "charity",
                                    "ProductCode": "29"
                                },
                                {
                                    "year": "2020",
                                    "ActionTaken": "discard",
                                    "ProductCode": "37"
                                },
                                {
                                    "year": "2020",
                                    "ActionTaken": "discard",
                                    "ProductCode": "13"
                                },
                                {
                                    "year": "2020",
                                    "ActionTaken": "discard",
                                    "ProductCode": "5"
                                },
                                {
                                    "year": "2020",
                                    "ActionTaken": "discard",
                                    "ProductCode": "6"
                                },
                                {
                                    "year": "2020",
                                    "ActionTaken": "discard",
                                    "ProductCode": "33"
                                },
                                {
                                    "year": "2020",
                                    "ActionTaken": "discard",
                                    "ProductCode": "6"
                                },
                                {
                                    "year": "2020",
                                    "ActionTaken": "discard",
                                    "ProductCode": "30"
                                },
                                {
                                    "year": "2020",
                                    "ActionTaken": "discard",
                                    "ProductCode": "25"
                                },
                                {
                                    "year": "2020",
                                    "ActionTaken": "discard",
                                    "ProductCode": "27"
                                },
                                {
                                    "year": "2020",
                                    "ActionTaken": "discard",
                                    "ProductCode": "37"
                                },
                                {
                                    "year": "2020",
                                    "ActionTaken": "discard",
                                    "ProductCode": "37"
                                },
                                {
                                    "year": "2020",
                                    "ActionTaken": "discard",
                                    "ProductCode": "37"
                                },
                                {
                                    "year": "2020",
                                    "ActionTaken": "discard",
                                    "ProductCode": "37"
                                },
                                {
                                    "year": "2020",
                                    "ActionTaken": "discard",
                                    "ProductCode": "19"
                                },
                                {
                                    "year": "2020",
                                    "ActionTaken": "discard",
                                    "ProductCode": "8"
                                },
                                {
                                    "year": "2020",
                                    "ActionTaken": "discard",
                                    "ProductCode": "45"
                                },
                                {
                                    "year": "2020",
                                    "ActionTaken": "discard",
                                    "ProductCode": "43"
                                },
                                {
                                    "year": "2020",
                                    "ActionTaken": "discard",
                                    "ProductCode": "25"
                                },
                                {
                                    "year": "2020",
                                    "ActionTaken": "discard",
                                    "ProductCode": "41"
                                },
                                {
                                    "year": "2020",
                                    "ActionTaken": "discard",
                                    "ProductCode": "26"
                                },
                                {
                                    "year": "2020",
                                    "ActionTaken": "discard",
                                    "ProductCode": "39"
                                },
                                {
                                    "year": "2020",
                                    "ActionTaken": "discard",
                                    "ProductCode": "8"
                                },
                                {
                                    "year": "2020",
                                    "ActionTaken": "discard",
                                    "ProductCode": "29"
                                },
                                {
                                    "year": "2020",
                                    "ActionTaken": "discard",
                                    "ProductCode": "32"
                                },
                                {
                                    "year": "2020",
                                    "ActionTaken": "discard",
                                    "ProductCode": "38"
                                },
                                {
                                    "year": "2020",
                                    "ActionTaken": "discard",
                                    "ProductCode": "39"
                                },
                                {
                                    "year": "2020",
                                    "ActionTaken": "discard",
                                    "ProductCode": "13"
                                },
                                {
                                    "year": "2020",
                                    "ActionTaken": "discard",
                                    "ProductCode": "36"
                                },
                                {
                                    "year": "2020",
                                    "ActionTaken": "discard",
                                    "ProductCode": "31"
                                },
                                {
                                    "year": "2020",
                                    "ActionTaken": "discard",
                                    "ProductCode": "47"
                                },
                                {
                                    "year": "2020",
                                    "ActionTaken": "discard",
                                    "ProductCode": "16"
                                },
                                {
                                    "year": "2020",
                                    "ActionTaken": "discard",
                                    "ProductCode": "3"
                                },
                                {
                                    "year": "2020",
                                    "ActionTaken": "discard",
                                    "ProductCode": "42"
                                },
                                {
                                    "year": "2020",
                                    "ActionTaken": "discard",
                                    "ProductCode": "46"
                                },
                                {
                                    "year": "2020",
                                    "ActionTaken": "discard",
                                    "ProductCode": "47"
                                },
                                {
                                    "year": "2020",
                                    "ActionTaken": "discard",
                                    "ProductCode": "1"
                                },
                                {
                                    "year": "2020",
                                    "ActionTaken": "discard",
                                    "ProductCode": "8"
                                },
                                {
                                    "year": "2020",
                                    "ActionTaken": "discard",
                                    "ProductCode": "51"
                                },
                                {
                                    "year": "2020",
                                    "ActionTaken": "discard",
                                    "ProductCode": "36"
                                },
                                {
                                    "year": "2020",
                                    "ActionTaken": "discard",
                                    "ProductCode": "24"
                                },
                                {
                                    "year": "2020",
                                    "ActionTaken": "discard",
                                    "ProductCode": "46"
                                },
                                {
                                    "year": "2020",
                                    "ActionTaken": "discard",
                                    "ProductCode": "8"
                                },
                                {
                                    "year": "2020",
                                    "ActionTaken": "discard",
                                    "ProductCode": "17"
                                },
                                {
                                    "year": "2020",
                                    "ActionTaken": "discard",
                                    "ProductCode": "34"
                                },
                                {
                                    "year": "2020",
                                    "ActionTaken": "discard",
                                    "ProductCode": "48"
                                },
                                {
                                    "year": "2020",
                                    "ActionTaken": "discard",
                                    "ProductCode": "23"
                                },
                                {
                                    "year": "2020",
                                    "ActionTaken": "discard",
                                    "ProductCode": "3"
                                },
                                {
                                    "year": "2020",
                                    "ActionTaken": "discard",
                                    "ProductCode": "21"
                                },
                                {
                                    "year": "2020",
                                    "ActionTaken": "discard",
                                    "ProductCode": "18"
                                },
                                {
                                    "year": "2020",
                                    "ActionTaken": "discard",
                                    "ProductCode": "31"
                                },
                                {
                                    "year": "2020",
                                    "ActionTaken": "discard",
                                    "ProductCode": "9"
                                },
                                {
                                    "year": "2020",
                                    "ActionTaken": "discard",
                                    "ProductCode": "25"
                                },
                                {
                                    "year": "2020",
                                    "ActionTaken": "discard",
                                    "ProductCode": "40"
                                },
                                {
                                    "year": "2020",
                                    "ActionTaken": "discard",
                                    "ProductCode": "32"
                                },
                                {
                                    "year": "2020",
                                    "ActionTaken": "discard",
                                    "ProductCode": "27"
                                },
                                {
                                    "year": "2020",
                                    "ActionTaken": "discard",
                                    "ProductCode": "47"
                                },
                                {
                                    "year": "2020",
                                    "ActionTaken": "discard",
                                    "ProductCode": "34"
                                },
                                {
                                    "year": "2020",
                                    "ActionTaken": "discard",
                                    "ProductCode": "19"
                                },
                                {
                                    "year": "2020",
                                    "ActionTaken": "discard",
                                    "ProductCode": "48"
                                },
                                {
                                    "year": "2020",
                                    "ActionTaken": "discard",
                                    "ProductCode": "18"
                                },
                                {
                                    "year": "2020",
                                    "ActionTaken": "discard",
                                    "ProductCode": "7"
                                },
                                {
                                    "year": "2020",
                                    "ActionTaken": "discard",
                                    "ProductCode": "47"
                                },
                                {
                                    "year": "2020",
                                    "ActionTaken": "discard",
                                    "ProductCode": "7"
                                },
                                {
                                    "year": "2020",
                                    "ActionTaken": "discard",
                                    "ProductCode": "48"
                                },
                                {
                                    "year": "2020",
                                    "ActionTaken": "discard",
                                    "ProductCode": "37"
                                },
                                {
                                    "year": "2020",
                                    "ActionTaken": "discard",
                                    "ProductCode": "30"
                                },
                                {
                                    "year": "2020",
                                    "ActionTaken": "discard",
                                    "ProductCode": "51"
                                },
                                {
                                    "year": "2020",
                                    "ActionTaken": "discard",
                                    "ProductCode": "35"
                                },
                                {
                                    "year": "2020",
                                    "ActionTaken": "discard",
                                    "ProductCode": "40"
                                },
                                {
                                    "year": "2020",
                                    "ActionTaken": "discard",
                                    "ProductCode": "51"
                                },
                                {
                                    "year": "2020",
                                    "ActionTaken": "discard",
                                    "ProductCode": "47"
                                },
                                {
                                    "year": "2020",
                                    "ActionTaken": "discard",
                                    "ProductCode": "9"
                                },
                                {
                                    "year": "2020",
                                    "ActionTaken": "discard",
                                    "ProductCode": "10"
                                },
                                {
                                    "year": "2020",
                                    "ActionTaken": "discard",
                                    "ProductCode": "38"
                                },
                                {
                                    "year": "2020",
                                    "ActionTaken": "discard",
                                    "ProductCode": "11"
                                },
                                {
                                    "year": "2020",
                                    "ActionTaken": "discard",
                                    "ProductCode": "5"
                                },
                                {
                                    "year": "2020",
                                    "ActionTaken": "discard",
                                    "ProductCode": "8"
                                },
                                {
                                    "year": "2020",
                                    "ActionTaken": "discard",
                                    "ProductCode": "48"
                                },
                                {
                                    "year": "2020",
                                    "ActionTaken": "discard",
                                    "ProductCode": "1"
                                },
                                {
                                    "year": "2020",
                                    "ActionTaken": "discard",
                                    "ProductCode": "7"
                                },
                                {
                                    "year": "2020",
                                    "ActionTaken": "discard",
                                    "ProductCode": "4"
                                },
                                {
                                    "year": "2020",
                                    "ActionTaken": "discard",
                                    "ProductCode": "22"
                                },
                                {
                                    "year": "2020",
                                    "ActionTaken": "discard",
                                    "ProductCode": "23"
                                },
                                {
                                    "year": "2020",
                                    "ActionTaken": "discard",
                                    "ProductCode": "51"
                                },
                                {
                                    "year": "2020",
                                    "ActionTaken": "discard",
                                    "ProductCode": "39"
                                },
                                {
                                    "year": "2020",
                                    "ActionTaken": "discard",
                                    "ProductCode": "6"
                                },
                                {
                                    "year": "2020",
                                    "ActionTaken": "discard",
                                    "ProductCode": "49"
                                },
                                {
                                    "year": "2020",
                                    "ActionTaken": "discard",
                                    "ProductCode": "38"
                                },
                                {
                                    "year": "2020",
                                    "ActionTaken": "discard",
                                    "ProductCode": "34"
                                },
                                {
                                    "year": "2020",
                                    "ActionTaken": "discard",
                                    "ProductCode": "10"
                                },
                                {
                                    "year": "2020",
                                    "ActionTaken": "discard",
                                    "ProductCode": "20"
                                },
                                {
                                    "year": "2020",
                                    "ActionTaken": "discard",
                                    "ProductCode": "17"
                                },
                                {
                                    "year": "2020",
                                    "ActionTaken": "discard",
                                    "ProductCode": "5"
                                },
                                {
                                    "year": "2020",
                                    "ActionTaken": "discard",
                                    "ProductCode": "21"
                                },
                                {
                                    "year": "2020",
                                    "ActionTaken": "discard",
                                    "ProductCode": "32"
                                },
                                {
                                    "year": "2020",
                                    "ActionTaken": "discard",
                                    "ProductCode": "12"
                                },
                                {
                                    "year": "2020",
                                    "ActionTaken": "discard",
                                    "ProductCode": "31"
                                },
                                {
                                    "year": "2020",
                                    "ActionTaken": "discard",
                                    "ProductCode": "43"
                                },
                                {
                                    "year": "2020",
                                    "ActionTaken": "discard",
                                    "ProductCode": "23"
                                },
                                {
                                    "year": "2020",
                                    "ActionTaken": "discard",
                                    "ProductCode": "31"
                                },
                                {
                                    "year": "2020",
                                    "ActionTaken": "discard",
                                    "ProductCode": "10"
                                },
                                {
                                    "year": "2020",
                                    "ActionTaken": "discard",
                                    "ProductCode": "7"
                                },
                                {
                                    "year": "2020",
                                    "ActionTaken": "discard",
                                    "ProductCode": "46"
                                },
                                {
                                    "year": "2019",
                                    "ActionTaken": "discard",
                                    "ProductCode": "30"
                                },
                                {
                                    "year": "2019",
                                    "ActionTaken": "discard",
                                    "ProductCode": "2"
                                },
                                {
                                    "year": "2019",
                                    "ActionTaken": "discard",
                                    "ProductCode": "9"
                                },
                                {
                                    "year": "2019",
                                    "ActionTaken": "discard",
                                    "ProductCode": "40"
                                },
                                {
                                    "year": "2020",
                                    "ActionTaken": "discard",
                                    "ProductCode": "41"
                                },
                                {
                                    "year": "2020",
                                    "ActionTaken": "discard",
                                    "ProductCode": "36"
                                },
                                {
                                    "year": "2020",
                                    "ActionTaken": "discard",
                                    "ProductCode": "37"
                                },
                                {
                                    "year": "2019",
                                    "ActionTaken": "discard",
                                    "ProductCode": "4"
                                },
                                {
                                    "year": "2019",
                                    "ActionTaken": "discard",
                                    "ProductCode": "38"
                                },
                                {
                                    "year": "2019",
                                    "ActionTaken": "discard",
                                    "ProductCode": "5"
                                },
                                {
                                    "year": "2019",
                                    "ActionTaken": "discard",
                                    "ProductCode": "34"
                                },
                                {
                                    "year": "2019",
                                    "ActionTaken": "discard",
                                    "ProductCode": "27"
                                },
                                {
                                    "year": "2019",
                                    "ActionTaken": "discard",
                                    "ProductCode": "1"
                                },
                                {
                                    "year": "2019",
                                    "ActionTaken": "discard",
                                    "ProductCode": "51"
                                },
                                {
                                    "year": "2019",
                                    "ActionTaken": "discard",
                                    "ProductCode": "28"
                                },
                                {
                                    "year": "2019",
                                    "ActionTaken": "discard",
                                    "ProductCode": "12"
                                },
                                {
                                    "year": "2019",
                                    "ActionTaken": "discard",
                                    "ProductCode": "37"
                                },
                                {
                                    "year": "2019",
                                    "ActionTaken": "discard",
                                    "ProductCode": "31"
                                },
                                {
                                    "year": "2019",
                                    "ActionTaken": "discard",
                                    "ProductCode": "27"
                                },
                                {
                                    "year": "2019",
                                    "ActionTaken": "discard",
                                    "ProductCode": "18"
                                },
                                {
                                    "year": "2019",
                                    "ActionTaken": "discard",
                                    "ProductCode": "34"
                                },
                                {
                                    "year": "2019",
                                    "ActionTaken": "discard",
                                    "ProductCode": "18"
                                },
                                {
                                    "year": "2019",
                                    "ActionTaken": "discard",
                                    "ProductCode": "7"
                                },
                                {
                                    "year": "2019",
                                    "ActionTaken": "discard",
                                    "ProductCode": "12"
                                },
                                {
                                    "year": "2019",
                                    "ActionTaken": "discard",
                                    "ProductCode": "1"
                                },
                                {
                                    "year": "2019",
                                    "ActionTaken": "discard",
                                    "ProductCode": "5"
                                },
                                {
                                    "year": "2019",
                                    "ActionTaken": "discard",
                                    "ProductCode": "1"
                                },
                                {
                                    "year": "2019",
                                    "ActionTaken": "discard",
                                    "ProductCode": "50"
                                },
                                {
                                    "year": "2019",
                                    "ActionTaken": "discard",
                                    "ProductCode": "32"
                                },
                                {
                                    "year": "2019",
                                    "ActionTaken": "discard",
                                    "ProductCode": "40"
                                },
                                {
                                    "year": "2019",
                                    "ActionTaken": "discard",
                                    "ProductCode": "13"
                                },
                                {
                                    "year": "2019",
                                    "ActionTaken": "discard",
                                    "ProductCode": "43"
                                },
                                {
                                    "year": "2019",
                                    "ActionTaken": "discard",
                                    "ProductCode": "7"
                                },
                                {
                                    "year": "2019",
                                    "ActionTaken": "discard",
                                    "ProductCode": "15"
                                },
                                {
                                    "year": "2019",
                                    "ActionTaken": "discard",
                                    "ProductCode": "36"
                                },
                                {
                                    "year": "2019",
                                    "ActionTaken": "discard",
                                    "ProductCode": "13"
                                },
                                {
                                    "year": "2019",
                                    "ActionTaken": "discard",
                                    "ProductCode": "1"
                                },
                                {
                                    "year": "2019",
                                    "ActionTaken": "discard",
                                    "ProductCode": "7"
                                },
                                {
                                    "year": "2019",
                                    "ActionTaken": "discard",
                                    "ProductCode": "4"
                                },
                                {
                                    "year": "2019",
                                    "ActionTaken": "discard",
                                    "ProductCode": "51"
                                },
                                {
                                    "year": "2019",
                                    "ActionTaken": "discard",
                                    "ProductCode": "21"
                                },
                                {
                                    "year": "2019",
                                    "ActionTaken": "discard",
                                    "ProductCode": "48"
                                },
                                {
                                    "year": "2019",
                                    "ActionTaken": "discard",
                                    "ProductCode": "2"
                                },
                                {
                                    "year": "2019",
                                    "ActionTaken": "discard",
                                    "ProductCode": "24"
                                },
                                {
                                    "year": "2019",
                                    "ActionTaken": "discard",
                                    "ProductCode": "20"
                                },
                                {
                                    "year": "2019",
                                    "ActionTaken": "discard",
                                    "ProductCode": "3"
                                },
                                {
                                    "year": "2019",
                                    "ActionTaken": "discard",
                                    "ProductCode": "51"
                                },
                                {
                                    "year": "2019",
                                    "ActionTaken": "discard",
                                    "ProductCode": "37"
                                },
                                {
                                    "year": "2019",
                                    "ActionTaken": "discard",
                                    "ProductCode": "7"
                                },
                                {
                                    "year": "2019",
                                    "ActionTaken": "discard",
                                    "ProductCode": "3"
                                },
                                {
                                    "year": "2019",
                                    "ActionTaken": "discard",
                                    "ProductCode": "51"
                                },
                                {
                                    "year": "2019",
                                    "ActionTaken": "discard",
                                    "ProductCode": "19"
                                },
                                {
                                    "year": "2019",
                                    "ActionTaken": "discard",
                                    "ProductCode": "5"
                                },
                                {
                                    "year": "2019",
                                    "ActionTaken": "discard",
                                    "ProductCode": "20"
                                },
                                {
                                    "year": "2019",
                                    "ActionTaken": "discard",
                                    "ProductCode": "38"
                                },
                                {
                                    "year": "2019",
                                    "ActionTaken": "discard",
                                    "ProductCode": "46"
                                },
                                {
                                    "year": "2019",
                                    "ActionTaken": "discard",
                                    "ProductCode": "47"
                                },
                                {
                                    "year": "2019",
                                    "ActionTaken": "discard",
                                    "ProductCode": "17"
                                },
                                {
                                    "year": "2019",
                                    "ActionTaken": "discard",
                                    "ProductCode": "50"
                                },
                                {
                                    "year": "2019",
                                    "ActionTaken": "discard",
                                    "ProductCode": "45"
                                },
                                {
                                    "year": "2019",
                                    "ActionTaken": "discard",
                                    "ProductCode": "33"
                                },
                                {
                                    "year": "2019",
                                    "ActionTaken": "discard",
                                    "ProductCode": "22"
                                },
                                {
                                    "year": "2019",
                                    "ActionTaken": "discard",
                                    "ProductCode": "22"
                                },
                                {
                                    "year": "2019",
                                    "ActionTaken": "discard",
                                    "ProductCode": "16"
                                },
                                {
                                    "year": "2019",
                                    "ActionTaken": "discard",
                                    "ProductCode": "47"
                                },
                                {
                                    "year": "2019",
                                    "ActionTaken": "discard",
                                    "ProductCode": "41"
                                },
                                {
                                    "year": "2019",
                                    "ActionTaken": "discard",
                                    "ProductCode": "10"
                                },
                                {
                                    "year": "2019",
                                    "ActionTaken": "discard",
                                    "ProductCode": "36"
                                },
                                {
                                    "year": "2019",
                                    "ActionTaken": "discard",
                                    "ProductCode": "9"
                                },
                                {
                                    "year": "2019",
                                    "ActionTaken": "discard",
                                    "ProductCode": "44"
                                },
                                {
                                    "year": "2019",
                                    "ActionTaken": "discard",
                                    "ProductCode": "9"
                                },
                                {
                                    "year": "2019",
                                    "ActionTaken": "discard",
                                    "ProductCode": "7"
                                },
                                {
                                    "year": "2019",
                                    "ActionTaken": "discard",
                                    "ProductCode": "34"
                                },
                                {
                                    "year": "2019",
                                    "ActionTaken": "discard",
                                    "ProductCode": "18"
                                },
                                {
                                    "year": "2019",
                                    "ActionTaken": "discard",
                                    "ProductCode": "12"
                                },
                                {
                                    "year": "2019",
                                    "ActionTaken": "discard",
                                    "ProductCode": "24"
                                },
                                {
                                    "year": "2019",
                                    "ActionTaken": "discard",
                                    "ProductCode": "27"
                                },
                                {
                                    "year": "2019",
                                    "ActionTaken": "discard",
                                    "ProductCode": "41"
                                },
                                {
                                    "year": "2019",
                                    "ActionTaken": "discard",
                                    "ProductCode": "20"
                                },
                                {
                                    "year": "2019",
                                    "ActionTaken": "discard",
                                    "ProductCode": "48"
                                },
                                {
                                    "year": "2019",
                                    "ActionTaken": "gift",
                                    "ProductCode": "37"
                                },
                                {
                                    "year": "2019",
                                    "ActionTaken": "gift",
                                    "ProductCode": "25"
                                },
                                {
                                    "year": "2019",
                                    "ActionTaken": "gift",
                                    "ProductCode": "32"
                                },
                                {
                                    "year": "2019",
                                    "ActionTaken": "gift",
                                    "ProductCode": "9"
                                },
                                {
                                    "year": "2019",
                                    "ActionTaken": "gift",
                                    "ProductCode": "12"
                                },
                                {
                                    "year": "2019",
                                    "ActionTaken": "gift",
                                    "ProductCode": "51"
                                },
                                {
                                    "year": "2019",
                                    "ActionTaken": "gift",
                                    "ProductCode": "6"
                                },
                                {
                                    "year": "2019",
                                    "ActionTaken": "gift",
                                    "ProductCode": "17"
                                },
                                {
                                    "year": "2019",
                                    "ActionTaken": "gift",
                                    "ProductCode": "1"
                                },
                                {
                                    "year": "2019",
                                    "ActionTaken": "gift",
                                    "ProductCode": "13"
                                },
                                {
                                    "year": "2019",
                                    "ActionTaken": "gift",
                                    "ProductCode": "7"
                                },
                                {
                                    "year": "2019",
                                    "ActionTaken": "gift",
                                    "ProductCode": "11"
                                },
                                {
                                    "year": "2019",
                                    "ActionTaken": "gift",
                                    "ProductCode": "28"
                                },
                                {
                                    "year": "2019",
                                    "ActionTaken": "gift",
                                    "ProductCode": "1"
                                },
                                {
                                    "year": "2019",
                                    "ActionTaken": "gift",
                                    "ProductCode": "1"
                                },
                                {
                                    "year": "2019",
                                    "ActionTaken": "gift",
                                    "ProductCode": "22"
                                },
                                {
                                    "year": "2019",
                                    "ActionTaken": "gift",
                                    "ProductCode": "26"
                                },
                                {
                                    "year": "2019",
                                    "ActionTaken": "gift",
                                    "ProductCode": "35"
                                },
                                {
                                    "year": "2019",
                                    "ActionTaken": "gift",
                                    "ProductCode": "19"
                                },
                                {
                                    "year": "2019",
                                    "ActionTaken": "gift",
                                    "ProductCode": "41"
                                },
                                {
                                    "year": "2019",
                                    "ActionTaken": "gift",
                                    "ProductCode": "37"
                                },
                                {
                                    "year": "2019",
                                    "ActionTaken": "gift",
                                    "ProductCode": "43"
                                },
                                {
                                    "year": "2019",
                                    "ActionTaken": "gift",
                                    "ProductCode": "8"
                                },
                                {
                                    "year": "2019",
                                    "ActionTaken": "gift",
                                    "ProductCode": "3"
                                },
                                {
                                    "year": "2019",
                                    "ActionTaken": "gift",
                                    "ProductCode": "44"
                                },
                                {
                                    "year": "2019",
                                    "ActionTaken": "gift",
                                    "ProductCode": "6"
                                },
                                {
                                    "year": "2019",
                                    "ActionTaken": "gift",
                                    "ProductCode": "15"
                                },
                                {
                                    "year": "2019",
                                    "ActionTaken": "gift",
                                    "ProductCode": "21"
                                },
                                {
                                    "year": "2019",
                                    "ActionTaken": "gift",
                                    "ProductCode": "31"
                                },
                                {
                                    "year": "2019",
                                    "ActionTaken": "gift",
                                    "ProductCode": "49"
                                },
                                {
                                    "year": "2019",
                                    "ActionTaken": "gift",
                                    "ProductCode": "45"
                                },
                                {
                                    "year": "2019",
                                    "ActionTaken": "gift",
                                    "ProductCode": "5"
                                },
                                {
                                    "year": "2019",
                                    "ActionTaken": "gift",
                                    "ProductCode": "4"
                                },
                                {
                                    "year": "2019",
                                    "ActionTaken": "gift",
                                    "ProductCode": "32"
                                },
                                {
                                    "year": "2019",
                                    "ActionTaken": "gift",
                                    "ProductCode": "50"
                                },
                                {
                                    "year": "2019",
                                    "ActionTaken": "gift",
                                    "ProductCode": "33"
                                },
                                {
                                    "year": "2019",
                                    "ActionTaken": "gift",
                                    "ProductCode": "22"
                                },
                                {
                                    "year": "2019",
                                    "ActionTaken": "gift",
                                    "ProductCode": "20"
                                },
                                {
                                    "year": "2019",
                                    "ActionTaken": "gift",
                                    "ProductCode": "26"
                                },
                                {
                                    "year": "2019",
                                    "ActionTaken": "gift",
                                    "ProductCode": "22"
                                },
                                {
                                    "year": "2019",
                                    "ActionTaken": "gift",
                                    "ProductCode": "7"
                                },
                                {
                                    "year": "2019",
                                    "ActionTaken": "gift",
                                    "ProductCode": "39"
                                },
                                {
                                    "year": "2019",
                                    "ActionTaken": "gift",
                                    "ProductCode": "50"
                                },
                                {
                                    "year": "2019",
                                    "ActionTaken": "gift",
                                    "ProductCode": "51"
                                },
                                {
                                    "year": "2019",
                                    "ActionTaken": "gift",
                                    "ProductCode": "26"
                                },
                                {
                                    "year": "2019",
                                    "ActionTaken": "gift",
                                    "ProductCode": "31"
                                },
                                {
                                    "year": "2019",
                                    "ActionTaken": "gift",
                                    "ProductCode": "48"
                                },
                                {
                                    "year": "2019",
                                    "ActionTaken": "gift",
                                    "ProductCode": "49"
                                },
                                {
                                    "year": "2019",
                                    "ActionTaken": "gift",
                                    "ProductCode": "26"
                                },
                                {
                                    "year": "2019",
                                    "ActionTaken": "gift",
                                    "ProductCode": "3"
                                },
                                {
                                    "year": "2019",
                                    "ActionTaken": "gift",
                                    "ProductCode": "42"
                                },
                                {
                                    "year": "2019",
                                    "ActionTaken": "gift",
                                    "ProductCode": "5"
                                },
                                {
                                    "year": "2019",
                                    "ActionTaken": "gift",
                                    "ProductCode": "48"
                                },
                                {
                                    "year": "2019",
                                    "ActionTaken": "gift",
                                    "ProductCode": "39"
                                },
                                {
                                    "year": "2019",
                                    "ActionTaken": "gift",
                                    "ProductCode": "18"
                                },
                                {
                                    "year": "2019",
                                    "ActionTaken": "gift",
                                    "ProductCode": "1"
                                },
                                {
                                    "year": "2019",
                                    "ActionTaken": "gift",
                                    "ProductCode": "42"
                                },
                                {
                                    "year": "2019",
                                    "ActionTaken": "gift",
                                    "ProductCode": "45"
                                },
                                {
                                    "year": "2019",
                                    "ActionTaken": "gift",
                                    "ProductCode": "1"
                                },
                                {
                                    "year": "2019",
                                    "ActionTaken": "gift",
                                    "ProductCode": "31"
                                },
                                {
                                    "year": "2019",
                                    "ActionTaken": "gift",
                                    "ProductCode": "2"
                                },
                                {
                                    "year": "2019",
                                    "ActionTaken": "gift",
                                    "ProductCode": "6"
                                },
                                {
                                    "year": "2019",
                                    "ActionTaken": "gift",
                                    "ProductCode": "5"
                                },
                                {
                                    "year": "2019",
                                    "ActionTaken": "gift",
                                    "ProductCode": "50"
                                },
                                {
                                    "year": "2019",
                                    "ActionTaken": "gift",
                                    "ProductCode": "41"
                                },
                                {
                                    "year": "2019",
                                    "ActionTaken": "gift",
                                    "ProductCode": "20"
                                },
                                {
                                    "year": "2019",
                                    "ActionTaken": "gift",
                                    "ProductCode": "21"
                                },
                                {
                                    "year": "2019",
                                    "ActionTaken": "gift",
                                    "ProductCode": "2"
                                },
                                {
                                    "year": "2019",
                                    "ActionTaken": "gift",
                                    "ProductCode": "22"
                                },
                                {
                                    "year": "2019",
                                    "ActionTaken": "gift",
                                    "ProductCode": "7"
                                },
                                {
                                    "year": "2019",
                                    "ActionTaken": "gift",
                                    "ProductCode": "31"
                                },
                                {
                                    "year": "2019",
                                    "ActionTaken": "gift",
                                    "ProductCode": "38"
                                },
                                {
                                    "year": "2019",
                                    "ActionTaken": "gift",
                                    "ProductCode": "50"
                                },
                                {
                                    "year": "2019",
                                    "ActionTaken": "gift",
                                    "ProductCode": "1"
                                },
                                {
                                    "year": "2019",
                                    "ActionTaken": "gift",
                                    "ProductCode": "31"
                                },
                                {
                                    "year": "2019",
                                    "ActionTaken": "gift",
                                    "ProductCode": "50"
                                },
                                {
                                    "year": "2019",
                                    "ActionTaken": "gift",
                                    "ProductCode": "3"
                                },
                                {
                                    "year": "2019",
                                    "ActionTaken": "gift",
                                    "ProductCode": "8"
                                },
                                {
                                    "year": "2019",
                                    "ActionTaken": "gift",
                                    "ProductCode": "33"
                                },
                                {
                                    "year": "2019",
                                    "ActionTaken": "gift",
                                    "ProductCode": "20"
                                },
                                {
                                    "year": "2019",
                                    "ActionTaken": "gift",
                                    "ProductCode": "3"
                                },
                                {
                                    "year": "2019",
                                    "ActionTaken": "gift",
                                    "ProductCode": "51"
                                },
                                {
                                    "year": "2019",
                                    "ActionTaken": "gift",
                                    "ProductCode": "2"
                                },
                                {
                                    "year": "2019",
                                    "ActionTaken": "gift",
                                    "ProductCode": "23"
                                },
                                {
                                    "year": "2019",
                                    "ActionTaken": "gift",
                                    "ProductCode": "11"
                                },
                                {
                                    "year": "2019",
                                    "ActionTaken": "gift",
                                    "ProductCode": "34"
                                },
                                {
                                    "year": "2019",
                                    "ActionTaken": "gift",
                                    "ProductCode": "16"
                                },
                                {
                                    "year": "2019",
                                    "ActionTaken": "gift",
                                    "ProductCode": "49"
                                },
                                {
                                    "year": "2019",
                                    "ActionTaken": "gift",
                                    "ProductCode": "16"
                                },
                                {
                                    "year": "2019",
                                    "ActionTaken": "gift",
                                    "ProductCode": "8"
                                },
                                {
                                    "year": "2019",
                                    "ActionTaken": "gift",
                                    "ProductCode": "16"
                                },
                                {
                                    "year": "2019",
                                    "ActionTaken": "gift",
                                    "ProductCode": "9"
                                },
                                {
                                    "year": "2019",
                                    "ActionTaken": "gift",
                                    "ProductCode": "42"
                                },
                                {
                                    "year": "2019",
                                    "ActionTaken": "gift",
                                    "ProductCode": "11"
                                },
                                {
                                    "year": "2019",
                                    "ActionTaken": "gift",
                                    "ProductCode": "1"
                                },
                                {
                                    "year": "2019",
                                    "ActionTaken": "gift",
                                    "ProductCode": "22"
                                },
                                {
                                    "year": "2019",
                                    "ActionTaken": "gift",
                                    "ProductCode": "23"
                                },
                                {
                                    "year": "2019",
                                    "ActionTaken": "gift",
                                    "ProductCode": "6"
                                },
                                {
                                    "year": "2020",
                                    "ActionTaken": "gift",
                                    "ProductCode": "20"
                                },
                                {
                                    "year": "2020",
                                    "ActionTaken": "gift",
                                    "ProductCode": "39"
                                },
                                {
                                    "year": "2020",
                                    "ActionTaken": "gift",
                                    "ProductCode": "37"
                                },
                                {
                                    "year": "2020",
                                    "ActionTaken": "gift",
                                    "ProductCode": "42"
                                },
                                {
                                    "year": "2020",
                                    "ActionTaken": "gift",
                                    "ProductCode": "46"
                                },
                                {
                                    "year": "2020",
                                    "ActionTaken": "gift",
                                    "ProductCode": "21"
                                },
                                {
                                    "year": "2020",
                                    "ActionTaken": "gift",
                                    "ProductCode": "12"
                                },
                                {
                                    "year": "2020",
                                    "ActionTaken": "gift",
                                    "ProductCode": "37"
                                },
                                {
                                    "year": "2020",
                                    "ActionTaken": "gift",
                                    "ProductCode": "32"
                                },
                                {
                                    "year": "2020",
                                    "ActionTaken": "gift",
                                    "ProductCode": "17"
                                },
                                {
                                    "year": "2020",
                                    "ActionTaken": "gift",
                                    "ProductCode": "47"
                                },
                                {
                                    "year": "2020",
                                    "ActionTaken": "gift",
                                    "ProductCode": "22"
                                },
                                {
                                    "year": "2020",
                                    "ActionTaken": "gift",
                                    "ProductCode": "28"
                                },
                                {
                                    "year": "2020",
                                    "ActionTaken": "gift",
                                    "ProductCode": "26"
                                },
                                {
                                    "year": "2020",
                                    "ActionTaken": "gift",
                                    "ProductCode": "51"
                                },
                                {
                                    "year": "2020",
                                    "ActionTaken": "gift",
                                    "ProductCode": "30"
                                },
                                {
                                    "year": "2020",
                                    "ActionTaken": "gift",
                                    "ProductCode": "9"
                                },
                                {
                                    "year": "2020",
                                    "ActionTaken": "gift",
                                    "ProductCode": "47"
                                },
                                {
                                    "year": "2020",
                                    "ActionTaken": "gift",
                                    "ProductCode": "22"
                                },
                                {
                                    "year": "2020",
                                    "ActionTaken": "gift",
                                    "ProductCode": "21"
                                },
                                {
                                    "year": "2020",
                                    "ActionTaken": "gift",
                                    "ProductCode": "3"
                                },
                                {
                                    "year": "2020",
                                    "ActionTaken": "gift",
                                    "ProductCode": "1"
                                },
                                {
                                    "year": "2020",
                                    "ActionTaken": "gift",
                                    "ProductCode": "1"
                                },
                                {
                                    "year": "2020",
                                    "ActionTaken": "gift",
                                    "ProductCode": "38"
                                },
                                {
                                    "year": "2020",
                                    "ActionTaken": "gift",
                                    "ProductCode": "13"
                                },
                                {
                                    "year": "2020",
                                    "ActionTaken": "gift",
                                    "ProductCode": "35"
                                },
                                {
                                    "year": "2020",
                                    "ActionTaken": "gift",
                                    "ProductCode": "32"
                                },
                                {
                                    "year": "2020",
                                    "ActionTaken": "gift",
                                    "ProductCode": "2"
                                },
                                {
                                    "year": "2020",
                                    "ActionTaken": "gift",
                                    "ProductCode": "7"
                                },
                                {
                                    "year": "2020",
                                    "ActionTaken": "gift",
                                    "ProductCode": "51"
                                },
                                {
                                    "year": "2020",
                                    "ActionTaken": "gift",
                                    "ProductCode": "43"
                                },
                                {
                                    "year": "2020",
                                    "ActionTaken": "gift",
                                    "ProductCode": "37"
                                },
                                {
                                    "year": "2020",
                                    "ActionTaken": "gift",
                                    "ProductCode": "28"
                                },
                                {
                                    "year": "2020",
                                    "ActionTaken": "gift",
                                    "ProductCode": "16"
                                },
                                {
                                    "year": "2020",
                                    "ActionTaken": "gift",
                                    "ProductCode": "5"
                                },
                                {
                                    "year": "2020",
                                    "ActionTaken": "gift",
                                    "ProductCode": "3"
                                },
                                {
                                    "year": "2020",
                                    "ActionTaken": "gift",
                                    "ProductCode": "31"
                                },
                                {
                                    "year": "2020",
                                    "ActionTaken": "gift",
                                    "ProductCode": "7"
                                },
                                {
                                    "year": "2020",
                                    "ActionTaken": "gift",
                                    "ProductCode": "7"
                                },
                                {
                                    "year": "2020",
                                    "ActionTaken": "gift",
                                    "ProductCode": "32"
                                },
                                {
                                    "year": "2020",
                                    "ActionTaken": "gift",
                                    "ProductCode": "16"
                                },
                                {
                                    "year": "2020",
                                    "ActionTaken": "gift",
                                    "ProductCode": "16"
                                },
                                {
                                    "year": "2020",
                                    "ActionTaken": "gift",
                                    "ProductCode": "49"
                                },
                                {
                                    "year": "2020",
                                    "ActionTaken": "gift",
                                    "ProductCode": "42"
                                },
                                {
                                    "year": "2020",
                                    "ActionTaken": "gift",
                                    "ProductCode": "48"
                                },
                                {
                                    "year": "2020",
                                    "ActionTaken": "gift",
                                    "ProductCode": "39"
                                },
                                {
                                    "year": "2020",
                                    "ActionTaken": "gift",
                                    "ProductCode": "1"
                                },
                                {
                                    "year": "2020",
                                    "ActionTaken": "gift",
                                    "ProductCode": "14"
                                },
                                {
                                    "year": "2020",
                                    "ActionTaken": "gift",
                                    "ProductCode": "19"
                                },
                                {
                                    "year": "2020",
                                    "ActionTaken": "gift",
                                    "ProductCode": "24"
                                },
                                {
                                    "year": "2020",
                                    "ActionTaken": "gift",
                                    "ProductCode": "42"
                                },
                                {
                                    "year": "2020",
                                    "ActionTaken": "gift",
                                    "ProductCode": "44"
                                },
                                {
                                    "year": "2020",
                                    "ActionTaken": "gift",
                                    "ProductCode": "27"
                                },
                                {
                                    "year": "2020",
                                    "ActionTaken": "gift",
                                    "ProductCode": "38"
                                },
                                {
                                    "year": "2020",
                                    "ActionTaken": "gift",
                                    "ProductCode": "38"
                                },
                                {
                                    "year": "2020",
                                    "ActionTaken": "gift",
                                    "ProductCode": "46"
                                },
                                {
                                    "year": "2020",
                                    "ActionTaken": "gift",
                                    "ProductCode": "4"
                                },
                                {
                                    "year": "2020",
                                    "ActionTaken": "gift",
                                    "ProductCode": "9"
                                },
                                {
                                    "year": "2020",
                                    "ActionTaken": "gift",
                                    "ProductCode": "49"
                                },
                                {
                                    "year": "2020",
                                    "ActionTaken": "gift",
                                    "ProductCode": "50"
                                },
                                {
                                    "year": "2020",
                                    "ActionTaken": "gift",
                                    "ProductCode": "13"
                                },
                                {
                                    "year": "2020",
                                    "ActionTaken": "gift",
                                    "ProductCode": "31"
                                },
                                {
                                    "year": "2020",
                                    "ActionTaken": "gift",
                                    "ProductCode": "18"
                                },
                                {
                                    "year": "2020",
                                    "ActionTaken": "gift",
                                    "ProductCode": "51"
                                },
                                {
                                    "year": "2020",
                                    "ActionTaken": "gift",
                                    "ProductCode": "4"
                                },
                                {
                                    "year": "2020",
                                    "ActionTaken": "gift",
                                    "ProductCode": "45"
                                },
                                {
                                    "year": "2020",
                                    "ActionTaken": "gift",
                                    "ProductCode": "15"
                                },
                                {
                                    "year": "2020",
                                    "ActionTaken": "gift",
                                    "ProductCode": "44"
                                },
                                {
                                    "year": "2020",
                                    "ActionTaken": "gift",
                                    "ProductCode": "24"
                                },
                                {
                                    "year": "2020",
                                    "ActionTaken": "gift",
                                    "ProductCode": "19"
                                },
                                {
                                    "year": "2020",
                                    "ActionTaken": "gift",
                                    "ProductCode": "13"
                                },
                                {
                                    "year": "2020",
                                    "ActionTaken": "gift",
                                    "ProductCode": "25"
                                },
                                {
                                    "year": "2020",
                                    "ActionTaken": "gift",
                                    "ProductCode": "41"
                                },
                                {
                                    "year": "2020",
                                    "ActionTaken": "gift",
                                    "ProductCode": "1"
                                },
                                {
                                    "year": "2020",
                                    "ActionTaken": "gift",
                                    "ProductCode": "21"
                                },
                                {
                                    "year": "2020",
                                    "ActionTaken": "gift",
                                    "ProductCode": "14"
                                },
                                {
                                    "year": "2020",
                                    "ActionTaken": "gift",
                                    "ProductCode": "17"
                                },
                                {
                                    "year": "2020",
                                    "ActionTaken": "gift",
                                    "ProductCode": "35"
                                },
                                {
                                    "year": "2020",
                                    "ActionTaken": "gift",
                                    "ProductCode": "48"
                                },
                                {
                                    "year": "2020",
                                    "ActionTaken": "gift",
                                    "ProductCode": "22"
                                },
                                {
                                    "year": "2020",
                                    "ActionTaken": "gift",
                                    "ProductCode": "48"
                                },
                                {
                                    "year": "2020",
                                    "ActionTaken": "gift",
                                    "ProductCode": "22"
                                },
                                {
                                    "year": "2020",
                                    "ActionTaken": "gift",
                                    "ProductCode": "15"
                                },
                                {
                                    "year": "2020",
                                    "ActionTaken": "gift",
                                    "ProductCode": "37"
                                },
                                {
                                    "year": "2020",
                                    "ActionTaken": "gift",
                                    "ProductCode": "27"
                                },
                                {
                                    "year": "2021",
                                    "ActionTaken": "gift",
                                    "ProductCode": "43"
                                },
                                {
                                    "year": "2020",
                                    "ActionTaken": "gift",
                                    "ProductCode": "40"
                                },
                                {
                                    "year": "2020",
                                    "ActionTaken": "gift",
                                    "ProductCode": "4"
                                },
                                {
                                    "year": "2020",
                                    "ActionTaken": "gift",
                                    "ProductCode": "21"
                                },
                                {
                                    "year": "2020",
                                    "ActionTaken": "gift",
                                    "ProductCode": "30"
                                },
                                {
                                    "year": "2021",
                                    "ActionTaken": "personal use",
                                    "ProductCode": "3"
                                },
                                {
                                    "year": "2021",
                                    "ActionTaken": "personal use",
                                    "ProductCode": "3"
                                },
                                {
                                    "year": "2020",
                                    "ActionTaken": "personal use",
                                    "ProductCode": "37"
                                },
                                {
                                    "year": "2020",
                                    "ActionTaken": "personal use",
                                    "ProductCode": "51"
                                },
                                {
                                    "year": "2020",
                                    "ActionTaken": "personal use",
                                    "ProductCode": "48"
                                },
                                {
                                    "year": "2020",
                                    "ActionTaken": "personal use",
                                    "ProductCode": "27"
                                },
                                {
                                    "year": "2020",
                                    "ActionTaken": "personal use",
                                    "ProductCode": "51"
                                },
                                {
                                    "year": "2020",
                                    "ActionTaken": "personal use",
                                    "ProductCode": "26"
                                },
                                {
                                    "year": "2020",
                                    "ActionTaken": "personal use",
                                    "ProductCode": "30"
                                },
                                {
                                    "year": "2020",
                                    "ActionTaken": "personal use",
                                    "ProductCode": "13"
                                },
                                {
                                    "year": "2020",
                                    "ActionTaken": "personal use",
                                    "ProductCode": "44"
                                },
                                {
                                    "year": "2020",
                                    "ActionTaken": "personal use",
                                    "ProductCode": "9"
                                },
                                {
                                    "year": "2020",
                                    "ActionTaken": "personal use",
                                    "ProductCode": "21"
                                },
                                {
                                    "year": "2020",
                                    "ActionTaken": "personal use",
                                    "ProductCode": "14"
                                },
                                {
                                    "year": "2020",
                                    "ActionTaken": "personal use",
                                    "ProductCode": "49"
                                },
                                {
                                    "year": "2020",
                                    "ActionTaken": "personal use",
                                    "ProductCode": "45"
                                },
                                {
                                    "year": "2020",
                                    "ActionTaken": "personal use",
                                    "ProductCode": "25"
                                },
                                {
                                    "year": "2020",
                                    "ActionTaken": "personal use",
                                    "ProductCode": "39"
                                },
                                {
                                    "year": "2020",
                                    "ActionTaken": "personal use",
                                    "ProductCode": "8"
                                },
                                {
                                    "year": "2020",
                                    "ActionTaken": "personal use",
                                    "ProductCode": "11"
                                },
                                {
                                    "year": "2020",
                                    "ActionTaken": "personal use",
                                    "ProductCode": "14"
                                },
                                {
                                    "year": "2020",
                                    "ActionTaken": "personal use",
                                    "ProductCode": "39"
                                },
                                {
                                    "year": "2020",
                                    "ActionTaken": "personal use",
                                    "ProductCode": "44"
                                },
                                {
                                    "year": "2020",
                                    "ActionTaken": "personal use",
                                    "ProductCode": "36"
                                },
                                {
                                    "year": "2020",
                                    "ActionTaken": "personal use",
                                    "ProductCode": "10"
                                },
                                {
                                    "year": "2020",
                                    "ActionTaken": "personal use",
                                    "ProductCode": "38"
                                },
                                {
                                    "year": "2020",
                                    "ActionTaken": "personal use",
                                    "ProductCode": "50"
                                },
                                {
                                    "year": "2020",
                                    "ActionTaken": "personal use",
                                    "ProductCode": "46"
                                },
                                {
                                    "year": "2020",
                                    "ActionTaken": "personal use",
                                    "ProductCode": "26"
                                },
                                {
                                    "year": "2020",
                                    "ActionTaken": "personal use",
                                    "ProductCode": "25"
                                },
                                {
                                    "year": "2020",
                                    "ActionTaken": "personal use",
                                    "ProductCode": "43"
                                },
                                {
                                    "year": "2020",
                                    "ActionTaken": "personal use",
                                    "ProductCode": "31"
                                },
                                {
                                    "year": "2020",
                                    "ActionTaken": "personal use",
                                    "ProductCode": "42"
                                },
                                {
                                    "year": "2020",
                                    "ActionTaken": "personal use",
                                    "ProductCode": "51"
                                },
                                {
                                    "year": "2020",
                                    "ActionTaken": "personal use",
                                    "ProductCode": "38"
                                },
                                {
                                    "year": "2020",
                                    "ActionTaken": "personal use",
                                    "ProductCode": "29"
                                },
                                {
                                    "year": "2020",
                                    "ActionTaken": "personal use",
                                    "ProductCode": "46"
                                },
                                {
                                    "year": "2020",
                                    "ActionTaken": "personal use",
                                    "ProductCode": "31"
                                },
                                {
                                    "year": "2020",
                                    "ActionTaken": "personal use",
                                    "ProductCode": "34"
                                },
                                {
                                    "year": "2020",
                                    "ActionTaken": "personal use",
                                    "ProductCode": "2"
                                },
                                {
                                    "year": "2020",
                                    "ActionTaken": "personal use",
                                    "ProductCode": "38"
                                },
                                {
                                    "year": "2020",
                                    "ActionTaken": "personal use",
                                    "ProductCode": "47"
                                },
                                {
                                    "year": "2020",
                                    "ActionTaken": "personal use",
                                    "ProductCode": "34"
                                },
                                {
                                    "year": "2020",
                                    "ActionTaken": "personal use",
                                    "ProductCode": "35"
                                },
                                {
                                    "year": "2020",
                                    "ActionTaken": "personal use",
                                    "ProductCode": "50"
                                },
                                {
                                    "year": "2020",
                                    "ActionTaken": "personal use",
                                    "ProductCode": "4"
                                },
                                {
                                    "year": "2020",
                                    "ActionTaken": "personal use",
                                    "ProductCode": "6"
                                },
                                {
                                    "year": "2020",
                                    "ActionTaken": "personal use",
                                    "ProductCode": "38"
                                },
                                {
                                    "year": "2020",
                                    "ActionTaken": "personal use",
                                    "ProductCode": "51"
                                },
                                {
                                    "year": "2020",
                                    "ActionTaken": "personal use",
                                    "ProductCode": "15"
                                },
                                {
                                    "year": "2020",
                                    "ActionTaken": "personal use",
                                    "ProductCode": "14"
                                },
                                {
                                    "year": "2020",
                                    "ActionTaken": "personal use",
                                    "ProductCode": "13"
                                },
                                {
                                    "year": "2020",
                                    "ActionTaken": "personal use",
                                    "ProductCode": "7"
                                },
                                {
                                    "year": "2020",
                                    "ActionTaken": "personal use",
                                    "ProductCode": "5"
                                },
                                {
                                    "year": "2020",
                                    "ActionTaken": "personal use",
                                    "ProductCode": "39"
                                },
                                {
                                    "year": "2020",
                                    "ActionTaken": "personal use",
                                    "ProductCode": "45"
                                },
                                {
                                    "year": "2020",
                                    "ActionTaken": "personal use",
                                    "ProductCode": "34"
                                },
                                {
                                    "year": "2020",
                                    "ActionTaken": "personal use",
                                    "ProductCode": "17"
                                },
                                {
                                    "year": "2020",
                                    "ActionTaken": "personal use",
                                    "ProductCode": "27"
                                },
                                {
                                    "year": "2020",
                                    "ActionTaken": "personal use",
                                    "ProductCode": "2"
                                },
                                {
                                    "year": "2020",
                                    "ActionTaken": "personal use",
                                    "ProductCode": "46"
                                },
                                {
                                    "year": "2020",
                                    "ActionTaken": "personal use",
                                    "ProductCode": "14"
                                },
                                {
                                    "year": "2020",
                                    "ActionTaken": "personal use",
                                    "ProductCode": "11"
                                },
                                {
                                    "year": "2020",
                                    "ActionTaken": "personal use",
                                    "ProductCode": "48"
                                },
                                {
                                    "year": "2020",
                                    "ActionTaken": "personal use",
                                    "ProductCode": "20"
                                },
                                {
                                    "year": "2020",
                                    "ActionTaken": "personal use",
                                    "ProductCode": "11"
                                },
                                {
                                    "year": "2020",
                                    "ActionTaken": "personal use",
                                    "ProductCode": "1"
                                },
                                {
                                    "year": "2020",
                                    "ActionTaken": "personal use",
                                    "ProductCode": "23"
                                },
                                {
                                    "year": "2020",
                                    "ActionTaken": "personal use",
                                    "ProductCode": "2"
                                },
                                {
                                    "year": "2020",
                                    "ActionTaken": "personal use",
                                    "ProductCode": "13"
                                },
                                {
                                    "year": "2020",
                                    "ActionTaken": "personal use",
                                    "ProductCode": "24"
                                },
                                {
                                    "year": "2020",
                                    "ActionTaken": "personal use",
                                    "ProductCode": "49"
                                },
                                {
                                    "year": "2020",
                                    "ActionTaken": "personal use",
                                    "ProductCode": "51"
                                },
                                {
                                    "year": "2020",
                                    "ActionTaken": "personal use",
                                    "ProductCode": "30"
                                },
                                {
                                    "year": "2020",
                                    "ActionTaken": "personal use",
                                    "ProductCode": "36"
                                },
                                {
                                    "year": "2020",
                                    "ActionTaken": "personal use",
                                    "ProductCode": "41"
                                },
                                {
                                    "year": "2020",
                                    "ActionTaken": "personal use",
                                    "ProductCode": "41"
                                },
                                {
                                    "year": "2020",
                                    "ActionTaken": "personal use",
                                    "ProductCode": "50"
                                },
                                {
                                    "year": "2020",
                                    "ActionTaken": "personal use",
                                    "ProductCode": "49"
                                },
                                {
                                    "year": "2020",
                                    "ActionTaken": "personal use",
                                    "ProductCode": "10"
                                },
                                {
                                    "year": "2020",
                                    "ActionTaken": "personal use",
                                    "ProductCode": "7"
                                },
                                {
                                    "year": "2019",
                                    "ActionTaken": "personal use",
                                    "ProductCode": "11"
                                },
                                {
                                    "year": "2019",
                                    "ActionTaken": "personal use",
                                    "ProductCode": "21"
                                },
                                {
                                    "year": "2020",
                                    "ActionTaken": "personal use",
                                    "ProductCode": "47"
                                },
                                {
                                    "year": "2020",
                                    "ActionTaken": "personal use",
                                    "ProductCode": "13"
                                },
                                {
                                    "year": "2020",
                                    "ActionTaken": "personal use",
                                    "ProductCode": "12"
                                },
                                {
                                    "year": "2019",
                                    "ActionTaken": "personal use",
                                    "ProductCode": "3"
                                },
                                {
                                    "year": "2019",
                                    "ActionTaken": "personal use",
                                    "ProductCode": "20"
                                },
                                {
                                    "year": "2019",
                                    "ActionTaken": "personal use",
                                    "ProductCode": "5"
                                },
                                {
                                    "year": "2019",
                                    "ActionTaken": "personal use",
                                    "ProductCode": "30"
                                },
                                {
                                    "year": "2019",
                                    "ActionTaken": "personal use",
                                    "ProductCode": "2"
                                },
                                {
                                    "year": "2019",
                                    "ActionTaken": "personal use",
                                    "ProductCode": "6"
                                },
                                {
                                    "year": "2019",
                                    "ActionTaken": "personal use",
                                    "ProductCode": "4"
                                },
                                {
                                    "year": "2019",
                                    "ActionTaken": "personal use",
                                    "ProductCode": "4"
                                },
                                {
                                    "year": "2019",
                                    "ActionTaken": "personal use",
                                    "ProductCode": "34"
                                },
                                {
                                    "year": "2019",
                                    "ActionTaken": "personal use",
                                    "ProductCode": "35"
                                },
                                {
                                    "year": "2019",
                                    "ActionTaken": "personal use",
                                    "ProductCode": "16"
                                },
                                {
                                    "year": "2019",
                                    "ActionTaken": "personal use",
                                    "ProductCode": "47"
                                },
                                {
                                    "year": "2019",
                                    "ActionTaken": "personal use",
                                    "ProductCode": "47"
                                },
                                {
                                    "year": "2019",
                                    "ActionTaken": "personal use",
                                    "ProductCode": "13"
                                },
                                {
                                    "year": "2019",
                                    "ActionTaken": "personal use",
                                    "ProductCode": "34"
                                },
                                {
                                    "year": "2019",
                                    "ActionTaken": "personal use",
                                    "ProductCode": "6"
                                },
                                {
                                    "year": "2019",
                                    "ActionTaken": "personal use",
                                    "ProductCode": "5"
                                },
                                {
                                    "year": "2019",
                                    "ActionTaken": "personal use",
                                    "ProductCode": "12"
                                },
                                {
                                    "year": "2019",
                                    "ActionTaken": "personal use",
                                    "ProductCode": "5"
                                },
                                {
                                    "year": "2019",
                                    "ActionTaken": "personal use",
                                    "ProductCode": "30"
                                },
                                {
                                    "year": "2019",
                                    "ActionTaken": "personal use",
                                    "ProductCode": "2"
                                },
                                {
                                    "year": "2019",
                                    "ActionTaken": "personal use",
                                    "ProductCode": "21"
                                },
                                {
                                    "year": "2019",
                                    "ActionTaken": "personal use",
                                    "ProductCode": "10"
                                },
                                {
                                    "year": "2019",
                                    "ActionTaken": "personal use",
                                    "ProductCode": "42"
                                },
                                {
                                    "year": "2019",
                                    "ActionTaken": "personal use",
                                    "ProductCode": "6"
                                },
                                {
                                    "year": "2019",
                                    "ActionTaken": "personal use",
                                    "ProductCode": "46"
                                },
                                {
                                    "year": "2019",
                                    "ActionTaken": "personal use",
                                    "ProductCode": "22"
                                },
                                {
                                    "year": "2019",
                                    "ActionTaken": "personal use",
                                    "ProductCode": "3"
                                },
                                {
                                    "year": "2019",
                                    "ActionTaken": "personal use",
                                    "ProductCode": "11"
                                },
                                {
                                    "year": "2019",
                                    "ActionTaken": "personal use",
                                    "ProductCode": "20"
                                },
                                {
                                    "year": "2019",
                                    "ActionTaken": "personal use",
                                    "ProductCode": "21"
                                },
                                {
                                    "year": "2019",
                                    "ActionTaken": "personal use",
                                    "ProductCode": "3"
                                },
                                {
                                    "year": "2019",
                                    "ActionTaken": "personal use",
                                    "ProductCode": "16"
                                },
                                {
                                    "year": "2019",
                                    "ActionTaken": "personal use",
                                    "ProductCode": "12"
                                },
                                {
                                    "year": "2019",
                                    "ActionTaken": "personal use",
                                    "ProductCode": "5"
                                },
                                {
                                    "year": "2019",
                                    "ActionTaken": "personal use",
                                    "ProductCode": "1"
                                },
                                {
                                    "year": "2019",
                                    "ActionTaken": "personal use",
                                    "ProductCode": "5"
                                },
                                {
                                    "year": "2019",
                                    "ActionTaken": "personal use",
                                    "ProductCode": "1"
                                },
                                {
                                    "year": "2019",
                                    "ActionTaken": "personal use",
                                    "ProductCode": "1"
                                },
                                {
                                    "year": "2019",
                                    "ActionTaken": "personal use",
                                    "ProductCode": "8"
                                },
                                {
                                    "year": "2019",
                                    "ActionTaken": "personal use",
                                    "ProductCode": "2"
                                },
                                {
                                    "year": "2019",
                                    "ActionTaken": "personal use",
                                    "ProductCode": "2"
                                },
                                {
                                    "year": "2019",
                                    "ActionTaken": "personal use",
                                    "ProductCode": "50"
                                },
                                {
                                    "year": "2019",
                                    "ActionTaken": "personal use",
                                    "ProductCode": "44"
                                },
                                {
                                    "year": "2019",
                                    "ActionTaken": "personal use",
                                    "ProductCode": "25"
                                },
                                {
                                    "year": "2019",
                                    "ActionTaken": "personal use",
                                    "ProductCode": "28"
                                },
                                {
                                    "year": "2019",
                                    "ActionTaken": "personal use",
                                    "ProductCode": "1"
                                },
                                {
                                    "year": "2019",
                                    "ActionTaken": "personal use",
                                    "ProductCode": "37"
                                },
                                {
                                    "year": "2019",
                                    "ActionTaken": "personal use",
                                    "ProductCode": "37"
                                },
                                {
                                    "year": "2019",
                                    "ActionTaken": "personal use",
                                    "ProductCode": "16"
                                },
                                {
                                    "year": "2019",
                                    "ActionTaken": "personal use",
                                    "ProductCode": "46"
                                },
                                {
                                    "year": "2019",
                                    "ActionTaken": "personal use",
                                    "ProductCode": "30"
                                },
                                {
                                    "year": "2019",
                                    "ActionTaken": "personal use",
                                    "ProductCode": "21"
                                },
                                {
                                    "year": "2019",
                                    "ActionTaken": "personal use",
                                    "ProductCode": "37"
                                },
                                {
                                    "year": "2019",
                                    "ActionTaken": "personal use",
                                    "ProductCode": "6"
                                },
                                {
                                    "year": "2019",
                                    "ActionTaken": "personal use",
                                    "ProductCode": "27"
                                },
                                {
                                    "year": "2019",
                                    "ActionTaken": "personal use",
                                    "ProductCode": "27"
                                },
                                {
                                    "year": "2019",
                                    "ActionTaken": "personal use",
                                    "ProductCode": "44"
                                },
                                {
                                    "year": "2019",
                                    "ActionTaken": "personal use",
                                    "ProductCode": "27"
                                },
                                {
                                    "year": "2019",
                                    "ActionTaken": "personal use",
                                    "ProductCode": "14"
                                },
                                {
                                    "year": "2019",
                                    "ActionTaken": "personal use",
                                    "ProductCode": "47"
                                },
                                {
                                    "year": "2019",
                                    "ActionTaken": "personal use",
                                    "ProductCode": "25"
                                },
                                {
                                    "year": "2019",
                                    "ActionTaken": "personal use",
                                    "ProductCode": "27"
                                },
                                {
                                    "year": "2019",
                                    "ActionTaken": "personal use",
                                    "ProductCode": "43"
                                },
                                {
                                    "year": "2019",
                                    "ActionTaken": "personal use",
                                    "ProductCode": "18"
                                },
                                {
                                    "year": "2019",
                                    "ActionTaken": "personal use",
                                    "ProductCode": "17"
                                },
                                {
                                    "year": "2019",
                                    "ActionTaken": "personal use",
                                    "ProductCode": "4"
                                },
                                {
                                    "year": "2019",
                                    "ActionTaken": "personal use",
                                    "ProductCode": "31"
                                },
                                {
                                    "year": "2019",
                                    "ActionTaken": "personal use",
                                    "ProductCode": "20"
                                },
                                {
                                    "year": "2019",
                                    "ActionTaken": "personal use",
                                    "ProductCode": "32"
                                },
                                {
                                    "year": "2019",
                                    "ActionTaken": "personal use",
                                    "ProductCode": "8"
                                },
                                {
                                    "year": "2019",
                                    "ActionTaken": "personal use",
                                    "ProductCode": "26"
                                },
                                {
                                    "year": "2019",
                                    "ActionTaken": "personal use",
                                    "ProductCode": "42"
                                },
                                {
                                    "year": "2019",
                                    "ActionTaken": "personal use",
                                    "ProductCode": "26"
                                },
                                {
                                    "year": "2019",
                                    "ActionTaken": "personal use",
                                    "ProductCode": "42"
                                },
                                {
                                    "year": "2019",
                                    "ActionTaken": "personal use",
                                    "ProductCode": "26"
                                },
                                {
                                    "year": "2019",
                                    "ActionTaken": "personal use",
                                    "ProductCode": "47"
                                },
                                {
                                    "year": "2019",
                                    "ActionTaken": "personal use",
                                    "ProductCode": "14"
                                },
                                {
                                    "year": "2019",
                                    "ActionTaken": "personal use",
                                    "ProductCode": "30"
                                },
                                {
                                    "year": "2019",
                                    "ActionTaken": "personal use",
                                    "ProductCode": "43"
                                },
                                {
                                    "year": "2019",
                                    "ActionTaken": "personal use",
                                    "ProductCode": "3"
                                },
                                {
                                    "year": "2019",
                                    "ActionTaken": "personal use",
                                    "ProductCode": "5"
                                },
                                {
                                    "year": "2019",
                                    "ActionTaken": "personal use",
                                    "ProductCode": "36"
                                },
                                {
                                    "year": "2019",
                                    "ActionTaken": "personal use",
                                    "ProductCode": "2"
                                },
                                {
                                    "year": "2019",
                                    "ActionTaken": "personal use",
                                    "ProductCode": "4"
                                },
                                {
                                    "year": "2019",
                                    "ActionTaken": "personal use",
                                    "ProductCode": "10"
                                },
                                {
                                    "year": "2019",
                                    "ActionTaken": "personal use",
                                    "ProductCode": "41"
                                },
                                {
                                    "year": "2019",
                                    "ActionTaken": "personal use",
                                    "ProductCode": "42"
                                },
                                {
                                    "year": "2019",
                                    "ActionTaken": "test",
                                    "ProductCode": "45"
                                }
                            ]
                        },
                        "text/html": "<table><tr><th>year</th><th>ActionTaken</th><th>ProductCode</th></tr><tr><td>2019</td><td>charity</td><td>3</td></tr><tr><td>2019</td><td>charity</td><td>4</td></tr><tr><td>2019</td><td>charity</td><td>19</td></tr><tr><td>2019</td><td>charity</td><td>20</td></tr><tr><td>2019</td><td>charity</td><td>21</td></tr><tr><td>2019</td><td>charity</td><td>11</td></tr><tr><td>2019</td><td>charity</td><td>38</td></tr><tr><td>2019</td><td>charity</td><td>19</td></tr><tr><td>2019</td><td>charity</td><td>32</td></tr><tr><td>2019</td><td>charity</td><td>19</td></tr><tr><td>2019</td><td>charity</td><td>40</td></tr><tr><td>2019</td><td>charity</td><td>50</td></tr><tr><td>2019</td><td>charity</td><td>9</td></tr><tr><td>2019</td><td>charity</td><td>50</td></tr><tr><td>2019</td><td>charity</td><td>15</td></tr><tr><td>2019</td><td>charity</td><td>32</td></tr><tr><td>2019</td><td>charity</td><td>47</td></tr><tr><td>2019</td><td>charity</td><td>27</td></tr><tr><td>2019</td><td>charity</td><td>18</td></tr><tr><td>2019</td><td>charity</td><td>1</td></tr><tr><td>2019</td><td>charity</td><td>26</td></tr><tr><td>2019</td><td>charity</td><td>2</td></tr><tr><td>2019</td><td>charity</td><td>31</td></tr><tr><td>2019</td><td>charity</td><td>16</td></tr><tr><td>2019</td><td>charity</td><td>27</td></tr><tr><td>2019</td><td>charity</td><td>13</td></tr><tr><td>2019</td><td>charity</td><td>5</td></tr><tr><td>2019</td><td>charity</td><td>6</td></tr><tr><td>2019</td><td>charity</td><td>17</td></tr><tr><td>2019</td><td>charity</td><td>22</td></tr><tr><td>2019</td><td>charity</td><td>18</td></tr><tr><td>2019</td><td>charity</td><td>31</td></tr><tr><td>2019</td><td>charity</td><td>33</td></tr><tr><td>2019</td><td>charity</td><td>3</td></tr><tr><td>2019</td><td>charity</td><td>8</td></tr><tr><td>2019</td><td>charity</td><td>20</td></tr><tr><td>2019</td><td>charity</td><td>5</td></tr><tr><td>2019</td><td>charity</td><td>21</td></tr><tr><td>2019</td><td>charity</td><td>14</td></tr><tr><td>2019</td><td>charity</td><td>13</td></tr><tr><td>2019</td><td>charity</td><td>35</td></tr><tr><td>2019</td><td>charity</td><td>14</td></tr><tr><td>2019</td><td>charity</td><td>38</td></tr><tr><td>2019</td><td>charity</td><td>22</td></tr><tr><td>2019</td><td>charity</td><td>51</td></tr><tr><td>2019</td><td>charity</td><td>26</td></tr><tr><td>2019</td><td>charity</td><td>10</td></tr><tr><td>2019</td><td>charity</td><td>25</td></tr><tr><td>2019</td><td>charity</td><td>37</td></tr><tr><td>2019</td><td>charity</td><td>32</td></tr><tr><td>2019</td><td>charity</td><td>37</td></tr><tr><td>2019</td><td>charity</td><td>13</td></tr><tr><td>2019</td><td>charity</td><td>35</td></tr><tr><td>2019</td><td>charity</td><td>20</td></tr><tr><td>2019</td><td>charity</td><td>2</td></tr><tr><td>2019</td><td>charity</td><td>36</td></tr><tr><td>2019</td><td>charity</td><td>1</td></tr><tr><td>2019</td><td>charity</td><td>2</td></tr><tr><td>2019</td><td>charity</td><td>2</td></tr><tr><td>2019</td><td>charity</td><td>3</td></tr><tr><td>2019</td><td>charity</td><td>33</td></tr><tr><td>2019</td><td>charity</td><td>49</td></tr><tr><td>2019</td><td>charity</td><td>42</td></tr><tr><td>2019</td><td>charity</td><td>42</td></tr><tr><td>2019</td><td>charity</td><td>46</td></tr><tr><td>2019</td><td>charity</td><td>23</td></tr><tr><td>2019</td><td>charity</td><td>6</td></tr><tr><td>2019</td><td>charity</td><td>48</td></tr><tr><td>2019</td><td>charity</td><td>5</td></tr><tr><td>2019</td><td>charity</td><td>13</td></tr><tr><td>2019</td><td>charity</td><td>50</td></tr><tr><td>2019</td><td>charity</td><td>41</td></tr><tr><td>2019</td><td>charity</td><td>31</td></tr><tr><td>2019</td><td>charity</td><td>35</td></tr><tr><td>2019</td><td>charity</td><td>13</td></tr><tr><td>2019</td><td>charity</td><td>25</td></tr><tr><td>2019</td><td>charity</td><td>28</td></tr><tr><td>2019</td><td>charity</td><td>3</td></tr><tr><td>2019</td><td>charity</td><td>23</td></tr><tr><td>2019</td><td>charity</td><td>25</td></tr><tr><td>2019</td><td>charity</td><td>22</td></tr><tr><td>2019</td><td>charity</td><td>9</td></tr><tr><td>2019</td><td>charity</td><td>38</td></tr><tr><td>2019</td><td>charity</td><td>50</td></tr><tr><td>2019</td><td>charity</td><td>7</td></tr><tr><td>2019</td><td>charity</td><td>20</td></tr><tr><td>2019</td><td>charity</td><td>33</td></tr><tr><td>2019</td><td>charity</td><td>20</td></tr><tr><td>2019</td><td>charity</td><td>28</td></tr><tr><td>2019</td><td>charity</td><td>33</td></tr><tr><td>2019</td><td>charity</td><td>13</td></tr><tr><td>2019</td><td>charity</td><td>20</td></tr><tr><td>2019</td><td>charity</td><td>9</td></tr><tr><td>2019</td><td>charity</td><td>1</td></tr><tr><td>2019</td><td>charity</td><td>50</td></tr><tr><td>2020</td><td>charity</td><td>23</td></tr><tr><td>2020</td><td>charity</td><td>11</td></tr><tr><td>2020</td><td>charity</td><td>9</td></tr><tr><td>2020</td><td>charity</td><td>51</td></tr><tr><td>2020</td><td>charity</td><td>40</td></tr><tr><td>2020</td><td>charity</td><td>38</td></tr><tr><td>2020</td><td>charity</td><td>29</td></tr><tr><td>2020</td><td>charity</td><td>43</td></tr><tr><td>2020</td><td>charity</td><td>51</td></tr><tr><td>2020</td><td>charity</td><td>51</td></tr><tr><td>2020</td><td>charity</td><td>19</td></tr><tr><td>2020</td><td>charity</td><td>46</td></tr><tr><td>2020</td><td>charity</td><td>13</td></tr><tr><td>2020</td><td>charity</td><td>31</td></tr><tr><td>2020</td><td>charity</td><td>6</td></tr><tr><td>2020</td><td>charity</td><td>9</td></tr><tr><td>2020</td><td>charity</td><td>20</td></tr><tr><td>2020</td><td>charity</td><td>5</td></tr><tr><td>2020</td><td>charity</td><td>15</td></tr><tr><td>2020</td><td>charity</td><td>1</td></tr><tr><td>2020</td><td>charity</td><td>24</td></tr><tr><td>2020</td><td>charity</td><td>23</td></tr><tr><td>2020</td><td>charity</td><td>10</td></tr><tr><td>2020</td><td>charity</td><td>2</td></tr><tr><td>2020</td><td>charity</td><td>25</td></tr><tr><td>2020</td><td>charity</td><td>31</td></tr><tr><td>2020</td><td>charity</td><td>27</td></tr><tr><td>2020</td><td>charity</td><td>25</td></tr><tr><td>2020</td><td>charity</td><td>17</td></tr><tr><td>2020</td><td>charity</td><td>31</td></tr><tr><td>2020</td><td>charity</td><td>26</td></tr><tr><td>2020</td><td>charity</td><td>44</td></tr><tr><td>2020</td><td>charity</td><td>46</td></tr><tr><td>2020</td><td>charity</td><td>9</td></tr><tr><td>2020</td><td>charity</td><td>21</td></tr><tr><td>2020</td><td>charity</td><td>51</td></tr><tr><td>2020</td><td>charity</td><td>13</td></tr><tr><td>2020</td><td>charity</td><td>41</td></tr><tr><td>2020</td><td>charity</td><td>12</td></tr><tr><td>2020</td><td>charity</td><td>26</td></tr><tr><td>2020</td><td>charity</td><td>16</td></tr><tr><td>2020</td><td>charity</td><td>33</td></tr><tr><td>2020</td><td>charity</td><td>2</td></tr><tr><td>2020</td><td>charity</td><td>25</td></tr><tr><td>2020</td><td>charity</td><td>43</td></tr><tr><td>2020</td><td>charity</td><td>10</td></tr><tr><td>2020</td><td>charity</td><td>11</td></tr><tr><td>2020</td><td>charity</td><td>7</td></tr><tr><td>2020</td><td>charity</td><td>22</td></tr><tr><td>2020</td><td>charity</td><td>44</td></tr><tr><td>2020</td><td>charity</td><td>16</td></tr><tr><td>2020</td><td>charity</td><td>44</td></tr><tr><td>2020</td><td>charity</td><td>20</td></tr><tr><td>2020</td><td>charity</td><td>14</td></tr><tr><td>2020</td><td>charity</td><td>9</td></tr><tr><td>2020</td><td>charity</td><td>22</td></tr><tr><td>2020</td><td>charity</td><td>38</td></tr><tr><td>2020</td><td>charity</td><td>1</td></tr><tr><td>2020</td><td>charity</td><td>1</td></tr><tr><td>2020</td><td>charity</td><td>2</td></tr><tr><td>2020</td><td>charity</td><td>14</td></tr><tr><td>2020</td><td>charity</td><td>51</td></tr><tr><td>2020</td><td>charity</td><td>20</td></tr><tr><td>2020</td><td>charity</td><td>23</td></tr><tr><td>2020</td><td>charity</td><td>6</td></tr><tr><td>2020</td><td>charity</td><td>21</td></tr><tr><td>2020</td><td>charity</td><td>26</td></tr><tr><td>2020</td><td>charity</td><td>30</td></tr><tr><td>2020</td><td>charity</td><td>46</td></tr><tr><td>2020</td><td>charity</td><td>25</td></tr><tr><td>2020</td><td>charity</td><td>25</td></tr><tr><td>2020</td><td>charity</td><td>19</td></tr><tr><td>2020</td><td>charity</td><td>38</td></tr><tr><td>2020</td><td>charity</td><td>35</td></tr><tr><td>2020</td><td>charity</td><td>43</td></tr><tr><td>2020</td><td>charity</td><td>22</td></tr><tr><td>2020</td><td>charity</td><td>8</td></tr><tr><td>2020</td><td>charity</td><td>5</td></tr><tr><td>2020</td><td>charity</td><td>28</td></tr><tr><td>2020</td><td>charity</td><td>18</td></tr><tr><td>2020</td><td>charity</td><td>33</td></tr><tr><td>2020</td><td>charity</td><td>50</td></tr><tr><td>2020</td><td>charity</td><td>22</td></tr><tr><td>2020</td><td>charity</td><td>37</td></tr><tr><td>2020</td><td>charity</td><td>1</td></tr><tr><td>2020</td><td>charity</td><td>12</td></tr><tr><td>2020</td><td>charity</td><td>34</td></tr><tr><td>2020</td><td>charity</td><td>19</td></tr><tr><td>2020</td><td>charity</td><td>45</td></tr><tr><td>2021</td><td>charity</td><td>29</td></tr><tr><td>2020</td><td>discard</td><td>37</td></tr><tr><td>2020</td><td>discard</td><td>13</td></tr><tr><td>2020</td><td>discard</td><td>5</td></tr><tr><td>2020</td><td>discard</td><td>6</td></tr><tr><td>2020</td><td>discard</td><td>33</td></tr><tr><td>2020</td><td>discard</td><td>6</td></tr><tr><td>2020</td><td>discard</td><td>30</td></tr><tr><td>2020</td><td>discard</td><td>25</td></tr><tr><td>2020</td><td>discard</td><td>27</td></tr><tr><td>2020</td><td>discard</td><td>37</td></tr><tr><td>2020</td><td>discard</td><td>37</td></tr><tr><td>2020</td><td>discard</td><td>37</td></tr><tr><td>2020</td><td>discard</td><td>37</td></tr><tr><td>2020</td><td>discard</td><td>19</td></tr><tr><td>2020</td><td>discard</td><td>8</td></tr><tr><td>2020</td><td>discard</td><td>45</td></tr><tr><td>2020</td><td>discard</td><td>43</td></tr><tr><td>2020</td><td>discard</td><td>25</td></tr><tr><td>2020</td><td>discard</td><td>41</td></tr><tr><td>2020</td><td>discard</td><td>26</td></tr><tr><td>2020</td><td>discard</td><td>39</td></tr><tr><td>2020</td><td>discard</td><td>8</td></tr><tr><td>2020</td><td>discard</td><td>29</td></tr><tr><td>2020</td><td>discard</td><td>32</td></tr><tr><td>2020</td><td>discard</td><td>38</td></tr><tr><td>2020</td><td>discard</td><td>39</td></tr><tr><td>2020</td><td>discard</td><td>13</td></tr><tr><td>2020</td><td>discard</td><td>36</td></tr><tr><td>2020</td><td>discard</td><td>31</td></tr><tr><td>2020</td><td>discard</td><td>47</td></tr><tr><td>2020</td><td>discard</td><td>16</td></tr><tr><td>2020</td><td>discard</td><td>3</td></tr><tr><td>2020</td><td>discard</td><td>42</td></tr><tr><td>2020</td><td>discard</td><td>46</td></tr><tr><td>2020</td><td>discard</td><td>47</td></tr><tr><td>2020</td><td>discard</td><td>1</td></tr><tr><td>2020</td><td>discard</td><td>8</td></tr><tr><td>2020</td><td>discard</td><td>51</td></tr><tr><td>2020</td><td>discard</td><td>36</td></tr><tr><td>2020</td><td>discard</td><td>24</td></tr><tr><td>2020</td><td>discard</td><td>46</td></tr><tr><td>2020</td><td>discard</td><td>8</td></tr><tr><td>2020</td><td>discard</td><td>17</td></tr><tr><td>2020</td><td>discard</td><td>34</td></tr><tr><td>2020</td><td>discard</td><td>48</td></tr><tr><td>2020</td><td>discard</td><td>23</td></tr><tr><td>2020</td><td>discard</td><td>3</td></tr><tr><td>2020</td><td>discard</td><td>21</td></tr><tr><td>2020</td><td>discard</td><td>18</td></tr><tr><td>2020</td><td>discard</td><td>31</td></tr><tr><td>2020</td><td>discard</td><td>9</td></tr><tr><td>2020</td><td>discard</td><td>25</td></tr><tr><td>2020</td><td>discard</td><td>40</td></tr><tr><td>2020</td><td>discard</td><td>32</td></tr><tr><td>2020</td><td>discard</td><td>27</td></tr><tr><td>2020</td><td>discard</td><td>47</td></tr><tr><td>2020</td><td>discard</td><td>34</td></tr><tr><td>2020</td><td>discard</td><td>19</td></tr><tr><td>2020</td><td>discard</td><td>48</td></tr><tr><td>2020</td><td>discard</td><td>18</td></tr><tr><td>2020</td><td>discard</td><td>7</td></tr><tr><td>2020</td><td>discard</td><td>47</td></tr><tr><td>2020</td><td>discard</td><td>7</td></tr><tr><td>2020</td><td>discard</td><td>48</td></tr><tr><td>2020</td><td>discard</td><td>37</td></tr><tr><td>2020</td><td>discard</td><td>30</td></tr><tr><td>2020</td><td>discard</td><td>51</td></tr><tr><td>2020</td><td>discard</td><td>35</td></tr><tr><td>2020</td><td>discard</td><td>40</td></tr><tr><td>2020</td><td>discard</td><td>51</td></tr><tr><td>2020</td><td>discard</td><td>47</td></tr><tr><td>2020</td><td>discard</td><td>9</td></tr><tr><td>2020</td><td>discard</td><td>10</td></tr><tr><td>2020</td><td>discard</td><td>38</td></tr><tr><td>2020</td><td>discard</td><td>11</td></tr><tr><td>2020</td><td>discard</td><td>5</td></tr><tr><td>2020</td><td>discard</td><td>8</td></tr><tr><td>2020</td><td>discard</td><td>48</td></tr><tr><td>2020</td><td>discard</td><td>1</td></tr><tr><td>2020</td><td>discard</td><td>7</td></tr><tr><td>2020</td><td>discard</td><td>4</td></tr><tr><td>2020</td><td>discard</td><td>22</td></tr><tr><td>2020</td><td>discard</td><td>23</td></tr><tr><td>2020</td><td>discard</td><td>51</td></tr><tr><td>2020</td><td>discard</td><td>39</td></tr><tr><td>2020</td><td>discard</td><td>6</td></tr><tr><td>2020</td><td>discard</td><td>49</td></tr><tr><td>2020</td><td>discard</td><td>38</td></tr><tr><td>2020</td><td>discard</td><td>34</td></tr><tr><td>2020</td><td>discard</td><td>10</td></tr><tr><td>2020</td><td>discard</td><td>20</td></tr><tr><td>2020</td><td>discard</td><td>17</td></tr><tr><td>2020</td><td>discard</td><td>5</td></tr><tr><td>2020</td><td>discard</td><td>21</td></tr><tr><td>2020</td><td>discard</td><td>32</td></tr><tr><td>2020</td><td>discard</td><td>12</td></tr><tr><td>2020</td><td>discard</td><td>31</td></tr><tr><td>2020</td><td>discard</td><td>43</td></tr><tr><td>2020</td><td>discard</td><td>23</td></tr><tr><td>2020</td><td>discard</td><td>31</td></tr><tr><td>2020</td><td>discard</td><td>10</td></tr><tr><td>2020</td><td>discard</td><td>7</td></tr><tr><td>2020</td><td>discard</td><td>46</td></tr><tr><td>2019</td><td>discard</td><td>30</td></tr><tr><td>2019</td><td>discard</td><td>2</td></tr><tr><td>2019</td><td>discard</td><td>9</td></tr><tr><td>2019</td><td>discard</td><td>40</td></tr><tr><td>2020</td><td>discard</td><td>41</td></tr><tr><td>2020</td><td>discard</td><td>36</td></tr><tr><td>2020</td><td>discard</td><td>37</td></tr><tr><td>2019</td><td>discard</td><td>4</td></tr><tr><td>2019</td><td>discard</td><td>38</td></tr><tr><td>2019</td><td>discard</td><td>5</td></tr><tr><td>2019</td><td>discard</td><td>34</td></tr><tr><td>2019</td><td>discard</td><td>27</td></tr><tr><td>2019</td><td>discard</td><td>1</td></tr><tr><td>2019</td><td>discard</td><td>51</td></tr><tr><td>2019</td><td>discard</td><td>28</td></tr><tr><td>2019</td><td>discard</td><td>12</td></tr><tr><td>2019</td><td>discard</td><td>37</td></tr><tr><td>2019</td><td>discard</td><td>31</td></tr><tr><td>2019</td><td>discard</td><td>27</td></tr><tr><td>2019</td><td>discard</td><td>18</td></tr><tr><td>2019</td><td>discard</td><td>34</td></tr><tr><td>2019</td><td>discard</td><td>18</td></tr><tr><td>2019</td><td>discard</td><td>7</td></tr><tr><td>2019</td><td>discard</td><td>12</td></tr><tr><td>2019</td><td>discard</td><td>1</td></tr><tr><td>2019</td><td>discard</td><td>5</td></tr><tr><td>2019</td><td>discard</td><td>1</td></tr><tr><td>2019</td><td>discard</td><td>50</td></tr><tr><td>2019</td><td>discard</td><td>32</td></tr><tr><td>2019</td><td>discard</td><td>40</td></tr><tr><td>2019</td><td>discard</td><td>13</td></tr><tr><td>2019</td><td>discard</td><td>43</td></tr><tr><td>2019</td><td>discard</td><td>7</td></tr><tr><td>2019</td><td>discard</td><td>15</td></tr><tr><td>2019</td><td>discard</td><td>36</td></tr><tr><td>2019</td><td>discard</td><td>13</td></tr><tr><td>2019</td><td>discard</td><td>1</td></tr><tr><td>2019</td><td>discard</td><td>7</td></tr><tr><td>2019</td><td>discard</td><td>4</td></tr><tr><td>2019</td><td>discard</td><td>51</td></tr><tr><td>2019</td><td>discard</td><td>21</td></tr><tr><td>2019</td><td>discard</td><td>48</td></tr><tr><td>2019</td><td>discard</td><td>2</td></tr><tr><td>2019</td><td>discard</td><td>24</td></tr><tr><td>2019</td><td>discard</td><td>20</td></tr><tr><td>2019</td><td>discard</td><td>3</td></tr><tr><td>2019</td><td>discard</td><td>51</td></tr><tr><td>2019</td><td>discard</td><td>37</td></tr><tr><td>2019</td><td>discard</td><td>7</td></tr><tr><td>2019</td><td>discard</td><td>3</td></tr><tr><td>2019</td><td>discard</td><td>51</td></tr><tr><td>2019</td><td>discard</td><td>19</td></tr><tr><td>2019</td><td>discard</td><td>5</td></tr><tr><td>2019</td><td>discard</td><td>20</td></tr><tr><td>2019</td><td>discard</td><td>38</td></tr><tr><td>2019</td><td>discard</td><td>46</td></tr><tr><td>2019</td><td>discard</td><td>47</td></tr><tr><td>2019</td><td>discard</td><td>17</td></tr><tr><td>2019</td><td>discard</td><td>50</td></tr><tr><td>2019</td><td>discard</td><td>45</td></tr><tr><td>2019</td><td>discard</td><td>33</td></tr><tr><td>2019</td><td>discard</td><td>22</td></tr><tr><td>2019</td><td>discard</td><td>22</td></tr><tr><td>2019</td><td>discard</td><td>16</td></tr><tr><td>2019</td><td>discard</td><td>47</td></tr><tr><td>2019</td><td>discard</td><td>41</td></tr><tr><td>2019</td><td>discard</td><td>10</td></tr><tr><td>2019</td><td>discard</td><td>36</td></tr><tr><td>2019</td><td>discard</td><td>9</td></tr><tr><td>2019</td><td>discard</td><td>44</td></tr><tr><td>2019</td><td>discard</td><td>9</td></tr><tr><td>2019</td><td>discard</td><td>7</td></tr><tr><td>2019</td><td>discard</td><td>34</td></tr><tr><td>2019</td><td>discard</td><td>18</td></tr><tr><td>2019</td><td>discard</td><td>12</td></tr><tr><td>2019</td><td>discard</td><td>24</td></tr><tr><td>2019</td><td>discard</td><td>27</td></tr><tr><td>2019</td><td>discard</td><td>41</td></tr><tr><td>2019</td><td>discard</td><td>20</td></tr><tr><td>2019</td><td>discard</td><td>48</td></tr><tr><td>2019</td><td>gift</td><td>37</td></tr><tr><td>2019</td><td>gift</td><td>25</td></tr><tr><td>2019</td><td>gift</td><td>32</td></tr><tr><td>2019</td><td>gift</td><td>9</td></tr><tr><td>2019</td><td>gift</td><td>12</td></tr><tr><td>2019</td><td>gift</td><td>51</td></tr><tr><td>2019</td><td>gift</td><td>6</td></tr><tr><td>2019</td><td>gift</td><td>17</td></tr><tr><td>2019</td><td>gift</td><td>1</td></tr><tr><td>2019</td><td>gift</td><td>13</td></tr><tr><td>2019</td><td>gift</td><td>7</td></tr><tr><td>2019</td><td>gift</td><td>11</td></tr><tr><td>2019</td><td>gift</td><td>28</td></tr><tr><td>2019</td><td>gift</td><td>1</td></tr><tr><td>2019</td><td>gift</td><td>1</td></tr><tr><td>2019</td><td>gift</td><td>22</td></tr><tr><td>2019</td><td>gift</td><td>26</td></tr><tr><td>2019</td><td>gift</td><td>35</td></tr><tr><td>2019</td><td>gift</td><td>19</td></tr><tr><td>2019</td><td>gift</td><td>41</td></tr><tr><td>2019</td><td>gift</td><td>37</td></tr><tr><td>2019</td><td>gift</td><td>43</td></tr><tr><td>2019</td><td>gift</td><td>8</td></tr><tr><td>2019</td><td>gift</td><td>3</td></tr><tr><td>2019</td><td>gift</td><td>44</td></tr><tr><td>2019</td><td>gift</td><td>6</td></tr><tr><td>2019</td><td>gift</td><td>15</td></tr><tr><td>2019</td><td>gift</td><td>21</td></tr><tr><td>2019</td><td>gift</td><td>31</td></tr><tr><td>2019</td><td>gift</td><td>49</td></tr><tr><td>2019</td><td>gift</td><td>45</td></tr><tr><td>2019</td><td>gift</td><td>5</td></tr><tr><td>2019</td><td>gift</td><td>4</td></tr><tr><td>2019</td><td>gift</td><td>32</td></tr><tr><td>2019</td><td>gift</td><td>50</td></tr><tr><td>2019</td><td>gift</td><td>33</td></tr><tr><td>2019</td><td>gift</td><td>22</td></tr><tr><td>2019</td><td>gift</td><td>20</td></tr><tr><td>2019</td><td>gift</td><td>26</td></tr><tr><td>2019</td><td>gift</td><td>22</td></tr><tr><td>2019</td><td>gift</td><td>7</td></tr><tr><td>2019</td><td>gift</td><td>39</td></tr><tr><td>2019</td><td>gift</td><td>50</td></tr><tr><td>2019</td><td>gift</td><td>51</td></tr><tr><td>2019</td><td>gift</td><td>26</td></tr><tr><td>2019</td><td>gift</td><td>31</td></tr><tr><td>2019</td><td>gift</td><td>48</td></tr><tr><td>2019</td><td>gift</td><td>49</td></tr><tr><td>2019</td><td>gift</td><td>26</td></tr><tr><td>2019</td><td>gift</td><td>3</td></tr><tr><td>2019</td><td>gift</td><td>42</td></tr><tr><td>2019</td><td>gift</td><td>5</td></tr><tr><td>2019</td><td>gift</td><td>48</td></tr><tr><td>2019</td><td>gift</td><td>39</td></tr><tr><td>2019</td><td>gift</td><td>18</td></tr><tr><td>2019</td><td>gift</td><td>1</td></tr><tr><td>2019</td><td>gift</td><td>42</td></tr><tr><td>2019</td><td>gift</td><td>45</td></tr><tr><td>2019</td><td>gift</td><td>1</td></tr><tr><td>2019</td><td>gift</td><td>31</td></tr><tr><td>2019</td><td>gift</td><td>2</td></tr><tr><td>2019</td><td>gift</td><td>6</td></tr><tr><td>2019</td><td>gift</td><td>5</td></tr><tr><td>2019</td><td>gift</td><td>50</td></tr><tr><td>2019</td><td>gift</td><td>41</td></tr><tr><td>2019</td><td>gift</td><td>20</td></tr><tr><td>2019</td><td>gift</td><td>21</td></tr><tr><td>2019</td><td>gift</td><td>2</td></tr><tr><td>2019</td><td>gift</td><td>22</td></tr><tr><td>2019</td><td>gift</td><td>7</td></tr><tr><td>2019</td><td>gift</td><td>31</td></tr><tr><td>2019</td><td>gift</td><td>38</td></tr><tr><td>2019</td><td>gift</td><td>50</td></tr><tr><td>2019</td><td>gift</td><td>1</td></tr><tr><td>2019</td><td>gift</td><td>31</td></tr><tr><td>2019</td><td>gift</td><td>50</td></tr><tr><td>2019</td><td>gift</td><td>3</td></tr><tr><td>2019</td><td>gift</td><td>8</td></tr><tr><td>2019</td><td>gift</td><td>33</td></tr><tr><td>2019</td><td>gift</td><td>20</td></tr><tr><td>2019</td><td>gift</td><td>3</td></tr><tr><td>2019</td><td>gift</td><td>51</td></tr><tr><td>2019</td><td>gift</td><td>2</td></tr><tr><td>2019</td><td>gift</td><td>23</td></tr><tr><td>2019</td><td>gift</td><td>11</td></tr><tr><td>2019</td><td>gift</td><td>34</td></tr><tr><td>2019</td><td>gift</td><td>16</td></tr><tr><td>2019</td><td>gift</td><td>49</td></tr><tr><td>2019</td><td>gift</td><td>16</td></tr><tr><td>2019</td><td>gift</td><td>8</td></tr><tr><td>2019</td><td>gift</td><td>16</td></tr><tr><td>2019</td><td>gift</td><td>9</td></tr><tr><td>2019</td><td>gift</td><td>42</td></tr><tr><td>2019</td><td>gift</td><td>11</td></tr><tr><td>2019</td><td>gift</td><td>1</td></tr><tr><td>2019</td><td>gift</td><td>22</td></tr><tr><td>2019</td><td>gift</td><td>23</td></tr><tr><td>2019</td><td>gift</td><td>6</td></tr><tr><td>2020</td><td>gift</td><td>20</td></tr><tr><td>2020</td><td>gift</td><td>39</td></tr><tr><td>2020</td><td>gift</td><td>37</td></tr><tr><td>2020</td><td>gift</td><td>42</td></tr><tr><td>2020</td><td>gift</td><td>46</td></tr><tr><td>2020</td><td>gift</td><td>21</td></tr><tr><td>2020</td><td>gift</td><td>12</td></tr><tr><td>2020</td><td>gift</td><td>37</td></tr><tr><td>2020</td><td>gift</td><td>32</td></tr><tr><td>2020</td><td>gift</td><td>17</td></tr><tr><td>2020</td><td>gift</td><td>47</td></tr><tr><td>2020</td><td>gift</td><td>22</td></tr><tr><td>2020</td><td>gift</td><td>28</td></tr><tr><td>2020</td><td>gift</td><td>26</td></tr><tr><td>2020</td><td>gift</td><td>51</td></tr><tr><td>2020</td><td>gift</td><td>30</td></tr><tr><td>2020</td><td>gift</td><td>9</td></tr><tr><td>2020</td><td>gift</td><td>47</td></tr><tr><td>2020</td><td>gift</td><td>22</td></tr><tr><td>2020</td><td>gift</td><td>21</td></tr><tr><td>2020</td><td>gift</td><td>3</td></tr><tr><td>2020</td><td>gift</td><td>1</td></tr><tr><td>2020</td><td>gift</td><td>1</td></tr><tr><td>2020</td><td>gift</td><td>38</td></tr><tr><td>2020</td><td>gift</td><td>13</td></tr><tr><td>2020</td><td>gift</td><td>35</td></tr><tr><td>2020</td><td>gift</td><td>32</td></tr><tr><td>2020</td><td>gift</td><td>2</td></tr><tr><td>2020</td><td>gift</td><td>7</td></tr><tr><td>2020</td><td>gift</td><td>51</td></tr><tr><td>2020</td><td>gift</td><td>43</td></tr><tr><td>2020</td><td>gift</td><td>37</td></tr><tr><td>2020</td><td>gift</td><td>28</td></tr><tr><td>2020</td><td>gift</td><td>16</td></tr><tr><td>2020</td><td>gift</td><td>5</td></tr><tr><td>2020</td><td>gift</td><td>3</td></tr><tr><td>2020</td><td>gift</td><td>31</td></tr><tr><td>2020</td><td>gift</td><td>7</td></tr><tr><td>2020</td><td>gift</td><td>7</td></tr><tr><td>2020</td><td>gift</td><td>32</td></tr><tr><td>2020</td><td>gift</td><td>16</td></tr><tr><td>2020</td><td>gift</td><td>16</td></tr><tr><td>2020</td><td>gift</td><td>49</td></tr><tr><td>2020</td><td>gift</td><td>42</td></tr><tr><td>2020</td><td>gift</td><td>48</td></tr><tr><td>2020</td><td>gift</td><td>39</td></tr><tr><td>2020</td><td>gift</td><td>1</td></tr><tr><td>2020</td><td>gift</td><td>14</td></tr><tr><td>2020</td><td>gift</td><td>19</td></tr><tr><td>2020</td><td>gift</td><td>24</td></tr><tr><td>2020</td><td>gift</td><td>42</td></tr><tr><td>2020</td><td>gift</td><td>44</td></tr><tr><td>2020</td><td>gift</td><td>27</td></tr><tr><td>2020</td><td>gift</td><td>38</td></tr><tr><td>2020</td><td>gift</td><td>38</td></tr><tr><td>2020</td><td>gift</td><td>46</td></tr><tr><td>2020</td><td>gift</td><td>4</td></tr><tr><td>2020</td><td>gift</td><td>9</td></tr><tr><td>2020</td><td>gift</td><td>49</td></tr><tr><td>2020</td><td>gift</td><td>50</td></tr><tr><td>2020</td><td>gift</td><td>13</td></tr><tr><td>2020</td><td>gift</td><td>31</td></tr><tr><td>2020</td><td>gift</td><td>18</td></tr><tr><td>2020</td><td>gift</td><td>51</td></tr><tr><td>2020</td><td>gift</td><td>4</td></tr><tr><td>2020</td><td>gift</td><td>45</td></tr><tr><td>2020</td><td>gift</td><td>15</td></tr><tr><td>2020</td><td>gift</td><td>44</td></tr><tr><td>2020</td><td>gift</td><td>24</td></tr><tr><td>2020</td><td>gift</td><td>19</td></tr><tr><td>2020</td><td>gift</td><td>13</td></tr><tr><td>2020</td><td>gift</td><td>25</td></tr><tr><td>2020</td><td>gift</td><td>41</td></tr><tr><td>2020</td><td>gift</td><td>1</td></tr><tr><td>2020</td><td>gift</td><td>21</td></tr><tr><td>2020</td><td>gift</td><td>14</td></tr><tr><td>2020</td><td>gift</td><td>17</td></tr><tr><td>2020</td><td>gift</td><td>35</td></tr><tr><td>2020</td><td>gift</td><td>48</td></tr><tr><td>2020</td><td>gift</td><td>22</td></tr><tr><td>2020</td><td>gift</td><td>48</td></tr><tr><td>2020</td><td>gift</td><td>22</td></tr><tr><td>2020</td><td>gift</td><td>15</td></tr><tr><td>2020</td><td>gift</td><td>37</td></tr><tr><td>2020</td><td>gift</td><td>27</td></tr><tr><td>2021</td><td>gift</td><td>43</td></tr><tr><td>2020</td><td>gift</td><td>40</td></tr><tr><td>2020</td><td>gift</td><td>4</td></tr><tr><td>2020</td><td>gift</td><td>21</td></tr><tr><td>2020</td><td>gift</td><td>30</td></tr><tr><td>2021</td><td>personal use</td><td>3</td></tr><tr><td>2021</td><td>personal use</td><td>3</td></tr><tr><td>2020</td><td>personal use</td><td>37</td></tr><tr><td>2020</td><td>personal use</td><td>51</td></tr><tr><td>2020</td><td>personal use</td><td>48</td></tr><tr><td>2020</td><td>personal use</td><td>27</td></tr><tr><td>2020</td><td>personal use</td><td>51</td></tr><tr><td>2020</td><td>personal use</td><td>26</td></tr><tr><td>2020</td><td>personal use</td><td>30</td></tr><tr><td>2020</td><td>personal use</td><td>13</td></tr><tr><td>2020</td><td>personal use</td><td>44</td></tr><tr><td>2020</td><td>personal use</td><td>9</td></tr><tr><td>2020</td><td>personal use</td><td>21</td></tr><tr><td>2020</td><td>personal use</td><td>14</td></tr><tr><td>2020</td><td>personal use</td><td>49</td></tr><tr><td>2020</td><td>personal use</td><td>45</td></tr><tr><td>2020</td><td>personal use</td><td>25</td></tr><tr><td>2020</td><td>personal use</td><td>39</td></tr><tr><td>2020</td><td>personal use</td><td>8</td></tr><tr><td>2020</td><td>personal use</td><td>11</td></tr><tr><td>2020</td><td>personal use</td><td>14</td></tr><tr><td>2020</td><td>personal use</td><td>39</td></tr><tr><td>2020</td><td>personal use</td><td>44</td></tr><tr><td>2020</td><td>personal use</td><td>36</td></tr><tr><td>2020</td><td>personal use</td><td>10</td></tr><tr><td>2020</td><td>personal use</td><td>38</td></tr><tr><td>2020</td><td>personal use</td><td>50</td></tr><tr><td>2020</td><td>personal use</td><td>46</td></tr><tr><td>2020</td><td>personal use</td><td>26</td></tr><tr><td>2020</td><td>personal use</td><td>25</td></tr><tr><td>2020</td><td>personal use</td><td>43</td></tr><tr><td>2020</td><td>personal use</td><td>31</td></tr><tr><td>2020</td><td>personal use</td><td>42</td></tr><tr><td>2020</td><td>personal use</td><td>51</td></tr><tr><td>2020</td><td>personal use</td><td>38</td></tr><tr><td>2020</td><td>personal use</td><td>29</td></tr><tr><td>2020</td><td>personal use</td><td>46</td></tr><tr><td>2020</td><td>personal use</td><td>31</td></tr><tr><td>2020</td><td>personal use</td><td>34</td></tr><tr><td>2020</td><td>personal use</td><td>2</td></tr><tr><td>2020</td><td>personal use</td><td>38</td></tr><tr><td>2020</td><td>personal use</td><td>47</td></tr><tr><td>2020</td><td>personal use</td><td>34</td></tr><tr><td>2020</td><td>personal use</td><td>35</td></tr><tr><td>2020</td><td>personal use</td><td>50</td></tr><tr><td>2020</td><td>personal use</td><td>4</td></tr><tr><td>2020</td><td>personal use</td><td>6</td></tr><tr><td>2020</td><td>personal use</td><td>38</td></tr><tr><td>2020</td><td>personal use</td><td>51</td></tr><tr><td>2020</td><td>personal use</td><td>15</td></tr><tr><td>2020</td><td>personal use</td><td>14</td></tr><tr><td>2020</td><td>personal use</td><td>13</td></tr><tr><td>2020</td><td>personal use</td><td>7</td></tr><tr><td>2020</td><td>personal use</td><td>5</td></tr><tr><td>2020</td><td>personal use</td><td>39</td></tr><tr><td>2020</td><td>personal use</td><td>45</td></tr><tr><td>2020</td><td>personal use</td><td>34</td></tr><tr><td>2020</td><td>personal use</td><td>17</td></tr><tr><td>2020</td><td>personal use</td><td>27</td></tr><tr><td>2020</td><td>personal use</td><td>2</td></tr><tr><td>2020</td><td>personal use</td><td>46</td></tr><tr><td>2020</td><td>personal use</td><td>14</td></tr><tr><td>2020</td><td>personal use</td><td>11</td></tr><tr><td>2020</td><td>personal use</td><td>48</td></tr><tr><td>2020</td><td>personal use</td><td>20</td></tr><tr><td>2020</td><td>personal use</td><td>11</td></tr><tr><td>2020</td><td>personal use</td><td>1</td></tr><tr><td>2020</td><td>personal use</td><td>23</td></tr><tr><td>2020</td><td>personal use</td><td>2</td></tr><tr><td>2020</td><td>personal use</td><td>13</td></tr><tr><td>2020</td><td>personal use</td><td>24</td></tr><tr><td>2020</td><td>personal use</td><td>49</td></tr><tr><td>2020</td><td>personal use</td><td>51</td></tr><tr><td>2020</td><td>personal use</td><td>30</td></tr><tr><td>2020</td><td>personal use</td><td>36</td></tr><tr><td>2020</td><td>personal use</td><td>41</td></tr><tr><td>2020</td><td>personal use</td><td>41</td></tr><tr><td>2020</td><td>personal use</td><td>50</td></tr><tr><td>2020</td><td>personal use</td><td>49</td></tr><tr><td>2020</td><td>personal use</td><td>10</td></tr><tr><td>2020</td><td>personal use</td><td>7</td></tr><tr><td>2019</td><td>personal use</td><td>11</td></tr><tr><td>2019</td><td>personal use</td><td>21</td></tr><tr><td>2020</td><td>personal use</td><td>47</td></tr><tr><td>2020</td><td>personal use</td><td>13</td></tr><tr><td>2020</td><td>personal use</td><td>12</td></tr><tr><td>2019</td><td>personal use</td><td>3</td></tr><tr><td>2019</td><td>personal use</td><td>20</td></tr><tr><td>2019</td><td>personal use</td><td>5</td></tr><tr><td>2019</td><td>personal use</td><td>30</td></tr><tr><td>2019</td><td>personal use</td><td>2</td></tr><tr><td>2019</td><td>personal use</td><td>6</td></tr><tr><td>2019</td><td>personal use</td><td>4</td></tr><tr><td>2019</td><td>personal use</td><td>4</td></tr><tr><td>2019</td><td>personal use</td><td>34</td></tr><tr><td>2019</td><td>personal use</td><td>35</td></tr><tr><td>2019</td><td>personal use</td><td>16</td></tr><tr><td>2019</td><td>personal use</td><td>47</td></tr><tr><td>2019</td><td>personal use</td><td>47</td></tr><tr><td>2019</td><td>personal use</td><td>13</td></tr><tr><td>2019</td><td>personal use</td><td>34</td></tr><tr><td>2019</td><td>personal use</td><td>6</td></tr><tr><td>2019</td><td>personal use</td><td>5</td></tr><tr><td>2019</td><td>personal use</td><td>12</td></tr><tr><td>2019</td><td>personal use</td><td>5</td></tr><tr><td>2019</td><td>personal use</td><td>30</td></tr><tr><td>2019</td><td>personal use</td><td>2</td></tr><tr><td>2019</td><td>personal use</td><td>21</td></tr><tr><td>2019</td><td>personal use</td><td>10</td></tr><tr><td>2019</td><td>personal use</td><td>42</td></tr><tr><td>2019</td><td>personal use</td><td>6</td></tr><tr><td>2019</td><td>personal use</td><td>46</td></tr><tr><td>2019</td><td>personal use</td><td>22</td></tr><tr><td>2019</td><td>personal use</td><td>3</td></tr><tr><td>2019</td><td>personal use</td><td>11</td></tr><tr><td>2019</td><td>personal use</td><td>20</td></tr><tr><td>2019</td><td>personal use</td><td>21</td></tr><tr><td>2019</td><td>personal use</td><td>3</td></tr><tr><td>2019</td><td>personal use</td><td>16</td></tr><tr><td>2019</td><td>personal use</td><td>12</td></tr><tr><td>2019</td><td>personal use</td><td>5</td></tr><tr><td>2019</td><td>personal use</td><td>1</td></tr><tr><td>2019</td><td>personal use</td><td>5</td></tr><tr><td>2019</td><td>personal use</td><td>1</td></tr><tr><td>2019</td><td>personal use</td><td>1</td></tr><tr><td>2019</td><td>personal use</td><td>8</td></tr><tr><td>2019</td><td>personal use</td><td>2</td></tr><tr><td>2019</td><td>personal use</td><td>2</td></tr><tr><td>2019</td><td>personal use</td><td>50</td></tr><tr><td>2019</td><td>personal use</td><td>44</td></tr><tr><td>2019</td><td>personal use</td><td>25</td></tr><tr><td>2019</td><td>personal use</td><td>28</td></tr><tr><td>2019</td><td>personal use</td><td>1</td></tr><tr><td>2019</td><td>personal use</td><td>37</td></tr><tr><td>2019</td><td>personal use</td><td>37</td></tr><tr><td>2019</td><td>personal use</td><td>16</td></tr><tr><td>2019</td><td>personal use</td><td>46</td></tr><tr><td>2019</td><td>personal use</td><td>30</td></tr><tr><td>2019</td><td>personal use</td><td>21</td></tr><tr><td>2019</td><td>personal use</td><td>37</td></tr><tr><td>2019</td><td>personal use</td><td>6</td></tr><tr><td>2019</td><td>personal use</td><td>27</td></tr><tr><td>2019</td><td>personal use</td><td>27</td></tr><tr><td>2019</td><td>personal use</td><td>44</td></tr><tr><td>2019</td><td>personal use</td><td>27</td></tr><tr><td>2019</td><td>personal use</td><td>14</td></tr><tr><td>2019</td><td>personal use</td><td>47</td></tr><tr><td>2019</td><td>personal use</td><td>25</td></tr><tr><td>2019</td><td>personal use</td><td>27</td></tr><tr><td>2019</td><td>personal use</td><td>43</td></tr><tr><td>2019</td><td>personal use</td><td>18</td></tr><tr><td>2019</td><td>personal use</td><td>17</td></tr><tr><td>2019</td><td>personal use</td><td>4</td></tr><tr><td>2019</td><td>personal use</td><td>31</td></tr><tr><td>2019</td><td>personal use</td><td>20</td></tr><tr><td>2019</td><td>personal use</td><td>32</td></tr><tr><td>2019</td><td>personal use</td><td>8</td></tr><tr><td>2019</td><td>personal use</td><td>26</td></tr><tr><td>2019</td><td>personal use</td><td>42</td></tr><tr><td>2019</td><td>personal use</td><td>26</td></tr><tr><td>2019</td><td>personal use</td><td>42</td></tr><tr><td>2019</td><td>personal use</td><td>26</td></tr><tr><td>2019</td><td>personal use</td><td>47</td></tr><tr><td>2019</td><td>personal use</td><td>14</td></tr><tr><td>2019</td><td>personal use</td><td>30</td></tr><tr><td>2019</td><td>personal use</td><td>43</td></tr><tr><td>2019</td><td>personal use</td><td>3</td></tr><tr><td>2019</td><td>personal use</td><td>5</td></tr><tr><td>2019</td><td>personal use</td><td>36</td></tr><tr><td>2019</td><td>personal use</td><td>2</td></tr><tr><td>2019</td><td>personal use</td><td>4</td></tr><tr><td>2019</td><td>personal use</td><td>10</td></tr><tr><td>2019</td><td>personal use</td><td>41</td></tr><tr><td>2019</td><td>personal use</td><td>42</td></tr><tr><td>2019</td><td>test</td><td>45</td></tr></table>"
                    },
                    "metadata": {}
                }
            ],
            "execution_count": 34
        },
        {
            "cell_type": "code",
            "source": [
                "SELECT YEAR(FullDate) AS year, \r\n",
                "       [charity], \r\n",
                "       [discard], \r\n",
                "       [gift], \r\n",
                "       [personal use], \r\n",
                "       [test]\r\n",
                "FROM (\r\n",
                "    SELECT FullDate, ActionTaken\r\n",
                "    FROM FactWaste\r\n",
                ") AS up\r\n",
                "PIVOT (\r\n",
                "    COUNT(ActionTaken) \r\n",
                "    FOR ActionTaken IN ([charity], [discard], [gift], [personal use], [test])\r\n",
                ") AS pvt\r\n",
                "WHERE YEAR(fullDate) = '2021'\r\n",
                "ORDER BY year;\r\n",
                ""
            ],
            "metadata": {
                "azdata_cell_guid": "51945675-58e1-4f6b-b4a7-ae264e73479c",
                "language": "sql"
            },
            "outputs": [
                {
                    "output_type": "display_data",
                    "data": {
                        "text/html": "(4 rows affected)"
                    },
                    "metadata": {}
                },
                {
                    "output_type": "display_data",
                    "data": {
                        "text/html": "Total execution time: 00:00:00.077"
                    },
                    "metadata": {}
                },
                {
                    "output_type": "execute_result",
                    "execution_count": 47,
                    "data": {
                        "application/vnd.dataresource+json": {
                            "schema": {
                                "fields": [
                                    {
                                        "name": "year"
                                    },
                                    {
                                        "name": "charity"
                                    },
                                    {
                                        "name": "discard"
                                    },
                                    {
                                        "name": "gift"
                                    },
                                    {
                                        "name": "personal use"
                                    },
                                    {
                                        "name": "test"
                                    }
                                ]
                            },
                            "data": [
                                {
                                    "year": "2021",
                                    "charity": "0",
                                    "discard": "0",
                                    "gift": "1",
                                    "personal use": "0",
                                    "test": "0"
                                },
                                {
                                    "year": "2021",
                                    "charity": "0",
                                    "discard": "0",
                                    "gift": "0",
                                    "personal use": "1",
                                    "test": "0"
                                },
                                {
                                    "year": "2021",
                                    "charity": "0",
                                    "discard": "0",
                                    "gift": "0",
                                    "personal use": "1",
                                    "test": "0"
                                },
                                {
                                    "year": "2021",
                                    "charity": "1",
                                    "discard": "0",
                                    "gift": "0",
                                    "personal use": "0",
                                    "test": "0"
                                }
                            ]
                        },
                        "text/html": "<table><tr><th>year</th><th>charity</th><th>discard</th><th>gift</th><th>personal use</th><th>test</th></tr><tr><td>2021</td><td>0</td><td>0</td><td>1</td><td>0</td><td>0</td></tr><tr><td>2021</td><td>0</td><td>0</td><td>0</td><td>1</td><td>0</td></tr><tr><td>2021</td><td>0</td><td>0</td><td>0</td><td>1</td><td>0</td></tr><tr><td>2021</td><td>1</td><td>0</td><td>0</td><td>0</td><td>0</td></tr></table>"
                    },
                    "metadata": {}
                }
            ],
            "execution_count": 47
        },
        {
            "cell_type": "code",
            "source": [
                "SELECT *\r\n",
                "FROM FactWaste\r\n",
                "WHERE YEAR(fullDate) = '2021'\r\n",
                "ORDER by ActionTaken\r\n",
                ""
            ],
            "metadata": {
                "language": "sql",
                "azdata_cell_guid": "b19a9891-4796-44cd-a36e-553917f01922"
            },
            "outputs": [
                {
                    "output_type": "display_data",
                    "data": {
                        "text/html": "(4 rows affected)"
                    },
                    "metadata": {}
                },
                {
                    "output_type": "display_data",
                    "data": {
                        "text/html": "Total execution time: 00:00:00.032"
                    },
                    "metadata": {}
                },
                {
                    "output_type": "execute_result",
                    "execution_count": 46,
                    "data": {
                        "application/vnd.dataresource+json": {
                            "schema": {
                                "fields": [
                                    {
                                        "name": "FullDate"
                                    },
                                    {
                                        "name": "ProductCode"
                                    },
                                    {
                                        "name": "WasteID"
                                    },
                                    {
                                        "name": "Quantity"
                                    },
                                    {
                                        "name": "Amount"
                                    },
                                    {
                                        "name": "ActionTaken"
                                    }
                                ]
                            },
                            "data": [
                                {
                                    "FullDate": "2021-01-04",
                                    "ProductCode": "29",
                                    "WasteID": "4",
                                    "Quantity": "75",
                                    "Amount": "400.36",
                                    "ActionTaken": "charity"
                                },
                                {
                                    "FullDate": "2021-01-01",
                                    "ProductCode": "43",
                                    "WasteID": "1",
                                    "Quantity": "69",
                                    "Amount": "775.04",
                                    "ActionTaken": "gift"
                                },
                                {
                                    "FullDate": "2021-01-02",
                                    "ProductCode": "3",
                                    "WasteID": "3",
                                    "Quantity": "56",
                                    "Amount": "447.60",
                                    "ActionTaken": "personal use"
                                },
                                {
                                    "FullDate": "2021-01-03",
                                    "ProductCode": "3",
                                    "WasteID": "4",
                                    "Quantity": "38",
                                    "Amount": "752.27",
                                    "ActionTaken": "personal use"
                                }
                            ]
                        },
                        "text/html": "<table><tr><th>FullDate</th><th>ProductCode</th><th>WasteID</th><th>Quantity</th><th>Amount</th><th>ActionTaken</th></tr><tr><td>2021-01-04</td><td>29</td><td>4</td><td>75</td><td>400.36</td><td>charity</td></tr><tr><td>2021-01-01</td><td>43</td><td>1</td><td>69</td><td>775.04</td><td>gift</td></tr><tr><td>2021-01-02</td><td>3</td><td>3</td><td>56</td><td>447.60</td><td>personal use</td></tr><tr><td>2021-01-03</td><td>3</td><td>4</td><td>38</td><td>752.27</td><td>personal use</td></tr></table>"
                    },
                    "metadata": {}
                }
            ],
            "execution_count": 46
        },
        {
            "cell_type": "code",
            "source": [
                "SELECT YEAR(FullDate) AS year, \n",
                "       SUM(CASE WHEN ActionTaken = 'charity' THEN 1 ELSE 0 END) AS charity,\n",
                "       SUM(CASE WHEN ActionTaken = 'discard' THEN 1 ELSE 0 END) AS discard,\n",
                "       SUM(CASE WHEN ActionTaken = 'gift' THEN 1 ELSE 0 END) AS gift,\n",
                "       SUM(CASE WHEN ActionTaken = 'personal use' THEN 1 ELSE 0 END) AS personal_use,\n",
                "       SUM(CASE WHEN ActionTaken = 'test' THEN 1 ELSE 0 END) AS test\n",
                "FROM FactWaste\n",
                "GROUP BY YEAR(FullDate)\n",
                "ORDER BY year;\n",
                ""
            ],
            "metadata": {
                "azdata_cell_guid": "69cb095c-25e5-4c42-aafa-e20cbeccb28e",
                "language": "sql"
            },
            "outputs": [],
            "execution_count": null
        }
    ]
}