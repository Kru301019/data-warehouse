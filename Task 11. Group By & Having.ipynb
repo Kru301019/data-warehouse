{
    "metadata": {
        "kernelspec": {
            "name": "SQL",
            "display_name": "SQL",
            "language": "sql"
        },
        "language_info": {
            "name": "sql",
            "version": ""
        }
    },
    "nbformat_minor": 2,
    "nbformat": 4,
    "cells": [
        {
            "cell_type": "code",
            "source": [
                "SELECT\r\n",
                "    sum(FactSales.TransactionNo) as numOdTrans, MONTH(FullDateTime) as month\r\n",
                "from DimTransactionType\r\n",
                "    join FactSales on FactSales.TransactionNo = DimTransactionType.TransactionNo\r\n",
                "WHERE YEAR(FullDateTime) = '2019'\r\n",
                "GROUP by MONTH(FullDateTime)\r\n",
                "ORDER by [month]\r\n",
                ""
            ],
            "metadata": {
                "azdata_cell_guid": "95e3c954-8948-4fc0-8082-af4e5d9a9202",
                "language": "sql",
                "tags": []
            },
            "outputs": [
                {
                    "output_type": "display_data",
                    "data": {
                        "text/html": "(12 rows affected)"
                    },
                    "metadata": {}
                },
                {
                    "output_type": "display_data",
                    "data": {
                        "text/html": "Total execution time: 00:00:00.013"
                    },
                    "metadata": {}
                },
                {
                    "output_type": "execute_result",
                    "metadata": {},
                    "execution_count": 22,
                    "data": {
                        "application/vnd.dataresource+json": {
                            "schema": {
                                "fields": [
                                    {
                                        "name": "numOdTrans"
                                    },
                                    {
                                        "name": "month"
                                    }
                                ]
                            },
                            "data": [
                                {
                                    "numOdTrans": "550",
                                    "month": "1"
                                },
                                {
                                    "numOdTrans": "607",
                                    "month": "2"
                                },
                                {
                                    "numOdTrans": "594",
                                    "month": "3"
                                },
                                {
                                    "numOdTrans": "623",
                                    "month": "4"
                                },
                                {
                                    "numOdTrans": "681",
                                    "month": "5"
                                },
                                {
                                    "numOdTrans": "654",
                                    "month": "6"
                                },
                                {
                                    "numOdTrans": "682",
                                    "month": "7"
                                },
                                {
                                    "numOdTrans": "643",
                                    "month": "8"
                                },
                                {
                                    "numOdTrans": "628",
                                    "month": "9"
                                },
                                {
                                    "numOdTrans": "671",
                                    "month": "10"
                                },
                                {
                                    "numOdTrans": "575",
                                    "month": "11"
                                },
                                {
                                    "numOdTrans": "641",
                                    "month": "12"
                                }
                            ]
                        },
                        "text/html": [
                            "<table>",
                            "<tr><th>numOdTrans</th><th>month</th></tr>",
                            "<tr><td>550</td><td>1</td></tr>",
                            "<tr><td>607</td><td>2</td></tr>",
                            "<tr><td>594</td><td>3</td></tr>",
                            "<tr><td>623</td><td>4</td></tr>",
                            "<tr><td>681</td><td>5</td></tr>",
                            "<tr><td>654</td><td>6</td></tr>",
                            "<tr><td>682</td><td>7</td></tr>",
                            "<tr><td>643</td><td>8</td></tr>",
                            "<tr><td>628</td><td>9</td></tr>",
                            "<tr><td>671</td><td>10</td></tr>",
                            "<tr><td>575</td><td>11</td></tr>",
                            "<tr><td>641</td><td>12</td></tr>",
                            "</table>"
                        ]
                    }
                }
            ],
            "execution_count": 22
        },
        {
            "cell_type": "code",
            "source": [
                "SELECT DE.EmployeeFirstName, DE.EmployeeLastName, COUNT(FS.SalesAmount)\r\n",
                "from FactSales FS\r\n",
                "JOIN DimEmployee DE on FS.EmployeeID = DE.EmployeeID \r\n",
                "GROUP by DE.EmployeeFirstName, DE.EmployeeLastName\r\n",
                "HAVING COUNT(FS.SalesAmount) > 150\r\n",
                "ORDER by COUNT(FS.SalesAmount) DESC;"
            ],
            "metadata": {
                "azdata_cell_guid": "e26fbe73-0240-44be-9200-3afd3a6c3083",
                "language": "sql"
            },
            "outputs": [
                {
                    "output_type": "display_data",
                    "data": {
                        "text/html": "(8 rows affected)"
                    },
                    "metadata": {}
                },
                {
                    "output_type": "display_data",
                    "data": {
                        "text/html": "Total execution time: 00:00:00.026"
                    },
                    "metadata": {}
                },
                {
                    "output_type": "execute_result",
                    "metadata": {},
                    "execution_count": 35,
                    "data": {
                        "application/vnd.dataresource+json": {
                            "schema": {
                                "fields": [
                                    {
                                        "name": "EmployeeFirstName"
                                    },
                                    {
                                        "name": "EmployeeLastName"
                                    },
                                    {
                                        "name": "(No column name)"
                                    }
                                ]
                            },
                            "data": [
                                {
                                    "EmployeeFirstName": "Gerrie",
                                    "EmployeeLastName": "Hogsden",
                                    "(No column name)": "169"
                                },
                                {
                                    "EmployeeFirstName": "Germain",
                                    "EmployeeLastName": "Volk",
                                    "(No column name)": "168"
                                },
                                {
                                    "EmployeeFirstName": "Chelsie",
                                    "EmployeeLastName": "M'Barron",
                                    "(No column name)": "163"
                                },
                                {
                                    "EmployeeFirstName": "Eileen",
                                    "EmployeeLastName": "Rouse",
                                    "(No column name)": "159"
                                },
                                {
                                    "EmployeeFirstName": "Carlina",
                                    "EmployeeLastName": "Stopp",
                                    "(No column name)": "159"
                                },
                                {
                                    "EmployeeFirstName": "Konstantin",
                                    "EmployeeLastName": "Philipou",
                                    "(No column name)": "158"
                                },
                                {
                                    "EmployeeFirstName": "Lesly",
                                    "EmployeeLastName": "Pound",
                                    "(No column name)": "157"
                                },
                                {
                                    "EmployeeFirstName": "Storm",
                                    "EmployeeLastName": "Morad",
                                    "(No column name)": "156"
                                }
                            ]
                        },
                        "text/html": [
                            "<table>",
                            "<tr><th>EmployeeFirstName</th><th>EmployeeLastName</th><th>(No column name)</th></tr>",
                            "<tr><td>Gerrie</td><td>Hogsden</td><td>169</td></tr>",
                            "<tr><td>Germain</td><td>Volk</td><td>168</td></tr>",
                            "<tr><td>Chelsie</td><td>M&#39;Barron</td><td>163</td></tr>",
                            "<tr><td>Eileen</td><td>Rouse</td><td>159</td></tr>",
                            "<tr><td>Carlina</td><td>Stopp</td><td>159</td></tr>",
                            "<tr><td>Konstantin</td><td>Philipou</td><td>158</td></tr>",
                            "<tr><td>Lesly</td><td>Pound</td><td>157</td></tr>",
                            "<tr><td>Storm</td><td>Morad</td><td>156</td></tr>",
                            "</table>"
                        ]
                    }
                }
            ],
            "execution_count": 35
        },
        {
            "cell_type": "markdown",
            "source": [
                "<span style=\"font-size: 11pt; font-family: Arial, sans-serif; color: rgb(0, 0, 0); background-color: transparent; font-variant-numeric: normal; font-variant-east-asian: normal; font-variant-alternates: normal; font-variant-position: normal; vertical-align: baseline; white-space-collapse: preserve;\">List the amount of waste per month that is gifted</span>"
            ],
            "metadata": {
                "azdata_cell_guid": "88f345e2-e71b-46d0-b7c1-a5cc66b9d6c7"
            },
            "attachments": {}
        },
        {
            "cell_type": "code",
            "source": [
                "SELECT  COUNT(Amount), ActionTaken\r\n",
                "from FactWaste \r\n",
                "GROUP by ActionTaken\r\n",
                ""
            ],
            "metadata": {
                "azdata_cell_guid": "02f046e4-709b-4b7e-886c-65e0575c234f",
                "language": "sql"
            },
            "outputs": [
                {
                    "output_type": "display_data",
                    "data": {
                        "text/html": "(5 rows affected)"
                    },
                    "metadata": {}
                },
                {
                    "output_type": "display_data",
                    "data": {
                        "text/html": "Total execution time: 00:00:00.015"
                    },
                    "metadata": {}
                },
                {
                    "output_type": "execute_result",
                    "metadata": {},
                    "execution_count": 45,
                    "data": {
                        "application/vnd.dataresource+json": {
                            "schema": {
                                "fields": [
                                    {
                                        "name": "(No column name)"
                                    },
                                    {
                                        "name": "ActionTaken"
                                    }
                                ]
                            },
                            "data": [
                                {
                                    "(No column name)": "185",
                                    "ActionTaken": "charity"
                                },
                                {
                                    "(No column name)": "183",
                                    "ActionTaken": "discard"
                                },
                                {
                                    "(No column name)": "188",
                                    "ActionTaken": "gift"
                                },
                                {
                                    "(No column name)": "174",
                                    "ActionTaken": "personal use"
                                },
                                {
                                    "(No column name)": "1",
                                    "ActionTaken": "test"
                                }
                            ]
                        },
                        "text/html": [
                            "<table>",
                            "<tr><th>(No column name)</th><th>ActionTaken</th></tr>",
                            "<tr><td>185</td><td>charity</td></tr>",
                            "<tr><td>183</td><td>discard</td></tr>",
                            "<tr><td>188</td><td>gift</td></tr>",
                            "<tr><td>174</td><td>personal use</td></tr>",
                            "<tr><td>1</td><td>test</td></tr>",
                            "</table>"
                        ]
                    }
                }
            ],
            "execution_count": 45
        },
        {
            "cell_type": "markdown",
            "source": [
                "<span style=\"font-size: 11pt; font-family: Arial, sans-serif; color: rgb(0, 0, 0); background-color: transparent; font-variant-numeric: normal; font-variant-east-asian: normal; font-variant-alternates: normal; font-variant-position: normal; vertical-align: baseline; white-space-collapse: preserve;\">List how many different waste actions occurred per month in 2020</span>"
            ],
            "metadata": {
                "azdata_cell_guid": "89ad7f12-25f6-4e7e-94c7-e1bf0105647a"
            },
            "attachments": {}
        },
        {
            "cell_type": "code",
            "source": [
                "SELECT FORMAT(FullDate, 'MMM') as month, COUNT(ActionTaken) as numAction\r\n",
                "from FactWaste\r\n",
                "where YEAR(FullDate) = 2020\r\n",
                "GROUP by  FORMAT(FullDate, 'MMM')\r\n",
                ""
            ],
            "metadata": {
                "azdata_cell_guid": "4c1e29c7-820e-4a22-94c9-8596d837bf47",
                "language": "sql"
            },
            "outputs": [
                {
                    "output_type": "display_data",
                    "data": {
                        "text/html": "(12 rows affected)"
                    },
                    "metadata": {}
                },
                {
                    "output_type": "display_data",
                    "data": {
                        "text/html": "Total execution time: 00:00:00.032"
                    },
                    "metadata": {}
                },
                {
                    "output_type": "execute_result",
                    "metadata": {},
                    "execution_count": 65,
                    "data": {
                        "application/vnd.dataresource+json": {
                            "schema": {
                                "fields": [
                                    {
                                        "name": "month"
                                    },
                                    {
                                        "name": "numAction"
                                    }
                                ]
                            },
                            "data": [
                                {
                                    "month": "Apr",
                                    "numAction": "30"
                                },
                                {
                                    "month": "Aug",
                                    "numAction": "31"
                                },
                                {
                                    "month": "Dec",
                                    "numAction": "31"
                                },
                                {
                                    "month": "Feb",
                                    "numAction": "29"
                                },
                                {
                                    "month": "Jan",
                                    "numAction": "31"
                                },
                                {
                                    "month": "Jul",
                                    "numAction": "31"
                                },
                                {
                                    "month": "Jun",
                                    "numAction": "30"
                                },
                                {
                                    "month": "Mar",
                                    "numAction": "31"
                                },
                                {
                                    "month": "May",
                                    "numAction": "31"
                                },
                                {
                                    "month": "Nov",
                                    "numAction": "30"
                                },
                                {
                                    "month": "Oct",
                                    "numAction": "31"
                                },
                                {
                                    "month": "Sep",
                                    "numAction": "30"
                                }
                            ]
                        },
                        "text/html": [
                            "<table>",
                            "<tr><th>month</th><th>numAction</th></tr>",
                            "<tr><td>Apr</td><td>30</td></tr>",
                            "<tr><td>Aug</td><td>31</td></tr>",
                            "<tr><td>Dec</td><td>31</td></tr>",
                            "<tr><td>Feb</td><td>29</td></tr>",
                            "<tr><td>Jan</td><td>31</td></tr>",
                            "<tr><td>Jul</td><td>31</td></tr>",
                            "<tr><td>Jun</td><td>30</td></tr>",
                            "<tr><td>Mar</td><td>31</td></tr>",
                            "<tr><td>May</td><td>31</td></tr>",
                            "<tr><td>Nov</td><td>30</td></tr>",
                            "<tr><td>Oct</td><td>31</td></tr>",
                            "<tr><td>Sep</td><td>30</td></tr>",
                            "</table>"
                        ]
                    }
                }
            ],
            "execution_count": 65
        },
        {
            "cell_type": "markdown",
            "source": [
                "<span style=\"font-size: 11pt; font-family: Arial, sans-serif; color: rgb(0, 0, 0); background-color: transparent; font-variant-numeric: normal; font-variant-east-asian: normal; font-variant-alternates: normal; font-variant-position: normal; vertical-align: baseline; white-space-collapse: preserve;\">What is the minimum and maximum amount of waste for January 2019 per different actions</span>"
            ],
            "metadata": {
                "azdata_cell_guid": "a584c843-4a0d-4b3e-bf0e-8c51b837f1f6"
            },
            "attachments": {}
        },
        {
            "cell_type": "code",
            "source": [
                "SELECT MIN(Amount) as min, MAX(Amount) as max, ActionTaken\r\n",
                "from FactWaste\r\n",
                "where year(FullDate) = 2019 and MONTH(FullDate) = 1\r\n",
                "GROUP by ActionTaken\r\n",
                ""
            ],
            "metadata": {
                "azdata_cell_guid": "760a98e8-4355-472b-af27-b120b76a4bbd",
                "language": "sql"
            },
            "outputs": [
                {
                    "output_type": "display_data",
                    "data": {
                        "text/html": "(4 rows affected)"
                    },
                    "metadata": {}
                },
                {
                    "output_type": "display_data",
                    "data": {
                        "text/html": "Total execution time: 00:00:00.017"
                    },
                    "metadata": {}
                },
                {
                    "output_type": "execute_result",
                    "metadata": {},
                    "execution_count": 80,
                    "data": {
                        "application/vnd.dataresource+json": {
                            "schema": {
                                "fields": [
                                    {
                                        "name": "min"
                                    },
                                    {
                                        "name": "max"
                                    },
                                    {
                                        "name": "ActionTaken"
                                    }
                                ]
                            },
                            "data": [
                                {
                                    "min": "154.14",
                                    "max": "840.89",
                                    "ActionTaken": "charity"
                                },
                                {
                                    "min": "355.28",
                                    "max": "491.88",
                                    "ActionTaken": "discard"
                                },
                                {
                                    "min": "188.61",
                                    "max": "744.86",
                                    "ActionTaken": "gift"
                                },
                                {
                                    "min": "128.79",
                                    "max": "857.44",
                                    "ActionTaken": "personal use"
                                }
                            ]
                        },
                        "text/html": [
                            "<table>",
                            "<tr><th>min</th><th>max</th><th>ActionTaken</th></tr>",
                            "<tr><td>154.14</td><td>840.89</td><td>charity</td></tr>",
                            "<tr><td>355.28</td><td>491.88</td><td>discard</td></tr>",
                            "<tr><td>188.61</td><td>744.86</td><td>gift</td></tr>",
                            "<tr><td>128.79</td><td>857.44</td><td>personal use</td></tr>",
                            "</table>"
                        ]
                    }
                }
            ],
            "execution_count": 80
        },
        {
            "cell_type": "markdown",
            "source": [
                "<span style=\"font-size: 11pt; font-family: Arial, sans-serif; color: rgb(0, 0, 0); background-color: transparent; font-variant-numeric: normal; font-variant-east-asian: normal; font-variant-alternates: normal; font-variant-position: normal; vertical-align: baseline; white-space-collapse: preserve;\">What is the amount of waste and the quantity of waste per month when the quantity of waste is at least 30.</span>"
            ],
            "metadata": {
                "azdata_cell_guid": "d5976dd0-9b14-4009-82e0-ad7537e0b914"
            },
            "attachments": {}
        },
        {
            "cell_type": "code",
            "source": [
                "SELECT FORMAT(FullDate, 'MMM') as month, COUNT(Amount) as qty, sum(Amount) as amount\r\n",
                "from FactWaste\r\n",
                "GROUP by FORMAT(FullDate, 'MMM')\r\n",
                "HAVING COUNT(Amount) > 60\r\n",
                ""
            ],
            "metadata": {
                "azdata_cell_guid": "e239712d-0139-4d5b-8ba5-d3acedf9b4a9",
                "language": "sql"
            },
            "outputs": [
                {
                    "output_type": "display_data",
                    "data": {
                        "text/html": "(7 rows affected)"
                    },
                    "metadata": {}
                },
                {
                    "output_type": "display_data",
                    "data": {
                        "text/html": "Total execution time: 00:00:00.038"
                    },
                    "metadata": {}
                },
                {
                    "output_type": "execute_result",
                    "metadata": {},
                    "execution_count": 89,
                    "data": {
                        "application/vnd.dataresource+json": {
                            "schema": {
                                "fields": [
                                    {
                                        "name": "month"
                                    },
                                    {
                                        "name": "qty"
                                    },
                                    {
                                        "name": "amount"
                                    }
                                ]
                            },
                            "data": [
                                {
                                    "month": "Aug",
                                    "qty": "62",
                                    "amount": "30797.00"
                                },
                                {
                                    "month": "Dec",
                                    "qty": "62",
                                    "amount": "29836.16"
                                },
                                {
                                    "month": "Jan",
                                    "qty": "61",
                                    "amount": "29596.02"
                                },
                                {
                                    "month": "Jul",
                                    "qty": "62",
                                    "amount": "32151.49"
                                },
                                {
                                    "month": "Mar",
                                    "qty": "62",
                                    "amount": "33839.29"
                                },
                                {
                                    "month": "May",
                                    "qty": "63",
                                    "amount": "33302.44"
                                },
                                {
                                    "month": "Oct",
                                    "qty": "62",
                                    "amount": "31848.11"
                                }
                            ]
                        },
                        "text/html": [
                            "<table>",
                            "<tr><th>month</th><th>qty</th><th>amount</th></tr>",
                            "<tr><td>Aug</td><td>62</td><td>30797.00</td></tr>",
                            "<tr><td>Dec</td><td>62</td><td>29836.16</td></tr>",
                            "<tr><td>Jan</td><td>61</td><td>29596.02</td></tr>",
                            "<tr><td>Jul</td><td>62</td><td>32151.49</td></tr>",
                            "<tr><td>Mar</td><td>62</td><td>33839.29</td></tr>",
                            "<tr><td>May</td><td>63</td><td>33302.44</td></tr>",
                            "<tr><td>Oct</td><td>62</td><td>31848.11</td></tr>",
                            "</table>"
                        ]
                    }
                }
            ],
            "execution_count": 89
        }
    ]
}